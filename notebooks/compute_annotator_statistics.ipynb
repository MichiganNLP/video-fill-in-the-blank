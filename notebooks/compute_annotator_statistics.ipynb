{
 "cells": [
  {
   "cell_type": "markdown",
   "metadata": {},
   "source": [
    "# Test annotated data"
   ]
  },
  {
   "cell_type": "code",
   "execution_count": 1,
   "metadata": {},
   "outputs": [],
   "source": [
    "import json\n",
    "annotated_data = json.load(open('../data/val.json'))"
   ]
  },
  {
   "cell_type": "code",
   "execution_count": 2,
   "metadata": {},
   "outputs": [
    {
     "name": "stdout",
     "output_type": "stream",
     "text": [
      "[{\"video_id\": \"cfBtVPEwqIo\", \"video_start_time\": 5, \"video_end_time\": 15, \"caption\": \"In a gym with someone spotting him, a man is lifting weights performing squats in a squat rack.\", \"masked_caption\": \"In a gym with someone spotting him, a man is lifting _____ performing squats in a squat rack.\", \"label\": \"weights\", \"additional_answers\": [[\"a weight\", \"some weights\", \"a squat bar\"], [\"weight\", \"a bar\"], [\"weights\", \"a heavy load\"], [\"weights\", \"a lot of weight\"], [\"weights\", \"a barbell\", \"a weight\"], [\"weights\", \"405 lb\"]]}, {\"video_id\": \"P7CgvqGhidw\", \"video_start_time\": 73, \"video_end_time\": 83, \"caption\": \"A couple of people on stage playing music while in front of other people.\", \"masked_caption\": \"A couple of people on stage playing music while in _____ of other people.\", \"label\": \"front\", \"additional_answers\": [[\"close proximity\", \"close comfort\"], [\"front\", \"a room full\"], [\"front\", \"view\"], [\"entretaining\", \"talking\"], [\"front\", \"the way\"], [\"concert\", \"room\"]]}, {\"video_id\": \"1DSNpTTsJJ4\", \"video_start_time\": 6, \"video_end_time\": 16, \"caption\": \"Two boys are dancing in the same fashion in unison with one another.\", \"masked_caption\": \"_____ are dancing in the same fashion in unison with one another.\", \"label\": \"Two boys\", \"additional_answers\": [[\"Two guys\", \"Two men\", \"Two people\", \"Two boys\", \"Two dancers\"], [\"kids\", \"boys\"], [\"Young boys\", \"Dancers\", \"Adolescents\"], [\"Tow kids\", \"Children\"], [\"People\", \"Guys\", \"Boys\", \"Friends\", \"Brothers\"], [\"boys\", \"men\"]]}, {\"video_id\": \"IRlCDEI7R_Q\", \"video_start_time\": 157, \"video_end_time\": 167, \"caption\": \"A stainless steel bowl of cut up fruit is twisted in time to music, a hand reaches for a bite of fruit which a face eats and the face's body appears holding the bowl of fruit.\", \"masked_caption\": \"A stainless steel bowl of _____ is twisted in time to music, a hand reaches for a bite of fruit which a face eats and the face's body appears holding the bowl of fruit.\", \"label\": \"cut up fruit\", \"additional_answers\": [[\"fruit\", \"fruit salad\", \"food\"], [\"fruit\", \"salad\"], [\"fruit\", \"food\"], [\"chopped food\", \"salad\"], [\"fruit\", \"tomato\", \"olives\", \"pineapple\"], [\"fruit\", \"salad\"]]}, {\"video_id\": \"XxY0Z47n7pg\", \"video_start_time\": 80, \"video_end_time\": 90, \"caption\": \"A man stands on a jetski and rides it along the water then waves his hand in the air and speeds up.\", \"masked_caption\": \"A man stands on a jetski and rides _____ along the water then waves his hand in the air and speeds up.\", \"label\": \"it\", \"additional_answers\": [[\"the water\", \"the waves\", \"the wake\"], [\"a jetski\"], [\"standing up\"], [\"it\"], [\"it\", \"the jetski\", \"waves\"], [\"skis\", \"boat\"]]}, {\"video_id\": \"hy7xI8-xSOE\", \"video_start_time\": 31, \"video_end_time\": 41, \"caption\": \"Several people engage in a competition to stomp something on a patio.\", \"masked_caption\": \"Several people engage in a competition to stomp _____ on a patio.\", \"label\": \"something\", \"additional_answers\": [[\"their feet\", \"grapes\"], [\"grapes\", \"small berries\", \"plants\"], [\"grapes\", \"fruit\"], [\"grapes\"], [\"grapes\", \"buckets full of grapes\"], [\"grape\", \"fruit\"]]}, {\"video_id\": \"aNr1Za9eHbs\", \"video_start_time\": 8, \"video_end_time\": 18, \"caption\": \"A woman laying down massages another with her feet while the other asks her to continue.\", \"masked_caption\": \"_____ laying down massages another with her feet while the other asks her to continue.\", \"label\": \"A woman\", \"additional_answers\": [[\"A woman\", \"A person\"], [\"A girl\", \"A person\", \"A lady\", \"A woman\"], [\"A girl\", \"A woman\", \"A person\"], [\"a person\", \"someone\"], [\"a girl\", \"a person\"]]}, {\"video_id\": \"i1A0qQHDBHk\", \"video_start_time\": 2, \"video_end_time\": 12, \"caption\": \"Two girls are standing on a mat competing in a fencing dual.\", \"masked_caption\": \"Two girls are standing on _____ competing in a fencing dual.\", \"label\": \"a mat\", \"additional_answers\": [[\"guard\", \"a mat\"], [\"a mat\", \"a stage\", \"a regulation fencing mat\"], [\"a mat\", \"the floor\"], [\"mats\", \"the floor\", \"pads\"], [\"a mat\", \"competition mat\"], [\"a sheet\", \"a room\"]]}, {\"video_id\": \"vl8Rfoga2ig\", \"video_start_time\": 19, \"video_end_time\": 29, \"caption\": \"A group of performers beat on their drums on stage.\", \"masked_caption\": \"A group of performers beat on _____ on stage.\", \"label\": \"their drums\", \"additional_answers\": [[\"diving\", \"swimming\"], [\"drums\", \"instruments\", \"percussion instruments\"], [\"the diving board\", \"the board\"], [\"incorrect video\"], [\"stands\", \"bleachers\"], [\"a plank\", \"a competition\"]]}, {\"video_id\": \"oMyPguv43Ig\", \"video_start_time\": 13, \"video_end_time\": 23, \"caption\": \"A man drops weight that he just clean and jerked.\", \"masked_caption\": \"_____ drops weight that he just clean and jerked.\", \"label\": \"A man\", \"additional_answers\": [[\"A man\", \"A male\"], [\"A man\", \"A dude\", \"A guy\", \"A person\", \"A gentleman\"], [\"The man\", \"The weightlifter\", \"The lifter\", \"The athlete\", \"The person\"], [\"a man\", \"a guy\", \"a dude\"], [\"A man\", \"A weightlifter\"], [\"a man\", \"a guy\"]]}]\n"
     ]
    }
   ],
   "source": [
    "print(json.dumps(annotated_data[:10], ))"
   ]
  },
  {
   "cell_type": "markdown",
   "metadata": {},
   "source": [
    "## Noun distribution\n",
    "Let's look at the top-K nouns for (1) ground-truth data and (2) labeled data."
   ]
  },
  {
   "cell_type": "code",
   "execution_count": 3,
   "metadata": {
    "scrolled": true
   },
   "outputs": [
    {
     "data": {
      "text/plain": [
       "a man          46\n",
       "a person       27\n",
       "it             23\n",
       "a woman        21\n",
       "people         13\n",
       "them           12\n",
       "front          10\n",
       "a group        10\n",
       "he             10\n",
       "someone        10\n",
       "a boy           8\n",
       "a young man     8\n",
       "a piece         7\n",
       "a child         6\n",
       "a girl          6\n",
       "the water       5\n",
       "two boys        5\n",
       "they            5\n",
       "a lady          4\n",
       "a bowl          4\n",
       "dtype: int64"
      ]
     },
     "metadata": {},
     "output_type": "display_data"
    }
   ],
   "source": [
    "import pandas as pd\n",
    "ground_truth_labels = list(map(lambda x: x['label'].lower(), annotated_data))\n",
    "ground_truth_label_counts = pd.Series(ground_truth_labels).value_counts()\n",
    "display(ground_truth_label_counts.head(20))"
   ]
  },
  {
   "cell_type": "code",
   "execution_count": 4,
   "metadata": {
    "scrolled": true
   },
   "outputs": [
    {
     "data": {
      "text/plain": [
       "a person    392\n",
       "a man       381\n",
       "a woman     181\n",
       "a guy       164\n",
       "people      154\n",
       "someone     133\n",
       "a girl      115\n",
       "a boy       111\n",
       "a group     108\n",
       "a child     104\n",
       "a kid       103\n",
       "a lady       93\n",
       "man          70\n",
       "kids         68\n",
       "it           68\n",
       "music        61\n",
       "a baby       59\n",
       "the man      57\n",
       "he           54\n",
       "boys         50\n",
       "dtype: int64"
      ]
     },
     "metadata": {},
     "output_type": "display_data"
    }
   ],
   "source": [
    "from functools import reduce\n",
    "annotation_labels = []\n",
    "for annotated_data_i in annotated_data:\n",
    "    for annotations_j in annotated_data_i['additional_answers']:\n",
    "        clean_annotations_j = list(map(lambda x: x.lower(), annotations_j))\n",
    "        annotation_labels.extend(clean_annotations_j)\n",
    "annotation_label_counts = pd.Series(annotation_labels).value_counts()\n",
    "display(annotation_label_counts.head(20))"
   ]
  },
  {
   "cell_type": "markdown",
   "metadata": {},
   "source": [
    "### Nouns with low/high agreement\n",
    "Which nouns have lower or higher agreement?\n",
    "\n",
    "We'll measure agreement with exact overlap to start, and then partial overlap if we need more data."
   ]
  },
  {
   "cell_type": "code",
   "execution_count": 13,
   "metadata": {},
   "outputs": [],
   "source": [
    "def get_exact_overlap(data):\n",
    "    label = data['label'].lower()\n",
    "    annotations = [y.lower() for x in data['additional_answers'] for y in x] # all annotations\n",
    "#     annotations = [y.lower() for x in data['additional_answers'] for y in x[:1]] # restrict to first annotations only\n",
    "    exact_matches = list(filter(lambda x: x==label, annotations))\n",
    "    exact_overlap_score = len(exact_matches) / len(annotations)\n",
    "    return exact_overlap_score"
   ]
  },
  {
   "cell_type": "code",
   "execution_count": 14,
   "metadata": {},
   "outputs": [
    {
     "data": {
      "image/png": "[encoded data removed]",
      "text/plain": [
       "<Figure size 432x288 with 1 Axes>"
      ]
     },
     "metadata": {
      "needs_background": "light"
     },
     "output_type": "display_data"
    }
   ],
   "source": [
    "import sys\n",
    "if('..' not in sys.path):\n",
    "    sys.path.append('..')\n",
    "from lqam.core.metrics import normalize_answer, tokenize_answer_to_compute_metrics, compute_token_level_f1_many\n",
    "def compute_overlap_score(label, annotations):\n",
    "    label_tokens = tokenize_answer_to_compute_metrics(normalize_answer(label))\n",
    "    annotation_tokens = list(map(lambda x: list(map(lambda y: tokenize_answer_to_compute_metrics(normalize_answer(y)), x)), annotations))\n",
    "    # flatten token lists\n",
    "    annotation_tokens = [y for x in annotation_tokens for y in x]\n",
    "    overlap_score = compute_token_level_f1_many(label_tokens, annotation_tokens)\n",
    "    return overlap_score\n",
    "valid_annotated_data = list(filter(lambda x: len(x['additional_answers']) > 0, annotated_data))\n",
    "overlap_scores = list(map(lambda x: compute_overlap_score(x['label'], x['additional_answers']), valid_annotated_data))\n",
    "# # show distribution first\n",
    "import matplotlib\n",
    "%matplotlib inline\n",
    "import matplotlib.pyplot as plt\n",
    "plt.hist(overlap_scores)\n",
    "plt.xlabel(\"Max overlap score\")\n",
    "plt.yscale('log')\n",
    "plt.show()"
   ]
  },
  {
   "cell_type": "markdown",
   "metadata": {},
   "source": [
    "Most labels have relatively high match scores, which is to be expected given the (short) nature of the annotations."
   ]
  },
  {
   "cell_type": "code",
   "execution_count": 13,
   "metadata": {
    "scrolled": true
   },
   "outputs": [
    {
     "name": "stdout",
     "output_type": "stream",
     "text": [
      "ground-truth labels with highest annotation overlap\n"
     ]
    },
    {
     "data": {
      "text/plain": [
       "label\n",
       "A  young woman       1.0\n",
       "camels               1.0\n",
       "ballons              1.0\n",
       "a black marker       1.0\n",
       "baskets              1.0\n",
       "a birthday candle    1.0\n",
       "a bikini             1.0\n",
       "a big belly          1.0\n",
       "a bicycle chain      1.0\n",
       "boys                 1.0\n",
       "bread dough          1.0\n",
       "a bench              1.0\n",
       "a belly dance        1.0\n",
       "camera               1.0\n",
       "a crocodile          1.0\n",
       "a bed                1.0\n",
       "cards                1.0\n",
       "circles              1.0\n",
       "classical music      1.0\n",
       "clay                 1.0\n",
       "dtype: float64"
      ]
     },
     "metadata": {},
     "output_type": "display_data"
    },
    {
     "name": "stdout",
     "output_type": "stream",
     "text": [
      "ground-truth labels with lowest annotation overlap\n"
     ]
    },
    {
     "data": {
      "text/plain": [
       "label\n",
       "a small robotic vehicle     0.0\n",
       "components                  0.0\n",
       "a band                      0.0\n",
       "a icy clift                 0.0\n",
       "wind                        0.0\n",
       "a beat making machine       0.0\n",
       "voices                      0.0\n",
       "the ledge                   0.0\n",
       "camo paint                  0.0\n",
       "a load                      0.0\n",
       "building block formation    0.0\n",
       "a lot                       0.0\n",
       "flag                        0.0\n",
       "use                         0.0\n",
       "twos                        0.0\n",
       "buns                        0.0\n",
       "a blow up toy               0.0\n",
       "bangers                     0.0\n",
       "themselves                  0.0\n",
       "a press                     0.0\n",
       "dtype: float64"
      ]
     },
     "metadata": {},
     "output_type": "display_data"
    }
   ],
   "source": [
    "## compute average overlap per NP\n",
    "valid_annotated_data_labels = list(map(lambda x: x['label'], valid_annotated_data))\n",
    "label_annotation_overlap = pd.DataFrame(list(zip(valid_annotated_data_labels, overlap_scores)), columns=['label', 'overlap_score'])\n",
    "label_annotation_overlap_aggregate = label_annotation_overlap.groupby('label').apply(lambda x: x.loc[:, 'overlap_score'].mean())\n",
    "label_annotation_overlap_aggregate.sort_values(inplace=True, ascending=False)\n",
    "print('ground-truth labels with highest annotation overlap')\n",
    "display(label_annotation_overlap_aggregate.head(20))\n",
    "label_annotation_overlap_aggregate.sort_values(inplace=True, ascending=True)\n",
    "print('ground-truth labels with lowest annotation overlap')\n",
    "display(label_annotation_overlap_aggregate.head(20))"
   ]
  },
  {
   "cell_type": "markdown",
   "metadata": {},
   "source": [
    "The words with higher agreement tend to be simple and concrete nouns (`young woman`, `crocodile`).\n",
    "\n",
    "The words with lower agreement tend to be highly specific (`a beat making machine`, `building block formation`) or vague (`use`, `themselves`)."
   ]
  },
  {
   "cell_type": "markdown",
   "metadata": {},
   "source": [
    "## Tokens per NP\n",
    "How many tokens on average does each noun phrase contain?\n",
    "\n",
    "We'll look at this for both ground-truth and annotations."
   ]
  },
  {
   "cell_type": "code",
   "execution_count": 18,
   "metadata": {
    "scrolled": true
   },
   "outputs": [
    {
     "data": {
      "image/png": "[encoded data removed]",
      "text/plain": [
       "<Figure size 432x288 with 1 Axes>"
      ]
     },
     "metadata": {
      "needs_background": "light"
     },
     "output_type": "display_data"
    },
    {
     "data": {
      "image/png": "[encoded data removed]",
      "text/plain": [
       "<Figure size 432x288 with 1 Axes>"
      ]
     },
     "metadata": {
      "needs_background": "light"
     },
     "output_type": "display_data"
    },
    {
     "name": "stdout",
     "output_type": "stream",
     "text": [
      "gold label NPs have 1.469 +/- 0.686 tokens\n",
      "annotation NPs have 1.368 +/- 0.686 tokens\n"
     ]
    }
   ],
   "source": [
    "import numpy as np\n",
    "import sys\n",
    "if('..' not in sys.path):\n",
    "    sys.path.append('..')\n",
    "from lqam.core.metrics import normalize_answer, tokenize_answer_to_compute_metrics\n",
    "label_token_counts = list(map(lambda x: len(tokenize_answer_to_compute_metrics(normalize_answer(x))), valid_annotated_data_labels))\n",
    "flat_annotation_labels = [z for x in valid_annotated_data for y in x['additional_answers'] for z in y]\n",
    "annotation_label_token_counts = [len(tokenize_answer_to_compute_metrics(normalize_answer(x))) for x in flat_annotation_labels]\n",
    "## show both distributions\n",
    "plt.hist(label_token_counts, bins=len(set(label_token_counts))-1)\n",
    "plt.xlabel('Token count')\n",
    "plt.title('Gold labels')\n",
    "plt.show()\n",
    "plt.hist(annotation_label_token_counts, bins=len(set(annotation_label_token_counts))-1)\n",
    "plt.xlabel('Token count')\n",
    "plt.title('Annotation labels')\n",
    "plt.show()\n",
    "print('gold label NPs have %.3f +/- %.3f tokens'%(np.mean(label_token_counts), np.std(label_token_counts)))\n",
    "print('annotation NPs have %.3f +/- %.3f tokens'%(np.mean(annotation_label_token_counts), np.std(annotation_label_token_counts)))"
   ]
  },
  {
   "cell_type": "markdown",
   "metadata": {},
   "source": [
    "The gold labels tend to be slightly longer, but the annotations have a longer tail (>= 4 tokens)."
   ]
  },
  {
   "cell_type": "markdown",
   "metadata": {},
   "source": [
    "What are the longest/shortest labels in each set?"
   ]
  },
  {
   "cell_type": "code",
   "execution_count": 20,
   "metadata": {
    "scrolled": true
   },
   "outputs": [
    {
     "name": "stdout",
     "output_type": "stream",
     "text": [
      "longest gold label NPs\n"
     ]
    },
    {
     "data": {
      "text/plain": [
       "innocent cute little baby boy    5\n",
       "black and white knitting kit     5\n",
       "very well built woman            4\n",
       "complex stretching yoga pose     4\n",
       "her very colorful leggings       4\n",
       "ornately costumed dance squad    4\n",
       "about nine game pieces           4\n",
       "strung out teenage girls         4\n",
       "his rock climbing equipment      4\n",
       "large multiple dig site          4\n",
       "his toy train set                4\n",
       "human ping pong ball             4\n",
       "basic photo copy machine         4\n",
       "different gear shifts            3\n",
       "automatic teller machine         3\n",
       "two little boys                  3\n",
       "beat making machine              3\n",
       "her overstressed tanktop         3\n",
       "small motorized carts            3\n",
       "two young boys                   3\n",
       "dtype: int64"
      ]
     },
     "metadata": {},
     "output_type": "display_data"
    },
    {
     "name": "stdout",
     "output_type": "stream",
     "text": [
      "longest annotation NPs\n"
     ]
    },
    {
     "data": {
      "text/plain": [
       "2 teams one in yellow jerseys and one white jerseys    10\n",
       "poor animal who needs its wool to stay warm             9\n",
       "2 people total and 1 in full view                       8\n",
       "cowboy wearing blue jeans and blue jean jacket          8\n",
       "male wearing shoes and black pants with stripes         8\n",
       "boy in black and boy in blue tshirt                     8\n",
       "2 young kids with shorts and no shirts                  8\n",
       "girl in tshirt and bathing suit bottom                  7\n",
       "shirtless man with black bottom bathing suit            7\n",
       "2 males wearing blue shirt and shorts                   7\n",
       "kid in black shirt and black pants                      7\n",
       "while sitting and using fork to eat                     7\n",
       "man in white shirt and black pants                      7\n",
       "street in front of house driveway                       6\n",
       "2 teams wearing jerseys and helmets                     6\n",
       "front of green curtain and front                        6\n",
       "man with small amounts of hair                          6\n",
       "numerous track event and field events                   6\n",
       "man in shorts and black tshirt                          6\n",
       "neck and top of his head                                6\n",
       "dtype: int64"
      ]
     },
     "metadata": {},
     "output_type": "display_data"
    }
   ],
   "source": [
    "label_token_count_data = pd.Series(label_token_counts, index=list(map(lambda x: normalize_answer(x.lower()), valid_annotated_data_labels))).sort_values(inplace=False, ascending=False)\n",
    "flat_annotation_label_token_count_data = pd.Series(annotation_label_token_counts, index=list(map(lambda x: normalize_answer(x.lower()), flat_annotation_labels))).sort_values(inplace=False, ascending=False)\n",
    "label_token_count_data = label_token_count_data[~label_token_count_data.index.duplicated()]\n",
    "flat_annotation_label_token_count_data = flat_annotation_label_token_count_data[~flat_annotation_label_token_count_data.index.duplicated()]\n",
    "print('longest gold label NPs')\n",
    "display(label_token_count_data.head(20))\n",
    "print('longest annotation NPs')\n",
    "display(flat_annotation_label_token_count_data.head(20))"
   ]
  },
  {
   "cell_type": "markdown",
   "metadata": {},
   "source": [
    "The longest NPs for the gold labels tend to have multiple adjectives (`innocent cute little baby boy`) and complex nouns (`automatic teller machine`).\n",
    "\n",
    "The longest NPs for the annotation labels tend to have coordination (`2 teams one in yellow jerseys and one white jerseys`) and long, unnecessary subclauses (`poor animal who needs it's wool to stay warm`)."
   ]
  },
  {
   "cell_type": "markdown",
   "metadata": {},
   "source": [
    "### Unique NPs per question\n",
    "How many unique NPs does each question get?"
   ]
  },
  {
   "cell_type": "code",
   "execution_count": 22,
   "metadata": {},
   "outputs": [
    {
     "data": {
      "image/png": "[encoded data removed]",
      "text/plain": [
       "<Figure size 432x288 with 1 Axes>"
      ]
     },
     "metadata": {
      "needs_background": "light"
     },
     "output_type": "display_data"
    },
    {
     "data": {
      "image/png": "[encoded data removed]",
      "text/plain": [
       "<Figure size 432x288 with 1 Axes>"
      ]
     },
     "metadata": {
      "needs_background": "light"
     },
     "output_type": "display_data"
    },
    {
     "name": "stdout",
     "output_type": "stream",
     "text": [
      "questions have an average of 11.292 +/- 4.126 unique labels\n",
      "annotators have an average of 2.704 +/- 0.534 unique labels\n"
     ]
    }
   ],
   "source": [
    "import sys\n",
    "if('..' not in sys.path):\n",
    "    sys.path.append('..')\n",
    "from lqam.core.metrics import normalize_answer\n",
    "def get_num_unique_labels_per_annotator(data):\n",
    "    ## TODO: only include first label from each annotator? some annotators may have included extra words just for bonus\n",
    "    data_annotation_label_sets = [set([normalize_answer(y.lower()) for y in x]) for x in data['additional_answers']]\n",
    "    num_unique_data_annotation_labels = list(map(lambda x: len(x), data_annotation_label_sets))\n",
    "    mean_unique_data_annotation_labels = np.mean(num_unique_data_annotation_labels)\n",
    "    return mean_unique_data_annotation_labels\n",
    "unique_labels_per_question = list(map(lambda x: list(sorted(set([normalize_answer(z.lower()) for y in x['additional_answers'] for z in y]))), valid_annotated_data))\n",
    "num_unique_labels_per_question = list(map(lambda x: len(x), unique_labels_per_question))\n",
    "num_unique_labels_per_question_per_annotator = list(map(lambda x: get_num_unique_labels_per_annotator(x), valid_annotated_data))\n",
    "plt.hist(num_unique_labels_per_question)\n",
    "plt.xlabel('Number unique labels')\n",
    "plt.title('Labels per question')\n",
    "plt.show()\n",
    "plt.hist(num_unique_labels_per_question_per_annotator)\n",
    "plt.xlabel('Number unique labels')\n",
    "plt.title('Labels per question (per annotator)')\n",
    "plt.show()\n",
    "print('questions have an average of %.3f +/- %.3f unique labels'%(np.mean(num_unique_labels_per_question), np.std(num_unique_labels_per_question)))\n",
    "print('annotators have an average of %.3f +/- %.3f unique labels'%(np.mean(num_unique_labels_per_question_per_annotator), np.std(num_unique_labels_per_question_per_annotator)))"
   ]
  },
  {
   "cell_type": "markdown",
   "metadata": {},
   "source": [
    "Most questions have around 12 unique labels total and 3 unique labels per annotator."
   ]
  },
  {
   "cell_type": "markdown",
   "metadata": {},
   "source": [
    "Which questions have the most unique labels per annotator?"
   ]
  },
  {
   "cell_type": "code",
   "execution_count": 24,
   "metadata": {
    "scrolled": true
   },
   "outputs": [
    {
     "name": "stdout",
     "output_type": "stream",
     "text": [
      "questions with highest number unique labels per annotator\n"
     ]
    },
    {
     "data": {
      "text/html": [
       "<div>\n",
       "<style scoped>\n",
       "    .dataframe tbody tr th:only-of-type {\n",
       "        vertical-align: middle;\n",
       "    }\n",
       "\n",
       "    .dataframe tbody tr th {\n",
       "        vertical-align: top;\n",
       "    }\n",
       "\n",
       "    .dataframe thead th {\n",
       "        text-align: right;\n",
       "    }\n",
       "</style>\n",
       "<table border=\"1\" class=\"dataframe\">\n",
       "  <thead>\n",
       "    <tr style=\"text-align: right;\">\n",
       "      <th></th>\n",
       "      <th>prompt</th>\n",
       "      <th>unique_label_count</th>\n",
       "      <th>unique_labels</th>\n",
       "    </tr>\n",
       "  </thead>\n",
       "  <tbody>\n",
       "    <tr>\n",
       "      <th>278</th>\n",
       "      <td>_____ lifts a heavy weight from the ground up.</td>\n",
       "      <td>5</td>\n",
       "      <td>[athlete, body builder, bodybuilder, female, female athlete, female body builder, female bodybuilder, gal, girl, lady, small lady, small woman, tiny lady, weight lifter, woman]</td>\n",
       "    </tr>\n",
       "    <tr>\n",
       "      <th>905</th>\n",
       "      <td>A group of drivers race cars on _____ in front of onlookers.</td>\n",
       "      <td>4.8</td>\n",
       "      <td>[circuit, clay, course, dirt, dirt path, dirt track, dry sand, field, ground, mud, race grounds, racetrack, raceway, sand, speedway, stretch, track]</td>\n",
       "    </tr>\n",
       "    <tr>\n",
       "      <th>260</th>\n",
       "      <td>A man is walking by _____ that is completely full then comes back and smashes the computer monitor sitting on top with a baseball bat.</td>\n",
       "      <td>4.71429</td>\n",
       "      <td>[alley, bin, black bin, black bin with garbage, black garbage bin, black rubbish bin, black trash can, black trashcan, dumpster, garbage bin, garbage can, garbage receptacle, grey garbage can, pla...</td>\n",
       "    </tr>\n",
       "    <tr>\n",
       "      <th>427</th>\n",
       "      <td>A group of _____ in pink tutus dancing in a circle on stage.</td>\n",
       "      <td>4.42857</td>\n",
       "      <td>[arminarm girls, balet students, ballerinas, children, dancers, girls, kids, little girls, little kids, students, toddlers, young ballerinas, young dancers, young girls]</td>\n",
       "    </tr>\n",
       "    <tr>\n",
       "      <th>45</th>\n",
       "      <td>A woman works with _____ at a spinning potter's wheel.</td>\n",
       "      <td>4.42857</td>\n",
       "      <td>[bowl, boys, boys and girls, class, clay, ease, focus, girls, her children, her class, her family, her hands, her kids, her students, kids, lady, mud, piece of pottery, potter, pottery, skill, stu...</td>\n",
       "    </tr>\n",
       "    <tr>\n",
       "      <th>831</th>\n",
       "      <td>_____ uses several smaller containers to efficiently pack a suitcase while music plays.</td>\n",
       "      <td>4.33333</td>\n",
       "      <td>[chick, female, girl, lady, lass, person, someone, traveler, woman, young lady]</td>\n",
       "    </tr>\n",
       "    <tr>\n",
       "      <th>835</th>\n",
       "      <td>_____ was picking berries from a bush outside on a sunny day.</td>\n",
       "      <td>4.33333</td>\n",
       "      <td>[adult and child, duo, family, folks, girl, mother and daughter, people, person, woman, woman and girl, young lady and old lady]</td>\n",
       "    </tr>\n",
       "    <tr>\n",
       "      <th>936</th>\n",
       "      <td>_____ kicks soccer balls into a net while on a grass field.</td>\n",
       "      <td>4.33333</td>\n",
       "      <td>[adolescent, athlete, boy, child, guy, human, kid, male, my daughters friend, our neighbor, person, player, players, soccer player, someone, son, team member, teams captain, young boy, youth]</td>\n",
       "    </tr>\n",
       "    <tr>\n",
       "      <th>576</th>\n",
       "      <td>_____ plays an instrument while wearing a pink shirt.</td>\n",
       "      <td>4.2</td>\n",
       "      <td>[artist, bald man, entertainer, guy, individual, man, musician, old man, older man, performer, person, saxophone player, saxophonist, singer, someone]</td>\n",
       "    </tr>\n",
       "    <tr>\n",
       "      <th>749</th>\n",
       "      <td>A man standing in front of a microphone playing some kind of _____.</td>\n",
       "      <td>4.2</td>\n",
       "      <td>[flute, harmonicalike instrument, instrument, music, musical instrument, noise, pan flute, pan flute music, panflute, pipe, song, tool, unknown instrument, wood instrument, wooden instrument, wood...</td>\n",
       "    </tr>\n",
       "  </tbody>\n",
       "</table>\n",
       "</div>"
      ],
      "text/plain": [
       "                                                                                                                                     prompt  \\\n",
       "278                                                                                          _____ lifts a heavy weight from the ground up.   \n",
       "905                                                                            A group of drivers race cars on _____ in front of onlookers.   \n",
       "260  A man is walking by _____ that is completely full then comes back and smashes the computer monitor sitting on top with a baseball bat.   \n",
       "427                                                                            A group of _____ in pink tutus dancing in a circle on stage.   \n",
       "45                                                                                   A woman works with _____ at a spinning potter's wheel.   \n",
       "831                                                 _____ uses several smaller containers to efficiently pack a suitcase while music plays.   \n",
       "835                                                                           _____ was picking berries from a bush outside on a sunny day.   \n",
       "936                                                                             _____ kicks soccer balls into a net while on a grass field.   \n",
       "576                                                                                   _____ plays an instrument while wearing a pink shirt.   \n",
       "749                                                                     A man standing in front of a microphone playing some kind of _____.   \n",
       "\n",
       "    unique_label_count  \\\n",
       "278                  5   \n",
       "905                4.8   \n",
       "260            4.71429   \n",
       "427            4.42857   \n",
       "45             4.42857   \n",
       "831            4.33333   \n",
       "835            4.33333   \n",
       "936            4.33333   \n",
       "576                4.2   \n",
       "749                4.2   \n",
       "\n",
       "                                                                                                                                                                                               unique_labels  \n",
       "278                         [athlete, body builder, bodybuilder, female, female athlete, female body builder, female bodybuilder, gal, girl, lady, small lady, small woman, tiny lady, weight lifter, woman]  \n",
       "905                                                     [circuit, clay, course, dirt, dirt path, dirt track, dry sand, field, ground, mud, race grounds, racetrack, raceway, sand, speedway, stretch, track]  \n",
       "260  [alley, bin, black bin, black bin with garbage, black garbage bin, black rubbish bin, black trash can, black trashcan, dumpster, garbage bin, garbage can, garbage receptacle, grey garbage can, pla...  \n",
       "427                                [arminarm girls, balet students, ballerinas, children, dancers, girls, kids, little girls, little kids, students, toddlers, young ballerinas, young dancers, young girls]  \n",
       "45   [bowl, boys, boys and girls, class, clay, ease, focus, girls, her children, her class, her family, her hands, her kids, her students, kids, lady, mud, piece of pottery, potter, pottery, skill, stu...  \n",
       "831                                                                                                                          [chick, female, girl, lady, lass, person, someone, traveler, woman, young lady]  \n",
       "835                                                                         [adult and child, duo, family, folks, girl, mother and daughter, people, person, woman, woman and girl, young lady and old lady]  \n",
       "936          [adolescent, athlete, boy, child, guy, human, kid, male, my daughters friend, our neighbor, person, player, players, soccer player, someone, son, team member, teams captain, young boy, youth]  \n",
       "576                                                   [artist, bald man, entertainer, guy, individual, man, musician, old man, older man, performer, person, saxophone player, saxophonist, singer, someone]  \n",
       "749  [flute, harmonicalike instrument, instrument, music, musical instrument, noise, pan flute, pan flute music, panflute, pipe, song, tool, unknown instrument, wood instrument, wooden instrument, wood...  "
      ]
     },
     "metadata": {},
     "output_type": "display_data"
    },
    {
     "name": "stdout",
     "output_type": "stream",
     "text": [
      "questions with lowest number unique labels per annotator\n"
     ]
    },
    {
     "data": {
      "text/html": [
       "<div>\n",
       "<style scoped>\n",
       "    .dataframe tbody tr th:only-of-type {\n",
       "        vertical-align: middle;\n",
       "    }\n",
       "\n",
       "    .dataframe tbody tr th {\n",
       "        vertical-align: top;\n",
       "    }\n",
       "\n",
       "    .dataframe thead th {\n",
       "        text-align: right;\n",
       "    }\n",
       "</style>\n",
       "<table border=\"1\" class=\"dataframe\">\n",
       "  <thead>\n",
       "    <tr style=\"text-align: right;\">\n",
       "      <th></th>\n",
       "      <th>prompt</th>\n",
       "      <th>unique_label_count</th>\n",
       "      <th>unique_labels</th>\n",
       "    </tr>\n",
       "  </thead>\n",
       "  <tbody>\n",
       "    <tr>\n",
       "      <th>645</th>\n",
       "      <td>A man demonstrates how to install _____.</td>\n",
       "      <td>1.66667</td>\n",
       "      <td>[bicycle chain, bike chain, chain, cycle chain, master link, new bike chain, new chain links, piece of equipement]</td>\n",
       "    </tr>\n",
       "    <tr>\n",
       "      <th>863</th>\n",
       "      <td>The man in _____ checks and trims the toenails of a small animal.</td>\n",
       "      <td>1.625</td>\n",
       "      <td>[black pants, black sweater, chair, clip, knit shirt, sweater, vets office, video, warm sweater]</td>\n",
       "    </tr>\n",
       "    <tr>\n",
       "      <th>613</th>\n",
       "      <td>Two person one standing on _____ and the other doing a cock wheel.</td>\n",
       "      <td>1.6</td>\n",
       "      <td>[circle, floor, groung, his head, their head, top of his head]</td>\n",
       "    </tr>\n",
       "    <tr>\n",
       "      <th>468</th>\n",
       "      <td>A man juggles balls one-handed and then two-handed and tosses them to a person off-_____.</td>\n",
       "      <td>1.5</td>\n",
       "      <td>[balance, camera, frame, shot]</td>\n",
       "    </tr>\n",
       "    <tr>\n",
       "      <th>306</th>\n",
       "      <td>A toddler boy is feeding _____ spaghetti at the dinner table.</td>\n",
       "      <td>1.5</td>\n",
       "      <td>[forkfuls of, himself, his belly, his mouth, while sitting and using fork to eat]</td>\n",
       "    </tr>\n",
       "    <tr>\n",
       "      <th>720</th>\n",
       "      <td>A young boy who seems to be timing _____ how fast he can eat a snack.</td>\n",
       "      <td>1.33333</td>\n",
       "      <td>[challenge of, himself, his self, recording of, to calculate, to see]</td>\n",
       "    </tr>\n",
       "    <tr>\n",
       "      <th>747</th>\n",
       "      <td>A man, outdoors at a gas station, is demonstrating step-by-_____, how to pump gas.</td>\n",
       "      <td>1.33333</td>\n",
       "      <td>[step, way]</td>\n",
       "    </tr>\n",
       "    <tr>\n",
       "      <th>214</th>\n",
       "      <td>Two teams play football, and the team in _____ completes a pass.</td>\n",
       "      <td>1.33333</td>\n",
       "      <td>[left, offense, red jerseys, red shirts]</td>\n",
       "    </tr>\n",
       "    <tr>\n",
       "      <th>705</th>\n",
       "      <td>Packages of paper are being wrapped in paper plastic and stacked on _____ of each other.</td>\n",
       "      <td>1.25</td>\n",
       "      <td>[device next, machine, top]</td>\n",
       "    </tr>\n",
       "    <tr>\n",
       "      <th>847</th>\n",
       "      <td>A person is showing how _____ open a beer with a screw driver indoors.</td>\n",
       "      <td>1</td>\n",
       "      <td>[he, people, to screw open, you]</td>\n",
       "    </tr>\n",
       "  </tbody>\n",
       "</table>\n",
       "</div>"
      ],
      "text/plain": [
       "                                                                                        prompt  \\\n",
       "645                                                   A man demonstrates how to install _____.   \n",
       "863                          The man in _____ checks and trims the toenails of a small animal.   \n",
       "613                         Two person one standing on _____ and the other doing a cock wheel.   \n",
       "468  A man juggles balls one-handed and then two-handed and tosses them to a person off-_____.   \n",
       "306                              A toddler boy is feeding _____ spaghetti at the dinner table.   \n",
       "720                      A young boy who seems to be timing _____ how fast he can eat a snack.   \n",
       "747         A man, outdoors at a gas station, is demonstrating step-by-_____, how to pump gas.   \n",
       "214                           Two teams play football, and the team in _____ completes a pass.   \n",
       "705   Packages of paper are being wrapped in paper plastic and stacked on _____ of each other.   \n",
       "847                     A person is showing how _____ open a beer with a screw driver indoors.   \n",
       "\n",
       "    unique_label_count  \\\n",
       "645            1.66667   \n",
       "863              1.625   \n",
       "613                1.6   \n",
       "468                1.5   \n",
       "306                1.5   \n",
       "720            1.33333   \n",
       "747            1.33333   \n",
       "214            1.33333   \n",
       "705               1.25   \n",
       "847                  1   \n",
       "\n",
       "                                                                                                          unique_labels  \n",
       "645  [bicycle chain, bike chain, chain, cycle chain, master link, new bike chain, new chain links, piece of equipement]  \n",
       "863                    [black pants, black sweater, chair, clip, knit shirt, sweater, vets office, video, warm sweater]  \n",
       "613                                                      [circle, floor, groung, his head, their head, top of his head]  \n",
       "468                                                                                      [balance, camera, frame, shot]  \n",
       "306                                   [forkfuls of, himself, his belly, his mouth, while sitting and using fork to eat]  \n",
       "720                                               [challenge of, himself, his self, recording of, to calculate, to see]  \n",
       "747                                                                                                         [step, way]  \n",
       "214                                                                            [left, offense, red jerseys, red shirts]  \n",
       "705                                                                                         [device next, machine, top]  \n",
       "847                                                                                    [he, people, to screw open, you]  "
      ]
     },
     "metadata": {},
     "output_type": "display_data"
    }
   ],
   "source": [
    "pd.set_option('display.max_colwidth', 200)\n",
    "question_prompts = list(map(lambda x: x['masked_caption'], valid_annotated_data))\n",
    "\n",
    "unique_labels_per_question_per_annotator_data = pd.DataFrame([\n",
    "    question_prompts,\n",
    "    num_unique_labels_per_question_per_annotator,\n",
    "    unique_labels_per_question,\n",
    "], index=['prompt', 'unique_label_count', 'unique_labels']).transpose()\n",
    "unique_labels_per_question_per_annotator_data.sort_values('unique_label_count', inplace=True, ascending=False)\n",
    "print('questions with highest number unique labels per annotator')\n",
    "display(unique_labels_per_question_per_annotator_data.head(10))\n",
    "print('questions with lowest number unique labels per annotator')\n",
    "display(unique_labels_per_question_per_annotator_data.tail(10))"
   ]
  },
  {
   "cell_type": "markdown",
   "metadata": {},
   "source": [
    "Questions with higher number of unique labels seem to inspire creative answers (`a group of ____ in pink tutus` => different paraphrases for `child`) and address multiple possible aspects of an event due to ambiguity (`a woman works with ____` => \"with\" applies to other `AGENT` nouns and `INSTRUMENT` nouns).\n",
    "\n",
    "Questions with lower number of unique labels seem to have very specific scenarios without room for paraphrasing or ambiguity (`to a person off-____` => the blank can only be \"camera\")."
   ]
  },
  {
   "cell_type": "code",
   "execution_count": null,
   "metadata": {},
   "outputs": [],
   "source": []
  }
 ],
 "metadata": {
  "kernelspec": {
   "display_name": "Python [conda env:py3] *",
   "language": "python",
   "name": "conda-env-py3-py"
  },
  "language_info": {
   "codemirror_mode": {
    "name": "ipython",
    "version": 3
   },
   "file_extension": ".py",
   "mimetype": "text/x-python",
   "name": "python",
   "nbconvert_exporter": "python",
   "pygments_lexer": "ipython3",
   "version": "3.8.5"
  }
 },
 "nbformat": 4,
 "nbformat_minor": 5
}
