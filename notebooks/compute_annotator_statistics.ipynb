{
 "cells": [
  {
   "cell_type": "markdown",
   "id": "mineral-convert",
   "metadata": {},
   "source": [
    "# Test annotated data"
   ]
  },
  {
   "cell_type": "code",
   "execution_count": 1,
   "id": "included-hampton",
   "metadata": {},
   "outputs": [],
   "source": [
    "import json\n",
    "annotated_data = json.load(open('../data/val.json'))"
   ]
  },
  {
   "cell_type": "code",
   "execution_count": 2,
   "id": "casual-charleston",
   "metadata": {},
   "outputs": [
    {
     "name": "stdout",
     "output_type": "stream",
     "text": [
      "[{\"video_id\": \"cfBtVPEwqIo\", \"video_start_time\": 5, \"video_end_time\": 15, \"caption\": \"In a gym with someone spotting him, a man is lifting weights performing squats in a squat rack.\", \"masked_caption\": \"In a gym with someone spotting him, a man is lifting _____ performing squats in a squat rack.\", \"label\": \"weights\", \"additional_answers\": [[\"a weight\", \"some weights\", \"a squat bar\"], [\"weight\", \"a bar\"], [\"weights\", \"a heavy load\"], [\"weights\", \"a lot of weight\"], [\"weights\", \"a barbell\", \"a weight\"], [\"weights\", \"405 lb\"]]}, {\"video_id\": \"P7CgvqGhidw\", \"video_start_time\": 73, \"video_end_time\": 83, \"caption\": \"A couple of people on stage playing music while in front of other people.\", \"masked_caption\": \"A couple of people on stage playing music while in _____ of other people.\", \"label\": \"front\", \"additional_answers\": [[\"close proximity\", \"close comfort\"], [\"front\", \"a room full\"], [\"front\", \"view\"], [\"entretaining\", \"talking\"], [\"front\", \"the way\"], [\"concert\", \"room\"]]}, {\"video_id\": \"1DSNpTTsJJ4\", \"video_start_time\": 6, \"video_end_time\": 16, \"caption\": \"Two boys are dancing in the same fashion in unison with one another.\", \"masked_caption\": \"_____ are dancing in the same fashion in unison with one another.\", \"label\": \"Two boys\", \"additional_answers\": [[\"Two guys\", \"Two men\", \"Two people\", \"Two boys\", \"Two dancers\"], [\"kids\", \"boys\"], [\"Young boys\", \"Dancers\", \"Adolescents\"], [\"Tow kids\", \"Children\"], [\"People\", \"Guys\", \"Boys\", \"Friends\", \"Brothers\"], [\"boys\", \"men\"]]}, {\"video_id\": \"IRlCDEI7R_Q\", \"video_start_time\": 157, \"video_end_time\": 167, \"caption\": \"A stainless steel bowl of cut up fruit is twisted in time to music, a hand reaches for a bite of fruit which a face eats and the face's body appears holding the bowl of fruit.\", \"masked_caption\": \"A stainless steel bowl of _____ is twisted in time to music, a hand reaches for a bite of fruit which a face eats and the face's body appears holding the bowl of fruit.\", \"label\": \"cut up fruit\", \"additional_answers\": [[\"fruit\", \"fruit salad\", \"food\"], [\"fruit\", \"salad\"], [\"fruit\", \"food\"], [\"chopped food\", \"salad\"], [\"fruit\", \"tomato\", \"olives\", \"pineapple\"], [\"fruit\", \"salad\"]]}, {\"video_id\": \"XxY0Z47n7pg\", \"video_start_time\": 80, \"video_end_time\": 90, \"caption\": \"A man stands on a jetski and rides it along the water then waves his hand in the air and speeds up.\", \"masked_caption\": \"A man stands on a jetski and rides _____ along the water then waves his hand in the air and speeds up.\", \"label\": \"it\", \"additional_answers\": [[\"the water\", \"the waves\", \"the wake\"], [\"a jetski\"], [\"standing up\"], [\"it\"], [\"it\", \"the jetski\", \"waves\"], [\"skis\", \"boat\"]]}, {\"video_id\": \"hy7xI8-xSOE\", \"video_start_time\": 31, \"video_end_time\": 41, \"caption\": \"Several people engage in a competition to stomp something on a patio.\", \"masked_caption\": \"Several people engage in a competition to stomp _____ on a patio.\", \"label\": \"something\", \"additional_answers\": [[\"their feet\", \"grapes\"], [\"grapes\", \"small berries\", \"plants\"], [\"grapes\", \"fruit\"], [\"grapes\"], [\"grapes\", \"buckets full of grapes\"], [\"grape\", \"fruit\"]]}, {\"video_id\": \"aNr1Za9eHbs\", \"video_start_time\": 8, \"video_end_time\": 18, \"caption\": \"A woman laying down massages another with her feet while the other asks her to continue.\", \"masked_caption\": \"_____ laying down massages another with her feet while the other asks her to continue.\", \"label\": \"A woman\", \"additional_answers\": [[\"A woman\", \"A person\"], [\"A girl\", \"A person\", \"A lady\", \"A woman\"], [\"A girl\", \"A woman\", \"A person\"], [\"a person\", \"someone\"], [\"a girl\", \"a person\"]]}, {\"video_id\": \"i1A0qQHDBHk\", \"video_start_time\": 2, \"video_end_time\": 12, \"caption\": \"Two girls are standing on a mat competing in a fencing dual.\", \"masked_caption\": \"Two girls are standing on _____ competing in a fencing dual.\", \"label\": \"a mat\", \"additional_answers\": [[\"guard\", \"a mat\"], [\"a mat\", \"a stage\", \"a regulation fencing mat\"], [\"a mat\", \"the floor\"], [\"mats\", \"the floor\", \"pads\"], [\"a mat\", \"competition mat\"], [\"a sheet\", \"a room\"]]}, {\"video_id\": \"vl8Rfoga2ig\", \"video_start_time\": 19, \"video_end_time\": 29, \"caption\": \"A group of performers beat on their drums on stage.\", \"masked_caption\": \"A group of performers beat on _____ on stage.\", \"label\": \"their drums\", \"additional_answers\": [[\"diving\", \"swimming\"], [\"drums\", \"instruments\", \"percussion instruments\"], [\"the diving board\", \"the board\"], [\"incorrect video\"], [\"stands\", \"bleachers\"], [\"a plank\", \"a competition\"]]}, {\"video_id\": \"oMyPguv43Ig\", \"video_start_time\": 13, \"video_end_time\": 23, \"caption\": \"A man drops weight that he just clean and jerked.\", \"masked_caption\": \"_____ drops weight that he just clean and jerked.\", \"label\": \"A man\", \"additional_answers\": [[\"A man\", \"A male\"], [\"A man\", \"A dude\", \"A guy\", \"A person\", \"A gentleman\"], [\"The man\", \"The weightlifter\", \"The lifter\", \"The athlete\", \"The person\"], [\"a man\", \"a guy\", \"a dude\"], [\"A man\", \"A weightlifter\"], [\"a man\", \"a guy\"]]}]\n"
     ]
    }
   ],
   "source": [
    "print(json.dumps(annotated_data[:10], ))"
   ]
  },
  {
   "cell_type": "markdown",
   "id": "northern-combat",
   "metadata": {},
   "source": [
    "## Noun distribution\n",
    "Let's look at the top-K nouns for (1) ground-truth data and (2) labeled data."
   ]
  },
  {
   "cell_type": "code",
   "execution_count": 67,
   "metadata": {
    "scrolled": false
   },
   "outputs": [
    {
     "data": {
      "text/plain": [
       "man          49\n",
       "person       27\n",
       "it           23\n",
       "woman        21\n",
       "people       13\n",
       "them         12\n",
       "he           10\n",
       "someone      10\n",
       "group        10\n",
       "front        10\n",
       "young man     8\n",
       "boy           8\n",
       "camera        7\n",
       "girl          7\n",
       "piece         7\n",
       "baby          6\n",
       "child         6\n",
       "water         6\n",
       "table         6\n",
       "two boys      5\n",
       "dtype: int64"
      ]
     },
     "metadata": {},
     "output_type": "display_data"
    }
   ],
   "source": [
    "import sys\n",
    "if('..' not in sys.path):\n",
    "    sys.path.append('..')\n",
    "from lqam.core.metrics import normalize_answer\n",
    "import pandas as pd\n",
    "ground_truth_labels = list(map(lambda x: normalize_answer(x['label'].lower()), annotated_data))\n",
    "ground_truth_label_counts = pd.Series(ground_truth_labels).value_counts()\n",
    "display(ground_truth_label_counts.head(20))"
   ]
  },
  {
   "cell_type": "code",
   "execution_count": 68,
   "metadata": {
    "scrolled": false
   },
   "outputs": [
    {
     "data": {
      "text/plain": [
       "man        508\n",
       "person     442\n",
       "woman      242\n",
       "guy        190\n",
       "boy        176\n",
       "people     161\n",
       "girl       154\n",
       "child      147\n",
       "someone    133\n",
       "kid        130\n",
       "group      127\n",
       "lady       112\n",
       "baby        95\n",
       "kids        89\n",
       "camera      72\n",
       "water       70\n",
       "music       68\n",
       "it          68\n",
       "ball        67\n",
       "boys        66\n",
       "dtype: int64"
      ]
     },
     "metadata": {},
     "output_type": "display_data"
    }
   ],
   "source": [
    "from functools import reduce\n",
    "annotation_labels = []\n",
    "for annotated_data_i in annotated_data:\n",
    "    for annotations_j in annotated_data_i['additional_answers']:\n",
    "        clean_annotations_j = list(map(lambda x: normalize_answer(x.lower()), annotations_j))\n",
    "        annotation_labels.extend(clean_annotations_j)\n",
    "annotation_label_counts = pd.Series(annotation_labels).value_counts()\n",
    "display(annotation_label_counts.head(20))"
   ]
  },
  {
   "cell_type": "markdown",
   "id": "daily-wallpaper",
   "metadata": {},
   "source": [
    "### Nouns with low/high agreement\n",
    "Which nouns have lower or higher agreement?\n",
    "\n",
    "We'll measure agreement with exact overlap to start, and then partial overlap if we need more data."
   ]
  },
  {
   "cell_type": "code",
   "execution_count": 14,
   "id": "joint-harrison",
   "metadata": {},
   "outputs": [
    {
     "data": {
      "image/png": "[encoded data removed]",
      "text/plain": [
       "<Figure size 432x288 with 1 Axes>"
      ]
     },
     "metadata": {
      "needs_background": "light"
     },
     "output_type": "display_data"
    }
   ],
   "source": [
    "# show distribution first\n",
    "import matplotlib\n",
    "%matplotlib inline\n",
    "import matplotlib.pyplot as plt\n",
    "valid_annotated_data = list(filter(lambda x: len(x['additional_answers']) > 0, annotated_data))\n",
    "exact_overlap_scores = list(map(lambda x: get_exact_overlap(x), valid_annotated_data))\n",
    "plt.hist(exact_overlap_scores)\n",
    "plt.xlabel(\"Exact match score\")\n",
    "plt.yscale('log')\n",
    "plt.show()"
   ]
  },
  {
   "cell_type": "code",
   "execution_count": 66,
   "metadata": {},
   "outputs": [
    {
     "name": "stdout",
     "output_type": "stream",
     "text": [
      "68.62944162436548% of captions with at least one complete overlap\n"
     ]
    }
   ],
   "source": [
    "import numpy as np\n",
    "print(f'{(np.array(overlap_scores) == 1.0).sum() / len(overlap_scores)*100}% of captions with at least one complete overlap')"
   ]
  },
  {
   "cell_type": "markdown",
   "id": "engaged-chester",
   "metadata": {},
   "source": [
    "Most questions have fairly low rate of exact matches, which may be unusually low for questions with higher number of annotations provided."
   ]
  },
  {
   "cell_type": "code",
   "execution_count": 69,
   "metadata": {
    "scrolled": true
   },
   "outputs": [
    {
     "name": "stdout",
     "output_type": "stream",
     "text": [
      "ground-truth labels with highest annotation overlap\n"
     ]
    },
    {
     "data": {
      "text/plain": [
       "label\n",
       "melody           1.0\n",
       "knife            1.0\n",
       "ink              1.0\n",
       "bicycle chain    1.0\n",
       "instruments      1.0\n",
       "jar              1.0\n",
       "bench            1.0\n",
       "jump kick        1.0\n",
       "keyboard         1.0\n",
       "kid              1.0\n",
       "kids             1.0\n",
       "kitchen          1.0\n",
       "kite             1.0\n",
       "knives           1.0\n",
       "ice skater       1.0\n",
       "knuckles         1.0\n",
       "lab coat         1.0\n",
       "ladder           1.0\n",
       "ladies           1.0\n",
       "lady             1.0\n",
       "dtype: float64"
      ]
     },
     "metadata": {},
     "output_type": "display_data"
    },
    {
     "name": "stdout",
     "output_type": "stream",
     "text": [
      "ground-truth labels with lowest annotation overlap\n"
     ]
    },
    {
     "data": {
      "text/plain": [
       "label\n",
       "about nine game pieces       0.0\n",
       "anvil                        0.0\n",
       "studio                       0.0\n",
       "swirl                        0.0\n",
       "taekwondo                    0.0\n",
       "themselves                   0.0\n",
       "time                         0.0\n",
       "timelapse                    0.0\n",
       "another item                 0.0\n",
       "twos                         0.0\n",
       "very small do                0.0\n",
       "voices                       0.0\n",
       "wind                         0.0\n",
       "adult female                 0.0\n",
       "women                        0.0\n",
       "press                        0.0\n",
       "strand                       0.0\n",
       "cameraman                    0.0\n",
       "some swimming exhibitions    0.0\n",
       "puppy                        0.0\n",
       "dtype: float64"
      ]
     },
     "metadata": {},
     "output_type": "display_data"
    }
   ],
   "source": [
    "## compute average overlap per NP\n",
    "valid_annotated_data_labels = list(map(lambda x: normalize_answer(x['label']), valid_annotated_data))\n",
    "label_annotation_overlap = pd.DataFrame(list(zip(valid_annotated_data_labels, overlap_scores)), columns=['label', 'overlap_score'])\n",
    "label_annotation_overlap_aggregate = label_annotation_overlap.groupby('label').apply(lambda x: x.loc[:, 'overlap_score'].mean())\n",
    "label_annotation_overlap_aggregate.sort_values(inplace=True, ascending=False)\n",
    "print('ground-truth labels with highest annotation overlap')\n",
    "display(label_annotation_overlap_aggregate.head(20))\n",
    "label_annotation_overlap_aggregate.sort_values(inplace=True, ascending=True)\n",
    "print('ground-truth labels with lowest annotation overlap')\n",
    "display(label_annotation_overlap_aggregate.head(20))"
   ]
  },
  {
   "cell_type": "markdown",
   "id": "dominican-insert",
   "metadata": {},
   "source": [
    "The words with higher agreement tend to be simple and concrete nouns (`keyboard`, `knife`).\n",
    "\n",
    "The words with lower agreement tend to be highly specific (`about nine game pieces`, `cameraman`) or vague (`another item`, `swirl`)."
   ]
  },
  {
   "cell_type": "markdown",
   "id": "attractive-armor",
   "metadata": {},
   "source": [
    "## Tokens per NP\n",
    "How many tokens on average does each noun phrase contain?\n",
    "\n",
    "We'll look at this for both ground-truth and annotations."
   ]
  },
  {
   "cell_type": "code",
   "execution_count": 39,
   "id": "legislative-mortgage",
   "metadata": {
    "scrolled": true
   },
   "outputs": [
    {
     "data": {
      "image/png": "[encoded data removed]",
      "text/plain": [
       "<Figure size 432x288 with 1 Axes>"
      ]
     },
     "metadata": {
      "needs_background": "light"
     },
     "output_type": "display_data"
    },
    {
     "data": {
      "image/png": "[encoded data removed]",
      "text/plain": [
       "<Figure size 432x288 with 1 Axes>"
      ]
     },
     "metadata": {
      "needs_background": "light"
     },
     "output_type": "display_data"
    },
    {
     "name": "stdout",
     "output_type": "stream",
     "text": [
      "gold label NPs have 2.091 +/- 0.834 tokens\n",
      "annotation NPs have 1.943 +/- 0.879 tokens\n"
     ]
    }
   ],
   "source": [
    "from nltk.tokenize import WordPunctTokenizer\n",
    "import numpy as np\n",
    "tokenizer = WordPunctTokenizer()\n",
    "label_token_counts = list(map(lambda x: len(tokenizer.tokenize(x)), valid_annotated_data_labels))\n",
    "flat_annotation_labels = [z for x in valid_annotated_data for y in x['additional_answers'] for z in y]\n",
    "annotation_label_token_counts = [len(tokenizer.tokenize(x)) for x in flat_annotation_labels]\n",
    "## show both distributions\n",
    "plt.hist(label_token_counts, bins=max(label_token_counts)-1)\n",
    "plt.xlabel('Token count')\n",
    "plt.title('Gold labels')\n",
    "plt.show()\n",
    "plt.hist(annotation_label_token_counts, bins=max(annotation_label_token_counts)-1)\n",
    "plt.xlabel('Token count')\n",
    "plt.title('Annotation labels')\n",
    "plt.show()\n",
    "print('gold label NPs have %.3f +/- %.3f tokens'%(np.mean(label_token_counts), np.std(label_token_counts)))\n",
    "print('annotation NPs have %.3f +/- %.3f tokens'%(np.mean(annotation_label_token_counts), np.std(annotation_label_token_counts)))\n",
    "## failed attempt to plot overlap (small bars)\n",
    "# import seaborn as sns\n",
    "# combined_token_counts = pd.DataFrame([\n",
    "#     label_token_counts + annotation_label_token_counts,\n",
    "#     ['gold',]*len(label_token_counts) + ['annotation',]*len(annotation_label_token_counts)\n",
    "# ], index=['token_count', 'label_type']).transpose()\n",
    "# sns.histplot(data=combined_token_counts, x='token_count', \n",
    "#              hue='label_type', stat='probability', common_norm=False,\n",
    "#              multiple='dodge')\n",
    "# plt.show()"
   ]
  },
  {
   "cell_type": "markdown",
   "id": "general-tractor",
   "metadata": {},
   "source": [
    "The gold labels tend to be slightly longer, and annotation labels are more central-skewed (2 words or below) vs. the long tail of tokens in the gold labels."
   ]
  },
  {
   "cell_type": "markdown",
   "id": "hourly-coach",
   "metadata": {},
   "source": [
    "What are the longest/shortest labels in each set?"
   ]
  },
  {
   "cell_type": "code",
   "execution_count": 48,
   "id": "historic-kazakhstan",
   "metadata": {
    "scrolled": true
   },
   "outputs": [
    {
     "name": "stdout",
     "output_type": "stream",
     "text": [
      "longest gold label NPs\n"
     ]
    },
    {
     "data": {
      "text/plain": [
       "her over-stressed tank-top          7\n",
       "an innocent cute little baby boy    6\n",
       "the black and white knitting kit    6\n",
       "her ice-skating skills              5\n",
       "an ornately costumed dance squad    5\n",
       "a man's back                        5\n",
       "each other's heads                  5\n",
       "a large multiple dig site           5\n",
       "three-wheeled recumbent bikes       5\n",
       "a person's hands                    5\n",
       "a very well built woman             5\n",
       "a basic photo copy machine          5\n",
       "a complex stretching yoga pose      5\n",
       "a women's leg                       5\n",
       "hand-held weights                   4\n",
       "a yellow reflective vest            4\n",
       "a small robotic vehicle             4\n",
       "a very small do                     4\n",
       "a blow up toy                       4\n",
       "a red hot piece                     4\n",
       "dtype: int64"
      ]
     },
     "metadata": {},
     "output_type": "display_data"
    },
    {
     "name": "stdout",
     "output_type": "stream",
     "text": [
      "longest annotation NPs\n"
     ]
    },
    {
     "data": {
      "text/plain": [
       "a boy in black and a boy in blue t-shirt                12\n",
       "the poor animal who needs it's wool to stay warm        12\n",
       "2 teams, one in yellow jerseys and one white jerseys    11\n",
       "a girl in t-shirt and bathing suit bottom               10\n",
       "a cowboy wearing blue jeans and blue jean jacket         9\n",
       "a man in shorts and black t-shirt                        9\n",
       "a male wearing shoes and black pants with stripes        9\n",
       "a t-shirt with a pyramid on it                           9\n",
       "a kid in pants and t-shirt                               8\n",
       "a girl in t-shirt and jeans                              8\n",
       "2 males wearing a blue shirt and shorts                  8\n",
       "a man in shorts and t-shirt                              8\n",
       "man in a white shirt and black pants                     8\n",
       "a kid in black shirt and black pants                     8\n",
       "the street in front of the house driveway                8\n",
       "a man wearing glasses and a hat,                         8\n",
       "a grass area next to a parking lot                       8\n",
       "2 people total and 1 in full view                        8\n",
       "a baby wearing t-shirt and shorts                        8\n",
       "2 young kids with shorts and no shirts                   8\n",
       "dtype: int64"
      ]
     },
     "metadata": {},
     "output_type": "display_data"
    }
   ],
   "source": [
    "label_token_count_data = pd.Series(label_token_counts, index=list(map(lambda x: x.lower(), valid_annotated_data_labels))).sort_values(inplace=False, ascending=False)\n",
    "flat_annotation_label_token_count_data = pd.Series(annotation_label_token_counts, index=list(map(lambda x: x.lower(), flat_annotation_labels))).sort_values(inplace=False, ascending=False)\n",
    "label_token_count_data = label_token_count_data[~label_token_count_data.index.duplicated()]\n",
    "flat_annotation_label_token_count_data = flat_annotation_label_token_count_data[~flat_annotation_label_token_count_data.index.duplicated()]\n",
    "print('longest gold label NPs')\n",
    "display(label_token_count_data.head(20))\n",
    "print('longest annotation NPs')\n",
    "display(flat_annotation_label_token_count_data.head(20))"
   ]
  },
  {
   "cell_type": "markdown",
   "id": "vertical-prince",
   "metadata": {},
   "source": [
    "The longest NPs for the gold labels tend to have multiple adjectives (`an innocent cute little baby boy`) and possessive markers (`a man's back`).\n",
    "\n",
    "The longest NPs for the annotation labels tend to have coordination (`a man in shorts and black t-shirt`) and long, unnecessary subclauses (`the poor animal who needs it's wool to stay warm`)."
   ]
  },
  {
   "cell_type": "markdown",
   "id": "raised-dairy",
   "metadata": {},
   "source": [
    "### Unique NPs per question\n",
    "How many unique NPs does each question get?"
   ]
  },
  {
   "cell_type": "code",
   "execution_count": 66,
   "id": "sticky-multiple",
   "metadata": {},
   "outputs": [
    {
     "data": {
      "image/png": "[encoded data removed]",
      "text/plain": [
       "<Figure size 432x288 with 1 Axes>"
      ]
     },
     "metadata": {
      "needs_background": "light"
     },
     "output_type": "display_data"
    },
    {
     "data": {
      "image/png": "[encoded data removed]",
      "text/plain": [
       "<Figure size 432x288 with 1 Axes>"
      ]
     },
     "metadata": {
      "needs_background": "light"
     },
     "output_type": "display_data"
    },
    {
     "name": "stdout",
     "output_type": "stream",
     "text": [
      "questions have an average of 12.563 +/- 4.393 unique labels\n",
      "annotators have an average of 2.704 +/- 0.534 unique labels\n"
     ]
    }
   ],
   "source": [
    "def get_num_unique_labels_per_annotator(data):\n",
    "    ## TODO: only include first label from each annotator? some annotators may have included extra words just for bonus\n",
    "    data_annotation_label_sets = [set([y.lower() for y in x]) for x in data['additional_answers']]\n",
    "    num_unique_data_annotation_labels = list(map(lambda x: len(x), data_annotation_label_sets))\n",
    "    mean_unique_data_annotation_labels = np.mean(num_unique_data_annotation_labels)\n",
    "    return mean_unique_data_annotation_labels\n",
    "unique_labels_per_question = list(map(lambda x: list(sorted(set([z.lower() for y in x['additional_answers'] for z in y]))), valid_annotated_data))\n",
    "num_unique_labels_per_question = list(map(lambda x: len(x), unique_labels_per_question))\n",
    "num_unique_labels_per_question_per_annotator = list(map(lambda x: get_num_unique_labels_per_annotator(x), valid_annotated_data))\n",
    "plt.hist(num_unique_labels_per_question){}\n",
    "plt.xlabel('Number unique labels')\n",
    "plt.title('Labels per question')\n",
    "plt.show()\n",
    "plt.hist(num_unique_labels_per_question_per_annotator)\n",
    "plt.xlabel('Number unique labels')\n",
    "plt.title('Labels per question (per annotator)')\n",
    "plt.show()\n",
    "print('questions have an average of %.3f +/- %.3f unique labels'%(np.mean(num_unique_labels_per_question), np.std(num_unique_labels_per_question)))\n",
    "print('annotators have an average of %.3f +/- %.3f unique labels'%(np.mean(num_unique_labels_per_question_per_annotator), np.std(num_unique_labels_per_question_per_annotator)))"
   ]
  },
  {
   "cell_type": "markdown",
   "id": "innovative-flood",
   "metadata": {},
   "source": [
    "Most questions have around 12 unique labels total and 3 unique labels per annotator."
   ]
  },
  {
   "cell_type": "markdown",
   "id": "genetic-empty",
   "metadata": {},
   "source": [
    "Which questions have the most unique labels per annotator?"
   ]
  },
  {
   "cell_type": "code",
   "execution_count": 67,
   "id": "important-warner",
   "metadata": {
    "scrolled": false
   },
   "outputs": [
    {
     "name": "stdout",
     "output_type": "stream",
     "text": [
      "questions with highest number unique labels per annotator\n"
     ]
    },
    {
     "data": {
      "text/html": [
       "<div>\n",
       "<style scoped>\n",
       "    .dataframe tbody tr th:only-of-type {\n",
       "        vertical-align: middle;\n",
       "    }\n",
       "\n",
       "    .dataframe tbody tr th {\n",
       "        vertical-align: top;\n",
       "    }\n",
       "\n",
       "    .dataframe thead th {\n",
       "        text-align: right;\n",
       "    }\n",
       "</style>\n",
       "<table border=\"1\" class=\"dataframe\">\n",
       "  <thead>\n",
       "    <tr style=\"text-align: right;\">\n",
       "      <th></th>\n",
       "      <th>prompt</th>\n",
       "      <th>unique_label_count</th>\n",
       "      <th>unique_labels</th>\n",
       "    </tr>\n",
       "  </thead>\n",
       "  <tbody>\n",
       "    <tr>\n",
       "      <th>278</th>\n",
       "      <td>_____ lifts a heavy weight from the ground up.</td>\n",
       "      <td>5.0</td>\n",
       "      <td>[a body builder, a bodybuilder, a female, a female athlete, a female body builder, a female bodybuilder, a gal, a girl, a lady, a small lady, a small woman, a tiny lady, a weight lifter, a woman, ...</td>\n",
       "    </tr>\n",
       "    <tr>\n",
       "      <th>905</th>\n",
       "      <td>A group of drivers race cars on _____ in front of onlookers.</td>\n",
       "      <td>4.8</td>\n",
       "      <td>[a circuit, a course, a dirt track, a field, a racetrack, a raceway, a speedway, a stretch, a track, clay, dirt, dirt path, dry sand, mud, race grounds, sand, the dirt, the ground, the mud, the tr...</td>\n",
       "    </tr>\n",
       "    <tr>\n",
       "      <th>260</th>\n",
       "      <td>A man is walking by _____ that is completely full then comes back and smashes the computer monitor sitting on top with a baseball bat.</td>\n",
       "      <td>4.714286</td>\n",
       "      <td>[a bin, a black bin, a black bin with garbage, a black garbage bin, a black rubbish bin, a black trash can, a black trashcan, a dumpster, a garbage bin, a garbage can, a garbage receptacle, a grey...</td>\n",
       "    </tr>\n",
       "    <tr>\n",
       "      <th>427</th>\n",
       "      <td>A group of _____ in pink tutus dancing in a circle on stage.</td>\n",
       "      <td>4.428571</td>\n",
       "      <td>[arm-in-arm girls, balet students, ballerinas, children, dancers, girls, kids, little girls, little kids, students, toddlers, young ballerinas, young dancers, young girls]</td>\n",
       "    </tr>\n",
       "    <tr>\n",
       "      <th>45</th>\n",
       "      <td>A woman works with _____ at a spinning potter's wheel.</td>\n",
       "      <td>4.428571</td>\n",
       "      <td>[a bowl, a class, a piece of pottery, boys, boys and girls, clay, ease, focus, girls, her children, her class, her family, her hands, her kids, her students, kids, lady, mud, potter, pottery, skil...</td>\n",
       "    </tr>\n",
       "    <tr>\n",
       "      <th>831</th>\n",
       "      <td>_____ uses several smaller containers to efficiently pack a suitcase while music plays.</td>\n",
       "      <td>4.333333</td>\n",
       "      <td>[a chick, a girl, a lady, a lass, a person, a traveler, a woman, female, person, someone, woman, young lady]</td>\n",
       "    </tr>\n",
       "    <tr>\n",
       "      <th>835</th>\n",
       "      <td>_____ was picking berries from a bush outside on a sunny day.</td>\n",
       "      <td>4.333333</td>\n",
       "      <td>[a family, a mother and daughter, a person, a woman, a woman and a girl, a young lady and an old lady, adult and child, duo, folks, girl, mother and daughter, people, woman]</td>\n",
       "    </tr>\n",
       "    <tr>\n",
       "      <th>936</th>\n",
       "      <td>_____ kicks soccer balls into a net while on a grass field.</td>\n",
       "      <td>4.333333</td>\n",
       "      <td>[a boy, a child, a guy, a human, a kid, a male, a person, a player, a soccer player, a son, a team member, a young boy, a youth, an adolescent, athlete, boy, my daughter's friend, our neighbor, pl...</td>\n",
       "    </tr>\n",
       "    <tr>\n",
       "      <th>576</th>\n",
       "      <td>_____ plays an instrument while wearing a pink shirt.</td>\n",
       "      <td>4.2</td>\n",
       "      <td>[a bald man, a guy, a man, a musician, a performer, a person, a saxophone player, a saxophonist, a singer, an entertainer, an individual, an old man, an older man, artist, musician, someone]</td>\n",
       "    </tr>\n",
       "    <tr>\n",
       "      <th>749</th>\n",
       "      <td>A man standing in front of a microphone playing some kind of _____.</td>\n",
       "      <td>4.2</td>\n",
       "      <td>[an harmonica-like instrument, flute, instrument, music, musical instrument, noise, pan flute, pan flute music, panflute, pipe, song, tool, unknown instrument, wood instrument, wooden instrument, ...</td>\n",
       "    </tr>\n",
       "  </tbody>\n",
       "</table>\n",
       "</div>"
      ],
      "text/plain": [
       "                                                                                                                                     prompt  ...                                                                                                                                                                                            unique_labels\n",
       "278                                                                                          _____ lifts a heavy weight from the ground up.  ...  [a body builder, a bodybuilder, a female, a female athlete, a female body builder, a female bodybuilder, a gal, a girl, a lady, a small lady, a small woman, a tiny lady, a weight lifter, a woman, ...\n",
       "905                                                                            A group of drivers race cars on _____ in front of onlookers.  ...  [a circuit, a course, a dirt track, a field, a racetrack, a raceway, a speedway, a stretch, a track, clay, dirt, dirt path, dry sand, mud, race grounds, sand, the dirt, the ground, the mud, the tr...\n",
       "260  A man is walking by _____ that is completely full then comes back and smashes the computer monitor sitting on top with a baseball bat.  ...  [a bin, a black bin, a black bin with garbage, a black garbage bin, a black rubbish bin, a black trash can, a black trashcan, a dumpster, a garbage bin, a garbage can, a garbage receptacle, a grey...\n",
       "427                                                                            A group of _____ in pink tutus dancing in a circle on stage.  ...                              [arm-in-arm girls, balet students, ballerinas, children, dancers, girls, kids, little girls, little kids, students, toddlers, young ballerinas, young dancers, young girls]\n",
       "45                                                                                   A woman works with _____ at a spinning potter's wheel.  ...  [a bowl, a class, a piece of pottery, boys, boys and girls, clay, ease, focus, girls, her children, her class, her family, her hands, her kids, her students, kids, lady, mud, potter, pottery, skil...\n",
       "831                                                 _____ uses several smaller containers to efficiently pack a suitcase while music plays.  ...                                                                                             [a chick, a girl, a lady, a lass, a person, a traveler, a woman, female, person, someone, woman, young lady]\n",
       "835                                                                           _____ was picking berries from a bush outside on a sunny day.  ...                            [a family, a mother and daughter, a person, a woman, a woman and a girl, a young lady and an old lady, adult and child, duo, folks, girl, mother and daughter, people, woman]\n",
       "936                                                                             _____ kicks soccer balls into a net while on a grass field.  ...  [a boy, a child, a guy, a human, a kid, a male, a person, a player, a soccer player, a son, a team member, a young boy, a youth, an adolescent, athlete, boy, my daughter's friend, our neighbor, pl...\n",
       "576                                                                                   _____ plays an instrument while wearing a pink shirt.  ...           [a bald man, a guy, a man, a musician, a performer, a person, a saxophone player, a saxophonist, a singer, an entertainer, an individual, an old man, an older man, artist, musician, someone]\n",
       "749                                                                     A man standing in front of a microphone playing some kind of _____.  ...  [an harmonica-like instrument, flute, instrument, music, musical instrument, noise, pan flute, pan flute music, panflute, pipe, song, tool, unknown instrument, wood instrument, wooden instrument, ...\n",
       "\n",
       "[10 rows x 3 columns]"
      ]
     },
     "metadata": {},
     "output_type": "display_data"
    },
    {
     "name": "stdout",
     "output_type": "stream",
     "text": [
      "questions with lowest number unique labels per annotator\n"
     ]
    },
    {
     "data": {
      "text/html": [
       "<div>\n",
       "<style scoped>\n",
       "    .dataframe tbody tr th:only-of-type {\n",
       "        vertical-align: middle;\n",
       "    }\n",
       "\n",
       "    .dataframe tbody tr th {\n",
       "        vertical-align: top;\n",
       "    }\n",
       "\n",
       "    .dataframe thead th {\n",
       "        text-align: right;\n",
       "    }\n",
       "</style>\n",
       "<table border=\"1\" class=\"dataframe\">\n",
       "  <thead>\n",
       "    <tr style=\"text-align: right;\">\n",
       "      <th></th>\n",
       "      <th>prompt</th>\n",
       "      <th>unique_label_count</th>\n",
       "      <th>unique_labels</th>\n",
       "    </tr>\n",
       "  </thead>\n",
       "  <tbody>\n",
       "    <tr>\n",
       "      <th>645</th>\n",
       "      <td>A man demonstrates how to install _____.</td>\n",
       "      <td>1.666667</td>\n",
       "      <td>[a bicycle chain, a bike chain, a cycle chain, a master link, a new bike chain, a piece of equipement, new chain links, the chain]</td>\n",
       "    </tr>\n",
       "    <tr>\n",
       "      <th>863</th>\n",
       "      <td>The man in _____ checks and trims the toenails of a small animal.</td>\n",
       "      <td>1.625</td>\n",
       "      <td>[a black sweater, a knit shirt, a sweater, a warm sweater, black pants, chair, the clip, the vet's office, the video]</td>\n",
       "    </tr>\n",
       "    <tr>\n",
       "      <th>613</th>\n",
       "      <td>Two person one standing on _____ and the other doing a cock wheel.</td>\n",
       "      <td>1.6</td>\n",
       "      <td>[his head, the circle, the floor, the groung, their head, top of his head]</td>\n",
       "    </tr>\n",
       "    <tr>\n",
       "      <th>468</th>\n",
       "      <td>A man juggles balls one-handed and then two-handed and tosses them to a person off-_____.</td>\n",
       "      <td>1.5</td>\n",
       "      <td>[balance, camera, frame, shot, the shot]</td>\n",
       "    </tr>\n",
       "    <tr>\n",
       "      <th>306</th>\n",
       "      <td>A toddler boy is feeding _____ spaghetti at the dinner table.</td>\n",
       "      <td>1.5</td>\n",
       "      <td>[forkfuls of, himself, his belly, his mouth, while sitting and using fork to eat]</td>\n",
       "    </tr>\n",
       "    <tr>\n",
       "      <th>720</th>\n",
       "      <td>A young boy who seems to be timing _____ how fast he can eat a snack.</td>\n",
       "      <td>1.333333</td>\n",
       "      <td>[a challenge of, a recording of, himself, his self, to calculate, to see]</td>\n",
       "    </tr>\n",
       "    <tr>\n",
       "      <th>747</th>\n",
       "      <td>A man, outdoors at a gas station, is demonstrating step-by-_____, how to pump gas.</td>\n",
       "      <td>1.333333</td>\n",
       "      <td>[step, the way]</td>\n",
       "    </tr>\n",
       "    <tr>\n",
       "      <th>214</th>\n",
       "      <td>Two teams play football, and the team in _____ completes a pass.</td>\n",
       "      <td>1.333333</td>\n",
       "      <td>[offense, red jerseys, red shirts, the left]</td>\n",
       "    </tr>\n",
       "    <tr>\n",
       "      <th>705</th>\n",
       "      <td>Packages of paper are being wrapped in paper plastic and stacked on _____ of each other.</td>\n",
       "      <td>1.25</td>\n",
       "      <td>[a device next, a machine, top]</td>\n",
       "    </tr>\n",
       "    <tr>\n",
       "      <th>847</th>\n",
       "      <td>A person is showing how _____ open a beer with a screw driver indoors.</td>\n",
       "      <td>1.0</td>\n",
       "      <td>[he, people, to screw open, you]</td>\n",
       "    </tr>\n",
       "  </tbody>\n",
       "</table>\n",
       "</div>"
      ],
      "text/plain": [
       "                                                                                        prompt  ...                                                                                                                       unique_labels\n",
       "645                                                   A man demonstrates how to install _____.  ...  [a bicycle chain, a bike chain, a cycle chain, a master link, a new bike chain, a piece of equipement, new chain links, the chain]\n",
       "863                          The man in _____ checks and trims the toenails of a small animal.  ...               [a black sweater, a knit shirt, a sweater, a warm sweater, black pants, chair, the clip, the vet's office, the video]\n",
       "613                         Two person one standing on _____ and the other doing a cock wheel.  ...                                                          [his head, the circle, the floor, the groung, their head, top of his head]\n",
       "468  A man juggles balls one-handed and then two-handed and tosses them to a person off-_____.  ...                                                                                            [balance, camera, frame, shot, the shot]\n",
       "306                              A toddler boy is feeding _____ spaghetti at the dinner table.  ...                                                   [forkfuls of, himself, his belly, his mouth, while sitting and using fork to eat]\n",
       "720                      A young boy who seems to be timing _____ how fast he can eat a snack.  ...                                                           [a challenge of, a recording of, himself, his self, to calculate, to see]\n",
       "747         A man, outdoors at a gas station, is demonstrating step-by-_____, how to pump gas.  ...                                                                                                                     [step, the way]\n",
       "214                           Two teams play football, and the team in _____ completes a pass.  ...                                                                                        [offense, red jerseys, red shirts, the left]\n",
       "705   Packages of paper are being wrapped in paper plastic and stacked on _____ of each other.  ...                                                                                                     [a device next, a machine, top]\n",
       "847                     A person is showing how _____ open a beer with a screw driver indoors.  ...                                                                                                    [he, people, to screw open, you]\n",
       "\n",
       "[10 rows x 3 columns]"
      ]
     },
     "metadata": {},
     "output_type": "display_data"
    }
   ],
   "source": [
    "pd.set_option('display.max_colwidth', 200)\n",
    "question_prompts = list(map(lambda x: x['masked_caption'], valid_annotated_data))\n",
    "\n",
    "unique_labels_per_question_per_annotator_data = pd.DataFrame([\n",
    "    question_prompts,\n",
    "    unique_labels_per_question_per_annotator,\n",
    "    unique_labels_per_question,\n",
    "], index=['prompt', 'unique_label_count', 'unique_labels']).transpose()\n",
    "unique_labels_per_question_per_annotator_data.sort_values('unique_label_count', inplace=True, ascending=False)\n",
    "print('questions with highest number unique labels per annotator')\n",
    "display(unique_labels_per_question_per_annotator_data.head(10))\n",
    "print('questions with lowest number unique labels per annotator')\n",
    "display(unique_labels_per_question_per_annotator_data.tail(10))"
   ]
  },
  {
   "cell_type": "markdown",
   "id": "younger-arthritis",
   "metadata": {},
   "source": [
    "Questions with higher number of unique labels seem to inspire creative answers (`a group of ____ in pink tutus` => different paraphrases for `child`) and address multiple possible aspects of an event due to ambiguity (`a woman works with ____` => \"with\" applies to other `AGENT` nouns and `INSTRUMENT` nouns).\n",
    "\n",
    "Questions with lower number of unique labels seem to have very specific scenarios without room for paraphrasing or ambiguity (`to a person off-____` => the blank can only be \"camera\")."
   ]
  },
  {
   "cell_type": "markdown",
   "metadata": {},
   "source": [
    "### Assessing visual cues\n",
    "Some nouns and adjectives have more obvious visual cues than others, ex. \"green\" has clear visual component whereas \"kind\" is more subjective.\n",
    "\n",
    "Let's look for these visual cues in the labels and annotations using some word lists:\n",
    "- color\n",
    "- size\n",
    "- number"
   ]
  },
  {
   "cell_type": "code",
   "execution_count": 29,
   "metadata": {},
   "outputs": [],
   "source": [
    "## TODO: expand word sets using word embeddings (nearest neighbors + filtering)\n",
    "color_words = {\n",
    "    'red', 'blue', 'green', 'yellow', 'purple', 'orange', 'black', 'white', 'gray', 'grey',\n",
    "    'colorful', 'painted',\n",
    "}\n",
    "size_words = {\n",
    "    'large', 'huge', 'giant', 'small', 'little', 'tiny',\n",
    "}\n",
    "number_words = {\n",
    "    'one', 'two', 'three', 'four', 'five', 'six', 'seven', 'eight', 'nine', 'ten',\n",
    "    'several', 'few', 'many',\n",
    "}\n",
    "visual_word_sets = [\n",
    "    color_words, size_words, number_words,\n",
    "]\n",
    "visual_word_set_names = [\n",
    "    'color', 'size', 'number',\n",
    "]"
   ]
  },
  {
   "cell_type": "code",
   "execution_count": 40,
   "metadata": {},
   "outputs": [],
   "source": [
    "import sys\n",
    "if('..' not in sys.path):\n",
    "    sys.path.append('..')\n",
    "from lqam.core.metrics import normalize_answer, tokenize_answer_to_compute_metrics\n",
    "def normalize_tokenize(label):\n",
    "    label_tokens = tokenize_answer_to_compute_metrics(normalize_answer(label))\n",
    "    return label_tokens\n",
    "## tokenize everything\n",
    "label_tokens = list(map(lambda x: normalize_tokenize(x['label']), annotated_data))\n",
    "annotation_label_tokens = [[normalize_tokenize(z) for z in y] for x in valid_annotated_data for y in x['additional_answers']]"
   ]
  },
  {
   "cell_type": "code",
   "execution_count": 71,
   "metadata": {
    "scrolled": true
   },
   "outputs": [
    {
     "data": {
      "image/png": "[encoded data removed]",
      "text/plain": [
       "<Figure size 432x144 with 2 Axes>"
      ]
     },
     "metadata": {
      "needs_background": "light"
     },
     "output_type": "display_data"
    },
    {
     "name": "stdout",
     "output_type": "stream",
     "text": [
      "proportion of <color> word matches for labels:\n",
      "   word_count  label_word_match_pct  annotation_word_match_pct\n",
      "0           0              0.984802                   0.986248\n",
      "1           1              0.014184                   0.012910\n",
      "2           2              0.001013                   0.000842\n"
     ]
    },
    {
     "data": {
      "image/png": "[encoded data removed]",
      "text/plain": [
       "<Figure size 432x144 with 2 Axes>"
      ]
     },
     "metadata": {
      "needs_background": "light"
     },
     "output_type": "display_data"
    },
    {
     "name": "stdout",
     "output_type": "stream",
     "text": [
      "proportion of <size> word matches for labels:\n",
      "   word_count  label_word_match_pct  annotation_word_match_pct\n",
      "0           0              0.969605                   0.991636\n",
      "1           1              0.030395                   0.008364\n"
     ]
    },
    {
     "data": {
      "image/png": "[encoded data removed]",
      "text/plain": [
       "<Figure size 432x144 with 2 Axes>"
      ]
     },
     "metadata": {
      "needs_background": "light"
     },
     "output_type": "display_data"
    },
    {
     "name": "stdout",
     "output_type": "stream",
     "text": [
      "proportion of <number> word matches for labels:\n",
      "   word_count  label_word_match_pct  annotation_word_match_pct\n",
      "0           0              0.963526                   0.986191\n",
      "1           1              0.036474                   0.013809\n"
     ]
    }
   ],
   "source": [
    "## get counts, plot distribution of visual words\n",
    "import matplotlib\n",
    "%matplotlib inline\n",
    "import matplotlib.pyplot as plt\n",
    "for visual_word_set, visual_word_set_name in zip(visual_word_sets, visual_word_set_names):\n",
    "    label_word_matches = list(map(lambda x: set(x) & visual_word_set, label_tokens))\n",
    "    annotation_label_word_matches = [set(y) & visual_word_set for x in annotation_label_tokens for y in x]\n",
    "    num_label_word_matches = list(map(lambda x: len(x), label_word_matches))\n",
    "    num_annotation_label_word_matches = list(map(lambda x: len(x), annotation_label_word_matches))\n",
    "    f, axs = plt.subplots(nrows=1, ncols=2, figsize=(6, 2))\n",
    "    axs[0].hist(num_label_word_matches)\n",
    "    axs[1].hist(num_annotation_label_word_matches)\n",
    "    axs[0].set_title(f'Label {visual_word_set_name} matches')\n",
    "    axs[1].set_title(f'Annotation {visual_word_set_name} matches')\n",
    "    axs[0].set_xlabel('Word set overlap')\n",
    "    axs[1].set_xlabel('Word set overlap')\n",
    "    plt.suptitle(f'Overlap with <{visual_word_set_name}> words')\n",
    "    plt.yscale('log')\n",
    "    plt.tight_layout()\n",
    "    plt.show()\n",
    "    # compute proportion of visual words per question\n",
    "    pct_label_word_matches = pd.Series(num_label_word_matches).value_counts() / len(num_label_word_matches)\n",
    "    pct_annotation_label_word_matches = pd.Series(num_annotation_label_word_matches).value_counts() / len(num_annotation_label_word_matches)\n",
    "    pct_word_matches = pd.concat([pct_label_word_matches, pct_annotation_label_word_matches], axis=1).reset_index()\n",
    "    pct_word_matches.columns = ['word_count', 'label_word_match_pct', 'annotation_word_match_pct']\n",
    "#     pct_word_matches.columns = ['label_match_pct', 'annotation_label_match_pct']\n",
    "    print(f'proportion of <{visual_word_set_name}> word matches for labels:\\n{pct_word_matches}')"
   ]
  },
  {
   "cell_type": "markdown",
   "metadata": {},
   "source": [
    "Overall, the annotations tend to have about the rate of color words as the labels, but the annotations also have fewer size and number words than the labels."
   ]
  },
  {
   "cell_type": "markdown",
   "metadata": {},
   "source": [
    "What are some example questions where the label contains a visual word but the annotations do not?"
   ]
  },
  {
   "cell_type": "code",
   "execution_count": 62,
   "metadata": {
    "scrolled": true
   },
   "outputs": [
    {
     "name": "stdout",
     "output_type": "stream",
     "text": [
      "*~*~*~* testing word set color *~*~*~*\n",
      "caption=<A red hot piece of bent steel is being formed with a metal sledge hammer on the end of a  steel table.>\n",
      "label=<A red hot piece> has matches <{'red'}>\n",
      "annotations do not have matches: <[['A horseshoe', 'A shoe', 'An arch', 'A U-shape', 'An object'], ['A piece', 'A horseshoe'], ['a rod', 'a segment'], ['hot iron'], ['A large are', 'A big area'], ['A piece', 'A long piece', 'A hot piece'], ['A piece', 'A rod', 'A chunk'], ['A piece', 'A part'], ['A piece', 'A heated piece']]>\n",
      "---------\n",
      "caption=<A gir lis trying to stitching up the black and white knitting kit with a knitting needle.>\n",
      "label=<the black and white knitting kit> has matches <{'white', 'black'}>\n",
      "annotations do not have matches: <[['a scarf', 'a line on a scarf'], ['a piece of clothing', 'some cloth'], ['a scarf', 'her scarf'], ['crochet', 'string', 'thread'], ['a scarf', 'some fabric']]>\n",
      "---------\n",
      "caption=<A man is using a strainer to strain a black grainy substance, while music is playing and a little boy is talking.>\n",
      "label=<a black grainy substance> has matches <{'black'}>\n",
      "annotations do not have matches: <[['coffee', 'beans', 'coffee beans', 'greaseballs', 'brilliatine'], ['beans', 'espresso', 'coffee'], ['coffee beans', 'ground coffee']]>\n",
      "---------\n",
      "*~*~*~* testing word set size *~*~*~*\n",
      "caption=<Two little boys sword fight with wooden sticks and swords.>\n",
      "label=<Two little boys> has matches <{'little'}>\n",
      "annotations do not have matches: <[['Two swordsmen', 'A man and a child', 'A boy and a person', 'An adult and a kid'], ['A boy', 'A kid', 'A child', 'A son'], ['children', 'kids'], [\"Child's\", \"Youngster's\"], ['A father and son']]>\n",
      "---------\n",
      "caption=<A little baby is sitting still while making baby noises.>\n",
      "label=<A little baby> has matches <{'little'}>\n",
      "annotations do not have matches: <[['a shirtless baby', 'a baby boy', 'a bald baby', 'baby with no shirt', 'baby with red diaper'], ['The baby', 'The child'], ['a baby', 'an infant'], ['A baby', 'A baby boy'], ['A baby', 'A toddler', 'A child', 'A kid', 'A youngster']]>\n",
      "---------\n",
      "caption=<Workers are excavating a large multiple dig site looking for treasures.>\n",
      "label=<a large multiple dig site> has matches <{'large'}>\n",
      "annotations do not have matches: <[['ground', 'dirt'], ['bones', 'remains', 'artifacts'], ['the ground', 'the dirt', 'a site', 'a dig'], ['the land', 'dirt']]>\n",
      "---------\n",
      "caption=<Two boys playing table tennis inside of a small room.>\n",
      "label=<a small room> has matches <{'small'}>\n",
      "annotations do not have matches: <[['a garage', 'a basement'], ['a basement', 'their basement', 'their home', 'their house', 'a house', 'a rec room', 'a recreational room', 'a rec center', 'a recreational center'], ['a room'], ['the garage', 'their home'], ['a garage', 'a room'], ['a room', 'a basement']]>\n",
      "---------\n",
      "caption=<A little boy walks a very small do that takes off running.>\n",
      "label=<a very small do> has matches <{'small'}>\n",
      "annotations do not have matches: <[['a dog', 'a puppy', 'a wolf creature'], ['a dog', 'a puppy'], ['his dog', 'his puppy'], ['a dog', 'a puppy', 'a chihuahua', 'a pup', 'a doggy'], ['his dog', 'his pet']]>\n",
      "---------\n",
      "caption=<A person remote controlling a small robotic vehicle in a small track.>\n",
      "label=<a small robotic vehicle> has matches <{'small'}>\n",
      "annotations do not have matches: <[['a car', 'a sail', 'a land sail', 'a remote control land sail'], ['a car', 'a machine', 'a cart'], ['a remote control car', 'remote controlled toy'], ['a land sail', 'a sail car', 'an R/C car', 'a radio controlled car', 'a radio controlled sailing car'], ['a boat', 'a toy']]>\n",
      "---------\n",
      "caption=<An open air gym shows a large group of women particpating in a dance or excercise class.>\n",
      "label=<a large group> has matches <{'large'}>\n",
      "annotations do not have matches: <[['a class', 'a group', 'a crowd', 'a mass'], ['a group', 'a class', 'a gaggle'], ['a group', 'a set', 'a bunch'], ['a lot', 'a plethora', 'tens'], ['class', 'team'], ['a group', 'lots'], ['a group', 'a multitude']]>\n",
      "---------\n",
      "caption=<A Policeman outside directing traffic on a busy street in a large city having a great time doing it, even showing off with his actions.>\n",
      "label=<a large city> has matches <{'large'}>\n",
      "annotations do not have matches: <[['the rain', 'the cold'], ['town', 'the city'], ['peak hours', 'heavy traffic'], ['a busy city'], ['the cold', 'the city'], ['daylight', 'a city', 'an intersection', 'rush hour', 'the daytime'], ['the rain', 'the city', 'an intersection', 'downtown'], ['city', 'intersection'], ['NYC', 'New York']]>\n",
      "---------\n",
      "caption=<Demonstration and narration on the proper way to use a large knife to cut a carrot.>\n",
      "label=<a large knife> has matches <{'large'}>\n",
      "annotations do not have matches: <[['A knife', 'A utensil'], ['a knife', 'a blade'], ['a knife', \"a chef's knife\", 'a sharp knife'], ['a knife', 'knives', 'cutting utensils', 'a blade', 'a kitchen knife'], ['a knife', 'a razor'], ['a knife', \"a chef's knife\", 'a peeler']]>\n",
      "---------\n",
      "caption=<A person is sitting in front of the camera and is blowing a large bubble gum.>\n",
      "label=<a large bubble gum> has matches <{'large'}>\n",
      "annotations do not have matches: <[['gum', 'bubbles', 'bubble gum', 'a bubble', 'chewing gum'], ['bubbles', 'gum bubbles'], ['bubbles', 'bubblegum'], ['bubbles', 'gum'], ['bubbles', 'gum'], ['a chewing gum', 'candy'], ['bubble gum', 'candy', 'chewing gum']]>\n",
      "---------\n",
      "*~*~*~* testing word set number *~*~*~*\n",
      "caption=<A female stands in a bar with a table with three wine glasses on it and she shows how to open a bottle of wine.>\n",
      "label=<three wine glasses> has matches <{'three'}>\n",
      "annotations do not have matches: <[['wine glasses', 'glasses', 'cups', 'napkins', 'utensils', 'a tablecloth'], ['dishes', 'plates'], ['glasses', 'wine glasses', 'dishes', 'plates', 'silverwear'], ['glasses', 'a table cloth'], ['wine glasass', 'large glasses', 'glasses for wine', 'drinking glasses', 'empty glasses'], ['glasses', 'chairs'], ['wine', 'alcohol']]>\n",
      "---------\n",
      "caption=<Several people are sitting in a church, listening to a pastor speak.>\n",
      "label=<Several people> has matches <{'several'}>\n",
      "annotations do not have matches: <[['People', 'Church guests', 'Some individuals', 'Some people in chairs', 'Some people sitting faced towards the podium'], ['people', 'christians'], ['A group of people', 'People'], ['people', 'congregation'], ['People', 'Patrons', 'Religious people', 'Churchgoers'], ['People', 'Believers', 'Followers', 'Supporters'], ['People'], ['People', 'churchgoers', 'members', 'The community', 'Patrons']]>\n",
      "---------\n",
      "caption=<A person peels back and then proceeds to fold away at several layers of fabric.>\n",
      "label=<several layers> has matches <{'several'}>\n",
      "annotations do not have matches: <[['top corner', 'top right corner'], ['a piece', 'an object made of'], ['piece', 'the corners']]>\n",
      "---------\n",
      "caption=<A heavily muscled man demonstrates working out with two large barbells.>\n",
      "label=<two large barbells> has matches <{'two'}>\n",
      "annotations do not have matches: <[['a set of dumbells', 'himself'], ['weights', 'large hand weights'], ['dumbbells', 'weights'], ['weights', 'dumbbells', 'his arms', 'his shoulders'], ['weights', 'dumbells']]>\n",
      "---------\n"
     ]
    }
   ],
   "source": [
    "## get aligned/valid data\n",
    "valid_label_tokens = list(map(lambda x: normalize_tokenize(x['label']), valid_annotated_data))\n",
    "valid_annotation_label_tokens = [[normalize_tokenize(z) for y in x['additional_answers'] for z in y] for x in valid_annotated_data]\n",
    "# flatten tokens\n",
    "valid_annotation_label_tokens = [[z for y in x for z in y] for x in valid_annotation_label_tokens]\n",
    "sample_size = 10\n",
    "for visual_word_set, visual_word_set_name in zip(visual_word_sets, visual_word_set_names):\n",
    "    print(f'*~*~*~* testing word set {visual_word_set_name} *~*~*~*')\n",
    "    label_word_matches = list(map(lambda x: set(x) & visual_word_set, valid_label_tokens))\n",
    "    annotation_label_word_matches = list(map(lambda x: set(x) & visual_word_set, valid_annotation_label_tokens))\n",
    "    sample_ctr = 0\n",
    "    for data_i, label_word_matches_i, annotation_label_word_matches_i in zip(valid_annotated_data, label_word_matches, annotation_label_word_matches):\n",
    "        if(len(label_word_matches_i) > 0 and len(annotation_label_word_matches_i) == 0):\n",
    "            print(f'caption=<{data_i[\"caption\"]}>')\n",
    "            print(f'label=<{data_i[\"label\"]}> has matches <{label_word_matches_i}>')\n",
    "            print(f'annotations do not have matches: <{data_i[\"additional_answers\"]}>')\n",
    "            print('---------')\n",
    "            sample_ctr += 1\n",
    "            if(sample_ctr >= sample_size):\n",
    "                break"
   ]
  },
  {
   "cell_type": "markdown",
   "metadata": {},
   "source": [
    "- Color: the mismatches are due to highly specific captions, no necessary information being conveyed by the color.\n",
    "- Size: the mismatches are due to annotators focusing more on paraphrases for the noun (`class`, `crowd`, `mass`) and different aspects of the scene (`the rain`, `the city`).\n",
    "- Number: the mismatches are due to annotators focusing more on paraphrases for the noun (`people`, `believers`, `patrons`) and different aspects of the scene (`plates`, `dishes`, `glasses`)."
   ]
  },
  {
   "cell_type": "markdown",
   "metadata": {},
   "source": [
    "### Syntactic complexity\n",
    "Let's look at the relative complexity of the NPs provided by the annotations.\n",
    "\n",
    "We'll use `spacy` for parsing."
   ]
  },
  {
   "cell_type": "code",
   "execution_count": 18,
   "metadata": {},
   "outputs": [],
   "source": [
    "import json\n",
    "val_data = json.load(open('../data/val.json'))"
   ]
  },
  {
   "cell_type": "code",
   "execution_count": 19,
   "metadata": {},
   "outputs": [
    {
     "data": {
      "text/plain": [
       "{'video_id': 'cfBtVPEwqIo',\n",
       " 'video_start_time': 5,\n",
       " 'video_end_time': 15,\n",
       " 'caption': 'In a gym with someone spotting him, a man is lifting weights performing squats in a squat rack.',\n",
       " 'masked_caption': 'In a gym with someone spotting him, a man is lifting _____ performing squats in a squat rack.',\n",
       " 'label': 'weights',\n",
       " 'additional_answers': [['a weight', 'some weights', 'a squat bar'],\n",
       "  ['weight', 'a bar'],\n",
       "  ['weights', 'a heavy load'],\n",
       "  ['weights', 'a lot of weight'],\n",
       "  ['weights', 'a barbell', 'a weight'],\n",
       "  ['weights', '405 lb']]}"
      ]
     },
     "execution_count": 19,
     "metadata": {},
     "output_type": "execute_result"
    }
   ],
   "source": [
    "val_data[0]"
   ]
  },
  {
   "cell_type": "code",
   "execution_count": 1,
   "metadata": {
    "scrolled": true
   },
   "outputs": [
    {
     "name": "stdout",
     "output_type": "stream",
     "text": [
      "this is a test sentence with a complicated noun that has a lot of extra information\n"
     ]
    }
   ],
   "source": [
    "import spacy\n",
    "nlp_pipeline = spacy.load('en_core_web_sm')\n",
    "test_text = 'this is a test sentence with a complicated noun that has a lot of extra information'\n",
    "test_text_parse = nlp_pipeline(test_text)\n",
    "print(test_text_parse)"
   ]
  },
  {
   "cell_type": "code",
   "execution_count": 37,
   "metadata": {},
   "outputs": [
    {
     "name": "stdout",
     "output_type": "stream",
     "text": [
      "[a, complicated, noun, that, has, a, lot, of, extra, information]\n"
     ]
    }
   ],
   "source": [
    "# print(dir(test_text_parse))\n",
    "def extract_noun_subtree(noun, start_idx, tokens):\n",
    "    noun_tokens = []\n",
    "    for token in tokens:\n",
    "#         print(f'token = {token}')\n",
    "        if(token.idx>=start_idx):\n",
    "            if(len(noun) > 0):\n",
    "                # remove token string from noun, add token to list\n",
    "                token_len = len(token)\n",
    "                token_str = noun[:token_len]\n",
    "                noun = noun[token_len:].strip()\n",
    "                noun_tokens.append(token)\n",
    "#                 print(f'updated noun = {noun}')\n",
    "            else:\n",
    "                break\n",
    "    return noun_tokens\n",
    "test_noun = 'a complicated noun that has a lot of extra information'\n",
    "start_idx = test_text.index(test_noun)\n",
    "test_noun_subtree = extract_noun_subtree(test_noun, start_idx, test_text_parse)\n",
    "print(test_noun_subtree)"
   ]
  },
  {
   "cell_type": "code",
   "execution_count": 42,
   "metadata": {},
   "outputs": [],
   "source": [
    "## get start index\n",
    "mask_token = '_____'\n",
    "for data_i in val_data:\n",
    "    data_i.update({'mask_start_idx' : data_i['masked_caption'].index(mask_token)})\n",
    "assert val_data[0]['mask_start_idx'] == 53"
   ]
  },
  {
   "cell_type": "code",
   "execution_count": 45,
   "metadata": {},
   "outputs": [
    {
     "data": {
      "text/plain": [
       "{'video_id': 'cfBtVPEwqIo',\n",
       " 'video_start_time': 5,\n",
       " 'video_end_time': 15,\n",
       " 'caption': 'In a gym with someone spotting him, a man is lifting weights performing squats in a squat rack.',\n",
       " 'masked_caption': 'In a gym with someone spotting him, a man is lifting _____ performing squats in a squat rack.',\n",
       " 'label': 'weights',\n",
       " 'additional_answers': [['a weight', 'some weights', 'a squat bar'],\n",
       "  ['weight', 'a bar'],\n",
       "  ['weights', 'a heavy load'],\n",
       "  ['weights', 'a lot of weight'],\n",
       "  ['weights', 'a barbell', 'a weight'],\n",
       "  ['weights', '405 lb']],\n",
       " 'mask_start_idx': 53}"
      ]
     },
     "execution_count": 45,
     "metadata": {},
     "output_type": "execute_result"
    }
   ],
   "source": [
    "val_data[0]"
   ]
  },
  {
   "cell_type": "code",
   "execution_count": 50,
   "metadata": {},
   "outputs": [
    {
     "name": "stdout",
     "output_type": "stream",
     "text": [
      "processed 0 data\n",
      "processed 100 data\n",
      "processed 200 data\n",
      "processed 300 data\n",
      "processed 400 data\n",
      "processed 500 data\n",
      "processed 600 data\n",
      "processed 700 data\n",
      "processed 800 data\n",
      "processed 900 data\n"
     ]
    }
   ],
   "source": [
    "# parse all possible sentences based on annotations, generate sub-trees\n",
    "def parse_extract_noun_subtree(mask_sent, noun, nlp_pipeline, start_idx, mask_token='_____'):\n",
    "    sent = mask_sent.replace(mask_token, noun)\n",
    "    parse = nlp_pipeline(sent)\n",
    "    subtree = extract_noun_subtree(noun, start_idx, parse)\n",
    "    return subtree\n",
    "def extract_all_annotation_subtrees(data, nlp_pipeline):\n",
    "    mask_token = '_____'\n",
    "    for i, data_i in enumerate(data):\n",
    "        start_idx_i = data_i['mask_start_idx']\n",
    "        mask_sent_i = data_i['masked_caption']\n",
    "        # get subtree for label\n",
    "        label_i = data_i['label']\n",
    "        label_subtree_i = parse_extract_noun_subtree(mask_sent_i, label_i, nlp_pipeline, start_idx_i, mask_token=mask_token)\n",
    "        data_i['label_subtree'] = label_subtree_i\n",
    "        annotation_label_subtrees = []\n",
    "        for annotation_label_list_j in data_i['additional_answers']:\n",
    "            annotation_label_subtrees_j = []\n",
    "            for annotation_label_k in annotation_label_list_j:\n",
    "#                 sent_k = mask_sent_i.replace(mask_token, annotation_label_k)\n",
    "#                 parse_k = nlp_pipeline(sent_k)\n",
    "#                 annotation_subtree_k = extract_noun_subtree(annotation_label_k, start_idx_i, parse_k)\n",
    "                annotation_subtree_k = parse_extract_noun_subtree(mask_sent_i, annotation_label_k, nlp_pipeline, start_idx_i, mask_token=mask_token)\n",
    "                annotation_label_subtrees_j.append(annotation_subtree_k)\n",
    "            annotation_label_subtrees.append(annotation_label_subtrees_j)\n",
    "        data_i['annotation_subtrees'] = annotation_label_subtrees\n",
    "        if(i % 100 == 0):\n",
    "            print(f'processed {i} data')\n",
    "    return data\n",
    "val_data = extract_all_annotation_subtrees(val_data, nlp_pipeline)"
   ]
  },
  {
   "cell_type": "code",
   "execution_count": 51,
   "metadata": {},
   "outputs": [
    {
     "data": {
      "text/plain": [
       "{'video_id': 'cfBtVPEwqIo',\n",
       " 'video_start_time': 5,\n",
       " 'video_end_time': 15,\n",
       " 'caption': 'In a gym with someone spotting him, a man is lifting weights performing squats in a squat rack.',\n",
       " 'masked_caption': 'In a gym with someone spotting him, a man is lifting _____ performing squats in a squat rack.',\n",
       " 'label': 'weights',\n",
       " 'additional_answers': [['a weight', 'some weights', 'a squat bar'],\n",
       "  ['weight', 'a bar'],\n",
       "  ['weights', 'a heavy load'],\n",
       "  ['weights', 'a lot of weight'],\n",
       "  ['weights', 'a barbell', 'a weight'],\n",
       "  ['weights', '405 lb']],\n",
       " 'mask_start_idx': 53,\n",
       " 'annotation_subtrees': [[[a, weight], [some, weights], [a, squat, bar]],\n",
       "  [[weight], [a, bar]],\n",
       "  [[weights], [a, heavy, load]],\n",
       "  [[weights], [a, lot, of, weight]],\n",
       "  [[weights], [a, barbell], [a, weight]],\n",
       "  [[weights], [405, lb]]],\n",
       " 'label_subtree': [weights]}"
      ]
     },
     "execution_count": 51,
     "metadata": {},
     "output_type": "execute_result"
    }
   ],
   "source": [
    "val_data[0]"
   ]
  },
  {
   "cell_type": "markdown",
   "metadata": {},
   "source": [
    "How many labels have extra descriptive information?"
   ]
  },
  {
   "cell_type": "code",
   "execution_count": 89,
   "metadata": {},
   "outputs": [],
   "source": [
    "from collections import defaultdict\n",
    "def has_descriptor(subtree):\n",
    "    # adjective\n",
    "    # get head noun\n",
    "    head_noun = None\n",
    "    subtree_token_ids = list(map(lambda x: x.idx, subtree))\n",
    "    for token in subtree:\n",
    "        token_ancestors = list(token.ancestors)\n",
    "        ancestor_ids = list(map(lambda x: x.idx, token_ancestors))\n",
    "        if(len(set(ancestor_ids) & set(subtree_token_ids)) == 0):\n",
    "            head_noun = token\n",
    "            break\n",
    "    # get immediate head noun children\n",
    "    head_noun_children = list(filter(lambda x: x.idx in subtree_token_ids, list(head_noun.children)))\n",
    "    has_descriptor = any(list(map(lambda x: x.pos_=='ADJ', head_noun_children)))\n",
    "    return has_descriptor\n",
    "def has_subclause(subtree):\n",
    "    # has PREP or COORD\n",
    "    pass"
   ]
  },
  {
   "cell_type": "code",
   "execution_count": 93,
   "metadata": {},
   "outputs": [],
   "source": [
    "test_subtree_1 = val_data[0]['annotation_subtrees'][2][1] # true \"a heavy load\"\n",
    "test_subtree_2 = val_data[0]['annotation_subtrees'][1][1] # false \"a bar\"\n",
    "assert has_descriptor(test_subtree_1)\n",
    "assert not has_descriptor(test_subtree_2)"
   ]
  },
  {
   "cell_type": "code",
   "execution_count": 116,
   "metadata": {},
   "outputs": [],
   "source": [
    "## get descriptors for everything\n",
    "annotation_descriptors = [[[has_descriptor(z) for z in y] for y in x['annotation_subtrees']] for x in val_data]\n",
    "label_descriptors = [has_descriptor(x['label_subtree']) for x in val_data]"
   ]
  },
  {
   "cell_type": "markdown",
   "metadata": {},
   "source": [
    "What are some example labels and annotations with adjectives?"
   ]
  },
  {
   "cell_type": "code",
   "execution_count": 129,
   "metadata": {
    "scrolled": true
   },
   "outputs": [
    {
     "name": "stdout",
     "output_type": "stream",
     "text": [
      "sample labels with descriptor information\n",
      "[young, girl]\n",
      "[another, teenage, boy]\n",
      "[A, young, man]\n",
      "[an, evergreen, tree]\n",
      "[several, layers]\n",
      "[a, long, jump]\n",
      "[a, red, flower]\n",
      "[a, back, twist]\n",
      "[a, makeshift, helmet]\n",
      "[strict, pull, ups]\n",
      "sample annotations with descriptor information\n",
      "[an, old, man]\n",
      "[round, face]\n",
      "[A, young, girl]\n",
      "[a, sharp, knife]\n",
      "[electric, guitar]\n",
      "[scottish, men]\n",
      "[a, heavy, rope]\n",
      "[something, black]\n",
      "[center, stage]\n",
      "[An, old, man]\n"
     ]
    }
   ],
   "source": [
    "## labels\n",
    "import numpy as np\n",
    "np.random.seed(123)\n",
    "sample_size = 10\n",
    "label_descriptor_idx = np.where(np.array(label_descriptors))[0]\n",
    "sample_label_descriptor_idx = np.random.choice(label_descriptor_idx, sample_size, replace=False)\n",
    "print('sample labels with descriptor information')\n",
    "for sample_idx_i in sample_label_descriptor_idx:\n",
    "    print(val_data[sample_idx_i]['label_subtree'])\n",
    "## annotations\n",
    "sample_annotation_descriptor_idx = []\n",
    "for i, data_i in enumerate(annotation_descriptors):\n",
    "    for j, data_j in enumerate(data_i):\n",
    "        for k, data_k in enumerate(data_j):\n",
    "            if(data_k):\n",
    "                sample_annotation_descriptor_idx.append([i,j,k])\n",
    "sample_annotation_descriptor_idx = np.array(sample_annotation_descriptor_idx)\n",
    "np.random.shuffle(sample_annotation_descriptor_idx)\n",
    "sample_annotation_descriptor_idx = sample_annotation_descriptor_idx[:sample_size]\n",
    "print('sample annotations with descriptor information')\n",
    "for i,j,k in sample_annotation_descriptor_idx:\n",
    "    print(val_data[i]['annotation_subtrees'][j][k])\n",
    "# valid_annotation_descriptors = [[np.where(y)[0] for y in x] for x in annotation_descriptors]\n",
    "# sample_annotation_descriptor_idx = np.random.choice(np.where([any([len(y) > 0 for y in x]) for x in valid_annotation_descriptors]),\n",
    "#                                                     sample_size, replace=False)\n"
   ]
  },
  {
   "cell_type": "markdown",
   "metadata": {},
   "source": [
    "The labels and annotations seem to use mostly visual adjectives (`red`, `long`, `round`, `sharp`) as well as some subjective ones (`old`, `young`, `makeshift`, `strict`)."
   ]
  },
  {
   "cell_type": "markdown",
   "metadata": {},
   "source": [
    "Do labels and annotations tend to use the same adjectives?"
   ]
  },
  {
   "cell_type": "code",
   "execution_count": 139,
   "metadata": {
    "scrolled": true
   },
   "outputs": [
    {
     "name": "stdout",
     "output_type": "stream",
     "text": [
      "top descriptor adjectives for labels\n"
     ]
    },
    {
     "data": {
      "text/plain": [
       "young        21\n",
       "large        16\n",
       "little        8\n",
       "small         6\n",
       "various       5\n",
       "white         5\n",
       "different     4\n",
       "other         4\n",
       "long          4\n",
       "indoor        3\n",
       "black         2\n",
       "older         2\n",
       "several       2\n",
       "hot           2\n",
       "human         2\n",
       "yellow        2\n",
       "teenage       2\n",
       "high          2\n",
       "red           2\n",
       "wooden        2\n",
       "dtype: int64"
      ]
     },
     "metadata": {},
     "output_type": "display_data"
    },
    {
     "name": "stdout",
     "output_type": "stream",
     "text": [
      "top descriptor adjectives for annotations\n"
     ]
    },
    {
     "data": {
      "text/plain": [
       "young        168\n",
       "black         56\n",
       "little        55\n",
       "white         46\n",
       "large         46\n",
       "small         38\n",
       "other         34\n",
       "older         28\n",
       "red           27\n",
       "long          25\n",
       "sharp         24\n",
       "electric      22\n",
       "old           22\n",
       "blue          19\n",
       "heavy         19\n",
       "musical       18\n",
       "plastic       17\n",
       "high          17\n",
       "different     15\n",
       "big           15\n",
       "dtype: int64"
      ]
     },
     "metadata": {},
     "output_type": "display_data"
    }
   ],
   "source": [
    "import pandas as pd\n",
    "sample_size = 20\n",
    "## labels\n",
    "label_descriptors_combined = []\n",
    "for has_descriptor_i, data_i in zip(label_descriptors, val_data):\n",
    "    if(has_descriptor_i):\n",
    "        descriptors_i = list(filter(lambda x: x.pos_=='ADJ', data_i['label_subtree']))\n",
    "        descriptors_i = list(map(lambda x: x.text.lower(), descriptors_i))\n",
    "        label_descriptors_combined.extend(descriptors_i)\n",
    "label_descriptor_count = pd.Series(label_descriptors_combined).value_counts()\n",
    "print('top descriptor adjectives for labels')\n",
    "display(label_descriptor_count.head(sample_size))\n",
    "## annotations\n",
    "annotation_descriptors_combined = []\n",
    "for has_descriptor_i, data_i in zip(annotation_descriptors, val_data):\n",
    "    for has_descriptor_j, data_j in zip(has_descriptor_i, data_i['annotation_subtrees']):\n",
    "        for has_descriptor_k, data_k in zip(has_descriptor_j, data_j):\n",
    "            if(has_descriptor_k):\n",
    "                descriptors_k = list(filter(lambda x: x.pos_=='ADJ', data_k))\n",
    "                descriptors_k = list(map(lambda x: x.text.lower(), descriptors_k))\n",
    "                annotation_descriptors_combined.extend(descriptors_k)\n",
    "annotation_descriptor_count = pd.Series(annotation_descriptors_combined).value_counts()\n",
    "print('top descriptor adjectives for annotations')\n",
    "display(annotation_descriptor_count.head(sample_size))"
   ]
  },
  {
   "cell_type": "markdown",
   "metadata": {},
   "source": [
    "- Descriptor adjectives for label phrases include age, size, number words.\n",
    "- Descriptor adjectives for annotation phrases include more color and situation-specific (`electric`, `musical`) words."
   ]
  },
  {
   "cell_type": "markdown",
   "metadata": {},
   "source": [
    "Do annotations tend to use more adjectives than original labels?"
   ]
  },
  {
   "cell_type": "code",
   "execution_count": 147,
   "metadata": {
    "scrolled": true
   },
   "outputs": [
    {
     "name": "stdout",
     "output_type": "stream",
     "text": [
      "true labels have 14.995% descriptor use\n",
      "annotation labels have 8.762% descriptor use\n",
      "rate of descriptor use is different with stat=43.213 (p=4.911E-11)\n"
     ]
    }
   ],
   "source": [
    "label_descriptor_use_rate = sum(label_descriptors) / len(val_data)\n",
    "total_annotation_descriptors_combined = sum([sum([len(y) for y in x['additional_answers']]) for x in val_data])\n",
    "annotation_descriptor_use_rate = len(annotation_descriptors_combined) / total_annotation_descriptors_combined\n",
    "print(f'true labels have %.3f%% descriptor use'%(label_descriptor_use_rate*100))\n",
    "print(f'annotation labels have %.3f%% descriptor use'%(annotation_descriptor_use_rate*100))\n",
    "## is this significant?\n",
    "from scipy.stats import chi2_contingency\n",
    "contingency_table = [\n",
    "    [sum(label_descriptors), len(val_data) - sum(label_descriptors)], # true label\n",
    "    [len(annotation_descriptors_combined), total_annotation_descriptors_combined - len(annotation_descriptors_combined)], # annotation label\n",
    "]\n",
    "chi2, p_val, dof, expected = chi2_contingency(contingency_table)\n",
    "print('rate of descriptor use is different with stat=%.3f (p=%.3E)'%(chi2, p_val))"
   ]
  },
  {
   "cell_type": "markdown",
   "metadata": {},
   "source": [
    "OK! The labels tend to use descriptors at a significantly higher rate than the annotations."
   ]
  },
  {
   "cell_type": "code",
   "execution_count": null,
   "id": "continuous-migration",
   "metadata": {},
   "outputs": [],
   "source": []
  }
 ],
 "metadata": {
  "kernelspec": {
   "display_name": "Python [conda env:py3] *",
   "language": "python",
   "name": "conda-env-py3-py"
  },
  "language_info": {
   "codemirror_mode": {
    "name": "ipython",
    "version": 3
   },
   "file_extension": ".py",
   "mimetype": "text/x-python",
   "name": "python",
   "nbconvert_exporter": "python",
   "pygments_lexer": "ipython3",
   "version": "3.7.9"
  }
 },
 "nbformat": 4,
 "nbformat_minor": 5
}
