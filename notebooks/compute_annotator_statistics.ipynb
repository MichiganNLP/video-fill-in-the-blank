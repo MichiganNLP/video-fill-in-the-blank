{
 "cells": [
  {
   "cell_type": "markdown",
   "metadata": {},
   "source": [
    "# Test annotated data"
   ]
  },
  {
   "cell_type": "code",
   "execution_count": 1,
   "metadata": {
    "scrolled": true
   },
  "outputs": [],
   "source": [
    "import json\n",
    "import sys\n",
    "if('..' not in sys.path):\n",
    "    sys.path.append('..')\n",
    "from lqam.methods.dataset import URL_DATA_VAL\n",
    "# import requests\n",
    "# print(URL_DATA_VAL)\n",
    "# annotated_data = json.loads(requests.get(URL_DATA_VAL).text)\n",
    "annotated_data = json.load(open('../data/val.json', 'r'))"
   ]
  },
  {
   "cell_type": "code",
   "execution_count": 2,
   "metadata": {},
   "outputs": [
    {
     "name": "stdout",
     "output_type": "stream",
     "text": [
      "{\"video_id\": \"b72mXcSFozc\", \"video_start_time\": 41, \"video_end_time\": 51, \"caption\": \"An old man is outside hammering nails into a stone block.\", \"masked_caption\": \"An old man is outside hammering nails into _____.\", \"label\": \"a stone block\", \"additional_answers\": [[\"a piece of granite\", \"a slab of granite\", \"a long chunk of granite\"], [\"cement\", \"rock\", \"a boulder\", \"stone\", \"granite\"], [\"granite\", \"stone\"], [\"a piece of stone\", \"a large rectangle stone on the ground\", \"a large piece of what looks like granite\", \"a light grey rock\"], [\"cement\", \"concrete\", \"a line\"], [\"concrete\", \"a slab of concrete\"], [\"concrete\", \"cement\"], [\"granite\", \"stone\"]]}\n"
     ]
    }
   ],
   "source": [
    "print(json.dumps(annotated_data[10]))"
   ]
  },
  {
   "cell_type": "code",
   "execution_count": 3,
   "metadata": {},
   "outputs": [],
   "source": [
    "## normalize all data\n",
    "import sys\n",
    "if('..' not in sys.path):\n",
    "    sys.path.append('..')\n",
    "from lqam.core.metrics import normalize_answer\n",
    "for data_i in annotated_data:\n",
    "    data_i['label_norm'] = normalize_answer(data_i['label'])\n",
    "    data_i['annotations_norm'] = [[normalize_answer(y) for y in x] for x in data_i['additional_answers']]"
   ]
  },
  {
   "cell_type": "markdown",
   "metadata": {},
   "source": [
    "## Noun distribution\n",
    "Let's look at the top-K nouns for (1) ground-truth data and (2) labeled data."
   ]
  },
  {
   "cell_type": "code",
   "execution_count": 4,
   "metadata": {
    "scrolled": false
   },
   "outputs": [
    {
     "data": {
      "text/plain": [
       "man          50\n",
       "person       27\n",
       "it           23\n",
       "woman        21\n",
       "people       13\n",
       "them         12\n",
       "group        10\n",
       "he           10\n",
       "front        10\n",
       "someone      10\n",
       "boy           8\n",
       "young man     8\n",
       "girl          7\n",
       "camera        7\n",
       "piece         7\n",
       "water         6\n",
       "child         6\n",
       "baby          6\n",
       "table         6\n",
       "music         5\n",
       "dtype: int64"
      ]
     },
     "metadata": {},
     "output_type": "display_data"
    }
   ],
   "source": [
    "import pandas as pd\n",
    "ground_truth_labels = list(map(lambda x: x['label_norm'].lower(), annotated_data))\n",
    "ground_truth_label_counts = pd.Series(ground_truth_labels).value_counts()\n",
    "display(ground_truth_label_counts.head(20))"
   ]
  },
  {
   "cell_type": "code",
   "execution_count": 5,
   "metadata": {
    "scrolled": false
   },
   "outputs": [
    {
     "data": {
      "text/plain": [
       "man        687\n",
       "person     584\n",
       "woman      332\n",
       "guy        241\n",
       "boy        229\n",
       "someone    205\n",
       "people     204\n",
       "child      197\n",
       "girl       196\n",
       "group      175\n",
       "kid        174\n",
       "lady       140\n",
       "baby       119\n",
       "kids       118\n",
       "room        94\n",
       "water       92\n",
       "camera      92\n",
       "music       90\n",
       "ball        90\n",
       "it          87\n",
       "dtype: int64"
      ]
     },
     "metadata": {},
     "output_type": "display_data"
    }
   ],
   "source": [
    "from functools import reduce\n",
    "annotation_labels = []\n",
    "for annotated_data_i in annotated_data:\n",
    "    for annotations_j in annotated_data_i['annotations_norm']:\n",
    "        clean_annotations_j = list(map(lambda x: x.lower(), annotations_j))\n",
    "        annotation_labels.extend(clean_annotations_j)\n",
    "annotation_label_counts = pd.Series(annotation_labels).value_counts()\n",
    "display(annotation_label_counts.head(20))"
   ]
  },
  {
   "cell_type": "markdown",
   "metadata": {},
   "source": [
    "### Nouns with low/high agreement\n",
    "Which nouns have lower or higher agreement?\n",
    "\n",
    "We'll measure agreement with exact overlap to start, and then partial overlap if we need more data."
   ]
  },
  {
   "cell_type": "code",
   "execution_count": 6,
   "metadata": {},
   "outputs": [],
   "source": [
    "from lqam.core.metrics import normalize_answer, tokenize_answer_to_compute_metrics, compute_token_level_f1_many\n",
    "def compute_overlap_score(label, annotations):\n",
    "    label_tokens = tokenize_answer_to_compute_metrics(normalize_answer(label))\n",
    "    annotation_tokens = list(map(lambda x: list(map(lambda y: tokenize_answer_to_compute_metrics(normalize_answer(y)), x)), annotations))\n",
    "    # flatten token lists\n",
    "    annotation_tokens = [y for x in annotation_tokens for y in x]\n",
    "    overlap_score = compute_token_level_f1_many(label_tokens, annotation_tokens)\n",
    "    return overlap_score"
   ]
  },
  {
   "cell_type": "code",
   "execution_count": 7,
   "metadata": {},
   "outputs": [
    {
     "data": {
      "image/png": "[encoded data removed]",
      "text/plain": [
       "<Figure size 432x288 with 1 Axes>"
      ]
     },
     "metadata": {
      "needs_background": "light"
     },
     "output_type": "display_data"
    }
   ],
   "source": [
    "# show distribution first\n",
    "import matplotlib\n",
    "%matplotlib inline\n",
    "import matplotlib.pyplot as plt\n",
    "valid_annotated_data = list(filter(lambda x: len(x['additional_answers']) > 0, annotated_data))\n",
    "overlap_scores = list(map(lambda x: compute_overlap_score(x['label_norm'], x['annotations_norm']), valid_annotated_data))\n",
    "plt.hist(overlap_scores)\n",
    "plt.xlabel(\"Match score\")\n",
    "plt.yscale('log')\n",
    "plt.show()"
   ]
  },
  {
   "cell_type": "code",
   "execution_count": 8,
   "metadata": {},
   "outputs": [
    {
     "name": "stdout",
     "output_type": "stream",
     "text": [
      "72.08121827411168% of captions with at least one complete overlap\n"
     ]
    }
   ],
   "source": [
    "import numpy as np\n",
    "print(f'{(np.array(overlap_scores) == 1.0).sum() / len(overlap_scores)*100}% of captions with at least one complete overlap')"
   ]
  },
  {
   "cell_type": "markdown",
   "metadata": {},
   "source": [
    "Most questions have fairly low rate of exact matches, which may be unusually low for questions with higher number of annotations provided."
   ]
  },
  {
   "cell_type": "code",
   "execution_count": 9,
   "metadata": {
    "scrolled": true
   },
   "outputs": [
    {
     "name": "stdout",
     "output_type": "stream",
     "text": [
      "ground-truth labels with highest annotation overlap\n"
     ]
    },
    {
     "data": {
      "text/plain": [
       "label\n",
       "mountain           1.0\n",
       "folding            1.0\n",
       "mat                1.0\n",
       "black marker       1.0\n",
       "meat               1.0\n",
       "mechanical bull    1.0\n",
       "mel                1.0\n",
       "melody             1.0\n",
       "member             1.0\n",
       "men                1.0\n",
       "message            1.0\n",
       "metal              1.0\n",
       "birthday candle    1.0\n",
       "laser guns         1.0\n",
       "michael jackson    1.0\n",
       "bikini             1.0\n",
       "big belly          1.0\n",
       "milk               1.0\n",
       "mixture            1.0\n",
       "mosh pit           1.0\n",
       "dtype: float64"
      ]
     },
     "metadata": {},
     "output_type": "display_data"
    },
    {
     "name": "stdout",
     "output_type": "stream",
     "text": [
      "ground-truth labels with lowest annotation overlap\n"
     ]
    },
    {
     "data": {
      "text/plain": [
       "label\n",
       "about nine game pieces      0.0\n",
       "hop scotch                  0.0\n",
       "human pusher                0.0\n",
       "cement plaster              0.0\n",
       "skating ring                0.0\n",
       "components                  0.0\n",
       "sliverware                  0.0\n",
       "twos                        0.0\n",
       "sleeper top                 0.0\n",
       "voices                      0.0\n",
       "anvil                       0.0\n",
       "timelapse                   0.0\n",
       "building block formation    0.0\n",
       "time                        0.0\n",
       "wind                        0.0\n",
       "themselves                  0.0\n",
       "taekwondo                   0.0\n",
       "another item                0.0\n",
       "soft melody                 0.0\n",
       "studio                      0.0\n",
       "dtype: float64"
      ]
     },
     "metadata": {},
     "output_type": "display_data"
    }
   ],
   "source": [
    "## compute average overlap per NP\n",
    "valid_annotated_data_labels = list(map(lambda x: x['label_norm'], valid_annotated_data))\n",
    "label_annotation_overlap = pd.DataFrame(list(zip(valid_annotated_data_labels, overlap_scores)), columns=['label', 'overlap_score'])\n",
    "label_annotation_overlap_aggregate = label_annotation_overlap.groupby('label').apply(lambda x: x.loc[:, 'overlap_score'].mean())\n",
    "label_annotation_overlap_aggregate.sort_values(inplace=True, ascending=False)\n",
    "print('ground-truth labels with highest annotation overlap')\n",
    "display(label_annotation_overlap_aggregate.head(20))\n",
    "label_annotation_overlap_aggregate.sort_values(inplace=True, ascending=True)\n",
    "print('ground-truth labels with lowest annotation overlap')\n",
    "display(label_annotation_overlap_aggregate.head(20))"
   ]
  },
  {
   "cell_type": "markdown",
   "metadata": {},
   "source": [
    "The words with higher agreement tend to be simple and concrete nouns (`keyboard`, `knife`).\n",
    "\n",
    "The words with lower agreement tend to be highly specific (`about nine game pieces`, `cameraman`) or vague (`another item`, `swirl`)."
   ]
  },
  {
   "cell_type": "markdown",
   "metadata": {},
   "source": [
    "## Tokens per NP\n",
    "How many tokens on average does each noun phrase contain?\n",
    "\n",
    "We'll look at this for both ground-truth and annotations."
   ]
  },
  {
   "cell_type": "code",
   "execution_count": 10,
  "metadata": {
    "scrolled": true
   },
   "outputs": [
    {
     "name": "stdout",
     "output_type": "stream",
     "text": [
      "gold label NPs have 1.470 +/- 0.686 tokens\n",
      "annotation NPs have 1.364 +/- 0.691 tokens\n"
     ]
    },
    {
     "data": {
      "image/png": "[encoded data removed]",
      "text/plain": [
       "<Figure size 432x288 with 1 Axes>"
      ]
     },
     "metadata": {
      "needs_background": "light"
     },
     "output_type": "display_data"
    }
   ],
   "source": [
    "from nltk.tokenize import WordPunctTokenizer\n",
    "import numpy as np\n",
    "tokenizer = WordPunctTokenizer()\n",
    "label_token_counts = list(map(lambda x: len(tokenizer.tokenize(x)), valid_annotated_data_labels))\n",
    "flat_annotation_labels = [z for x in valid_annotated_data for y in x['annotations_norm'] for z in y]\n",
    "# remove null labels?\n",
    "flat_annotation_labels = list(filter(lambda x: len(x) > 0, flat_annotation_labels))\n",
    "annotation_label_token_counts = [len(tokenizer.tokenize(x)) for x in flat_annotation_labels]\n",
    "print('gold label NPs have %.3f +/- %.3f tokens'%(np.mean(label_token_counts), np.std(label_token_counts)))\n",
    "print('annotation NPs have %.3f +/- %.3f tokens'%(np.mean(annotation_label_token_counts), np.std(annotation_label_token_counts)))\n",
    "## get combined counts => show as bar chart\n",
    "label_token_count_bins = pd.Series(label_token_counts).value_counts().reset_index().assign(**{'data_type' : 'label'})\n",
    "annotation_label_token_count_bins = pd.Series(annotation_label_token_counts).value_counts().reset_index().assign(**{'data_type' : 'annotation'})\n",
    "combined_token_count_bins = pd.concat([\n",
    "    label_token_count_bins,\n",
    "    annotation_label_token_count_bins,\n",
    "]).rename(columns={'index' : 'tokens', 0 : 'count'})\n",
    "import seaborn as sns\n",
    "sns.barplot(y='count', x='tokens', data=combined_token_count_bins, hue='data_type')\n",
    "plt.legend(loc='upper right')\n",
    "plt.yscale('log')\n",
    "plt.show()"
   ]
  },
  {
   "cell_type": "markdown",
   "metadata": {},
   "source": [
    "The gold labels tend to be slightly longer, and annotation labels are more central-skewed (2 words or below) vs. the long tail of tokens in the gold labels."
   ]
  },
  {
   "cell_type": "markdown",
   "metadata": {},
   "source": [
    "What are the longest/shortest labels in each set?"
   ]
  },
  {
   "cell_type": "code",
   "execution_count": 11,
   "metadata": {
    "scrolled": true
   },
   "outputs": [
    {
     "name": "stdout",
     "output_type": "stream",
     "text": [
      "longest gold label NPs\n"
     ]
    },
    {
     "data": {
      "text/plain": [
       "innocent cute little baby boy    5\n",
       "black and white knitting kit     5\n",
       "basic photo copy machine         4\n",
       "his toy train set                4\n",
       "his rock climbing equipment      4\n",
       "about nine game pieces           4\n",
       "very well built woman            4\n",
       "large multiple dig site          4\n",
       "ornately costumed dance squad    4\n",
       "complex stretching yoga pose     4\n",
       "strung out teenage girls         4\n",
       "her very colorful leggings       4\n",
       "human ping pong ball             4\n",
       "two hockey teams                 3\n",
       "each others heads                3\n",
       "indoor swimming pool             3\n",
       "indoor basketball court          3\n",
       "strict pull ups                  3\n",
       "another young woman              3\n",
       "two little boys                  3\n",
       "dtype: int64"
      ]
     },
     "metadata": {},
     "output_type": "display_data"
    },
    {
     "name": "stdout",
     "output_type": "stream",
     "text": [
      "longest annotation NPs\n"
     ]
    },
    {
     "data": {
      "text/plain": [
       "how she always has handful of dog food to start        10\n",
       "2 teams one in yellow jerseys and one white jerseys    10\n",
       "poor animal who needs its wool to stay warm             9\n",
       "cowboy wearing blue jeans and blue jean jacket          8\n",
       "2 people total and 1 in full view                       8\n",
       "male wearing shoes and black pants with stripes         8\n",
       "2 young kids with shorts and no shirts                  8\n",
       "boy in black and boy in blue tshirt                     8\n",
       "2 males wearing blue shirt and shorts                   7\n",
       "while sitting and using fork to eat                     7\n",
       "girl in tshirt and bathing suit bottom                  7\n",
       "infant who is just learning to speak                    7\n",
       "shirtless man with black bottom bathing suit            7\n",
       "another person that is laying on table                  7\n",
       "kid in black shirt and black pants                      7\n",
       "large piece of what looks like granite                  7\n",
       "man in white shirt and black pants                      7\n",
       "grass area next to parking lot                          6\n",
       "numerous track event and field events                   6\n",
       "some people sitting faced towards podium                6\n",
       "dtype: int64"
      ]
     },
     "metadata": {},
     "output_type": "display_data"
    }
   ],
   "source": [
    "label_token_count_data = pd.Series(label_token_counts, index=list(map(lambda x: x.lower(), valid_annotated_data_labels))).sort_values(inplace=False, ascending=False)\n",
    "flat_annotation_label_token_count_data = pd.Series(annotation_label_token_counts, index=list(map(lambda x: x.lower(), flat_annotation_labels))).sort_values(inplace=False, ascending=False)\n",
    "label_token_count_data = label_token_count_data[~label_token_count_data.index.duplicated()]\n",
    "flat_annotation_label_token_count_data = flat_annotation_label_token_count_data[~flat_annotation_label_token_count_data.index.duplicated()]\n",
    "print('longest gold label NPs')\n",
    "display(label_token_count_data.head(20))\n",
    "print('longest annotation NPs')\n",
    "display(flat_annotation_label_token_count_data.head(20))"
   ]
  },
  {
   "cell_type": "markdown",
   "metadata": {},
   "source": [
    "The longest NPs for the gold labels tend to have multiple adjectives (`an innocent cute little baby boy`) and possessive markers (`a man's back`).\n",
    "\n",
    "The longest NPs for the annotation labels tend to have coordination (`a man in shorts and black t-shirt`) and long, unnecessary subclauses (`the poor animal who needs it's wool to stay warm`)."
   ]
  },
  {
   "cell_type": "markdown",
   "metadata": {},
   "source": [
    "### Unique NPs per question\n",
    "How many unique NPs does each question get?"
   ]
  },
  {
   "cell_type": "code",
   "execution_count": 12,
  "metadata": {},
   "outputs": [
    {
     "data": {
      "image/png": "[encoded data removed]",
      "text/plain": [
       "<Figure size 432x288 with 1 Axes>"
      ]
     },
     "metadata": {
      "needs_background": "light"
     },
     "output_type": "display_data"
    },
    {
     "data": {
      "image/png": "[encoded data removed]",
      "text/plain": [
       "<Figure size 432x288 with 1 Axes>"
      ]
     },
     "metadata": {
      "needs_background": "light"
     },
     "output_type": "display_data"
    },
    {
     "name": "stdout",
     "output_type": "stream",
     "text": [
      "questions have an average of 13.463 +/- 3.930 unique labels\n",
      "annotators have an average of 2.676 +/- 0.483 unique labels\n"
     ]
    }
   ],
   "source": [
    "def get_num_unique_labels_per_annotator(data):\n",
    "    ## TODO: only include first label from each annotator? some annotators may have included extra words just for bonus\n",
    "    data_annotation_label_sets = [set([y.lower() for y in x]) for x in data['annotations_norm']]\n",
    "    num_unique_data_annotation_labels = list(map(lambda x: len(x), data_annotation_label_sets))\n",
    "    mean_unique_data_annotation_labels = np.mean(num_unique_data_annotation_labels)\n",
    "    return mean_unique_data_annotation_labels\n",
    "unique_labels_per_question = list(map(lambda x: list(sorted(set([z.lower() for y in x['annotations_norm'] for z in y]))), valid_annotated_data))\n",
    "num_unique_labels_per_question = list(map(lambda x: len(x), unique_labels_per_question))\n",
    "num_unique_labels_per_question_per_annotator = list(map(lambda x: get_num_unique_labels_per_annotator(x), valid_annotated_data))\n",
    "plt.hist(num_unique_labels_per_question)\n",
    "plt.xlabel('Number unique labels')\n",
    "plt.title('Labels per question')\n",
    "plt.show()\n",
    "plt.hist(num_unique_labels_per_question_per_annotator)\n",
    "plt.xlabel('Number unique labels')\n",
    "plt.title('Labels per question (per annotator)')\n",
    "plt.show()\n",
    "print('questions have an average of %.3f +/- %.3f unique labels'%(np.mean(num_unique_labels_per_question), np.std(num_unique_labels_per_question)))\n",
    "print('annotators have an average of %.3f +/- %.3f unique labels'%(np.mean(num_unique_labels_per_question_per_annotator), np.std(num_unique_labels_per_question_per_annotator)))"
   ]
  },
  {
   "cell_type": "markdown",
   "metadata": {},
   "source": [
    "Most questions have around 13 unique labels total and 2.7 unique labels per annotator."
   ]
  },
  {
   "cell_type": "markdown",
   "metadata": {},
   "source": [
    "Which questions have the most unique labels per annotator?"
   ]
  },
  {
   "cell_type": "code",
   "execution_count": 13,
   "metadata": {
    "scrolled": true
   },
   "outputs": [
    {
     "name": "stdout",
     "output_type": "stream",
     "text": [
      "questions with highest number unique labels per annotator\n"
     ]
    },
    {
     "data": {
      "text/html": [
       "<div>\n",
       "<style scoped>\n",
       "    .dataframe tbody tr th:only-of-type {\n",
       "        vertical-align: middle;\n",
       "    }\n",
       "\n",
       "    .dataframe tbody tr th {\n",
       "        vertical-align: top;\n",
       "    }\n",
       "\n",
       "    .dataframe thead th {\n",
       "        text-align: right;\n",
       "    }\n",
       "</style>\n",
       "<table border=\"1\" class=\"dataframe\">\n",
       "  <thead>\n",
       "    <tr style=\"text-align: right;\">\n",
       "      <th></th>\n",
       "      <th>prompt</th>\n",
       "      <th>unique_label_count</th>\n",
       "      <th>unique_labels</th>\n",
       "    </tr>\n",
       "  </thead>\n",
       "  <tbody>\n",
       "    <tr>\n",
       "      <th>936</th>\n",
       "      <td>_____ kicks soccer balls into a net while on a grass field.</td>\n",
       "      <td>4.33333</td>\n",
       "      <td>[adolescent, athlete, boy, child, guy, human, kid, male, my daughters friend, our neighbor, person, player, players, soccer player, someone, son, team member, teams captain, young boy, youth]</td>\n",
       "    </tr>\n",
       "    <tr>\n",
       "      <th>590</th>\n",
       "      <td>_____ peels a potato with an extra large peeler than can also be used on zucchini.</td>\n",
       "      <td>4.125</td>\n",
       "      <td>[chef, cook, female, female chef, female cook, girl, host, lady, mother, older chef, older cook, older woman, person, some lady in her kitchen, someone, woman]</td>\n",
       "    </tr>\n",
       "    <tr>\n",
       "      <th>428</th>\n",
       "      <td>A group of _____ in pink tutus dancing in a circle on stage.</td>\n",
       "      <td>4.11111</td>\n",
       "      <td>[arminarm girls, balet students, ballerinas, children, dancers, girls, kids, little girls, little kids, students, toddlers, young ballerinas, young dancers, young girls]</td>\n",
       "    </tr>\n",
       "    <tr>\n",
       "      <th>261</th>\n",
       "      <td>A man is walking by _____ that is completely full then comes back and smashes the computer monitor sitting on top with a baseball bat.</td>\n",
       "      <td>4.11111</td>\n",
       "      <td>[alley, bin, black bin, black bin with garbage, black garbage bin, black rubbish bin, black trash can, black trashcan, can, dumpster, garbage bin, garbage can, garbage receptacle, grey garbage can...</td>\n",
       "    </tr>\n",
       "    <tr>\n",
       "      <th>606</th>\n",
       "      <td>_____ is styling a person's hair using a blow dryer and brush.</td>\n",
       "      <td>4.11111</td>\n",
       "      <td>[barber, beautician, businessperson, cosmetologist, educator, female hairdresser, girl, hair stylist, hairdresser, lady, person, someone, stylist, woman, woman hairdresser, womens hairstylist, you...</td>\n",
       "    </tr>\n",
       "    <tr>\n",
       "      <th>577</th>\n",
       "      <td>_____ plays an instrument while wearing a pink shirt.</td>\n",
       "      <td>4.11111</td>\n",
       "      <td>[artist, bald man, dude, entertainer, guy, individual, male, man, musician, old man, older man, performer, person, saxophone player, saxophonist, singer, somebody, someone, this bloke]</td>\n",
       "    </tr>\n",
       "    <tr>\n",
       "      <th>158</th>\n",
       "      <td>_____ are each wrapping Christmas presents on a coffee table.</td>\n",
       "      <td>4.11111</td>\n",
       "      <td>[2 boys, 2 kids, 3 boys, boys, brothers, children, kids, little boys, little kids, people, siblings, two boys, two boys in pajamas, two children, two kids in pajamas, two little boys, two little c...</td>\n",
       "    </tr>\n",
       "    <tr>\n",
       "      <th>181</th>\n",
       "      <td>A kid riding a skateboard while a group of _____ are watching and music plays.</td>\n",
       "      <td>4</td>\n",
       "      <td>[amateur skateboarders, boys, bros, bystanders, children, fans, friends, girls, guys, kids, men, others, people, skate parkgoers, skateboarders, skaters, spectators, teenagers, teens, women, young...</td>\n",
       "    </tr>\n",
       "    <tr>\n",
       "      <th>846</th>\n",
       "      <td>A man wearing _____ and hood speaks while sitting and smoking a pipe.</td>\n",
       "      <td>4</td>\n",
       "      <td>[beard, blue jacket, clothes, fleece sweatshirt, goatee, gray hood, gray hoodie, gray jacket, gray sweatshirt, grey hood, grey hoodie, grey jacket, grey sweatshirt, hood, hoodie, jacket, plaid, sh...</td>\n",
       "    </tr>\n",
       "    <tr>\n",
       "      <th>905</th>\n",
       "      <td>A group of drivers race cars on _____ in front of onlookers.</td>\n",
       "      <td>4</td>\n",
       "      <td>[circuit, clay, course, dirt, dirt path, dirt track, dry sand, field, ground, mud, race grounds, race track, racetrack, raceway, round dirt track, round track, sand, speedway, stretch, track]</td>\n",
       "    </tr>\n",
       "  </tbody>\n",
       "</table>\n",
       "</div>"
      ],
      "text/plain": [
       "                                                                                                                                     prompt  \\\n",
       "936                                                                             _____ kicks soccer balls into a net while on a grass field.   \n",
       "590                                                      _____ peels a potato with an extra large peeler than can also be used on zucchini.   \n",
       "428                                                                            A group of _____ in pink tutus dancing in a circle on stage.   \n",
       "261  A man is walking by _____ that is completely full then comes back and smashes the computer monitor sitting on top with a baseball bat.   \n",
       "606                                                                          _____ is styling a person's hair using a blow dryer and brush.   \n",
       "577                                                                                   _____ plays an instrument while wearing a pink shirt.   \n",
       "158                                                                           _____ are each wrapping Christmas presents on a coffee table.   \n",
       "181                                                          A kid riding a skateboard while a group of _____ are watching and music plays.   \n",
       "846                                                                   A man wearing _____ and hood speaks while sitting and smoking a pipe.   \n",
       "905                                                                            A group of drivers race cars on _____ in front of onlookers.   \n",
       "\n",
       "    unique_label_count  \\\n",
       "936            4.33333   \n",
       "590              4.125   \n",
       "428            4.11111   \n",
       "261            4.11111   \n",
       "606            4.11111   \n",
       "577            4.11111   \n",
       "158            4.11111   \n",
       "181                  4   \n",
       "846                  4   \n",
       "905                  4   \n",
       "\n",
       "                                                                                                                                                                                               unique_labels  \n",
       "936          [adolescent, athlete, boy, child, guy, human, kid, male, my daughters friend, our neighbor, person, player, players, soccer player, someone, son, team member, teams captain, young boy, youth]  \n",
       "590                                          [chef, cook, female, female chef, female cook, girl, host, lady, mother, older chef, older cook, older woman, person, some lady in her kitchen, someone, woman]  \n",
       "428                                [arminarm girls, balet students, ballerinas, children, dancers, girls, kids, little girls, little kids, students, toddlers, young ballerinas, young dancers, young girls]  \n",
       "261  [alley, bin, black bin, black bin with garbage, black garbage bin, black rubbish bin, black trash can, black trashcan, can, dumpster, garbage bin, garbage can, garbage receptacle, grey garbage can...  \n",
       "606  [barber, beautician, businessperson, cosmetologist, educator, female hairdresser, girl, hair stylist, hairdresser, lady, person, someone, stylist, woman, woman hairdresser, womens hairstylist, you...  \n",
       "577                 [artist, bald man, dude, entertainer, guy, individual, male, man, musician, old man, older man, performer, person, saxophone player, saxophonist, singer, somebody, someone, this bloke]  \n",
       "158  [2 boys, 2 kids, 3 boys, boys, brothers, children, kids, little boys, little kids, people, siblings, two boys, two boys in pajamas, two children, two kids in pajamas, two little boys, two little c...  \n",
       "181  [amateur skateboarders, boys, bros, bystanders, children, fans, friends, girls, guys, kids, men, others, people, skate parkgoers, skateboarders, skaters, spectators, teenagers, teens, women, young...  \n",
       "846  [beard, blue jacket, clothes, fleece sweatshirt, goatee, gray hood, gray hoodie, gray jacket, gray sweatshirt, grey hood, grey hoodie, grey jacket, grey sweatshirt, hood, hoodie, jacket, plaid, sh...  \n",
       "905          [circuit, clay, course, dirt, dirt path, dirt track, dry sand, field, ground, mud, race grounds, race track, racetrack, raceway, round dirt track, round track, sand, speedway, stretch, track]  "
      ]
     },
     "metadata": {},
     "output_type": "display_data"
    },
    {
     "name": "stdout",
     "output_type": "stream",
     "text": [
      "questions with lowest number unique labels per annotator\n"
     ]
    },
    {
     "data": {
      "text/html": [
       "<div>\n",
       "<style scoped>\n",
       "    .dataframe tbody tr th:only-of-type {\n",
       "        vertical-align: middle;\n",
       "    }\n",
       "\n",
       "    .dataframe tbody tr th {\n",
       "        vertical-align: top;\n",
       "    }\n",
       "\n",
       "    .dataframe thead th {\n",
       "        text-align: right;\n",
       "    }\n",
       "</style>\n",
       "<table border=\"1\" class=\"dataframe\">\n",
       "  <thead>\n",
       "    <tr style=\"text-align: right;\">\n",
       "      <th></th>\n",
       "      <th>prompt</th>\n",
       "      <th>unique_label_count</th>\n",
       "      <th>unique_labels</th>\n",
       "    </tr>\n",
       "  </thead>\n",
       "  <tbody>\n",
       "    <tr>\n",
       "      <th>469</th>\n",
       "      <td>A man juggles balls one-handed and then two-handed and tosses them to a person off-_____.</td>\n",
       "      <td>1.625</td>\n",
       "      <td>[balance, camera, frame, screen, shot]</td>\n",
       "    </tr>\n",
       "    <tr>\n",
       "      <th>331</th>\n",
       "      <td>A woman talks about a beautiful scrapbook that _____ made that has many embelishments.</td>\n",
       "      <td>1.625</td>\n",
       "      <td>[herself, noel, people, she, someone, someone else]</td>\n",
       "    </tr>\n",
       "    <tr>\n",
       "      <th>901</th>\n",
       "      <td>In the baseball game, the pitcher sends a ball and the batter does _____.</td>\n",
       "      <td>1.6</td>\n",
       "      <td>[big swing, hit, hits ball out in field, homerun, job, something great, what he does best]</td>\n",
       "    </tr>\n",
       "    <tr>\n",
       "      <th>863</th>\n",
       "      <td>The man in _____ checks and trims the toenails of a small animal.</td>\n",
       "      <td>1.55556</td>\n",
       "      <td>[black pants, black sweater, chair, clip, knit shirt, sweater, vets office, video, warm sweater]</td>\n",
       "    </tr>\n",
       "    <tr>\n",
       "      <th>925</th>\n",
       "      <td>Dressed in all of the gear, one fencer advances on _____ as they compete.</td>\n",
       "      <td>1.5</td>\n",
       "      <td>[another fencer, fighter, his competitor, his opponent, opponent, rival, their opponent]</td>\n",
       "    </tr>\n",
       "    <tr>\n",
       "      <th>748</th>\n",
       "      <td>A man, outdoors at a gas station, is demonstrating step-by-_____, how to pump gas.</td>\n",
       "      <td>1.42857</td>\n",
       "      <td>[demonstration, instruction, step, way]</td>\n",
       "    </tr>\n",
       "    <tr>\n",
       "      <th>721</th>\n",
       "      <td>A young boy who seems to be timing _____ how fast he can eat a snack.</td>\n",
       "      <td>1.28571</td>\n",
       "      <td>[challenge of, himself, his self, recording of, to calculate, to see]</td>\n",
       "    </tr>\n",
       "    <tr>\n",
       "      <th>706</th>\n",
       "      <td>Packages of paper are being wrapped in paper plastic and stacked on _____ of each other.</td>\n",
       "      <td>1.25</td>\n",
       "      <td>[device next, machine, row, side, top]</td>\n",
       "    </tr>\n",
       "    <tr>\n",
       "      <th>142</th>\n",
       "      <td>A baby is listening to a lady's song as _____.</td>\n",
       "      <td>1</td>\n",
       "      <td>[smiles]</td>\n",
       "    </tr>\n",
       "    <tr>\n",
       "      <th>847</th>\n",
       "      <td>A person is showing how _____ open a beer with a screw driver indoors.</td>\n",
       "      <td>1</td>\n",
       "      <td>[he, people, to screw open, you]</td>\n",
       "    </tr>\n",
       "  </tbody>\n",
       "</table>\n",
       "</div>"
      ],
      "text/plain": [
       "                                                                                        prompt  \\\n",
       "469  A man juggles balls one-handed and then two-handed and tosses them to a person off-_____.   \n",
       "331     A woman talks about a beautiful scrapbook that _____ made that has many embelishments.   \n",
       "901                  In the baseball game, the pitcher sends a ball and the batter does _____.   \n",
       "863                          The man in _____ checks and trims the toenails of a small animal.   \n",
       "925                  Dressed in all of the gear, one fencer advances on _____ as they compete.   \n",
       "748         A man, outdoors at a gas station, is demonstrating step-by-_____, how to pump gas.   \n",
       "721                      A young boy who seems to be timing _____ how fast he can eat a snack.   \n",
       "706   Packages of paper are being wrapped in paper plastic and stacked on _____ of each other.   \n",
       "142                                             A baby is listening to a lady's song as _____.   \n",
       "847                     A person is showing how _____ open a beer with a screw driver indoors.   \n",
       "\n",
       "    unique_label_count  \\\n",
       "469              1.625   \n",
       "331              1.625   \n",
       "901                1.6   \n",
       "863            1.55556   \n",
       "925                1.5   \n",
       "748            1.42857   \n",
       "721            1.28571   \n",
       "706               1.25   \n",
       "142                  1   \n",
       "847                  1   \n",
       "\n",
       "                                                                                        unique_labels  \n",
       "469                                                            [balance, camera, frame, screen, shot]  \n",
       "331                                               [herself, noel, people, she, someone, someone else]  \n",
       "901        [big swing, hit, hits ball out in field, homerun, job, something great, what he does best]  \n",
       "863  [black pants, black sweater, chair, clip, knit shirt, sweater, vets office, video, warm sweater]  \n",
       "925          [another fencer, fighter, his competitor, his opponent, opponent, rival, their opponent]  \n",
       "748                                                           [demonstration, instruction, step, way]  \n",
       "721                             [challenge of, himself, his self, recording of, to calculate, to see]  \n",
       "706                                                            [device next, machine, row, side, top]  \n",
       "142                                                                                          [smiles]  \n",
       "847                                                                  [he, people, to screw open, you]  "
      ]
     },
     "metadata": {},
     "output_type": "display_data"
    }
   ],
   "source": [
    "pd.set_option('display.max_colwidth', 200)\n",
    "question_prompts = list(map(lambda x: x['masked_caption'], valid_annotated_data))\n",
    "\n",
    "unique_labels_per_question_per_annotator_data = pd.DataFrame([\n",
    "    question_prompts,\n",
    "    num_unique_labels_per_question_per_annotator,\n",
    "    unique_labels_per_question,\n",
    "], index=['prompt', 'unique_label_count', 'unique_labels']).transpose()\n",
    "unique_labels_per_question_per_annotator_data.sort_values('unique_label_count', inplace=True, ascending=False)\n",
    "print('questions with highest number unique labels per annotator')\n",
    "display(unique_labels_per_question_per_annotator_data.head(10))\n",
    "print('questions with lowest number unique labels per annotator')\n",
    "display(unique_labels_per_question_per_annotator_data.tail(10))"
   ]
  },
  {
   "cell_type": "markdown",
   "metadata": {},
   "source": [
    "Questions with higher number of unique labels seem to inspire creative answers (`a group of ____ in pink tutus` => different paraphrases for `child`) and address multiple possible aspects of an event due to ambiguity (`a man wearing ____` => many possible clothing items).\n",
    "\n",
    "Questions with lower number of unique labels seem to have very specific scenarios without room for paraphrasing or ambiguity (`step-by-____` => the blank can only be \"step\")."
   ]
  },
  {
   "cell_type": "markdown",
   "metadata": {},
   "source": [
    "### Assessing visual cues\n",
    "Some nouns and adjectives have more obvious visual cues than others, ex. \"green\" has clear visual component whereas \"kind\" is more subjective.\n",
    "\n",
    "Let's look for these visual cues in the labels and annotations using some word lists:\n",
    "- color\n",
    "- size\n",
    "- number"
   ]
  },
  {
   "cell_type": "code",
   "execution_count": 29,
   "metadata": {},
   "outputs": [],
   "source": [
    "## TODO: expand word sets using word embeddings (nearest neighbors + filtering)\n",
    "color_words = {\n",
    "    'red', 'blue', 'green', 'yellow', 'purple', 'orange', 'black', 'white', 'gray', 'grey',\n",
    "    'colorful', 'painted',\n",
    "}\n",
    "size_words = {\n",
    "    'large', 'huge', 'giant', 'small', 'little', 'tiny',\n",
    "}\n",
    "number_words = {\n",
    "    'one', 'two', 'three', 'four', 'five', 'six', 'seven', 'eight', 'nine', 'ten',\n",
    "    'several', 'few', 'many',\n",
    "}\n",
    "combined_visual_words = (color_words | size_words | number_words)\n",
    "visual_word_sets = [\n",
    "    color_words, size_words, number_words, combined_visual_words,\n",
    "]\n",
    "visual_word_set_names = [\n",
    "    'color', 'size', 'number', 'combined'\n",
    "]"
   ]
  },
  {
   "cell_type": "code",
   "execution_count": 23,
   "metadata": {},
   "outputs": [],
   "source": [
    "import sys\n",
    "if('..' not in sys.path):\n",
    "    sys.path.append('..')\n",
    "from lqam.core.metrics import tokenize_answer_to_compute_metrics\n",
    "## tokenize everything\n",
    "label_tokens = list(map(lambda x: tokenize_answer_to_compute_metrics(x['label_norm']), annotated_data))\n",
    "annotation_label_tokens = [[tokenize_answer_to_compute_metrics(z) for z in y] for x in valid_annotated_data for y in x['annotations_norm']]"
   ]
  },
  {
   "cell_type": "code",
   "execution_count": 32,
   "metadata": {
    "scrolled": true
   },
   "outputs": [
    {
     "data": {
      "image/png": "[encoded data removed]",
      "text/plain": [
       "<Figure size 432x144 with 2 Axes>"
      ]
     },
     "metadata": {
      "needs_background": "light"
     },
     "output_type": "display_data"
    },
    {
     "name": "stdout",
     "output_type": "stream",
     "text": [
      "proportion of <color> word matches for labels:\n",
      "   word_count  label_word_match_pct  annotation_word_match_pct\n",
      "0           0              0.984864                   0.987302\n",
      "1           1              0.014127                   0.011961\n",
      "2           2              0.001009                   0.000737\n",
      "percent of labels with >= 1 matches: \n",
      "(label_word_match_pct         0.015136\n",
      "annotation_word_match_pct    0.012698\n",
      "dtype: float64,)\n"
     ]
    },
    {
     "data": {
      "image/png": "[encoded data removed]",
      "text/plain": [
       "<Figure size 432x144 with 2 Axes>"
      ]
     },
     "metadata": {
      "needs_background": "light"
     },
     "output_type": "display_data"
    },
    {
     "name": "stdout",
     "output_type": "stream",
     "text": [
      "proportion of <size> word matches for labels:\n",
      "   word_count  label_word_match_pct  annotation_word_match_pct\n",
      "0           0              0.968718                   0.990943\n",
      "1           1              0.031282                   0.009057\n",
      "percent of labels with >= 1 matches: \n",
      "(label_word_match_pct         0.031282\n",
      "annotation_word_match_pct    0.009057\n",
      "dtype: float64,)\n"
     ]
    },
    {
     "data": {
      "image/png": "[encoded data removed]",
      "text/plain": [
       "<Figure size 432x144 with 2 Axes>"
      ]
     },
     "metadata": {
      "needs_background": "light"
     },
     "output_type": "display_data"
    },
    {
     "name": "stdout",
     "output_type": "stream",
     "text": [
      "proportion of <number> word matches for labels:\n",
      "   word_count  label_word_match_pct  annotation_word_match_pct\n",
      "0           0              0.963673                   0.986479\n",
      "1           1              0.036327                   0.013521\n",
      "percent of labels with >= 1 matches: \n",
      "(label_word_match_pct         0.036327\n",
      "annotation_word_match_pct    0.013521\n",
      "dtype: float64,)\n"
     ]
    },
    {
     "data": {
      "image/png": "[encoded data removed]",
      "text/plain": [
       "<Figure size 432x144 with 2 Axes>"
      ]
     },
     "metadata": {
      "needs_background": "light"
     },
     "output_type": "display_data"
    },
    {
     "name": "stdout",
     "output_type": "stream",
     "text": [
      "proportion of <combined> word matches for labels:\n",
      "   word_count  label_word_match_pct  annotation_word_match_pct\n",
      "0           0              0.921292                   0.965244\n",
      "1           1              0.073663                   0.033543\n",
      "2           2              0.005045                   0.001170\n",
      "3           3                   NaN                   0.000043\n",
      "percent of labels with >= 1 matches: \n",
      "(label_word_match_pct         0.078708\n",
      "annotation_word_match_pct    0.034756\n",
      "dtype: float64,)\n"
     ]
    }
   ],
   "source": [
    "## get counts, plot distribution of visual words\n",
    "import matplotlib\n",
    "%matplotlib inline\n",
    "import matplotlib.pyplot as plt\n",
    "for visual_word_set, visual_word_set_name in zip(visual_word_sets, visual_word_set_names):\n",
    "    label_word_matches = list(map(lambda x: set(x) & visual_word_set, label_tokens))\n",
    "    annotation_label_word_matches = [set(y) & visual_word_set for x in annotation_label_tokens for y in x]\n",
    "    num_label_word_matches = list(map(lambda x: len(x), label_word_matches))\n",
    "    num_annotation_label_word_matches = list(map(lambda x: len(x), annotation_label_word_matches))\n",
    "    f, axs = plt.subplots(nrows=1, ncols=2, figsize=(6, 2))\n",
    "    axs[0].hist(num_label_word_matches)\n",
    "    axs[1].hist(num_annotation_label_word_matches)\n",
    "    axs[0].set_title(f'Label {visual_word_set_name} matches')\n",
    "    axs[1].set_title(f'Annotation {visual_word_set_name} matches')\n",
    "    axs[0].set_xlabel('Word set overlap')\n",
    "    axs[1].set_xlabel('Word set overlap')\n",
    "    plt.suptitle(f'Overlap with <{visual_word_set_name}> words')\n",
    "    plt.yscale('log')\n",
    "    plt.tight_layout()\n",
    "    plt.show()\n",
    "    # compute proportion of visual words per question\n",
    "    pct_label_word_matches = pd.Series(num_label_word_matches).value_counts() / len(num_label_word_matches)\n",
    "    pct_annotation_label_word_matches = pd.Series(num_annotation_label_word_matches).value_counts() / len(num_annotation_label_word_matches)\n",
    "    pct_word_matches = pd.concat([pct_label_word_matches, pct_annotation_label_word_matches], axis=1).reset_index()\n",
    "    pct_word_matches.columns = ['word_count', 'label_word_match_pct', 'annotation_word_match_pct']\n",
    "#     pct_word_matches.columns = ['label_match_pct', 'annotation_label_match_pct']\n",
    "    print(f'proportion of <{visual_word_set_name}> word matches for labels:\\n{pct_word_matches}')\n",
    "    # simplify: percent with >=1 words\n",
    "    above_1_pct_word_matches = pct_word_matches[pct_word_matches.loc[:, 'word_count'] >= 1].iloc[:, 1:].sum(axis=0),\n",
    "    print(f'percent of labels with >= 1 matches: \\n{above_1_pct_word_matches}')"
   ]
  },
  {
   "cell_type": "markdown",
   "metadata": {},
   "source": [
    "Overall, the annotations tend to have about the rate of color words as the labels, but the annotations also have fewer size and number words than the labels."
   ]
  },
  {
   "cell_type": "markdown",
   "metadata": {},
   "source": [
    "What are some example questions where the label contains a visual word but the annotations do not?"
   ]
  },
  {
   "cell_type": "code",
   "execution_count": 33,
   "metadata": {
    "scrolled": true
   },
   "outputs": [
    {
     "name": "stdout",
     "output_type": "stream",
     "text": [
      "*~*~*~* testing word set color *~*~*~*\n",
      "caption=<A red hot piece of bent steel is being formed with a metal sledge hammer on the end of a  steel table.>\n",
      "label=<A red hot piece> has matches <{'red'}>\n",
      "annotations do not have matches: <[['A horseshoe', 'A shoe', 'An arch', 'A U-shape', 'An object'], ['A piece', 'A horseshoe'], ['a rod', 'a segment'], ['hot iron'], ['A large are', 'A big area'], ['A piece', 'A long piece', 'A hot piece'], ['A piece', 'A rod', 'A chunk'], ['A piece', 'A part'], ['A piece', 'A heated piece']]>\n",
      "---------\n",
      "caption=<A gir lis trying to stitching up the black and white knitting kit with a knitting needle.>\n",
      "label=<the black and white knitting kit> has matches <{'white', 'black'}>\n",
      "annotations do not have matches: <[['string', 'lace work'], ['the neckerchief', 'the scarf'], ['a scarf', 'a line on a scarf'], ['yarn', 'cloth'], ['a piece of clothing', 'some cloth'], ['a scarf', 'fancy yarn'], ['a scarf', 'her scarf'], ['crochet', 'string', 'thread'], ['a scarf', 'some fabric']]>\n",
      "---------\n",
      "caption=<A man is using a strainer to strain a black grainy substance, while music is playing and a little boy is talking.>\n",
      "label=<a black grainy substance> has matches <{'black'}>\n",
      "annotations do not have matches: <[['coffee', 'a brown substance'], ['coffee beans', 'ingredients'], ['coffee', 'beans', 'coffee beans', 'greaseballs', 'brilliatine'], ['beans', 'espresso', 'coffee'], ['coffee beans', 'ground coffee'], ['coffee beans', 'roasting coffee beans'], ['coffee', 'beans'], ['coffee', 'coffee beans'], ['coffee grounds', 'something', 'soil', 'dirt']]>\n",
      "---------\n",
      "*~*~*~* testing word set size *~*~*~*\n",
      "caption=<A little baby is sitting still while making baby noises.>\n",
      "label=<A little baby> has matches <{'little'}>\n",
      "annotations do not have matches: <[['A baby', 'A child', 'A kid'], ['Jaxson', 'A baby', 'The child', 'An infant'], ['a shirtless baby', 'a baby boy', 'a bald baby', 'baby with no shirt', 'baby with red diaper'], ['The baby', 'The child'], ['A baby', 'The boy'], ['baby', 'infant'], ['a baby', 'an infant'], ['A baby', 'A baby boy'], ['A baby', 'A toddler', 'A child', 'A kid', 'A youngster']]>\n",
      "---------\n",
      "caption=<Workers are excavating a large multiple dig site looking for treasures.>\n",
      "label=<a large multiple dig site> has matches <{'large'}>\n",
      "annotations do not have matches: <[['ground', 'dirt'], ['sites', 'the ground'], ['bones', 'remains', 'artifacts'], ['the soil', 'the earth', 'the ground'], ['ground', 'soil'], ['the ground', 'the dirt', 'a site', 'a dig'], ['the land', 'dirt']]>\n",
      "---------\n",
      "caption=<Two boys playing table tennis inside of a small room.>\n",
      "label=<a small room> has matches <{'small'}>\n",
      "annotations do not have matches: <[['a garage', 'a basement'], ['a basement', 'their basement', 'their home', 'their house', 'a house', 'a rec room', 'a recreational room', 'a rec center', 'a recreational center'], ['a room', 'a gym', 'a house'], ['a room'], ['the garage', 'their home'], ['house', 'room'], ['a garage', 'a room'], ['a room', 'a basement'], ['a recreational room', 'an unfinished room', 'a playroom.']]>\n",
      "---------\n",
      "caption=<An open air gym shows a large group of women particpating in a dance or excercise class.>\n",
      "label=<a large group> has matches <{'large'}>\n",
      "annotations do not have matches: <[['a class', 'a group', 'a crowd', 'a mass'], ['a group', 'a class', 'a gaggle'], ['a group', 'a set', 'a bunch'], ['a lot', 'a plethora', 'tens'], ['class', 'team'], ['a group', 'lots'], ['a group', 'lots'], ['a group', 'a multitude'], ['a lot', 'the skill', 'the talent']]>\n",
      "---------\n",
      "caption=<A Policeman outside directing traffic on a busy street in a large city having a great time doing it, even showing off with his actions.>\n",
      "label=<a large city> has matches <{'large'}>\n",
      "annotations do not have matches: <[['the rain', 'the cold'], ['town', 'the city'], ['peak hours', 'heavy traffic'], ['a busy city'], ['the cold', 'the city'], ['daylight', 'a city', 'an intersection', 'rush hour', 'the daytime'], ['the rain', 'the city', 'an intersection', 'downtown'], ['city', 'intersection'], ['NYC', 'New York']]>\n",
      "---------\n",
      "caption=<Demonstration and narration on the proper way to use a large knife to cut a carrot.>\n",
      "label=<a large knife> has matches <{'large'}>\n",
      "annotations do not have matches: <[['A knife', 'A utensil'], ['a knife', 'a blade'], ['a knife', 'kitchen kinfe'], ['knife', 'sharp object'], ['a knife', 'a utensil'], ['a knife', \"a chef's knife\", 'a sharp knife'], ['a knife', 'knives', 'cutting utensils', 'a blade', 'a kitchen knife'], ['a knife', 'a razor'], ['a knife', \"a chef's knife\", 'a peeler']]>\n",
      "---------\n",
      "caption=<A person is sitting in front of the camera and is blowing a large bubble gum.>\n",
      "label=<a large bubble gum> has matches <{'large'}>\n",
      "annotations do not have matches: <[['gum', 'bubbles', 'bubble gum', 'a bubble', 'chewing gum'], ['bubbles'], ['bubbles', 'gum bubbles'], ['bubbles', 'soapy water'], ['bubbles', 'bubblegum'], ['bubbles', 'gum'], ['bubbles', 'gum'], ['a chewing gum', 'candy'], ['bubble gum', 'candy', 'chewing gum']]>\n",
      "---------\n",
      "caption=<A man swims laps quickly in a large professional pool.>\n",
      "label=<a large professional pool> has matches <{'large'}>\n",
      "annotations do not have matches: <[['the pool', 'swimming pool', 'his lane'], ['a pool', 'an olympic sized pool', 'the water'], ['a pool', 'a swim lane', 'his lane', 'succession'], ['the pool', 'the water'], ['the pool', 'his lane'], ['a pool', 'a lane'], ['swimming lane', 'a pool'], ['a pool', 'a competition']]>\n",
      "---------\n",
      "caption=<Some friends are ice fishing and are exciting because they caught a very large fish.>\n",
      "label=<a very large fish> has matches <{'large'}>\n",
      "annotations do not have matches: <[['a fish', 'a trout', 'a prey', 'lunch', 'food'], ['a big fish', 'a fish', 'a trout'], ['a fish.', 'trout.'], ['a fish'], ['a fish', 'food'], ['a fish', 'an aquatic creature', 'a trout'], ['a fish', 'a bass'], ['a fish'], ['fish', 'food']]>\n",
      "---------\n",
      "caption=<Large groups of people in traditional costume are milling around on a bright sunny day as some sing, and some row.>\n",
      "label=<Large groups> has matches <{'large'}>\n",
      "annotations do not have matches: <[['a bunch', 'a group'], ['a community', 'a village', 'a group', 'a tribe', 'a colony', 'a bunch'], ['A group', 'A gathering', 'A gaggle'], ['A bunch', 'A lot', 'A group'], ['troop', 'crowd'], ['A bunch', 'A lot'], ['crowds', 'Groups'], ['a group', 'a crowd'], ['groups', 'throngs']]>\n",
      "---------\n",
      "*~*~*~* testing word set number *~*~*~*\n",
      "caption=<A female stands in a bar with a table with three wine glasses on it and she shows how to open a bottle of wine.>\n",
      "label=<three wine glasses> has matches <{'three'}>\n",
      "annotations do not have matches: <[['wine glasses', 'glasses', 'cups', 'napkins', 'utensils', 'a tablecloth'], ['dishes', 'plates'], ['glasses', 'wine glasses', 'dishes', 'plates', 'silverwear'], ['glasses', 'a table cloth'], ['wine glasass', 'large glasses', 'glasses for wine', 'drinking glasses', 'empty glasses'], ['wine glasses', 'a table cloth', 'dinnerware', 'glasses', 'silverware'], ['glasses', 'cups', 'goblets', 'linens'], ['glasses', 'chairs'], ['wine', 'alcohol']]>\n",
      "---------\n",
      "caption=<Several people are sitting in a church, listening to a pastor speak.>\n",
      "label=<Several people> has matches <{'several'}>\n",
      "annotations do not have matches: <[['People', 'Church guests', 'Some individuals', 'Some people in chairs', 'Some people sitting faced towards the podium'], ['people', 'christians'], ['A group of people', 'People'], ['people', 'congregation'], ['People', 'Patrons', 'Religious people', 'Churchgoers'], ['People', 'Churchgoers'], ['People', 'Believers', 'Followers', 'Supporters'], ['People'], ['People', 'churchgoers', 'members', 'The community', 'Patrons']]>\n",
      "---------\n",
      "caption=<A person peels back and then proceeds to fold away at several layers of fabric.>\n",
      "label=<several layers> has matches <{'several'}>\n",
      "annotations do not have matches: <[['the corner', 'the side', 'a corner of a piece', 'the upper right hand corner'], ['a piece', 'a square'], ['a piece', 'a square'], ['a section', 'a corner'], ['center', 'middle'], ['top corner', 'top right corner'], ['napkin', 'cloth'], ['a piece', 'an object made of'], ['piece', 'the corners']]>\n",
      "---------\n",
      "caption=<A heavily muscled man demonstrates working out with two large barbells.>\n",
      "label=<two large barbells> has matches <{'two'}>\n",
      "annotations do not have matches: <[['barbells', 'equipment'], ['a set of dumbells', 'himself'], ['weights', 'hand weights', 'barbells', 'barbell weights'], ['weights', 'large hand weights'], ['dumbbells', 'weights'], ['weights', 'dumbbells'], ['weights', 'dumbbells'], ['weights', 'dumbbells', 'his arms', 'his shoulders'], ['weights', 'dumbells']]>\n",
      "---------\n",
      "*~*~*~* testing word set combined *~*~*~*\n",
      "caption=<A gir lis trying to stitching up the black and white knitting kit with a knitting needle.>\n",
      "label=<the black and white knitting kit> has matches <{'white', 'black'}>\n",
      "annotations do not have matches: <[['string', 'lace work'], ['the neckerchief', 'the scarf'], ['a scarf', 'a line on a scarf'], ['yarn', 'cloth'], ['a piece of clothing', 'some cloth'], ['a scarf', 'fancy yarn'], ['a scarf', 'her scarf'], ['crochet', 'string', 'thread'], ['a scarf', 'some fabric']]>\n",
      "---------\n",
      "caption=<Several people are sitting in a church, listening to a pastor speak.>\n",
      "label=<Several people> has matches <{'several'}>\n",
      "annotations do not have matches: <[['People', 'Church guests', 'Some individuals', 'Some people in chairs', 'Some people sitting faced towards the podium'], ['people', 'christians'], ['A group of people', 'People'], ['people', 'congregation'], ['People', 'Patrons', 'Religious people', 'Churchgoers'], ['People', 'Churchgoers'], ['People', 'Believers', 'Followers', 'Supporters'], ['People'], ['People', 'churchgoers', 'members', 'The community', 'Patrons']]>\n",
      "---------\n",
      "caption=<A person peels back and then proceeds to fold away at several layers of fabric.>\n",
      "label=<several layers> has matches <{'several'}>\n",
      "annotations do not have matches: <[['the corner', 'the side', 'a corner of a piece', 'the upper right hand corner'], ['a piece', 'a square'], ['a piece', 'a square'], ['a section', 'a corner'], ['center', 'middle'], ['top corner', 'top right corner'], ['napkin', 'cloth'], ['a piece', 'an object made of'], ['piece', 'the corners']]>\n",
      "---------\n",
      "caption=<Workers are excavating a large multiple dig site looking for treasures.>\n",
      "label=<a large multiple dig site> has matches <{'large'}>\n",
      "annotations do not have matches: <[['ground', 'dirt'], ['sites', 'the ground'], ['bones', 'remains', 'artifacts'], ['the soil', 'the earth', 'the ground'], ['ground', 'soil'], ['the ground', 'the dirt', 'a site', 'a dig'], ['the land', 'dirt']]>\n",
      "---------\n",
      "caption=<Two boys playing table tennis inside of a small room.>\n",
      "label=<a small room> has matches <{'small'}>\n",
      "annotations do not have matches: <[['a garage', 'a basement'], ['a basement', 'their basement', 'their home', 'their house', 'a house', 'a rec room', 'a recreational room', 'a rec center', 'a recreational center'], ['a room', 'a gym', 'a house'], ['a room'], ['the garage', 'their home'], ['house', 'room'], ['a garage', 'a room'], ['a room', 'a basement'], ['a recreational room', 'an unfinished room', 'a playroom.']]>\n",
      "---------\n",
      "caption=<An open air gym shows a large group of women particpating in a dance or excercise class.>\n",
      "label=<a large group> has matches <{'large'}>\n",
      "annotations do not have matches: <[['a class', 'a group', 'a crowd', 'a mass'], ['a group', 'a class', 'a gaggle'], ['a group', 'a set', 'a bunch'], ['a lot', 'a plethora', 'tens'], ['class', 'team'], ['a group', 'lots'], ['a group', 'lots'], ['a group', 'a multitude'], ['a lot', 'the skill', 'the talent']]>\n",
      "---------\n",
      "caption=<A Policeman outside directing traffic on a busy street in a large city having a great time doing it, even showing off with his actions.>\n",
      "label=<a large city> has matches <{'large'}>\n",
      "annotations do not have matches: <[['the rain', 'the cold'], ['town', 'the city'], ['peak hours', 'heavy traffic'], ['a busy city'], ['the cold', 'the city'], ['daylight', 'a city', 'an intersection', 'rush hour', 'the daytime'], ['the rain', 'the city', 'an intersection', 'downtown'], ['city', 'intersection'], ['NYC', 'New York']]>\n",
      "---------\n",
      "caption=<Demonstration and narration on the proper way to use a large knife to cut a carrot.>\n",
      "label=<a large knife> has matches <{'large'}>\n",
      "annotations do not have matches: <[['A knife', 'A utensil'], ['a knife', 'a blade'], ['a knife', 'kitchen kinfe'], ['knife', 'sharp object'], ['a knife', 'a utensil'], ['a knife', \"a chef's knife\", 'a sharp knife'], ['a knife', 'knives', 'cutting utensils', 'a blade', 'a kitchen knife'], ['a knife', 'a razor'], ['a knife', \"a chef's knife\", 'a peeler']]>\n",
      "---------\n",
      "caption=<A person is sitting in front of the camera and is blowing a large bubble gum.>\n",
      "label=<a large bubble gum> has matches <{'large'}>\n",
      "annotations do not have matches: <[['gum', 'bubbles', 'bubble gum', 'a bubble', 'chewing gum'], ['bubbles'], ['bubbles', 'gum bubbles'], ['bubbles', 'soapy water'], ['bubbles', 'bubblegum'], ['bubbles', 'gum'], ['bubbles', 'gum'], ['a chewing gum', 'candy'], ['bubble gum', 'candy', 'chewing gum']]>\n",
      "---------\n",
      "caption=<A man swims laps quickly in a large professional pool.>\n",
      "label=<a large professional pool> has matches <{'large'}>\n",
      "annotations do not have matches: <[['the pool', 'swimming pool', 'his lane'], ['a pool', 'an olympic sized pool', 'the water'], ['a pool', 'a swim lane', 'his lane', 'succession'], ['the pool', 'the water'], ['the pool', 'his lane'], ['a pool', 'a lane'], ['swimming lane', 'a pool'], ['a pool', 'a competition']]>\n",
      "---------\n"
     ]
    }
   ],
   "source": [
    "## get aligned/valid data\n",
    "valid_label_tokens = list(map(lambda x: tokenize_answer_to_compute_metrics(x['label_norm']), valid_annotated_data))\n",
    "valid_annotation_label_tokens = [[tokenize_answer_to_compute_metrics(z) for y in x['annotations_norm'] for z in y] for x in valid_annotated_data]\n",
    "# flatten tokens\n",
    "valid_annotation_label_tokens = [[z for y in x for z in y] for x in valid_annotation_label_tokens]\n",
    "sample_size = 10\n",
    "for visual_word_set, visual_word_set_name in zip(visual_word_sets, visual_word_set_names):\n",
    "    print(f'*~*~*~* testing word set {visual_word_set_name} *~*~*~*')\n",
    "    label_word_matches = list(map(lambda x: set(x) & visual_word_set, valid_label_tokens))\n",
    "    annotation_label_word_matches = list(map(lambda x: set(x) & visual_word_set, valid_annotation_label_tokens))\n",
    "    sample_ctr = 0\n",
    "    for data_i, label_word_matches_i, annotation_label_word_matches_i in zip(valid_annotated_data, label_word_matches, annotation_label_word_matches):\n",
    "        if(len(label_word_matches_i) > 0 and len(annotation_label_word_matches_i) == 0):\n",
    "            print(f'caption=<{data_i[\"caption\"]}>')\n",
    "            print(f'label=<{data_i[\"label\"]}> has matches <{label_word_matches_i}>')\n",
    "            print(f'annotations do not have matches: <{data_i[\"additional_answers\"]}>')\n",
    "            print('---------')\n",
    "            sample_ctr += 1\n",
    "            if(sample_ctr >= sample_size):\n",
    "                break"
   ]
  },
  {
   "cell_type": "markdown",
   "metadata": {},
   "source": [
    "- Color: the mismatches are due to highly specific captions, no necessary information being conveyed by the color.\n",
    "- Size: the mismatches are due to annotators focusing more on paraphrases for the noun (`little baby`: `child`, `infant`) and different aspects of the scene (`large group`: `group`, `skill`).\n",
    "- Number: the mismatches are due to annotators focusing more on paraphrases for the noun (`two large barbells`: `equipment`, `weights`) and different aspects of the scene (`three wine glasses`: `dishes`, `glasses`)."
   ]
  },
  {
   "cell_type": "markdown",
   "metadata": {},
   "source": [
    "### Syntactic complexity\n",
    "Let's look at the relative complexity of the NPs provided by the annotations.\n",
    "\n",
    "We'll use `spacy` for parsing."
   ]
  },
  {
   "cell_type": "code",
   "execution_count": 34,
   "metadata": {
    "scrolled": true
   },
   "outputs": [
    {
     "name": "stdout",
     "output_type": "stream",
     "text": [
      "this is a test sentence with a complicated noun that has a lot of extra information\n"
     ]
    }
   ],
   "source": [
    "import spacy\n",
    "nlp_pipeline = spacy.load('en_core_web_sm')\n",
    "test_text = 'this is a test sentence with a complicated noun that has a lot of extra information'\n",
    "test_text_parse = nlp_pipeline(test_text)\n",
    "print(test_text_parse)"
   ]
  },
  {
   "cell_type": "code",
   "execution_count": 35,
   "metadata": {},
   "outputs": [
    {
     "name": "stdout",
     "output_type": "stream",
     "text": [
      "a complicated noun that has a lot of extra information\n"
     ]
    }
   ],
   "source": [
    "import sys\n",
    "if('..' not in sys.path):\n",
    "    sys.path.append('..')\n",
    "from lqam.core.noun_phrases import is_phrase\n",
    "def extract_noun_subtree(noun, start_idx, parse):\n",
    "    noun_tokens = []\n",
    "    # get span\n",
    "    end_idx = start_idx + len(noun)\n",
    "    subtree = parse.char_span(start_idx, end_idx)\n",
    "    if(subtree is not None and is_phrase(subtree)):\n",
    "        return subtree\n",
    "    else:\n",
    "        return ''\n",
    "test_noun = 'a complicated noun that has a lot of extra information'\n",
    "start_idx = test_text.index(test_noun)\n",
    "test_noun_subtree = extract_noun_subtree(test_noun, start_idx, test_text_parse)\n",
    "print(test_noun_subtree)"
   ]
  },
  {
   "cell_type": "code",
   "execution_count": 36,
   "metadata": {},
   "outputs": [],
   "source": [
    "## get start index\n",
    "mask_token = '_____'\n",
    "for data_i in annotated_data:\n",
    "    data_i.update({'mask_start_idx' : data_i['masked_caption'].index(mask_token)})\n",
    "assert annotated_data[0]['mask_start_idx'] == 53"
   ]
  },
  {
   "cell_type": "code",
   "execution_count": 37,
   "metadata": {
    "scrolled": true
   },
   "outputs": [
    {
     "name": "stdout",
     "output_type": "stream",
     "text": [
      "processed 0 data\n",
      "processed 100 data\n",
      "processed 200 data\n",
      "processed 300 data\n",
      "processed 400 data\n",
      "processed 500 data\n",
      "processed 600 data\n",
      "processed 700 data\n",
      "processed 800 data\n",
      "processed 900 data\n"
     ]
    }
   ],
   "source": [
    "# parse all possible sentences based on annotations, generate sub-trees\n",
    "def parse_extract_noun_subtree(mask_sent, noun, nlp_pipeline, start_idx, mask_token='_____'):\n",
    "    sent = mask_sent.replace(mask_token, noun)\n",
    "    parse = nlp_pipeline(sent)\n",
    "    subtree = extract_noun_subtree(noun, start_idx, parse)\n",
    "    return subtree\n",
    "def extract_all_annotation_subtrees(data, nlp_pipeline):\n",
    "    mask_token = '_____'\n",
    "    for i, data_i in enumerate(data):\n",
    "        start_idx_i = data_i['mask_start_idx']\n",
    "        mask_sent_i = data_i['masked_caption']\n",
    "        # get subtree for label\n",
    "        label_i = data_i['label']\n",
    "        label_subtree_i = parse_extract_noun_subtree(mask_sent_i, label_i, nlp_pipeline, start_idx_i, mask_token=mask_token)\n",
    "        data_i['label_subtree'] = label_subtree_i\n",
    "        annotation_label_subtrees = []\n",
    "        for annotation_label_list_j in data_i['additional_answers']:\n",
    "            annotation_label_subtrees_j = []\n",
    "            for annotation_label_k in annotation_label_list_j:\n",
    "                annotation_subtree_k = parse_extract_noun_subtree(mask_sent_i, annotation_label_k, nlp_pipeline, start_idx_i, mask_token=mask_token)\n",
    "                annotation_label_subtrees_j.append(annotation_subtree_k)\n",
    "            annotation_label_subtrees.append(annotation_label_subtrees_j)\n",
    "        data_i['annotation_subtrees'] = annotation_label_subtrees\n",
    "        if(i % 100 == 0):\n",
    "            print(f'processed {i} data')\n",
    "    return data\n",
    "annotated_data = extract_all_annotation_subtrees(annotated_data, nlp_pipeline)"
   ]
  },
  {
   "cell_type": "code",
   "execution_count": 38,
   "metadata": {
    "scrolled": true
   },
   "outputs": [
    {
     "data": {
      "text/plain": [
       "{'video_id': 'cfBtVPEwqIo',\n",
       " 'video_start_time': 5,\n",
       " 'video_end_time': 15,\n",
       " 'caption': 'In a gym with someone spotting him, a man is lifting weights performing squats in a squat rack.',\n",
       " 'masked_caption': 'In a gym with someone spotting him, a man is lifting _____ performing squats in a squat rack.',\n",
       " 'label': 'weights',\n",
       " 'additional_answers': [['a weight', 'some weights', 'a squat bar'],\n",
       "  ['weight', 'a bar'],\n",
       "  ['weights', 'a barbell'],\n",
       "  ['weights', 'a heavy load'],\n",
       "  ['weights', 'a barbell'],\n",
       "  ['weights', 'iron', 'equipment'],\n",
       "  ['weights', 'a barbell', 'a weight'],\n",
       "  ['weights', '405 lb']],\n",
       " 'label_norm': 'weights',\n",
       " 'annotations_norm': [['weight', 'some weights', 'squat bar'],\n",
       "  ['weight', 'bar'],\n",
       "  ['weights', 'barbell'],\n",
       "  ['weights', 'heavy load'],\n",
       "  ['weights', 'barbell'],\n",
       "  ['weights', 'iron', 'equipment'],\n",
       "  ['weights', 'barbell', 'weight'],\n",
       "  ['weights', '405 lb']],\n",
       " 'mask_start_idx': 53,\n",
       " 'label_subtree': weights,\n",
       " 'annotation_subtrees': [[a weight, some weights, ''],\n",
       "  [weight, a bar],\n",
       "  [weights, a barbell],\n",
       "  [weights, a heavy load],\n",
       "  [weights, a barbell],\n",
       "  [weights, iron, equipment],\n",
       "  [weights, a barbell, a weight],\n",
       "  [weights, '']]}"
      ]
     },
     "metadata": {},
     "output_type": "display_data"
    }
   ],
   "source": [
    "display(annotated_data[0])"
   ]
  },
  {
   "cell_type": "markdown",
   "metadata": {},
   "source": [
    "How many labels have extra descriptive information?"
   ]
  },
  {
   "cell_type": "code",
   "execution_count": 39,
   "metadata": {},
   "outputs": [],
   "source": [
    "from collections import defaultdict\n",
    "def has_descriptor(subtree):\n",
    "    # adjective\n",
    "    # get head noun\n",
    "    head_noun = subtree.root\n",
    "    subtree_token_ids = list(map(lambda x: x.idx, subtree))\n",
    "    # get immediate head noun children\n",
    "    head_noun_children = list(filter(lambda x: x.idx in subtree_token_ids, list(head_noun.children)))\n",
    "    has_descriptor = any(list(map(lambda x: x.pos_=='ADJ', head_noun_children)))\n",
    "    return has_descriptor\n",
    "# def has_subclause(subtree):\n",
    "#     # has PREP or COORD\n",
    "#     pass"
   ]
  },
  {
   "cell_type": "code",
   "execution_count": 45,
   "metadata": {},
   "outputs": [],
   "source": [
    "test_subtree_1 = annotated_data[0]['annotation_subtrees'][3][1] # true \"a heavy load\"\n",
    "test_subtree_2 = annotated_data[0]['annotation_subtrees'][1][1] # false \"a bar\"\n",
    "assert has_descriptor(test_subtree_1)\n",
    "assert not has_descriptor(test_subtree_2)"
   ]
  },
  {
   "cell_type": "code",
   "execution_count": 46,
   "metadata": {
    "scrolled": true
   },
   "outputs": [],
   "source": [
    "## get descriptors for everything\n",
    "from spacy.tokens.span import Span\n",
    "annotation_descriptors = [[[type(z) is Span and has_descriptor(z) for z in y] for y in x['annotation_subtrees']] for x in annotated_data]\n",
    "label_descriptors = [type(x['label_subtree']) is Span and has_descriptor(x['label_subtree']) for x in annotated_data]"
   ]
  },
  {
   "cell_type": "markdown",
   "metadata": {},
   "source": [
    "What are some example labels and annotations with adjectives?"
   ]
  },
  {
   "cell_type": "code",
   "execution_count": 47,
   "metadata": {
    "scrolled": true
   },
   "outputs": [
    {
     "name": "stdout",
     "output_type": "stream",
     "text": [
      "sample labels with descriptor information\n",
      "young girl\n",
      "another teenage boy\n",
      "A young man\n",
      "an evergreen tree\n",
      "several layers\n",
      "a long jump\n",
      "a red flower\n",
      "a back twist\n",
      "a makeshift helmet\n",
      "strict pull ups\n",
      "sample annotations with descriptor information\n",
      "his clenched fists\n",
      "a frozen mountain\n",
      "Two little kids\n",
      "slow speed\n",
      "a large pool\n",
      "tribal music\n",
      "a yellow lawn mower\n",
      "high schoolers\n",
      "a chipping tool\n",
      "a white shirt\n"
     ]
    }
   ],
   "source": [
    "## labels\n",
    "import numpy as np\n",
    "np.random.seed(123)\n",
    "sample_size = 10\n",
    "label_descriptor_idx = np.where(np.array(label_descriptors))[0]\n",
    "sample_label_descriptor_idx = np.random.choice(label_descriptor_idx, sample_size, replace=False)\n",
    "print('sample labels with descriptor information')\n",
    "for sample_idx_i in sample_label_descriptor_idx:\n",
    "    print(annotated_data[sample_idx_i]['label_subtree'])\n",
    "## annotations\n",
    "sample_annotation_descriptor_idx = []\n",
    "for i, data_i in enumerate(annotation_descriptors):\n",
    "    for j, data_j in enumerate(data_i):\n",
    "        for k, data_k in enumerate(data_j):\n",
    "            if(data_k):\n",
    "                sample_annotation_descriptor_idx.append([i,j,k])\n",
    "sample_annotation_descriptor_idx = np.array(sample_annotation_descriptor_idx)\n",
    "np.random.shuffle(sample_annotation_descriptor_idx)\n",
    "sample_annotation_descriptor_idx = sample_annotation_descriptor_idx[:sample_size]\n",
    "print('sample annotations with descriptor information')\n",
    "for i,j,k in sample_annotation_descriptor_idx:\n",
    "    print(annotated_data[i]['annotation_subtrees'][j][k])"
   ]
  },
  {
   "cell_type": "markdown",
   "metadata": {},
   "source": [
    "The labels and annotations seem to use mostly visual adjectives (`blue`, `snowy`, `plastic`, `large`) as well as some subjective ones (`great`, `young`, `makeshift`, `classical`)."
   ]
  },
  {
   "cell_type": "markdown",
   "metadata": {},
   "source": [
    "Do labels and annotations tend to use the same adjectives?"
   ]
  },
  {
   "cell_type": "code",
   "execution_count": 48,
   "metadata": {
    "scrolled": true
   },
   "outputs": [
    {
     "name": "stdout",
     "output_type": "stream",
     "text": [
      "top descriptor adjectives for labels\n"
     ]
    },
    {
     "data": {
      "text/plain": [
       "young        21\n",
       "large        16\n",
       "little        9\n",
       "small         6\n",
       "various       5\n",
       "white         5\n",
       "other         4\n",
       "long          4\n",
       "different     4\n",
       "indoor        3\n",
       "red           2\n",
       "black         2\n",
       "hot           2\n",
       "older         2\n",
       "wooden        2\n",
       "several       2\n",
       "high          2\n",
       "human         2\n",
       "yellow        2\n",
       "teenage       2\n",
       "dtype: int64"
      ]
     },
     "metadata": {},
     "output_type": "display_data"
    },
    {
     "name": "stdout",
     "output_type": "stream",
     "text": [
      "top descriptor adjectives for annotations\n"
     ]
    },
    {
     "data": {
      "text/plain": [
       "young        223\n",
       "little        67\n",
       "large         66\n",
       "black         60\n",
       "white         60\n",
       "small         57\n",
       "other         45\n",
       "older         39\n",
       "red           34\n",
       "sharp         33\n",
       "long          30\n",
       "old           29\n",
       "different     25\n",
       "heavy         25\n",
       "electric      25\n",
       "blue          22\n",
       "musical       22\n",
       "big           20\n",
       "high          20\n",
       "wooden        19\n",
       "dtype: int64"
      ]
     },
     "metadata": {},
     "output_type": "display_data"
    }
   ],
   "source": [
    "import pandas as pd\n",
    "sample_size = 20\n",
    "## labels\n",
    "label_descriptors_combined = []\n",
    "for has_descriptor_i, data_i in zip(label_descriptors, annotated_data):\n",
    "    if(has_descriptor_i):\n",
    "        descriptors_i = list(filter(lambda x: x.pos_=='ADJ', data_i['label_subtree']))\n",
    "        descriptors_i = list(map(lambda x: x.text.lower(), descriptors_i))\n",
    "        label_descriptors_combined.extend(descriptors_i)\n",
    "label_descriptor_count = pd.Series(label_descriptors_combined).value_counts()\n",
    "print('top descriptor adjectives for labels')\n",
    "display(label_descriptor_count.head(sample_size))\n",
    "## annotations\n",
    "annotation_descriptors_combined = []\n",
    "for has_descriptor_i, data_i in zip(annotation_descriptors, annotated_data):\n",
    "    for has_descriptor_j, data_j in zip(has_descriptor_i, data_i['annotation_subtrees']):\n",
    "        for has_descriptor_k, data_k in zip(has_descriptor_j, data_j):\n",
    "            if(has_descriptor_k):\n",
    "                descriptors_k = list(filter(lambda x: x.pos_=='ADJ', data_k))\n",
    "                descriptors_k = list(map(lambda x: x.text.lower(), descriptors_k))\n",
    "                annotation_descriptors_combined.extend(descriptors_k)\n",
    "annotation_descriptor_count = pd.Series(annotation_descriptors_combined).value_counts()\n",
    "print('top descriptor adjectives for annotations')\n",
    "display(annotation_descriptor_count.head(sample_size))"
   ]
  },
  {
   "cell_type": "markdown",
   "metadata": {},
   "source": [
    "- Descriptor adjectives for label phrases include age, size, number words.\n",
    "- Descriptor adjectives for annotation phrases include more color and situation-specific (`electric`, `musical`) words."
   ]
  },
  {
   "cell_type": "markdown",
   "metadata": {},
   "source": [
    "Do annotations tend to use more adjectives than original labels?"
   ]
  },
  {
   "cell_type": "code",
   "execution_count": 49,
   "metadata": {
    "scrolled": true
   },
   "outputs": [
    {
     "name": "stdout",
     "output_type": "stream",
     "text": [
      "true labels have 14.934% descriptor use\n",
      "annotation labels have 8.641% descriptor use\n",
      "rate of descriptor use is different with stat=45.636 (p=1.424E-11)\n"
     ]
    }
   ],
   "source": [
    "label_descriptor_use_rate = sum(label_descriptors) / len(annotated_data)\n",
    "total_annotation_descriptors_combined = sum([sum([len(y) for y in x['additional_answers']]) for x in annotated_data])\n",
    "annotation_descriptor_use_rate = len(annotation_descriptors_combined) / total_annotation_descriptors_combined\n",
    "print(f'true labels have %.3f%% descriptor use'%(label_descriptor_use_rate*100))\n",
    "print(f'annotation labels have %.3f%% descriptor use'%(annotation_descriptor_use_rate*100))\n",
    "## is this significant?\n",
    "from scipy.stats import chi2_contingency\n",
    "contingency_table = [\n",
    "    [sum(label_descriptors), len(annotated_data) - sum(label_descriptors)], # true label\n",
    "    [len(annotation_descriptors_combined), total_annotation_descriptors_combined - len(annotation_descriptors_combined)], # annotation label\n",
    "]\n",
    "chi2, p_val, dof, expected = chi2_contingency(contingency_table)\n",
    "print('rate of descriptor use is different with stat=%.3f (p=%.3E)'%(chi2, p_val))"
   ]
  },
  {
   "cell_type": "markdown",
   "metadata": {},
   "source": [
    "OK! The labels tend to use descriptors at a significantly higher rate than the annotations."
   ]
  },
  {
   "cell_type": "markdown",
   "metadata": {},
   "source": [
    "## POS distribution\n",
    "Let's look at the overall POS distribution in the labels and annotations."
   ]
  },
  {
   "cell_type": "code",
   "execution_count": 50,
   "metadata": {},
   "outputs": [
    {
     "name": "stderr",
     "output_type": "stream",
     "text": [
      "<ipython-input-50-358325fe4076>:5: FutureWarning: Sorting because non-concatenation axis is not aligned. A future version\n",
      "of pandas will change to not sort by default.\n",
      "\n",
      "To accept the future behavior, pass 'sort=False'.\n",
      "\n",
      "To retain the current behavior and silence the warning, pass 'sort=True'.\n",
      "\n",
      "  annotation_POS_counts = pd.concat([get_POS_counts(z) for x in annotated_data for y in x['annotation_subtrees'] for z in y if type(z) is Span], axis=1).fillna(0.).sum(axis=1)\n"
     ]
    },
    {
     "data": {
      "text/html": [
       "<div>\n",
       "<style scoped>\n",
       "    .dataframe tbody tr th:only-of-type {\n",
       "        vertical-align: middle;\n",
       "    }\n",
       "\n",
       "    .dataframe tbody tr th {\n",
       "        vertical-align: top;\n",
       "    }\n",
       "\n",
       "    .dataframe thead th {\n",
       "        text-align: right;\n",
       "    }\n",
       "</style>\n",
       "<table border=\"1\" class=\"dataframe\">\n",
       "  <thead>\n",
       "    <tr style=\"text-align: right;\">\n",
       "      <th></th>\n",
       "      <th>POS</th>\n",
       "      <th>count</th>\n",
       "      <th>data_type</th>\n",
       "    </tr>\n",
       "  </thead>\n",
       "  <tbody>\n",
       "    <tr>\n",
       "      <th>0</th>\n",
       "      <td>ADJ</td>\n",
       "      <td>0.084278</td>\n",
       "      <td>label</td>\n",
       "    </tr>\n",
       "    <tr>\n",
       "      <th>1</th>\n",
       "      <td>ADP</td>\n",
       "      <td>0.000986</td>\n",
       "      <td>label</td>\n",
       "    </tr>\n",
       "    <tr>\n",
       "      <th>2</th>\n",
       "      <td>ADV</td>\n",
       "      <td>0.005421</td>\n",
       "      <td>label</td>\n",
       "    </tr>\n",
       "    <tr>\n",
       "      <th>3</th>\n",
       "      <td>AUX</td>\n",
       "      <td>0.000493</td>\n",
       "      <td>label</td>\n",
       "    </tr>\n",
       "    <tr>\n",
       "      <th>4</th>\n",
       "      <td>CCONJ</td>\n",
       "      <td>0.000493</td>\n",
       "      <td>label</td>\n",
       "    </tr>\n",
       "  </tbody>\n",
       "</table>\n",
       "</div>"
      ],
      "text/plain": [
       "     POS     count data_type\n",
       "0    ADJ  0.084278     label\n",
       "1    ADP  0.000986     label\n",
       "2    ADV  0.005421     label\n",
       "3    AUX  0.000493     label\n",
       "4  CCONJ  0.000493     label"
      ]
     },
     "metadata": {},
     "output_type": "display_data"
    }
   ],
   "source": [
    "import pandas as pd\n",
    "def get_POS_counts(subtree):\n",
    "    return pd.Series([x.pos_ for x in subtree]).value_counts()\n",
    "label_POS_counts = pd.concat(list(map(lambda x: get_POS_counts(x['label_subtree']), annotated_data)), axis=1).fillna(0.).sum(axis=1)\n",
    "annotation_POS_counts = pd.concat([get_POS_counts(z) for x in annotated_data for y in x['annotation_subtrees'] for z in y if type(z) is Span], axis=1).fillna(0.).sum(axis=1)\n",
    "## normalize values\n",
    "label_POS_counts = label_POS_counts / label_POS_counts.sum()\n",
    "annotation_POS_counts = annotation_POS_counts / annotation_POS_counts.sum()\n",
    "# combine for plotting\n",
    "combined_POS_counts = pd.concat([\n",
    "    label_POS_counts.reset_index(name='count').rename(columns={'index' : 'POS'}).assign(**{'data_type' : 'label'}),\n",
    "    annotation_POS_counts.reset_index(name='count').rename(columns={'index' : 'POS'}).assign(**{'data_type' : 'annotation'}),\n",
    "])\n",
    "display(combined_POS_counts.head())"
   ]
  },
  {
   "cell_type": "code",
   "execution_count": 51,
   "metadata": {
    "scrolled": true
   },
   "outputs": [
    {
     "data": {
      "image/png": "[encoded data removed]",
      "text/plain": [
       "<Figure size 576x576 with 1 Axes>"
      ]
     },
     "metadata": {
      "needs_background": "light"
     },
     "output_type": "display_data"
    }
   ],
   "source": [
    "## plot combined\n",
    "import seaborn as sns\n",
    "import matplotlib\n",
    "%matplotlib inline\n",
    "import matplotlib.pyplot as plt\n",
    "plt.figure(figsize=(8, 8))\n",
    "sns.barplot(x='count', y='POS', hue='data_type', data=combined_POS_counts)\n",
    "plt.legend(loc='lower right')\n",
    "plt.xscale('log')\n",
    "plt.xlabel('% frequency')\n",
    "plt.ylabel('POS')\n",
    "plt.show()"
   ]
  },
  {
   "cell_type": "markdown",
   "metadata": {},
   "source": [
    "What are the top words in each category?"
   ]
  },
  {
   "cell_type": "code",
   "execution_count": 52,
   "metadata": {},
   "outputs": [],
   "source": [
    "## get POS/word counts\n",
    "label_POS_word_counts = []\n",
    "annotation_POS_word_counts = []\n",
    "for data_i in annotated_data:\n",
    "    label_POS_word_counts.extend([(x.text.lower(), x.pos_) for x in data_i['label_subtree']])\n",
    "    for subtrees_j in data_i['annotation_subtrees']:\n",
    "        for subtree_k in subtrees_j:\n",
    "            if(type(subtree_k) is Span):\n",
    "                annotation_POS_word_counts.extend([(x.text.lower(), x.pos_) for x in subtree_k])\n",
    "## get aggregate counts!!\n",
    "label_POS_word_counts = pd.DataFrame(label_POS_word_counts, columns=['word', 'POS'])\n",
    "annotation_POS_word_counts = pd.DataFrame(annotation_POS_word_counts, columns=['word', 'POS'])\n",
    "label_POS_word_counts = label_POS_word_counts.groupby('POS').apply(lambda x: x.loc[:, 'word'].value_counts()).reset_index(name='count').rename(columns={'level_1' : 'word'})\n",
    "annotation_POS_word_counts = annotation_POS_word_counts.groupby('POS').apply(lambda x: x.loc[:, 'word'].value_counts()).reset_index(name='count').rename(columns={'level_1' : 'word'})"
   ]
  },
  {
   "cell_type": "code",
   "execution_count": 53,
   "metadata": {},
   "outputs": [
    {
     "name": "stdout",
     "output_type": "stream",
     "text": [
      "POS tag ADJ\n",
      "label word counts\n"
     ]
    },
    {
     "data": {
      "text/html": [
       "<div>\n",
       "<style scoped>\n",
       "    .dataframe tbody tr th:only-of-type {\n",
       "        vertical-align: middle;\n",
       "    }\n",
       "\n",
       "    .dataframe tbody tr th {\n",
       "        vertical-align: top;\n",
       "    }\n",
       "\n",
       "    .dataframe thead th {\n",
       "        text-align: right;\n",
       "    }\n",
       "</style>\n",
       "<table border=\"1\" class=\"dataframe\">\n",
       "  <thead>\n",
       "    <tr style=\"text-align: right;\">\n",
       "      <th></th>\n",
       "      <th>word</th>\n",
       "      <th>count</th>\n",
       "    </tr>\n",
       "  </thead>\n",
       "  <tbody>\n",
       "    <tr>\n",
       "      <th>0</th>\n",
       "      <td>young</td>\n",
       "      <td>21</td>\n",
       "    </tr>\n",
       "    <tr>\n",
       "      <th>1</th>\n",
       "      <td>large</td>\n",
       "      <td>16</td>\n",
       "    </tr>\n",
       "    <tr>\n",
       "      <th>2</th>\n",
       "      <td>little</td>\n",
       "      <td>9</td>\n",
       "    </tr>\n",
       "    <tr>\n",
       "      <th>3</th>\n",
       "      <td>white</td>\n",
       "      <td>6</td>\n",
       "    </tr>\n",
       "    <tr>\n",
       "      <th>4</th>\n",
       "      <td>small</td>\n",
       "      <td>6</td>\n",
       "    </tr>\n",
       "    <tr>\n",
       "      <th>5</th>\n",
       "      <td>various</td>\n",
       "      <td>5</td>\n",
       "    </tr>\n",
       "    <tr>\n",
       "      <th>6</th>\n",
       "      <td>different</td>\n",
       "      <td>4</td>\n",
       "    </tr>\n",
       "    <tr>\n",
       "      <th>7</th>\n",
       "      <td>other</td>\n",
       "      <td>4</td>\n",
       "    </tr>\n",
       "    <tr>\n",
       "      <th>8</th>\n",
       "      <td>long</td>\n",
       "      <td>4</td>\n",
       "    </tr>\n",
       "    <tr>\n",
       "      <th>9</th>\n",
       "      <td>teenage</td>\n",
       "      <td>3</td>\n",
       "    </tr>\n",
       "  </tbody>\n",
       "</table>\n",
       "</div>"
      ],
      "text/plain": [
       "        word  count\n",
       "0      young     21\n",
       "1      large     16\n",
       "2     little      9\n",
       "3      white      6\n",
       "4      small      6\n",
       "5    various      5\n",
       "6  different      4\n",
       "7      other      4\n",
       "8       long      4\n",
       "9    teenage      3"
      ]
     },
     "metadata": {},
     "output_type": "display_data"
    },
    {
     "name": "stdout",
     "output_type": "stream",
     "text": [
      "annotation word counts\n"
     ]
    },
    {
     "data": {
      "text/html": [
       "<div>\n",
       "<style scoped>\n",
       "    .dataframe tbody tr th:only-of-type {\n",
       "        vertical-align: middle;\n",
       "    }\n",
       "\n",
       "    .dataframe tbody tr th {\n",
       "        vertical-align: top;\n",
       "    }\n",
       "\n",
       "    .dataframe thead th {\n",
       "        text-align: right;\n",
       "    }\n",
       "</style>\n",
       "<table border=\"1\" class=\"dataframe\">\n",
       "  <thead>\n",
       "    <tr style=\"text-align: right;\">\n",
       "      <th></th>\n",
       "      <th>word</th>\n",
       "      <th>count</th>\n",
       "    </tr>\n",
       "  </thead>\n",
       "  <tbody>\n",
       "    <tr>\n",
       "      <th>0</th>\n",
       "      <td>young</td>\n",
       "      <td>226</td>\n",
       "    </tr>\n",
       "    <tr>\n",
       "      <th>1</th>\n",
       "      <td>black</td>\n",
       "      <td>74</td>\n",
       "    </tr>\n",
       "    <tr>\n",
       "      <th>2</th>\n",
       "      <td>white</td>\n",
       "      <td>71</td>\n",
       "    </tr>\n",
       "    <tr>\n",
       "      <th>3</th>\n",
       "      <td>little</td>\n",
       "      <td>67</td>\n",
       "    </tr>\n",
       "    <tr>\n",
       "      <th>4</th>\n",
       "      <td>large</td>\n",
       "      <td>66</td>\n",
       "    </tr>\n",
       "    <tr>\n",
       "      <th>5</th>\n",
       "      <td>small</td>\n",
       "      <td>58</td>\n",
       "    </tr>\n",
       "    <tr>\n",
       "      <th>6</th>\n",
       "      <td>other</td>\n",
       "      <td>50</td>\n",
       "    </tr>\n",
       "    <tr>\n",
       "      <th>7</th>\n",
       "      <td>older</td>\n",
       "      <td>39</td>\n",
       "    </tr>\n",
       "    <tr>\n",
       "      <th>8</th>\n",
       "      <td>blue</td>\n",
       "      <td>35</td>\n",
       "    </tr>\n",
       "    <tr>\n",
       "      <th>9</th>\n",
       "      <td>red</td>\n",
       "      <td>35</td>\n",
       "    </tr>\n",
       "  </tbody>\n",
       "</table>\n",
       "</div>"
      ],
      "text/plain": [
       "     word  count\n",
       "0   young    226\n",
       "1   black     74\n",
       "2   white     71\n",
       "3  little     67\n",
       "4   large     66\n",
       "5   small     58\n",
       "6   other     50\n",
       "7   older     39\n",
       "8    blue     35\n",
       "9     red     35"
      ]
     },
     "metadata": {},
     "output_type": "display_data"
    },
    {
     "name": "stdout",
     "output_type": "stream",
     "text": [
      "POS tag ADP\n",
      "label word counts\n"
     ]
    },
    {
     "data": {
      "text/html": [
       "<div>\n",
       "<style scoped>\n",
       "    .dataframe tbody tr th:only-of-type {\n",
       "        vertical-align: middle;\n",
       "    }\n",
       "\n",
       "    .dataframe tbody tr th {\n",
       "        vertical-align: top;\n",
       "    }\n",
       "\n",
       "    .dataframe thead th {\n",
       "        text-align: right;\n",
       "    }\n",
       "</style>\n",
       "<table border=\"1\" class=\"dataframe\">\n",
       "  <thead>\n",
       "    <tr style=\"text-align: right;\">\n",
       "      <th></th>\n",
       "      <th>word</th>\n",
       "      <th>count</th>\n",
       "    </tr>\n",
       "  </thead>\n",
       "  <tbody>\n",
       "    <tr>\n",
       "      <th>89</th>\n",
       "      <td>up</td>\n",
       "      <td>1</td>\n",
       "    </tr>\n",
       "    <tr>\n",
       "      <th>90</th>\n",
       "      <td>out</td>\n",
       "      <td>1</td>\n",
       "    </tr>\n",
       "  </tbody>\n",
       "</table>\n",
       "</div>"
      ],
      "text/plain": [
       "   word  count\n",
       "89   up      1\n",
       "90  out      1"
      ]
     },
     "metadata": {},
     "output_type": "display_data"
    },
    {
     "name": "stdout",
     "output_type": "stream",
     "text": [
      "annotation word counts\n"
     ]
    },
    {
     "data": {
      "text/html": [
       "<div>\n",
       "<style scoped>\n",
       "    .dataframe tbody tr th:only-of-type {\n",
       "        vertical-align: middle;\n",
       "    }\n",
       "\n",
       "    .dataframe tbody tr th {\n",
       "        vertical-align: top;\n",
       "    }\n",
       "\n",
       "    .dataframe thead th {\n",
       "        text-align: right;\n",
       "    }\n",
       "</style>\n",
       "<table border=\"1\" class=\"dataframe\">\n",
       "  <thead>\n",
       "    <tr style=\"text-align: right;\">\n",
       "      <th></th>\n",
       "      <th>word</th>\n",
       "      <th>count</th>\n",
       "    </tr>\n",
       "  </thead>\n",
       "  <tbody>\n",
       "    <tr>\n",
       "      <th>527</th>\n",
       "      <td>of</td>\n",
       "      <td>364</td>\n",
       "    </tr>\n",
       "    <tr>\n",
       "      <th>528</th>\n",
       "      <td>in</td>\n",
       "      <td>88</td>\n",
       "    </tr>\n",
       "    <tr>\n",
       "      <th>529</th>\n",
       "      <td>with</td>\n",
       "      <td>29</td>\n",
       "    </tr>\n",
       "    <tr>\n",
       "      <th>530</th>\n",
       "      <td>on</td>\n",
       "      <td>25</td>\n",
       "    </tr>\n",
       "    <tr>\n",
       "      <th>531</th>\n",
       "      <td>up</td>\n",
       "      <td>15</td>\n",
       "    </tr>\n",
       "    <tr>\n",
       "      <th>532</th>\n",
       "      <td>for</td>\n",
       "      <td>11</td>\n",
       "    </tr>\n",
       "    <tr>\n",
       "      <th>533</th>\n",
       "      <td>from</td>\n",
       "      <td>8</td>\n",
       "    </tr>\n",
       "    <tr>\n",
       "      <th>534</th>\n",
       "      <td>out</td>\n",
       "      <td>7</td>\n",
       "    </tr>\n",
       "    <tr>\n",
       "      <th>535</th>\n",
       "      <td>to</td>\n",
       "      <td>6</td>\n",
       "    </tr>\n",
       "    <tr>\n",
       "      <th>536</th>\n",
       "      <td>down</td>\n",
       "      <td>5</td>\n",
       "    </tr>\n",
       "  </tbody>\n",
       "</table>\n",
       "</div>"
      ],
      "text/plain": [
       "     word  count\n",
       "527    of    364\n",
       "528    in     88\n",
       "529  with     29\n",
       "530    on     25\n",
       "531    up     15\n",
       "532   for     11\n",
       "533  from      8\n",
       "534   out      7\n",
       "535    to      6\n",
       "536  down      5"
      ]
     },
     "metadata": {},
     "output_type": "display_data"
    },
    {
     "name": "stdout",
     "output_type": "stream",
     "text": [
      "POS tag ADV\n",
      "label word counts\n"
     ]
    },
    {
     "data": {
      "text/html": [
       "<div>\n",
       "<style scoped>\n",
       "    .dataframe tbody tr th:only-of-type {\n",
       "        vertical-align: middle;\n",
       "    }\n",
       "\n",
       "    .dataframe tbody tr th {\n",
       "        vertical-align: top;\n",
       "    }\n",
       "\n",
       "    .dataframe thead th {\n",
       "        text-align: right;\n",
       "    }\n",
       "</style>\n",
       "<table border=\"1\" class=\"dataframe\">\n",
       "  <thead>\n",
       "    <tr style=\"text-align: right;\">\n",
       "      <th></th>\n",
       "      <th>word</th>\n",
       "      <th>count</th>\n",
       "    </tr>\n",
       "  </thead>\n",
       "  <tbody>\n",
       "    <tr>\n",
       "      <th>91</th>\n",
       "      <td>very</td>\n",
       "      <td>4</td>\n",
       "    </tr>\n",
       "    <tr>\n",
       "      <th>92</th>\n",
       "      <td>ornately</td>\n",
       "      <td>1</td>\n",
       "    </tr>\n",
       "    <tr>\n",
       "      <th>93</th>\n",
       "      <td>back</td>\n",
       "      <td>1</td>\n",
       "    </tr>\n",
       "    <tr>\n",
       "      <th>94</th>\n",
       "      <td>backflip</td>\n",
       "      <td>1</td>\n",
       "    </tr>\n",
       "    <tr>\n",
       "      <th>95</th>\n",
       "      <td>well</td>\n",
       "      <td>1</td>\n",
       "    </tr>\n",
       "    <tr>\n",
       "      <th>96</th>\n",
       "      <td>curly</td>\n",
       "      <td>1</td>\n",
       "    </tr>\n",
       "    <tr>\n",
       "      <th>97</th>\n",
       "      <td>extremely</td>\n",
       "      <td>1</td>\n",
       "    </tr>\n",
       "    <tr>\n",
       "      <th>98</th>\n",
       "      <td>about</td>\n",
       "      <td>1</td>\n",
       "    </tr>\n",
       "  </tbody>\n",
       "</table>\n",
       "</div>"
      ],
      "text/plain": [
       "         word  count\n",
       "91       very      4\n",
       "92   ornately      1\n",
       "93       back      1\n",
       "94   backflip      1\n",
       "95       well      1\n",
       "96      curly      1\n",
       "97  extremely      1\n",
       "98      about      1"
      ]
     },
     "metadata": {},
     "output_type": "display_data"
    },
    {
     "name": "stdout",
     "output_type": "stream",
     "text": [
      "annotation word counts\n"
     ]
    },
    {
     "data": {
      "text/html": [
       "<div>\n",
       "<style scoped>\n",
       "    .dataframe tbody tr th:only-of-type {\n",
       "        vertical-align: middle;\n",
       "    }\n",
       "\n",
       "    .dataframe tbody tr th {\n",
       "        vertical-align: top;\n",
       "    }\n",
       "\n",
       "    .dataframe thead th {\n",
       "        text-align: right;\n",
       "    }\n",
       "</style>\n",
       "<table border=\"1\" class=\"dataframe\">\n",
       "  <thead>\n",
       "    <tr style=\"text-align: right;\">\n",
       "      <th></th>\n",
       "      <th>word</th>\n",
       "      <th>count</th>\n",
       "    </tr>\n",
       "  </thead>\n",
       "  <tbody>\n",
       "    <tr>\n",
       "      <th>545</th>\n",
       "      <td>how</td>\n",
       "      <td>23</td>\n",
       "    </tr>\n",
       "    <tr>\n",
       "      <th>546</th>\n",
       "      <td>back</td>\n",
       "      <td>12</td>\n",
       "    </tr>\n",
       "    <tr>\n",
       "      <th>547</th>\n",
       "      <td>very</td>\n",
       "      <td>7</td>\n",
       "    </tr>\n",
       "    <tr>\n",
       "      <th>548</th>\n",
       "      <td>else</td>\n",
       "      <td>6</td>\n",
       "    </tr>\n",
       "    <tr>\n",
       "      <th>549</th>\n",
       "      <td>well</td>\n",
       "      <td>6</td>\n",
       "    </tr>\n",
       "    <tr>\n",
       "      <th>550</th>\n",
       "      <td>chalk</td>\n",
       "      <td>4</td>\n",
       "    </tr>\n",
       "    <tr>\n",
       "      <th>551</th>\n",
       "      <td>just</td>\n",
       "      <td>3</td>\n",
       "    </tr>\n",
       "    <tr>\n",
       "      <th>552</th>\n",
       "      <td>bong</td>\n",
       "      <td>3</td>\n",
       "    </tr>\n",
       "    <tr>\n",
       "      <th>556</th>\n",
       "      <td>shed</td>\n",
       "      <td>2</td>\n",
       "    </tr>\n",
       "    <tr>\n",
       "      <th>557</th>\n",
       "      <td>really</td>\n",
       "      <td>2</td>\n",
       "    </tr>\n",
       "  </tbody>\n",
       "</table>\n",
       "</div>"
      ],
      "text/plain": [
       "       word  count\n",
       "545     how     23\n",
       "546    back     12\n",
       "547    very      7\n",
       "548    else      6\n",
       "549    well      6\n",
       "550   chalk      4\n",
       "551    just      3\n",
       "552    bong      3\n",
       "556    shed      2\n",
       "557  really      2"
      ]
     },
     "metadata": {},
     "output_type": "display_data"
    },
    {
     "name": "stdout",
     "output_type": "stream",
     "text": [
      "POS tag AUX\n",
      "label word counts\n"
     ]
    },
    {
     "data": {
      "text/html": [
       "<div>\n",
       "<style scoped>\n",
       "    .dataframe tbody tr th:only-of-type {\n",
       "        vertical-align: middle;\n",
       "    }\n",
       "\n",
       "    .dataframe tbody tr th {\n",
       "        vertical-align: top;\n",
       "    }\n",
       "\n",
       "    .dataframe thead th {\n",
       "        text-align: right;\n",
       "    }\n",
       "</style>\n",
       "<table border=\"1\" class=\"dataframe\">\n",
       "  <thead>\n",
       "    <tr style=\"text-align: right;\">\n",
       "      <th></th>\n",
       "      <th>word</th>\n",
       "      <th>count</th>\n",
       "    </tr>\n",
       "  </thead>\n",
       "  <tbody>\n",
       "    <tr>\n",
       "      <th>99</th>\n",
       "      <td>do</td>\n",
       "      <td>1</td>\n",
       "    </tr>\n",
       "  </tbody>\n",
       "</table>\n",
       "</div>"
      ],
      "text/plain": [
       "   word  count\n",
       "99   do      1"
      ]
     },
     "metadata": {},
     "output_type": "display_data"
    },
    {
     "name": "stdout",
     "output_type": "stream",
     "text": [
      "annotation word counts\n"
     ]
    },
    {
     "data": {
      "text/html": [
       "<div>\n",
       "<style scoped>\n",
       "    .dataframe tbody tr th:only-of-type {\n",
       "        vertical-align: middle;\n",
       "    }\n",
       "\n",
       "    .dataframe tbody tr th {\n",
       "        vertical-align: top;\n",
       "    }\n",
       "\n",
       "    .dataframe thead th {\n",
       "        text-align: right;\n",
       "    }\n",
       "</style>\n",
       "<table border=\"1\" class=\"dataframe\">\n",
       "  <thead>\n",
       "    <tr style=\"text-align: right;\">\n",
       "      <th></th>\n",
       "      <th>word</th>\n",
       "      <th>count</th>\n",
       "    </tr>\n",
       "  </thead>\n",
       "  <tbody>\n",
       "    <tr>\n",
       "      <th>594</th>\n",
       "      <td>is</td>\n",
       "      <td>12</td>\n",
       "    </tr>\n",
       "    <tr>\n",
       "      <th>595</th>\n",
       "      <td>'s</td>\n",
       "      <td>8</td>\n",
       "    </tr>\n",
       "    <tr>\n",
       "      <th>596</th>\n",
       "      <td>are</td>\n",
       "      <td>4</td>\n",
       "    </tr>\n",
       "    <tr>\n",
       "      <th>597</th>\n",
       "      <td>did</td>\n",
       "      <td>3</td>\n",
       "    </tr>\n",
       "    <tr>\n",
       "      <th>598</th>\n",
       "      <td>has</td>\n",
       "      <td>3</td>\n",
       "    </tr>\n",
       "    <tr>\n",
       "      <th>599</th>\n",
       "      <td>do</td>\n",
       "      <td>3</td>\n",
       "    </tr>\n",
       "    <tr>\n",
       "      <th>600</th>\n",
       "      <td>was</td>\n",
       "      <td>3</td>\n",
       "    </tr>\n",
       "    <tr>\n",
       "      <th>601</th>\n",
       "      <td>be</td>\n",
       "      <td>2</td>\n",
       "    </tr>\n",
       "    <tr>\n",
       "      <th>602</th>\n",
       "      <td>have</td>\n",
       "      <td>1</td>\n",
       "    </tr>\n",
       "    <tr>\n",
       "      <th>603</th>\n",
       "      <td>had</td>\n",
       "      <td>1</td>\n",
       "    </tr>\n",
       "  </tbody>\n",
       "</table>\n",
       "</div>"
      ],
      "text/plain": [
       "     word  count\n",
       "594    is     12\n",
       "595    's      8\n",
       "596   are      4\n",
       "597   did      3\n",
       "598   has      3\n",
       "599    do      3\n",
       "600   was      3\n",
       "601    be      2\n",
       "602  have      1\n",
       "603   had      1"
      ]
     },
     "metadata": {},
     "output_type": "display_data"
    },
    {
     "name": "stdout",
     "output_type": "stream",
     "text": [
      "POS tag CCONJ\n",
      "label word counts\n"
     ]
    },
    {
     "data": {
      "text/html": [
       "<div>\n",
       "<style scoped>\n",
       "    .dataframe tbody tr th:only-of-type {\n",
       "        vertical-align: middle;\n",
       "    }\n",
       "\n",
       "    .dataframe tbody tr th {\n",
       "        vertical-align: top;\n",
       "    }\n",
       "\n",
       "    .dataframe thead th {\n",
       "        text-align: right;\n",
       "    }\n",
       "</style>\n",
       "<table border=\"1\" class=\"dataframe\">\n",
       "  <thead>\n",
       "    <tr style=\"text-align: right;\">\n",
       "      <th></th>\n",
       "      <th>word</th>\n",
       "      <th>count</th>\n",
       "    </tr>\n",
       "  </thead>\n",
       "  <tbody>\n",
       "    <tr>\n",
       "      <th>100</th>\n",
       "      <td>and</td>\n",
       "      <td>1</td>\n",
       "    </tr>\n",
       "  </tbody>\n",
       "</table>\n",
       "</div>"
      ],
      "text/plain": [
       "    word  count\n",
       "100  and      1"
      ]
     },
     "metadata": {},
     "output_type": "display_data"
    },
    {
     "name": "stdout",
     "output_type": "stream",
     "text": [
      "annotation word counts\n"
     ]
    },
    {
     "data": {
      "text/html": [
       "<div>\n",
       "<style scoped>\n",
       "    .dataframe tbody tr th:only-of-type {\n",
       "        vertical-align: middle;\n",
       "    }\n",
       "\n",
       "    .dataframe tbody tr th {\n",
       "        vertical-align: top;\n",
       "    }\n",
       "\n",
       "    .dataframe thead th {\n",
       "        text-align: right;\n",
       "    }\n",
       "</style>\n",
       "<table border=\"1\" class=\"dataframe\">\n",
       "  <thead>\n",
       "    <tr style=\"text-align: right;\">\n",
       "      <th></th>\n",
       "      <th>word</th>\n",
       "      <th>count</th>\n",
       "    </tr>\n",
       "  </thead>\n",
       "  <tbody>\n",
       "    <tr>\n",
       "      <th>604</th>\n",
       "      <td>and</td>\n",
       "      <td>127</td>\n",
       "    </tr>\n",
       "    <tr>\n",
       "      <th>605</th>\n",
       "      <td>or</td>\n",
       "      <td>2</td>\n",
       "    </tr>\n",
       "    <tr>\n",
       "      <th>606</th>\n",
       "      <td>both</td>\n",
       "      <td>2</td>\n",
       "    </tr>\n",
       "    <tr>\n",
       "      <th>607</th>\n",
       "      <td>&amp;</td>\n",
       "      <td>1</td>\n",
       "    </tr>\n",
       "  </tbody>\n",
       "</table>\n",
       "</div>"
      ],
      "text/plain": [
       "     word  count\n",
       "604   and    127\n",
       "605    or      2\n",
       "606  both      2\n",
       "607     &      1"
      ]
     },
     "metadata": {},
     "output_type": "display_data"
    },
    {
     "name": "stdout",
     "output_type": "stream",
     "text": [
      "POS tag DET\n",
      "label word counts\n"
     ]
    },
    {
     "data": {
      "text/html": [
       "<div>\n",
       "<style scoped>\n",
       "    .dataframe tbody tr th:only-of-type {\n",
       "        vertical-align: middle;\n",
       "    }\n",
       "\n",
       "    .dataframe tbody tr th {\n",
       "        vertical-align: top;\n",
       "    }\n",
       "\n",
       "    .dataframe thead th {\n",
       "        text-align: right;\n",
       "    }\n",
       "</style>\n",
       "<table border=\"1\" class=\"dataframe\">\n",
       "  <thead>\n",
       "    <tr style=\"text-align: right;\">\n",
       "      <th></th>\n",
       "      <th>word</th>\n",
       "      <th>count</th>\n",
       "    </tr>\n",
       "  </thead>\n",
       "  <tbody>\n",
       "    <tr>\n",
       "      <th>101</th>\n",
       "      <td>a</td>\n",
       "      <td>462</td>\n",
       "    </tr>\n",
       "    <tr>\n",
       "      <th>102</th>\n",
       "      <td>the</td>\n",
       "      <td>99</td>\n",
       "    </tr>\n",
       "    <tr>\n",
       "      <th>103</th>\n",
       "      <td>his</td>\n",
       "      <td>31</td>\n",
       "    </tr>\n",
       "    <tr>\n",
       "      <th>104</th>\n",
       "      <td>an</td>\n",
       "      <td>25</td>\n",
       "    </tr>\n",
       "    <tr>\n",
       "      <th>105</th>\n",
       "      <td>her</td>\n",
       "      <td>21</td>\n",
       "    </tr>\n",
       "    <tr>\n",
       "      <th>106</th>\n",
       "      <td>their</td>\n",
       "      <td>17</td>\n",
       "    </tr>\n",
       "    <tr>\n",
       "      <th>107</th>\n",
       "      <td>another</td>\n",
       "      <td>12</td>\n",
       "    </tr>\n",
       "    <tr>\n",
       "      <th>108</th>\n",
       "      <td>some</td>\n",
       "      <td>3</td>\n",
       "    </tr>\n",
       "    <tr>\n",
       "      <th>109</th>\n",
       "      <td>both</td>\n",
       "      <td>2</td>\n",
       "    </tr>\n",
       "    <tr>\n",
       "      <th>110</th>\n",
       "      <td>its</td>\n",
       "      <td>1</td>\n",
       "    </tr>\n",
       "  </tbody>\n",
       "</table>\n",
       "</div>"
      ],
      "text/plain": [
       "        word  count\n",
       "101        a    462\n",
       "102      the     99\n",
       "103      his     31\n",
       "104       an     25\n",
       "105      her     21\n",
       "106    their     17\n",
       "107  another     12\n",
       "108     some      3\n",
       "109     both      2\n",
       "110      its      1"
      ]
     },
     "metadata": {},
     "output_type": "display_data"
    },
    {
     "name": "stdout",
     "output_type": "stream",
     "text": [
      "annotation word counts\n"
     ]
    },
    {
     "data": {
      "text/html": [
       "<div>\n",
       "<style scoped>\n",
       "    .dataframe tbody tr th:only-of-type {\n",
       "        vertical-align: middle;\n",
       "    }\n",
       "\n",
       "    .dataframe tbody tr th {\n",
       "        vertical-align: top;\n",
       "    }\n",
       "\n",
       "    .dataframe thead th {\n",
       "        text-align: right;\n",
       "    }\n",
       "</style>\n",
       "<table border=\"1\" class=\"dataframe\">\n",
       "  <thead>\n",
       "    <tr style=\"text-align: right;\">\n",
       "      <th></th>\n",
       "      <th>word</th>\n",
       "      <th>count</th>\n",
       "    </tr>\n",
       "  </thead>\n",
       "  <tbody>\n",
       "    <tr>\n",
       "      <th>608</th>\n",
       "      <td>a</td>\n",
       "      <td>8792</td>\n",
       "    </tr>\n",
       "    <tr>\n",
       "      <th>609</th>\n",
       "      <td>the</td>\n",
       "      <td>3047</td>\n",
       "    </tr>\n",
       "    <tr>\n",
       "      <th>610</th>\n",
       "      <td>an</td>\n",
       "      <td>616</td>\n",
       "    </tr>\n",
       "    <tr>\n",
       "      <th>611</th>\n",
       "      <td>his</td>\n",
       "      <td>483</td>\n",
       "    </tr>\n",
       "    <tr>\n",
       "      <th>612</th>\n",
       "      <td>her</td>\n",
       "      <td>415</td>\n",
       "    </tr>\n",
       "    <tr>\n",
       "      <th>613</th>\n",
       "      <td>their</td>\n",
       "      <td>166</td>\n",
       "    </tr>\n",
       "    <tr>\n",
       "      <th>614</th>\n",
       "      <td>some</td>\n",
       "      <td>104</td>\n",
       "    </tr>\n",
       "    <tr>\n",
       "      <th>615</th>\n",
       "      <td>another</td>\n",
       "      <td>98</td>\n",
       "    </tr>\n",
       "    <tr>\n",
       "      <th>616</th>\n",
       "      <td>this</td>\n",
       "      <td>22</td>\n",
       "    </tr>\n",
       "    <tr>\n",
       "      <th>617</th>\n",
       "      <td>that</td>\n",
       "      <td>19</td>\n",
       "    </tr>\n",
       "  </tbody>\n",
       "</table>\n",
       "</div>"
      ],
      "text/plain": [
       "        word  count\n",
       "608        a   8792\n",
       "609      the   3047\n",
       "610       an    616\n",
       "611      his    483\n",
       "612      her    415\n",
       "613    their    166\n",
       "614     some    104\n",
       "615  another     98\n",
       "616     this     22\n",
       "617     that     19"
      ]
     },
     "metadata": {},
     "output_type": "display_data"
    },
    {
     "name": "stdout",
     "output_type": "stream",
     "text": [
      "POS tag NOUN\n",
      "label word counts\n"
     ]
    },
    {
     "data": {
      "text/html": [
       "<div>\n",
       "<style scoped>\n",
       "    .dataframe tbody tr th:only-of-type {\n",
       "        vertical-align: middle;\n",
       "    }\n",
       "\n",
       "    .dataframe tbody tr th {\n",
       "        vertical-align: top;\n",
       "    }\n",
       "\n",
       "    .dataframe thead th {\n",
       "        text-align: right;\n",
       "    }\n",
       "</style>\n",
       "<table border=\"1\" class=\"dataframe\">\n",
       "  <thead>\n",
       "    <tr style=\"text-align: right;\">\n",
       "      <th></th>\n",
       "      <th>word</th>\n",
       "      <th>count</th>\n",
       "    </tr>\n",
       "  </thead>\n",
       "  <tbody>\n",
       "    <tr>\n",
       "      <th>113</th>\n",
       "      <td>man</td>\n",
       "      <td>60</td>\n",
       "    </tr>\n",
       "    <tr>\n",
       "      <th>114</th>\n",
       "      <td>person</td>\n",
       "      <td>30</td>\n",
       "    </tr>\n",
       "    <tr>\n",
       "      <th>115</th>\n",
       "      <td>woman</td>\n",
       "      <td>28</td>\n",
       "    </tr>\n",
       "    <tr>\n",
       "      <th>116</th>\n",
       "      <td>boy</td>\n",
       "      <td>19</td>\n",
       "    </tr>\n",
       "    <tr>\n",
       "      <th>117</th>\n",
       "      <td>people</td>\n",
       "      <td>18</td>\n",
       "    </tr>\n",
       "    <tr>\n",
       "      <th>118</th>\n",
       "      <td>girl</td>\n",
       "      <td>14</td>\n",
       "    </tr>\n",
       "    <tr>\n",
       "      <th>119</th>\n",
       "      <td>group</td>\n",
       "      <td>13</td>\n",
       "    </tr>\n",
       "    <tr>\n",
       "      <th>120</th>\n",
       "      <td>boys</td>\n",
       "      <td>11</td>\n",
       "    </tr>\n",
       "    <tr>\n",
       "      <th>121</th>\n",
       "      <td>baby</td>\n",
       "      <td>10</td>\n",
       "    </tr>\n",
       "    <tr>\n",
       "      <th>122</th>\n",
       "      <td>front</td>\n",
       "      <td>10</td>\n",
       "    </tr>\n",
       "  </tbody>\n",
       "</table>\n",
       "</div>"
      ],
      "text/plain": [
       "       word  count\n",
       "113     man     60\n",
       "114  person     30\n",
       "115   woman     28\n",
       "116     boy     19\n",
       "117  people     18\n",
       "118    girl     14\n",
       "119   group     13\n",
       "120    boys     11\n",
       "121    baby     10\n",
       "122   front     10"
      ]
     },
     "metadata": {},
     "output_type": "display_data"
    },
    {
     "name": "stdout",
     "output_type": "stream",
     "text": [
      "annotation word counts\n"
     ]
    },
    {
     "data": {
      "text/html": [
       "<div>\n",
       "<style scoped>\n",
       "    .dataframe tbody tr th:only-of-type {\n",
       "        vertical-align: middle;\n",
       "    }\n",
       "\n",
       "    .dataframe tbody tr th {\n",
       "        vertical-align: top;\n",
       "    }\n",
       "\n",
       "    .dataframe thead th {\n",
       "        text-align: right;\n",
       "    }\n",
       "</style>\n",
       "<table border=\"1\" class=\"dataframe\">\n",
       "  <thead>\n",
       "    <tr style=\"text-align: right;\">\n",
       "      <th></th>\n",
       "      <th>word</th>\n",
       "      <th>count</th>\n",
       "    </tr>\n",
       "  </thead>\n",
       "  <tbody>\n",
       "    <tr>\n",
       "      <th>633</th>\n",
       "      <td>man</td>\n",
       "      <td>878</td>\n",
       "    </tr>\n",
       "    <tr>\n",
       "      <th>634</th>\n",
       "      <td>person</td>\n",
       "      <td>651</td>\n",
       "    </tr>\n",
       "    <tr>\n",
       "      <th>635</th>\n",
       "      <td>woman</td>\n",
       "      <td>423</td>\n",
       "    </tr>\n",
       "    <tr>\n",
       "      <th>636</th>\n",
       "      <td>people</td>\n",
       "      <td>312</td>\n",
       "    </tr>\n",
       "    <tr>\n",
       "      <th>637</th>\n",
       "      <td>boy</td>\n",
       "      <td>288</td>\n",
       "    </tr>\n",
       "    <tr>\n",
       "      <th>638</th>\n",
       "      <td>girl</td>\n",
       "      <td>283</td>\n",
       "    </tr>\n",
       "    <tr>\n",
       "      <th>639</th>\n",
       "      <td>guy</td>\n",
       "      <td>264</td>\n",
       "    </tr>\n",
       "    <tr>\n",
       "      <th>640</th>\n",
       "      <td>group</td>\n",
       "      <td>236</td>\n",
       "    </tr>\n",
       "    <tr>\n",
       "      <th>641</th>\n",
       "      <td>child</td>\n",
       "      <td>219</td>\n",
       "    </tr>\n",
       "    <tr>\n",
       "      <th>642</th>\n",
       "      <td>kids</td>\n",
       "      <td>164</td>\n",
       "    </tr>\n",
       "  </tbody>\n",
       "</table>\n",
       "</div>"
      ],
      "text/plain": [
       "       word  count\n",
       "633     man    878\n",
       "634  person    651\n",
       "635   woman    423\n",
       "636  people    312\n",
       "637     boy    288\n",
       "638    girl    283\n",
       "639     guy    264\n",
       "640   group    236\n",
       "641   child    219\n",
       "642    kids    164"
      ]
     },
     "metadata": {},
     "output_type": "display_data"
    },
    {
     "name": "stdout",
     "output_type": "stream",
     "text": [
      "POS tag NUM\n",
      "label word counts\n"
     ]
    },
    {
     "data": {
      "text/html": [
       "<div>\n",
       "<style scoped>\n",
       "    .dataframe tbody tr th:only-of-type {\n",
       "        vertical-align: middle;\n",
       "    }\n",
       "\n",
       "    .dataframe tbody tr th {\n",
       "        vertical-align: top;\n",
       "    }\n",
       "\n",
       "    .dataframe thead th {\n",
       "        text-align: right;\n",
       "    }\n",
       "</style>\n",
       "<table border=\"1\" class=\"dataframe\">\n",
       "  <thead>\n",
       "    <tr style=\"text-align: right;\">\n",
       "      <th></th>\n",
       "      <th>word</th>\n",
       "      <th>count</th>\n",
       "    </tr>\n",
       "  </thead>\n",
       "  <tbody>\n",
       "    <tr>\n",
       "      <th>635</th>\n",
       "      <td>two</td>\n",
       "      <td>24</td>\n",
       "    </tr>\n",
       "    <tr>\n",
       "      <th>636</th>\n",
       "      <td>three</td>\n",
       "      <td>7</td>\n",
       "    </tr>\n",
       "    <tr>\n",
       "      <th>637</th>\n",
       "      <td>one</td>\n",
       "      <td>2</td>\n",
       "    </tr>\n",
       "    <tr>\n",
       "      <th>638</th>\n",
       "      <td>four</td>\n",
       "      <td>1</td>\n",
       "    </tr>\n",
       "    <tr>\n",
       "      <th>639</th>\n",
       "      <td>nine</td>\n",
       "      <td>1</td>\n",
       "    </tr>\n",
       "  </tbody>\n",
       "</table>\n",
       "</div>"
      ],
      "text/plain": [
       "      word  count\n",
       "635    two     24\n",
       "636  three      7\n",
       "637    one      2\n",
       "638   four      1\n",
       "639   nine      1"
      ]
     },
     "metadata": {},
     "output_type": "display_data"
    },
    {
     "name": "stdout",
     "output_type": "stream",
     "text": [
      "annotation word counts\n"
     ]
    },
    {
     "data": {
      "text/html": [
       "<div>\n",
       "<style scoped>\n",
       "    .dataframe tbody tr th:only-of-type {\n",
       "        vertical-align: middle;\n",
       "    }\n",
       "\n",
       "    .dataframe tbody tr th {\n",
       "        vertical-align: top;\n",
       "    }\n",
       "\n",
       "    .dataframe thead th {\n",
       "        text-align: right;\n",
       "    }\n",
       "</style>\n",
       "<table border=\"1\" class=\"dataframe\">\n",
       "  <thead>\n",
       "    <tr style=\"text-align: right;\">\n",
       "      <th></th>\n",
       "      <th>word</th>\n",
       "      <th>count</th>\n",
       "    </tr>\n",
       "  </thead>\n",
       "  <tbody>\n",
       "    <tr>\n",
       "      <th>3790</th>\n",
       "      <td>two</td>\n",
       "      <td>214</td>\n",
       "    </tr>\n",
       "    <tr>\n",
       "      <th>3791</th>\n",
       "      <td>one</td>\n",
       "      <td>41</td>\n",
       "    </tr>\n",
       "    <tr>\n",
       "      <th>3792</th>\n",
       "      <td>2</td>\n",
       "      <td>29</td>\n",
       "    </tr>\n",
       "    <tr>\n",
       "      <th>3793</th>\n",
       "      <td>three</td>\n",
       "      <td>17</td>\n",
       "    </tr>\n",
       "    <tr>\n",
       "      <th>3794</th>\n",
       "      <td>3</td>\n",
       "      <td>12</td>\n",
       "    </tr>\n",
       "    <tr>\n",
       "      <th>3795</th>\n",
       "      <td>four</td>\n",
       "      <td>11</td>\n",
       "    </tr>\n",
       "    <tr>\n",
       "      <th>3796</th>\n",
       "      <td>2000</td>\n",
       "      <td>4</td>\n",
       "    </tr>\n",
       "    <tr>\n",
       "      <th>3797</th>\n",
       "      <td>1</td>\n",
       "      <td>4</td>\n",
       "    </tr>\n",
       "    <tr>\n",
       "      <th>3798</th>\n",
       "      <td>4</td>\n",
       "      <td>3</td>\n",
       "    </tr>\n",
       "    <tr>\n",
       "      <th>3801</th>\n",
       "      <td>5</td>\n",
       "      <td>2</td>\n",
       "    </tr>\n",
       "  </tbody>\n",
       "</table>\n",
       "</div>"
      ],
      "text/plain": [
       "       word  count\n",
       "3790    two    214\n",
       "3791    one     41\n",
       "3792      2     29\n",
       "3793  three     17\n",
       "3794      3     12\n",
       "3795   four     11\n",
       "3796   2000      4\n",
       "3797      1      4\n",
       "3798      4      3\n",
       "3801      5      2"
      ]
     },
     "metadata": {},
     "output_type": "display_data"
    },
    {
     "name": "stdout",
     "output_type": "stream",
     "text": [
      "POS tag PART\n",
      "label word counts\n"
     ]
    },
    {
     "data": {
      "text/html": [
       "<div>\n",
       "<style scoped>\n",
       "    .dataframe tbody tr th:only-of-type {\n",
       "        vertical-align: middle;\n",
       "    }\n",
       "\n",
       "    .dataframe tbody tr th {\n",
       "        vertical-align: top;\n",
       "    }\n",
       "\n",
       "    .dataframe thead th {\n",
       "        text-align: right;\n",
       "    }\n",
       "</style>\n",
       "<table border=\"1\" class=\"dataframe\">\n",
       "  <thead>\n",
       "    <tr style=\"text-align: right;\">\n",
       "      <th></th>\n",
       "      <th>word</th>\n",
       "      <th>count</th>\n",
       "    </tr>\n",
       "  </thead>\n",
       "  <tbody>\n",
       "    <tr>\n",
       "      <th>640</th>\n",
       "      <td>'s</td>\n",
       "      <td>4</td>\n",
       "    </tr>\n",
       "  </tbody>\n",
       "</table>\n",
       "</div>"
      ],
      "text/plain": [
       "    word  count\n",
       "640   's      4"
      ]
     },
     "metadata": {},
     "output_type": "display_data"
    },
    {
     "name": "stdout",
     "output_type": "stream",
     "text": [
      "annotation word counts\n"
     ]
    },
    {
     "data": {
      "text/html": [
       "<div>\n",
       "<style scoped>\n",
       "    .dataframe tbody tr th:only-of-type {\n",
       "        vertical-align: middle;\n",
       "    }\n",
       "\n",
       "    .dataframe tbody tr th {\n",
       "        vertical-align: top;\n",
       "    }\n",
       "\n",
       "    .dataframe thead th {\n",
       "        text-align: right;\n",
       "    }\n",
       "</style>\n",
       "<table border=\"1\" class=\"dataframe\">\n",
       "  <thead>\n",
       "    <tr style=\"text-align: right;\">\n",
       "      <th></th>\n",
       "      <th>word</th>\n",
       "      <th>count</th>\n",
       "    </tr>\n",
       "  </thead>\n",
       "  <tbody>\n",
       "    <tr>\n",
       "      <th>3809</th>\n",
       "      <td>'s</td>\n",
       "      <td>62</td>\n",
       "    </tr>\n",
       "    <tr>\n",
       "      <th>3810</th>\n",
       "      <td>to</td>\n",
       "      <td>36</td>\n",
       "    </tr>\n",
       "    <tr>\n",
       "      <th>3811</th>\n",
       "      <td>n't</td>\n",
       "      <td>1</td>\n",
       "    </tr>\n",
       "  </tbody>\n",
       "</table>\n",
       "</div>"
      ],
      "text/plain": [
       "     word  count\n",
       "3809   's     62\n",
       "3810   to     36\n",
       "3811  n't      1"
      ]
     },
     "metadata": {},
     "output_type": "display_data"
    },
    {
     "name": "stdout",
     "output_type": "stream",
     "text": [
      "POS tag PRON\n",
      "label word counts\n"
     ]
    },
    {
     "data": {
      "text/html": [
       "<div>\n",
       "<style scoped>\n",
       "    .dataframe tbody tr th:only-of-type {\n",
       "        vertical-align: middle;\n",
       "    }\n",
       "\n",
       "    .dataframe tbody tr th {\n",
       "        vertical-align: top;\n",
       "    }\n",
       "\n",
       "    .dataframe thead th {\n",
       "        text-align: right;\n",
       "    }\n",
       "</style>\n",
       "<table border=\"1\" class=\"dataframe\">\n",
       "  <thead>\n",
       "    <tr style=\"text-align: right;\">\n",
       "      <th></th>\n",
       "      <th>word</th>\n",
       "      <th>count</th>\n",
       "    </tr>\n",
       "  </thead>\n",
       "  <tbody>\n",
       "    <tr>\n",
       "      <th>641</th>\n",
       "      <td>it</td>\n",
       "      <td>23</td>\n",
       "    </tr>\n",
       "    <tr>\n",
       "      <th>642</th>\n",
       "      <td>them</td>\n",
       "      <td>12</td>\n",
       "    </tr>\n",
       "    <tr>\n",
       "      <th>643</th>\n",
       "      <td>he</td>\n",
       "      <td>10</td>\n",
       "    </tr>\n",
       "    <tr>\n",
       "      <th>644</th>\n",
       "      <td>someone</td>\n",
       "      <td>10</td>\n",
       "    </tr>\n",
       "    <tr>\n",
       "      <th>645</th>\n",
       "      <td>they</td>\n",
       "      <td>5</td>\n",
       "    </tr>\n",
       "    <tr>\n",
       "      <th>646</th>\n",
       "      <td>she</td>\n",
       "      <td>4</td>\n",
       "    </tr>\n",
       "    <tr>\n",
       "      <th>647</th>\n",
       "      <td>himself</td>\n",
       "      <td>3</td>\n",
       "    </tr>\n",
       "    <tr>\n",
       "      <th>648</th>\n",
       "      <td>her</td>\n",
       "      <td>2</td>\n",
       "    </tr>\n",
       "    <tr>\n",
       "      <th>649</th>\n",
       "      <td>him</td>\n",
       "      <td>2</td>\n",
       "    </tr>\n",
       "    <tr>\n",
       "      <th>650</th>\n",
       "      <td>who</td>\n",
       "      <td>2</td>\n",
       "    </tr>\n",
       "  </tbody>\n",
       "</table>\n",
       "</div>"
      ],
      "text/plain": [
       "        word  count\n",
       "641       it     23\n",
       "642     them     12\n",
       "643       he     10\n",
       "644  someone     10\n",
       "645     they      5\n",
       "646      she      4\n",
       "647  himself      3\n",
       "648      her      2\n",
       "649      him      2\n",
       "650      who      2"
      ]
     },
     "metadata": {},
     "output_type": "display_data"
    },
    {
     "name": "stdout",
     "output_type": "stream",
     "text": [
      "annotation word counts\n"
     ]
    },
    {
     "data": {
      "text/html": [
       "<div>\n",
       "<style scoped>\n",
       "    .dataframe tbody tr th:only-of-type {\n",
       "        vertical-align: middle;\n",
       "    }\n",
       "\n",
       "    .dataframe tbody tr th {\n",
       "        vertical-align: top;\n",
       "    }\n",
       "\n",
       "    .dataframe thead th {\n",
       "        text-align: right;\n",
       "    }\n",
       "</style>\n",
       "<table border=\"1\" class=\"dataframe\">\n",
       "  <thead>\n",
       "    <tr style=\"text-align: right;\">\n",
       "      <th></th>\n",
       "      <th>word</th>\n",
       "      <th>count</th>\n",
       "    </tr>\n",
       "  </thead>\n",
       "  <tbody>\n",
       "    <tr>\n",
       "      <th>3812</th>\n",
       "      <td>someone</td>\n",
       "      <td>221</td>\n",
       "    </tr>\n",
       "    <tr>\n",
       "      <th>3813</th>\n",
       "      <td>it</td>\n",
       "      <td>104</td>\n",
       "    </tr>\n",
       "    <tr>\n",
       "      <th>3814</th>\n",
       "      <td>he</td>\n",
       "      <td>87</td>\n",
       "    </tr>\n",
       "    <tr>\n",
       "      <th>3815</th>\n",
       "      <td>them</td>\n",
       "      <td>67</td>\n",
       "    </tr>\n",
       "    <tr>\n",
       "      <th>3816</th>\n",
       "      <td>she</td>\n",
       "      <td>48</td>\n",
       "    </tr>\n",
       "    <tr>\n",
       "      <th>3817</th>\n",
       "      <td>something</td>\n",
       "      <td>47</td>\n",
       "    </tr>\n",
       "    <tr>\n",
       "      <th>3818</th>\n",
       "      <td>they</td>\n",
       "      <td>33</td>\n",
       "    </tr>\n",
       "    <tr>\n",
       "      <th>3819</th>\n",
       "      <td>himself</td>\n",
       "      <td>30</td>\n",
       "    </tr>\n",
       "    <tr>\n",
       "      <th>3820</th>\n",
       "      <td>him</td>\n",
       "      <td>27</td>\n",
       "    </tr>\n",
       "    <tr>\n",
       "      <th>3821</th>\n",
       "      <td>somebody</td>\n",
       "      <td>25</td>\n",
       "    </tr>\n",
       "  </tbody>\n",
       "</table>\n",
       "</div>"
      ],
      "text/plain": [
       "           word  count\n",
       "3812    someone    221\n",
       "3813         it    104\n",
       "3814         he     87\n",
       "3815       them     67\n",
       "3816        she     48\n",
       "3817  something     47\n",
       "3818       they     33\n",
       "3819    himself     30\n",
       "3820        him     27\n",
       "3821   somebody     25"
      ]
     },
     "metadata": {},
     "output_type": "display_data"
    },
    {
     "name": "stdout",
     "output_type": "stream",
     "text": [
      "POS tag PROPN\n",
      "label word counts\n"
     ]
    },
    {
     "data": {
      "text/html": [
       "<div>\n",
       "<style scoped>\n",
       "    .dataframe tbody tr th:only-of-type {\n",
       "        vertical-align: middle;\n",
       "    }\n",
       "\n",
       "    .dataframe tbody tr th {\n",
       "        vertical-align: top;\n",
       "    }\n",
       "\n",
       "    .dataframe thead th {\n",
       "        text-align: right;\n",
       "    }\n",
       "</style>\n",
       "<table border=\"1\" class=\"dataframe\">\n",
       "  <thead>\n",
       "    <tr style=\"text-align: right;\">\n",
       "      <th></th>\n",
       "      <th>word</th>\n",
       "      <th>count</th>\n",
       "    </tr>\n",
       "  </thead>\n",
       "  <tbody>\n",
       "    <tr>\n",
       "      <th>656</th>\n",
       "      <td>miami</td>\n",
       "      <td>1</td>\n",
       "    </tr>\n",
       "    <tr>\n",
       "      <th>657</th>\n",
       "      <td>jackson</td>\n",
       "      <td>1</td>\n",
       "    </tr>\n",
       "    <tr>\n",
       "      <th>658</th>\n",
       "      <td>christmas</td>\n",
       "      <td>1</td>\n",
       "    </tr>\n",
       "    <tr>\n",
       "      <th>659</th>\n",
       "      <td>camo</td>\n",
       "      <td>1</td>\n",
       "    </tr>\n",
       "    <tr>\n",
       "      <th>660</th>\n",
       "      <td>michael</td>\n",
       "      <td>1</td>\n",
       "    </tr>\n",
       "    <tr>\n",
       "      <th>661</th>\n",
       "      <td>english</td>\n",
       "      <td>1</td>\n",
       "    </tr>\n",
       "    <tr>\n",
       "      <th>662</th>\n",
       "      <td>diagram</td>\n",
       "      <td>1</td>\n",
       "    </tr>\n",
       "    <tr>\n",
       "      <th>663</th>\n",
       "      <td>teams</td>\n",
       "      <td>1</td>\n",
       "    </tr>\n",
       "    <tr>\n",
       "      <th>664</th>\n",
       "      <td>mel</td>\n",
       "      <td>1</td>\n",
       "    </tr>\n",
       "    <tr>\n",
       "      <th>665</th>\n",
       "      <td>triangular</td>\n",
       "      <td>1</td>\n",
       "    </tr>\n",
       "  </tbody>\n",
       "</table>\n",
       "</div>"
      ],
      "text/plain": [
       "           word  count\n",
       "656       miami      1\n",
       "657     jackson      1\n",
       "658   christmas      1\n",
       "659        camo      1\n",
       "660     michael      1\n",
       "661     english      1\n",
       "662     diagram      1\n",
       "663       teams      1\n",
       "664         mel      1\n",
       "665  triangular      1"
      ]
     },
     "metadata": {},
     "output_type": "display_data"
    },
    {
     "name": "stdout",
     "output_type": "stream",
     "text": [
      "annotation word counts\n"
     ]
    },
    {
     "data": {
      "text/html": [
       "<div>\n",
       "<style scoped>\n",
       "    .dataframe tbody tr th:only-of-type {\n",
       "        vertical-align: middle;\n",
       "    }\n",
       "\n",
       "    .dataframe tbody tr th {\n",
       "        vertical-align: top;\n",
       "    }\n",
       "\n",
       "    .dataframe thead th {\n",
       "        text-align: right;\n",
       "    }\n",
       "</style>\n",
       "<table border=\"1\" class=\"dataframe\">\n",
       "  <thead>\n",
       "    <tr style=\"text-align: right;\">\n",
       "      <th></th>\n",
       "      <th>word</th>\n",
       "      <th>count</th>\n",
       "    </tr>\n",
       "  </thead>\n",
       "  <tbody>\n",
       "    <tr>\n",
       "      <th>3844</th>\n",
       "      <td>kid</td>\n",
       "      <td>19</td>\n",
       "    </tr>\n",
       "    <tr>\n",
       "      <th>3846</th>\n",
       "      <td>chef</td>\n",
       "      <td>10</td>\n",
       "    </tr>\n",
       "    <tr>\n",
       "      <th>3847</th>\n",
       "      <td>english</td>\n",
       "      <td>10</td>\n",
       "    </tr>\n",
       "    <tr>\n",
       "      <th>3848</th>\n",
       "      <td>christmas</td>\n",
       "      <td>10</td>\n",
       "    </tr>\n",
       "    <tr>\n",
       "      <th>3845</th>\n",
       "      <td>lady</td>\n",
       "      <td>10</td>\n",
       "    </tr>\n",
       "    <tr>\n",
       "      <th>3849</th>\n",
       "      <td>guy</td>\n",
       "      <td>9</td>\n",
       "    </tr>\n",
       "    <tr>\n",
       "      <th>3854</th>\n",
       "      <td>chi</td>\n",
       "      <td>7</td>\n",
       "    </tr>\n",
       "    <tr>\n",
       "      <th>3856</th>\n",
       "      <td>teddy</td>\n",
       "      <td>7</td>\n",
       "    </tr>\n",
       "    <tr>\n",
       "      <th>3855</th>\n",
       "      <td>tai</td>\n",
       "      <td>7</td>\n",
       "    </tr>\n",
       "    <tr>\n",
       "      <th>3857</th>\n",
       "      <td>man</td>\n",
       "      <td>7</td>\n",
       "    </tr>\n",
       "  </tbody>\n",
       "</table>\n",
       "</div>"
      ],
      "text/plain": [
       "           word  count\n",
       "3844        kid     19\n",
       "3846       chef     10\n",
       "3847    english     10\n",
       "3848  christmas     10\n",
       "3845       lady     10\n",
       "3849        guy      9\n",
       "3854        chi      7\n",
       "3856      teddy      7\n",
       "3855        tai      7\n",
       "3857        man      7"
      ]
     },
     "metadata": {},
     "output_type": "display_data"
    },
    {
     "name": "stdout",
     "output_type": "stream",
     "text": [
      "POS tag PUNCT\n",
      "label word counts\n"
     ]
    },
    {
     "data": {
      "text/html": [
       "<div>\n",
       "<style scoped>\n",
       "    .dataframe tbody tr th:only-of-type {\n",
       "        vertical-align: middle;\n",
       "    }\n",
       "\n",
       "    .dataframe tbody tr th {\n",
       "        vertical-align: top;\n",
       "    }\n",
       "\n",
       "    .dataframe thead th {\n",
       "        text-align: right;\n",
       "    }\n",
       "</style>\n",
       "<table border=\"1\" class=\"dataframe\">\n",
       "  <thead>\n",
       "    <tr style=\"text-align: right;\">\n",
       "      <th></th>\n",
       "      <th>word</th>\n",
       "      <th>count</th>\n",
       "    </tr>\n",
       "  </thead>\n",
       "  <tbody>\n",
       "    <tr>\n",
       "      <th>670</th>\n",
       "      <td>-</td>\n",
       "      <td>4</td>\n",
       "    </tr>\n",
       "  </tbody>\n",
       "</table>\n",
       "</div>"
      ],
      "text/plain": [
       "    word  count\n",
       "670    -      4"
      ]
     },
     "metadata": {},
     "output_type": "display_data"
    },
    {
     "name": "stdout",
     "output_type": "stream",
     "text": [
      "annotation word counts\n"
     ]
    },
    {
     "data": {
      "text/html": [
       "<div>\n",
       "<style scoped>\n",
       "    .dataframe tbody tr th:only-of-type {\n",
       "        vertical-align: middle;\n",
       "    }\n",
       "\n",
       "    .dataframe tbody tr th {\n",
       "        vertical-align: top;\n",
       "    }\n",
       "\n",
       "    .dataframe thead th {\n",
       "        text-align: right;\n",
       "    }\n",
       "</style>\n",
       "<table border=\"1\" class=\"dataframe\">\n",
       "  <thead>\n",
       "    <tr style=\"text-align: right;\">\n",
       "      <th></th>\n",
       "      <th>word</th>\n",
       "      <th>count</th>\n",
       "    </tr>\n",
       "  </thead>\n",
       "  <tbody>\n",
       "    <tr>\n",
       "      <th>4245</th>\n",
       "      <td>-</td>\n",
       "      <td>66</td>\n",
       "    </tr>\n",
       "    <tr>\n",
       "      <th>4246</th>\n",
       "      <td>,</td>\n",
       "      <td>9</td>\n",
       "    </tr>\n",
       "    <tr>\n",
       "      <th>4247</th>\n",
       "      <td>'</td>\n",
       "      <td>3</td>\n",
       "    </tr>\n",
       "  </tbody>\n",
       "</table>\n",
       "</div>"
      ],
      "text/plain": [
       "     word  count\n",
       "4245    -     66\n",
       "4246    ,      9\n",
       "4247    '      3"
      ]
     },
     "metadata": {},
     "output_type": "display_data"
    },
    {
     "name": "stdout",
     "output_type": "stream",
     "text": [
      "POS tag SCONJ\n",
      "label word counts\n"
     ]
    },
    {
     "data": {
      "text/html": [
       "<div>\n",
       "<style scoped>\n",
       "    .dataframe tbody tr th:only-of-type {\n",
       "        vertical-align: middle;\n",
       "    }\n",
       "\n",
       "    .dataframe tbody tr th {\n",
       "        vertical-align: top;\n",
       "    }\n",
       "\n",
       "    .dataframe thead th {\n",
       "        text-align: right;\n",
       "    }\n",
       "</style>\n",
       "<table border=\"1\" class=\"dataframe\">\n",
       "  <thead>\n",
       "    <tr style=\"text-align: right;\">\n",
       "      <th></th>\n",
       "      <th>word</th>\n",
       "      <th>count</th>\n",
       "    </tr>\n",
       "  </thead>\n",
       "  <tbody>\n",
       "    <tr>\n",
       "      <th>671</th>\n",
       "      <td>like</td>\n",
       "      <td>1</td>\n",
       "    </tr>\n",
       "  </tbody>\n",
       "</table>\n",
       "</div>"
      ],
      "text/plain": [
       "     word  count\n",
       "671  like      1"
      ]
     },
     "metadata": {},
     "output_type": "display_data"
    },
    {
     "name": "stdout",
     "output_type": "stream",
     "text": [
      "annotation word counts\n"
     ]
    },
    {
     "data": {
      "text/html": [
       "<div>\n",
       "<style scoped>\n",
       "    .dataframe tbody tr th:only-of-type {\n",
       "        vertical-align: middle;\n",
       "    }\n",
       "\n",
       "    .dataframe tbody tr th {\n",
       "        vertical-align: top;\n",
       "    }\n",
       "\n",
       "    .dataframe thead th {\n",
       "        text-align: right;\n",
       "    }\n",
       "</style>\n",
       "<table border=\"1\" class=\"dataframe\">\n",
       "  <thead>\n",
       "    <tr style=\"text-align: right;\">\n",
       "      <th></th>\n",
       "      <th>word</th>\n",
       "      <th>count</th>\n",
       "    </tr>\n",
       "  </thead>\n",
       "  <tbody>\n",
       "    <tr>\n",
       "      <th>4248</th>\n",
       "      <td>while</td>\n",
       "      <td>13</td>\n",
       "    </tr>\n",
       "    <tr>\n",
       "      <th>4249</th>\n",
       "      <td>out</td>\n",
       "      <td>3</td>\n",
       "    </tr>\n",
       "    <tr>\n",
       "      <th>4250</th>\n",
       "      <td>like</td>\n",
       "      <td>3</td>\n",
       "    </tr>\n",
       "    <tr>\n",
       "      <th>4251</th>\n",
       "      <td>that</td>\n",
       "      <td>1</td>\n",
       "    </tr>\n",
       "  </tbody>\n",
       "</table>\n",
       "</div>"
      ],
      "text/plain": [
       "       word  count\n",
       "4248  while     13\n",
       "4249    out      3\n",
       "4250   like      3\n",
       "4251   that      1"
      ]
     },
     "metadata": {},
     "output_type": "display_data"
    },
    {
     "name": "stdout",
     "output_type": "stream",
     "text": [
      "POS tag SPACE\n",
      "label word counts\n"
     ]
    },
    {
     "data": {
      "text/html": [
       "<div>\n",
       "<style scoped>\n",
       "    .dataframe tbody tr th:only-of-type {\n",
       "        vertical-align: middle;\n",
       "    }\n",
       "\n",
       "    .dataframe tbody tr th {\n",
       "        vertical-align: top;\n",
       "    }\n",
       "\n",
       "    .dataframe thead th {\n",
       "        text-align: right;\n",
       "    }\n",
       "</style>\n",
       "<table border=\"1\" class=\"dataframe\">\n",
       "  <thead>\n",
       "    <tr style=\"text-align: right;\">\n",
       "      <th></th>\n",
       "      <th>word</th>\n",
       "      <th>count</th>\n",
       "    </tr>\n",
       "  </thead>\n",
       "  <tbody>\n",
       "    <tr>\n",
       "      <th>672</th>\n",
       "      <td></td>\n",
       "      <td>1</td>\n",
       "    </tr>\n",
       "  </tbody>\n",
       "</table>\n",
       "</div>"
      ],
      "text/plain": [
       "    word  count\n",
       "672           1"
      ]
     },
     "metadata": {},
     "output_type": "display_data"
    },
    {
     "name": "stdout",
     "output_type": "stream",
     "text": [
      "annotation word counts\n"
     ]
    },
    {
     "data": {
      "text/html": [
       "<div>\n",
       "<style scoped>\n",
       "    .dataframe tbody tr th:only-of-type {\n",
       "        vertical-align: middle;\n",
       "    }\n",
       "\n",
       "    .dataframe tbody tr th {\n",
       "        vertical-align: top;\n",
       "    }\n",
       "\n",
       "    .dataframe thead th {\n",
       "        text-align: right;\n",
       "    }\n",
       "</style>\n",
       "<table border=\"1\" class=\"dataframe\">\n",
       "  <thead>\n",
       "    <tr style=\"text-align: right;\">\n",
       "      <th></th>\n",
       "      <th>word</th>\n",
       "      <th>count</th>\n",
       "    </tr>\n",
       "  </thead>\n",
       "  <tbody>\n",
       "    <tr>\n",
       "      <th>4252</th>\n",
       "      <td></td>\n",
       "      <td>1</td>\n",
       "    </tr>\n",
       "  </tbody>\n",
       "</table>\n",
       "</div>"
      ],
      "text/plain": [
       "     word  count\n",
       "4252           1"
      ]
     },
     "metadata": {},
     "output_type": "display_data"
    },
    {
     "name": "stdout",
     "output_type": "stream",
     "text": [
      "POS tag VERB\n",
      "label word counts\n"
     ]
    },
    {
     "data": {
      "text/html": [
       "<div>\n",
       "<style scoped>\n",
       "    .dataframe tbody tr th:only-of-type {\n",
       "        vertical-align: middle;\n",
       "    }\n",
       "\n",
       "    .dataframe tbody tr th {\n",
       "        vertical-align: top;\n",
       "    }\n",
       "\n",
       "    .dataframe thead th {\n",
       "        text-align: right;\n",
       "    }\n",
       "</style>\n",
       "<table border=\"1\" class=\"dataframe\">\n",
       "  <thead>\n",
       "    <tr style=\"text-align: right;\">\n",
       "      <th></th>\n",
       "      <th>word</th>\n",
       "      <th>count</th>\n",
       "    </tr>\n",
       "  </thead>\n",
       "  <tbody>\n",
       "    <tr>\n",
       "      <th>673</th>\n",
       "      <td>flaming</td>\n",
       "      <td>1</td>\n",
       "    </tr>\n",
       "    <tr>\n",
       "      <th>674</th>\n",
       "      <td>fold</td>\n",
       "      <td>1</td>\n",
       "    </tr>\n",
       "    <tr>\n",
       "      <th>695</th>\n",
       "      <td>sowing</td>\n",
       "      <td>1</td>\n",
       "    </tr>\n",
       "    <tr>\n",
       "      <th>694</th>\n",
       "      <td>pull</td>\n",
       "      <td>1</td>\n",
       "    </tr>\n",
       "    <tr>\n",
       "      <th>693</th>\n",
       "      <td>motorized</td>\n",
       "      <td>1</td>\n",
       "    </tr>\n",
       "    <tr>\n",
       "      <th>692</th>\n",
       "      <td>stretching</td>\n",
       "      <td>1</td>\n",
       "    </tr>\n",
       "    <tr>\n",
       "      <th>691</th>\n",
       "      <td>stuffed</td>\n",
       "      <td>1</td>\n",
       "    </tr>\n",
       "    <tr>\n",
       "      <th>690</th>\n",
       "      <td>panning</td>\n",
       "      <td>1</td>\n",
       "    </tr>\n",
       "    <tr>\n",
       "      <th>689</th>\n",
       "      <td>used</td>\n",
       "      <td>1</td>\n",
       "    </tr>\n",
       "    <tr>\n",
       "      <th>688</th>\n",
       "      <td>shown</td>\n",
       "      <td>1</td>\n",
       "    </tr>\n",
       "  </tbody>\n",
       "</table>\n",
       "</div>"
      ],
      "text/plain": [
       "           word  count\n",
       "673     flaming      1\n",
       "674        fold      1\n",
       "695      sowing      1\n",
       "694        pull      1\n",
       "693   motorized      1\n",
       "692  stretching      1\n",
       "691     stuffed      1\n",
       "690     panning      1\n",
       "689        used      1\n",
       "688       shown      1"
      ]
     },
     "metadata": {},
     "output_type": "display_data"
    },
    {
     "name": "stdout",
     "output_type": "stream",
     "text": [
      "annotation word counts\n"
     ]
    },
    {
     "data": {
      "text/html": [
       "<div>\n",
       "<style scoped>\n",
       "    .dataframe tbody tr th:only-of-type {\n",
       "        vertical-align: middle;\n",
       "    }\n",
       "\n",
       "    .dataframe tbody tr th {\n",
       "        vertical-align: top;\n",
       "    }\n",
       "\n",
       "    .dataframe thead th {\n",
       "        text-align: right;\n",
       "    }\n",
       "</style>\n",
       "<table border=\"1\" class=\"dataframe\">\n",
       "  <thead>\n",
       "    <tr style=\"text-align: right;\">\n",
       "      <th></th>\n",
       "      <th>word</th>\n",
       "      <th>count</th>\n",
       "    </tr>\n",
       "  </thead>\n",
       "  <tbody>\n",
       "    <tr>\n",
       "      <th>4254</th>\n",
       "      <td>wearing</td>\n",
       "      <td>36</td>\n",
       "    </tr>\n",
       "    <tr>\n",
       "      <th>4256</th>\n",
       "      <td>sitting</td>\n",
       "      <td>10</td>\n",
       "    </tr>\n",
       "    <tr>\n",
       "      <th>4257</th>\n",
       "      <td>dancing</td>\n",
       "      <td>10</td>\n",
       "    </tr>\n",
       "    <tr>\n",
       "      <th>4255</th>\n",
       "      <td>moving</td>\n",
       "      <td>10</td>\n",
       "    </tr>\n",
       "    <tr>\n",
       "      <th>4258</th>\n",
       "      <td>playing</td>\n",
       "      <td>9</td>\n",
       "    </tr>\n",
       "    <tr>\n",
       "      <th>4259</th>\n",
       "      <td>make</td>\n",
       "      <td>8</td>\n",
       "    </tr>\n",
       "    <tr>\n",
       "      <th>4260</th>\n",
       "      <td>cutting</td>\n",
       "      <td>8</td>\n",
       "    </tr>\n",
       "    <tr>\n",
       "      <th>4261</th>\n",
       "      <td>stuffed</td>\n",
       "      <td>8</td>\n",
       "    </tr>\n",
       "    <tr>\n",
       "      <th>4262</th>\n",
       "      <td>boy</td>\n",
       "      <td>8</td>\n",
       "    </tr>\n",
       "    <tr>\n",
       "      <th>4263</th>\n",
       "      <td>colored</td>\n",
       "      <td>8</td>\n",
       "    </tr>\n",
       "  </tbody>\n",
       "</table>\n",
       "</div>"
      ],
      "text/plain": [
       "         word  count\n",
       "4254  wearing     36\n",
       "4256  sitting     10\n",
       "4257  dancing     10\n",
       "4255   moving     10\n",
       "4258  playing      9\n",
       "4259     make      8\n",
       "4260  cutting      8\n",
       "4261  stuffed      8\n",
       "4262      boy      8\n",
       "4263  colored      8"
      ]
     },
     "metadata": {},
     "output_type": "display_data"
    },
    {
     "name": "stdout",
     "output_type": "stream",
     "text": [
      "POS tag X\n",
      "label word counts\n"
     ]
    },
    {
     "data": {
      "text/html": [
       "<div>\n",
       "<style scoped>\n",
       "    .dataframe tbody tr th:only-of-type {\n",
       "        vertical-align: middle;\n",
       "    }\n",
       "\n",
       "    .dataframe tbody tr th {\n",
       "        vertical-align: top;\n",
       "    }\n",
       "\n",
       "    .dataframe thead th {\n",
       "        text-align: right;\n",
       "    }\n",
       "</style>\n",
       "<table border=\"1\" class=\"dataframe\">\n",
       "  <thead>\n",
       "    <tr style=\"text-align: right;\">\n",
       "      <th></th>\n",
       "      <th>word</th>\n",
       "      <th>count</th>\n",
       "    </tr>\n",
       "  </thead>\n",
       "  <tbody>\n",
       "    <tr>\n",
       "      <th>697</th>\n",
       "      <td>blacksmith</td>\n",
       "      <td>1</td>\n",
       "    </tr>\n",
       "  </tbody>\n",
       "</table>\n",
       "</div>"
      ],
      "text/plain": [
       "           word  count\n",
       "697  blacksmith      1"
      ]
     },
     "metadata": {},
     "output_type": "display_data"
    },
    {
     "name": "stdout",
     "output_type": "stream",
     "text": [
      "annotation word counts\n"
     ]
    },
    {
     "data": {
      "text/html": [
       "<div>\n",
       "<style scoped>\n",
       "    .dataframe tbody tr th:only-of-type {\n",
       "        vertical-align: middle;\n",
       "    }\n",
       "\n",
       "    .dataframe tbody tr th {\n",
       "        vertical-align: top;\n",
       "    }\n",
       "\n",
       "    .dataframe thead th {\n",
       "        text-align: right;\n",
       "    }\n",
       "</style>\n",
       "<table border=\"1\" class=\"dataframe\">\n",
       "  <thead>\n",
       "    <tr style=\"text-align: right;\">\n",
       "      <th></th>\n",
       "      <th>word</th>\n",
       "      <th>count</th>\n",
       "    </tr>\n",
       "  </thead>\n",
       "  <tbody>\n",
       "    <tr>\n",
       "      <th>4641</th>\n",
       "      <td>2</td>\n",
       "      <td>1</td>\n",
       "    </tr>\n",
       "  </tbody>\n",
       "</table>\n",
       "</div>"
      ],
      "text/plain": [
       "     word  count\n",
       "4641    2      1"
      ]
     },
     "metadata": {},
     "output_type": "display_data"
    },
    {
     "name": "stdout",
     "output_type": "stream",
     "text": [
      "POS tag INTJ\n",
      "label word counts\n"
     ]
    },
    {
     "data": {
      "text/html": [
       "<div>\n",
       "<style scoped>\n",
       "    .dataframe tbody tr th:only-of-type {\n",
       "        vertical-align: middle;\n",
       "    }\n",
       "\n",
       "    .dataframe tbody tr th {\n",
       "        vertical-align: top;\n",
       "    }\n",
       "\n",
       "    .dataframe thead th {\n",
       "        text-align: right;\n",
       "    }\n",
       "</style>\n",
       "<table border=\"1\" class=\"dataframe\">\n",
       "  <thead>\n",
       "    <tr style=\"text-align: right;\">\n",
       "      <th></th>\n",
       "      <th>word</th>\n",
       "      <th>count</th>\n",
       "    </tr>\n",
       "  </thead>\n",
       "  <tbody>\n",
       "  </tbody>\n",
       "</table>\n",
       "</div>"
      ],
      "text/plain": [
       "Empty DataFrame\n",
       "Columns: [word, count]\n",
       "Index: []"
      ]
     },
     "metadata": {},
     "output_type": "display_data"
    },
    {
     "name": "stdout",
     "output_type": "stream",
     "text": [
      "annotation word counts\n"
     ]
    },
    {
     "data": {
      "text/html": [
       "<div>\n",
       "<style scoped>\n",
       "    .dataframe tbody tr th:only-of-type {\n",
       "        vertical-align: middle;\n",
       "    }\n",
       "\n",
       "    .dataframe tbody tr th {\n",
       "        vertical-align: top;\n",
       "    }\n",
       "\n",
       "    .dataframe thead th {\n",
       "        text-align: right;\n",
       "    }\n",
       "</style>\n",
       "<table border=\"1\" class=\"dataframe\">\n",
       "  <thead>\n",
       "    <tr style=\"text-align: right;\">\n",
       "      <th></th>\n",
       "      <th>word</th>\n",
       "      <th>count</th>\n",
       "    </tr>\n",
       "  </thead>\n",
       "  <tbody>\n",
       "    <tr>\n",
       "      <th>631</th>\n",
       "      <td>boy</td>\n",
       "      <td>7</td>\n",
       "    </tr>\n",
       "    <tr>\n",
       "      <th>632</th>\n",
       "      <td>man</td>\n",
       "      <td>2</td>\n",
       "    </tr>\n",
       "  </tbody>\n",
       "</table>\n",
       "</div>"
      ],
      "text/plain": [
       "    word  count\n",
       "631  boy      7\n",
       "632  man      2"
      ]
     },
     "metadata": {},
     "output_type": "display_data"
    },
    {
     "name": "stdout",
     "output_type": "stream",
     "text": [
      "POS tag SYM\n",
      "label word counts\n"
     ]
    },
    {
     "data": {
      "text/html": [
       "<div>\n",
       "<style scoped>\n",
       "    .dataframe tbody tr th:only-of-type {\n",
       "        vertical-align: middle;\n",
       "    }\n",
       "\n",
       "    .dataframe tbody tr th {\n",
       "        vertical-align: top;\n",
       "    }\n",
       "\n",
       "    .dataframe thead th {\n",
       "        text-align: right;\n",
       "    }\n",
       "</style>\n",
       "<table border=\"1\" class=\"dataframe\">\n",
       "  <thead>\n",
       "    <tr style=\"text-align: right;\">\n",
       "      <th></th>\n",
       "      <th>word</th>\n",
       "      <th>count</th>\n",
       "    </tr>\n",
       "  </thead>\n",
       "  <tbody>\n",
       "  </tbody>\n",
       "</table>\n",
       "</div>"
      ],
      "text/plain": [
       "Empty DataFrame\n",
       "Columns: [word, count]\n",
       "Index: []"
      ]
     },
     "metadata": {},
     "output_type": "display_data"
    },
    {
     "name": "stdout",
     "output_type": "stream",
     "text": [
      "annotation word counts\n"
     ]
    },
    {
     "data": {
      "text/html": [
       "<div>\n",
       "<style scoped>\n",
       "    .dataframe tbody tr th:only-of-type {\n",
       "        vertical-align: middle;\n",
       "    }\n",
       "\n",
       "    .dataframe tbody tr th {\n",
       "        vertical-align: top;\n",
       "    }\n",
       "\n",
       "    .dataframe thead th {\n",
       "        text-align: right;\n",
       "    }\n",
       "</style>\n",
       "<table border=\"1\" class=\"dataframe\">\n",
       "  <thead>\n",
       "    <tr style=\"text-align: right;\">\n",
       "      <th></th>\n",
       "      <th>word</th>\n",
       "      <th>count</th>\n",
       "    </tr>\n",
       "  </thead>\n",
       "  <tbody>\n",
       "    <tr>\n",
       "      <th>4253</th>\n",
       "      <td>/</td>\n",
       "      <td>1</td>\n",
       "    </tr>\n",
       "  </tbody>\n",
       "</table>\n",
       "</div>"
      ],
      "text/plain": [
       "     word  count\n",
       "4253    /      1"
      ]
     },
     "metadata": {},
     "output_type": "display_data"
    }
   ],
   "source": [
    "for POS_tag_i in combined_POS_counts.loc[:, 'POS'].unique():\n",
    "    print(f'POS tag {POS_tag_i}')\n",
    "    label_POS_word_counts_i = label_POS_word_counts[label_POS_word_counts.loc[:, 'POS']==POS_tag_i].sort_values('count', inplace=False, ascending=False).loc[:, ['word', 'count']]\n",
    "    annotation_POS_word_counts_i = annotation_POS_word_counts[annotation_POS_word_counts.loc[:, 'POS']==POS_tag_i].sort_values('count', inplace=False, ascending=False).loc[:, ['word', 'count']]\n",
    "    print('label word counts')\n",
    "    display(label_POS_word_counts_i.head(10))\n",
    "    print('annotation word counts')\n",
    "    display(annotation_POS_word_counts_i.head(10))"
   ]
  },
  {
   "cell_type": "markdown",
   "metadata": {},
   "source": [
    "### POS tag sequences\n",
    "Let's look at the relative frequency of different tag sequences in the labels and annotations."
   ]
  },
  {
   "cell_type": "code",
   "execution_count": 55,
   "metadata": {
    "scrolled": true
   },
   "outputs": [],
   "source": [
    "from spacy.tokens.span import Span\n",
    "def get_POS_sequence(subtree):\n",
    "    return '_'.join([x.pos_ for x in subtree])\n",
    "label_POS_sequences = [(x['label_subtree'], get_POS_sequence(x['label_subtree'])) for x in annotated_data if type(x['label_subtree']) is Span]\n",
    "annotation_POS_sequences = [(z, get_POS_sequence(z)) for x in annotated_data for y in x['annotation_subtrees'] for z in y if type(z) is Span]\n",
    "label_POS_sequences = pd.DataFrame(label_POS_sequences, columns=['word', 'POS_sequence'])\n",
    "annotation_POS_sequences = pd.DataFrame(annotation_POS_sequences, columns=['word', 'POS_sequence'])\n",
    "# fix words\n",
    "label_POS_sequences = label_POS_sequences.assign(**{'word' : label_POS_sequences.loc[:, 'word'].apply(lambda x: x.text.lower())})\n",
    "annotation_POS_sequences = annotation_POS_sequences.assign(**{'word' : annotation_POS_sequences.loc[:, 'word'].apply(lambda x: x.text.lower())})\n",
    "# label_POS_sequences = label_POS_sequences[label_POS_sequences.loc[:, 'POS_sequence']!='']\n",
    "# annotation_POS_sequences = annotation_POS_sequences[annotation_POS_sequences.loc[:, 'POS_sequence']!='']\n",
    "## get aggregate counts\n",
    "label_POS_sequence_counts = label_POS_sequences.loc[:, 'POS_sequence'].value_counts()\n",
    "annotation_POS_sequence_counts = annotation_POS_sequences.loc[:, 'POS_sequence'].value_counts()\n",
    "# normalize\n",
    "label_POS_sequence_counts = label_POS_sequence_counts / label_POS_sequence_counts.sum()\n",
    "annotation_POS_sequence_counts = annotation_POS_sequence_counts / annotation_POS_sequence_counts.sum()"
   ]
  },
  {
   "cell_type": "code",
   "execution_count": 56,
   "metadata": {
    "scrolled": true
   },
   "outputs": [
    {
     "data": {
      "text/html": [
       "<div>\n",
       "<style scoped>\n",
       "    .dataframe tbody tr th:only-of-type {\n",
       "        vertical-align: middle;\n",
       "    }\n",
       "\n",
       "    .dataframe tbody tr th {\n",
       "        vertical-align: top;\n",
       "    }\n",
       "\n",
       "    .dataframe thead th {\n",
       "        text-align: right;\n",
       "    }\n",
       "</style>\n",
       "<table border=\"1\" class=\"dataframe\">\n",
       "  <thead>\n",
       "    <tr style=\"text-align: right;\">\n",
       "      <th></th>\n",
       "      <th>POS_sequence</th>\n",
       "      <th>count</th>\n",
       "      <th>data_type</th>\n",
       "    </tr>\n",
       "  </thead>\n",
       "  <tbody>\n",
       "    <tr>\n",
       "      <th>0</th>\n",
       "      <td>DET_NOUN</td>\n",
       "      <td>0.480533</td>\n",
       "      <td>label</td>\n",
       "    </tr>\n",
       "    <tr>\n",
       "      <th>1</th>\n",
       "      <td>NOUN</td>\n",
       "      <td>0.126025</td>\n",
       "      <td>label</td>\n",
       "    </tr>\n",
       "    <tr>\n",
       "      <th>2</th>\n",
       "      <td>PRON</td>\n",
       "      <td>0.080943</td>\n",
       "      <td>label</td>\n",
       "    </tr>\n",
       "    <tr>\n",
       "      <th>3</th>\n",
       "      <td>DET_ADJ_NOUN</td>\n",
       "      <td>0.079918</td>\n",
       "      <td>label</td>\n",
       "    </tr>\n",
       "    <tr>\n",
       "      <th>4</th>\n",
       "      <td>DET_NOUN_NOUN</td>\n",
       "      <td>0.067623</td>\n",
       "      <td>label</td>\n",
       "    </tr>\n",
       "    <tr>\n",
       "      <th>...</th>\n",
       "      <td>...</td>\n",
       "      <td>...</td>\n",
       "      <td>...</td>\n",
       "    </tr>\n",
       "    <tr>\n",
       "      <th>408</th>\n",
       "      <td>DET_ADJ_AUX</td>\n",
       "      <td>0.000044</td>\n",
       "      <td>annotation</td>\n",
       "    </tr>\n",
       "    <tr>\n",
       "      <th>409</th>\n",
       "      <td>NOUN_NOUN_DET_AUX_VERB_ADV</td>\n",
       "      <td>0.000044</td>\n",
       "      <td>annotation</td>\n",
       "    </tr>\n",
       "    <tr>\n",
       "      <th>410</th>\n",
       "      <td>ADV_VERB</td>\n",
       "      <td>0.000044</td>\n",
       "      <td>annotation</td>\n",
       "    </tr>\n",
       "    <tr>\n",
       "      <th>411</th>\n",
       "      <td>DET_NOUN_PRON_VERB</td>\n",
       "      <td>0.000044</td>\n",
       "      <td>annotation</td>\n",
       "    </tr>\n",
       "    <tr>\n",
       "      <th>412</th>\n",
       "      <td>DET_VERB_NOUN_ADP</td>\n",
       "      <td>0.000044</td>\n",
       "      <td>annotation</td>\n",
       "    </tr>\n",
       "  </tbody>\n",
       "</table>\n",
       "<p>473 rows × 3 columns</p>\n",
       "</div>"
      ],
      "text/plain": [
       "                   POS_sequence     count   data_type\n",
       "0                      DET_NOUN  0.480533       label\n",
       "1                          NOUN  0.126025       label\n",
       "2                          PRON  0.080943       label\n",
       "3                  DET_ADJ_NOUN  0.079918       label\n",
       "4                 DET_NOUN_NOUN  0.067623       label\n",
       "..                          ...       ...         ...\n",
       "408                 DET_ADJ_AUX  0.000044  annotation\n",
       "409  NOUN_NOUN_DET_AUX_VERB_ADV  0.000044  annotation\n",
       "410                    ADV_VERB  0.000044  annotation\n",
       "411          DET_NOUN_PRON_VERB  0.000044  annotation\n",
       "412           DET_VERB_NOUN_ADP  0.000044  annotation\n",
       "\n",
       "[473 rows x 3 columns]"
      ]
     },
     "metadata": {},
     "output_type": "display_data"
    }
   ],
   "source": [
    "## combine for plotting \n",
    "combined_POS_sequence_counts = pd.concat([\n",
    "    label_POS_sequence_counts.reset_index(name='count').rename(columns={'index' : 'POS_sequence'}).assign(**{'data_type' : 'label'}),\n",
    "    annotation_POS_sequence_counts.reset_index(name='count').rename(columns={'index' : 'POS_sequence'}).assign(**{'data_type' : 'annotation'}),\n",
    "], axis=0)\n",
    "display(combined_POS_sequence_counts)\n",
    "top_k = 20\n",
    "top_k_POS_sequences = combined_POS_sequence_counts.groupby('POS_sequence').apply(lambda x: x.loc[:, 'count'].mean()).sort_values(inplace=False, ascending=False).index[:top_k]"
   ]
  },
  {
   "cell_type": "code",
   "execution_count": 60,
   "metadata": {
    "scrolled": true
   },
   "outputs": [
    {
     "data": {
      "image/png": "[encoded data removed]",
      "text/plain": [
       "<Figure size 576x576 with 1 Axes>"
      ]
     },
     "metadata": {
      "needs_background": "light"
     },
     "output_type": "display_data"
    }
   ],
   "source": [
    "## plot counts\n",
    "import matplotlib\n",
    "%matplotlib inline\n",
    "import matplotlib.pyplot as plt\n",
    "import seaborn as sns\n",
    "plt.figure(figsize=(8,8))\n",
    "sns.barplot(x='count',y='POS_sequence', hue='data_type',\n",
    "    data=combined_POS_sequence_counts[combined_POS_sequence_counts.loc[:, 'POS_sequence'].isin(top_k_POS_sequences)])\n",
    "plt.xscale('log')\n",
    "plt.legend(loc='lower right')\n",
    "plt.title('POS sequence distribution')\n",
    "plt.xlabel('% frequency')\n",
    "plt.ylabel('POS sequence')\n",
    "plt.xscale('log')\n",
    "plt.show()"
   ]
  },
  {
   "cell_type": "markdown",
   "metadata": {},
   "source": [
    "Fewer pronouns for annotations than for labels. Similar levels of adjectives."
   ]
  },
  {
   "cell_type": "code",
   "execution_count": 61,
   "metadata": {
    "scrolled": true
   },
   "outputs": [
    {
     "name": "stdout",
     "output_type": "stream",
     "text": [
      "testing POS sequence DET_NOUN\n",
      "label word counts\n",
      "a man        0.098081\n",
      "a person     0.057569\n",
      "a woman      0.044776\n",
      "a group      0.021322\n",
      "a boy        0.017058\n",
      "a piece      0.014925\n",
      "a girl       0.012793\n",
      "a child      0.010661\n",
      "the water    0.010661\n",
      "a bowl       0.008529\n",
      "Name: word, dtype: float64\n",
      "annotation word counts\n",
      "a person    0.048907\n",
      "a man       0.048434\n",
      "a woman     0.023460\n",
      "a guy       0.019582\n",
      "a group     0.013906\n",
      "a boy       0.013622\n",
      "a girl      0.013055\n",
      "a child     0.012676\n",
      "a kid       0.011541\n",
      "a lady      0.010879\n",
      "Name: word, dtype: float64\n",
      "testing POS sequence NOUN\n",
      "label word counts\n",
      "people      0.105691\n",
      "front       0.081301\n",
      "men         0.032520\n",
      "music       0.032520\n",
      "material    0.016260\n",
      "wood        0.016260\n",
      "others      0.016260\n",
      "dogs        0.016260\n",
      "cards       0.016260\n",
      "kids        0.016260\n",
      "Name: word, dtype: float64\n",
      "annotation word counts\n",
      "people      0.034934\n",
      "man         0.016921\n",
      "kids        0.016739\n",
      "music       0.014374\n",
      "men         0.012009\n",
      "boys        0.010917\n",
      "front       0.010735\n",
      "children    0.009643\n",
      "woman       0.009643\n",
      "food        0.008552\n",
      "Name: word, dtype: float64\n",
      "testing POS sequence PRON\n",
      "label word counts\n",
      "it         0.291139\n",
      "them       0.151899\n",
      "he         0.126582\n",
      "someone    0.126582\n",
      "they       0.063291\n",
      "she        0.050633\n",
      "himself    0.037975\n",
      "her        0.025316\n",
      "him        0.025316\n",
      "who        0.025316\n",
      "Name: word, dtype: float64\n",
      "annotation word counts\n",
      "someone      0.294964\n",
      "it           0.125180\n",
      "he           0.105036\n",
      "them         0.083453\n",
      "she          0.056115\n",
      "something    0.044604\n",
      "they         0.038849\n",
      "himself      0.038849\n",
      "him          0.037410\n",
      "somebody     0.034532\n",
      "Name: word, dtype: float64\n",
      "testing POS sequence DET_ADJ_NOUN\n",
      "label word counts\n",
      "a young man         0.089744\n",
      "a young boy         0.038462\n",
      "a young child       0.025641\n",
      "a large group       0.025641\n",
      "a large crowd       0.025641\n",
      "a little girl       0.025641\n",
      "the other eyelid    0.012821\n",
      "a back twist        0.012821\n",
      "a young woman       0.012821\n",
      "a grassy area       0.012821\n",
      "Name: word, dtype: float64\n",
      "annotation word counts\n",
      "a young man          0.043021\n",
      "a young boy          0.018164\n",
      "a young girl         0.016252\n",
      "a little girl        0.016252\n",
      "a young woman        0.013384\n",
      "an older man         0.010516\n",
      "a little boy         0.010516\n",
      "an old man           0.010516\n",
      "a young lady         0.009560\n",
      "a mechanical bull    0.008604\n",
      "Name: word, dtype: float64\n",
      "testing POS sequence DET_NOUN_NOUN\n",
      "label word counts\n",
      "a living room          0.030303\n",
      "a tile floor           0.015152\n",
      "a dirt track           0.015152\n",
      "a sporting event       0.015152\n",
      "a healthcare worker    0.015152\n",
      "a pinball game         0.015152\n",
      "a fishing rod          0.015152\n",
      "a gold gong            0.015152\n",
      "a pillow fight         0.015152\n",
      "a glass bowl           0.015152\n",
      "Name: word, dtype: float64\n",
      "annotation word counts\n",
      "a board game          0.009804\n",
      "a glass bowl          0.009804\n",
      "a swimming pool       0.009804\n",
      "a shopping cart       0.008715\n",
      "the living room       0.007625\n",
      "a pillow fight        0.006536\n",
      "a wrestling match     0.006536\n",
      "a sewing machine      0.006536\n",
      "a basketball court    0.006536\n",
      "a cutting board       0.006536\n",
      "Name: word, dtype: float64\n",
      "testing POS sequence ADJ_NOUN\n",
      "label word counts\n",
      "various tricks       0.041667\n",
      "musical tunes        0.041667\n",
      "old music            0.041667\n",
      "dirty dishes         0.041667\n",
      "specialized tools    0.041667\n",
      "white rocks          0.041667\n",
      "young boys           0.041667\n",
      "white paint          0.041667\n",
      "classical music      0.041667\n",
      "various items        0.041667\n",
      "Name: word, dtype: float64\n",
      "annotation word counts\n",
      "young men        0.026882\n",
      "young people     0.012545\n",
      "sharp objects    0.008961\n",
      "white wine       0.008961\n",
      "other people     0.008961\n",
      "older men        0.008961\n",
      "cooked eggs      0.007168\n",
      "facial hair      0.007168\n",
      "little kids      0.007168\n",
      "long jump        0.007168\n",
      "Name: word, dtype: float64\n",
      "testing POS sequence NUM_NOUN\n",
      "label word counts\n",
      "two boys         0.217391\n",
      "two men          0.130435\n",
      "two people       0.086957\n",
      "one girls        0.043478\n",
      "three men        0.043478\n",
      "three boys       0.043478\n",
      "two kids         0.043478\n",
      "two women        0.043478\n",
      "two couples      0.043478\n",
      "two teenagers    0.043478\n",
      "Name: word, dtype: float64\n",
      "annotation word counts\n",
      "two people      0.092664\n",
      "two boys        0.073359\n",
      "two men         0.061776\n",
      "two guys        0.057915\n",
      "two friends     0.054054\n",
      "two kids        0.050193\n",
      "two children    0.042471\n",
      "two girls       0.038610\n",
      "two teams       0.030888\n",
      "2 boys          0.015444\n",
      "Name: word, dtype: float64\n",
      "testing POS sequence NOUN_NOUN\n",
      "label word counts\n",
      "lab coat             0.0625\n",
      "air drums            0.0625\n",
      "sheet metal          0.0625\n",
      "restaurant worker    0.0625\n",
      "dog care             0.0625\n",
      "bread dough          0.0625\n",
      "rock climbing        0.0625\n",
      "hop scotch           0.0625\n",
      "wind instrument      0.0625\n",
      "parkour stunts       0.0625\n",
      "Name: word, dtype: float64\n",
      "annotation word counts\n",
      "football players    0.012939\n",
      "playing cards       0.012939\n",
      "spray paint         0.012939\n",
      "hockey players      0.011091\n",
      "ice cream           0.011091\n",
      "computer parts      0.011091\n",
      "air drums           0.011091\n",
      "sheet metal         0.009242\n",
      "home plate          0.009242\n",
      "sheet music         0.009242\n",
      "Name: word, dtype: float64\n",
      "testing POS sequence DET_ADJ_NOUN_NOUN\n",
      "label word counts\n",
      "a indoor basketball court        0.090909\n",
      "a competitive wrestling match    0.090909\n",
      "an indoor swimming pool          0.090909\n",
      "an indoor basketball court       0.090909\n",
      "a tall chocolate cake            0.090909\n",
      "a large bubble gum               0.090909\n",
      "an automatic teller machine      0.090909\n",
      "an electrical fan component      0.090909\n",
      "a oven baking pan                0.090909\n",
      "a large hanging cymbal           0.090909\n",
      "Name: word, dtype: float64\n",
      "annotation word counts\n",
      "an olympic swimming pool          0.034483\n",
      "a large swimming pool             0.034483\n",
      "a new fishing rod                 0.017241\n",
      "a professional window cleaner     0.017241\n",
      "an indoor swimming competition    0.017241\n",
      "a plastic toy sword               0.017241\n",
      "a silver face cover               0.017241\n",
      "a small rubix cube                0.017241\n",
      "a large metal drum                0.017241\n",
      "a fellow ice skater               0.017241\n",
      "Name: word, dtype: float64\n",
      "testing POS sequence DET_ADJ_ADJ_NOUN\n",
      "label word counts\n",
      "a large professional pool      0.1\n",
      "a red hot piece                0.1\n",
      "the other martial artists      0.1\n",
      "a small robotic vehicle        0.1\n",
      "a snowy outdoor environment    0.1\n",
      "a black grainy substance       0.1\n",
      "a yellow reflective vest       0.1\n",
      "a large dumb bell              0.1\n",
      "a middle aged woman            0.1\n",
      "a long wooden log              0.1\n",
      "Name: word, dtype: float64\n",
      "annotation word counts\n",
      "a middle aged man           0.235294\n",
      "an outgoing young guy       0.058824\n",
      "a dirty faced women         0.058824\n",
      "a muscular young man        0.058824\n",
      "a big black dog             0.058824\n",
      "an old tooth brush          0.058824\n",
      "the swampy looking water    0.058824\n",
      "a furry white dog           0.058824\n",
      "a full grown horse          0.058824\n",
      "a large retail store        0.058824\n",
      "Name: word, dtype: float64\n"
     ]
    }
   ],
   "source": [
    "## most frequent words for different sequences\n",
    "top_k = 10\n",
    "for POS_sequence_i in label_POS_sequence_counts.index[:top_k]:\n",
    "    print(f'testing POS sequence {POS_sequence_i}')\n",
    "    label_POS_sequences_i = label_POS_sequences[label_POS_sequences.loc[:, 'POS_sequence']==POS_sequence_i]\n",
    "    annotation_POS_sequences_i = annotation_POS_sequences[annotation_POS_sequences.loc[:, 'POS_sequence']==POS_sequence_i]\n",
    "    ## get counts\n",
    "    label_word_counts_i = label_POS_sequences_i.loc[:, 'word'].value_counts()\n",
    "    annotation_word_counts_i = annotation_POS_sequences_i.loc[:, 'word'].value_counts()\n",
    "    # normalize\n",
    "    label_word_counts_i = label_word_counts_i / label_word_counts_i.sum()\n",
    "    annotation_word_counts_i = annotation_word_counts_i / annotation_word_counts_i.sum()\n",
    "    print(f'label word counts\\n{label_word_counts_i.head(10)}')\n",
    "    print(f'annotation word counts\\n{annotation_word_counts_i.head(10)}')"
   ]
  },
  {
   "cell_type": "markdown",
   "metadata": {},
   "source": [
    "- `PRON`: Annotations tend to use more specific pronoun phrases like `someone` or `something` rather than `it`.\n",
    "- `DET_NOUN`: annotations are less gender-biased? Prefer `person` over `man`."
   ]
  },
  {
   "cell_type": "code",
   "execution_count": null,
   "metadata": {},
   "outputs": [],
   "source": []
  }
 ],
 "metadata": {
  "kernelspec": {
   "display_name": "Python [conda env:py3] *",
   "language": "python",
   "name": "conda-env-py3-py"
  },
  "language_info": {
   "codemirror_mode": {
    "name": "ipython",
    "version": 3
   },
   "file_extension": ".py",
   "mimetype": "text/x-python",
   "name": "python",
   "nbconvert_exporter": "python",
   "pygments_lexer": "ipython3",
   "version": "3.8.5"
  }
 },
 "nbformat": 4,
 "nbformat_minor": 5
}
