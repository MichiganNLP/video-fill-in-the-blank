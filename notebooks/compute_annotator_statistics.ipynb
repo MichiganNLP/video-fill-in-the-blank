{
 "cells": [
  {
   "cell_type": "markdown",
   "metadata": {},
   "source": [
    "# Test annotated data"
   ]
  },
  {
   "cell_type": "code",
   "execution_count": 4,
   "metadata": {},
   "outputs": [
    {
     "name": "stdout",
     "output_type": "stream",
     "text": [
      "https://drive.google.com/uc?id=1rglAizpxanVDejDP6HuCM7UaXLxEQwnK&export=download\n"
     ]
    }
   ],
   "source": [
    "import json\n",
    "import sys\n",
    "if('..' not in sys.path):\n",
    "    sys.path.append('..')\n",
    "from lqam.methods.dataset import URL_DATA_VAL\n",
    "import requests\n",
    "print(URL_DATA_VAL)\n",
    "annotated_data = json.loads(requests.get(URL_DATA_VAL).text)"
   ]
  },
  {
   "cell_type": "code",
   "execution_count": 5,
   "metadata": {},
   "outputs": [
    {
     "name": "stdout",
     "output_type": "stream",
     "text": [
      "{\"video_id\": \"b72mXcSFozc\", \"video_start_time\": 41, \"video_end_time\": 51, \"caption\": \"An old man is outside hammering nails into a stone block.\", \"masked_caption\": \"An old man is outside hammering nails into _____.\", \"label\": \"a stone block\", \"additional_answers\": [[\"a piece of granite\", \"a slab of granite\", \"a long chunk of granite\"], [\"cement\", \"rock\", \"a boulder\", \"stone\", \"granite\"], [\"cement\", \"concrete\", \"a line\"], [\"concrete\", \"cement\"], [\"granite\", \"stone\"]]}\n"
     ]
    }
   ],
   "source": [
    "print(json.dumps(annotated_data[10]))"
   ]
  },
  {
   "cell_type": "code",
   "execution_count": 32,
   "metadata": {},
   "outputs": [],
   "source": [
    "## normalize all data\n",
    "import sys\n",
    "if('..' not in sys.path):\n",
    "    sys.path.append('..')\n",
    "from lqam.core.metrics import normalize_answer\n",
    "for data_i in annotated_data:\n",
    "    data_i['label_norm'] = normalize_answer(data_i['label'])\n",
    "    data_i['annotations_norm'] = [[normalize_answer(y) for y in x] for x in data_i['additional_answers']]"
   ]
  },
  {
   "cell_type": "markdown",
   "metadata": {},
   "source": [
    "## Noun distribution\n",
    "Let's look at the top-K nouns for (1) ground-truth data and (2) labeled data."
   ]
  },
  {
   "cell_type": "code",
   "execution_count": 30,
   "metadata": {
    "scrolled": false
   },
   "outputs": [
    {
     "data": {
      "text/plain": [
       "man          49\n",
       "person       27\n",
       "it           23\n",
       "woman        21\n",
       "people       13\n",
       "them         12\n",
       "front        10\n",
       "he           10\n",
       "group        10\n",
       "someone      10\n",
       "young man     8\n",
       "boy           8\n",
       "piece         7\n",
       "girl          7\n",
       "camera        7\n",
       "child         6\n",
       "baby          6\n",
       "table         6\n",
       "water         6\n",
       "music         5\n",
       "dtype: int64"
      ]
     },
     "metadata": {},
     "output_type": "display_data"
    }
   ],
   "source": [
    "import pandas as pd\n",
    "ground_truth_labels = list(map(lambda x: x['label_norm'].lower(), annotated_data))\n",
    "ground_truth_label_counts = pd.Series(ground_truth_labels).value_counts()\n",
    "display(ground_truth_label_counts.head(20))"
   ]
  },
  {
   "cell_type": "code",
   "execution_count": 33,
   "metadata": {
    "scrolled": false
   },
   "outputs": [
    {
     "data": {
      "text/plain": [
       "man        508\n",
       "person     442\n",
       "woman      242\n",
       "guy        190\n",
       "boy        176\n",
       "people     161\n",
       "girl       154\n",
       "child      147\n",
       "someone    133\n",
       "kid        130\n",
       "group      127\n",
       "lady       112\n",
       "baby        95\n",
       "kids        89\n",
       "camera      72\n",
       "water       70\n",
       "music       68\n",
       "it          68\n",
       "ball        67\n",
       "boys        66\n",
       "dtype: int64"
      ]
     },
     "metadata": {},
     "output_type": "display_data"
    }
   ],
   "source": [
    "from functools import reduce\n",
    "annotation_labels = []\n",
    "for annotated_data_i in annotated_data:\n",
    "    for annotations_j in annotated_data_i['annotations_norm']:\n",
    "        clean_annotations_j = list(map(lambda x: x.lower(), annotations_j))\n",
    "        annotation_labels.extend(clean_annotations_j)\n",
    "annotation_label_counts = pd.Series(annotation_labels).value_counts()\n",
    "display(annotation_label_counts.head(20))"
   ]
  },
  {
   "cell_type": "markdown",
   "metadata": {},
   "source": [
    "### Nouns with low/high agreement\n",
    "Which nouns have lower or higher agreement?\n",
    "\n",
    "We'll measure agreement with exact overlap to start, and then partial overlap if we need more data."
   ]
  },
  {
   "cell_type": "code",
   "execution_count": 8,
   "metadata": {},
   "outputs": [],
   "source": [
    "from lqam.core.metrics import normalize_answer, tokenize_answer_to_compute_metrics, compute_token_level_f1_many\n",
    "def compute_overlap_score(label, annotations):\n",
    "    label_tokens = tokenize_answer_to_compute_metrics(normalize_answer(label))\n",
    "    annotation_tokens = list(map(lambda x: list(map(lambda y: tokenize_answer_to_compute_metrics(normalize_answer(y)), x)), annotations))\n",
    "    # flatten token lists\n",
    "    annotation_tokens = [y for x in annotation_tokens for y in x]\n",
    "    overlap_score = compute_token_level_f1_many(label_tokens, annotation_tokens)\n",
    "    return overlap_score"
   ]
  },
  {
   "cell_type": "code",
   "execution_count": 34,
   "metadata": {},
   "outputs": [
    {
     "data": {
      "image/png": "[encoded data removed]",
      "text/plain": [
       "<Figure size 432x288 with 1 Axes>"
      ]
     },
     "metadata": {
      "needs_background": "light"
     },
     "output_type": "display_data"
    }
   ],
   "source": [
    "# show distribution first\n",
    "import matplotlib\n",
    "%matplotlib inline\n",
    "import matplotlib.pyplot as plt\n",
    "valid_annotated_data = list(filter(lambda x: len(x['additional_answers']) > 0, annotated_data))\n",
    "overlap_scores = list(map(lambda x: compute_overlap_score(x['label_norm'], x['annotations_norm']), valid_annotated_data))\n",
    "plt.hist(overlap_scores)\n",
    "plt.xlabel(\"Match score\")\n",
    "plt.yscale('log')\n",
    "plt.show()"
   ]
  },
  {
   "cell_type": "code",
   "execution_count": 35,
   "metadata": {},
   "outputs": [
    {
     "name": "stdout",
     "output_type": "stream",
     "text": [
      "68.62944162436548% of captions with at least one complete overlap\n"
     ]
    }
   ],
   "source": [
    "import numpy as np\n",
    "print(f'{(np.array(overlap_scores) == 1.0).sum() / len(overlap_scores)*100}% of captions with at least one complete overlap')"
   ]
  },
  {
   "cell_type": "markdown",
   "metadata": {},
   "source": [
    "Most questions have fairly low rate of exact matches, which may be unusually low for questions with higher number of annotations provided."
   ]
  },
  {
   "cell_type": "code",
   "execution_count": 36,
   "metadata": {
    "scrolled": true
   },
   "outputs": [
    {
     "name": "stdout",
     "output_type": "stream",
     "text": [
      "ground-truth labels with highest annotation overlap\n"
     ]
    },
    {
     "data": {
      "text/plain": [
       "label\n",
       "melody           1.0\n",
       "knife            1.0\n",
       "ink              1.0\n",
       "bicycle chain    1.0\n",
       "instruments      1.0\n",
       "jar              1.0\n",
       "bench            1.0\n",
       "jump kick        1.0\n",
       "keyboard         1.0\n",
       "kid              1.0\n",
       "kids             1.0\n",
       "kitchen          1.0\n",
       "kite             1.0\n",
       "knives           1.0\n",
       "ice skater       1.0\n",
       "knuckles         1.0\n",
       "lab coat         1.0\n",
       "ladder           1.0\n",
       "ladies           1.0\n",
       "lady             1.0\n",
       "dtype: float64"
      ]
     },
     "metadata": {},
     "output_type": "display_data"
    },
    {
     "name": "stdout",
     "output_type": "stream",
     "text": [
      "ground-truth labels with lowest annotation overlap\n"
     ]
    },
    {
     "data": {
      "text/plain": [
       "label\n",
       "about nine game pieces       0.0\n",
       "anvil                        0.0\n",
       "studio                       0.0\n",
       "swirl                        0.0\n",
       "taekwondo                    0.0\n",
       "themselves                   0.0\n",
       "time                         0.0\n",
       "timelapse                    0.0\n",
       "another item                 0.0\n",
       "twos                         0.0\n",
       "very small do                0.0\n",
       "voices                       0.0\n",
       "wind                         0.0\n",
       "adult female                 0.0\n",
       "women                        0.0\n",
       "press                        0.0\n",
       "strand                       0.0\n",
       "cameraman                    0.0\n",
       "some swimming exhibitions    0.0\n",
       "puppy                        0.0\n",
       "dtype: float64"
      ]
     },
     "metadata": {},
     "output_type": "display_data"
    }
   ],
   "source": [
    "## compute average overlap per NP\n",
    "valid_annotated_data_labels = list(map(lambda x: x['label_norm'], valid_annotated_data))\n",
    "label_annotation_overlap = pd.DataFrame(list(zip(valid_annotated_data_labels, overlap_scores)), columns=['label', 'overlap_score'])\n",
    "label_annotation_overlap_aggregate = label_annotation_overlap.groupby('label').apply(lambda x: x.loc[:, 'overlap_score'].mean())\n",
    "label_annotation_overlap_aggregate.sort_values(inplace=True, ascending=False)\n",
    "print('ground-truth labels with highest annotation overlap')\n",
    "display(label_annotation_overlap_aggregate.head(20))\n",
    "label_annotation_overlap_aggregate.sort_values(inplace=True, ascending=True)\n",
    "print('ground-truth labels with lowest annotation overlap')\n",
    "display(label_annotation_overlap_aggregate.head(20))"
   ]
  },
  {
   "cell_type": "markdown",
   "metadata": {},
   "source": [
    "The words with higher agreement tend to be simple and concrete nouns (`keyboard`, `knife`).\n",
    "\n",
    "The words with lower agreement tend to be highly specific (`about nine game pieces`, `cameraman`) or vague (`another item`, `swirl`)."
   ]
  },
  {
   "cell_type": "markdown",
   "metadata": {},
   "source": [
    "## Tokens per NP\n",
    "How many tokens on average does each noun phrase contain?\n",
    "\n",
    "We'll look at this for both ground-truth and annotations."
   ]
  },
  {
   "cell_type": "code",
   "execution_count": 38,
   "metadata": {
    "scrolled": true
   },
   "outputs": [
    {
     "name": "stdout",
     "output_type": "stream",
     "text": [
      "gold label NPs have 1.469 +/- 0.686 tokens\n",
      "annotation NPs have 1.369 +/- 0.686 tokens\n"
     ]
    },
    {
     "data": {
      "image/png": "[encoded data removed]",
      "text/plain": [
       "<Figure size 432x288 with 1 Axes>"
      ]
     },
     "metadata": {
      "needs_background": "light"
     },
     "output_type": "display_data"
    }
   ],
   "source": [
    "from nltk.tokenize import WordPunctTokenizer\n",
    "import numpy as np\n",
    "tokenizer = WordPunctTokenizer()\n",
    "label_token_counts = list(map(lambda x: len(tokenizer.tokenize(x)), valid_annotated_data_labels))\n",
    "flat_annotation_labels = [z for x in valid_annotated_data for y in x['annotations_norm'] for z in y]\n",
    "# remove null labels?\n",
    "flat_annotation_labels = list(filter(lambda x: len(x) > 0, flat_annotation_labels))\n",
    "annotation_label_token_counts = [len(tokenizer.tokenize(x)) for x in flat_annotation_labels]\n",
    "print('gold label NPs have %.3f +/- %.3f tokens'%(np.mean(label_token_counts), np.std(label_token_counts)))\n",
    "print('annotation NPs have %.3f +/- %.3f tokens'%(np.mean(annotation_label_token_counts), np.std(annotation_label_token_counts)))\n",
    "## get combined counts => show as bar chart\n",
    "label_token_count_bins = pd.Series(label_token_counts).value_counts().reset_index().assign(**{'data_type' : 'label'})\n",
    "annotation_label_token_count_bins = pd.Series(annotation_label_token_counts).value_counts().reset_index().assign(**{'data_type' : 'annotation'})\n",
    "combined_token_count_bins = pd.concat([\n",
    "    label_token_count_bins,\n",
    "    annotation_label_token_count_bins,\n",
    "]).rename(columns={'index' : 'tokens', 0 : 'count'})\n",
    "import seaborn as sns\n",
    "sns.barplot(y='count', x='tokens', data=combined_token_count_bins, hue='data_type')\n",
    "plt.legend(loc='upper right')\n",
    "plt.yscale('log')\n",
    "plt.show()"
   ]
  },
  {
   "cell_type": "markdown",
   "metadata": {},
   "source": [
    "The gold labels tend to be slightly longer, and annotation labels are more central-skewed (2 words or below) vs. the long tail of tokens in the gold labels."
   ]
  },
  {
   "cell_type": "markdown",
   "metadata": {},
   "source": [
    "What are the longest/shortest labels in each set?"
   ]
  },
  {
   "cell_type": "code",
   "execution_count": 39,
   "metadata": {
    "scrolled": true
   },
   "outputs": [
    {
     "name": "stdout",
     "output_type": "stream",
     "text": [
      "longest gold label NPs\n"
     ]
    },
    {
     "data": {
      "text/plain": [
       "innocent cute little baby boy    5\n",
       "black and white knitting kit     5\n",
       "very well built woman            4\n",
       "complex stretching yoga pose     4\n",
       "her very colorful leggings       4\n",
       "ornately costumed dance squad    4\n",
       "about nine game pieces           4\n",
       "strung out teenage girls         4\n",
       "his rock climbing equipment      4\n",
       "large multiple dig site          4\n",
       "his toy train set                4\n",
       "human ping pong ball             4\n",
       "basic photo copy machine         4\n",
       "different gear shifts            3\n",
       "automatic teller machine         3\n",
       "two little boys                  3\n",
       "beat making machine              3\n",
       "her overstressed tanktop         3\n",
       "small motorized carts            3\n",
       "two young boys                   3\n",
       "dtype: int64"
      ]
     },
     "metadata": {},
     "output_type": "display_data"
    },
    {
     "name": "stdout",
     "output_type": "stream",
     "text": [
      "longest annotation NPs\n"
     ]
    },
    {
     "data": {
      "text/plain": [
       "2 teams one in yellow jerseys and one white jerseys    10\n",
       "poor animal who needs its wool to stay warm             9\n",
       "2 people total and 1 in full view                       8\n",
       "cowboy wearing blue jeans and blue jean jacket          8\n",
       "male wearing shoes and black pants with stripes         8\n",
       "boy in black and boy in blue tshirt                     8\n",
       "2 young kids with shorts and no shirts                  8\n",
       "girl in tshirt and bathing suit bottom                  7\n",
       "shirtless man with black bottom bathing suit            7\n",
       "2 males wearing blue shirt and shorts                   7\n",
       "kid in black shirt and black pants                      7\n",
       "while sitting and using fork to eat                     7\n",
       "man in white shirt and black pants                      7\n",
       "street in front of house driveway                       6\n",
       "2 teams wearing jerseys and helmets                     6\n",
       "man with small amounts of hair                          6\n",
       "front of green curtain and front                        6\n",
       "numerous track event and field events                   6\n",
       "man in shorts and black tshirt                          6\n",
       "neck and top of his head                                6\n",
       "dtype: int64"
      ]
     },
     "metadata": {},
     "output_type": "display_data"
    }
   ],
   "source": [
    "label_token_count_data = pd.Series(label_token_counts, index=list(map(lambda x: x.lower(), valid_annotated_data_labels))).sort_values(inplace=False, ascending=False)\n",
    "flat_annotation_label_token_count_data = pd.Series(annotation_label_token_counts, index=list(map(lambda x: x.lower(), flat_annotation_labels))).sort_values(inplace=False, ascending=False)\n",
    "label_token_count_data = label_token_count_data[~label_token_count_data.index.duplicated()]\n",
    "flat_annotation_label_token_count_data = flat_annotation_label_token_count_data[~flat_annotation_label_token_count_data.index.duplicated()]\n",
    "print('longest gold label NPs')\n",
    "display(label_token_count_data.head(20))\n",
    "print('longest annotation NPs')\n",
    "display(flat_annotation_label_token_count_data.head(20))"
   ]
  },
  {
   "cell_type": "markdown",
   "metadata": {},
   "source": [
    "The longest NPs for the gold labels tend to have multiple adjectives (`an innocent cute little baby boy`) and possessive markers (`a man's back`).\n",
    "\n",
    "The longest NPs for the annotation labels tend to have coordination (`a man in shorts and black t-shirt`) and long, unnecessary subclauses (`the poor animal who needs it's wool to stay warm`)."
   ]
  },
  {
   "cell_type": "markdown",
   "metadata": {},
   "source": [
    "### Unique NPs per question\n",
    "How many unique NPs does each question get?"
   ]
  },
  {
   "cell_type": "code",
   "execution_count": 40,
   "metadata": {},
   "outputs": [
    {
     "data": {
      "image/png": "[encoded data removed]",
      "text/plain": [
       "<Figure size 432x288 with 1 Axes>"
      ]
     },
     "metadata": {
      "needs_background": "light"
     },
     "output_type": "display_data"
    },
    {
     "data": {
      "image/png": "[encoded data removed]",
      "text/plain": [
       "<Figure size 432x288 with 1 Axes>"
      ]
     },
     "metadata": {
      "needs_background": "light"
     },
     "output_type": "display_data"
    },
    {
     "name": "stdout",
     "output_type": "stream",
     "text": [
      "questions have an average of 11.292 +/- 4.126 unique labels\n",
      "annotators have an average of 2.704 +/- 0.534 unique labels\n"
     ]
    }
   ],
   "source": [
    "def get_num_unique_labels_per_annotator(data):\n",
    "    ## TODO: only include first label from each annotator? some annotators may have included extra words just for bonus\n",
    "    data_annotation_label_sets = [set([y.lower() for y in x]) for x in data['annotations_norm']]\n",
    "    num_unique_data_annotation_labels = list(map(lambda x: len(x), data_annotation_label_sets))\n",
    "    mean_unique_data_annotation_labels = np.mean(num_unique_data_annotation_labels)\n",
    "    return mean_unique_data_annotation_labels\n",
    "unique_labels_per_question = list(map(lambda x: list(sorted(set([z.lower() for y in x['annotations_norm'] for z in y]))), valid_annotated_data))\n",
    "num_unique_labels_per_question = list(map(lambda x: len(x), unique_labels_per_question))\n",
    "num_unique_labels_per_question_per_annotator = list(map(lambda x: get_num_unique_labels_per_annotator(x), valid_annotated_data))\n",
    "plt.hist(num_unique_labels_per_question)\n",
    "plt.xlabel('Number unique labels')\n",
    "plt.title('Labels per question')\n",
    "plt.show()\n",
    "plt.hist(num_unique_labels_per_question_per_annotator)\n",
    "plt.xlabel('Number unique labels')\n",
    "plt.title('Labels per question (per annotator)')\n",
    "plt.show()\n",
    "print('questions have an average of %.3f +/- %.3f unique labels'%(np.mean(num_unique_labels_per_question), np.std(num_unique_labels_per_question)))\n",
    "print('annotators have an average of %.3f +/- %.3f unique labels'%(np.mean(num_unique_labels_per_question_per_annotator), np.std(num_unique_labels_per_question_per_annotator)))"
   ]
  },
  {
   "cell_type": "markdown",
   "metadata": {},
   "source": [
    "Most questions have around 11 unique labels total and 3 unique labels per annotator."
   ]
  },
  {
   "cell_type": "markdown",
   "metadata": {},
   "source": [
    "Which questions have the most unique labels per annotator?"
   ]
  },
  {
   "cell_type": "code",
   "execution_count": 41,
   "metadata": {
    "scrolled": true
   },
   "outputs": [
    {
     "name": "stdout",
     "output_type": "stream",
     "text": [
      "questions with highest number unique labels per annotator\n"
     ]
    },
    {
     "data": {
      "text/html": [
       "<div>\n",
       "<style scoped>\n",
       "    .dataframe tbody tr th:only-of-type {\n",
       "        vertical-align: middle;\n",
       "    }\n",
       "\n",
       "    .dataframe tbody tr th {\n",
       "        vertical-align: top;\n",
       "    }\n",
       "\n",
       "    .dataframe thead th {\n",
       "        text-align: right;\n",
       "    }\n",
       "</style>\n",
       "<table border=\"1\" class=\"dataframe\">\n",
       "  <thead>\n",
       "    <tr style=\"text-align: right;\">\n",
       "      <th></th>\n",
       "      <th>prompt</th>\n",
       "      <th>unique_label_count</th>\n",
       "      <th>unique_labels</th>\n",
       "    </tr>\n",
       "  </thead>\n",
       "  <tbody>\n",
       "    <tr>\n",
       "      <th>278</th>\n",
       "      <td>_____ lifts a heavy weight from the ground up.</td>\n",
       "      <td>5</td>\n",
       "      <td>[athlete, body builder, bodybuilder, female, female athlete, female body builder, female bodybuilder, gal, girl, lady, small lady, small woman, tiny lady, weight lifter, woman]</td>\n",
       "    </tr>\n",
       "    <tr>\n",
       "      <th>905</th>\n",
       "      <td>A group of drivers race cars on _____ in front of onlookers.</td>\n",
       "      <td>4.8</td>\n",
       "      <td>[circuit, clay, course, dirt, dirt path, dirt track, dry sand, field, ground, mud, race grounds, racetrack, raceway, sand, speedway, stretch, track]</td>\n",
       "    </tr>\n",
       "    <tr>\n",
       "      <th>260</th>\n",
       "      <td>A man is walking by _____ that is completely full then comes back and smashes the computer monitor sitting on top with a baseball bat.</td>\n",
       "      <td>4.71429</td>\n",
       "      <td>[alley, bin, black bin, black bin with garbage, black garbage bin, black rubbish bin, black trash can, black trashcan, dumpster, garbage bin, garbage can, garbage receptacle, grey garbage can, pla...</td>\n",
       "    </tr>\n",
       "    <tr>\n",
       "      <th>427</th>\n",
       "      <td>A group of _____ in pink tutus dancing in a circle on stage.</td>\n",
       "      <td>4.42857</td>\n",
       "      <td>[arminarm girls, balet students, ballerinas, children, dancers, girls, kids, little girls, little kids, students, toddlers, young ballerinas, young dancers, young girls]</td>\n",
       "    </tr>\n",
       "    <tr>\n",
       "      <th>45</th>\n",
       "      <td>A woman works with _____ at a spinning potter's wheel.</td>\n",
       "      <td>4.42857</td>\n",
       "      <td>[bowl, boys, boys and girls, class, clay, ease, focus, girls, her children, her class, her family, her hands, her kids, her students, kids, lady, mud, piece of pottery, potter, pottery, skill, stu...</td>\n",
       "    </tr>\n",
       "    <tr>\n",
       "      <th>831</th>\n",
       "      <td>_____ uses several smaller containers to efficiently pack a suitcase while music plays.</td>\n",
       "      <td>4.33333</td>\n",
       "      <td>[chick, female, girl, lady, lass, person, someone, traveler, woman, young lady]</td>\n",
       "    </tr>\n",
       "    <tr>\n",
       "      <th>835</th>\n",
       "      <td>_____ was picking berries from a bush outside on a sunny day.</td>\n",
       "      <td>4.33333</td>\n",
       "      <td>[adult and child, duo, family, folks, girl, mother and daughter, people, person, woman, woman and girl, young lady and old lady]</td>\n",
       "    </tr>\n",
       "    <tr>\n",
       "      <th>936</th>\n",
       "      <td>_____ kicks soccer balls into a net while on a grass field.</td>\n",
       "      <td>4.33333</td>\n",
       "      <td>[adolescent, athlete, boy, child, guy, human, kid, male, my daughters friend, our neighbor, person, player, players, soccer player, someone, son, team member, teams captain, young boy, youth]</td>\n",
       "    </tr>\n",
       "    <tr>\n",
       "      <th>576</th>\n",
       "      <td>_____ plays an instrument while wearing a pink shirt.</td>\n",
       "      <td>4.2</td>\n",
       "      <td>[artist, bald man, entertainer, guy, individual, man, musician, old man, older man, performer, person, saxophone player, saxophonist, singer, someone]</td>\n",
       "    </tr>\n",
       "    <tr>\n",
       "      <th>749</th>\n",
       "      <td>A man standing in front of a microphone playing some kind of _____.</td>\n",
       "      <td>4.2</td>\n",
       "      <td>[flute, harmonicalike instrument, instrument, music, musical instrument, noise, pan flute, pan flute music, panflute, pipe, song, tool, unknown instrument, wood instrument, wooden instrument, wood...</td>\n",
       "    </tr>\n",
       "  </tbody>\n",
       "</table>\n",
       "</div>"
      ],
      "text/plain": [
       "                                                                                                                                     prompt  \\\n",
       "278                                                                                          _____ lifts a heavy weight from the ground up.   \n",
       "905                                                                            A group of drivers race cars on _____ in front of onlookers.   \n",
       "260  A man is walking by _____ that is completely full then comes back and smashes the computer monitor sitting on top with a baseball bat.   \n",
       "427                                                                            A group of _____ in pink tutus dancing in a circle on stage.   \n",
       "45                                                                                   A woman works with _____ at a spinning potter's wheel.   \n",
       "831                                                 _____ uses several smaller containers to efficiently pack a suitcase while music plays.   \n",
       "835                                                                           _____ was picking berries from a bush outside on a sunny day.   \n",
       "936                                                                             _____ kicks soccer balls into a net while on a grass field.   \n",
       "576                                                                                   _____ plays an instrument while wearing a pink shirt.   \n",
       "749                                                                     A man standing in front of a microphone playing some kind of _____.   \n",
       "\n",
       "    unique_label_count  \\\n",
       "278                  5   \n",
       "905                4.8   \n",
       "260            4.71429   \n",
       "427            4.42857   \n",
       "45             4.42857   \n",
       "831            4.33333   \n",
       "835            4.33333   \n",
       "936            4.33333   \n",
       "576                4.2   \n",
       "749                4.2   \n",
       "\n",
       "                                                                                                                                                                                               unique_labels  \n",
       "278                         [athlete, body builder, bodybuilder, female, female athlete, female body builder, female bodybuilder, gal, girl, lady, small lady, small woman, tiny lady, weight lifter, woman]  \n",
       "905                                                     [circuit, clay, course, dirt, dirt path, dirt track, dry sand, field, ground, mud, race grounds, racetrack, raceway, sand, speedway, stretch, track]  \n",
       "260  [alley, bin, black bin, black bin with garbage, black garbage bin, black rubbish bin, black trash can, black trashcan, dumpster, garbage bin, garbage can, garbage receptacle, grey garbage can, pla...  \n",
       "427                                [arminarm girls, balet students, ballerinas, children, dancers, girls, kids, little girls, little kids, students, toddlers, young ballerinas, young dancers, young girls]  \n",
       "45   [bowl, boys, boys and girls, class, clay, ease, focus, girls, her children, her class, her family, her hands, her kids, her students, kids, lady, mud, piece of pottery, potter, pottery, skill, stu...  \n",
       "831                                                                                                                          [chick, female, girl, lady, lass, person, someone, traveler, woman, young lady]  \n",
       "835                                                                         [adult and child, duo, family, folks, girl, mother and daughter, people, person, woman, woman and girl, young lady and old lady]  \n",
       "936          [adolescent, athlete, boy, child, guy, human, kid, male, my daughters friend, our neighbor, person, player, players, soccer player, someone, son, team member, teams captain, young boy, youth]  \n",
       "576                                                   [artist, bald man, entertainer, guy, individual, man, musician, old man, older man, performer, person, saxophone player, saxophonist, singer, someone]  \n",
       "749  [flute, harmonicalike instrument, instrument, music, musical instrument, noise, pan flute, pan flute music, panflute, pipe, song, tool, unknown instrument, wood instrument, wooden instrument, wood...  "
      ]
     },
     "metadata": {},
     "output_type": "display_data"
    },
    {
     "name": "stdout",
     "output_type": "stream",
     "text": [
      "questions with lowest number unique labels per annotator\n"
     ]
    },
    {
     "data": {
      "text/html": [
       "<div>\n",
       "<style scoped>\n",
       "    .dataframe tbody tr th:only-of-type {\n",
       "        vertical-align: middle;\n",
       "    }\n",
       "\n",
       "    .dataframe tbody tr th {\n",
       "        vertical-align: top;\n",
       "    }\n",
       "\n",
       "    .dataframe thead th {\n",
       "        text-align: right;\n",
       "    }\n",
       "</style>\n",
       "<table border=\"1\" class=\"dataframe\">\n",
       "  <thead>\n",
       "    <tr style=\"text-align: right;\">\n",
       "      <th></th>\n",
       "      <th>prompt</th>\n",
       "      <th>unique_label_count</th>\n",
       "      <th>unique_labels</th>\n",
       "    </tr>\n",
       "  </thead>\n",
       "  <tbody>\n",
       "    <tr>\n",
       "      <th>645</th>\n",
       "      <td>A man demonstrates how to install _____.</td>\n",
       "      <td>1.66667</td>\n",
       "      <td>[bicycle chain, bike chain, chain, cycle chain, master link, new bike chain, new chain links, piece of equipement]</td>\n",
       "    </tr>\n",
       "    <tr>\n",
       "      <th>863</th>\n",
       "      <td>The man in _____ checks and trims the toenails of a small animal.</td>\n",
       "      <td>1.625</td>\n",
       "      <td>[black pants, black sweater, chair, clip, knit shirt, sweater, vets office, video, warm sweater]</td>\n",
       "    </tr>\n",
       "    <tr>\n",
       "      <th>613</th>\n",
       "      <td>Two person one standing on _____ and the other doing a cock wheel.</td>\n",
       "      <td>1.6</td>\n",
       "      <td>[circle, floor, groung, his head, their head, top of his head]</td>\n",
       "    </tr>\n",
       "    <tr>\n",
       "      <th>468</th>\n",
       "      <td>A man juggles balls one-handed and then two-handed and tosses them to a person off-_____.</td>\n",
       "      <td>1.5</td>\n",
       "      <td>[balance, camera, frame, shot]</td>\n",
       "    </tr>\n",
       "    <tr>\n",
       "      <th>306</th>\n",
       "      <td>A toddler boy is feeding _____ spaghetti at the dinner table.</td>\n",
       "      <td>1.5</td>\n",
       "      <td>[forkfuls of, himself, his belly, his mouth, while sitting and using fork to eat]</td>\n",
       "    </tr>\n",
       "    <tr>\n",
       "      <th>720</th>\n",
       "      <td>A young boy who seems to be timing _____ how fast he can eat a snack.</td>\n",
       "      <td>1.33333</td>\n",
       "      <td>[challenge of, himself, his self, recording of, to calculate, to see]</td>\n",
       "    </tr>\n",
       "    <tr>\n",
       "      <th>747</th>\n",
       "      <td>A man, outdoors at a gas station, is demonstrating step-by-_____, how to pump gas.</td>\n",
       "      <td>1.33333</td>\n",
       "      <td>[step, way]</td>\n",
       "    </tr>\n",
       "    <tr>\n",
       "      <th>214</th>\n",
       "      <td>Two teams play football, and the team in _____ completes a pass.</td>\n",
       "      <td>1.33333</td>\n",
       "      <td>[left, offense, red jerseys, red shirts]</td>\n",
       "    </tr>\n",
       "    <tr>\n",
       "      <th>705</th>\n",
       "      <td>Packages of paper are being wrapped in paper plastic and stacked on _____ of each other.</td>\n",
       "      <td>1.25</td>\n",
       "      <td>[device next, machine, top]</td>\n",
       "    </tr>\n",
       "    <tr>\n",
       "      <th>847</th>\n",
       "      <td>A person is showing how _____ open a beer with a screw driver indoors.</td>\n",
       "      <td>1</td>\n",
       "      <td>[he, people, to screw open, you]</td>\n",
       "    </tr>\n",
       "  </tbody>\n",
       "</table>\n",
       "</div>"
      ],
      "text/plain": [
       "                                                                                        prompt  \\\n",
       "645                                                   A man demonstrates how to install _____.   \n",
       "863                          The man in _____ checks and trims the toenails of a small animal.   \n",
       "613                         Two person one standing on _____ and the other doing a cock wheel.   \n",
       "468  A man juggles balls one-handed and then two-handed and tosses them to a person off-_____.   \n",
       "306                              A toddler boy is feeding _____ spaghetti at the dinner table.   \n",
       "720                      A young boy who seems to be timing _____ how fast he can eat a snack.   \n",
       "747         A man, outdoors at a gas station, is demonstrating step-by-_____, how to pump gas.   \n",
       "214                           Two teams play football, and the team in _____ completes a pass.   \n",
       "705   Packages of paper are being wrapped in paper plastic and stacked on _____ of each other.   \n",
       "847                     A person is showing how _____ open a beer with a screw driver indoors.   \n",
       "\n",
       "    unique_label_count  \\\n",
       "645            1.66667   \n",
       "863              1.625   \n",
       "613                1.6   \n",
       "468                1.5   \n",
       "306                1.5   \n",
       "720            1.33333   \n",
       "747            1.33333   \n",
       "214            1.33333   \n",
       "705               1.25   \n",
       "847                  1   \n",
       "\n",
       "                                                                                                          unique_labels  \n",
       "645  [bicycle chain, bike chain, chain, cycle chain, master link, new bike chain, new chain links, piece of equipement]  \n",
       "863                    [black pants, black sweater, chair, clip, knit shirt, sweater, vets office, video, warm sweater]  \n",
       "613                                                      [circle, floor, groung, his head, their head, top of his head]  \n",
       "468                                                                                      [balance, camera, frame, shot]  \n",
       "306                                   [forkfuls of, himself, his belly, his mouth, while sitting and using fork to eat]  \n",
       "720                                               [challenge of, himself, his self, recording of, to calculate, to see]  \n",
       "747                                                                                                         [step, way]  \n",
       "214                                                                            [left, offense, red jerseys, red shirts]  \n",
       "705                                                                                         [device next, machine, top]  \n",
       "847                                                                                    [he, people, to screw open, you]  "
      ]
     },
     "metadata": {},
     "output_type": "display_data"
    }
   ],
   "source": [
    "pd.set_option('display.max_colwidth', 200)\n",
    "question_prompts = list(map(lambda x: x['masked_caption'], valid_annotated_data))\n",
    "\n",
    "unique_labels_per_question_per_annotator_data = pd.DataFrame([\n",
    "    question_prompts,\n",
    "    num_unique_labels_per_question_per_annotator,\n",
    "    unique_labels_per_question,\n",
    "], index=['prompt', 'unique_label_count', 'unique_labels']).transpose()\n",
    "unique_labels_per_question_per_annotator_data.sort_values('unique_label_count', inplace=True, ascending=False)\n",
    "print('questions with highest number unique labels per annotator')\n",
    "display(unique_labels_per_question_per_annotator_data.head(10))\n",
    "print('questions with lowest number unique labels per annotator')\n",
    "display(unique_labels_per_question_per_annotator_data.tail(10))"
   ]
  },
  {
   "cell_type": "markdown",
   "metadata": {},
   "source": [
    "Questions with higher number of unique labels seem to inspire creative answers (`a group of ____ in pink tutus` => different paraphrases for `child`) and address multiple possible aspects of an event due to ambiguity (`a woman works with ____` => \"with\" applies to other `AGENT` nouns and `INSTRUMENT` nouns).\n",
    "\n",
    "Questions with lower number of unique labels seem to have very specific scenarios without room for paraphrasing or ambiguity (`to a person off-____` => the blank can only be \"camera\")."
   ]
  },
  {
   "cell_type": "markdown",
   "metadata": {},
   "source": [
    "### Assessing visual cues\n",
    "Some nouns and adjectives have more obvious visual cues than others, ex. \"green\" has clear visual component whereas \"kind\" is more subjective.\n",
    "\n",
    "Let's look for these visual cues in the labels and annotations using some word lists:\n",
    "- color\n",
    "- size\n",
    "- number"
   ]
  },
  {
   "cell_type": "code",
   "execution_count": 43,
   "metadata": {},
   "outputs": [],
   "source": [
    "## TODO: expand word sets using word embeddings (nearest neighbors + filtering)\n",
    "color_words = {\n",
    "    'red', 'blue', 'green', 'yellow', 'purple', 'orange', 'black', 'white', 'gray', 'grey',\n",
    "    'colorful', 'painted',\n",
    "}\n",
    "size_words = {\n",
    "    'large', 'huge', 'giant', 'small', 'little', 'tiny',\n",
    "}\n",
    "number_words = {\n",
    "    'one', 'two', 'three', 'four', 'five', 'six', 'seven', 'eight', 'nine', 'ten',\n",
    "    'several', 'few', 'many',\n",
    "}\n",
    "visual_word_sets = [\n",
    "    color_words, size_words, number_words,\n",
    "]\n",
    "visual_word_set_names = [\n",
    "    'color', 'size', 'number',\n",
    "]"
   ]
  },
  {
   "cell_type": "code",
   "execution_count": 44,
   "metadata": {},
   "outputs": [],
   "source": [
    "import sys\n",
    "if('..' not in sys.path):\n",
    "    sys.path.append('..')\n",
    "from lqam.core.metrics import tokenize_answer_to_compute_metrics\n",
    "## tokenize everything\n",
    "label_tokens = list(map(lambda x: tokenize_answer_to_compute_metrics(x['label_norm']), annotated_data))\n",
    "annotation_label_tokens = [[tokenize_answer_to_compute_metrics(z) for z in y] for x in valid_annotated_data for y in x['annotations_norm']]"
   ]
  },
  {
   "cell_type": "code",
   "execution_count": 45,
   "metadata": {
    "scrolled": true
   },
   "outputs": [
    {
     "data": {
      "image/png": "[encoded data removed]",
      "text/plain": [
       "<Figure size 432x144 with 2 Axes>"
      ]
     },
     "metadata": {
      "needs_background": "light"
     },
     "output_type": "display_data"
    },
    {
     "name": "stdout",
     "output_type": "stream",
     "text": [
      "proportion of <color> word matches for labels:\n",
      "   word_count  label_word_match_pct  annotation_word_match_pct\n",
      "0           0              0.984802                   0.986248\n",
      "1           1              0.014184                   0.012910\n",
      "2           2              0.001013                   0.000842\n"
     ]
    },
    {
     "data": {
      "image/png": "[encoded data removed]",
      "text/plain": [
       "<Figure size 432x144 with 2 Axes>"
      ]
     },
     "metadata": {
      "needs_background": "light"
     },
     "output_type": "display_data"
    },
    {
     "name": "stdout",
     "output_type": "stream",
     "text": [
      "proportion of <size> word matches for labels:\n",
      "   word_count  label_word_match_pct  annotation_word_match_pct\n",
      "0           0              0.969605                   0.991636\n",
      "1           1              0.030395                   0.008364\n"
     ]
    },
    {
     "data": {
      "image/png": "[encoded data removed]",
      "text/plain": [
       "<Figure size 432x144 with 2 Axes>"
      ]
     },
     "metadata": {
      "needs_background": "light"
     },
     "output_type": "display_data"
    },
    {
     "name": "stdout",
     "output_type": "stream",
     "text": [
      "proportion of <number> word matches for labels:\n",
      "   word_count  label_word_match_pct  annotation_word_match_pct\n",
      "0           0              0.963526                   0.986191\n",
      "1           1              0.036474                   0.013809\n"
     ]
    }
   ],
   "source": [
    "## get counts, plot distribution of visual words\n",
    "import matplotlib\n",
    "%matplotlib inline\n",
    "import matplotlib.pyplot as plt\n",
    "for visual_word_set, visual_word_set_name in zip(visual_word_sets, visual_word_set_names):\n",
    "    label_word_matches = list(map(lambda x: set(x) & visual_word_set, label_tokens))\n",
    "    annotation_label_word_matches = [set(y) & visual_word_set for x in annotation_label_tokens for y in x]\n",
    "    num_label_word_matches = list(map(lambda x: len(x), label_word_matches))\n",
    "    num_annotation_label_word_matches = list(map(lambda x: len(x), annotation_label_word_matches))\n",
    "    f, axs = plt.subplots(nrows=1, ncols=2, figsize=(6, 2))\n",
    "    axs[0].hist(num_label_word_matches)\n",
    "    axs[1].hist(num_annotation_label_word_matches)\n",
    "    axs[0].set_title(f'Label {visual_word_set_name} matches')\n",
    "    axs[1].set_title(f'Annotation {visual_word_set_name} matches')\n",
    "    axs[0].set_xlabel('Word set overlap')\n",
    "    axs[1].set_xlabel('Word set overlap')\n",
    "    plt.suptitle(f'Overlap with <{visual_word_set_name}> words')\n",
    "    plt.yscale('log')\n",
    "    plt.tight_layout()\n",
    "    plt.show()\n",
    "    # compute proportion of visual words per question\n",
    "    pct_label_word_matches = pd.Series(num_label_word_matches).value_counts() / len(num_label_word_matches)\n",
    "    pct_annotation_label_word_matches = pd.Series(num_annotation_label_word_matches).value_counts() / len(num_annotation_label_word_matches)\n",
    "    pct_word_matches = pd.concat([pct_label_word_matches, pct_annotation_label_word_matches], axis=1).reset_index()\n",
    "    pct_word_matches.columns = ['word_count', 'label_word_match_pct', 'annotation_word_match_pct']\n",
    "#     pct_word_matches.columns = ['label_match_pct', 'annotation_label_match_pct']\n",
    "    print(f'proportion of <{visual_word_set_name}> word matches for labels:\\n{pct_word_matches}')"
   ]
  },
  {
   "cell_type": "markdown",
   "metadata": {},
   "source": [
    "Overall, the annotations tend to have about the rate of color words as the labels, but the annotations also have fewer size and number words than the labels."
   ]
  },
  {
   "cell_type": "markdown",
   "metadata": {},
   "source": [
    "What are some example questions where the label contains a visual word but the annotations do not?"
   ]
  },
  {
   "cell_type": "code",
   "execution_count": 46,
   "metadata": {
    "scrolled": true
   },
   "outputs": [
    {
     "name": "stdout",
     "output_type": "stream",
     "text": [
      "*~*~*~* testing word set color *~*~*~*\n",
      "caption=<A red hot piece of bent steel is being formed with a metal sledge hammer on the end of a  steel table.>\n",
      "label=<A red hot piece> has matches <{'red'}>\n",
      "annotations do not have matches: <[['A horseshoe', 'A shoe', 'An arch', 'A U-shape', 'An object'], ['A piece', 'A horseshoe'], ['a rod', 'a segment'], ['hot iron'], ['A large are', 'A big area'], ['A piece', 'A long piece', 'A hot piece'], ['A piece', 'A rod', 'A chunk'], ['A piece', 'A part'], ['A piece', 'A heated piece']]>\n",
      "---------\n",
      "caption=<A gir lis trying to stitching up the black and white knitting kit with a knitting needle.>\n",
      "label=<the black and white knitting kit> has matches <{'white', 'black'}>\n",
      "annotations do not have matches: <[['a scarf', 'a line on a scarf'], ['a piece of clothing', 'some cloth'], ['a scarf', 'her scarf'], ['crochet', 'string', 'thread'], ['a scarf', 'some fabric']]>\n",
      "---------\n",
      "caption=<A man is using a strainer to strain a black grainy substance, while music is playing and a little boy is talking.>\n",
      "label=<a black grainy substance> has matches <{'black'}>\n",
      "annotations do not have matches: <[['coffee', 'beans', 'coffee beans', 'greaseballs', 'brilliatine'], ['beans', 'espresso', 'coffee'], ['coffee beans', 'ground coffee']]>\n",
      "---------\n",
      "*~*~*~* testing word set size *~*~*~*\n",
      "caption=<Two little boys sword fight with wooden sticks and swords.>\n",
      "label=<Two little boys> has matches <{'little'}>\n",
      "annotations do not have matches: <[['Two swordsmen', 'A man and a child', 'A boy and a person', 'An adult and a kid'], ['A boy', 'A kid', 'A child', 'A son'], ['children', 'kids'], [\"Child's\", \"Youngster's\"], ['A father and son']]>\n",
      "---------\n",
      "caption=<A little baby is sitting still while making baby noises.>\n",
      "label=<A little baby> has matches <{'little'}>\n",
      "annotations do not have matches: <[['a shirtless baby', 'a baby boy', 'a bald baby', 'baby with no shirt', 'baby with red diaper'], ['The baby', 'The child'], ['a baby', 'an infant'], ['A baby', 'A baby boy'], ['A baby', 'A toddler', 'A child', 'A kid', 'A youngster']]>\n",
      "---------\n",
      "caption=<Workers are excavating a large multiple dig site looking for treasures.>\n",
      "label=<a large multiple dig site> has matches <{'large'}>\n",
      "annotations do not have matches: <[['ground', 'dirt'], ['bones', 'remains', 'artifacts'], ['the ground', 'the dirt', 'a site', 'a dig'], ['the land', 'dirt']]>\n",
      "---------\n",
      "caption=<Two boys playing table tennis inside of a small room.>\n",
      "label=<a small room> has matches <{'small'}>\n",
      "annotations do not have matches: <[['a garage', 'a basement'], ['a basement', 'their basement', 'their home', 'their house', 'a house', 'a rec room', 'a recreational room', 'a rec center', 'a recreational center'], ['a room'], ['the garage', 'their home'], ['a garage', 'a room'], ['a room', 'a basement']]>\n",
      "---------\n",
      "caption=<A little boy walks a very small do that takes off running.>\n",
      "label=<a very small do> has matches <{'small'}>\n",
      "annotations do not have matches: <[['a dog', 'a puppy', 'a wolf creature'], ['a dog', 'a puppy'], ['his dog', 'his puppy'], ['a dog', 'a puppy', 'a chihuahua', 'a pup', 'a doggy'], ['his dog', 'his pet']]>\n",
      "---------\n",
      "caption=<A person remote controlling a small robotic vehicle in a small track.>\n",
      "label=<a small robotic vehicle> has matches <{'small'}>\n",
      "annotations do not have matches: <[['a car', 'a sail', 'a land sail', 'a remote control land sail'], ['a car', 'a machine', 'a cart'], ['a remote control car', 'remote controlled toy'], ['a land sail', 'a sail car', 'an R/C car', 'a radio controlled car', 'a radio controlled sailing car'], ['a boat', 'a toy']]>\n",
      "---------\n",
      "caption=<An open air gym shows a large group of women particpating in a dance or excercise class.>\n",
      "label=<a large group> has matches <{'large'}>\n",
      "annotations do not have matches: <[['a class', 'a group', 'a crowd', 'a mass'], ['a group', 'a class', 'a gaggle'], ['a group', 'a set', 'a bunch'], ['a lot', 'a plethora', 'tens'], ['class', 'team'], ['a group', 'lots'], ['a group', 'a multitude']]>\n",
      "---------\n",
      "caption=<A Policeman outside directing traffic on a busy street in a large city having a great time doing it, even showing off with his actions.>\n",
      "label=<a large city> has matches <{'large'}>\n",
      "annotations do not have matches: <[['the rain', 'the cold'], ['town', 'the city'], ['peak hours', 'heavy traffic'], ['a busy city'], ['the cold', 'the city'], ['daylight', 'a city', 'an intersection', 'rush hour', 'the daytime'], ['the rain', 'the city', 'an intersection', 'downtown'], ['city', 'intersection'], ['NYC', 'New York']]>\n",
      "---------\n",
      "caption=<Demonstration and narration on the proper way to use a large knife to cut a carrot.>\n",
      "label=<a large knife> has matches <{'large'}>\n",
      "annotations do not have matches: <[['A knife', 'A utensil'], ['a knife', 'a blade'], ['a knife', \"a chef's knife\", 'a sharp knife'], ['a knife', 'knives', 'cutting utensils', 'a blade', 'a kitchen knife'], ['a knife', 'a razor'], ['a knife', \"a chef's knife\", 'a peeler']]>\n",
      "---------\n",
      "caption=<A person is sitting in front of the camera and is blowing a large bubble gum.>\n",
      "label=<a large bubble gum> has matches <{'large'}>\n",
      "annotations do not have matches: <[['gum', 'bubbles', 'bubble gum', 'a bubble', 'chewing gum'], ['bubbles', 'gum bubbles'], ['bubbles', 'bubblegum'], ['bubbles', 'gum'], ['bubbles', 'gum'], ['a chewing gum', 'candy'], ['bubble gum', 'candy', 'chewing gum']]>\n",
      "---------\n",
      "*~*~*~* testing word set number *~*~*~*\n",
      "caption=<A female stands in a bar with a table with three wine glasses on it and she shows how to open a bottle of wine.>\n",
      "label=<three wine glasses> has matches <{'three'}>\n",
      "annotations do not have matches: <[['wine glasses', 'glasses', 'cups', 'napkins', 'utensils', 'a tablecloth'], ['dishes', 'plates'], ['glasses', 'wine glasses', 'dishes', 'plates', 'silverwear'], ['glasses', 'a table cloth'], ['wine glasass', 'large glasses', 'glasses for wine', 'drinking glasses', 'empty glasses'], ['glasses', 'chairs'], ['wine', 'alcohol']]>\n",
      "---------\n",
      "caption=<Several people are sitting in a church, listening to a pastor speak.>\n",
      "label=<Several people> has matches <{'several'}>\n",
      "annotations do not have matches: <[['People', 'Church guests', 'Some individuals', 'Some people in chairs', 'Some people sitting faced towards the podium'], ['people', 'christians'], ['A group of people', 'People'], ['people', 'congregation'], ['People', 'Patrons', 'Religious people', 'Churchgoers'], ['People', 'Believers', 'Followers', 'Supporters'], ['People'], ['People', 'churchgoers', 'members', 'The community', 'Patrons']]>\n",
      "---------\n",
      "caption=<A person peels back and then proceeds to fold away at several layers of fabric.>\n",
      "label=<several layers> has matches <{'several'}>\n",
      "annotations do not have matches: <[['top corner', 'top right corner'], ['a piece', 'an object made of'], ['piece', 'the corners']]>\n",
      "---------\n",
      "caption=<A heavily muscled man demonstrates working out with two large barbells.>\n",
      "label=<two large barbells> has matches <{'two'}>\n",
      "annotations do not have matches: <[['a set of dumbells', 'himself'], ['weights', 'large hand weights'], ['dumbbells', 'weights'], ['weights', 'dumbbells', 'his arms', 'his shoulders'], ['weights', 'dumbells']]>\n",
      "---------\n"
     ]
    }
   ],
   "source": [
    "## get aligned/valid data\n",
    "valid_label_tokens = list(map(lambda x: tokenize_answer_to_compute_metrics(x['label_norm']), valid_annotated_data))\n",
    "valid_annotation_label_tokens = [[tokenize_answer_to_compute_metrics(z) for y in x['annotations_norm'] for z in y] for x in valid_annotated_data]\n",
    "# flatten tokens\n",
    "valid_annotation_label_tokens = [[z for y in x for z in y] for x in valid_annotation_label_tokens]\n",
    "sample_size = 10\n",
    "for visual_word_set, visual_word_set_name in zip(visual_word_sets, visual_word_set_names):\n",
    "    print(f'*~*~*~* testing word set {visual_word_set_name} *~*~*~*')\n",
    "    label_word_matches = list(map(lambda x: set(x) & visual_word_set, valid_label_tokens))\n",
    "    annotation_label_word_matches = list(map(lambda x: set(x) & visual_word_set, valid_annotation_label_tokens))\n",
    "    sample_ctr = 0\n",
    "    for data_i, label_word_matches_i, annotation_label_word_matches_i in zip(valid_annotated_data, label_word_matches, annotation_label_word_matches):\n",
    "        if(len(label_word_matches_i) > 0 and len(annotation_label_word_matches_i) == 0):\n",
    "            print(f'caption=<{data_i[\"caption\"]}>')\n",
    "            print(f'label=<{data_i[\"label\"]}> has matches <{label_word_matches_i}>')\n",
    "            print(f'annotations do not have matches: <{data_i[\"additional_answers\"]}>')\n",
    "            print('---------')\n",
    "            sample_ctr += 1\n",
    "            if(sample_ctr >= sample_size):\n",
    "                break"
   ]
  },
  {
   "cell_type": "markdown",
   "metadata": {},
   "source": [
    "- Color: the mismatches are due to highly specific captions, no necessary information being conveyed by the color.\n",
    "- Size: the mismatches are due to annotators focusing more on paraphrases for the noun (`class`, `crowd`, `mass`) and different aspects of the scene (`the rain`, `the city`).\n",
    "- Number: the mismatches are due to annotators focusing more on paraphrases for the noun (`people`, `believers`, `patrons`) and different aspects of the scene (`plates`, `dishes`, `glasses`)."
   ]
  },
  {
   "cell_type": "markdown",
   "metadata": {},
   "source": [
    "### Syntactic complexity\n",
    "Let's look at the relative complexity of the NPs provided by the annotations.\n",
    "\n",
    "We'll use `spacy` for parsing."
   ]
  },
  {
   "cell_type": "code",
   "execution_count": 48,
   "metadata": {
    "scrolled": true
   },
   "outputs": [
    {
     "name": "stdout",
     "output_type": "stream",
     "text": [
      "this is a test sentence with a complicated noun that has a lot of extra information\n"
     ]
    }
   ],
   "source": [
    "import spacy\n",
    "nlp_pipeline = spacy.load('en_core_web_sm')\n",
    "test_text = 'this is a test sentence with a complicated noun that has a lot of extra information'\n",
    "test_text_parse = nlp_pipeline(test_text)\n",
    "print(test_text_parse)"
   ]
  },
  {
   "cell_type": "code",
   "execution_count": 57,
   "metadata": {},
   "outputs": [
    {
     "name": "stdout",
     "output_type": "stream",
     "text": [
      "a complicated noun that has a lot of extra information\n"
     ]
    }
   ],
   "source": [
    "import sys\n",
    "if('..' not in sys.path):\n",
    "    sys.path.append('..')\n",
    "from lqam.core.noun_phrases import is_phrase\n",
    "def extract_noun_subtree(noun, start_idx, parse):\n",
    "    noun_tokens = []\n",
    "    # get span\n",
    "    end_idx = start_idx + len(noun)\n",
    "    subtree = parse.char_span(start_idx, end_idx)\n",
    "    if(subtree is not None and is_phrase(subtree)):\n",
    "        return subtree\n",
    "    else:\n",
    "        return ''\n",
    "#     for token in tokens:\n",
    "# #         print(f'token = {token}')\n",
    "#         if(token.idx>=start_idx):\n",
    "#             if(len(noun) > 0):\n",
    "#                 # remove token string from noun, add token to list\n",
    "#                 token_len = len(token)\n",
    "#                 token_str = noun[:token_len]\n",
    "#                 noun = noun[token_len:].strip()\n",
    "#                 noun_tokens.append(token)\n",
    "# #                 print(f'updated noun = {noun}')\n",
    "#             else:\n",
    "#                 break\n",
    "test_noun = 'a complicated noun that has a lot of extra information'\n",
    "start_idx = test_text.index(test_noun)\n",
    "test_noun_subtree = extract_noun_subtree(test_noun, start_idx, test_text_parse)\n",
    "print(test_noun_subtree)"
   ]
  },
  {
   "cell_type": "code",
   "execution_count": 52,
   "metadata": {},
   "outputs": [],
   "source": [
    "## get start index\n",
    "mask_token = '_____'\n",
    "for data_i in annotated_data:\n",
    "    data_i.update({'mask_start_idx' : data_i['masked_caption'].index(mask_token)})\n",
    "assert annotated_data[0]['mask_start_idx'] == 53"
   ]
  },
  {
   "cell_type": "code",
   "execution_count": 58,
   "metadata": {
    "scrolled": true
   },
   "outputs": [
    {
     "name": "stdout",
     "output_type": "stream",
     "text": [
      "processed 0 data\n",
      "processed 100 data\n",
      "processed 200 data\n",
      "processed 300 data\n",
      "processed 400 data\n",
      "processed 500 data\n",
      "processed 600 data\n",
      "processed 700 data\n",
      "processed 800 data\n",
      "processed 900 data\n"
     ]
    }
   ],
   "source": [
    "# parse all possible sentences based on annotations, generate sub-trees\n",
    "def parse_extract_noun_subtree(mask_sent, noun, nlp_pipeline, start_idx, mask_token='_____'):\n",
    "    sent = mask_sent.replace(mask_token, noun)\n",
    "    parse = nlp_pipeline(sent)\n",
    "    subtree = extract_noun_subtree(noun, start_idx, parse)\n",
    "    return subtree\n",
    "def extract_all_annotation_subtrees(data, nlp_pipeline):\n",
    "    mask_token = '_____'\n",
    "    for i, data_i in enumerate(data):\n",
    "        start_idx_i = data_i['mask_start_idx']\n",
    "        mask_sent_i = data_i['masked_caption']\n",
    "        # get subtree for label\n",
    "        label_i = data_i['label']\n",
    "        label_subtree_i = parse_extract_noun_subtree(mask_sent_i, label_i, nlp_pipeline, start_idx_i, mask_token=mask_token)\n",
    "        data_i['label_subtree'] = label_subtree_i\n",
    "        annotation_label_subtrees = []\n",
    "        for annotation_label_list_j in data_i['additional_answers']:\n",
    "            annotation_label_subtrees_j = []\n",
    "            for annotation_label_k in annotation_label_list_j:\n",
    "#                 sent_k = mask_sent_i.replace(mask_token, annotation_label_k)\n",
    "#                 parse_k = nlp_pipeline(sent_k)\n",
    "#                 annotation_subtree_k = extract_noun_subtree(annotation_label_k, start_idx_i, parse_k)\n",
    "                annotation_subtree_k = parse_extract_noun_subtree(mask_sent_i, annotation_label_k, nlp_pipeline, start_idx_i, mask_token=mask_token)\n",
    "                annotation_label_subtrees_j.append(annotation_subtree_k)\n",
    "            annotation_label_subtrees.append(annotation_label_subtrees_j)\n",
    "        data_i['annotation_subtrees'] = annotation_label_subtrees\n",
    "        if(i % 100 == 0):\n",
    "            print(f'processed {i} data')\n",
    "    return data\n",
    "annotated_data = extract_all_annotation_subtrees(annotated_data, nlp_pipeline)"
   ]
  },
  {
   "cell_type": "code",
   "execution_count": 59,
   "metadata": {
    "scrolled": true
   },
   "outputs": [
    {
     "data": {
      "text/plain": [
       "{'video_id': 'cfBtVPEwqIo',\n",
       " 'video_start_time': 5,\n",
       " 'video_end_time': 15,\n",
       " 'caption': 'In a gym with someone spotting him, a man is lifting weights performing squats in a squat rack.',\n",
       " 'masked_caption': 'In a gym with someone spotting him, a man is lifting _____ performing squats in a squat rack.',\n",
       " 'label': 'weights',\n",
       " 'additional_answers': [['a weight', 'some weights', 'a squat bar'],\n",
       "  ['weight', 'a bar'],\n",
       "  ['weights', 'a heavy load'],\n",
       "  ['weights', 'a lot of weight'],\n",
       "  ['weights', 'a barbell', 'a weight'],\n",
       "  ['weights', '405 lb']],\n",
       " 'label_norm': 'weights',\n",
       " 'annotations_norm': [['weight', 'some weights', 'squat bar'],\n",
       "  ['weight', 'bar'],\n",
       "  ['weights', 'heavy load'],\n",
       "  ['weights', 'lot of weight'],\n",
       "  ['weights', 'barbell', 'weight'],\n",
       "  ['weights', '405 lb']],\n",
       " 'mask_start_idx': 53,\n",
       " 'label_subtree': weights,\n",
       " 'annotation_subtrees': [[a weight, some weights, ''],\n",
       "  [weight, a bar],\n",
       "  [weights, a heavy load],\n",
       "  [weights, ''],\n",
       "  [weights, a barbell, a weight],\n",
       "  [weights, '']]}"
      ]
     },
     "execution_count": 59,
     "metadata": {},
     "output_type": "execute_result"
    }
   ],
   "source": [
    "annotated_data[0]"
   ]
  },
  {
   "cell_type": "markdown",
   "metadata": {},
   "source": [
    "How many labels have extra descriptive information?"
   ]
  },
  {
   "cell_type": "code",
   "execution_count": 65,
   "metadata": {},
   "outputs": [],
   "source": [
    "from collections import defaultdict\n",
    "def has_descriptor(subtree):\n",
    "    # adjective\n",
    "    # get head noun\n",
    "    head_noun = subtree.root\n",
    "    subtree_token_ids = list(map(lambda x: x.idx, subtree))\n",
    "#     for token in subtree:\n",
    "#         token_ancestors = list(token.ancestors)\n",
    "#         ancestor_ids = list(map(lambda x: x.idx, token_ancestors))\n",
    "#         if(len(set(ancestor_ids) & set(subtree_token_ids)) == 0):\n",
    "#             head_noun = token\n",
    "#             break\n",
    "    # get immediate head noun children\n",
    "    head_noun_children = list(filter(lambda x: x.idx in subtree_token_ids, list(head_noun.children)))\n",
    "    has_descriptor = any(list(map(lambda x: x.pos_=='ADJ', head_noun_children)))\n",
    "    return has_descriptor\n",
    "# def has_subclause(subtree):\n",
    "#     # has PREP or COORD\n",
    "#     pass"
   ]
  },
  {
   "cell_type": "code",
   "execution_count": 66,
   "metadata": {},
   "outputs": [],
   "source": [
    "test_subtree_1 = annotated_data[0]['annotation_subtrees'][2][1] # true \"a heavy load\"\n",
    "test_subtree_2 = annotated_data[0]['annotation_subtrees'][1][1] # false \"a bar\"\n",
    "assert has_descriptor(test_subtree_1)\n",
    "assert not has_descriptor(test_subtree_2)"
   ]
  },
  {
   "cell_type": "code",
   "execution_count": 69,
   "metadata": {
    "scrolled": true
   },
   "outputs": [],
   "source": [
    "## get descriptors for everything\n",
    "from spacy.tokens.span import Span\n",
    "annotation_descriptors = [[[type(z) is Span and has_descriptor(z) for z in y] for y in x['annotation_subtrees']] for x in annotated_data]\n",
    "label_descriptors = [type(x['label_subtree']) is Span and has_descriptor(x['label_subtree']) for x in annotated_data]"
   ]
  },
  {
   "cell_type": "markdown",
   "metadata": {},
   "source": [
    "What are some example labels and annotations with adjectives?"
   ]
  },
  {
   "cell_type": "code",
   "execution_count": 71,
   "metadata": {
    "scrolled": true
   },
   "outputs": [
    {
     "name": "stdout",
     "output_type": "stream",
     "text": [
      "sample labels with descriptor information\n",
      "a snowy outdoor environment\n",
      "a blue coat\n",
      "white paint\n",
      "a large professional pool\n",
      "Two young boys\n",
      "a heavy weight\n",
      "a plastic sword\n",
      "a makeshift helmet\n",
      "a back twist\n",
      "a large hanging cymbal\n",
      "sample annotations with descriptor information\n",
      "great speed\n",
      "an industrial mower\n",
      "A young person\n",
      "classical music\n",
      "brown leaves\n",
      "an input device\n",
      "a plastic hoop\n",
      "gymnastic moves\n",
      "A young man\n",
      "musical performers\n"
     ]
    }
   ],
   "source": [
    "## labels\n",
    "import numpy as np\n",
    "np.random.seed(123)\n",
    "sample_size = 10\n",
    "label_descriptor_idx = np.where(np.array(label_descriptors))[0]\n",
    "sample_label_descriptor_idx = np.random.choice(label_descriptor_idx, sample_size, replace=False)\n",
    "print('sample labels with descriptor information')\n",
    "for sample_idx_i in sample_label_descriptor_idx:\n",
    "    print(annotated_data[sample_idx_i]['label_subtree'])\n",
    "## annotations\n",
    "sample_annotation_descriptor_idx = []\n",
    "for i, data_i in enumerate(annotation_descriptors):\n",
    "    for j, data_j in enumerate(data_i):\n",
    "        for k, data_k in enumerate(data_j):\n",
    "            if(data_k):\n",
    "                sample_annotation_descriptor_idx.append([i,j,k])\n",
    "sample_annotation_descriptor_idx = np.array(sample_annotation_descriptor_idx)\n",
    "np.random.shuffle(sample_annotation_descriptor_idx)\n",
    "sample_annotation_descriptor_idx = sample_annotation_descriptor_idx[:sample_size]\n",
    "print('sample annotations with descriptor information')\n",
    "for i,j,k in sample_annotation_descriptor_idx:\n",
    "    print(annotated_data[i]['annotation_subtrees'][j][k])\n",
    "# valid_annotation_descriptors = [[np.where(y)[0] for y in x] for x in annotation_descriptors]\n",
    "# sample_annotation_descriptor_idx = np.random.choice(np.where([any([len(y) > 0 for y in x]) for x in valid_annotation_descriptors]),\n",
    "#                                                     sample_size, replace=False)\n"
   ]
  },
  {
   "cell_type": "markdown",
   "metadata": {},
   "source": [
    "The labels and annotations seem to use mostly visual adjectives (`blue`, `snowy`, `plastic`, `large`) as well as some subjective ones (`great`, `young`, `makeshift`, `classical`)."
   ]
  },
  {
   "cell_type": "markdown",
   "metadata": {},
   "source": [
    "Do labels and annotations tend to use the same adjectives?"
   ]
  },
  {
   "cell_type": "code",
   "execution_count": 72,
   "metadata": {
    "scrolled": true
   },
   "outputs": [
    {
     "name": "stdout",
     "output_type": "stream",
     "text": [
      "top descriptor adjectives for labels\n"
     ]
    },
    {
     "data": {
      "text/plain": [
       "young        21\n",
       "large        16\n",
       "little        8\n",
       "small         6\n",
       "white         5\n",
       "various       5\n",
       "other         4\n",
       "long          4\n",
       "different     4\n",
       "indoor        3\n",
       "black         2\n",
       "yellow        2\n",
       "teenage       2\n",
       "high          2\n",
       "wooden        2\n",
       "human         2\n",
       "older         2\n",
       "hot           2\n",
       "several       2\n",
       "red           2\n",
       "dtype: int64"
      ]
     },
     "metadata": {},
     "output_type": "display_data"
    },
    {
     "name": "stdout",
     "output_type": "stream",
     "text": [
      "top descriptor adjectives for annotations\n"
     ]
    },
    {
     "data": {
      "text/plain": [
       "young        167\n",
       "little        55\n",
       "black         54\n",
       "white         46\n",
       "large         46\n",
       "small         38\n",
       "other         34\n",
       "older         28\n",
       "red           27\n",
       "long          25\n",
       "sharp         24\n",
       "old           22\n",
       "electric      22\n",
       "heavy         19\n",
       "blue          19\n",
       "musical       18\n",
       "high          17\n",
       "plastic       16\n",
       "different     15\n",
       "big           15\n",
       "dtype: int64"
      ]
     },
     "metadata": {},
     "output_type": "display_data"
    }
   ],
   "source": [
    "import pandas as pd\n",
    "sample_size = 20\n",
    "## labels\n",
    "label_descriptors_combined = []\n",
    "for has_descriptor_i, data_i in zip(label_descriptors, annotated_data):\n",
    "    if(has_descriptor_i):\n",
    "        descriptors_i = list(filter(lambda x: x.pos_=='ADJ', data_i['label_subtree']))\n",
    "        descriptors_i = list(map(lambda x: x.text.lower(), descriptors_i))\n",
    "        label_descriptors_combined.extend(descriptors_i)\n",
    "label_descriptor_count = pd.Series(label_descriptors_combined).value_counts()\n",
    "print('top descriptor adjectives for labels')\n",
    "display(label_descriptor_count.head(sample_size))\n",
    "## annotations\n",
    "annotation_descriptors_combined = []\n",
    "for has_descriptor_i, data_i in zip(annotation_descriptors, annotated_data):\n",
    "    for has_descriptor_j, data_j in zip(has_descriptor_i, data_i['annotation_subtrees']):\n",
    "        for has_descriptor_k, data_k in zip(has_descriptor_j, data_j):\n",
    "            if(has_descriptor_k):\n",
    "                descriptors_k = list(filter(lambda x: x.pos_=='ADJ', data_k))\n",
    "                descriptors_k = list(map(lambda x: x.text.lower(), descriptors_k))\n",
    "                annotation_descriptors_combined.extend(descriptors_k)\n",
    "annotation_descriptor_count = pd.Series(annotation_descriptors_combined).value_counts()\n",
    "print('top descriptor adjectives for annotations')\n",
    "display(annotation_descriptor_count.head(sample_size))"
   ]
  },
  {
   "cell_type": "markdown",
   "metadata": {},
   "source": [
    "- Descriptor adjectives for label phrases include age, size, number words.\n",
    "- Descriptor adjectives for annotation phrases include more color and situation-specific (`electric`, `musical`) words."
   ]
  },
  {
   "cell_type": "markdown",
   "metadata": {},
   "source": [
    "Do annotations tend to use more adjectives than original labels?"
   ]
  },
  {
   "cell_type": "code",
   "execution_count": 74,
   "metadata": {
    "scrolled": true
   },
   "outputs": [
    {
     "name": "stdout",
     "output_type": "stream",
     "text": [
      "true labels have 14.894% descriptor use\n",
      "annotation labels have 8.706% descriptor use\n",
      "rate of descriptor use is different with stat=42.831 (p=5.967E-11)\n"
     ]
    }
   ],
   "source": [
    "label_descriptor_use_rate = sum(label_descriptors) / len(annotated_data)\n",
    "total_annotation_descriptors_combined = sum([sum([len(y) for y in x['additional_answers']]) for x in annotated_data])\n",
    "annotation_descriptor_use_rate = len(annotation_descriptors_combined) / total_annotation_descriptors_combined\n",
    "print(f'true labels have %.3f%% descriptor use'%(label_descriptor_use_rate*100))\n",
    "print(f'annotation labels have %.3f%% descriptor use'%(annotation_descriptor_use_rate*100))\n",
    "## is this significant?\n",
    "from scipy.stats import chi2_contingency\n",
    "contingency_table = [\n",
    "    [sum(label_descriptors), len(annotated_data) - sum(label_descriptors)], # true label\n",
    "    [len(annotation_descriptors_combined), total_annotation_descriptors_combined - len(annotation_descriptors_combined)], # annotation label\n",
    "]\n",
    "chi2, p_val, dof, expected = chi2_contingency(contingency_table)\n",
    "print('rate of descriptor use is different with stat=%.3f (p=%.3E)'%(chi2, p_val))"
   ]
  },
  {
   "cell_type": "markdown",
   "metadata": {},
   "source": [
    "OK! The labels tend to use descriptors at a significantly higher rate than the annotations."
   ]
  },
  {
   "cell_type": "markdown",
   "metadata": {},
   "source": [
    "## POS distribution\n",
    "Let's look at the overall POS distribution in the labels and annotations."
   ]
  },
  {
   "cell_type": "code",
   "execution_count": 91,
   "metadata": {},
   "outputs": [
    {
     "data": {
      "text/html": [
       "<div>\n",
       "<style scoped>\n",
       "    .dataframe tbody tr th:only-of-type {\n",
       "        vertical-align: middle;\n",
       "    }\n",
       "\n",
       "    .dataframe tbody tr th {\n",
       "        vertical-align: top;\n",
       "    }\n",
       "\n",
       "    .dataframe thead th {\n",
       "        text-align: right;\n",
       "    }\n",
       "</style>\n",
       "<table border=\"1\" class=\"dataframe\">\n",
       "  <thead>\n",
       "    <tr style=\"text-align: right;\">\n",
       "      <th></th>\n",
       "      <th>POS</th>\n",
       "      <th>count</th>\n",
       "      <th>data_type</th>\n",
       "    </tr>\n",
       "  </thead>\n",
       "  <tbody>\n",
       "    <tr>\n",
       "      <th>0</th>\n",
       "      <td>ADJ</td>\n",
       "      <td>0.084242</td>\n",
       "      <td>label</td>\n",
       "    </tr>\n",
       "    <tr>\n",
       "      <th>1</th>\n",
       "      <td>ADP</td>\n",
       "      <td>0.000991</td>\n",
       "      <td>label</td>\n",
       "    </tr>\n",
       "    <tr>\n",
       "      <th>2</th>\n",
       "      <td>ADV</td>\n",
       "      <td>0.005451</td>\n",
       "      <td>label</td>\n",
       "    </tr>\n",
       "    <tr>\n",
       "      <th>3</th>\n",
       "      <td>AUX</td>\n",
       "      <td>0.000496</td>\n",
       "      <td>label</td>\n",
       "    </tr>\n",
       "    <tr>\n",
       "      <th>4</th>\n",
       "      <td>CCONJ</td>\n",
       "      <td>0.000496</td>\n",
       "      <td>label</td>\n",
       "    </tr>\n",
       "  </tbody>\n",
       "</table>\n",
       "</div>"
      ],
      "text/plain": [
       "     POS     count data_type\n",
       "0    ADJ  0.084242     label\n",
       "1    ADP  0.000991     label\n",
       "2    ADV  0.005451     label\n",
       "3    AUX  0.000496     label\n",
       "4  CCONJ  0.000496     label"
      ]
     },
     "metadata": {},
     "output_type": "display_data"
    }
   ],
   "source": [
    "import pandas as pd\n",
    "def get_POS_counts(subtree):\n",
    "    return pd.Series([x.pos_ for x in subtree]).value_counts()\n",
    "label_POS_counts = pd.concat(list(map(lambda x: get_POS_counts(x['label_subtree']), annotated_data)), axis=1).fillna(0.).sum(axis=1)\n",
    "annotation_POS_counts = pd.concat([get_POS_counts(z) for x in annotated_data for y in x['annotation_subtrees'] for z in y if type(z) is Span], axis=1).fillna(0.).sum(axis=1)\n",
    "## normalize values\n",
    "label_POS_counts = label_POS_counts / label_POS_counts.sum()\n",
    "annotation_POS_counts = annotation_POS_counts / annotation_POS_counts.sum()\n",
    "# combine for plotting\n",
    "combined_POS_counts = pd.concat([\n",
    "    label_POS_counts.reset_index(name='count').rename(columns={'index' : 'POS'}).assign(**{'data_type' : 'label'}),\n",
    "    annotation_POS_counts.reset_index(name='count').rename(columns={'index' : 'POS'}).assign(**{'data_type' : 'annotation'}),\n",
    "])\n",
    "display(combined_POS_counts.head())"
   ]
  },
  {
   "cell_type": "code",
   "execution_count": 96,
   "metadata": {
    "scrolled": true
   },
   "outputs": [
    {
     "data": {
      "image/png": "[encoded data removed]",
      "text/plain": [
       "<Figure size 576x576 with 1 Axes>"
      ]
     },
     "metadata": {
      "needs_background": "light"
     },
     "output_type": "display_data"
    }
   ],
   "source": [
    "## plot combined\n",
    "import seaborn as sns\n",
    "import matplotlib\n",
    "%matplotlib inline\n",
    "import matplotlib.pyplot as plt\n",
    "plt.figure(figsize=(8, 8))\n",
    "sns.barplot(x='count', y='POS', hue='data_type', data=combined_POS_counts)\n",
    "plt.legend(loc='lower right')\n",
    "plt.xscale('log')\n",
    "plt.ylabel('% frequency')\n",
    "plt.show()"
   ]
  },
  {
   "cell_type": "markdown",
   "metadata": {},
   "source": [
    "What are the top words in each category?"
   ]
  },
  {
   "cell_type": "code",
   "execution_count": 106,
   "metadata": {},
   "outputs": [],
   "source": [
    "## get POS/word counts\n",
    "label_POS_word_counts = []\n",
    "annotation_POS_word_counts = []\n",
    "for data_i in annotated_data:\n",
    "    label_POS_word_counts.extend([(x.text.lower(), x.pos_) for x in data_i['label_subtree']])\n",
    "    for subtrees_j in data_i['annotation_subtrees']:\n",
    "        for subtree_k in subtrees_j:\n",
    "            if(type(subtree_k) is Span):\n",
    "                annotation_POS_word_counts.extend([(x.text.lower(), x.pos_) for x in subtree_k])\n",
    "## get aggregate counts!!\n",
    "label_POS_word_counts = pd.DataFrame(label_POS_word_counts, columns=['word', 'POS'])\n",
    "annotation_POS_word_counts = pd.DataFrame(annotation_POS_word_counts, columns=['word', 'POS'])\n",
    "label_POS_word_counts = label_POS_word_counts.groupby('POS').apply(lambda x: x.loc[:, 'word'].value_counts()).reset_index(name='count').rename(columns={'level_1' : 'word'})\n",
    "annotation_POS_word_counts = annotation_POS_word_counts.groupby('POS').apply(lambda x: x.loc[:, 'word'].value_counts()).reset_index(name='count').rename(columns={'level_1' : 'word'})"
   ]
  },
  {
   "cell_type": "code",
   "execution_count": 113,
   "metadata": {},
   "outputs": [
    {
     "name": "stdout",
     "output_type": "stream",
     "text": [
      "POS tag ADJ\n",
      "label word counts\n"
     ]
    },
    {
     "data": {
      "text/html": [
       "<div>\n",
       "<style scoped>\n",
       "    .dataframe tbody tr th:only-of-type {\n",
       "        vertical-align: middle;\n",
       "    }\n",
       "\n",
       "    .dataframe tbody tr th {\n",
       "        vertical-align: top;\n",
       "    }\n",
       "\n",
       "    .dataframe thead th {\n",
       "        text-align: right;\n",
       "    }\n",
       "</style>\n",
       "<table border=\"1\" class=\"dataframe\">\n",
       "  <thead>\n",
       "    <tr style=\"text-align: right;\">\n",
       "      <th></th>\n",
       "      <th>word</th>\n",
       "      <th>count</th>\n",
       "    </tr>\n",
       "  </thead>\n",
       "  <tbody>\n",
       "    <tr>\n",
       "      <th>0</th>\n",
       "      <td>young</td>\n",
       "      <td>21</td>\n",
       "    </tr>\n",
       "    <tr>\n",
       "      <th>1</th>\n",
       "      <td>large</td>\n",
       "      <td>16</td>\n",
       "    </tr>\n",
       "    <tr>\n",
       "      <th>2</th>\n",
       "      <td>little</td>\n",
       "      <td>8</td>\n",
       "    </tr>\n",
       "    <tr>\n",
       "      <th>3</th>\n",
       "      <td>white</td>\n",
       "      <td>6</td>\n",
       "    </tr>\n",
       "    <tr>\n",
       "      <th>4</th>\n",
       "      <td>small</td>\n",
       "      <td>6</td>\n",
       "    </tr>\n",
       "    <tr>\n",
       "      <th>5</th>\n",
       "      <td>various</td>\n",
       "      <td>5</td>\n",
       "    </tr>\n",
       "    <tr>\n",
       "      <th>6</th>\n",
       "      <td>other</td>\n",
       "      <td>4</td>\n",
       "    </tr>\n",
       "    <tr>\n",
       "      <th>7</th>\n",
       "      <td>long</td>\n",
       "      <td>4</td>\n",
       "    </tr>\n",
       "    <tr>\n",
       "      <th>8</th>\n",
       "      <td>different</td>\n",
       "      <td>4</td>\n",
       "    </tr>\n",
       "    <tr>\n",
       "      <th>9</th>\n",
       "      <td>black</td>\n",
       "      <td>3</td>\n",
       "    </tr>\n",
       "  </tbody>\n",
       "</table>\n",
       "</div>"
      ],
      "text/plain": [
       "        word  count\n",
       "0      young     21\n",
       "1      large     16\n",
       "2     little      8\n",
       "3      white      6\n",
       "4      small      6\n",
       "5    various      5\n",
       "6      other      4\n",
       "7       long      4\n",
       "8  different      4\n",
       "9      black      3"
      ]
     },
     "metadata": {},
     "output_type": "display_data"
    },
    {
     "name": "stdout",
     "output_type": "stream",
     "text": [
      "annotation word counts\n"
     ]
    },
    {
     "data": {
      "text/html": [
       "<div>\n",
       "<style scoped>\n",
       "    .dataframe tbody tr th:only-of-type {\n",
       "        vertical-align: middle;\n",
       "    }\n",
       "\n",
       "    .dataframe tbody tr th {\n",
       "        vertical-align: top;\n",
       "    }\n",
       "\n",
       "    .dataframe thead th {\n",
       "        text-align: right;\n",
       "    }\n",
       "</style>\n",
       "<table border=\"1\" class=\"dataframe\">\n",
       "  <thead>\n",
       "    <tr style=\"text-align: right;\">\n",
       "      <th></th>\n",
       "      <th>word</th>\n",
       "      <th>count</th>\n",
       "    </tr>\n",
       "  </thead>\n",
       "  <tbody>\n",
       "    <tr>\n",
       "      <th>0</th>\n",
       "      <td>young</td>\n",
       "      <td>168</td>\n",
       "    </tr>\n",
       "    <tr>\n",
       "      <th>1</th>\n",
       "      <td>black</td>\n",
       "      <td>67</td>\n",
       "    </tr>\n",
       "    <tr>\n",
       "      <th>2</th>\n",
       "      <td>white</td>\n",
       "      <td>57</td>\n",
       "    </tr>\n",
       "    <tr>\n",
       "      <th>3</th>\n",
       "      <td>little</td>\n",
       "      <td>55</td>\n",
       "    </tr>\n",
       "    <tr>\n",
       "      <th>4</th>\n",
       "      <td>large</td>\n",
       "      <td>46</td>\n",
       "    </tr>\n",
       "    <tr>\n",
       "      <th>5</th>\n",
       "      <td>small</td>\n",
       "      <td>39</td>\n",
       "    </tr>\n",
       "    <tr>\n",
       "      <th>6</th>\n",
       "      <td>other</td>\n",
       "      <td>37</td>\n",
       "    </tr>\n",
       "    <tr>\n",
       "      <th>7</th>\n",
       "      <td>blue</td>\n",
       "      <td>31</td>\n",
       "    </tr>\n",
       "    <tr>\n",
       "      <th>8</th>\n",
       "      <td>older</td>\n",
       "      <td>28</td>\n",
       "    </tr>\n",
       "    <tr>\n",
       "      <th>9</th>\n",
       "      <td>red</td>\n",
       "      <td>28</td>\n",
       "    </tr>\n",
       "  </tbody>\n",
       "</table>\n",
       "</div>"
      ],
      "text/plain": [
       "     word  count\n",
       "0   young    168\n",
       "1   black     67\n",
       "2   white     57\n",
       "3  little     55\n",
       "4   large     46\n",
       "5   small     39\n",
       "6   other     37\n",
       "7    blue     31\n",
       "8   older     28\n",
       "9     red     28"
      ]
     },
     "metadata": {},
     "output_type": "display_data"
    },
    {
     "name": "stdout",
     "output_type": "stream",
     "text": [
      "POS tag ADP\n",
      "label word counts\n"
     ]
    },
    {
     "data": {
      "text/html": [
       "<div>\n",
       "<style scoped>\n",
       "    .dataframe tbody tr th:only-of-type {\n",
       "        vertical-align: middle;\n",
       "    }\n",
       "\n",
       "    .dataframe tbody tr th {\n",
       "        vertical-align: top;\n",
       "    }\n",
       "\n",
       "    .dataframe thead th {\n",
       "        text-align: right;\n",
       "    }\n",
       "</style>\n",
       "<table border=\"1\" class=\"dataframe\">\n",
       "  <thead>\n",
       "    <tr style=\"text-align: right;\">\n",
       "      <th></th>\n",
       "      <th>word</th>\n",
       "      <th>count</th>\n",
       "    </tr>\n",
       "  </thead>\n",
       "  <tbody>\n",
       "    <tr>\n",
       "      <th>89</th>\n",
       "      <td>out</td>\n",
       "      <td>1</td>\n",
       "    </tr>\n",
       "    <tr>\n",
       "      <th>90</th>\n",
       "      <td>up</td>\n",
       "      <td>1</td>\n",
       "    </tr>\n",
       "  </tbody>\n",
       "</table>\n",
       "</div>"
      ],
      "text/plain": [
       "   word  count\n",
       "89  out      1\n",
       "90   up      1"
      ]
     },
     "metadata": {},
     "output_type": "display_data"
    },
    {
     "name": "stdout",
     "output_type": "stream",
     "text": [
      "annotation word counts\n"
     ]
    },
    {
     "data": {
      "text/html": [
       "<div>\n",
       "<style scoped>\n",
       "    .dataframe tbody tr th:only-of-type {\n",
       "        vertical-align: middle;\n",
       "    }\n",
       "\n",
       "    .dataframe tbody tr th {\n",
       "        vertical-align: top;\n",
       "    }\n",
       "\n",
       "    .dataframe thead th {\n",
       "        text-align: right;\n",
       "    }\n",
       "</style>\n",
       "<table border=\"1\" class=\"dataframe\">\n",
       "  <thead>\n",
       "    <tr style=\"text-align: right;\">\n",
       "      <th></th>\n",
       "      <th>word</th>\n",
       "      <th>count</th>\n",
       "    </tr>\n",
       "  </thead>\n",
       "  <tbody>\n",
       "    <tr>\n",
       "      <th>456</th>\n",
       "      <td>of</td>\n",
       "      <td>264</td>\n",
       "    </tr>\n",
       "    <tr>\n",
       "      <th>457</th>\n",
       "      <td>in</td>\n",
       "      <td>69</td>\n",
       "    </tr>\n",
       "    <tr>\n",
       "      <th>458</th>\n",
       "      <td>with</td>\n",
       "      <td>29</td>\n",
       "    </tr>\n",
       "    <tr>\n",
       "      <th>459</th>\n",
       "      <td>on</td>\n",
       "      <td>21</td>\n",
       "    </tr>\n",
       "    <tr>\n",
       "      <th>460</th>\n",
       "      <td>up</td>\n",
       "      <td>12</td>\n",
       "    </tr>\n",
       "    <tr>\n",
       "      <th>461</th>\n",
       "      <td>for</td>\n",
       "      <td>9</td>\n",
       "    </tr>\n",
       "    <tr>\n",
       "      <th>462</th>\n",
       "      <td>from</td>\n",
       "      <td>5</td>\n",
       "    </tr>\n",
       "    <tr>\n",
       "      <th>463</th>\n",
       "      <td>down</td>\n",
       "      <td>5</td>\n",
       "    </tr>\n",
       "    <tr>\n",
       "      <th>464</th>\n",
       "      <td>out</td>\n",
       "      <td>3</td>\n",
       "    </tr>\n",
       "    <tr>\n",
       "      <th>465</th>\n",
       "      <td>above</td>\n",
       "      <td>3</td>\n",
       "    </tr>\n",
       "  </tbody>\n",
       "</table>\n",
       "</div>"
      ],
      "text/plain": [
       "      word  count\n",
       "456     of    264\n",
       "457     in     69\n",
       "458   with     29\n",
       "459     on     21\n",
       "460     up     12\n",
       "461    for      9\n",
       "462   from      5\n",
       "463   down      5\n",
       "464    out      3\n",
       "465  above      3"
      ]
     },
     "metadata": {},
     "output_type": "display_data"
    },
    {
     "name": "stdout",
     "output_type": "stream",
     "text": [
      "POS tag ADV\n",
      "label word counts\n"
     ]
    },
    {
     "data": {
      "text/html": [
       "<div>\n",
       "<style scoped>\n",
       "    .dataframe tbody tr th:only-of-type {\n",
       "        vertical-align: middle;\n",
       "    }\n",
       "\n",
       "    .dataframe tbody tr th {\n",
       "        vertical-align: top;\n",
       "    }\n",
       "\n",
       "    .dataframe thead th {\n",
       "        text-align: right;\n",
       "    }\n",
       "</style>\n",
       "<table border=\"1\" class=\"dataframe\">\n",
       "  <thead>\n",
       "    <tr style=\"text-align: right;\">\n",
       "      <th></th>\n",
       "      <th>word</th>\n",
       "      <th>count</th>\n",
       "    </tr>\n",
       "  </thead>\n",
       "  <tbody>\n",
       "    <tr>\n",
       "      <th>91</th>\n",
       "      <td>very</td>\n",
       "      <td>4</td>\n",
       "    </tr>\n",
       "    <tr>\n",
       "      <th>92</th>\n",
       "      <td>backflip</td>\n",
       "      <td>1</td>\n",
       "    </tr>\n",
       "    <tr>\n",
       "      <th>93</th>\n",
       "      <td>ornately</td>\n",
       "      <td>1</td>\n",
       "    </tr>\n",
       "    <tr>\n",
       "      <th>94</th>\n",
       "      <td>well</td>\n",
       "      <td>1</td>\n",
       "    </tr>\n",
       "    <tr>\n",
       "      <th>95</th>\n",
       "      <td>curly</td>\n",
       "      <td>1</td>\n",
       "    </tr>\n",
       "    <tr>\n",
       "      <th>96</th>\n",
       "      <td>about</td>\n",
       "      <td>1</td>\n",
       "    </tr>\n",
       "    <tr>\n",
       "      <th>97</th>\n",
       "      <td>extremely</td>\n",
       "      <td>1</td>\n",
       "    </tr>\n",
       "    <tr>\n",
       "      <th>98</th>\n",
       "      <td>back</td>\n",
       "      <td>1</td>\n",
       "    </tr>\n",
       "  </tbody>\n",
       "</table>\n",
       "</div>"
      ],
      "text/plain": [
       "         word  count\n",
       "91       very      4\n",
       "92   backflip      1\n",
       "93   ornately      1\n",
       "94       well      1\n",
       "95      curly      1\n",
       "96      about      1\n",
       "97  extremely      1\n",
       "98       back      1"
      ]
     },
     "metadata": {},
     "output_type": "display_data"
    },
    {
     "name": "stdout",
     "output_type": "stream",
     "text": [
      "annotation word counts\n"
     ]
    },
    {
     "data": {
      "text/html": [
       "<div>\n",
       "<style scoped>\n",
       "    .dataframe tbody tr th:only-of-type {\n",
       "        vertical-align: middle;\n",
       "    }\n",
       "\n",
       "    .dataframe tbody tr th {\n",
       "        vertical-align: top;\n",
       "    }\n",
       "\n",
       "    .dataframe thead th {\n",
       "        text-align: right;\n",
       "    }\n",
       "</style>\n",
       "<table border=\"1\" class=\"dataframe\">\n",
       "  <thead>\n",
       "    <tr style=\"text-align: right;\">\n",
       "      <th></th>\n",
       "      <th>word</th>\n",
       "      <th>count</th>\n",
       "    </tr>\n",
       "  </thead>\n",
       "  <tbody>\n",
       "    <tr>\n",
       "      <th>472</th>\n",
       "      <td>back</td>\n",
       "      <td>10</td>\n",
       "    </tr>\n",
       "    <tr>\n",
       "      <th>473</th>\n",
       "      <td>how</td>\n",
       "      <td>10</td>\n",
       "    </tr>\n",
       "    <tr>\n",
       "      <th>474</th>\n",
       "      <td>very</td>\n",
       "      <td>4</td>\n",
       "    </tr>\n",
       "    <tr>\n",
       "      <th>475</th>\n",
       "      <td>else</td>\n",
       "      <td>4</td>\n",
       "    </tr>\n",
       "    <tr>\n",
       "      <th>476</th>\n",
       "      <td>chalk</td>\n",
       "      <td>4</td>\n",
       "    </tr>\n",
       "    <tr>\n",
       "      <th>477</th>\n",
       "      <td>well</td>\n",
       "      <td>3</td>\n",
       "    </tr>\n",
       "    <tr>\n",
       "      <th>478</th>\n",
       "      <td>bong</td>\n",
       "      <td>3</td>\n",
       "    </tr>\n",
       "    <tr>\n",
       "      <th>479</th>\n",
       "      <td>really</td>\n",
       "      <td>2</td>\n",
       "    </tr>\n",
       "    <tr>\n",
       "      <th>480</th>\n",
       "      <td>backwards</td>\n",
       "      <td>2</td>\n",
       "    </tr>\n",
       "    <tr>\n",
       "      <th>481</th>\n",
       "      <td>shed</td>\n",
       "      <td>2</td>\n",
       "    </tr>\n",
       "  </tbody>\n",
       "</table>\n",
       "</div>"
      ],
      "text/plain": [
       "          word  count\n",
       "472       back     10\n",
       "473        how     10\n",
       "474       very      4\n",
       "475       else      4\n",
       "476      chalk      4\n",
       "477       well      3\n",
       "478       bong      3\n",
       "479     really      2\n",
       "480  backwards      2\n",
       "481       shed      2"
      ]
     },
     "metadata": {},
     "output_type": "display_data"
    },
    {
     "name": "stdout",
     "output_type": "stream",
     "text": [
      "POS tag AUX\n",
      "label word counts\n"
     ]
    },
    {
     "data": {
      "text/html": [
       "<div>\n",
       "<style scoped>\n",
       "    .dataframe tbody tr th:only-of-type {\n",
       "        vertical-align: middle;\n",
       "    }\n",
       "\n",
       "    .dataframe tbody tr th {\n",
       "        vertical-align: top;\n",
       "    }\n",
       "\n",
       "    .dataframe thead th {\n",
       "        text-align: right;\n",
       "    }\n",
       "</style>\n",
       "<table border=\"1\" class=\"dataframe\">\n",
       "  <thead>\n",
       "    <tr style=\"text-align: right;\">\n",
       "      <th></th>\n",
       "      <th>word</th>\n",
       "      <th>count</th>\n",
       "    </tr>\n",
       "  </thead>\n",
       "  <tbody>\n",
       "    <tr>\n",
       "      <th>99</th>\n",
       "      <td>do</td>\n",
       "      <td>1</td>\n",
       "    </tr>\n",
       "  </tbody>\n",
       "</table>\n",
       "</div>"
      ],
      "text/plain": [
       "   word  count\n",
       "99   do      1"
      ]
     },
     "metadata": {},
     "output_type": "display_data"
    },
    {
     "name": "stdout",
     "output_type": "stream",
     "text": [
      "annotation word counts\n"
     ]
    },
    {
     "data": {
      "text/html": [
       "<div>\n",
       "<style scoped>\n",
       "    .dataframe tbody tr th:only-of-type {\n",
       "        vertical-align: middle;\n",
       "    }\n",
       "\n",
       "    .dataframe tbody tr th {\n",
       "        vertical-align: top;\n",
       "    }\n",
       "\n",
       "    .dataframe thead th {\n",
       "        text-align: right;\n",
       "    }\n",
       "</style>\n",
       "<table border=\"1\" class=\"dataframe\">\n",
       "  <thead>\n",
       "    <tr style=\"text-align: right;\">\n",
       "      <th></th>\n",
       "      <th>word</th>\n",
       "      <th>count</th>\n",
       "    </tr>\n",
       "  </thead>\n",
       "  <tbody>\n",
       "    <tr>\n",
       "      <th>514</th>\n",
       "      <td>'s</td>\n",
       "      <td>7</td>\n",
       "    </tr>\n",
       "    <tr>\n",
       "      <th>515</th>\n",
       "      <td>are</td>\n",
       "      <td>4</td>\n",
       "    </tr>\n",
       "    <tr>\n",
       "      <th>516</th>\n",
       "      <td>is</td>\n",
       "      <td>3</td>\n",
       "    </tr>\n",
       "    <tr>\n",
       "      <th>517</th>\n",
       "      <td>do</td>\n",
       "      <td>2</td>\n",
       "    </tr>\n",
       "    <tr>\n",
       "      <th>518</th>\n",
       "      <td>was</td>\n",
       "      <td>2</td>\n",
       "    </tr>\n",
       "    <tr>\n",
       "      <th>519</th>\n",
       "      <td>be</td>\n",
       "      <td>2</td>\n",
       "    </tr>\n",
       "    <tr>\n",
       "      <th>520</th>\n",
       "      <td>did</td>\n",
       "      <td>1</td>\n",
       "    </tr>\n",
       "    <tr>\n",
       "      <th>521</th>\n",
       "      <td>had</td>\n",
       "      <td>1</td>\n",
       "    </tr>\n",
       "    <tr>\n",
       "      <th>522</th>\n",
       "      <td>have</td>\n",
       "      <td>1</td>\n",
       "    </tr>\n",
       "    <tr>\n",
       "      <th>523</th>\n",
       "      <td>has</td>\n",
       "      <td>1</td>\n",
       "    </tr>\n",
       "  </tbody>\n",
       "</table>\n",
       "</div>"
      ],
      "text/plain": [
       "     word  count\n",
       "514    's      7\n",
       "515   are      4\n",
       "516    is      3\n",
       "517    do      2\n",
       "518   was      2\n",
       "519    be      2\n",
       "520   did      1\n",
       "521   had      1\n",
       "522  have      1\n",
       "523   has      1"
      ]
     },
     "metadata": {},
     "output_type": "display_data"
    },
    {
     "name": "stdout",
     "output_type": "stream",
     "text": [
      "POS tag CCONJ\n",
      "label word counts\n"
     ]
    },
    {
     "data": {
      "text/html": [
       "<div>\n",
       "<style scoped>\n",
       "    .dataframe tbody tr th:only-of-type {\n",
       "        vertical-align: middle;\n",
       "    }\n",
       "\n",
       "    .dataframe tbody tr th {\n",
       "        vertical-align: top;\n",
       "    }\n",
       "\n",
       "    .dataframe thead th {\n",
       "        text-align: right;\n",
       "    }\n",
       "</style>\n",
       "<table border=\"1\" class=\"dataframe\">\n",
       "  <thead>\n",
       "    <tr style=\"text-align: right;\">\n",
       "      <th></th>\n",
       "      <th>word</th>\n",
       "      <th>count</th>\n",
       "    </tr>\n",
       "  </thead>\n",
       "  <tbody>\n",
       "    <tr>\n",
       "      <th>100</th>\n",
       "      <td>and</td>\n",
       "      <td>1</td>\n",
       "    </tr>\n",
       "  </tbody>\n",
       "</table>\n",
       "</div>"
      ],
      "text/plain": [
       "    word  count\n",
       "100  and      1"
      ]
     },
     "metadata": {},
     "output_type": "display_data"
    },
    {
     "name": "stdout",
     "output_type": "stream",
     "text": [
      "annotation word counts\n"
     ]
    },
    {
     "data": {
      "text/html": [
       "<div>\n",
       "<style scoped>\n",
       "    .dataframe tbody tr th:only-of-type {\n",
       "        vertical-align: middle;\n",
       "    }\n",
       "\n",
       "    .dataframe tbody tr th {\n",
       "        vertical-align: top;\n",
       "    }\n",
       "\n",
       "    .dataframe thead th {\n",
       "        text-align: right;\n",
       "    }\n",
       "</style>\n",
       "<table border=\"1\" class=\"dataframe\">\n",
       "  <thead>\n",
       "    <tr style=\"text-align: right;\">\n",
       "      <th></th>\n",
       "      <th>word</th>\n",
       "      <th>count</th>\n",
       "    </tr>\n",
       "  </thead>\n",
       "  <tbody>\n",
       "    <tr>\n",
       "      <th>524</th>\n",
       "      <td>and</td>\n",
       "      <td>113</td>\n",
       "    </tr>\n",
       "    <tr>\n",
       "      <th>525</th>\n",
       "      <td>both</td>\n",
       "      <td>2</td>\n",
       "    </tr>\n",
       "    <tr>\n",
       "      <th>526</th>\n",
       "      <td>or</td>\n",
       "      <td>2</td>\n",
       "    </tr>\n",
       "  </tbody>\n",
       "</table>\n",
       "</div>"
      ],
      "text/plain": [
       "     word  count\n",
       "524   and    113\n",
       "525  both      2\n",
       "526    or      2"
      ]
     },
     "metadata": {},
     "output_type": "display_data"
    },
    {
     "name": "stdout",
     "output_type": "stream",
     "text": [
      "POS tag DET\n",
      "label word counts\n"
     ]
    },
    {
     "data": {
      "text/html": [
       "<div>\n",
       "<style scoped>\n",
       "    .dataframe tbody tr th:only-of-type {\n",
       "        vertical-align: middle;\n",
       "    }\n",
       "\n",
       "    .dataframe tbody tr th {\n",
       "        vertical-align: top;\n",
       "    }\n",
       "\n",
       "    .dataframe thead th {\n",
       "        text-align: right;\n",
       "    }\n",
       "</style>\n",
       "<table border=\"1\" class=\"dataframe\">\n",
       "  <thead>\n",
       "    <tr style=\"text-align: right;\">\n",
       "      <th></th>\n",
       "      <th>word</th>\n",
       "      <th>count</th>\n",
       "    </tr>\n",
       "  </thead>\n",
       "  <tbody>\n",
       "    <tr>\n",
       "      <th>101</th>\n",
       "      <td>a</td>\n",
       "      <td>459</td>\n",
       "    </tr>\n",
       "    <tr>\n",
       "      <th>102</th>\n",
       "      <td>the</td>\n",
       "      <td>100</td>\n",
       "    </tr>\n",
       "    <tr>\n",
       "      <th>103</th>\n",
       "      <td>his</td>\n",
       "      <td>30</td>\n",
       "    </tr>\n",
       "    <tr>\n",
       "      <th>104</th>\n",
       "      <td>an</td>\n",
       "      <td>25</td>\n",
       "    </tr>\n",
       "    <tr>\n",
       "      <th>105</th>\n",
       "      <td>her</td>\n",
       "      <td>21</td>\n",
       "    </tr>\n",
       "    <tr>\n",
       "      <th>106</th>\n",
       "      <td>their</td>\n",
       "      <td>17</td>\n",
       "    </tr>\n",
       "    <tr>\n",
       "      <th>107</th>\n",
       "      <td>another</td>\n",
       "      <td>12</td>\n",
       "    </tr>\n",
       "    <tr>\n",
       "      <th>108</th>\n",
       "      <td>some</td>\n",
       "      <td>2</td>\n",
       "    </tr>\n",
       "    <tr>\n",
       "      <th>109</th>\n",
       "      <td>both</td>\n",
       "      <td>2</td>\n",
       "    </tr>\n",
       "    <tr>\n",
       "      <th>110</th>\n",
       "      <td>your</td>\n",
       "      <td>1</td>\n",
       "    </tr>\n",
       "  </tbody>\n",
       "</table>\n",
       "</div>"
      ],
      "text/plain": [
       "        word  count\n",
       "101        a    459\n",
       "102      the    100\n",
       "103      his     30\n",
       "104       an     25\n",
       "105      her     21\n",
       "106    their     17\n",
       "107  another     12\n",
       "108     some      2\n",
       "109     both      2\n",
       "110     your      1"
      ]
     },
     "metadata": {},
     "output_type": "display_data"
    },
    {
     "name": "stdout",
     "output_type": "stream",
     "text": [
      "annotation word counts\n"
     ]
    },
    {
     "data": {
      "text/html": [
       "<div>\n",
       "<style scoped>\n",
       "    .dataframe tbody tr th:only-of-type {\n",
       "        vertical-align: middle;\n",
       "    }\n",
       "\n",
       "    .dataframe tbody tr th {\n",
       "        vertical-align: top;\n",
       "    }\n",
       "\n",
       "    .dataframe thead th {\n",
       "        text-align: right;\n",
       "    }\n",
       "</style>\n",
       "<table border=\"1\" class=\"dataframe\">\n",
       "  <thead>\n",
       "    <tr style=\"text-align: right;\">\n",
       "      <th></th>\n",
       "      <th>word</th>\n",
       "      <th>count</th>\n",
       "    </tr>\n",
       "  </thead>\n",
       "  <tbody>\n",
       "    <tr>\n",
       "      <th>527</th>\n",
       "      <td>a</td>\n",
       "      <td>6718</td>\n",
       "    </tr>\n",
       "    <tr>\n",
       "      <th>528</th>\n",
       "      <td>the</td>\n",
       "      <td>2409</td>\n",
       "    </tr>\n",
       "    <tr>\n",
       "      <th>529</th>\n",
       "      <td>an</td>\n",
       "      <td>471</td>\n",
       "    </tr>\n",
       "    <tr>\n",
       "      <th>530</th>\n",
       "      <td>his</td>\n",
       "      <td>399</td>\n",
       "    </tr>\n",
       "    <tr>\n",
       "      <th>531</th>\n",
       "      <td>her</td>\n",
       "      <td>329</td>\n",
       "    </tr>\n",
       "    <tr>\n",
       "      <th>532</th>\n",
       "      <td>their</td>\n",
       "      <td>128</td>\n",
       "    </tr>\n",
       "    <tr>\n",
       "      <th>533</th>\n",
       "      <td>some</td>\n",
       "      <td>70</td>\n",
       "    </tr>\n",
       "    <tr>\n",
       "      <th>534</th>\n",
       "      <td>another</td>\n",
       "      <td>59</td>\n",
       "    </tr>\n",
       "    <tr>\n",
       "      <th>535</th>\n",
       "      <td>that</td>\n",
       "      <td>13</td>\n",
       "    </tr>\n",
       "    <tr>\n",
       "      <th>536</th>\n",
       "      <td>this</td>\n",
       "      <td>12</td>\n",
       "    </tr>\n",
       "  </tbody>\n",
       "</table>\n",
       "</div>"
      ],
      "text/plain": [
       "        word  count\n",
       "527        a   6718\n",
       "528      the   2409\n",
       "529       an    471\n",
       "530      his    399\n",
       "531      her    329\n",
       "532    their    128\n",
       "533     some     70\n",
       "534  another     59\n",
       "535     that     13\n",
       "536     this     12"
      ]
     },
     "metadata": {},
     "output_type": "display_data"
    },
    {
     "name": "stdout",
     "output_type": "stream",
     "text": [
      "POS tag NOUN\n",
      "label word counts\n"
     ]
    },
    {
     "data": {
      "text/html": [
       "<div>\n",
       "<style scoped>\n",
       "    .dataframe tbody tr th:only-of-type {\n",
       "        vertical-align: middle;\n",
       "    }\n",
       "\n",
       "    .dataframe tbody tr th {\n",
       "        vertical-align: top;\n",
       "    }\n",
       "\n",
       "    .dataframe thead th {\n",
       "        text-align: right;\n",
       "    }\n",
       "</style>\n",
       "<table border=\"1\" class=\"dataframe\">\n",
       "  <thead>\n",
       "    <tr style=\"text-align: right;\">\n",
       "      <th></th>\n",
       "      <th>word</th>\n",
       "      <th>count</th>\n",
       "    </tr>\n",
       "  </thead>\n",
       "  <tbody>\n",
       "    <tr>\n",
       "      <th>113</th>\n",
       "      <td>man</td>\n",
       "      <td>59</td>\n",
       "    </tr>\n",
       "    <tr>\n",
       "      <th>114</th>\n",
       "      <td>person</td>\n",
       "      <td>30</td>\n",
       "    </tr>\n",
       "    <tr>\n",
       "      <th>115</th>\n",
       "      <td>woman</td>\n",
       "      <td>28</td>\n",
       "    </tr>\n",
       "    <tr>\n",
       "      <th>116</th>\n",
       "      <td>people</td>\n",
       "      <td>18</td>\n",
       "    </tr>\n",
       "    <tr>\n",
       "      <th>117</th>\n",
       "      <td>boy</td>\n",
       "      <td>18</td>\n",
       "    </tr>\n",
       "    <tr>\n",
       "      <th>118</th>\n",
       "      <td>girl</td>\n",
       "      <td>14</td>\n",
       "    </tr>\n",
       "    <tr>\n",
       "      <th>119</th>\n",
       "      <td>group</td>\n",
       "      <td>13</td>\n",
       "    </tr>\n",
       "    <tr>\n",
       "      <th>120</th>\n",
       "      <td>boys</td>\n",
       "      <td>11</td>\n",
       "    </tr>\n",
       "    <tr>\n",
       "      <th>121</th>\n",
       "      <td>baby</td>\n",
       "      <td>10</td>\n",
       "    </tr>\n",
       "    <tr>\n",
       "      <th>122</th>\n",
       "      <td>front</td>\n",
       "      <td>10</td>\n",
       "    </tr>\n",
       "  </tbody>\n",
       "</table>\n",
       "</div>"
      ],
      "text/plain": [
       "       word  count\n",
       "113     man     59\n",
       "114  person     30\n",
       "115   woman     28\n",
       "116  people     18\n",
       "117     boy     18\n",
       "118    girl     14\n",
       "119   group     13\n",
       "120    boys     11\n",
       "121    baby     10\n",
       "122   front     10"
      ]
     },
     "metadata": {},
     "output_type": "display_data"
    },
    {
     "name": "stdout",
     "output_type": "stream",
     "text": [
      "annotation word counts\n"
     ]
    },
    {
     "data": {
      "text/html": [
       "<div>\n",
       "<style scoped>\n",
       "    .dataframe tbody tr th:only-of-type {\n",
       "        vertical-align: middle;\n",
       "    }\n",
       "\n",
       "    .dataframe tbody tr th {\n",
       "        vertical-align: top;\n",
       "    }\n",
       "\n",
       "    .dataframe thead th {\n",
       "        text-align: right;\n",
       "    }\n",
       "</style>\n",
       "<table border=\"1\" class=\"dataframe\">\n",
       "  <thead>\n",
       "    <tr style=\"text-align: right;\">\n",
       "      <th></th>\n",
       "      <th>word</th>\n",
       "      <th>count</th>\n",
       "    </tr>\n",
       "  </thead>\n",
       "  <tbody>\n",
       "    <tr>\n",
       "      <th>550</th>\n",
       "      <td>man</td>\n",
       "      <td>666</td>\n",
       "    </tr>\n",
       "    <tr>\n",
       "      <th>551</th>\n",
       "      <td>person</td>\n",
       "      <td>477</td>\n",
       "    </tr>\n",
       "    <tr>\n",
       "      <th>552</th>\n",
       "      <td>woman</td>\n",
       "      <td>315</td>\n",
       "    </tr>\n",
       "    <tr>\n",
       "      <th>553</th>\n",
       "      <td>people</td>\n",
       "      <td>231</td>\n",
       "    </tr>\n",
       "    <tr>\n",
       "      <th>554</th>\n",
       "      <td>girl</td>\n",
       "      <td>222</td>\n",
       "    </tr>\n",
       "    <tr>\n",
       "      <th>555</th>\n",
       "      <td>boy</td>\n",
       "      <td>218</td>\n",
       "    </tr>\n",
       "    <tr>\n",
       "      <th>556</th>\n",
       "      <td>guy</td>\n",
       "      <td>204</td>\n",
       "    </tr>\n",
       "    <tr>\n",
       "      <th>557</th>\n",
       "      <td>group</td>\n",
       "      <td>169</td>\n",
       "    </tr>\n",
       "    <tr>\n",
       "      <th>558</th>\n",
       "      <td>child</td>\n",
       "      <td>159</td>\n",
       "    </tr>\n",
       "    <tr>\n",
       "      <th>559</th>\n",
       "      <td>kids</td>\n",
       "      <td>131</td>\n",
       "    </tr>\n",
       "  </tbody>\n",
       "</table>\n",
       "</div>"
      ],
      "text/plain": [
       "       word  count\n",
       "550     man    666\n",
       "551  person    477\n",
       "552   woman    315\n",
       "553  people    231\n",
       "554    girl    222\n",
       "555     boy    218\n",
       "556     guy    204\n",
       "557   group    169\n",
       "558   child    159\n",
       "559    kids    131"
      ]
     },
     "metadata": {},
     "output_type": "display_data"
    },
    {
     "name": "stdout",
     "output_type": "stream",
     "text": [
      "POS tag NUM\n",
      "label word counts\n"
     ]
    },
    {
     "data": {
      "text/html": [
       "<div>\n",
       "<style scoped>\n",
       "    .dataframe tbody tr th:only-of-type {\n",
       "        vertical-align: middle;\n",
       "    }\n",
       "\n",
       "    .dataframe tbody tr th {\n",
       "        vertical-align: top;\n",
       "    }\n",
       "\n",
       "    .dataframe thead th {\n",
       "        text-align: right;\n",
       "    }\n",
       "</style>\n",
       "<table border=\"1\" class=\"dataframe\">\n",
       "  <thead>\n",
       "    <tr style=\"text-align: right;\">\n",
       "      <th></th>\n",
       "      <th>word</th>\n",
       "      <th>count</th>\n",
       "    </tr>\n",
       "  </thead>\n",
       "  <tbody>\n",
       "    <tr>\n",
       "      <th>634</th>\n",
       "      <td>two</td>\n",
       "      <td>24</td>\n",
       "    </tr>\n",
       "    <tr>\n",
       "      <th>635</th>\n",
       "      <td>three</td>\n",
       "      <td>7</td>\n",
       "    </tr>\n",
       "    <tr>\n",
       "      <th>636</th>\n",
       "      <td>one</td>\n",
       "      <td>2</td>\n",
       "    </tr>\n",
       "    <tr>\n",
       "      <th>637</th>\n",
       "      <td>four</td>\n",
       "      <td>1</td>\n",
       "    </tr>\n",
       "    <tr>\n",
       "      <th>638</th>\n",
       "      <td>nine</td>\n",
       "      <td>1</td>\n",
       "    </tr>\n",
       "  </tbody>\n",
       "</table>\n",
       "</div>"
      ],
      "text/plain": [
       "      word  count\n",
       "634    two     24\n",
       "635  three      7\n",
       "636    one      2\n",
       "637   four      1\n",
       "638   nine      1"
      ]
     },
     "metadata": {},
     "output_type": "display_data"
    },
    {
     "name": "stdout",
     "output_type": "stream",
     "text": [
      "annotation word counts\n"
     ]
    },
    {
     "data": {
      "text/html": [
       "<div>\n",
       "<style scoped>\n",
       "    .dataframe tbody tr th:only-of-type {\n",
       "        vertical-align: middle;\n",
       "    }\n",
       "\n",
       "    .dataframe tbody tr th {\n",
       "        vertical-align: top;\n",
       "    }\n",
       "\n",
       "    .dataframe thead th {\n",
       "        text-align: right;\n",
       "    }\n",
       "</style>\n",
       "<table border=\"1\" class=\"dataframe\">\n",
       "  <thead>\n",
       "    <tr style=\"text-align: right;\">\n",
       "      <th></th>\n",
       "      <th>word</th>\n",
       "      <th>count</th>\n",
       "    </tr>\n",
       "  </thead>\n",
       "  <tbody>\n",
       "    <tr>\n",
       "      <th>3428</th>\n",
       "      <td>two</td>\n",
       "      <td>175</td>\n",
       "    </tr>\n",
       "    <tr>\n",
       "      <th>3429</th>\n",
       "      <td>one</td>\n",
       "      <td>27</td>\n",
       "    </tr>\n",
       "    <tr>\n",
       "      <th>3430</th>\n",
       "      <td>2</td>\n",
       "      <td>26</td>\n",
       "    </tr>\n",
       "    <tr>\n",
       "      <th>3431</th>\n",
       "      <td>three</td>\n",
       "      <td>13</td>\n",
       "    </tr>\n",
       "    <tr>\n",
       "      <th>3432</th>\n",
       "      <td>four</td>\n",
       "      <td>8</td>\n",
       "    </tr>\n",
       "    <tr>\n",
       "      <th>3433</th>\n",
       "      <td>3</td>\n",
       "      <td>7</td>\n",
       "    </tr>\n",
       "    <tr>\n",
       "      <th>3434</th>\n",
       "      <td>1</td>\n",
       "      <td>4</td>\n",
       "    </tr>\n",
       "    <tr>\n",
       "      <th>3435</th>\n",
       "      <td>2000</td>\n",
       "      <td>4</td>\n",
       "    </tr>\n",
       "    <tr>\n",
       "      <th>3436</th>\n",
       "      <td>4</td>\n",
       "      <td>3</td>\n",
       "    </tr>\n",
       "    <tr>\n",
       "      <th>3439</th>\n",
       "      <td>five</td>\n",
       "      <td>2</td>\n",
       "    </tr>\n",
       "  </tbody>\n",
       "</table>\n",
       "</div>"
      ],
      "text/plain": [
       "       word  count\n",
       "3428    two    175\n",
       "3429    one     27\n",
       "3430      2     26\n",
       "3431  three     13\n",
       "3432   four      8\n",
       "3433      3      7\n",
       "3434      1      4\n",
       "3435   2000      4\n",
       "3436      4      3\n",
       "3439   five      2"
      ]
     },
     "metadata": {},
     "output_type": "display_data"
    },
    {
     "name": "stdout",
     "output_type": "stream",
     "text": [
      "POS tag PART\n",
      "label word counts\n"
     ]
    },
    {
     "data": {
      "text/html": [
       "<div>\n",
       "<style scoped>\n",
       "    .dataframe tbody tr th:only-of-type {\n",
       "        vertical-align: middle;\n",
       "    }\n",
       "\n",
       "    .dataframe tbody tr th {\n",
       "        vertical-align: top;\n",
       "    }\n",
       "\n",
       "    .dataframe thead th {\n",
       "        text-align: right;\n",
       "    }\n",
       "</style>\n",
       "<table border=\"1\" class=\"dataframe\">\n",
       "  <thead>\n",
       "    <tr style=\"text-align: right;\">\n",
       "      <th></th>\n",
       "      <th>word</th>\n",
       "      <th>count</th>\n",
       "    </tr>\n",
       "  </thead>\n",
       "  <tbody>\n",
       "    <tr>\n",
       "      <th>639</th>\n",
       "      <td>'s</td>\n",
       "      <td>4</td>\n",
       "    </tr>\n",
       "  </tbody>\n",
       "</table>\n",
       "</div>"
      ],
      "text/plain": [
       "    word  count\n",
       "639   's      4"
      ]
     },
     "metadata": {},
     "output_type": "display_data"
    },
    {
     "name": "stdout",
     "output_type": "stream",
     "text": [
      "annotation word counts\n"
     ]
    },
    {
     "data": {
      "text/html": [
       "<div>\n",
       "<style scoped>\n",
       "    .dataframe tbody tr th:only-of-type {\n",
       "        vertical-align: middle;\n",
       "    }\n",
       "\n",
       "    .dataframe tbody tr th {\n",
       "        vertical-align: top;\n",
       "    }\n",
       "\n",
       "    .dataframe thead th {\n",
       "        text-align: right;\n",
       "    }\n",
       "</style>\n",
       "<table border=\"1\" class=\"dataframe\">\n",
       "  <thead>\n",
       "    <tr style=\"text-align: right;\">\n",
       "      <th></th>\n",
       "      <th>word</th>\n",
       "      <th>count</th>\n",
       "    </tr>\n",
       "  </thead>\n",
       "  <tbody>\n",
       "    <tr>\n",
       "      <th>3448</th>\n",
       "      <td>'s</td>\n",
       "      <td>47</td>\n",
       "    </tr>\n",
       "    <tr>\n",
       "      <th>3449</th>\n",
       "      <td>to</td>\n",
       "      <td>21</td>\n",
       "    </tr>\n",
       "    <tr>\n",
       "      <th>3450</th>\n",
       "      <td>n't</td>\n",
       "      <td>1</td>\n",
       "    </tr>\n",
       "  </tbody>\n",
       "</table>\n",
       "</div>"
      ],
      "text/plain": [
       "     word  count\n",
       "3448   's     47\n",
       "3449   to     21\n",
       "3450  n't      1"
      ]
     },
     "metadata": {},
     "output_type": "display_data"
    },
    {
     "name": "stdout",
     "output_type": "stream",
     "text": [
      "POS tag PRON\n",
      "label word counts\n"
     ]
    },
    {
     "data": {
      "text/html": [
       "<div>\n",
       "<style scoped>\n",
       "    .dataframe tbody tr th:only-of-type {\n",
       "        vertical-align: middle;\n",
       "    }\n",
       "\n",
       "    .dataframe tbody tr th {\n",
       "        vertical-align: top;\n",
       "    }\n",
       "\n",
       "    .dataframe thead th {\n",
       "        text-align: right;\n",
       "    }\n",
       "</style>\n",
       "<table border=\"1\" class=\"dataframe\">\n",
       "  <thead>\n",
       "    <tr style=\"text-align: right;\">\n",
       "      <th></th>\n",
       "      <th>word</th>\n",
       "      <th>count</th>\n",
       "    </tr>\n",
       "  </thead>\n",
       "  <tbody>\n",
       "    <tr>\n",
       "      <th>640</th>\n",
       "      <td>it</td>\n",
       "      <td>23</td>\n",
       "    </tr>\n",
       "    <tr>\n",
       "      <th>641</th>\n",
       "      <td>them</td>\n",
       "      <td>12</td>\n",
       "    </tr>\n",
       "    <tr>\n",
       "      <th>642</th>\n",
       "      <td>someone</td>\n",
       "      <td>10</td>\n",
       "    </tr>\n",
       "    <tr>\n",
       "      <th>643</th>\n",
       "      <td>he</td>\n",
       "      <td>10</td>\n",
       "    </tr>\n",
       "    <tr>\n",
       "      <th>644</th>\n",
       "      <td>they</td>\n",
       "      <td>5</td>\n",
       "    </tr>\n",
       "    <tr>\n",
       "      <th>645</th>\n",
       "      <td>she</td>\n",
       "      <td>4</td>\n",
       "    </tr>\n",
       "    <tr>\n",
       "      <th>646</th>\n",
       "      <td>himself</td>\n",
       "      <td>3</td>\n",
       "    </tr>\n",
       "    <tr>\n",
       "      <th>647</th>\n",
       "      <td>her</td>\n",
       "      <td>2</td>\n",
       "    </tr>\n",
       "    <tr>\n",
       "      <th>648</th>\n",
       "      <td>him</td>\n",
       "      <td>2</td>\n",
       "    </tr>\n",
       "    <tr>\n",
       "      <th>649</th>\n",
       "      <td>us</td>\n",
       "      <td>2</td>\n",
       "    </tr>\n",
       "  </tbody>\n",
       "</table>\n",
       "</div>"
      ],
      "text/plain": [
       "        word  count\n",
       "640       it     23\n",
       "641     them     12\n",
       "642  someone     10\n",
       "643       he     10\n",
       "644     they      5\n",
       "645      she      4\n",
       "646  himself      3\n",
       "647      her      2\n",
       "648      him      2\n",
       "649       us      2"
      ]
     },
     "metadata": {},
     "output_type": "display_data"
    },
    {
     "name": "stdout",
     "output_type": "stream",
     "text": [
      "annotation word counts\n"
     ]
    },
    {
     "data": {
      "text/html": [
       "<div>\n",
       "<style scoped>\n",
       "    .dataframe tbody tr th:only-of-type {\n",
       "        vertical-align: middle;\n",
       "    }\n",
       "\n",
       "    .dataframe tbody tr th {\n",
       "        vertical-align: top;\n",
       "    }\n",
       "\n",
       "    .dataframe thead th {\n",
       "        text-align: right;\n",
       "    }\n",
       "</style>\n",
       "<table border=\"1\" class=\"dataframe\">\n",
       "  <thead>\n",
       "    <tr style=\"text-align: right;\">\n",
       "      <th></th>\n",
       "      <th>word</th>\n",
       "      <th>count</th>\n",
       "    </tr>\n",
       "  </thead>\n",
       "  <tbody>\n",
       "    <tr>\n",
       "      <th>3451</th>\n",
       "      <td>someone</td>\n",
       "      <td>145</td>\n",
       "    </tr>\n",
       "    <tr>\n",
       "      <th>3452</th>\n",
       "      <td>it</td>\n",
       "      <td>82</td>\n",
       "    </tr>\n",
       "    <tr>\n",
       "      <th>3453</th>\n",
       "      <td>he</td>\n",
       "      <td>61</td>\n",
       "    </tr>\n",
       "    <tr>\n",
       "      <th>3454</th>\n",
       "      <td>them</td>\n",
       "      <td>56</td>\n",
       "    </tr>\n",
       "    <tr>\n",
       "      <th>3455</th>\n",
       "      <td>something</td>\n",
       "      <td>40</td>\n",
       "    </tr>\n",
       "    <tr>\n",
       "      <th>3456</th>\n",
       "      <td>she</td>\n",
       "      <td>30</td>\n",
       "    </tr>\n",
       "    <tr>\n",
       "      <th>3457</th>\n",
       "      <td>they</td>\n",
       "      <td>28</td>\n",
       "    </tr>\n",
       "    <tr>\n",
       "      <th>3458</th>\n",
       "      <td>himself</td>\n",
       "      <td>22</td>\n",
       "    </tr>\n",
       "    <tr>\n",
       "      <th>3459</th>\n",
       "      <td>him</td>\n",
       "      <td>22</td>\n",
       "    </tr>\n",
       "    <tr>\n",
       "      <th>3460</th>\n",
       "      <td>her</td>\n",
       "      <td>17</td>\n",
       "    </tr>\n",
       "  </tbody>\n",
       "</table>\n",
       "</div>"
      ],
      "text/plain": [
       "           word  count\n",
       "3451    someone    145\n",
       "3452         it     82\n",
       "3453         he     61\n",
       "3454       them     56\n",
       "3455  something     40\n",
       "3456        she     30\n",
       "3457       they     28\n",
       "3458    himself     22\n",
       "3459        him     22\n",
       "3460        her     17"
      ]
     },
     "metadata": {},
     "output_type": "display_data"
    },
    {
     "name": "stdout",
     "output_type": "stream",
     "text": [
      "POS tag PROPN\n",
      "label word counts\n"
     ]
    },
    {
     "data": {
      "text/html": [
       "<div>\n",
       "<style scoped>\n",
       "    .dataframe tbody tr th:only-of-type {\n",
       "        vertical-align: middle;\n",
       "    }\n",
       "\n",
       "    .dataframe tbody tr th {\n",
       "        vertical-align: top;\n",
       "    }\n",
       "\n",
       "    .dataframe thead th {\n",
       "        text-align: right;\n",
       "    }\n",
       "</style>\n",
       "<table border=\"1\" class=\"dataframe\">\n",
       "  <thead>\n",
       "    <tr style=\"text-align: right;\">\n",
       "      <th></th>\n",
       "      <th>word</th>\n",
       "      <th>count</th>\n",
       "    </tr>\n",
       "  </thead>\n",
       "  <tbody>\n",
       "    <tr>\n",
       "      <th>655</th>\n",
       "      <td>teams</td>\n",
       "      <td>1</td>\n",
       "    </tr>\n",
       "    <tr>\n",
       "      <th>656</th>\n",
       "      <td>diagram</td>\n",
       "      <td>1</td>\n",
       "    </tr>\n",
       "    <tr>\n",
       "      <th>657</th>\n",
       "      <td>camo</td>\n",
       "      <td>1</td>\n",
       "    </tr>\n",
       "    <tr>\n",
       "      <th>658</th>\n",
       "      <td>triangular</td>\n",
       "      <td>1</td>\n",
       "    </tr>\n",
       "    <tr>\n",
       "      <th>659</th>\n",
       "      <td>christmas</td>\n",
       "      <td>1</td>\n",
       "    </tr>\n",
       "    <tr>\n",
       "      <th>660</th>\n",
       "      <td>hockey</td>\n",
       "      <td>1</td>\n",
       "    </tr>\n",
       "    <tr>\n",
       "      <th>661</th>\n",
       "      <td>young</td>\n",
       "      <td>1</td>\n",
       "    </tr>\n",
       "    <tr>\n",
       "      <th>662</th>\n",
       "      <td>miami</td>\n",
       "      <td>1</td>\n",
       "    </tr>\n",
       "    <tr>\n",
       "      <th>663</th>\n",
       "      <td>michael</td>\n",
       "      <td>1</td>\n",
       "    </tr>\n",
       "    <tr>\n",
       "      <th>664</th>\n",
       "      <td>yolk</td>\n",
       "      <td>1</td>\n",
       "    </tr>\n",
       "  </tbody>\n",
       "</table>\n",
       "</div>"
      ],
      "text/plain": [
       "           word  count\n",
       "655       teams      1\n",
       "656     diagram      1\n",
       "657        camo      1\n",
       "658  triangular      1\n",
       "659   christmas      1\n",
       "660      hockey      1\n",
       "661       young      1\n",
       "662       miami      1\n",
       "663     michael      1\n",
       "664        yolk      1"
      ]
     },
     "metadata": {},
     "output_type": "display_data"
    },
    {
     "name": "stdout",
     "output_type": "stream",
     "text": [
      "annotation word counts\n"
     ]
    },
    {
     "data": {
      "text/html": [
       "<div>\n",
       "<style scoped>\n",
       "    .dataframe tbody tr th:only-of-type {\n",
       "        vertical-align: middle;\n",
       "    }\n",
       "\n",
       "    .dataframe tbody tr th {\n",
       "        vertical-align: top;\n",
       "    }\n",
       "\n",
       "    .dataframe thead th {\n",
       "        text-align: right;\n",
       "    }\n",
       "</style>\n",
       "<table border=\"1\" class=\"dataframe\">\n",
       "  <thead>\n",
       "    <tr style=\"text-align: right;\">\n",
       "      <th></th>\n",
       "      <th>word</th>\n",
       "      <th>count</th>\n",
       "    </tr>\n",
       "  </thead>\n",
       "  <tbody>\n",
       "    <tr>\n",
       "      <th>3481</th>\n",
       "      <td>kid</td>\n",
       "      <td>15</td>\n",
       "    </tr>\n",
       "    <tr>\n",
       "      <th>3483</th>\n",
       "      <td>english</td>\n",
       "      <td>10</td>\n",
       "    </tr>\n",
       "    <tr>\n",
       "      <th>3482</th>\n",
       "      <td>lady</td>\n",
       "      <td>10</td>\n",
       "    </tr>\n",
       "    <tr>\n",
       "      <th>3484</th>\n",
       "      <td>christmas</td>\n",
       "      <td>9</td>\n",
       "    </tr>\n",
       "    <tr>\n",
       "      <th>3485</th>\n",
       "      <td>chef</td>\n",
       "      <td>9</td>\n",
       "    </tr>\n",
       "    <tr>\n",
       "      <th>3486</th>\n",
       "      <td>guy</td>\n",
       "      <td>8</td>\n",
       "    </tr>\n",
       "    <tr>\n",
       "      <th>3487</th>\n",
       "      <td>siblings</td>\n",
       "      <td>7</td>\n",
       "    </tr>\n",
       "    <tr>\n",
       "      <th>3488</th>\n",
       "      <td>yolk</td>\n",
       "      <td>7</td>\n",
       "    </tr>\n",
       "    <tr>\n",
       "      <th>3489</th>\n",
       "      <td>atm</td>\n",
       "      <td>6</td>\n",
       "    </tr>\n",
       "    <tr>\n",
       "      <th>3490</th>\n",
       "      <td>spanish</td>\n",
       "      <td>6</td>\n",
       "    </tr>\n",
       "  </tbody>\n",
       "</table>\n",
       "</div>"
      ],
      "text/plain": [
       "           word  count\n",
       "3481        kid     15\n",
       "3483    english     10\n",
       "3482       lady     10\n",
       "3484  christmas      9\n",
       "3485       chef      9\n",
       "3486        guy      8\n",
       "3487   siblings      7\n",
       "3488       yolk      7\n",
       "3489        atm      6\n",
       "3490    spanish      6"
      ]
     },
     "metadata": {},
     "output_type": "display_data"
    },
    {
     "name": "stdout",
     "output_type": "stream",
     "text": [
      "POS tag PUNCT\n",
      "label word counts\n"
     ]
    },
    {
     "data": {
      "text/html": [
       "<div>\n",
       "<style scoped>\n",
       "    .dataframe tbody tr th:only-of-type {\n",
       "        vertical-align: middle;\n",
       "    }\n",
       "\n",
       "    .dataframe tbody tr th {\n",
       "        vertical-align: top;\n",
       "    }\n",
       "\n",
       "    .dataframe thead th {\n",
       "        text-align: right;\n",
       "    }\n",
       "</style>\n",
       "<table border=\"1\" class=\"dataframe\">\n",
       "  <thead>\n",
       "    <tr style=\"text-align: right;\">\n",
       "      <th></th>\n",
       "      <th>word</th>\n",
       "      <th>count</th>\n",
       "    </tr>\n",
       "  </thead>\n",
       "  <tbody>\n",
       "    <tr>\n",
       "      <th>669</th>\n",
       "      <td>-</td>\n",
       "      <td>4</td>\n",
       "    </tr>\n",
       "  </tbody>\n",
       "</table>\n",
       "</div>"
      ],
      "text/plain": [
       "    word  count\n",
       "669    -      4"
      ]
     },
     "metadata": {},
     "output_type": "display_data"
    },
    {
     "name": "stdout",
     "output_type": "stream",
     "text": [
      "annotation word counts\n"
     ]
    },
    {
     "data": {
      "text/html": [
       "<div>\n",
       "<style scoped>\n",
       "    .dataframe tbody tr th:only-of-type {\n",
       "        vertical-align: middle;\n",
       "    }\n",
       "\n",
       "    .dataframe tbody tr th {\n",
       "        vertical-align: top;\n",
       "    }\n",
       "\n",
       "    .dataframe thead th {\n",
       "        text-align: right;\n",
       "    }\n",
       "</style>\n",
       "<table border=\"1\" class=\"dataframe\">\n",
       "  <thead>\n",
       "    <tr style=\"text-align: right;\">\n",
       "      <th></th>\n",
       "      <th>word</th>\n",
       "      <th>count</th>\n",
       "    </tr>\n",
       "  </thead>\n",
       "  <tbody>\n",
       "    <tr>\n",
       "      <th>3823</th>\n",
       "      <td>-</td>\n",
       "      <td>59</td>\n",
       "    </tr>\n",
       "    <tr>\n",
       "      <th>3824</th>\n",
       "      <td>,</td>\n",
       "      <td>9</td>\n",
       "    </tr>\n",
       "    <tr>\n",
       "      <th>3825</th>\n",
       "      <td>'</td>\n",
       "      <td>3</td>\n",
       "    </tr>\n",
       "  </tbody>\n",
       "</table>\n",
       "</div>"
      ],
      "text/plain": [
       "     word  count\n",
       "3823    -     59\n",
       "3824    ,      9\n",
       "3825    '      3"
      ]
     },
     "metadata": {},
     "output_type": "display_data"
    },
    {
     "name": "stdout",
     "output_type": "stream",
     "text": [
      "POS tag SCONJ\n",
      "label word counts\n"
     ]
    },
    {
     "data": {
      "text/html": [
       "<div>\n",
       "<style scoped>\n",
       "    .dataframe tbody tr th:only-of-type {\n",
       "        vertical-align: middle;\n",
       "    }\n",
       "\n",
       "    .dataframe tbody tr th {\n",
       "        vertical-align: top;\n",
       "    }\n",
       "\n",
       "    .dataframe thead th {\n",
       "        text-align: right;\n",
       "    }\n",
       "</style>\n",
       "<table border=\"1\" class=\"dataframe\">\n",
       "  <thead>\n",
       "    <tr style=\"text-align: right;\">\n",
       "      <th></th>\n",
       "      <th>word</th>\n",
       "      <th>count</th>\n",
       "    </tr>\n",
       "  </thead>\n",
       "  <tbody>\n",
       "    <tr>\n",
       "      <th>670</th>\n",
       "      <td>like</td>\n",
       "      <td>1</td>\n",
       "    </tr>\n",
       "  </tbody>\n",
       "</table>\n",
       "</div>"
      ],
      "text/plain": [
       "     word  count\n",
       "670  like      1"
      ]
     },
     "metadata": {},
     "output_type": "display_data"
    },
    {
     "name": "stdout",
     "output_type": "stream",
     "text": [
      "annotation word counts\n"
     ]
    },
    {
     "data": {
      "text/html": [
       "<div>\n",
       "<style scoped>\n",
       "    .dataframe tbody tr th:only-of-type {\n",
       "        vertical-align: middle;\n",
       "    }\n",
       "\n",
       "    .dataframe tbody tr th {\n",
       "        vertical-align: top;\n",
       "    }\n",
       "\n",
       "    .dataframe thead th {\n",
       "        text-align: right;\n",
       "    }\n",
       "</style>\n",
       "<table border=\"1\" class=\"dataframe\">\n",
       "  <thead>\n",
       "    <tr style=\"text-align: right;\">\n",
       "      <th></th>\n",
       "      <th>word</th>\n",
       "      <th>count</th>\n",
       "    </tr>\n",
       "  </thead>\n",
       "  <tbody>\n",
       "    <tr>\n",
       "      <th>3826</th>\n",
       "      <td>while</td>\n",
       "      <td>8</td>\n",
       "    </tr>\n",
       "    <tr>\n",
       "      <th>3827</th>\n",
       "      <td>like</td>\n",
       "      <td>1</td>\n",
       "    </tr>\n",
       "  </tbody>\n",
       "</table>\n",
       "</div>"
      ],
      "text/plain": [
       "       word  count\n",
       "3826  while      8\n",
       "3827   like      1"
      ]
     },
     "metadata": {},
     "output_type": "display_data"
    },
    {
     "name": "stdout",
     "output_type": "stream",
     "text": [
      "POS tag SPACE\n",
      "label word counts\n"
     ]
    },
    {
     "data": {
      "text/html": [
       "<div>\n",
       "<style scoped>\n",
       "    .dataframe tbody tr th:only-of-type {\n",
       "        vertical-align: middle;\n",
       "    }\n",
       "\n",
       "    .dataframe tbody tr th {\n",
       "        vertical-align: top;\n",
       "    }\n",
       "\n",
       "    .dataframe thead th {\n",
       "        text-align: right;\n",
       "    }\n",
       "</style>\n",
       "<table border=\"1\" class=\"dataframe\">\n",
       "  <thead>\n",
       "    <tr style=\"text-align: right;\">\n",
       "      <th></th>\n",
       "      <th>word</th>\n",
       "      <th>count</th>\n",
       "    </tr>\n",
       "  </thead>\n",
       "  <tbody>\n",
       "    <tr>\n",
       "      <th>671</th>\n",
       "      <td></td>\n",
       "      <td>1</td>\n",
       "    </tr>\n",
       "  </tbody>\n",
       "</table>\n",
       "</div>"
      ],
      "text/plain": [
       "    word  count\n",
       "671           1"
      ]
     },
     "metadata": {},
     "output_type": "display_data"
    },
    {
     "name": "stdout",
     "output_type": "stream",
     "text": [
      "annotation word counts\n"
     ]
    },
    {
     "data": {
      "text/html": [
       "<div>\n",
       "<style scoped>\n",
       "    .dataframe tbody tr th:only-of-type {\n",
       "        vertical-align: middle;\n",
       "    }\n",
       "\n",
       "    .dataframe tbody tr th {\n",
       "        vertical-align: top;\n",
       "    }\n",
       "\n",
       "    .dataframe thead th {\n",
       "        text-align: right;\n",
       "    }\n",
       "</style>\n",
       "<table border=\"1\" class=\"dataframe\">\n",
       "  <thead>\n",
       "    <tr style=\"text-align: right;\">\n",
       "      <th></th>\n",
       "      <th>word</th>\n",
       "      <th>count</th>\n",
       "    </tr>\n",
       "  </thead>\n",
       "  <tbody>\n",
       "  </tbody>\n",
       "</table>\n",
       "</div>"
      ],
      "text/plain": [
       "Empty DataFrame\n",
       "Columns: [word, count]\n",
       "Index: []"
      ]
     },
     "metadata": {},
     "output_type": "display_data"
    },
    {
     "name": "stdout",
     "output_type": "stream",
     "text": [
      "POS tag VERB\n",
      "label word counts\n"
     ]
    },
    {
     "data": {
      "text/html": [
       "<div>\n",
       "<style scoped>\n",
       "    .dataframe tbody tr th:only-of-type {\n",
       "        vertical-align: middle;\n",
       "    }\n",
       "\n",
       "    .dataframe tbody tr th {\n",
       "        vertical-align: top;\n",
       "    }\n",
       "\n",
       "    .dataframe thead th {\n",
       "        text-align: right;\n",
       "    }\n",
       "</style>\n",
       "<table border=\"1\" class=\"dataframe\">\n",
       "  <thead>\n",
       "    <tr style=\"text-align: right;\">\n",
       "      <th></th>\n",
       "      <th>word</th>\n",
       "      <th>count</th>\n",
       "    </tr>\n",
       "  </thead>\n",
       "  <tbody>\n",
       "    <tr>\n",
       "      <th>672</th>\n",
       "      <td>built</td>\n",
       "      <td>1</td>\n",
       "    </tr>\n",
       "    <tr>\n",
       "      <th>684</th>\n",
       "      <td>dirt</td>\n",
       "      <td>1</td>\n",
       "    </tr>\n",
       "    <tr>\n",
       "      <th>693</th>\n",
       "      <td>stretching</td>\n",
       "      <td>1</td>\n",
       "    </tr>\n",
       "    <tr>\n",
       "      <th>692</th>\n",
       "      <td>stuffed</td>\n",
       "      <td>1</td>\n",
       "    </tr>\n",
       "    <tr>\n",
       "      <th>691</th>\n",
       "      <td>making</td>\n",
       "      <td>1</td>\n",
       "    </tr>\n",
       "    <tr>\n",
       "      <th>690</th>\n",
       "      <td>riding</td>\n",
       "      <td>1</td>\n",
       "    </tr>\n",
       "    <tr>\n",
       "      <th>689</th>\n",
       "      <td>strung</td>\n",
       "      <td>1</td>\n",
       "    </tr>\n",
       "    <tr>\n",
       "      <th>688</th>\n",
       "      <td>building</td>\n",
       "      <td>1</td>\n",
       "    </tr>\n",
       "    <tr>\n",
       "      <th>687</th>\n",
       "      <td>shown</td>\n",
       "      <td>1</td>\n",
       "    </tr>\n",
       "    <tr>\n",
       "      <th>686</th>\n",
       "      <td>held</td>\n",
       "      <td>1</td>\n",
       "    </tr>\n",
       "  </tbody>\n",
       "</table>\n",
       "</div>"
      ],
      "text/plain": [
       "           word  count\n",
       "672       built      1\n",
       "684        dirt      1\n",
       "693  stretching      1\n",
       "692     stuffed      1\n",
       "691      making      1\n",
       "690      riding      1\n",
       "689      strung      1\n",
       "688    building      1\n",
       "687       shown      1\n",
       "686        held      1"
      ]
     },
     "metadata": {},
     "output_type": "display_data"
    },
    {
     "name": "stdout",
     "output_type": "stream",
     "text": [
      "annotation word counts\n"
     ]
    },
    {
     "data": {
      "text/html": [
       "<div>\n",
       "<style scoped>\n",
       "    .dataframe tbody tr th:only-of-type {\n",
       "        vertical-align: middle;\n",
       "    }\n",
       "\n",
       "    .dataframe tbody tr th {\n",
       "        vertical-align: top;\n",
       "    }\n",
       "\n",
       "    .dataframe thead th {\n",
       "        text-align: right;\n",
       "    }\n",
       "</style>\n",
       "<table border=\"1\" class=\"dataframe\">\n",
       "  <thead>\n",
       "    <tr style=\"text-align: right;\">\n",
       "      <th></th>\n",
       "      <th>word</th>\n",
       "      <th>count</th>\n",
       "    </tr>\n",
       "  </thead>\n",
       "  <tbody>\n",
       "    <tr>\n",
       "      <th>3829</th>\n",
       "      <td>wearing</td>\n",
       "      <td>26</td>\n",
       "    </tr>\n",
       "    <tr>\n",
       "      <th>3830</th>\n",
       "      <td>moving</td>\n",
       "      <td>9</td>\n",
       "    </tr>\n",
       "    <tr>\n",
       "      <th>3831</th>\n",
       "      <td>sitting</td>\n",
       "      <td>8</td>\n",
       "    </tr>\n",
       "    <tr>\n",
       "      <th>3833</th>\n",
       "      <td>playing</td>\n",
       "      <td>8</td>\n",
       "    </tr>\n",
       "    <tr>\n",
       "      <th>3832</th>\n",
       "      <td>made</td>\n",
       "      <td>8</td>\n",
       "    </tr>\n",
       "    <tr>\n",
       "      <th>3834</th>\n",
       "      <td>colored</td>\n",
       "      <td>7</td>\n",
       "    </tr>\n",
       "    <tr>\n",
       "      <th>3835</th>\n",
       "      <td>dancing</td>\n",
       "      <td>7</td>\n",
       "    </tr>\n",
       "    <tr>\n",
       "      <th>3836</th>\n",
       "      <td>pull</td>\n",
       "      <td>7</td>\n",
       "    </tr>\n",
       "    <tr>\n",
       "      <th>3837</th>\n",
       "      <td>cutting</td>\n",
       "      <td>7</td>\n",
       "    </tr>\n",
       "    <tr>\n",
       "      <th>3838</th>\n",
       "      <td>throwing</td>\n",
       "      <td>6</td>\n",
       "    </tr>\n",
       "  </tbody>\n",
       "</table>\n",
       "</div>"
      ],
      "text/plain": [
       "          word  count\n",
       "3829   wearing     26\n",
       "3830    moving      9\n",
       "3831   sitting      8\n",
       "3833   playing      8\n",
       "3832      made      8\n",
       "3834   colored      7\n",
       "3835   dancing      7\n",
       "3836      pull      7\n",
       "3837   cutting      7\n",
       "3838  throwing      6"
      ]
     },
     "metadata": {},
     "output_type": "display_data"
    },
    {
     "name": "stdout",
     "output_type": "stream",
     "text": [
      "POS tag X\n",
      "label word counts\n"
     ]
    },
    {
     "data": {
      "text/html": [
       "<div>\n",
       "<style scoped>\n",
       "    .dataframe tbody tr th:only-of-type {\n",
       "        vertical-align: middle;\n",
       "    }\n",
       "\n",
       "    .dataframe tbody tr th {\n",
       "        vertical-align: top;\n",
       "    }\n",
       "\n",
       "    .dataframe thead th {\n",
       "        text-align: right;\n",
       "    }\n",
       "</style>\n",
       "<table border=\"1\" class=\"dataframe\">\n",
       "  <thead>\n",
       "    <tr style=\"text-align: right;\">\n",
       "      <th></th>\n",
       "      <th>word</th>\n",
       "      <th>count</th>\n",
       "    </tr>\n",
       "  </thead>\n",
       "  <tbody>\n",
       "    <tr>\n",
       "      <th>695</th>\n",
       "      <td>blacksmith</td>\n",
       "      <td>1</td>\n",
       "    </tr>\n",
       "  </tbody>\n",
       "</table>\n",
       "</div>"
      ],
      "text/plain": [
       "           word  count\n",
       "695  blacksmith      1"
      ]
     },
     "metadata": {},
     "output_type": "display_data"
    },
    {
     "name": "stdout",
     "output_type": "stream",
     "text": [
      "annotation word counts\n"
     ]
    },
    {
     "data": {
      "text/html": [
       "<div>\n",
       "<style scoped>\n",
       "    .dataframe tbody tr th:only-of-type {\n",
       "        vertical-align: middle;\n",
       "    }\n",
       "\n",
       "    .dataframe tbody tr th {\n",
       "        vertical-align: top;\n",
       "    }\n",
       "\n",
       "    .dataframe thead th {\n",
       "        text-align: right;\n",
       "    }\n",
       "</style>\n",
       "<table border=\"1\" class=\"dataframe\">\n",
       "  <thead>\n",
       "    <tr style=\"text-align: right;\">\n",
       "      <th></th>\n",
       "      <th>word</th>\n",
       "      <th>count</th>\n",
       "    </tr>\n",
       "  </thead>\n",
       "  <tbody>\n",
       "    <tr>\n",
       "      <th>4140</th>\n",
       "      <td>2</td>\n",
       "      <td>1</td>\n",
       "    </tr>\n",
       "  </tbody>\n",
       "</table>\n",
       "</div>"
      ],
      "text/plain": [
       "     word  count\n",
       "4140    2      1"
      ]
     },
     "metadata": {},
     "output_type": "display_data"
    },
    {
     "name": "stdout",
     "output_type": "stream",
     "text": [
      "POS tag INTJ\n",
      "label word counts\n"
     ]
    },
    {
     "data": {
      "text/html": [
       "<div>\n",
       "<style scoped>\n",
       "    .dataframe tbody tr th:only-of-type {\n",
       "        vertical-align: middle;\n",
       "    }\n",
       "\n",
       "    .dataframe tbody tr th {\n",
       "        vertical-align: top;\n",
       "    }\n",
       "\n",
       "    .dataframe thead th {\n",
       "        text-align: right;\n",
       "    }\n",
       "</style>\n",
       "<table border=\"1\" class=\"dataframe\">\n",
       "  <thead>\n",
       "    <tr style=\"text-align: right;\">\n",
       "      <th></th>\n",
       "      <th>word</th>\n",
       "      <th>count</th>\n",
       "    </tr>\n",
       "  </thead>\n",
       "  <tbody>\n",
       "  </tbody>\n",
       "</table>\n",
       "</div>"
      ],
      "text/plain": [
       "Empty DataFrame\n",
       "Columns: [word, count]\n",
       "Index: []"
      ]
     },
     "metadata": {},
     "output_type": "display_data"
    },
    {
     "name": "stdout",
     "output_type": "stream",
     "text": [
      "annotation word counts\n"
     ]
    },
    {
     "data": {
      "text/html": [
       "<div>\n",
       "<style scoped>\n",
       "    .dataframe tbody tr th:only-of-type {\n",
       "        vertical-align: middle;\n",
       "    }\n",
       "\n",
       "    .dataframe tbody tr th {\n",
       "        vertical-align: top;\n",
       "    }\n",
       "\n",
       "    .dataframe thead th {\n",
       "        text-align: right;\n",
       "    }\n",
       "</style>\n",
       "<table border=\"1\" class=\"dataframe\">\n",
       "  <thead>\n",
       "    <tr style=\"text-align: right;\">\n",
       "      <th></th>\n",
       "      <th>word</th>\n",
       "      <th>count</th>\n",
       "    </tr>\n",
       "  </thead>\n",
       "  <tbody>\n",
       "    <tr>\n",
       "      <th>548</th>\n",
       "      <td>boy</td>\n",
       "      <td>6</td>\n",
       "    </tr>\n",
       "    <tr>\n",
       "      <th>549</th>\n",
       "      <td>man</td>\n",
       "      <td>2</td>\n",
       "    </tr>\n",
       "  </tbody>\n",
       "</table>\n",
       "</div>"
      ],
      "text/plain": [
       "    word  count\n",
       "548  boy      6\n",
       "549  man      2"
      ]
     },
     "metadata": {},
     "output_type": "display_data"
    },
    {
     "name": "stdout",
     "output_type": "stream",
     "text": [
      "POS tag SYM\n",
      "label word counts\n"
     ]
    },
    {
     "data": {
      "text/html": [
       "<div>\n",
       "<style scoped>\n",
       "    .dataframe tbody tr th:only-of-type {\n",
       "        vertical-align: middle;\n",
       "    }\n",
       "\n",
       "    .dataframe tbody tr th {\n",
       "        vertical-align: top;\n",
       "    }\n",
       "\n",
       "    .dataframe thead th {\n",
       "        text-align: right;\n",
       "    }\n",
       "</style>\n",
       "<table border=\"1\" class=\"dataframe\">\n",
       "  <thead>\n",
       "    <tr style=\"text-align: right;\">\n",
       "      <th></th>\n",
       "      <th>word</th>\n",
       "      <th>count</th>\n",
       "    </tr>\n",
       "  </thead>\n",
       "  <tbody>\n",
       "  </tbody>\n",
       "</table>\n",
       "</div>"
      ],
      "text/plain": [
       "Empty DataFrame\n",
       "Columns: [word, count]\n",
       "Index: []"
      ]
     },
     "metadata": {},
     "output_type": "display_data"
    },
    {
     "name": "stdout",
     "output_type": "stream",
     "text": [
      "annotation word counts\n"
     ]
    },
    {
     "data": {
      "text/html": [
       "<div>\n",
       "<style scoped>\n",
       "    .dataframe tbody tr th:only-of-type {\n",
       "        vertical-align: middle;\n",
       "    }\n",
       "\n",
       "    .dataframe tbody tr th {\n",
       "        vertical-align: top;\n",
       "    }\n",
       "\n",
       "    .dataframe thead th {\n",
       "        text-align: right;\n",
       "    }\n",
       "</style>\n",
       "<table border=\"1\" class=\"dataframe\">\n",
       "  <thead>\n",
       "    <tr style=\"text-align: right;\">\n",
       "      <th></th>\n",
       "      <th>word</th>\n",
       "      <th>count</th>\n",
       "    </tr>\n",
       "  </thead>\n",
       "  <tbody>\n",
       "    <tr>\n",
       "      <th>3828</th>\n",
       "      <td>/</td>\n",
       "      <td>1</td>\n",
       "    </tr>\n",
       "  </tbody>\n",
       "</table>\n",
       "</div>"
      ],
      "text/plain": [
       "     word  count\n",
       "3828    /      1"
      ]
     },
     "metadata": {},
     "output_type": "display_data"
    }
   ],
   "source": [
    "for POS_tag_i in combined_POS_counts.loc[:, 'POS'].unique():\n",
    "    print(f'POS tag {POS_tag_i}')\n",
    "    label_POS_word_counts_i = label_POS_word_counts[label_POS_word_counts.loc[:, 'POS']==POS_tag_i].sort_values('count', inplace=False, ascending=False).loc[:, ['word', 'count']]\n",
    "    annotation_POS_word_counts_i = annotation_POS_word_counts[annotation_POS_word_counts.loc[:, 'POS']==POS_tag_i].sort_values('count', inplace=False, ascending=False).loc[:, ['word', 'count']]\n",
    "    print('label word counts')\n",
    "    display(label_POS_word_counts_i.head(10))\n",
    "    print('annotation word counts')\n",
    "    display(annotation_POS_word_counts_i.head(10))"
   ]
  },
  {
   "cell_type": "markdown",
   "metadata": {},
   "source": [
    "### POS tag sequences\n",
    "Let's look at the relative frequency of different tag sequences in the labels and annotations."
   ]
  },
  {
   "cell_type": "code",
   "execution_count": 141,
   "metadata": {
    "scrolled": true
   },
   "outputs": [],
   "source": [
    "from spacy.tokens.span import Span\n",
    "def get_POS_sequence(subtree):\n",
    "    return '_'.join([x.pos_ for x in subtree])\n",
    "label_POS_sequences = [(x['label_subtree'], get_POS_sequence(x['label_subtree'])) for x in annotated_data if type(x['label_subtree']) is Span]\n",
    "annotation_POS_sequences = [(z, get_POS_sequence(z)) for x in annotated_data for y in x['annotation_subtrees'] for z in y if type(z) is Span]\n",
    "label_POS_sequences = pd.DataFrame(label_POS_sequences, columns=['word', 'POS_sequence'])\n",
    "annotation_POS_sequences = pd.DataFrame(annotation_POS_sequences, columns=['word', 'POS_sequence'])\n",
    "# fix words\n",
    "label_POS_sequences = label_POS_sequences.assign(**{'word' : label_POS_sequences.loc[:, 'word'].apply(lambda x: x.text.lower())})\n",
    "annotation_POS_sequences = annotation_POS_sequences.assign(**{'word' : annotation_POS_sequences.loc[:, 'word'].apply(lambda x: x.text.lower())})\n",
    "# label_POS_sequences = label_POS_sequences[label_POS_sequences.loc[:, 'POS_sequence']!='']\n",
    "# annotation_POS_sequences = annotation_POS_sequences[annotation_POS_sequences.loc[:, 'POS_sequence']!='']\n",
    "## get aggregate counts\n",
    "label_POS_sequence_counts = label_POS_sequences.loc[:, 'POS_sequence'].value_counts()\n",
    "annotation_POS_sequence_counts = annotation_POS_sequences.loc[:, 'POS_sequence'].value_counts()\n",
    "# normalize\n",
    "label_POS_sequence_counts = label_POS_sequence_counts / label_POS_sequence_counts.sum()\n",
    "annotation_POS_sequence_counts = annotation_POS_sequence_counts / annotation_POS_sequence_counts.sum()"
   ]
  },
  {
   "cell_type": "code",
   "execution_count": 142,
   "metadata": {
    "scrolled": true
   },
   "outputs": [
    {
     "data": {
      "image/png": "[encoded data removed]",
      "text/plain": [
       "<Figure size 576x576 with 1 Axes>"
      ]
     },
     "metadata": {
      "needs_background": "light"
     },
     "output_type": "display_data"
    },
    {
     "data": {
      "image/png": "[encoded data removed]",
      "text/plain": [
       "<Figure size 576x576 with 1 Axes>"
      ]
     },
     "metadata": {
      "needs_background": "light"
     },
     "output_type": "display_data"
    }
   ],
   "source": [
    "## plot counts\n",
    "import matplotlib\n",
    "%matplotlib inline\n",
    "import matplotlib.pyplot as plt\n",
    "top_k = 20\n",
    "# label POS sequences\n",
    "plt.figure(figsize=(8,8))\n",
    "plt.barh(label_POS_sequence_counts.index[:top_k], label_POS_sequence_counts[:top_k])\n",
    "plt.xscale('log')\n",
    "plt.title('Top POS sequences for labels')\n",
    "plt.show()\n",
    "# annotation POS sequences\n",
    "plt.figure(figsize=(8,8))\n",
    "plt.barh(annotation_POS_sequence_counts.index[:top_k], annotation_POS_sequence_counts[:top_k])\n",
    "plt.xscale('log')\n",
    "plt.title('Top POS sequences for annotations')\n",
    "plt.show()"
   ]
  },
  {
   "cell_type": "markdown",
   "metadata": {},
   "source": [
    "Fewer pronouns for annotations than for labels. Similar levels of adjectives."
   ]
  },
  {
   "cell_type": "code",
   "execution_count": 145,
   "metadata": {
    "scrolled": true
   },
   "outputs": [
    {
     "name": "stdout",
     "output_type": "stream",
     "text": [
      "testing POS sequence DET_NOUN\n",
      "label word counts\n",
      "a man        0.096360\n",
      "a person     0.057816\n",
      "a woman      0.044968\n",
      "a group      0.021413\n",
      "a boy        0.017131\n",
      "a piece      0.014989\n",
      "a girl       0.012848\n",
      "the water    0.010707\n",
      "a child      0.010707\n",
      "a guy        0.008565\n",
      "Name: word, dtype: float64\n",
      "annotation word counts\n",
      "a person    0.048089\n",
      "a man       0.046363\n",
      "a woman     0.022318\n",
      "a guy       0.019975\n",
      "a girl      0.013933\n",
      "a group     0.013317\n",
      "a boy       0.013194\n",
      "a child     0.011961\n",
      "a lady      0.011467\n",
      "a kid       0.010851\n",
      "Name: word, dtype: float64\n",
      "testing POS sequence NOUN\n",
      "label word counts\n",
      "people      0.105691\n",
      "front       0.081301\n",
      "men         0.032520\n",
      "music       0.032520\n",
      "kids        0.016260\n",
      "dogs        0.016260\n",
      "metal       0.016260\n",
      "material    0.016260\n",
      "others      0.016260\n",
      "cards       0.016260\n",
      "Name: word, dtype: float64\n",
      "annotation word counts\n",
      "people      0.036571\n",
      "kids        0.016148\n",
      "man         0.015673\n",
      "music       0.014486\n",
      "boys        0.011874\n",
      "men         0.011399\n",
      "children    0.009974\n",
      "woman       0.009261\n",
      "food        0.008787\n",
      "front       0.008787\n",
      "Name: word, dtype: float64\n",
      "testing POS sequence PRON\n",
      "label word counts\n",
      "it         0.291139\n",
      "them       0.151899\n",
      "someone    0.126582\n",
      "he         0.126582\n",
      "they       0.063291\n",
      "she        0.050633\n",
      "himself    0.037975\n",
      "her        0.025316\n",
      "him        0.025316\n",
      "us         0.025316\n",
      "Name: word, dtype: float64\n",
      "annotation word counts\n",
      "someone      0.263366\n",
      "it           0.134653\n",
      "he           0.106931\n",
      "them         0.097030\n",
      "she          0.051485\n",
      "something    0.049505\n",
      "they         0.045545\n",
      "him          0.041584\n",
      "himself      0.039604\n",
      "everyone     0.023762\n",
      "Name: word, dtype: float64\n",
      "testing POS sequence DET_ADJ_NOUN\n",
      "label word counts\n",
      "a young man            0.090909\n",
      "a young boy            0.038961\n",
      "a young child          0.025974\n",
      "a little girl          0.025974\n",
      "a large group          0.025974\n",
      "a large crowd          0.025974\n",
      "a little baby          0.012987\n",
      "a great time           0.012987\n",
      "a remote controller    0.012987\n",
      "a large knife          0.012987\n",
      "Name: word, dtype: float64\n",
      "annotation word counts\n",
      "a young man      0.045567\n",
      "a little girl    0.019704\n",
      "a young boy      0.017241\n",
      "a young girl     0.013547\n",
      "a young woman    0.013547\n",
      "a young lady     0.012315\n",
      "an old man       0.011084\n",
      "a little boy     0.011084\n",
      "an older man     0.008621\n",
      "a high chair     0.007389\n",
      "Name: word, dtype: float64\n",
      "testing POS sequence DET_NOUN_NOUN\n",
      "label word counts\n",
      "a living room        0.030303\n",
      "his fishing trips    0.015152\n",
      "a bouncy swing       0.015152\n",
      "a birthday candle    0.015152\n",
      "an ice skater        0.015152\n",
      "a jump kick          0.015152\n",
      "the ski resort       0.015152\n",
      "a baby sonogram      0.015152\n",
      "the skating ring     0.015152\n",
      "a swimming pool      0.015152\n",
      "Name: word, dtype: float64\n",
      "annotation word counts\n",
      "a board game        0.012129\n",
      "a glass bowl        0.010782\n",
      "a shopping cart     0.010782\n",
      "a mosh pit          0.008086\n",
      "a swimming pool     0.008086\n",
      "a sewing machine    0.008086\n",
      "a soccer ball       0.006739\n",
      "a pillow fight      0.006739\n",
      "a bounce house      0.006739\n",
      "the living room     0.006739\n",
      "Name: word, dtype: float64\n",
      "testing POS sequence ADJ_NOUN\n",
      "label word counts\n",
      "hard liquor         0.041667\n",
      "several people      0.041667\n",
      "various people      0.041667\n",
      "several layers      0.041667\n",
      "various tricks      0.041667\n",
      "various costumes    0.041667\n",
      "white rocks         0.041667\n",
      "dirty dishes        0.041667\n",
      "different things    0.041667\n",
      "young boys          0.041667\n",
      "Name: word, dtype: float64\n",
      "annotation word counts\n",
      "young men          0.027397\n",
      "young people       0.013699\n",
      "little kids        0.009132\n",
      "facial hair        0.009132\n",
      "older men          0.009132\n",
      "red wine           0.006849\n",
      "heavy weight       0.006849\n",
      "several men        0.006849\n",
      "different types    0.006849\n",
      "black pants        0.006849\n",
      "Name: word, dtype: float64\n",
      "testing POS sequence NUM_NOUN\n",
      "label word counts\n",
      "two boys         0.217391\n",
      "two men          0.130435\n",
      "two people       0.086957\n",
      "one egg          0.043478\n",
      "two couples      0.043478\n",
      "four men         0.043478\n",
      "three males      0.043478\n",
      "two teenagers    0.043478\n",
      "three people     0.043478\n",
      "two girls        0.043478\n",
      "Name: word, dtype: float64\n",
      "annotation word counts\n",
      "two people      0.092683\n",
      "two men         0.073171\n",
      "two guys        0.068293\n",
      "two boys        0.063415\n",
      "two kids        0.053659\n",
      "two friends     0.053659\n",
      "two children    0.048780\n",
      "two girls       0.039024\n",
      "two teams       0.024390\n",
      "two cones       0.014634\n",
      "Name: word, dtype: float64\n",
      "testing POS sequence NOUN_NOUN\n",
      "label word counts\n",
      "parkour stunts      0.0625\n",
      "bagpipe players     0.0625\n",
      "rock climbing       0.0625\n",
      "rubber gloves       0.0625\n",
      "dog care            0.0625\n",
      "bread dough         0.0625\n",
      "sheet metal         0.0625\n",
      "laser guns          0.0625\n",
      "lab coat            0.0625\n",
      "soccer movements    0.0625\n",
      "Name: word, dtype: float64\n",
      "annotation word counts\n",
      "playing cards     0.014052\n",
      "ice cream         0.014052\n",
      "spray paint       0.014052\n",
      "sheet metal       0.011710\n",
      "easter baskets    0.011710\n",
      "computer parts    0.011710\n",
      "home plate        0.011710\n",
      "band members      0.009368\n",
      "fishing line      0.009368\n",
      "air drums         0.009368\n",
      "Name: word, dtype: float64\n",
      "testing POS sequence DET_ADJ_NOUN_NOUN\n",
      "label word counts\n",
      "an automatic teller machine      0.090909\n",
      "an indoor basketball court       0.090909\n",
      "a indoor basketball court        0.090909\n",
      "an electrical fan component      0.090909\n",
      "a large bubble gum               0.090909\n",
      "a oven baking pan                0.090909\n",
      "a large hanging cymbal           0.090909\n",
      "a hot curling iron               0.090909\n",
      "a tall chocolate cake            0.090909\n",
      "a competitive wrestling match    0.090909\n",
      "Name: word, dtype: float64\n",
      "annotation word counts\n",
      "an olympic swimming pool          0.047619\n",
      "an indoor swimming competition    0.023810\n",
      "a plastic toy sword               0.023810\n",
      "a fellow ice skater               0.023810\n",
      "a small plastic ball              0.023810\n",
      "a black rubbish bin               0.023810\n",
      "a yellow lawn mower               0.023810\n",
      "a stainless steel skimmer         0.023810\n",
      "a big powder brush                0.023810\n",
      "their square dancing partners     0.023810\n",
      "Name: word, dtype: float64\n",
      "testing POS sequence DET_ADJ_ADJ_NOUN\n",
      "label word counts\n",
      "a large professional pool      0.1\n",
      "a red hot piece                0.1\n",
      "a snowy outdoor environment    0.1\n",
      "a yellow reflective vest       0.1\n",
      "a long wooden log              0.1\n",
      "a large dumb bell              0.1\n",
      "a black grainy substance       0.1\n",
      "a small robotic vehicle        0.1\n",
      "the other martial artists      0.1\n",
      "a middle aged woman            0.1\n",
      "Name: word, dtype: float64\n",
      "annotation word counts\n",
      "a middle aged man           0.307692\n",
      "a big black dog             0.076923\n",
      "a large retail store        0.076923\n",
      "a long bent pole            0.076923\n",
      "an old tooth brush          0.076923\n",
      "an outgoing young guy       0.076923\n",
      "an olympic sized pool       0.076923\n",
      "a bright colored jacket     0.076923\n",
      "the first young man         0.076923\n",
      "the swampy looking water    0.076923\n",
      "Name: word, dtype: float64\n"
     ]
    }
   ],
   "source": [
    "## most frequent words for different sequences\n",
    "top_k = 10\n",
    "for POS_sequence_i in label_POS_sequence_counts.index[:top_k]:\n",
    "    print(f'testing POS sequence {POS_sequence_i}')\n",
    "    label_POS_sequences_i = label_POS_sequences[label_POS_sequences.loc[:, 'POS_sequence']==POS_sequence_i]\n",
    "    annotation_POS_sequences_i = annotation_POS_sequences[annotation_POS_sequences.loc[:, 'POS_sequence']==POS_sequence_i]\n",
    "    ## get counts\n",
    "    label_word_counts_i = label_POS_sequences_i.loc[:, 'word'].value_counts()\n",
    "    annotation_word_counts_i = annotation_POS_sequences_i.loc[:, 'word'].value_counts()\n",
    "    # normalize\n",
    "    label_word_counts_i = label_word_counts_i / label_word_counts_i.sum()\n",
    "    annotation_word_counts_i = annotation_word_counts_i / annotation_word_counts_i.sum()\n",
    "    print(f'label word counts\\n{label_word_counts_i.head(10)}')\n",
    "    print(f'annotation word counts\\n{annotation_word_counts_i.head(10)}')"
   ]
  },
  {
   "cell_type": "markdown",
   "metadata": {},
   "source": [
    "- `PRON`: Annotations tend to use more specific pronoun phrases like `someone` or `something` rather than `it`.\n",
    "- `DET_NOUN`: annotations are less gender-biased? Prefer `person` over `man`."
   ]
  },
  {
   "cell_type": "code",
   "execution_count": null,
   "metadata": {},
   "outputs": [],
   "source": []
  }
 ],
 "metadata": {
  "kernelspec": {
   "display_name": "Python [conda env:py3] *",
   "language": "python",
   "name": "conda-env-py3-py"
  },
  "language_info": {
   "codemirror_mode": {
    "name": "ipython",
    "version": 3
   },
   "file_extension": ".py",
   "mimetype": "text/x-python",
   "name": "python",
   "nbconvert_exporter": "python",
   "pygments_lexer": "ipython3",
   "version": "3.8.5"
  }
 },
 "nbformat": 4,
 "nbformat_minor": 5
}
