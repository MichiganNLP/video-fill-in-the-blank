{
 "cells": [
  {
   "cell_type": "markdown",
   "id": "mineral-convert",
   "metadata": {},
   "source": [
    "# Test annotated data"
   ]
  },
  {
   "cell_type": "code",
   "execution_count": 1,
   "id": "included-hampton",
   "metadata": {},
   "outputs": [],
   "source": [
    "import json\n",
    "annotated_data = json.load(open('../data/val.json'))"
   ]
  },
  {
   "cell_type": "code",
   "execution_count": 2,
   "id": "casual-charleston",
   "metadata": {},
   "outputs": [
    {
     "name": "stdout",
     "output_type": "stream",
     "text": [
      "[{\"video_id\": \"cfBtVPEwqIo\", \"video_start_time\": 5, \"video_end_time\": 15, \"caption\": \"In a gym with someone spotting him, a man is lifting weights performing squats in a squat rack.\", \"masked_caption\": \"In a gym with someone spotting him, a man is lifting _____ performing squats in a squat rack.\", \"label\": \"weights\", \"additional_answers\": [[\"a weight\", \"some weights\", \"a squat bar\"], [\"weight\", \"a bar\"], [\"weights\", \"a heavy load\"], [\"weights\", \"a lot of weight\"], [\"weights\", \"a barbell\", \"a weight\"], [\"weights\", \"405 lb\"]]}, {\"video_id\": \"P7CgvqGhidw\", \"video_start_time\": 73, \"video_end_time\": 83, \"caption\": \"A couple of people on stage playing music while in front of other people.\", \"masked_caption\": \"A couple of people on stage playing music while in _____ of other people.\", \"label\": \"front\", \"additional_answers\": [[\"close proximity\", \"close comfort\"], [\"front\", \"a room full\"], [\"front\", \"view\"], [\"entretaining\", \"talking\"], [\"front\", \"the way\"], [\"concert\", \"room\"]]}, {\"video_id\": \"1DSNpTTsJJ4\", \"video_start_time\": 6, \"video_end_time\": 16, \"caption\": \"Two boys are dancing in the same fashion in unison with one another.\", \"masked_caption\": \"_____ are dancing in the same fashion in unison with one another.\", \"label\": \"Two boys\", \"additional_answers\": [[\"Two guys\", \"Two men\", \"Two people\", \"Two boys\", \"Two dancers\"], [\"kids\", \"boys\"], [\"Young boys\", \"Dancers\", \"Adolescents\"], [\"Tow kids\", \"Children\"], [\"People\", \"Guys\", \"Boys\", \"Friends\", \"Brothers\"], [\"boys\", \"men\"]]}, {\"video_id\": \"IRlCDEI7R_Q\", \"video_start_time\": 157, \"video_end_time\": 167, \"caption\": \"A stainless steel bowl of cut up fruit is twisted in time to music, a hand reaches for a bite of fruit which a face eats and the face's body appears holding the bowl of fruit.\", \"masked_caption\": \"A stainless steel bowl of _____ is twisted in time to music, a hand reaches for a bite of fruit which a face eats and the face's body appears holding the bowl of fruit.\", \"label\": \"cut up fruit\", \"additional_answers\": [[\"fruit\", \"fruit salad\", \"food\"], [\"fruit\", \"salad\"], [\"fruit\", \"food\"], [\"chopped food\", \"salad\"], [\"fruit\", \"tomato\", \"olives\", \"pineapple\"], [\"fruit\", \"salad\"]]}, {\"video_id\": \"XxY0Z47n7pg\", \"video_start_time\": 80, \"video_end_time\": 90, \"caption\": \"A man stands on a jetski and rides it along the water then waves his hand in the air and speeds up.\", \"masked_caption\": \"A man stands on a jetski and rides _____ along the water then waves his hand in the air and speeds up.\", \"label\": \"it\", \"additional_answers\": [[\"the water\", \"the waves\", \"the wake\"], [\"a jetski\"], [\"standing up\"], [\"it\"], [\"it\", \"the jetski\", \"waves\"], [\"skis\", \"boat\"]]}, {\"video_id\": \"hy7xI8-xSOE\", \"video_start_time\": 31, \"video_end_time\": 41, \"caption\": \"Several people engage in a competition to stomp something on a patio.\", \"masked_caption\": \"Several people engage in a competition to stomp _____ on a patio.\", \"label\": \"something\", \"additional_answers\": [[\"their feet\", \"grapes\"], [\"grapes\", \"small berries\", \"plants\"], [\"grapes\", \"fruit\"], [\"grapes\"], [\"grapes\", \"buckets full of grapes\"], [\"grape\", \"fruit\"]]}, {\"video_id\": \"aNr1Za9eHbs\", \"video_start_time\": 8, \"video_end_time\": 18, \"caption\": \"A woman laying down massages another with her feet while the other asks her to continue.\", \"masked_caption\": \"_____ laying down massages another with her feet while the other asks her to continue.\", \"label\": \"A woman\", \"additional_answers\": [[\"A woman\", \"A person\"], [\"A girl\", \"A person\", \"A lady\", \"A woman\"], [\"A girl\", \"A woman\", \"A person\"], [\"a person\", \"someone\"], [\"a girl\", \"a person\"]]}, {\"video_id\": \"i1A0qQHDBHk\", \"video_start_time\": 2, \"video_end_time\": 12, \"caption\": \"Two girls are standing on a mat competing in a fencing dual.\", \"masked_caption\": \"Two girls are standing on _____ competing in a fencing dual.\", \"label\": \"a mat\", \"additional_answers\": [[\"guard\", \"a mat\"], [\"a mat\", \"a stage\", \"a regulation fencing mat\"], [\"a mat\", \"the floor\"], [\"mats\", \"the floor\", \"pads\"], [\"a mat\", \"competition mat\"], [\"a sheet\", \"a room\"]]}, {\"video_id\": \"vl8Rfoga2ig\", \"video_start_time\": 19, \"video_end_time\": 29, \"caption\": \"A group of performers beat on their drums on stage.\", \"masked_caption\": \"A group of performers beat on _____ on stage.\", \"label\": \"their drums\", \"additional_answers\": [[\"diving\", \"swimming\"], [\"drums\", \"instruments\", \"percussion instruments\"], [\"the diving board\", \"the board\"], [\"incorrect video\"], [\"stands\", \"bleachers\"], [\"a plank\", \"a competition\"]]}, {\"video_id\": \"oMyPguv43Ig\", \"video_start_time\": 13, \"video_end_time\": 23, \"caption\": \"A man drops weight that he just clean and jerked.\", \"masked_caption\": \"_____ drops weight that he just clean and jerked.\", \"label\": \"A man\", \"additional_answers\": [[\"A man\", \"A male\"], [\"A man\", \"A dude\", \"A guy\", \"A person\", \"A gentleman\"], [\"The man\", \"The weightlifter\", \"The lifter\", \"The athlete\", \"The person\"], [\"a man\", \"a guy\", \"a dude\"], [\"A man\", \"A weightlifter\"], [\"a man\", \"a guy\"]]}]\n"
     ]
    }
   ],
   "source": [
    "print(json.dumps(annotated_data[:10], ))"
   ]
  },
  {
   "cell_type": "markdown",
   "id": "northern-combat",
   "metadata": {},
   "source": [
    "## Noun distribution\n",
    "Let's look at the top-K nouns for (1) ground-truth data and (2) labeled data."
   ]
  },
  {
   "cell_type": "code",
   "execution_count": 3,
   "id": "reverse-substance",
   "metadata": {
    "scrolled": true
   },
   "outputs": [
    {
     "data": {
      "text/plain": [
       "a man          46\n",
       "a person       27\n",
       "it             23\n",
       "a woman        21\n",
       "people         13\n",
       "them           12\n",
       "someone        10\n",
       "he             10\n",
       "a group        10\n",
       "front          10\n",
       "a young man     8\n",
       "a boy           8\n",
       "a piece         7\n",
       "a child         6\n",
       "a girl          6\n",
       "two boys        5\n",
       "they            5\n",
       "the water       5\n",
       "a lady          4\n",
       "a baby          4\n",
       "dtype: int64"
      ]
     },
     "metadata": {},
     "output_type": "display_data"
    }
   ],
   "source": [
    "import pandas as pd\n",
    "ground_truth_labels = list(map(lambda x: x['label'].lower(), annotated_data))\n",
    "ground_truth_label_counts = pd.Series(ground_truth_labels).value_counts()\n",
    "display(ground_truth_label_counts.head(20))"
   ]
  },
  {
   "cell_type": "code",
   "execution_count": 4,
   "id": "clear-current",
   "metadata": {
    "scrolled": true
   },
   "outputs": [
    {
     "data": {
      "text/plain": [
       "a person    392\n",
       "a man       381\n",
       "a woman     181\n",
       "a guy       164\n",
       "people      154\n",
       "someone     133\n",
       "a girl      115\n",
       "a boy       111\n",
       "a group     108\n",
       "a child     104\n",
       "a kid       103\n",
       "a lady       93\n",
       "man          70\n",
       "it           68\n",
       "kids         68\n",
       "music        61\n",
       "a baby       59\n",
       "the man      57\n",
       "he           54\n",
       "boys         50\n",
       "dtype: int64"
      ]
     },
     "metadata": {},
     "output_type": "display_data"
    }
   ],
   "source": [
    "from functools import reduce\n",
    "annotation_labels = []\n",
    "for annotated_data_i in annotated_data:\n",
    "    for annotations_j in annotated_data_i['additional_answers']:\n",
    "        clean_annotations_j = list(map(lambda x: x.lower(), annotations_j))\n",
    "        annotation_labels.extend(clean_annotations_j)\n",
    "annotation_label_counts = pd.Series(annotation_labels).value_counts()\n",
    "display(annotation_label_counts.head(20))"
   ]
  },
  {
   "cell_type": "markdown",
   "id": "daily-wallpaper",
   "metadata": {},
   "source": [
    "### Nouns with low/high agreement\n",
    "Which nouns have lower or higher agreement?\n",
    "\n",
    "We'll measure agreement with exact overlap to start, and then partial overlap if we need more data."
   ]
  },
  {
   "cell_type": "code",
   "execution_count": 13,
   "id": "theoretical-central",
   "metadata": {},
   "outputs": [],
   "source": [
    "def get_exact_overlap(data):\n",
    "    label = data['label'].lower()\n",
    "    annotations = [y.lower() for x in data['additional_answers'] for y in x] # all annotations\n",
    "#     annotations = [y.lower() for x in data['additional_answers'] for y in x[:1]] # restrict to first annotations only\n",
    "    exact_matches = list(filter(lambda x: x==label, annotations))\n",
    "    exact_overlap_score = len(exact_matches) / len(annotations)\n",
    "    return exact_overlap_score"
   ]
  },
  {
   "cell_type": "code",
   "execution_count": 14,
   "id": "joint-harrison",
   "metadata": {},
   "outputs": [
    {
     "data": {
      "image/png": "[encoded data removed]",
      "text/plain": [
       "<Figure size 432x288 with 1 Axes>"
      ]
     },
     "metadata": {
      "needs_background": "light"
     },
     "output_type": "display_data"
    }
   ],
   "source": [
    "# show distribution first\n",
    "import matplotlib\n",
    "%matplotlib inline\n",
    "import matplotlib.pyplot as plt\n",
    "valid_annotated_data = list(filter(lambda x: len(x['additional_answers']) > 0, annotated_data))\n",
    "exact_overlap_scores = list(map(lambda x: get_exact_overlap(x), valid_annotated_data))\n",
    "plt.hist(exact_overlap_scores)\n",
    "plt.xlabel(\"Exact match score\")\n",
    "plt.yscale('log')\n",
    "plt.show()"
   ]
  },
  {
   "cell_type": "markdown",
   "id": "engaged-chester",
   "metadata": {},
   "source": [
    "Most questions have fairly low rate of exact matches, which may be unusually low for questions with higher number of annotations provided."
   ]
  },
  {
   "cell_type": "code",
   "execution_count": 15,
   "id": "bacterial-borough",
   "metadata": {
    "scrolled": true
   },
   "outputs": [
    {
     "name": "stdout",
     "output_type": "stream",
     "text": [
      "ground-truth labels with highest annotation overlap\n"
     ]
    },
    {
     "data": {
      "text/plain": [
       "label\n",
       "step              0.750000\n",
       "top               0.600000\n",
       "camera            0.555556\n",
       "eggs              0.500000\n",
       "you               0.500000\n",
       "drinks            0.466667\n",
       "the air           0.455882\n",
       "she               0.447917\n",
       "air drums         0.444444\n",
       "turns             0.444444\n",
       "the end           0.411765\n",
       "himself           0.411376\n",
       "a horse           0.388889\n",
       "a pillow fight    0.384615\n",
       "who               0.380952\n",
       "the wall          0.375000\n",
       "their hands       0.375000\n",
       "a hose            0.375000\n",
       "his shirt         0.363636\n",
       "a long jump       0.357143\n",
       "dtype: float64"
      ]
     },
     "metadata": {},
     "output_type": "display_data"
    },
    {
     "name": "stdout",
     "output_type": "stream",
     "text": [
      "ground-truth labels with lowest annotation overlap\n"
     ]
    },
    {
     "data": {
      "text/plain": [
       "label\n",
       "your dashboard stereo             0.0\n",
       "a file                            0.0\n",
       "a fake bull                       0.0\n",
       "a facial brush                    0.0\n",
       "a double backflip                 0.0\n",
       "a dock                            0.0\n",
       "a dark room                       0.0\n",
       "a dance performance               0.0\n",
       "a couple kids                     0.0\n",
       "a concrete driveway               0.0\n",
       "a complex stretching yoga pose    0.0\n",
       "a competitive wrestling match     0.0\n",
       "a comment                         0.0\n",
       "a city street                     0.0\n",
       "a buffering machine               0.0\n",
       "a bow tie collar                  0.0\n",
       "a flute like instrument           0.0\n",
       "a bouncy swing                    0.0\n",
       "a footfall                        0.0\n",
       "his panning plate                 0.0\n",
       "dtype: float64"
      ]
     },
     "metadata": {},
     "output_type": "display_data"
    }
   ],
   "source": [
    "## compute average overlap per NP\n",
    "valid_annotated_data_labels = list(map(lambda x: x['label'], valid_annotated_data))\n",
    "label_annotation_overlap = pd.DataFrame(list(zip(valid_annotated_data_labels, exact_overlap_scores)), columns=['label', 'overlap_score'])\n",
    "label_annotation_overlap_aggregate = label_annotation_overlap.groupby('label').apply(lambda x: x.loc[:, 'overlap_score'].mean())\n",
    "label_annotation_overlap_aggregate.sort_values(inplace=True, ascending=False)\n",
    "print('ground-truth labels with highest annotation overlap')\n",
    "display(label_annotation_overlap_aggregate.head(20))\n",
    "label_annotation_overlap_aggregate.sort_values(inplace=True, ascending=True)\n",
    "print('ground-truth labels with lowest annotation overlap')\n",
    "display(label_annotation_overlap_aggregate.head(20))"
   ]
  },
  {
   "cell_type": "markdown",
   "id": "dominican-insert",
   "metadata": {},
   "source": [
    "The words with higher agreement tend to be simple and concrete nouns (`step`, `camera`), as well as situation-specific (?) pronouns (`she`, `himself`).\n",
    "\n",
    "The words with lower agreement tend to be highly specific (`your dashboard stereo`, `a flute like instrument`) or vague (`comment`, `city street`)."
   ]
  },
  {
   "cell_type": "markdown",
   "id": "attractive-armor",
   "metadata": {},
   "source": [
    "## Tokens per NP\n",
    "How many tokens on average does each noun phrase contain?\n",
    "\n",
    "We'll look at this for both ground-truth and annotations."
   ]
  },
  {
   "cell_type": "code",
   "execution_count": 39,
   "id": "legislative-mortgage",
   "metadata": {
    "scrolled": true
   },
   "outputs": [
    {
     "data": {
      "image/png": "[encoded data removed]",
      "text/plain": [
       "<Figure size 432x288 with 1 Axes>"
      ]
     },
     "metadata": {
      "needs_background": "light"
     },
     "output_type": "display_data"
    },
    {
     "data": {
      "image/png": "[encoded data removed]",
      "text/plain": [
       "<Figure size 432x288 with 1 Axes>"
      ]
     },
     "metadata": {
      "needs_background": "light"
     },
     "output_type": "display_data"
    },
    {
     "name": "stdout",
     "output_type": "stream",
     "text": [
      "gold label NPs have 2.091 +/- 0.834 tokens\n",
      "annotation NPs have 1.943 +/- 0.879 tokens\n"
     ]
    }
   ],
   "source": [
    "from nltk.tokenize import WordPunctTokenizer\n",
    "import numpy as np\n",
    "tokenizer = WordPunctTokenizer()\n",
    "label_token_counts = list(map(lambda x: len(tokenizer.tokenize(x)), valid_annotated_data_labels))\n",
    "flat_annotation_labels = [z for x in valid_annotated_data for y in x['additional_answers'] for z in y]\n",
    "annotation_label_token_counts = [len(tokenizer.tokenize(x)) for x in flat_annotation_labels]\n",
    "## show both distributions\n",
    "plt.hist(label_token_counts, bins=max(label_token_counts)-1)\n",
    "plt.xlabel('Token count')\n",
    "plt.title('Gold labels')\n",
    "plt.show()\n",
    "plt.hist(annotation_label_token_counts, bins=max(annotation_label_token_counts)-1)\n",
    "plt.xlabel('Token count')\n",
    "plt.title('Annotation labels')\n",
    "plt.show()\n",
    "print('gold label NPs have %.3f +/- %.3f tokens'%(np.mean(label_token_counts), np.std(label_token_counts)))\n",
    "print('annotation NPs have %.3f +/- %.3f tokens'%(np.mean(annotation_label_token_counts), np.std(annotation_label_token_counts)))\n",
    "## failed attempt to plot overlap (small bars)\n",
    "# import seaborn as sns\n",
    "# combined_token_counts = pd.DataFrame([\n",
    "#     label_token_counts + annotation_label_token_counts,\n",
    "#     ['gold',]*len(label_token_counts) + ['annotation',]*len(annotation_label_token_counts)\n",
    "# ], index=['token_count', 'label_type']).transpose()\n",
    "# sns.histplot(data=combined_token_counts, x='token_count', \n",
    "#              hue='label_type', stat='probability', common_norm=False,\n",
    "#              multiple='dodge')\n",
    "# plt.show()"
   ]
  },
  {
   "cell_type": "markdown",
   "id": "general-tractor",
   "metadata": {},
   "source": [
    "The gold labels tend to be slightly longer, and annotation labels are more central-skewed (2 words or below) vs. the long tail of tokens in the gold labels."
   ]
  },
  {
   "cell_type": "markdown",
   "id": "hourly-coach",
   "metadata": {},
   "source": [
    "What are the longest/shortest labels in each set?"
   ]
  },
  {
   "cell_type": "code",
   "execution_count": 48,
   "id": "historic-kazakhstan",
   "metadata": {
    "scrolled": true
   },
   "outputs": [
    {
     "name": "stdout",
     "output_type": "stream",
     "text": [
      "longest gold label NPs\n"
     ]
    },
    {
     "data": {
      "text/plain": [
       "her over-stressed tank-top          7\n",
       "an innocent cute little baby boy    6\n",
       "the black and white knitting kit    6\n",
       "her ice-skating skills              5\n",
       "an ornately costumed dance squad    5\n",
       "a man's back                        5\n",
       "each other's heads                  5\n",
       "a large multiple dig site           5\n",
       "three-wheeled recumbent bikes       5\n",
       "a person's hands                    5\n",
       "a very well built woman             5\n",
       "a basic photo copy machine          5\n",
       "a complex stretching yoga pose      5\n",
       "a women's leg                       5\n",
       "hand-held weights                   4\n",
       "a yellow reflective vest            4\n",
       "a small robotic vehicle             4\n",
       "a very small do                     4\n",
       "a blow up toy                       4\n",
       "a red hot piece                     4\n",
       "dtype: int64"
      ]
     },
     "metadata": {},
     "output_type": "display_data"
    },
    {
     "name": "stdout",
     "output_type": "stream",
     "text": [
      "longest annotation NPs\n"
     ]
    },
    {
     "data": {
      "text/plain": [
       "a boy in black and a boy in blue t-shirt                12\n",
       "the poor animal who needs it's wool to stay warm        12\n",
       "2 teams, one in yellow jerseys and one white jerseys    11\n",
       "a girl in t-shirt and bathing suit bottom               10\n",
       "a cowboy wearing blue jeans and blue jean jacket         9\n",
       "a man in shorts and black t-shirt                        9\n",
       "a male wearing shoes and black pants with stripes        9\n",
       "a t-shirt with a pyramid on it                           9\n",
       "a kid in pants and t-shirt                               8\n",
       "a girl in t-shirt and jeans                              8\n",
       "2 males wearing a blue shirt and shorts                  8\n",
       "a man in shorts and t-shirt                              8\n",
       "man in a white shirt and black pants                     8\n",
       "a kid in black shirt and black pants                     8\n",
       "the street in front of the house driveway                8\n",
       "a man wearing glasses and a hat,                         8\n",
       "a grass area next to a parking lot                       8\n",
       "2 people total and 1 in full view                        8\n",
       "a baby wearing t-shirt and shorts                        8\n",
       "2 young kids with shorts and no shirts                   8\n",
       "dtype: int64"
      ]
     },
     "metadata": {},
     "output_type": "display_data"
    }
   ],
   "source": [
    "label_token_count_data = pd.Series(label_token_counts, index=list(map(lambda x: x.lower(), valid_annotated_data_labels))).sort_values(inplace=False, ascending=False)\n",
    "flat_annotation_label_token_count_data = pd.Series(annotation_label_token_counts, index=list(map(lambda x: x.lower(), flat_annotation_labels))).sort_values(inplace=False, ascending=False)\n",
    "label_token_count_data = label_token_count_data[~label_token_count_data.index.duplicated()]\n",
    "flat_annotation_label_token_count_data = flat_annotation_label_token_count_data[~flat_annotation_label_token_count_data.index.duplicated()]\n",
    "print('longest gold label NPs')\n",
    "display(label_token_count_data.head(20))\n",
    "print('longest annotation NPs')\n",
    "display(flat_annotation_label_token_count_data.head(20))"
   ]
  },
  {
   "cell_type": "markdown",
   "id": "vertical-prince",
   "metadata": {},
   "source": [
    "The longest NPs for the gold labels tend to have multiple adjectives (`an innocent cute little baby boy`) and possessive markers (`a man's back`).\n",
    "\n",
    "The longest NPs for the annotation labels tend to have coordination (`a man in shorts and black t-shirt`) and long, unnecessary subclauses (`the poor animal who needs it's wool to stay warm`)."
   ]
  },
  {
   "cell_type": "markdown",
   "id": "raised-dairy",
   "metadata": {},
   "source": [
    "### Unique NPs per question\n",
    "How many unique NPs does each question get?"
   ]
  },
  {
   "cell_type": "code",
   "execution_count": 66,
   "id": "sticky-multiple",
   "metadata": {},
   "outputs": [
    {
     "data": {
      "image/png": "[encoded data removed]",
      "text/plain": [
       "<Figure size 432x288 with 1 Axes>"
      ]
     },
     "metadata": {
      "needs_background": "light"
     },
     "output_type": "display_data"
    },
    {
     "data": {
      "image/png": "[encoded data removed]",
      "text/plain": [
       "<Figure size 432x288 with 1 Axes>"
      ]
     },
     "metadata": {
      "needs_background": "light"
     },
     "output_type": "display_data"
    },
    {
     "name": "stdout",
     "output_type": "stream",
     "text": [
      "questions have an average of 12.563 +/- 4.393 unique labels\n",
      "annotators have an average of 2.704 +/- 0.534 unique labels\n"
     ]
    }
   ],
   "source": [
    "def get_num_unique_labels_per_annotator(data):\n",
    "    ## TODO: only include first label from each annotator? some annotators may have included extra words just for bonus\n",
    "    data_annotation_label_sets = [set([y.lower() for y in x]) for x in data['additional_answers']]\n",
    "    num_unique_data_annotation_labels = list(map(lambda x: len(x), data_annotation_label_sets))\n",
    "    mean_unique_data_annotation_labels = np.mean(num_unique_data_annotation_labels)\n",
    "    return mean_unique_data_annotation_labels\n",
    "unique_labels_per_question = list(map(lambda x: list(sorted(set([z.lower() for y in x['additional_answers'] for z in y]))), valid_annotated_data))\n",
    "num_unique_labels_per_question = list(map(lambda x: len(x), unique_labels_per_question))\n",
    "num_unique_labels_per_question_per_annotator = list(map(lambda x: get_num_unique_labels_per_annotator(x), valid_annotated_data))\n",
    "plt.hist(num_unique_labels_per_question){}\n",
    "plt.xlabel('Number unique labels')\n",
    "plt.title('Labels per question')\n",
    "plt.show()\n",
    "plt.hist(num_unique_labels_per_question_per_annotator)\n",
    "plt.xlabel('Number unique labels')\n",
    "plt.title('Labels per question (per annotator)')\n",
    "plt.show()\n",
    "print('questions have an average of %.3f +/- %.3f unique labels'%(np.mean(num_unique_labels_per_question), np.std(num_unique_labels_per_question)))\n",
    "print('annotators have an average of %.3f +/- %.3f unique labels'%(np.mean(num_unique_labels_per_question_per_annotator), np.std(num_unique_labels_per_question_per_annotator)))"
   ]
  },
  {
   "cell_type": "markdown",
   "id": "innovative-flood",
   "metadata": {},
   "source": [
    "Most questions have around 12 unique labels total and 3 unique labels per annotator."
   ]
  },
  {
   "cell_type": "markdown",
   "id": "genetic-empty",
   "metadata": {},
   "source": [
    "Which questions have the most unique labels per annotator?"
   ]
  },
  {
   "cell_type": "code",
   "execution_count": 67,
   "id": "important-warner",
   "metadata": {
    "scrolled": true
   },
   "outputs": [
    {
     "name": "stdout",
     "output_type": "stream",
     "text": [
      "questions with highest number unique labels per annotator\n"
     ]
    },
    {
     "data": {
      "text/html": [
       "<div>\n",
       "<style scoped>\n",
       "    .dataframe tbody tr th:only-of-type {\n",
       "        vertical-align: middle;\n",
       "    }\n",
       "\n",
       "    .dataframe tbody tr th {\n",
       "        vertical-align: top;\n",
       "    }\n",
       "\n",
       "    .dataframe thead th {\n",
       "        text-align: right;\n",
       "    }\n",
       "</style>\n",
       "<table border=\"1\" class=\"dataframe\">\n",
       "  <thead>\n",
       "    <tr style=\"text-align: right;\">\n",
       "      <th></th>\n",
       "      <th>prompt</th>\n",
       "      <th>unique_label_count</th>\n",
       "      <th>unique_labels</th>\n",
       "    </tr>\n",
       "  </thead>\n",
       "  <tbody>\n",
       "    <tr>\n",
       "      <th>278</th>\n",
       "      <td>_____ lifts a heavy weight from the ground up.</td>\n",
       "      <td>5.0</td>\n",
       "      <td>[a body builder, a bodybuilder, a female, a female athlete, a female body builder, a female bodybuilder, a gal, a girl, a lady, a small lady, a small woman, a tiny lady, a weight lifter, a woman, ...</td>\n",
       "    </tr>\n",
       "    <tr>\n",
       "      <th>905</th>\n",
       "      <td>A group of drivers race cars on _____ in front of onlookers.</td>\n",
       "      <td>4.8</td>\n",
       "      <td>[a circuit, a course, a dirt track, a field, a racetrack, a raceway, a speedway, a stretch, a track, clay, dirt, dirt path, dry sand, mud, race grounds, sand, the dirt, the ground, the mud, the tr...</td>\n",
       "    </tr>\n",
       "    <tr>\n",
       "      <th>260</th>\n",
       "      <td>A man is walking by _____ that is completely full then comes back and smashes the computer monitor sitting on top with a baseball bat.</td>\n",
       "      <td>4.714286</td>\n",
       "      <td>[a bin, a black bin, a black bin with garbage, a black garbage bin, a black rubbish bin, a black trash can, a black trashcan, a dumpster, a garbage bin, a garbage can, a garbage receptacle, a grey...</td>\n",
       "    </tr>\n",
       "    <tr>\n",
       "      <th>427</th>\n",
       "      <td>A group of _____ in pink tutus dancing in a circle on stage.</td>\n",
       "      <td>4.428571</td>\n",
       "      <td>[arm-in-arm girls, balet students, ballerinas, children, dancers, girls, kids, little girls, little kids, students, toddlers, young ballerinas, young dancers, young girls]</td>\n",
       "    </tr>\n",
       "    <tr>\n",
       "      <th>45</th>\n",
       "      <td>A woman works with _____ at a spinning potter's wheel.</td>\n",
       "      <td>4.428571</td>\n",
       "      <td>[a bowl, a class, a piece of pottery, boys, boys and girls, clay, ease, focus, girls, her children, her class, her family, her hands, her kids, her students, kids, lady, mud, potter, pottery, skil...</td>\n",
       "    </tr>\n",
       "    <tr>\n",
       "      <th>831</th>\n",
       "      <td>_____ uses several smaller containers to efficiently pack a suitcase while music plays.</td>\n",
       "      <td>4.333333</td>\n",
       "      <td>[a chick, a girl, a lady, a lass, a person, a traveler, a woman, female, person, someone, woman, young lady]</td>\n",
       "    </tr>\n",
       "    <tr>\n",
       "      <th>835</th>\n",
       "      <td>_____ was picking berries from a bush outside on a sunny day.</td>\n",
       "      <td>4.333333</td>\n",
       "      <td>[a family, a mother and daughter, a person, a woman, a woman and a girl, a young lady and an old lady, adult and child, duo, folks, girl, mother and daughter, people, woman]</td>\n",
       "    </tr>\n",
       "    <tr>\n",
       "      <th>936</th>\n",
       "      <td>_____ kicks soccer balls into a net while on a grass field.</td>\n",
       "      <td>4.333333</td>\n",
       "      <td>[a boy, a child, a guy, a human, a kid, a male, a person, a player, a soccer player, a son, a team member, a young boy, a youth, an adolescent, athlete, boy, my daughter's friend, our neighbor, pl...</td>\n",
       "    </tr>\n",
       "    <tr>\n",
       "      <th>576</th>\n",
       "      <td>_____ plays an instrument while wearing a pink shirt.</td>\n",
       "      <td>4.2</td>\n",
       "      <td>[a bald man, a guy, a man, a musician, a performer, a person, a saxophone player, a saxophonist, a singer, an entertainer, an individual, an old man, an older man, artist, musician, someone]</td>\n",
       "    </tr>\n",
       "    <tr>\n",
       "      <th>749</th>\n",
       "      <td>A man standing in front of a microphone playing some kind of _____.</td>\n",
       "      <td>4.2</td>\n",
       "      <td>[an harmonica-like instrument, flute, instrument, music, musical instrument, noise, pan flute, pan flute music, panflute, pipe, song, tool, unknown instrument, wood instrument, wooden instrument, ...</td>\n",
       "    </tr>\n",
       "  </tbody>\n",
       "</table>\n",
       "</div>"
      ],
      "text/plain": [
       "                                                                                                                                     prompt  ...                                                                                                                                                                                            unique_labels\n",
       "278                                                                                          _____ lifts a heavy weight from the ground up.  ...  [a body builder, a bodybuilder, a female, a female athlete, a female body builder, a female bodybuilder, a gal, a girl, a lady, a small lady, a small woman, a tiny lady, a weight lifter, a woman, ...\n",
       "905                                                                            A group of drivers race cars on _____ in front of onlookers.  ...  [a circuit, a course, a dirt track, a field, a racetrack, a raceway, a speedway, a stretch, a track, clay, dirt, dirt path, dry sand, mud, race grounds, sand, the dirt, the ground, the mud, the tr...\n",
       "260  A man is walking by _____ that is completely full then comes back and smashes the computer monitor sitting on top with a baseball bat.  ...  [a bin, a black bin, a black bin with garbage, a black garbage bin, a black rubbish bin, a black trash can, a black trashcan, a dumpster, a garbage bin, a garbage can, a garbage receptacle, a grey...\n",
       "427                                                                            A group of _____ in pink tutus dancing in a circle on stage.  ...                              [arm-in-arm girls, balet students, ballerinas, children, dancers, girls, kids, little girls, little kids, students, toddlers, young ballerinas, young dancers, young girls]\n",
       "45                                                                                   A woman works with _____ at a spinning potter's wheel.  ...  [a bowl, a class, a piece of pottery, boys, boys and girls, clay, ease, focus, girls, her children, her class, her family, her hands, her kids, her students, kids, lady, mud, potter, pottery, skil...\n",
       "831                                                 _____ uses several smaller containers to efficiently pack a suitcase while music plays.  ...                                                                                             [a chick, a girl, a lady, a lass, a person, a traveler, a woman, female, person, someone, woman, young lady]\n",
       "835                                                                           _____ was picking berries from a bush outside on a sunny day.  ...                            [a family, a mother and daughter, a person, a woman, a woman and a girl, a young lady and an old lady, adult and child, duo, folks, girl, mother and daughter, people, woman]\n",
       "936                                                                             _____ kicks soccer balls into a net while on a grass field.  ...  [a boy, a child, a guy, a human, a kid, a male, a person, a player, a soccer player, a son, a team member, a young boy, a youth, an adolescent, athlete, boy, my daughter's friend, our neighbor, pl...\n",
       "576                                                                                   _____ plays an instrument while wearing a pink shirt.  ...           [a bald man, a guy, a man, a musician, a performer, a person, a saxophone player, a saxophonist, a singer, an entertainer, an individual, an old man, an older man, artist, musician, someone]\n",
       "749                                                                     A man standing in front of a microphone playing some kind of _____.  ...  [an harmonica-like instrument, flute, instrument, music, musical instrument, noise, pan flute, pan flute music, panflute, pipe, song, tool, unknown instrument, wood instrument, wooden instrument, ...\n",
       "\n",
       "[10 rows x 3 columns]"
      ]
     },
     "metadata": {},
     "output_type": "display_data"
    },
    {
     "name": "stdout",
     "output_type": "stream",
     "text": [
      "questions with lowest number unique labels per annotator\n"
     ]
    },
    {
     "data": {
      "text/html": [
       "<div>\n",
       "<style scoped>\n",
       "    .dataframe tbody tr th:only-of-type {\n",
       "        vertical-align: middle;\n",
       "    }\n",
       "\n",
       "    .dataframe tbody tr th {\n",
       "        vertical-align: top;\n",
       "    }\n",
       "\n",
       "    .dataframe thead th {\n",
       "        text-align: right;\n",
       "    }\n",
       "</style>\n",
       "<table border=\"1\" class=\"dataframe\">\n",
       "  <thead>\n",
       "    <tr style=\"text-align: right;\">\n",
       "      <th></th>\n",
       "      <th>prompt</th>\n",
       "      <th>unique_label_count</th>\n",
       "      <th>unique_labels</th>\n",
       "    </tr>\n",
       "  </thead>\n",
       "  <tbody>\n",
       "    <tr>\n",
       "      <th>645</th>\n",
       "      <td>A man demonstrates how to install _____.</td>\n",
       "      <td>1.666667</td>\n",
       "      <td>[a bicycle chain, a bike chain, a cycle chain, a master link, a new bike chain, a piece of equipement, new chain links, the chain]</td>\n",
       "    </tr>\n",
       "    <tr>\n",
       "      <th>863</th>\n",
       "      <td>The man in _____ checks and trims the toenails of a small animal.</td>\n",
       "      <td>1.625</td>\n",
       "      <td>[a black sweater, a knit shirt, a sweater, a warm sweater, black pants, chair, the clip, the vet's office, the video]</td>\n",
       "    </tr>\n",
       "    <tr>\n",
       "      <th>613</th>\n",
       "      <td>Two person one standing on _____ and the other doing a cock wheel.</td>\n",
       "      <td>1.6</td>\n",
       "      <td>[his head, the circle, the floor, the groung, their head, top of his head]</td>\n",
       "    </tr>\n",
       "    <tr>\n",
       "      <th>468</th>\n",
       "      <td>A man juggles balls one-handed and then two-handed and tosses them to a person off-_____.</td>\n",
       "      <td>1.5</td>\n",
       "      <td>[balance, camera, frame, shot, the shot]</td>\n",
       "    </tr>\n",
       "    <tr>\n",
       "      <th>306</th>\n",
       "      <td>A toddler boy is feeding _____ spaghetti at the dinner table.</td>\n",
       "      <td>1.5</td>\n",
       "      <td>[forkfuls of, himself, his belly, his mouth, while sitting and using fork to eat]</td>\n",
       "    </tr>\n",
       "    <tr>\n",
       "      <th>720</th>\n",
       "      <td>A young boy who seems to be timing _____ how fast he can eat a snack.</td>\n",
       "      <td>1.333333</td>\n",
       "      <td>[a challenge of, a recording of, himself, his self, to calculate, to see]</td>\n",
       "    </tr>\n",
       "    <tr>\n",
       "      <th>747</th>\n",
       "      <td>A man, outdoors at a gas station, is demonstrating step-by-_____, how to pump gas.</td>\n",
       "      <td>1.333333</td>\n",
       "      <td>[step, the way]</td>\n",
       "    </tr>\n",
       "    <tr>\n",
       "      <th>214</th>\n",
       "      <td>Two teams play football, and the team in _____ completes a pass.</td>\n",
       "      <td>1.333333</td>\n",
       "      <td>[offense, red jerseys, red shirts, the left]</td>\n",
       "    </tr>\n",
       "    <tr>\n",
       "      <th>705</th>\n",
       "      <td>Packages of paper are being wrapped in paper plastic and stacked on _____ of each other.</td>\n",
       "      <td>1.25</td>\n",
       "      <td>[a device next, a machine, top]</td>\n",
       "    </tr>\n",
       "    <tr>\n",
       "      <th>847</th>\n",
       "      <td>A person is showing how _____ open a beer with a screw driver indoors.</td>\n",
       "      <td>1.0</td>\n",
       "      <td>[he, people, to screw open, you]</td>\n",
       "    </tr>\n",
       "  </tbody>\n",
       "</table>\n",
       "</div>"
      ],
      "text/plain": [
       "                                                                                        prompt  ...                                                                                                                       unique_labels\n",
       "645                                                   A man demonstrates how to install _____.  ...  [a bicycle chain, a bike chain, a cycle chain, a master link, a new bike chain, a piece of equipement, new chain links, the chain]\n",
       "863                          The man in _____ checks and trims the toenails of a small animal.  ...               [a black sweater, a knit shirt, a sweater, a warm sweater, black pants, chair, the clip, the vet's office, the video]\n",
       "613                         Two person one standing on _____ and the other doing a cock wheel.  ...                                                          [his head, the circle, the floor, the groung, their head, top of his head]\n",
       "468  A man juggles balls one-handed and then two-handed and tosses them to a person off-_____.  ...                                                                                            [balance, camera, frame, shot, the shot]\n",
       "306                              A toddler boy is feeding _____ spaghetti at the dinner table.  ...                                                   [forkfuls of, himself, his belly, his mouth, while sitting and using fork to eat]\n",
       "720                      A young boy who seems to be timing _____ how fast he can eat a snack.  ...                                                           [a challenge of, a recording of, himself, his self, to calculate, to see]\n",
       "747         A man, outdoors at a gas station, is demonstrating step-by-_____, how to pump gas.  ...                                                                                                                     [step, the way]\n",
       "214                           Two teams play football, and the team in _____ completes a pass.  ...                                                                                        [offense, red jerseys, red shirts, the left]\n",
       "705   Packages of paper are being wrapped in paper plastic and stacked on _____ of each other.  ...                                                                                                     [a device next, a machine, top]\n",
       "847                     A person is showing how _____ open a beer with a screw driver indoors.  ...                                                                                                    [he, people, to screw open, you]\n",
       "\n",
       "[10 rows x 3 columns]"
      ]
     },
     "metadata": {},
     "output_type": "display_data"
    }
   ],
   "source": [
    "pd.set_option('display.max_colwidth', 200)\n",
    "question_prompts = list(map(lambda x: x['masked_caption'], valid_annotated_data))\n",
    "\n",
    "unique_labels_per_question_per_annotator_data = pd.DataFrame([\n",
    "    question_prompts,\n",
    "    unique_labels_per_question_per_annotator,\n",
    "    unique_labels_per_question,\n",
    "], index=['prompt', 'unique_label_count', 'unique_labels']).transpose()\n",
    "unique_labels_per_question_per_annotator_data.sort_values('unique_label_count', inplace=True, ascending=False)\n",
    "print('questions with highest number unique labels per annotator')\n",
    "display(unique_labels_per_question_per_annotator_data.head(10))\n",
    "print('questions with lowest number unique labels per annotator')\n",
    "display(unique_labels_per_question_per_annotator_data.tail(10))"
   ]
  },
  {
   "cell_type": "markdown",
   "id": "younger-arthritis",
   "metadata": {},
   "source": [
    "Questions with higher number of unique labels seem to inspire creative answers (`a group of ____ in pink tutus` => different paraphrases for `child`) and address multiple possible aspects of an event due to ambiguity (`a woman works with ____` => \"with\" applies to other `AGENT` nouns and `INSTRUMENT` nouns).\n",
    "\n",
    "Questions with lower number of unique labels seem to have very specific scenarios without room for paraphrasing or ambiguity (`to a person off-____` => the blank can only be \"camera\")."
   ]
  },
  {
   "cell_type": "code",
   "execution_count": null,
   "id": "continuous-migration",
   "metadata": {},
   "outputs": [],
   "source": []
  }
 ],
 "metadata": {
  "kernelspec": {
   "display_name": "Python [conda env:py3] *",
   "language": "python",
   "name": "conda-env-py3-py"
  },
  "language_info": {
   "codemirror_mode": {
    "name": "ipython",
    "version": 3
   },
   "file_extension": ".py",
   "mimetype": "text/x-python",
   "name": "python",
   "nbconvert_exporter": "python",
   "pygments_lexer": "ipython3",
   "version": "3.7.9"
  }
 },
 "nbformat": 4,
 "nbformat_minor": 5
}
