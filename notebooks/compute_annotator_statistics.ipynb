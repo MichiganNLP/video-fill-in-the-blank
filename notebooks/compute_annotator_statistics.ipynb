{
 "cells": [
  {
   "cell_type": "markdown",
   "metadata": {},
   "source": [
    "# Test annotated data"
   ]
  },
  {
   "cell_type": "code",
   "execution_count": 1,
   "metadata": {
    "scrolled": true
   },
   "outputs": [],
   "source": [
    "import sys\n",
    "if('..' not in sys.path):\n",
    "    sys.path.append('..')\n",
    "from lqam.methods.dataset import URL_DATA_VAL, URL_DATA_TEST\n",
    "from lqam.util.file_utils import cached_path\n",
    "import requests\n",
    "import json\n",
    "def load_data_from_link(link, cache_dir='../data/'):\n",
    "#     return json.loads(requests.get(link).text)\n",
    "    data = json.load(open(cached_path(link, cache_dir)))\n",
    "    return data\n",
    "val_data = load_data_from_link(URL_DATA_VAL)\n",
    "test_data = load_data_from_link(URL_DATA_TEST)\n",
    "annotated_data = val_data + test_data"
   ]
  },
  {
   "cell_type": "code",
   "execution_count": 2,
   "metadata": {},
   "outputs": [
    {
     "name": "stdout",
     "output_type": "stream",
     "text": [
      "1985\n"
     ]
    }
   ],
   "source": [
    "print(len(annotated_data))"
   ]
  },
  {
   "cell_type": "code",
   "execution_count": 3,
   "metadata": {},
   "outputs": [],
   "source": [
    "## normalize all data\n",
    "import sys\n",
    "if('..' not in sys.path):\n",
    "    sys.path.append('..')\n",
    "from lqam.core.metrics import normalize_answer\n",
    "for data_i in annotated_data:\n",
    "    data_i['label_norm'] = normalize_answer(data_i['label'])\n",
    "    data_i['annotations_norm'] = [[normalize_answer(y) for y in x] for x in data_i['additional_answers']]"
   ]
  },
  {
   "cell_type": "markdown",
   "metadata": {},
   "source": [
    "## Noun distribution\n",
    "Let's look at the top-K nouns for (1) ground-truth data and (2) labeled data."
   ]
  },
  {
   "cell_type": "code",
   "execution_count": 4,
   "metadata": {
    "scrolled": true
   },
   "outputs": [
    {
     "data": {
      "text/plain": [
       "man          113\n",
       "person        56\n",
       "woman         50\n",
       "it            46\n",
       "people        31\n",
       "group         22\n",
       "he            20\n",
       "boy           19\n",
       "someone       19\n",
       "them          18\n",
       "girl          17\n",
       "front         17\n",
       "young man     13\n",
       "camera        13\n",
       "table         12\n",
       "piece         12\n",
       "ball          11\n",
       "baby          11\n",
       "child         11\n",
       "she           10\n",
       "dtype: int64"
      ]
     },
     "metadata": {},
     "output_type": "display_data"
    }
   ],
   "source": [
    "import pandas as pd\n",
    "ground_truth_labels = list(map(lambda x: x['label_norm'], annotated_data))\n",
    "ground_truth_label_counts = pd.Series(ground_truth_labels).value_counts()\n",
    "display(ground_truth_label_counts.head(20))"
   ]
  },
  {
   "cell_type": "code",
   "execution_count": 5,
   "metadata": {
    "scrolled": true
   },
   "outputs": [
    {
     "data": {
      "text/plain": [
       "person       405\n",
       "man          310\n",
       "guy          229\n",
       "someone      224\n",
       "woman        171\n",
       "girl         153\n",
       "people       152\n",
       "boy          140\n",
       "kid          132\n",
       "male         127\n",
       "child        126\n",
       "lady         125\n",
       "room          89\n",
       "group         87\n",
       "female        83\n",
       "kids          79\n",
       "it            76\n",
       "gentleman     71\n",
       "human         69\n",
       "young man     61\n",
       "dtype: int64"
      ]
     },
     "metadata": {},
     "output_type": "display_data"
    }
   ],
   "source": [
    "from functools import reduce\n",
    "annotation_labels = []\n",
    "for annotated_data_i in annotated_data:\n",
    "    annotations_i = set()\n",
    "    for annotations_j in annotated_data_i['annotations_norm']:\n",
    "        # remove duplicate annotations\n",
    "        annotations_i.update(annotations_j)\n",
    "    annotation_labels.extend(list(annotations_i))\n",
    "annotation_label_counts = pd.Series(annotation_labels).value_counts()\n",
    "display(annotation_label_counts.head(20))"
   ]
  },
  {
   "cell_type": "code",
   "execution_count": 7,
   "metadata": {},
   "outputs": [
    {
     "name": "stdout",
     "output_type": "stream",
     "text": [
      "\\begin{tabular}{lrlr}\n",
      "\\toprule\n",
      "   index &    0 &    index &    0 \\\\\n",
      "\\midrule\n",
      "     man &  113 &   person &  405 \\\\\n",
      "  person &   56 &      man &  310 \\\\\n",
      "   woman &   50 &      guy &  229 \\\\\n",
      "      it &   46 &  someone &  224 \\\\\n",
      "  people &   31 &    woman &  171 \\\\\n",
      "   group &   22 &     girl &  153 \\\\\n",
      "      he &   20 &   people &  152 \\\\\n",
      " someone &   19 &      boy &  140 \\\\\n",
      "     boy &   19 &      kid &  132 \\\\\n",
      "    them &   18 &     male &  127 \\\\\n",
      "\\bottomrule\n",
      "\\end{tabular}\n",
      "\n"
     ]
    }
   ],
   "source": [
    "## combine counts for table\n",
    "combined_label_counts = pd.concat([\n",
    "    ground_truth_label_counts.reset_index().head(10),\n",
    "    annotation_label_counts.reset_index().head(10),\n",
    "], axis=1)\n",
    "print(combined_label_counts.to_latex(index=False))"
   ]
  },
  {
   "cell_type": "code",
   "execution_count": 7,
   "metadata": {},
   "outputs": [],
   "source": [
    "## plot both distributions\n",
    "import matplotlib\n",
    "%matplotlib inline\n",
    "import matplotlib.pyplot as plt\n",
    "def plot_word_distribution(word_counts, plot_name):\n",
    "    plt.barh(word_counts.index, word_counts.values)\n",
    "    plt.xlabel('Count')\n",
    "    plt.title(f'Top counts for {plot_name}')\n",
    "    plt.show()"
   ]
  },
  {
   "cell_type": "code",
   "execution_count": 9,
   "metadata": {},
   "outputs": [
    {
     "data": {
      "image/png": "[encoded data removed]",
      "text/plain": [
       "<Figure size 432x288 with 1 Axes>"
      ]
     },
     "metadata": {
      "needs_background": "light"
     },
     "output_type": "display_data"
    },
    {
     "data": {
      "image/png": "[encoded data removed]",
      "text/plain": [
       "<Figure size 432x288 with 1 Axes>"
      ]
     },
     "metadata": {
      "needs_background": "light"
     },
     "output_type": "display_data"
    }
   ],
   "source": [
    "top_k = 10\n",
    "plot_word_distribution(ground_truth_label_counts.head(top_k).sort_values(ascending=True), 'ground truth labels')\n",
    "plot_word_distribution(annotation_label_counts.head(top_k).sort_values(ascending=True), 'annotations')"
   ]
  },
  {
   "cell_type": "code",
   "execution_count": null,
   "metadata": {},
   "outputs": [],
   "source": []
  },
  {
   "cell_type": "markdown",
   "metadata": {},
   "source": [
    "### Nouns with low/high agreement\n",
    "Which nouns have lower or higher agreement?"
   ]
  },
  {
   "cell_type": "code",
   "execution_count": 7,
   "metadata": {},
   "outputs": [],
   "source": [
    "from lqam.core.metrics import normalize_answer, tokenize_answer_to_compute_metrics, compute_token_level_f1_many\n",
    "def compute_overlap_score(label, annotations):\n",
    "    label_tokens = tokenize_answer_to_compute_metrics(normalize_answer(label))\n",
    "    annotation_tokens = list(map(lambda x: list(map(lambda y: tokenize_answer_to_compute_metrics(normalize_answer(y)), x)), annotations))\n",
    "    # flatten token lists\n",
    "    annotation_tokens = [y for x in annotation_tokens for y in x]\n",
    "    overlap_score = compute_token_level_f1_many(label_tokens, annotation_tokens)\n",
    "    return overlap_score"
   ]
  },
  {
   "cell_type": "code",
   "execution_count": 8,
   "metadata": {},
   "outputs": [
    {
     "data": {
      "image/png": "[encoded data removed]",
      "text/plain": [
       "<Figure size 432x288 with 1 Axes>"
      ]
     },
     "metadata": {
      "needs_background": "light"
     },
     "output_type": "display_data"
    }
   ],
   "source": [
    "# show distribution first\n",
    "import matplotlib\n",
    "%matplotlib inline\n",
    "import matplotlib.pyplot as plt\n",
    "valid_annotated_data = list(filter(lambda x: len(x['additional_answers']) > 0, annotated_data))\n",
    "overlap_scores = list(map(lambda x: compute_overlap_score(x['label_norm'], x['annotations_norm']), valid_annotated_data))\n",
    "plt.hist(overlap_scores)\n",
    "plt.xlabel(\"Match score\")\n",
    "plt.yscale('log')\n",
    "plt.show()"
   ]
  },
  {
   "cell_type": "code",
   "execution_count": 9,
   "metadata": {},
   "outputs": [
    {
     "name": "stdout",
     "output_type": "stream",
     "text": [
      "70.91836734693877% of captions with at least one complete overlap\n"
     ]
    }
   ],
   "source": [
    "import numpy as np\n",
    "print(f'{(np.array(overlap_scores) == 1.0).sum() / len(overlap_scores)*100}% of captions with at least one complete overlap')"
   ]
  },
  {
   "cell_type": "markdown",
   "metadata": {},
   "source": [
    "Most questions have fairly low rate of exact matches, which may be unusually low for questions with higher number of annotations provided."
   ]
  },
  {
   "cell_type": "code",
   "execution_count": 10,
   "metadata": {
    "scrolled": true
   },
   "outputs": [
    {
     "name": "stdout",
     "output_type": "stream",
     "text": [
      "ground-truth labels with highest annotation overlap\n"
     ]
    },
    {
     "data": {
      "text/plain": [
       "label\n",
       "melody                1.0\n",
       "file                  1.0\n",
       "needle                1.0\n",
       "narrator              1.0\n",
       "napkin fold           1.0\n",
       "nails                 1.0\n",
       "bat                   1.0\n",
       "musical instrument    1.0\n",
       "music                 1.0\n",
       "mozzarella cheese     1.0\n",
       "movie                 1.0\n",
       "mountain              1.0\n",
       "few seconds           1.0\n",
       "motorcycle            1.0\n",
       "mother                1.0\n",
       "mosh pit              1.0\n",
       "monopoly              1.0\n",
       "mixture               1.0\n",
       "bathroom              1.0\n",
       "net                   1.0\n",
       "dtype: float64"
      ]
     },
     "metadata": {},
     "output_type": "display_data"
    },
    {
     "name": "stdout",
     "output_type": "stream",
     "text": [
      "ground-truth labels with lowest annotation overlap\n"
     ]
    },
    {
     "data": {
      "text/plain": [
       "label\n",
       "45 degree angle    0.0\n",
       "twine              0.0\n",
       "top view           0.0\n",
       "another couple     0.0\n",
       "top portion        0.0\n",
       "another item       0.0\n",
       "timelapse          0.0\n",
       "twos               0.0\n",
       "time               0.0\n",
       "tiedye             0.0\n",
       "themselves         0.0\n",
       "their way          0.0\n",
       "another talks      0.0\n",
       "tail play          0.0\n",
       "taekwondo          0.0\n",
       "swirl              0.0\n",
       "anvil              0.0\n",
       "surface            0.0\n",
       "studio             0.0\n",
       "project            0.0\n",
       "dtype: float64"
      ]
     },
     "metadata": {},
     "output_type": "display_data"
    }
   ],
   "source": [
    "## compute average overlap per NP\n",
    "valid_annotated_data_labels = list(map(lambda x: x['label_norm'], valid_annotated_data))\n",
    "label_annotation_overlap = pd.DataFrame(list(zip(valid_annotated_data_labels, overlap_scores)), columns=['label', 'overlap_score'])\n",
    "label_annotation_overlap_aggregate = label_annotation_overlap.groupby('label').apply(lambda x: x.loc[:, 'overlap_score'].mean())\n",
    "label_annotation_overlap_aggregate.sort_values(inplace=True, ascending=False)\n",
    "print('ground-truth labels with highest annotation overlap')\n",
    "display(label_annotation_overlap_aggregate.head(20))\n",
    "label_annotation_overlap_aggregate.sort_values(inplace=True, ascending=True)\n",
    "print('ground-truth labels with lowest annotation overlap')\n",
    "display(label_annotation_overlap_aggregate.head(20))"
   ]
  },
  {
   "cell_type": "markdown",
   "metadata": {},
   "source": [
    "The words with higher agreement tend to be simple and concrete nouns (`motorcycle`, `bat`).\n",
    "\n",
    "The words with lower agreement tend to be highly specific (`45 degree angle`, `taekwondo`) or vague (`twos`, `time`)."
   ]
  },
  {
   "cell_type": "markdown",
   "metadata": {},
   "source": [
    "## Tokens per NP\n",
    "How many tokens on average does each noun phrase contain?\n",
    "\n",
    "We'll look at this for both ground-truth and annotations."
   ]
  },
  {
   "cell_type": "code",
   "execution_count": 11,
   "metadata": {
    "scrolled": true
   },
   "outputs": [
    {
     "name": "stdout",
     "output_type": "stream",
     "text": [
      "gold label NPs have 1.467 +/- 0.684 tokens\n",
      "annotation NPs have 1.359 +/- 0.680 tokens\n"
     ]
    },
    {
     "data": {
      "image/png": "[encoded data removed]",
      "text/plain": [
       "<Figure size 432x288 with 1 Axes>"
      ]
     },
     "metadata": {
      "needs_background": "light"
     },
     "output_type": "display_data"
    }
   ],
   "source": [
    "from nltk.tokenize import WordPunctTokenizer\n",
    "import numpy as np\n",
    "tokenizer = WordPunctTokenizer()\n",
    "label_token_counts = list(map(lambda x: len(tokenizer.tokenize(x)), valid_annotated_data_labels))\n",
    "flat_annotation_labels = [z for x in valid_annotated_data for y in x['annotations_norm'] for z in y]\n",
    "# remove null labels?\n",
    "flat_annotation_labels = list(filter(lambda x: len(x) > 0, flat_annotation_labels))\n",
    "annotation_label_token_counts = [len(tokenizer.tokenize(x)) for x in flat_annotation_labels]\n",
    "print('gold label NPs have %.3f +/- %.3f tokens'%(np.mean(label_token_counts), np.std(label_token_counts)))\n",
    "print('annotation NPs have %.3f +/- %.3f tokens'%(np.mean(annotation_label_token_counts), np.std(annotation_label_token_counts)))\n",
    "## get combined counts => show as bar chart\n",
    "label_token_count_bins = pd.Series(label_token_counts).value_counts().reset_index().assign(**{'data_type' : 'label'})\n",
    "annotation_label_token_count_bins = pd.Series(annotation_label_token_counts).value_counts().reset_index().assign(**{'data_type' : 'annotation'})\n",
    "combined_token_count_bins = pd.concat([\n",
    "    label_token_count_bins,\n",
    "    annotation_label_token_count_bins,\n",
    "]).rename(columns={'index' : 'tokens', 0 : 'count'})\n",
    "import seaborn as sns\n",
    "sns.barplot(y='count', x='tokens', data=combined_token_count_bins, hue='data_type')\n",
    "plt.legend(loc='upper right')\n",
    "plt.yscale('log')\n",
    "plt.show()"
   ]
  },
  {
   "cell_type": "markdown",
   "metadata": {},
   "source": [
    "The gold labels tend to be slightly longer, and annotation labels are more central-skewed (2 words or below) vs. the long tail of tokens in the gold labels."
   ]
  },
  {
   "cell_type": "markdown",
   "metadata": {},
   "source": [
    "What are the longest/shortest labels in each set?"
   ]
  },
  {
   "cell_type": "code",
   "execution_count": 12,
   "metadata": {
    "scrolled": true
   },
   "outputs": [
    {
     "name": "stdout",
     "output_type": "stream",
     "text": [
      "longest gold label NPs\n"
     ]
    },
    {
     "data": {
      "text/plain": [
       "innocent cute little baby boy           5\n",
       "loud and annoying music blares          5\n",
       "beautiful looking oil based painting    5\n",
       "black and white knitting kit            5\n",
       "blue top and black trousers             5\n",
       "cows back end shows                     4\n",
       "track and field event                   4\n",
       "strung out teenage girls                4\n",
       "jumbo chocolate chip cookies            4\n",
       "lettuce and blue cheese                 4\n",
       "another persons belly button            4\n",
       "basic photo copy machine                4\n",
       "about nine game pieces                  4\n",
       "ornately costumed dance squad           4\n",
       "his toy train set                       4\n",
       "very well built woman                   4\n",
       "high school age cheerleaders            4\n",
       "large multiple dig site                 4\n",
       "two consecutive back flips              4\n",
       "human ping pong ball                    4\n",
       "dtype: int64"
      ]
     },
     "metadata": {},
     "output_type": "display_data"
    },
    {
     "name": "stdout",
     "output_type": "stream",
     "text": [
      "longest annotation NPs\n"
     ]
    },
    {
     "data": {
      "text/plain": [
       "2 teams one in yellow jerseys and one white jerseys       10\n",
       "how she always has handful of dog food to start           10\n",
       "man who looks like to be in his mid 30s                   10\n",
       "poor animal who needs its wool to stay warm                9\n",
       "how to hit golf ball close to hole                         8\n",
       "male wearing shoes and black pants with stripes            8\n",
       "2 young kids with shorts and no shirts                     8\n",
       "cowboy wearing blue jeans and blue jean jacket             8\n",
       "boy in black and boy in blue tshirt                        8\n",
       "2 people total and 1 in full view                          8\n",
       "sample piece of yarn on pair of                            7\n",
       "how to land just short of green                            7\n",
       "conversation about how professionalism and ethics help     7\n",
       "nothing but clothes and equipment on him                   7\n",
       "how much he is using to clean                              7\n",
       "while sitting and using fork to eat                        7\n",
       "2 males wearing blue shirt and shorts                      7\n",
       "girl in tshirt and bathing suit bottom                     7\n",
       "young man in black shirt and hat                           7\n",
       "another person that is laying on table                     7\n",
       "dtype: int64"
      ]
     },
     "metadata": {},
     "output_type": "display_data"
    }
   ],
   "source": [
    "label_token_count_data = pd.Series(label_token_counts, index=list(map(lambda x: x.lower(), valid_annotated_data_labels))).sort_values(inplace=False, ascending=False)\n",
    "flat_annotation_label_token_count_data = pd.Series(annotation_label_token_counts, index=list(map(lambda x: x.lower(), flat_annotation_labels))).sort_values(inplace=False, ascending=False)\n",
    "label_token_count_data = label_token_count_data[~label_token_count_data.index.duplicated()]\n",
    "flat_annotation_label_token_count_data = flat_annotation_label_token_count_data[~flat_annotation_label_token_count_data.index.duplicated()]\n",
    "print('longest gold label NPs')\n",
    "display(label_token_count_data.head(20))\n",
    "print('longest annotation NPs')\n",
    "display(flat_annotation_label_token_count_data.head(20))"
   ]
  },
  {
   "cell_type": "markdown",
   "metadata": {},
   "source": [
    "The longest NPs for the gold labels tend to have multiple adjectives (`an innocent cute little baby boy`) and possessive markers (`his toy train set`).\n",
    "\n",
    "The longest NPs for the annotation labels tend to have coordination (`boy in black and boy in blue tshirt`) and long, unnecessary subclauses (`poor animal who needs it's wool to stay warm`)."
   ]
  },
  {
   "cell_type": "markdown",
   "metadata": {},
   "source": [
    "### Chars per token\n",
    "How long is each token? We expect that the tokens in the original labels will be slightly longer than the tokens for the annotations."
   ]
  },
  {
   "cell_type": "code",
   "execution_count": 13,
   "metadata": {},
   "outputs": [
    {
     "data": {
      "image/png": "[encoded data removed]",
      "text/plain": [
       "<Figure size 432x288 with 1 Axes>"
      ]
     },
     "metadata": {
      "needs_background": "light"
     },
     "output_type": "display_data"
    }
   ],
   "source": [
    "annotated_data_label_tokens = list(map(lambda x: tokenizer.tokenize(x), valid_annotated_data_labels))\n",
    "annotated_data_annotation_tokens = list(map(lambda x: tokenizer.tokenize(x), flat_annotation_labels))\n",
    "## flatten\n",
    "flat_label_tokens = [y for x in annotated_data_label_tokens for y in x]\n",
    "flat_annotation_tokens = [y for x in annotated_data_annotation_tokens for y in x]\n",
    "## compute len\n",
    "label_token_len = list(map(len, flat_label_tokens))\n",
    "annotation_token_len = list(map(len, flat_annotation_tokens))\n",
    "## plot \n",
    "token_len_data = pd.DataFrame([\n",
    "    label_token_len + annotation_token_len,\n",
    "    ['label',]*len(label_token_len) + ['annotation',]*len(annotation_token_len)\n",
    "], index=['token_len', 'data_type']).transpose()\n",
    "token_len_count_data = token_len_data.groupby('data_type').apply(lambda x: x.loc[:, 'token_len'].value_counts()).reset_index(name='count').rename(columns={'level_1':'token_len'})\n",
    "sns.barplot(x='token_len', y='count', hue='data_type', data=token_len_count_data)\n",
    "plt.xlabel('Token length')\n",
    "plt.ylabel('Count')\n",
    "plt.yscale('log')\n",
    "plt.show()"
   ]
  },
  {
   "cell_type": "code",
   "execution_count": 14,
   "metadata": {},
   "outputs": [
    {
     "name": "stdout",
     "output_type": "stream",
     "text": [
      "label tokens have mean char len 5.086 +/- 1.892\n",
      "annotation tokens have mean char len 5.266 +/- 2.005\n"
     ]
    }
   ],
   "source": [
    "## get mean + std\n",
    "print(f'label tokens have mean char len {\"{:1.3f}\".format(np.mean(label_token_len))} +/- {\"{:1.3f}\".format(np.std(label_token_len))}')\n",
    "print(f'annotation tokens have mean char len {\"{:1.3f}\".format(np.mean(annotation_token_len))} +/- {\"{:1.3f}\".format(np.std(annotation_token_len))}')"
   ]
  },
  {
   "cell_type": "markdown",
   "metadata": {},
   "source": [
    "The annotations are slightly longer than the labels, due to the longer tail of extra-long tokens (annotator creativity?)."
   ]
  },
  {
   "cell_type": "markdown",
   "metadata": {},
   "source": [
    "### Unique NPs per question\n",
    "How many unique NPs does each question get?"
   ]
  },
  {
   "cell_type": "code",
   "execution_count": 15,
   "metadata": {},
   "outputs": [
    {
     "data": {
      "image/png": "[encoded data removed]",
      "text/plain": [
       "<Figure size 432x288 with 1 Axes>"
      ]
     },
     "metadata": {
      "needs_background": "light"
     },
     "output_type": "display_data"
    },
    {
     "data": {
      "image/png": "[encoded data removed]",
      "text/plain": [
       "<Figure size 432x288 with 1 Axes>"
      ]
     },
     "metadata": {
      "needs_background": "light"
     },
     "output_type": "display_data"
    },
    {
     "name": "stdout",
     "output_type": "stream",
     "text": [
      "questions have an average of 13.012 +/- 4.135 unique labels\n",
      "annotators have an average of 2.625 +/- 0.490 unique labels\n"
     ]
    }
   ],
   "source": [
    "def get_num_unique_labels_per_annotator(data):\n",
    "    ## TODO: only include first label from each annotator? some annotators may have included extra words just for bonus\n",
    "    data_annotation_label_sets = [set([y.lower() for y in x]) for x in data['annotations_norm']]\n",
    "    num_unique_data_annotation_labels = list(map(lambda x: len(x), data_annotation_label_sets))\n",
    "    mean_unique_data_annotation_labels = np.mean(num_unique_data_annotation_labels)\n",
    "    return mean_unique_data_annotation_labels\n",
    "unique_labels_per_question = list(map(lambda x: list(sorted(set([z.lower() for y in x['annotations_norm'] for z in y]))), valid_annotated_data))\n",
    "num_unique_labels_per_question = list(map(lambda x: len(x), unique_labels_per_question))\n",
    "num_unique_labels_per_question_per_annotator = list(map(lambda x: get_num_unique_labels_per_annotator(x), valid_annotated_data))\n",
    "plt.hist(num_unique_labels_per_question)\n",
    "plt.xlabel('Number unique labels')\n",
    "plt.title('Labels per question')\n",
    "plt.show()\n",
    "plt.hist(num_unique_labels_per_question_per_annotator)\n",
    "plt.xlabel('Number unique labels')\n",
    "plt.title('Labels per question (per annotator)')\n",
    "plt.show()\n",
    "print('questions have an average of %.3f +/- %.3f unique labels'%(np.mean(num_unique_labels_per_question), np.std(num_unique_labels_per_question)))\n",
    "print('annotators have an average of %.3f +/- %.3f unique labels'%(np.mean(num_unique_labels_per_question_per_annotator), np.std(num_unique_labels_per_question_per_annotator)))"
   ]
  },
  {
   "cell_type": "markdown",
   "metadata": {},
   "source": [
    "Most questions have around 13 unique labels total and 2.6 unique labels per annotator."
   ]
  },
  {
   "cell_type": "markdown",
   "metadata": {},
   "source": [
    "Which questions have the most unique labels per annotator?"
   ]
  },
  {
   "cell_type": "code",
   "execution_count": 16,
   "metadata": {
    "scrolled": true
   },
   "outputs": [
    {
     "name": "stdout",
     "output_type": "stream",
     "text": [
      "questions with highest number unique labels per annotator\n"
     ]
    },
    {
     "data": {
      "text/html": [
       "<div>\n",
       "<style scoped>\n",
       "    .dataframe tbody tr th:only-of-type {\n",
       "        vertical-align: middle;\n",
       "    }\n",
       "\n",
       "    .dataframe tbody tr th {\n",
       "        vertical-align: top;\n",
       "    }\n",
       "\n",
       "    .dataframe thead th {\n",
       "        text-align: right;\n",
       "    }\n",
       "</style>\n",
       "<table border=\"1\" class=\"dataframe\">\n",
       "  <thead>\n",
       "    <tr style=\"text-align: right;\">\n",
       "      <th></th>\n",
       "      <th>prompt</th>\n",
       "      <th>unique_label_count</th>\n",
       "      <th>unique_labels</th>\n",
       "    </tr>\n",
       "  </thead>\n",
       "  <tbody>\n",
       "    <tr>\n",
       "      <th>1545</th>\n",
       "      <td>_____ attempts to throw a snowball but it falls out of his hand.</td>\n",
       "      <td>5.33333</td>\n",
       "      <td>[2 teenagers, 2 young boys, adolescent, boy, brother, child, guy, juvenile, kid, kiddo, lad, lass, male, man, man in black pants, man in blue coat, minor, person, schoolboy, son, teen, teenager, y...</td>\n",
       "    </tr>\n",
       "    <tr>\n",
       "      <th>1546</th>\n",
       "      <td>_____ stands in front of a stone wall then jumps towards it and rebounds off it with his legs.</td>\n",
       "      <td>4.55556</td>\n",
       "      <td>[atheletic boy, boy, child, dude, fellow, juvenile, kid, kiddo, lad, man, man in blue shirt, man in blue shorts, person, player, teen, teenager, young adult, young boy, young child, young kid, you...</td>\n",
       "    </tr>\n",
       "    <tr>\n",
       "      <th>1037</th>\n",
       "      <td>_____ have a pillow fight and then argue about only using pillows.</td>\n",
       "      <td>4.44444</td>\n",
       "      <td>[both kids, boy and his younger brother, boys, brothers, children, couple of boys, couple of children, couple of kids, couple of young boys, cousins, family members, friends, kids, pair of boys, p...</td>\n",
       "    </tr>\n",
       "    <tr>\n",
       "      <th>1322</th>\n",
       "      <td>_____ demonstrates how to unlock and open a window.</td>\n",
       "      <td>4.375</td>\n",
       "      <td>[assistant of shop, building inspector, contractor, employee, gentleman, guy, guy wearing blue shirt, guy wearing cap, handyman, installer, instructor, male, man, person, safety inspector, salesma...</td>\n",
       "    </tr>\n",
       "    <tr>\n",
       "      <th>936</th>\n",
       "      <td>_____ kicks soccer balls into a net while on a grass field.</td>\n",
       "      <td>4.33333</td>\n",
       "      <td>[adolescent, athlete, boy, child, guy, human, kid, male, my daughters friend, our neighbor, person, player, players, soccer player, someone, son, team member, teams captain, young boy, youth]</td>\n",
       "    </tr>\n",
       "    <tr>\n",
       "      <th>1634</th>\n",
       "      <td>_____ is in front of a crowd with a sword inside his mouth going up to people's faces to show.</td>\n",
       "      <td>4.125</td>\n",
       "      <td>[adult, crazy person, daredevil, guy, human, human male, magician, man, man with black shirt, person, person with black shirt, some guy, someone, sword eater, sword swallower, tall man, this dude]</td>\n",
       "    </tr>\n",
       "    <tr>\n",
       "      <th>590</th>\n",
       "      <td>_____ peels a potato with an extra large peeler than can also be used on zucchini.</td>\n",
       "      <td>4.125</td>\n",
       "      <td>[chef, cook, female, female chef, female cook, girl, host, lady, mother, older chef, older cook, older woman, person, some lady in her kitchen, someone, woman]</td>\n",
       "    </tr>\n",
       "    <tr>\n",
       "      <th>606</th>\n",
       "      <td>_____ is styling a person's hair using a blow dryer and brush.</td>\n",
       "      <td>4.11111</td>\n",
       "      <td>[barber, beautician, businessperson, cosmetologist, educator, female hairdresser, girl, hair stylist, hairdresser, lady, person, someone, stylist, woman, woman hairdresser, womens hairstylist, you...</td>\n",
       "    </tr>\n",
       "    <tr>\n",
       "      <th>158</th>\n",
       "      <td>_____ are each wrapping Christmas presents on a coffee table.</td>\n",
       "      <td>4.11111</td>\n",
       "      <td>[2 boys, 2 kids, 3 boys, boys, brothers, children, kids, little boys, little kids, people, siblings, two boys, two boys in pajamas, two children, two kids in pajamas, two little boys, two little c...</td>\n",
       "    </tr>\n",
       "    <tr>\n",
       "      <th>1548</th>\n",
       "      <td>_____ is digging a hole in the sand at the beach while an unseen male talks and there is a dog and two other girls with her.</td>\n",
       "      <td>4.11111</td>\n",
       "      <td>[adolescent, adolesent, chick, child, chilly woman with coat on, female, female child, gal, girl, ivy, juvenile, lady, little girl, man, middle aged woman, minor, mother, person, sister, teen, tee...</td>\n",
       "    </tr>\n",
       "  </tbody>\n",
       "</table>\n",
       "</div>"
      ],
      "text/plain": [
       "                                                                                                                            prompt  \\\n",
       "1545                                                              _____ attempts to throw a snowball but it falls out of his hand.   \n",
       "1546                                _____ stands in front of a stone wall then jumps towards it and rebounds off it with his legs.   \n",
       "1037                                                            _____ have a pillow fight and then argue about only using pillows.   \n",
       "1322                                                                           _____ demonstrates how to unlock and open a window.   \n",
       "936                                                                    _____ kicks soccer balls into a net while on a grass field.   \n",
       "1634                                _____ is in front of a crowd with a sword inside his mouth going up to people's faces to show.   \n",
       "590                                             _____ peels a potato with an extra large peeler than can also be used on zucchini.   \n",
       "606                                                                 _____ is styling a person's hair using a blow dryer and brush.   \n",
       "158                                                                  _____ are each wrapping Christmas presents on a coffee table.   \n",
       "1548  _____ is digging a hole in the sand at the beach while an unseen male talks and there is a dog and two other girls with her.   \n",
       "\n",
       "     unique_label_count  \\\n",
       "1545            5.33333   \n",
       "1546            4.55556   \n",
       "1037            4.44444   \n",
       "1322              4.375   \n",
       "936             4.33333   \n",
       "1634              4.125   \n",
       "590               4.125   \n",
       "606             4.11111   \n",
       "158             4.11111   \n",
       "1548            4.11111   \n",
       "\n",
       "                                                                                                                                                                                                unique_labels  \n",
       "1545  [2 teenagers, 2 young boys, adolescent, boy, brother, child, guy, juvenile, kid, kiddo, lad, lass, male, man, man in black pants, man in blue coat, minor, person, schoolboy, son, teen, teenager, y...  \n",
       "1546  [atheletic boy, boy, child, dude, fellow, juvenile, kid, kiddo, lad, man, man in blue shirt, man in blue shorts, person, player, teen, teenager, young adult, young boy, young child, young kid, you...  \n",
       "1037  [both kids, boy and his younger brother, boys, brothers, children, couple of boys, couple of children, couple of kids, couple of young boys, cousins, family members, friends, kids, pair of boys, p...  \n",
       "1322  [assistant of shop, building inspector, contractor, employee, gentleman, guy, guy wearing blue shirt, guy wearing cap, handyman, installer, instructor, male, man, person, safety inspector, salesma...  \n",
       "936           [adolescent, athlete, boy, child, guy, human, kid, male, my daughters friend, our neighbor, person, player, players, soccer player, someone, son, team member, teams captain, young boy, youth]  \n",
       "1634     [adult, crazy person, daredevil, guy, human, human male, magician, man, man with black shirt, person, person with black shirt, some guy, someone, sword eater, sword swallower, tall man, this dude]  \n",
       "590                                           [chef, cook, female, female chef, female cook, girl, host, lady, mother, older chef, older cook, older woman, person, some lady in her kitchen, someone, woman]  \n",
       "606   [barber, beautician, businessperson, cosmetologist, educator, female hairdresser, girl, hair stylist, hairdresser, lady, person, someone, stylist, woman, woman hairdresser, womens hairstylist, you...  \n",
       "158   [2 boys, 2 kids, 3 boys, boys, brothers, children, kids, little boys, little kids, people, siblings, two boys, two boys in pajamas, two children, two kids in pajamas, two little boys, two little c...  \n",
       "1548  [adolescent, adolesent, chick, child, chilly woman with coat on, female, female child, gal, girl, ivy, juvenile, lady, little girl, man, middle aged woman, minor, mother, person, sister, teen, tee...  "
      ]
     },
     "metadata": {},
     "output_type": "display_data"
    },
    {
     "name": "stdout",
     "output_type": "stream",
     "text": [
      "questions with lowest number unique labels per annotator\n"
     ]
    },
    {
     "data": {
      "text/html": [
       "<div>\n",
       "<style scoped>\n",
       "    .dataframe tbody tr th:only-of-type {\n",
       "        vertical-align: middle;\n",
       "    }\n",
       "\n",
       "    .dataframe tbody tr th {\n",
       "        vertical-align: top;\n",
       "    }\n",
       "\n",
       "    .dataframe thead th {\n",
       "        text-align: right;\n",
       "    }\n",
       "</style>\n",
       "<table border=\"1\" class=\"dataframe\">\n",
       "  <thead>\n",
       "    <tr style=\"text-align: right;\">\n",
       "      <th></th>\n",
       "      <th>prompt</th>\n",
       "      <th>unique_label_count</th>\n",
       "      <th>unique_labels</th>\n",
       "    </tr>\n",
       "  </thead>\n",
       "  <tbody>\n",
       "    <tr>\n",
       "      <th>721</th>\n",
       "      <td>A young boy who seems to be timing _____ how fast he can eat a snack.</td>\n",
       "      <td>1.28571</td>\n",
       "      <td>[challenge of, himself, his self, recording of, to calculate, to see]</td>\n",
       "    </tr>\n",
       "    <tr>\n",
       "      <th>1014</th>\n",
       "      <td>A shirtless person lifts a barbell and _____ at a gym.</td>\n",
       "      <td>1.25</td>\n",
       "      <td>[his body, his torso, weights]</td>\n",
       "    </tr>\n",
       "    <tr>\n",
       "      <th>706</th>\n",
       "      <td>Packages of paper are being wrapped in paper plastic and stacked on _____ of each other.</td>\n",
       "      <td>1.25</td>\n",
       "      <td>[device next, machine, row, side, top]</td>\n",
       "    </tr>\n",
       "    <tr>\n",
       "      <th>1007</th>\n",
       "      <td>A group of people are riding donkeys, some people are riding and _____ are just standing by them.</td>\n",
       "      <td>1.16667</td>\n",
       "      <td>[other people, others]</td>\n",
       "    </tr>\n",
       "    <tr>\n",
       "      <th>989</th>\n",
       "      <td>A pair of bikers drive around _____ sphere as the crowd cheers them.</td>\n",
       "      <td>1</td>\n",
       "      <td>[form of]</td>\n",
       "    </tr>\n",
       "    <tr>\n",
       "      <th>847</th>\n",
       "      <td>A person is showing how _____ open a beer with a screw driver indoors.</td>\n",
       "      <td>1</td>\n",
       "      <td>[he, people, to screw open, you]</td>\n",
       "    </tr>\n",
       "    <tr>\n",
       "      <th>1169</th>\n",
       "      <td>A woman with _____ her face with a towel.</td>\n",
       "      <td>1</td>\n",
       "      <td>[moisturizer]</td>\n",
       "    </tr>\n",
       "    <tr>\n",
       "      <th>1686</th>\n",
       "      <td>A child is _____ and does not seem to be happy about it.</td>\n",
       "      <td>1</td>\n",
       "      <td>[bath]</td>\n",
       "    </tr>\n",
       "    <tr>\n",
       "      <th>1225</th>\n",
       "      <td>A woman is exercising with dumb bells and another woman whispers _____.</td>\n",
       "      <td>1</td>\n",
       "      <td>[encouraging words, her name, to stop]</td>\n",
       "    </tr>\n",
       "    <tr>\n",
       "      <th>142</th>\n",
       "      <td>A baby is listening to a lady's song as _____.</td>\n",
       "      <td>1</td>\n",
       "      <td>[smiles]</td>\n",
       "    </tr>\n",
       "  </tbody>\n",
       "</table>\n",
       "</div>"
      ],
      "text/plain": [
       "                                                                                                 prompt  \\\n",
       "721                               A young boy who seems to be timing _____ how fast he can eat a snack.   \n",
       "1014                                             A shirtless person lifts a barbell and _____ at a gym.   \n",
       "706            Packages of paper are being wrapped in paper plastic and stacked on _____ of each other.   \n",
       "1007  A group of people are riding donkeys, some people are riding and _____ are just standing by them.   \n",
       "989                                A pair of bikers drive around _____ sphere as the crowd cheers them.   \n",
       "847                              A person is showing how _____ open a beer with a screw driver indoors.   \n",
       "1169                                                          A woman with _____ her face with a towel.   \n",
       "1686                                           A child is _____ and does not seem to be happy about it.   \n",
       "1225                            A woman is exercising with dumb bells and another woman whispers _____.   \n",
       "142                                                      A baby is listening to a lady's song as _____.   \n",
       "\n",
       "     unique_label_count  \\\n",
       "721             1.28571   \n",
       "1014               1.25   \n",
       "706                1.25   \n",
       "1007            1.16667   \n",
       "989                   1   \n",
       "847                   1   \n",
       "1169                  1   \n",
       "1686                  1   \n",
       "1225                  1   \n",
       "142                   1   \n",
       "\n",
       "                                                              unique_labels  \n",
       "721   [challenge of, himself, his self, recording of, to calculate, to see]  \n",
       "1014                                         [his body, his torso, weights]  \n",
       "706                                  [device next, machine, row, side, top]  \n",
       "1007                                                 [other people, others]  \n",
       "989                                                               [form of]  \n",
       "847                                        [he, people, to screw open, you]  \n",
       "1169                                                          [moisturizer]  \n",
       "1686                                                                 [bath]  \n",
       "1225                                 [encouraging words, her name, to stop]  \n",
       "142                                                                [smiles]  "
      ]
     },
     "metadata": {},
     "output_type": "display_data"
    }
   ],
   "source": [
    "pd.set_option('display.max_colwidth', 200)\n",
    "question_prompts = list(map(lambda x: x['masked_caption'], valid_annotated_data))\n",
    "unique_labels_per_question_per_annotator_data = pd.DataFrame([\n",
    "    question_prompts,\n",
    "    num_unique_labels_per_question_per_annotator,\n",
    "    unique_labels_per_question,\n",
    "], index=['prompt', 'unique_label_count', 'unique_labels']).transpose()\n",
    "unique_labels_per_question_per_annotator_data.sort_values('unique_label_count', inplace=True, ascending=False)\n",
    "print('questions with highest number unique labels per annotator')\n",
    "display(unique_labels_per_question_per_annotator_data.head(10))\n",
    "print('questions with lowest number unique labels per annotator')\n",
    "display(unique_labels_per_question_per_annotator_data.tail(10))"
   ]
  },
  {
   "cell_type": "markdown",
   "metadata": {},
   "source": [
    "Questions with higher number of unique labels seem to inspire creative answers (`____ kicks soccer balls into a net` => different paraphrases for `player`) and address multiple possible aspects of an event due to ambiguity (`____ are each wrapping` => different configurations of children).\n",
    "\n",
    "Questions with lower number of unique labels seem to have very specific scenarios without room for paraphrasing or ambiguity (`___ at gym` => can only add `weights` as logical caption)."
   ]
  },
  {
   "cell_type": "markdown",
   "metadata": {},
   "source": [
    "### Assessing visual cues\n",
    "Some nouns and adjectives have more obvious visual cues than others, ex. \"green\" has clear visual component whereas \"kind\" is more subjective.\n",
    "\n",
    "Let's look for these visual cues in the labels and annotations using some word lists:\n",
    "- color\n",
    "- size\n",
    "- number"
   ]
  },
  {
   "cell_type": "code",
   "execution_count": 28,
   "metadata": {},
   "outputs": [],
   "source": [
    "## TODO: expand word sets using word embeddings (nearest neighbors + filtering)\n",
    "color_words = {\n",
    "    'red', 'blue', 'green', 'yellow', 'purple', 'orange', 'black', 'white', 'gray', 'grey',\n",
    "    'colorful', 'painted',\n",
    "}\n",
    "size_words = {\n",
    "    'large', 'huge', 'giant', 'small', 'little', 'tiny',\n",
    "}\n",
    "number_words = {\n",
    "    'one', 'two', 'three', 'four', 'five', 'six', 'seven', 'eight', 'nine', 'ten',\n",
    "    'several', 'few', 'many',\n",
    "}\n",
    "combined_visual_words = (color_words | size_words | number_words)\n",
    "visual_word_sets = [\n",
    "    color_words, size_words, number_words, combined_visual_words,\n",
    "]\n",
    "visual_word_set_names = [\n",
    "    'color', 'size', 'number', 'combined'\n",
    "]"
   ]
  },
  {
   "cell_type": "code",
   "execution_count": 18,
   "metadata": {},
   "outputs": [],
   "source": [
    "import sys\n",
    "if('..' not in sys.path):\n",
    "    sys.path.append('..')\n",
    "from lqam.core.metrics import tokenize_answer_to_compute_metrics\n",
    "## tokenize everything\n",
    "label_tokens = list(map(lambda x: tokenize_answer_to_compute_metrics(x['label_norm']), annotated_data))\n",
    "annotation_label_tokens = [[tokenize_answer_to_compute_metrics(z) for z in y] for x in valid_annotated_data for y in x['annotations_norm']]"
   ]
  },
  {
   "cell_type": "code",
   "execution_count": 20,
   "metadata": {
    "scrolled": true
   },
   "outputs": [
    {
     "data": {
      "image/png": "[encoded data removed]",
      "text/plain": [
       "<Figure size 432x144 with 2 Axes>"
      ]
     },
     "metadata": {
      "needs_background": "light"
     },
     "output_type": "display_data"
    },
    {
     "name": "stdout",
     "output_type": "stream",
     "text": [
      "proportion of <color> word matches for labels:\n",
      "   word_count  label_word_match_pct  annotation_word_match_pct\n",
      "0           0              0.981864                   0.987882\n",
      "1           1              0.017128                   0.011665\n",
      "2           2              0.001008                   0.000453\n",
      "percent of labels with >= 1 matches: \n",
      "label_word_match_pct         0.018136\n",
      "annotation_word_match_pct    0.012118\n",
      "dtype: float64\n"
     ]
    },
    {
     "data": {
      "image/png": "[encoded data removed]",
      "text/plain": [
       "<Figure size 432x144 with 2 Axes>"
      ]
     },
     "metadata": {
      "needs_background": "light"
     },
     "output_type": "display_data"
    },
    {
     "name": "stdout",
     "output_type": "stream",
     "text": [
      "proportion of <size> word matches for labels:\n",
      "   word_count  label_word_match_pct  annotation_word_match_pct\n",
      "0           0              0.971285                   0.990691\n",
      "1           1              0.028715                   0.009309\n",
      "percent of labels with >= 1 matches: \n",
      "label_word_match_pct         0.028715\n",
      "annotation_word_match_pct    0.009309\n",
      "dtype: float64\n"
     ]
    },
    {
     "data": {
      "image/png": "[encoded data removed]",
      "text/plain": [
       "<Figure size 432x144 with 2 Axes>"
      ]
     },
     "metadata": {
      "needs_background": "light"
     },
     "output_type": "display_data"
    },
    {
     "name": "stdout",
     "output_type": "stream",
     "text": [
      "proportion of <number> word matches for labels:\n",
      "   word_count  label_word_match_pct  annotation_word_match_pct\n",
      "0           0              0.961713                   0.987882\n",
      "1           1              0.038287                   0.012118\n",
      "percent of labels with >= 1 matches: \n",
      "label_word_match_pct         0.038287\n",
      "annotation_word_match_pct    0.012118\n",
      "dtype: float64\n"
     ]
    },
    {
     "data": {
      "image/png": "[encoded data removed]",
      "text/plain": [
       "<Figure size 432x144 with 2 Axes>"
      ]
     },
     "metadata": {
      "needs_background": "light"
     },
     "output_type": "display_data"
    },
    {
     "name": "stdout",
     "output_type": "stream",
     "text": [
      "proportion of <combined> word matches for labels:\n",
      "   word_count  label_word_match_pct  annotation_word_match_pct\n",
      "0           0              0.917884                   0.966862\n",
      "1           1              0.078086                   0.032300\n",
      "2           2              0.004030                   0.000815\n",
      "3           3                   NaN                   0.000023\n",
      "percent of labels with >= 1 matches: \n",
      "label_word_match_pct         0.082116\n",
      "annotation_word_match_pct    0.033138\n",
      "dtype: float64\n"
     ]
    }
   ],
   "source": [
    "## get counts, plot distribution of visual words\n",
    "import matplotlib\n",
    "%matplotlib inline\n",
    "import matplotlib.pyplot as plt\n",
    "for visual_word_set, visual_word_set_name in zip(visual_word_sets, visual_word_set_names):\n",
    "    label_word_matches = list(map(lambda x: set(x) & visual_word_set, label_tokens))\n",
    "    annotation_label_word_matches = [set(y) & visual_word_set for x in annotation_label_tokens for y in x]\n",
    "    num_label_word_matches = list(map(lambda x: len(x), label_word_matches))\n",
    "    num_annotation_label_word_matches = list(map(lambda x: len(x), annotation_label_word_matches))\n",
    "    f, axs = plt.subplots(nrows=1, ncols=2, figsize=(6, 2))\n",
    "    axs[0].hist(num_label_word_matches)\n",
    "    axs[1].hist(num_annotation_label_word_matches)\n",
    "    axs[0].set_title(f'Label {visual_word_set_name} matches')\n",
    "    axs[1].set_title(f'Annotation {visual_word_set_name} matches')\n",
    "    axs[0].set_xlabel('Word set overlap')\n",
    "    axs[1].set_xlabel('Word set overlap')\n",
    "    plt.suptitle(f'Overlap with <{visual_word_set_name}> words')\n",
    "    plt.yscale('log')\n",
    "    plt.tight_layout()\n",
    "    plt.show()\n",
    "    # compute proportion of visual words per question\n",
    "    pct_label_word_matches = pd.Series(num_label_word_matches).value_counts() / len(num_label_word_matches)\n",
    "    pct_annotation_label_word_matches = pd.Series(num_annotation_label_word_matches).value_counts() / len(num_annotation_label_word_matches)\n",
    "    pct_word_matches = pd.concat([pct_label_word_matches, pct_annotation_label_word_matches], axis=1).reset_index().fillna(0.)\n",
    "    pct_word_matches.columns = ['word_count', 'label_word_match_pct', 'annotation_word_match_pct']\n",
    "#     pct_word_matches.columns = ['label_match_pct', 'annotation_label_match_pct']\n",
    "    print(f'proportion of <{visual_word_set_name}> word matches for labels:\\n{pct_word_matches}')\n",
    "    # simplify: percent with >=1 words\n",
    "    above_1_pct_word_matches = pct_word_matches[pct_word_matches.loc[:, 'word_count'] >= 1].iloc[:, 1:].sum(axis=0)\n",
    "    print(f'percent of labels with >= 1 matches: \\n{above_1_pct_word_matches}')"
   ]
  },
  {
   "cell_type": "markdown",
   "metadata": {},
   "source": [
    "Overall, the annotations tend to have about the rate of color words as the labels, but the annotations also have fewer size and number words than the labels."
   ]
  },
  {
   "cell_type": "markdown",
   "metadata": {},
   "source": [
    "What are some example questions where the label contains a visual word but the annotations do not?"
   ]
  },
  {
   "cell_type": "code",
   "execution_count": 21,
   "metadata": {
    "scrolled": true
   },
   "outputs": [
    {
     "name": "stdout",
     "output_type": "stream",
     "text": [
      "*~*~*~* testing word set color *~*~*~*\n",
      "caption=<A red hot piece of bent steel is being formed with a metal sledge hammer on the end of a  steel table.>\n",
      "label=<A red hot piece> has matches <{'red'}>\n",
      "annotations do not have matches: <[['A horseshoe', 'A shoe', 'An arch', 'A U-shape', 'An object'], ['A piece', 'A horseshoe'], ['a rod', 'a segment'], ['hot iron'], ['A large are', 'A big area'], ['A piece', 'A long piece', 'A hot piece'], ['A piece', 'A rod', 'A chunk'], ['A piece', 'A part'], ['A piece', 'A heated piece']]>\n",
      "---------\n",
      "caption=<A gir lis trying to stitching up the black and white knitting kit with a knitting needle.>\n",
      "label=<the black and white knitting kit> has matches <{'white', 'black'}>\n",
      "annotations do not have matches: <[['string', 'lace work'], ['the neckerchief', 'the scarf'], ['a scarf', 'a line on a scarf'], ['yarn', 'cloth'], ['a piece of clothing', 'some cloth'], ['a scarf', 'fancy yarn'], ['a scarf', 'her scarf'], ['crochet', 'string', 'thread'], ['a scarf', 'some fabric']]>\n",
      "---------\n",
      "caption=<A man is using a strainer to strain a black grainy substance, while music is playing and a little boy is talking.>\n",
      "label=<a black grainy substance> has matches <{'black'}>\n",
      "annotations do not have matches: <[['coffee', 'a brown substance'], ['coffee beans', 'ingredients'], ['coffee', 'beans', 'coffee beans', 'greaseballs', 'brilliatine'], ['beans', 'espresso', 'coffee'], ['coffee beans', 'ground coffee'], ['coffee beans', 'roasting coffee beans'], ['coffee', 'beans'], ['coffee', 'coffee beans'], ['coffee grounds', 'something', 'soil', 'dirt']]>\n",
      "---------\n",
      "caption=<A woman with a red headdress wipes her face with a towel.>\n",
      "label=<a red headdress wipes> has matches <{'red'}>\n",
      "annotations do not have matches: <[['moisturizer']]>\n",
      "---------\n",
      "caption=<An artist uses a special pen and black ink to fill in a drawing.>\n",
      "label=<black ink> has matches <{'black'}>\n",
      "annotations do not have matches: <[['paper', 'sharpie'], ['paper', 'marker'], ['colors', 'techniques'], ['ink', 'paper'], ['marker', 'sharpie'], ['marker', 'art pen'], ['marker', 'tool'], ['marker', 'pencil'], ['PAPER', 'MARKER']]>\n",
      "---------\n",
      "caption=<A woman twists a brown and yellow balloon, and a finger gets caught before she shows off the shape she made.>\n",
      "label=<a brown and yellow balloon> has matches <{'yellow'}>\n",
      "annotations do not have matches: <[['baloons', 'rubber'], ['balloons', 'a sculpture'], ['balloons', 'plastic'], ['a balloon', 'a knot in a balloon'], ['balloons', 'balloon animals', 'balloon shapes'], ['the balloon she has in her hand', 'the balloons'], ['a balloon', 'an item'], ['balloons', 'air balloons'], ['A BALLOON', 'THE PROP']]>\n",
      "---------\n",
      "caption=<An older man holding a rifle is talking to a young black boy.>\n",
      "label=<a young black boy> has matches <{'black'}>\n",
      "annotations do not have matches: <[['a kid', 'a person'], ['a boy', 'a child'], ['A BOY', 'A CHILD', 'AN ADOLESCENT', 'A MALE', 'A KID'], ['a young boy', 'a youth', 'a kid', 'an event-goer', 'a bystander'], ['a boy', 'a child', 'a young man', 'a young boy'], ['boy', 'visitors'], ['a boy', 'a child', 'a kid'], ['kids', 'children', 'a child', 'tourists', 'passerby']]>\n",
      "---------\n",
      "caption=<A person sprinkles salt into a bowl of lettuce and blue cheese.>\n",
      "label=<lettuce and blue cheese> has matches <{'blue'}>\n",
      "annotations do not have matches: <[['salad', 'Lettuce'], ['lettuce', 'salad'], ['mixed greens', 'salad'], ['salad', 'lettuce', 'greens'], ['a salad', 'lettuce'], ['salad', 'lettuce'], ['salad', 'lettuce'], ['lettuce', 'greens']]>\n",
      "---------\n",
      "caption=<A ball is thrown high in the air, and then the blue ball is returned to a man who is waiting for it.>\n",
      "label=<the blue ball> has matches <{'blue'}>\n",
      "annotations do not have matches: <[['the ball', 'it'], ['the ball', 'the item'], ['the ball', 'it'], ['it', 'the ball', 'a kickball', 'an object'], ['ball', 'it'], ['the ball', 'the sporting equipment'], ['the ball', 'it', 'the same ball'], ['the ball', 'it', 'the rugby ball', 'the football']]>\n",
      "---------\n",
      "caption=<People walk towards a white tub with brown liquid inside.>\n",
      "label=<a white tub> has matches <{'white'}>\n",
      "annotations do not have matches: <[['a tank', 'a tub', 'a large tank', 'a large tub'], ['a container', 'a vat'], ['vats', 'tanks'], ['barrels', 'deposits'], ['a vat', 'a container', 'a pool', 'a bath', 'a trough'], ['containers', 'large jars'], ['tub', 'cask'], ['a tub', 'a container'], ['VATS', 'COOLERS', 'STORAGE']]>\n",
      "---------\n",
      "*~*~*~* testing word set size *~*~*~*\n",
      "caption=<A little baby is sitting still while making baby noises.>\n",
      "label=<A little baby> has matches <{'little'}>\n",
      "annotations do not have matches: <[['A baby', 'A child', 'A kid'], ['Jaxson', 'A baby', 'The child', 'An infant'], ['a shirtless baby', 'a baby boy', 'a bald baby', 'baby with no shirt', 'baby with red diaper'], ['The baby', 'The child'], ['A baby', 'The boy'], ['baby', 'infant'], ['a baby', 'an infant'], ['A baby', 'A baby boy'], ['A baby', 'A toddler', 'A child', 'A kid', 'A youngster']]>\n",
      "---------\n",
      "caption=<Workers are excavating a large multiple dig site looking for treasures.>\n",
      "label=<a large multiple dig site> has matches <{'large'}>\n",
      "annotations do not have matches: <[['ground', 'dirt'], ['sites', 'the ground'], ['bones', 'remains', 'artifacts'], ['the soil', 'the earth', 'the ground'], ['ground', 'soil'], ['the ground', 'the dirt', 'a site', 'a dig'], ['the land', 'dirt']]>\n",
      "---------\n",
      "caption=<Two boys playing table tennis inside of a small room.>\n",
      "label=<a small room> has matches <{'small'}>\n",
      "annotations do not have matches: <[['a garage', 'a basement'], ['a basement', 'their basement', 'their home', 'their house', 'a house', 'a rec room', 'a recreational room', 'a rec center', 'a recreational center'], ['a room', 'a gym', 'a house'], ['a room'], ['the garage', 'their home'], ['house', 'room'], ['a garage', 'a room'], ['a room', 'a basement'], ['a recreational room', 'an unfinished room', 'a playroom.']]>\n",
      "---------\n",
      "caption=<An open air gym shows a large group of women particpating in a dance or excercise class.>\n",
      "label=<a large group> has matches <{'large'}>\n",
      "annotations do not have matches: <[['a class', 'a group', 'a crowd', 'a mass'], ['a group', 'a class', 'a gaggle'], ['a group', 'a set', 'a bunch'], ['a lot', 'a plethora', 'tens'], ['class', 'team'], ['a group', 'lots'], ['a group', 'lots'], ['a group', 'a multitude'], ['a lot', 'the skill', 'the talent']]>\n",
      "---------\n",
      "caption=<A Policeman outside directing traffic on a busy street in a large city having a great time doing it, even showing off with his actions.>\n",
      "label=<a large city> has matches <{'large'}>\n",
      "annotations do not have matches: <[['the rain', 'the cold'], ['town', 'the city'], ['peak hours', 'heavy traffic'], ['a busy city'], ['the cold', 'the city'], ['daylight', 'a city', 'an intersection', 'rush hour', 'the daytime'], ['the rain', 'the city', 'an intersection', 'downtown'], ['city', 'intersection'], ['NYC', 'New York']]>\n",
      "---------\n",
      "caption=<Demonstration and narration on the proper way to use a large knife to cut a carrot.>\n",
      "label=<a large knife> has matches <{'large'}>\n",
      "annotations do not have matches: <[['A knife', 'A utensil'], ['a knife', 'a blade'], ['a knife', 'kitchen kinfe'], ['knife', 'sharp object'], ['a knife', 'a utensil'], ['a knife', \"a chef's knife\", 'a sharp knife'], ['a knife', 'knives', 'cutting utensils', 'a blade', 'a kitchen knife'], ['a knife', 'a razor'], ['a knife', \"a chef's knife\", 'a peeler']]>\n",
      "---------\n",
      "caption=<A person is sitting in front of the camera and is blowing a large bubble gum.>\n",
      "label=<a large bubble gum> has matches <{'large'}>\n",
      "annotations do not have matches: <[['gum', 'bubbles', 'bubble gum', 'a bubble', 'chewing gum'], ['bubbles'], ['bubbles', 'gum bubbles'], ['bubbles', 'soapy water'], ['bubbles', 'bubblegum'], ['bubbles', 'gum'], ['bubbles', 'gum'], ['a chewing gum', 'candy'], ['bubble gum', 'candy', 'chewing gum']]>\n",
      "---------\n",
      "caption=<A man swims laps quickly in a large professional pool.>\n",
      "label=<a large professional pool> has matches <{'large'}>\n",
      "annotations do not have matches: <[['the pool', 'swimming pool', 'his lane'], ['a pool', 'an olympic sized pool', 'the water'], ['a pool', 'a swim lane', 'his lane', 'succession'], ['the pool', 'the water'], ['the pool', 'his lane'], ['a pool', 'a lane'], ['swimming lane', 'a pool'], ['a pool', 'a competition']]>\n",
      "---------\n",
      "caption=<Some friends are ice fishing and are exciting because they caught a very large fish.>\n",
      "label=<a very large fish> has matches <{'large'}>\n",
      "annotations do not have matches: <[['a fish', 'a trout', 'a prey', 'lunch', 'food'], ['a big fish', 'a fish', 'a trout'], ['a fish.', 'trout.'], ['a fish'], ['a fish', 'food'], ['a fish', 'an aquatic creature', 'a trout'], ['a fish', 'a bass'], ['a fish'], ['fish', 'food']]>\n",
      "---------\n",
      "caption=<Large groups of people in traditional costume are milling around on a bright sunny day as some sing, and some row.>\n",
      "label=<Large groups> has matches <{'large'}>\n",
      "annotations do not have matches: <[['a bunch', 'a group'], ['a community', 'a village', 'a group', 'a tribe', 'a colony', 'a bunch'], ['A group', 'A gathering', 'A gaggle'], ['A bunch', 'A lot', 'A group'], ['troop', 'crowd'], ['A bunch', 'A lot'], ['crowds', 'Groups'], ['a group', 'a crowd'], ['groups', 'throngs']]>\n",
      "---------\n",
      "*~*~*~* testing word set number *~*~*~*\n",
      "caption=<A female stands in a bar with a table with three wine glasses on it and she shows how to open a bottle of wine.>\n",
      "label=<three wine glasses> has matches <{'three'}>\n",
      "annotations do not have matches: <[['wine glasses', 'glasses', 'cups', 'napkins', 'utensils', 'a tablecloth'], ['dishes', 'plates'], ['glasses', 'wine glasses', 'dishes', 'plates', 'silverwear'], ['glasses', 'a table cloth'], ['wine glasass', 'large glasses', 'glasses for wine', 'drinking glasses', 'empty glasses'], ['wine glasses', 'a table cloth', 'dinnerware', 'glasses', 'silverware'], ['glasses', 'cups', 'goblets', 'linens'], ['glasses', 'chairs'], ['wine', 'alcohol']]>\n",
      "---------\n",
      "caption=<Several people are sitting in a church, listening to a pastor speak.>\n",
      "label=<Several people> has matches <{'several'}>\n",
      "annotations do not have matches: <[['People', 'Church guests', 'Some individuals', 'Some people in chairs', 'Some people sitting faced towards the podium'], ['people', 'christians'], ['A group of people', 'People'], ['people', 'congregation'], ['People', 'Patrons', 'Religious people', 'Churchgoers'], ['People', 'Churchgoers'], ['People', 'Believers', 'Followers', 'Supporters'], ['People'], ['People', 'churchgoers', 'members', 'The community', 'Patrons']]>\n",
      "---------\n",
      "caption=<A person peels back and then proceeds to fold away at several layers of fabric.>\n",
      "label=<several layers> has matches <{'several'}>\n",
      "annotations do not have matches: <[['the corner', 'the side', 'a corner of a piece', 'the upper right hand corner'], ['a piece', 'a square'], ['a piece', 'a square'], ['a section', 'a corner'], ['center', 'middle'], ['top corner', 'top right corner'], ['napkin', 'cloth'], ['a piece', 'an object made of'], ['piece', 'the corners']]>\n",
      "---------\n",
      "caption=<A heavily muscled man demonstrates working out with two large barbells.>\n",
      "label=<two large barbells> has matches <{'two'}>\n",
      "annotations do not have matches: <[['barbells', 'equipment'], ['a set of dumbells', 'himself'], ['weights', 'hand weights', 'barbells', 'barbell weights'], ['weights', 'large hand weights'], ['dumbbells', 'weights'], ['weights', 'dumbbells'], ['weights', 'dumbbells'], ['weights', 'dumbbells', 'his arms', 'his shoulders'], ['weights', 'dumbells']]>\n",
      "---------\n",
      "caption=<A young man playing several notes on his saxophone for an audition.>\n",
      "label=<several notes> has matches <{'several'}>\n",
      "annotations do not have matches: <[['the chromatic scale', 'notes'], ['notes', 'a scale'], ['music', 'a scale', 'noise'], ['scale', 'chromatic scales'], ['music', 'a song'], ['music', 'tunes', 'a song'], ['MUSIC', 'SCALES', 'A TUNE', 'SOME NOTES'], ['scale', 'chromatic scale'], ['a song']]>\n",
      "---------\n",
      "caption=<Two men golfing on a green chat as one takes a shot using his golf club.>\n",
      "label=<one> has matches <{'one'}>\n",
      "annotations do not have matches: <[['the man', 'the guy'], ['a man', 'a golfer', 'a human'], ['THE MAN', 'THEIR FRIEND'], ['the young man that is being filmed'], ['man', 'gentleman'], ['another man', 'another person'], ['another player', 'a man', 'a friend'], ['golfer', 'man'], ['the man', 'someone']]>\n",
      "---------\n",
      "caption=<Two different men going up a ladder in two different locations.>\n",
      "label=<Two different men> has matches <{'two'}>\n",
      "annotations do not have matches: <[['A man', 'A worker', 'A repairman', 'A construction worker'], ['a man', 'a guy', 'some dude', 'a person', 'someone'], ['A MAN', 'A WORKER', 'A MALE', 'A PERSON', 'A GUY'], ['Man', 'Person'], ['A man', 'A worker'], ['A man', 'A workman', 'A construction worker'], ['Man', 'Person'], ['handyman', 'carpenter']]>\n",
      "---------\n",
      "caption=<Several dogs are hitched up to a sled and are barking.>\n",
      "label=<Several dogs> has matches <{'several'}>\n",
      "annotations do not have matches: <[['dogs', 'the sled dogs', 'a group of dogs', 'excited dogs', 'the canines'], ['Dogs', 'Hunting Dogs'], ['Dogs', 'Canines'], ['dogs', 'canines'], ['Dogs', 'German Shepard'], ['Husky dogs', 'The eager dogs', 'The pack of dogs'], ['Sled Dogs', 'A group of dogs'], ['Dogs', 'animals'], ['SLED DOGS', 'ANIMALS', 'HUSKYS']]>\n",
      "---------\n",
      "caption=<A DJ is playing music at an outdoor event, and several people are dancing to the music.>\n",
      "label=<several people> has matches <{'several'}>\n",
      "annotations do not have matches: <[['people', 'people on the sidewalk'], ['people', 'kids', 'teens'], ['Dancers', 'Men', 'people'], ['kids', 'people'], ['people', 'different people', 'some dancers', 'dancers', 'others', 'other people'], ['A MALE', 'A PERSON', 'A GUY', 'A TEENAGER', 'PEOPLE'], ['people', 'audience', 'guys', 'a woman', 'a man'], ['people', 'fans'], ['others', 'other people', 'his friends', 'his mates']]>\n",
      "---------\n",
      "caption=<Several people race down the concrete and one falls while a woman laughs.>\n",
      "label=<Several people> has matches <{'several'}>\n",
      "annotations do not have matches: <[['people', 'men'], ['a group of men', 'A group of differently aged men'], ['A group of people', 'Men'], ['Men', 'People'], ['Men', 'People', 'A group of men', 'Runners', 'Guys'], ['Men', 'Young men', 'A group of men', 'A group of people', 'People'], ['A group of men', 'Some men', 'Some people'], ['People', 'Individuals'], ['BOYS', 'MALES', 'PEOPLE', 'A GROUP OF PEOPLE']]>\n",
      "---------\n",
      "*~*~*~* testing word set combined *~*~*~*\n",
      "caption=<A gir lis trying to stitching up the black and white knitting kit with a knitting needle.>\n",
      "label=<the black and white knitting kit> has matches <{'white', 'black'}>\n",
      "annotations do not have matches: <[['string', 'lace work'], ['the neckerchief', 'the scarf'], ['a scarf', 'a line on a scarf'], ['yarn', 'cloth'], ['a piece of clothing', 'some cloth'], ['a scarf', 'fancy yarn'], ['a scarf', 'her scarf'], ['crochet', 'string', 'thread'], ['a scarf', 'some fabric']]>\n",
      "---------\n",
      "caption=<Several people are sitting in a church, listening to a pastor speak.>\n",
      "label=<Several people> has matches <{'several'}>\n",
      "annotations do not have matches: <[['People', 'Church guests', 'Some individuals', 'Some people in chairs', 'Some people sitting faced towards the podium'], ['people', 'christians'], ['A group of people', 'People'], ['people', 'congregation'], ['People', 'Patrons', 'Religious people', 'Churchgoers'], ['People', 'Churchgoers'], ['People', 'Believers', 'Followers', 'Supporters'], ['People'], ['People', 'churchgoers', 'members', 'The community', 'Patrons']]>\n",
      "---------\n",
      "caption=<A person peels back and then proceeds to fold away at several layers of fabric.>\n",
      "label=<several layers> has matches <{'several'}>\n",
      "annotations do not have matches: <[['the corner', 'the side', 'a corner of a piece', 'the upper right hand corner'], ['a piece', 'a square'], ['a piece', 'a square'], ['a section', 'a corner'], ['center', 'middle'], ['top corner', 'top right corner'], ['napkin', 'cloth'], ['a piece', 'an object made of'], ['piece', 'the corners']]>\n",
      "---------\n",
      "caption=<Workers are excavating a large multiple dig site looking for treasures.>\n",
      "label=<a large multiple dig site> has matches <{'large'}>\n",
      "annotations do not have matches: <[['ground', 'dirt'], ['sites', 'the ground'], ['bones', 'remains', 'artifacts'], ['the soil', 'the earth', 'the ground'], ['ground', 'soil'], ['the ground', 'the dirt', 'a site', 'a dig'], ['the land', 'dirt']]>\n",
      "---------\n",
      "caption=<Two boys playing table tennis inside of a small room.>\n",
      "label=<a small room> has matches <{'small'}>\n",
      "annotations do not have matches: <[['a garage', 'a basement'], ['a basement', 'their basement', 'their home', 'their house', 'a house', 'a rec room', 'a recreational room', 'a rec center', 'a recreational center'], ['a room', 'a gym', 'a house'], ['a room'], ['the garage', 'their home'], ['house', 'room'], ['a garage', 'a room'], ['a room', 'a basement'], ['a recreational room', 'an unfinished room', 'a playroom.']]>\n",
      "---------\n",
      "caption=<An open air gym shows a large group of women particpating in a dance or excercise class.>\n",
      "label=<a large group> has matches <{'large'}>\n",
      "annotations do not have matches: <[['a class', 'a group', 'a crowd', 'a mass'], ['a group', 'a class', 'a gaggle'], ['a group', 'a set', 'a bunch'], ['a lot', 'a plethora', 'tens'], ['class', 'team'], ['a group', 'lots'], ['a group', 'lots'], ['a group', 'a multitude'], ['a lot', 'the skill', 'the talent']]>\n",
      "---------\n",
      "caption=<A Policeman outside directing traffic on a busy street in a large city having a great time doing it, even showing off with his actions.>\n",
      "label=<a large city> has matches <{'large'}>\n",
      "annotations do not have matches: <[['the rain', 'the cold'], ['town', 'the city'], ['peak hours', 'heavy traffic'], ['a busy city'], ['the cold', 'the city'], ['daylight', 'a city', 'an intersection', 'rush hour', 'the daytime'], ['the rain', 'the city', 'an intersection', 'downtown'], ['city', 'intersection'], ['NYC', 'New York']]>\n",
      "---------\n",
      "caption=<Demonstration and narration on the proper way to use a large knife to cut a carrot.>\n",
      "label=<a large knife> has matches <{'large'}>\n",
      "annotations do not have matches: <[['A knife', 'A utensil'], ['a knife', 'a blade'], ['a knife', 'kitchen kinfe'], ['knife', 'sharp object'], ['a knife', 'a utensil'], ['a knife', \"a chef's knife\", 'a sharp knife'], ['a knife', 'knives', 'cutting utensils', 'a blade', 'a kitchen knife'], ['a knife', 'a razor'], ['a knife', \"a chef's knife\", 'a peeler']]>\n",
      "---------\n",
      "caption=<A person is sitting in front of the camera and is blowing a large bubble gum.>\n",
      "label=<a large bubble gum> has matches <{'large'}>\n",
      "annotations do not have matches: <[['gum', 'bubbles', 'bubble gum', 'a bubble', 'chewing gum'], ['bubbles'], ['bubbles', 'gum bubbles'], ['bubbles', 'soapy water'], ['bubbles', 'bubblegum'], ['bubbles', 'gum'], ['bubbles', 'gum'], ['a chewing gum', 'candy'], ['bubble gum', 'candy', 'chewing gum']]>\n",
      "---------\n",
      "caption=<A man swims laps quickly in a large professional pool.>\n",
      "label=<a large professional pool> has matches <{'large'}>\n",
      "annotations do not have matches: <[['the pool', 'swimming pool', 'his lane'], ['a pool', 'an olympic sized pool', 'the water'], ['a pool', 'a swim lane', 'his lane', 'succession'], ['the pool', 'the water'], ['the pool', 'his lane'], ['a pool', 'a lane'], ['swimming lane', 'a pool'], ['a pool', 'a competition']]>\n",
      "---------\n"
     ]
    }
   ],
   "source": [
    "## get aligned/valid data\n",
    "valid_label_tokens = list(map(lambda x: tokenize_answer_to_compute_metrics(x['label_norm']), valid_annotated_data))\n",
    "valid_annotation_label_tokens = [[tokenize_answer_to_compute_metrics(z) for y in x['annotations_norm'] for z in y] for x in valid_annotated_data]\n",
    "# flatten tokens\n",
    "valid_annotation_label_tokens = [[z for y in x for z in y] for x in valid_annotation_label_tokens]\n",
    "sample_size = 10\n",
    "for visual_word_set, visual_word_set_name in zip(visual_word_sets, visual_word_set_names):\n",
    "    print(f'*~*~*~* testing word set {visual_word_set_name} *~*~*~*')\n",
    "    label_word_matches = list(map(lambda x: set(x) & visual_word_set, valid_label_tokens))\n",
    "    annotation_label_word_matches = list(map(lambda x: set(x) & visual_word_set, valid_annotation_label_tokens))\n",
    "    sample_ctr = 0\n",
    "    for data_i, label_word_matches_i, annotation_label_word_matches_i in zip(valid_annotated_data, label_word_matches, annotation_label_word_matches):\n",
    "        if(len(label_word_matches_i) > 0 and len(annotation_label_word_matches_i) == 0):\n",
    "            print(f'caption=<{data_i[\"caption\"]}>')\n",
    "            print(f'label=<{data_i[\"label\"]}> has matches <{label_word_matches_i}>')\n",
    "            print(f'annotations do not have matches: <{data_i[\"additional_answers\"]}>')\n",
    "            print('---------')\n",
    "            sample_ctr += 1\n",
    "            if(sample_ctr >= sample_size):\n",
    "                break"
   ]
  },
  {
   "cell_type": "markdown",
   "metadata": {},
   "source": [
    "- Color: the mismatches are due to highly specific captions, no necessary information being conveyed by the color.\n",
    "- Size: the mismatches are due to annotators focusing more on paraphrases for the noun (`little baby`: `child`, `infant`) and different aspects of the scene (`large group`: `group`, `skill`).\n",
    "- Number: the mismatches are due to annotators focusing more on paraphrases for the noun (`two large barbells`: `equipment`, `weights`) and different aspects of the scene (`three wine glasses`: `dishes`, `glasses`)."
   ]
  },
  {
   "cell_type": "markdown",
   "metadata": {},
   "source": [
    "### Syntactic complexity\n",
    "Let's look at the relative complexity of the NPs provided by the annotations.\n",
    "\n",
    "We'll use `spacy` for parsing."
   ]
  },
  {
   "cell_type": "code",
   "execution_count": 22,
   "metadata": {
    "scrolled": true
   },
   "outputs": [
    {
     "name": "stdout",
     "output_type": "stream",
     "text": [
      "this is a test sentence with a complicated noun that has a lot of extra information\n"
     ]
    }
   ],
   "source": [
    "import spacy\n",
    "nlp_pipeline = spacy.load('en_core_web_sm')\n",
    "test_text = 'this is a test sentence with a complicated noun that has a lot of extra information'\n",
    "test_text_parse = nlp_pipeline(test_text)\n",
    "print(test_text_parse)"
   ]
  },
  {
   "cell_type": "code",
   "execution_count": 23,
   "metadata": {},
   "outputs": [
    {
     "name": "stdout",
     "output_type": "stream",
     "text": [
      "a complicated noun that has a lot of extra information\n"
     ]
    }
   ],
   "source": [
    "import sys\n",
    "if('..' not in sys.path):\n",
    "    sys.path.append('..')\n",
    "from lqam.core.noun_phrases import is_phrase\n",
    "def extract_noun_subtree(noun, start_idx, parse):\n",
    "    noun_tokens = []\n",
    "    # get span\n",
    "    end_idx = start_idx + len(noun)\n",
    "    subtree = parse.char_span(start_idx, end_idx)\n",
    "    if(subtree is not None and is_phrase(subtree)):\n",
    "        return subtree\n",
    "    else:\n",
    "        return ''\n",
    "test_noun = 'a complicated noun that has a lot of extra information'\n",
    "start_idx = test_text.index(test_noun)\n",
    "test_noun_subtree = extract_noun_subtree(test_noun, start_idx, test_text_parse)\n",
    "print(test_noun_subtree)"
   ]
  },
  {
   "cell_type": "code",
   "execution_count": 27,
   "metadata": {},
   "outputs": [],
   "source": [
    "## get start index\n",
    "mask_token = '_____'\n",
    "for data_i in annotated_data:\n",
    "    data_i.update({'mask_start_idx' : data_i['masked_caption'].index(mask_token)})\n",
    "assert annotated_data[0]['mask_start_idx'] == 53"
   ]
  },
  {
   "cell_type": "code",
   "execution_count": 28,
   "metadata": {
    "scrolled": true
   },
   "outputs": [
    {
     "name": "stdout",
     "output_type": "stream",
     "text": [
      "processed 0 data\n",
      "processed 100 data\n",
      "processed 200 data\n",
      "processed 300 data\n",
      "processed 400 data\n",
      "processed 500 data\n",
      "processed 600 data\n",
      "processed 700 data\n",
      "processed 800 data\n",
      "processed 900 data\n",
      "processed 1000 data\n",
      "processed 1100 data\n",
      "processed 1200 data\n",
      "processed 1300 data\n",
      "processed 1400 data\n",
      "processed 1500 data\n",
      "processed 1600 data\n",
      "processed 1700 data\n",
      "processed 1800 data\n",
      "processed 1900 data\n"
     ]
    }
   ],
   "source": [
    "# parse all possible sentences based on annotations, generate sub-trees\n",
    "def parse_extract_noun_subtree(mask_sent, noun, nlp_pipeline, start_idx, mask_token='_____'):\n",
    "    sent = mask_sent.replace(mask_token, noun)\n",
    "    parse = nlp_pipeline(sent)\n",
    "    subtree = extract_noun_subtree(noun, start_idx, parse)\n",
    "    return subtree\n",
    "def extract_all_annotation_subtrees(data, nlp_pipeline):\n",
    "    mask_token = '_____'\n",
    "    for i, data_i in enumerate(data):\n",
    "        start_idx_i = data_i['mask_start_idx']\n",
    "        mask_sent_i = data_i['masked_caption']\n",
    "        # get subtree for label\n",
    "        label_i = data_i['label']\n",
    "        label_subtree_i = parse_extract_noun_subtree(mask_sent_i, label_i, nlp_pipeline, start_idx_i, mask_token=mask_token)\n",
    "        data_i['label_subtree'] = label_subtree_i\n",
    "        annotation_label_subtrees = []\n",
    "        for annotation_label_list_j in data_i['additional_answers']:\n",
    "            annotation_label_subtrees_j = []\n",
    "            for annotation_label_k in annotation_label_list_j:\n",
    "                annotation_subtree_k = parse_extract_noun_subtree(mask_sent_i, annotation_label_k, nlp_pipeline, start_idx_i, mask_token=mask_token)\n",
    "                annotation_label_subtrees_j.append(annotation_subtree_k)\n",
    "            annotation_label_subtrees.append(annotation_label_subtrees_j)\n",
    "        data_i['annotation_subtrees'] = annotation_label_subtrees\n",
    "        if(i % 100 == 0):\n",
    "            print(f'processed {i} data')\n",
    "    return data\n",
    "annotated_data = extract_all_annotation_subtrees(annotated_data, nlp_pipeline)"
   ]
  },
  {
   "cell_type": "code",
   "execution_count": 29,
   "metadata": {
    "scrolled": true
   },
   "outputs": [
    {
     "data": {
      "text/plain": [
       "{'video_id': 'cfBtVPEwqIo',\n",
       " 'video_start_time': 5,\n",
       " 'video_end_time': 15,\n",
       " 'caption': 'In a gym with someone spotting him, a man is lifting weights performing squats in a squat rack.',\n",
       " 'masked_caption': 'In a gym with someone spotting him, a man is lifting _____ performing squats in a squat rack.',\n",
       " 'label': 'weights',\n",
       " 'additional_answers': [['a weight', 'some weights', 'a squat bar'],\n",
       "  ['weight', 'a bar'],\n",
       "  ['weights', 'a barbell'],\n",
       "  ['weights', 'a heavy load'],\n",
       "  ['weights', 'a barbell'],\n",
       "  ['weights', 'iron', 'equipment'],\n",
       "  ['weights', 'a barbell', 'a weight'],\n",
       "  ['weights', '405 lb']],\n",
       " 'label_norm': 'weights',\n",
       " 'annotations_norm': [['weight', 'some weights', 'squat bar'],\n",
       "  ['weight', 'bar'],\n",
       "  ['weights', 'barbell'],\n",
       "  ['weights', 'heavy load'],\n",
       "  ['weights', 'barbell'],\n",
       "  ['weights', 'iron', 'equipment'],\n",
       "  ['weights', 'barbell', 'weight'],\n",
       "  ['weights', '405 lb']],\n",
       " 'mask_start_idx': 53,\n",
       " 'label_subtree': weights,\n",
       " 'annotation_subtrees': [[a weight, some weights, ''],\n",
       "  [weight, a bar],\n",
       "  [weights, a barbell],\n",
       "  [weights, a heavy load],\n",
       "  [weights, a barbell],\n",
       "  [weights, iron, equipment],\n",
       "  [weights, a barbell, a weight],\n",
       "  [weights, '']]}"
      ]
     },
     "metadata": {},
     "output_type": "display_data"
    }
   ],
   "source": [
    "display(annotated_data[0])"
   ]
  },
  {
   "cell_type": "markdown",
   "metadata": {},
   "source": [
    "How many labels have extra descriptive information?"
   ]
  },
  {
   "cell_type": "code",
   "execution_count": 30,
   "metadata": {},
   "outputs": [],
   "source": [
    "from collections import defaultdict\n",
    "def has_descriptor(subtree):\n",
    "    # adjective\n",
    "    # get head noun\n",
    "    head_noun = subtree.root\n",
    "    subtree_token_ids = list(map(lambda x: x.idx, subtree))\n",
    "    # get immediate head noun children\n",
    "    head_noun_children = list(filter(lambda x: x.idx in subtree_token_ids, list(head_noun.children)))\n",
    "    has_descriptor = any(list(map(lambda x: x.pos_=='ADJ', head_noun_children)))\n",
    "    return has_descriptor\n",
    "# def has_subclause(subtree):\n",
    "#     # has PREP or COORD\n",
    "#     pass"
   ]
  },
  {
   "cell_type": "code",
   "execution_count": 31,
   "metadata": {},
   "outputs": [],
   "source": [
    "test_subtree_1 = annotated_data[0]['annotation_subtrees'][3][1] # true \"a heavy load\"\n",
    "test_subtree_2 = annotated_data[0]['annotation_subtrees'][1][1] # false \"a bar\"\n",
    "assert has_descriptor(test_subtree_1)\n",
    "assert not has_descriptor(test_subtree_2)"
   ]
  },
  {
   "cell_type": "code",
   "execution_count": 32,
   "metadata": {
    "scrolled": true
   },
   "outputs": [],
   "source": [
    "## get descriptors for everything\n",
    "from spacy.tokens.span import Span\n",
    "annotation_descriptors = [[[type(z) is Span and has_descriptor(z) for z in y] for y in x['annotation_subtrees']] for x in annotated_data]\n",
    "label_descriptors = [type(x['label_subtree']) is Span and has_descriptor(x['label_subtree']) for x in annotated_data]"
   ]
  },
  {
   "cell_type": "markdown",
   "metadata": {},
   "source": [
    "What are some example labels and annotations with adjectives?"
   ]
  },
  {
   "cell_type": "code",
   "execution_count": 33,
   "metadata": {
    "scrolled": true
   },
   "outputs": [
    {
     "name": "stdout",
     "output_type": "stream",
     "text": [
      "sample labels with descriptor information\n",
      "a fake bull\n",
      "aboutthe operation\n",
      "a small body\n",
      "a large needle\n",
      "white rocks\n",
      "a young woman\n",
      "a windy golf course\n",
      "Several people\n",
      "A black dog\n",
      "an old ad\n",
      "sample annotations with descriptor information\n",
      "A chilly woman with a coat on\n",
      "a windy day\n",
      "A clerical leader\n",
      "fake heads\n",
      "a medium number\n",
      "fried dough\n",
      "a clear board\n",
      "dark-haired man\n",
      "a gentle ski slope\n",
      "her little boy\n"
     ]
    }
   ],
   "source": [
    "## labels\n",
    "import numpy as np\n",
    "np.random.seed(123)\n",
    "sample_size = 10\n",
    "label_descriptor_idx = np.where(np.array(label_descriptors))[0]\n",
    "sample_label_descriptor_idx = np.random.choice(label_descriptor_idx, sample_size, replace=False)\n",
    "print('sample labels with descriptor information')\n",
    "for sample_idx_i in sample_label_descriptor_idx:\n",
    "    print(annotated_data[sample_idx_i]['label_subtree'])\n",
    "## annotations\n",
    "sample_annotation_descriptor_idx = []\n",
    "for i, data_i in enumerate(annotation_descriptors):\n",
    "    for j, data_j in enumerate(data_i):\n",
    "        for k, data_k in enumerate(data_j):\n",
    "            if(data_k):\n",
    "                sample_annotation_descriptor_idx.append([i,j,k])\n",
    "sample_annotation_descriptor_idx = np.array(sample_annotation_descriptor_idx)\n",
    "np.random.shuffle(sample_annotation_descriptor_idx)\n",
    "sample_annotation_descriptor_idx = sample_annotation_descriptor_idx[:sample_size]\n",
    "print('sample annotations with descriptor information')\n",
    "for i,j,k in sample_annotation_descriptor_idx:\n",
    "    print(annotated_data[i]['annotation_subtrees'][j][k])"
   ]
  },
  {
   "cell_type": "markdown",
   "metadata": {},
   "source": [
    "The labels and annotations seem to use mostly visual adjectives (`large`, `white`, `black`) as well as some subjective ones (`gentle`, `young`, `chilly`)."
   ]
  },
  {
   "cell_type": "markdown",
   "metadata": {},
   "source": [
    "Do labels and annotations tend to use the same adjectives?"
   ]
  },
  {
   "cell_type": "code",
   "execution_count": 34,
   "metadata": {
    "scrolled": true
   },
   "outputs": [
    {
     "name": "stdout",
     "output_type": "stream",
     "text": [
      "top descriptor adjectives for labels\n"
     ]
    },
    {
     "data": {
      "text/plain": [
       "young        45\n",
       "large        24\n",
       "little       19\n",
       "small        14\n",
       "white         7\n",
       "black         7\n",
       "older         7\n",
       "other         6\n",
       "blue          6\n",
       "several       6\n",
       "different     6\n",
       "yellow        5\n",
       "various       5\n",
       "long          5\n",
       "big           4\n",
       "high          4\n",
       "teenage       4\n",
       "wooden        4\n",
       "outdoor       3\n",
       "top           3\n",
       "dtype: int64"
      ]
     },
     "metadata": {},
     "output_type": "display_data"
    },
    {
     "name": "stdout",
     "output_type": "stream",
     "text": [
      "top descriptor adjectives for annotations\n"
     ]
    },
    {
     "data": {
      "text/plain": [
       "young        459\n",
       "little       141\n",
       "small        129\n",
       "large        102\n",
       "white        100\n",
       "black         98\n",
       "other         93\n",
       "older         66\n",
       "long          54\n",
       "red           52\n",
       "sharp         46\n",
       "blue          45\n",
       "old           43\n",
       "different     41\n",
       "musical       40\n",
       "big           35\n",
       "heavy         35\n",
       "yellow        34\n",
       "wooden        33\n",
       "female        28\n",
       "dtype: int64"
      ]
     },
     "metadata": {},
     "output_type": "display_data"
    }
   ],
   "source": [
    "import pandas as pd\n",
    "sample_size = 20\n",
    "## labels\n",
    "label_descriptors_combined = []\n",
    "for has_descriptor_i, data_i in zip(label_descriptors, annotated_data):\n",
    "    if(has_descriptor_i):\n",
    "        descriptors_i = list(filter(lambda x: x.pos_=='ADJ', data_i['label_subtree']))\n",
    "        descriptors_i = list(map(lambda x: x.text.lower(), descriptors_i))\n",
    "        label_descriptors_combined.extend(descriptors_i)\n",
    "label_descriptor_count = pd.Series(label_descriptors_combined).value_counts()\n",
    "print('top descriptor adjectives for labels')\n",
    "display(label_descriptor_count.head(sample_size))\n",
    "## annotations\n",
    "annotation_descriptors_combined = []\n",
    "for has_descriptor_i, data_i in zip(annotation_descriptors, annotated_data):\n",
    "    for has_descriptor_j, data_j in zip(has_descriptor_i, data_i['annotation_subtrees']):\n",
    "        for has_descriptor_k, data_k in zip(has_descriptor_j, data_j):\n",
    "            if(has_descriptor_k):\n",
    "                descriptors_k = list(filter(lambda x: x.pos_=='ADJ', data_k))\n",
    "                descriptors_k = list(map(lambda x: x.text.lower(), descriptors_k))\n",
    "                annotation_descriptors_combined.extend(descriptors_k)\n",
    "annotation_descriptor_count = pd.Series(annotation_descriptors_combined).value_counts()\n",
    "print('top descriptor adjectives for annotations')\n",
    "display(annotation_descriptor_count.head(sample_size))"
   ]
  },
  {
   "cell_type": "markdown",
   "metadata": {},
   "source": [
    "- Descriptor adjectives for label phrases include age, size, number words.\n",
    "- Descriptor adjectives for annotation phrases include situation-specific (`female`, `musical`) words."
   ]
  },
  {
   "cell_type": "markdown",
   "metadata": {},
   "source": [
    "Do annotations tend to use more adjectives than original labels?"
   ]
  },
  {
   "cell_type": "code",
   "execution_count": 35,
   "metadata": {
    "scrolled": true
   },
   "outputs": [
    {
     "name": "stdout",
     "output_type": "stream",
     "text": [
      "true labels have 15.365% descriptor use\n",
      "annotation labels have 8.553% descriptor use\n",
      "rate of descriptor use is different with stat=108.486 (p=2.103E-25)\n"
     ]
    }
   ],
   "source": [
    "label_descriptor_use_rate = sum(label_descriptors) / len(annotated_data)\n",
    "total_annotation_descriptors_combined = sum([sum([len(y) for y in x['additional_answers']]) for x in annotated_data])\n",
    "annotation_descriptor_use_rate = len(annotation_descriptors_combined) / total_annotation_descriptors_combined\n",
    "print(f'true labels have %.3f%% descriptor use'%(label_descriptor_use_rate*100))\n",
    "print(f'annotation labels have %.3f%% descriptor use'%(annotation_descriptor_use_rate*100))\n",
    "## is this significant?\n",
    "from scipy.stats import chi2_contingency\n",
    "contingency_table = [\n",
    "    [sum(label_descriptors), len(annotated_data) - sum(label_descriptors)], # true label\n",
    "    [len(annotation_descriptors_combined), total_annotation_descriptors_combined - len(annotation_descriptors_combined)], # annotation label\n",
    "]\n",
    "chi2, p_val, dof, expected = chi2_contingency(contingency_table)\n",
    "print('rate of descriptor use is different with stat=%.3f (p=%.3E)'%(chi2, p_val))"
   ]
  },
  {
   "cell_type": "markdown",
   "metadata": {},
   "source": [
    "OK! The labels tend to use descriptors at a significantly higher rate than the annotations."
   ]
  },
  {
   "cell_type": "markdown",
   "metadata": {},
   "source": [
    "## POS distribution\n",
    "Let's look at the overall POS distribution in the labels and annotations."
   ]
  },
  {
   "cell_type": "code",
   "execution_count": 36,
   "metadata": {},
   "outputs": [
    {
     "name": "stderr",
     "output_type": "stream",
     "text": [
      "<ipython-input-36-358325fe4076>:5: FutureWarning: Sorting because non-concatenation axis is not aligned. A future version\n",
      "of pandas will change to not sort by default.\n",
      "\n",
      "To accept the future behavior, pass 'sort=False'.\n",
      "\n",
      "To retain the current behavior and silence the warning, pass 'sort=True'.\n",
      "\n",
      "  annotation_POS_counts = pd.concat([get_POS_counts(z) for x in annotated_data for y in x['annotation_subtrees'] for z in y if type(z) is Span], axis=1).fillna(0.).sum(axis=1)\n"
     ]
    },
    {
     "data": {
      "text/html": [
       "<div>\n",
       "<style scoped>\n",
       "    .dataframe tbody tr th:only-of-type {\n",
       "        vertical-align: middle;\n",
       "    }\n",
       "\n",
       "    .dataframe tbody tr th {\n",
       "        vertical-align: top;\n",
       "    }\n",
       "\n",
       "    .dataframe thead th {\n",
       "        text-align: right;\n",
       "    }\n",
       "</style>\n",
       "<table border=\"1\" class=\"dataframe\">\n",
       "  <thead>\n",
       "    <tr style=\"text-align: right;\">\n",
       "      <th></th>\n",
       "      <th>POS</th>\n",
       "      <th>count</th>\n",
       "      <th>data_type</th>\n",
       "    </tr>\n",
       "  </thead>\n",
       "  <tbody>\n",
       "    <tr>\n",
       "      <th>0</th>\n",
       "      <td>ADJ</td>\n",
       "      <td>0.084459</td>\n",
       "      <td>label</td>\n",
       "    </tr>\n",
       "    <tr>\n",
       "      <th>1</th>\n",
       "      <td>ADP</td>\n",
       "      <td>0.000491</td>\n",
       "      <td>label</td>\n",
       "    </tr>\n",
       "    <tr>\n",
       "      <th>2</th>\n",
       "      <td>ADV</td>\n",
       "      <td>0.003437</td>\n",
       "      <td>label</td>\n",
       "    </tr>\n",
       "    <tr>\n",
       "      <th>3</th>\n",
       "      <td>AUX</td>\n",
       "      <td>0.000246</td>\n",
       "      <td>label</td>\n",
       "    </tr>\n",
       "    <tr>\n",
       "      <th>4</th>\n",
       "      <td>CCONJ</td>\n",
       "      <td>0.001473</td>\n",
       "      <td>label</td>\n",
       "    </tr>\n",
       "  </tbody>\n",
       "</table>\n",
       "</div>"
      ],
      "text/plain": [
       "     POS     count data_type\n",
       "0    ADJ  0.084459     label\n",
       "1    ADP  0.000491     label\n",
       "2    ADV  0.003437     label\n",
       "3    AUX  0.000246     label\n",
       "4  CCONJ  0.001473     label"
      ]
     },
     "metadata": {},
     "output_type": "display_data"
    }
   ],
   "source": [
    "import pandas as pd\n",
    "def get_POS_counts(subtree):\n",
    "    return pd.Series([x.pos_ for x in subtree]).value_counts()\n",
    "label_POS_counts = pd.concat(list(map(lambda x: get_POS_counts(x['label_subtree']), annotated_data)), axis=1).fillna(0.).sum(axis=1)\n",
    "annotation_POS_counts = pd.concat([get_POS_counts(z) for x in annotated_data for y in x['annotation_subtrees'] for z in y if type(z) is Span], axis=1).fillna(0.).sum(axis=1)\n",
    "## normalize values\n",
    "label_POS_counts = label_POS_counts / label_POS_counts.sum()\n",
    "annotation_POS_counts = annotation_POS_counts / annotation_POS_counts.sum()\n",
    "# combine for plotting\n",
    "combined_POS_counts = pd.concat([\n",
    "    label_POS_counts.reset_index(name='count').rename(columns={'index' : 'POS'}).assign(**{'data_type' : 'label'}),\n",
    "    annotation_POS_counts.reset_index(name='count').rename(columns={'index' : 'POS'}).assign(**{'data_type' : 'annotation'}),\n",
    "])\n",
    "display(combined_POS_counts.head())"
   ]
  },
  {
   "cell_type": "code",
   "execution_count": 37,
   "metadata": {
    "scrolled": true
   },
   "outputs": [
    {
     "data": {
      "image/png": "[encoded data removed]",
      "text/plain": [
       "<Figure size 576x576 with 1 Axes>"
      ]
     },
     "metadata": {
      "needs_background": "light"
     },
     "output_type": "display_data"
    }
   ],
   "source": [
    "## plot combined\n",
    "import seaborn as sns\n",
    "import matplotlib\n",
    "%matplotlib inline\n",
    "import matplotlib.pyplot as plt\n",
    "plt.figure(figsize=(8, 8))\n",
    "sns.barplot(x='count', y='POS', hue='data_type', data=combined_POS_counts)\n",
    "plt.legend(loc='lower right')\n",
    "plt.xscale('log')\n",
    "plt.xlabel('% frequency')\n",
    "plt.ylabel('POS')\n",
    "plt.show()"
   ]
  },
  {
   "cell_type": "markdown",
   "metadata": {},
   "source": [
    "What are the top words in each category?"
   ]
  },
  {
   "cell_type": "code",
   "execution_count": 40,
   "metadata": {},
   "outputs": [],
   "source": [
    "## get POS/word counts\n",
    "label_POS_word_counts = []\n",
    "annotation_POS_word_counts = []\n",
    "for data_i in annotated_data:\n",
    "    label_POS_word_counts.extend([(x.text.lower(), x.pos_) for x in data_i['label_subtree']])\n",
    "    for subtrees_j in data_i['annotation_subtrees']:\n",
    "        for subtree_k in subtrees_j:\n",
    "            if(type(subtree_k) is Span):\n",
    "                annotation_POS_word_counts.extend([(x.text.lower(), x.pos_) for x in subtree_k])\n",
    "## get aggregate counts!!\n",
    "label_POS_word_counts = pd.DataFrame(label_POS_word_counts, columns=['word', 'POS'])\n",
    "annotation_POS_word_counts = pd.DataFrame(annotation_POS_word_counts, columns=['word', 'POS'])\n",
    "label_POS_word_counts = label_POS_word_counts.groupby('POS').apply(lambda x: x.loc[:, 'word'].value_counts()).reset_index(name='count').rename(columns={'level_1' : 'word'})\n",
    "annotation_POS_word_counts = annotation_POS_word_counts.groupby('POS').apply(lambda x: x.loc[:, 'word'].value_counts()).reset_index(name='count').rename(columns={'level_1' : 'word'})"
   ]
  },
  {
   "cell_type": "code",
   "execution_count": 41,
   "metadata": {},
   "outputs": [
    {
     "name": "stdout",
     "output_type": "stream",
     "text": [
      "POS tag ADJ\n",
      "label word counts\n"
     ]
    },
    {
     "data": {
      "text/html": [
       "<div>\n",
       "<style scoped>\n",
       "    .dataframe tbody tr th:only-of-type {\n",
       "        vertical-align: middle;\n",
       "    }\n",
       "\n",
       "    .dataframe tbody tr th {\n",
       "        vertical-align: top;\n",
       "    }\n",
       "\n",
       "    .dataframe thead th {\n",
       "        text-align: right;\n",
       "    }\n",
       "</style>\n",
       "<table border=\"1\" class=\"dataframe\">\n",
       "  <thead>\n",
       "    <tr style=\"text-align: right;\">\n",
       "      <th></th>\n",
       "      <th>word</th>\n",
       "      <th>count</th>\n",
       "    </tr>\n",
       "  </thead>\n",
       "  <tbody>\n",
       "    <tr>\n",
       "      <th>0</th>\n",
       "      <td>young</td>\n",
       "      <td>45</td>\n",
       "    </tr>\n",
       "    <tr>\n",
       "      <th>1</th>\n",
       "      <td>large</td>\n",
       "      <td>24</td>\n",
       "    </tr>\n",
       "    <tr>\n",
       "      <th>2</th>\n",
       "      <td>little</td>\n",
       "      <td>19</td>\n",
       "    </tr>\n",
       "    <tr>\n",
       "      <th>3</th>\n",
       "      <td>small</td>\n",
       "      <td>14</td>\n",
       "    </tr>\n",
       "    <tr>\n",
       "      <th>4</th>\n",
       "      <td>black</td>\n",
       "      <td>8</td>\n",
       "    </tr>\n",
       "    <tr>\n",
       "      <th>5</th>\n",
       "      <td>white</td>\n",
       "      <td>8</td>\n",
       "    </tr>\n",
       "    <tr>\n",
       "      <th>6</th>\n",
       "      <td>older</td>\n",
       "      <td>7</td>\n",
       "    </tr>\n",
       "    <tr>\n",
       "      <th>7</th>\n",
       "      <td>blue</td>\n",
       "      <td>7</td>\n",
       "    </tr>\n",
       "    <tr>\n",
       "      <th>8</th>\n",
       "      <td>different</td>\n",
       "      <td>6</td>\n",
       "    </tr>\n",
       "    <tr>\n",
       "      <th>10</th>\n",
       "      <td>several</td>\n",
       "      <td>6</td>\n",
       "    </tr>\n",
       "  </tbody>\n",
       "</table>\n",
       "</div>"
      ],
      "text/plain": [
       "         word  count\n",
       "0       young     45\n",
       "1       large     24\n",
       "2      little     19\n",
       "3       small     14\n",
       "4       black      8\n",
       "5       white      8\n",
       "6       older      7\n",
       "7        blue      7\n",
       "8   different      6\n",
       "10    several      6"
      ]
     },
     "metadata": {},
     "output_type": "display_data"
    },
    {
     "name": "stdout",
     "output_type": "stream",
     "text": [
      "annotation word counts\n"
     ]
    },
    {
     "data": {
      "text/html": [
       "<div>\n",
       "<style scoped>\n",
       "    .dataframe tbody tr th:only-of-type {\n",
       "        vertical-align: middle;\n",
       "    }\n",
       "\n",
       "    .dataframe tbody tr th {\n",
       "        vertical-align: top;\n",
       "    }\n",
       "\n",
       "    .dataframe thead th {\n",
       "        text-align: right;\n",
       "    }\n",
       "</style>\n",
       "<table border=\"1\" class=\"dataframe\">\n",
       "  <thead>\n",
       "    <tr style=\"text-align: right;\">\n",
       "      <th></th>\n",
       "      <th>word</th>\n",
       "      <th>count</th>\n",
       "    </tr>\n",
       "  </thead>\n",
       "  <tbody>\n",
       "    <tr>\n",
       "      <th>0</th>\n",
       "      <td>young</td>\n",
       "      <td>465</td>\n",
       "    </tr>\n",
       "    <tr>\n",
       "      <th>1</th>\n",
       "      <td>little</td>\n",
       "      <td>142</td>\n",
       "    </tr>\n",
       "    <tr>\n",
       "      <th>2</th>\n",
       "      <td>small</td>\n",
       "      <td>130</td>\n",
       "    </tr>\n",
       "    <tr>\n",
       "      <th>3</th>\n",
       "      <td>black</td>\n",
       "      <td>122</td>\n",
       "    </tr>\n",
       "    <tr>\n",
       "      <th>4</th>\n",
       "      <td>white</td>\n",
       "      <td>115</td>\n",
       "    </tr>\n",
       "    <tr>\n",
       "      <th>5</th>\n",
       "      <td>large</td>\n",
       "      <td>102</td>\n",
       "    </tr>\n",
       "    <tr>\n",
       "      <th>6</th>\n",
       "      <td>other</td>\n",
       "      <td>101</td>\n",
       "    </tr>\n",
       "    <tr>\n",
       "      <th>7</th>\n",
       "      <td>older</td>\n",
       "      <td>66</td>\n",
       "    </tr>\n",
       "    <tr>\n",
       "      <th>8</th>\n",
       "      <td>blue</td>\n",
       "      <td>64</td>\n",
       "    </tr>\n",
       "    <tr>\n",
       "      <th>9</th>\n",
       "      <td>long</td>\n",
       "      <td>59</td>\n",
       "    </tr>\n",
       "  </tbody>\n",
       "</table>\n",
       "</div>"
      ],
      "text/plain": [
       "     word  count\n",
       "0   young    465\n",
       "1  little    142\n",
       "2   small    130\n",
       "3   black    122\n",
       "4   white    115\n",
       "5   large    102\n",
       "6   other    101\n",
       "7   older     66\n",
       "8    blue     64\n",
       "9    long     59"
      ]
     },
     "metadata": {},
     "output_type": "display_data"
    },
    {
     "name": "stdout",
     "output_type": "stream",
     "text": [
      "POS tag ADP\n",
      "label word counts\n"
     ]
    },
    {
     "data": {
      "text/html": [
       "<div>\n",
       "<style scoped>\n",
       "    .dataframe tbody tr th:only-of-type {\n",
       "        vertical-align: middle;\n",
       "    }\n",
       "\n",
       "    .dataframe tbody tr th {\n",
       "        vertical-align: top;\n",
       "    }\n",
       "\n",
       "    .dataframe thead th {\n",
       "        text-align: right;\n",
       "    }\n",
       "</style>\n",
       "<table border=\"1\" class=\"dataframe\">\n",
       "  <thead>\n",
       "    <tr style=\"text-align: right;\">\n",
       "      <th></th>\n",
       "      <th>word</th>\n",
       "      <th>count</th>\n",
       "    </tr>\n",
       "  </thead>\n",
       "  <tbody>\n",
       "    <tr>\n",
       "      <th>144</th>\n",
       "      <td>up</td>\n",
       "      <td>1</td>\n",
       "    </tr>\n",
       "    <tr>\n",
       "      <th>145</th>\n",
       "      <td>out</td>\n",
       "      <td>1</td>\n",
       "    </tr>\n",
       "  </tbody>\n",
       "</table>\n",
       "</div>"
      ],
      "text/plain": [
       "    word  count\n",
       "144   up      1\n",
       "145  out      1"
      ]
     },
     "metadata": {},
     "output_type": "display_data"
    },
    {
     "name": "stdout",
     "output_type": "stream",
     "text": [
      "annotation word counts\n"
     ]
    },
    {
     "data": {
      "text/html": [
       "<div>\n",
       "<style scoped>\n",
       "    .dataframe tbody tr th:only-of-type {\n",
       "        vertical-align: middle;\n",
       "    }\n",
       "\n",
       "    .dataframe tbody tr th {\n",
       "        vertical-align: top;\n",
       "    }\n",
       "\n",
       "    .dataframe thead th {\n",
       "        text-align: right;\n",
       "    }\n",
       "</style>\n",
       "<table border=\"1\" class=\"dataframe\">\n",
       "  <thead>\n",
       "    <tr style=\"text-align: right;\">\n",
       "      <th></th>\n",
       "      <th>word</th>\n",
       "      <th>count</th>\n",
       "    </tr>\n",
       "  </thead>\n",
       "  <tbody>\n",
       "    <tr>\n",
       "      <th>787</th>\n",
       "      <td>of</td>\n",
       "      <td>653</td>\n",
       "    </tr>\n",
       "    <tr>\n",
       "      <th>788</th>\n",
       "      <td>in</td>\n",
       "      <td>138</td>\n",
       "    </tr>\n",
       "    <tr>\n",
       "      <th>789</th>\n",
       "      <td>with</td>\n",
       "      <td>70</td>\n",
       "    </tr>\n",
       "    <tr>\n",
       "      <th>790</th>\n",
       "      <td>on</td>\n",
       "      <td>55</td>\n",
       "    </tr>\n",
       "    <tr>\n",
       "      <th>791</th>\n",
       "      <td>up</td>\n",
       "      <td>20</td>\n",
       "    </tr>\n",
       "    <tr>\n",
       "      <th>792</th>\n",
       "      <td>for</td>\n",
       "      <td>18</td>\n",
       "    </tr>\n",
       "    <tr>\n",
       "      <th>793</th>\n",
       "      <td>to</td>\n",
       "      <td>15</td>\n",
       "    </tr>\n",
       "    <tr>\n",
       "      <th>794</th>\n",
       "      <td>out</td>\n",
       "      <td>10</td>\n",
       "    </tr>\n",
       "    <tr>\n",
       "      <th>795</th>\n",
       "      <td>from</td>\n",
       "      <td>9</td>\n",
       "    </tr>\n",
       "    <tr>\n",
       "      <th>796</th>\n",
       "      <td>above</td>\n",
       "      <td>6</td>\n",
       "    </tr>\n",
       "  </tbody>\n",
       "</table>\n",
       "</div>"
      ],
      "text/plain": [
       "      word  count\n",
       "787     of    653\n",
       "788     in    138\n",
       "789   with     70\n",
       "790     on     55\n",
       "791     up     20\n",
       "792    for     18\n",
       "793     to     15\n",
       "794    out     10\n",
       "795   from      9\n",
       "796  above      6"
      ]
     },
     "metadata": {},
     "output_type": "display_data"
    },
    {
     "name": "stdout",
     "output_type": "stream",
     "text": [
      "POS tag ADV\n",
      "label word counts\n"
     ]
    },
    {
     "data": {
      "text/html": [
       "<div>\n",
       "<style scoped>\n",
       "    .dataframe tbody tr th:only-of-type {\n",
       "        vertical-align: middle;\n",
       "    }\n",
       "\n",
       "    .dataframe tbody tr th {\n",
       "        vertical-align: top;\n",
       "    }\n",
       "\n",
       "    .dataframe thead th {\n",
       "        text-align: right;\n",
       "    }\n",
       "</style>\n",
       "<table border=\"1\" class=\"dataframe\">\n",
       "  <thead>\n",
       "    <tr style=\"text-align: right;\">\n",
       "      <th></th>\n",
       "      <th>word</th>\n",
       "      <th>count</th>\n",
       "    </tr>\n",
       "  </thead>\n",
       "  <tbody>\n",
       "    <tr>\n",
       "      <th>146</th>\n",
       "      <td>very</td>\n",
       "      <td>4</td>\n",
       "    </tr>\n",
       "    <tr>\n",
       "      <th>147</th>\n",
       "      <td>curly</td>\n",
       "      <td>2</td>\n",
       "    </tr>\n",
       "    <tr>\n",
       "      <th>148</th>\n",
       "      <td>then</td>\n",
       "      <td>1</td>\n",
       "    </tr>\n",
       "    <tr>\n",
       "      <th>149</th>\n",
       "      <td>well</td>\n",
       "      <td>1</td>\n",
       "    </tr>\n",
       "    <tr>\n",
       "      <th>150</th>\n",
       "      <td>ornately</td>\n",
       "      <td>1</td>\n",
       "    </tr>\n",
       "    <tr>\n",
       "      <th>151</th>\n",
       "      <td>about</td>\n",
       "      <td>1</td>\n",
       "    </tr>\n",
       "    <tr>\n",
       "      <th>152</th>\n",
       "      <td>dimly</td>\n",
       "      <td>1</td>\n",
       "    </tr>\n",
       "    <tr>\n",
       "      <th>153</th>\n",
       "      <td>back</td>\n",
       "      <td>1</td>\n",
       "    </tr>\n",
       "    <tr>\n",
       "      <th>154</th>\n",
       "      <td>extremely</td>\n",
       "      <td>1</td>\n",
       "    </tr>\n",
       "    <tr>\n",
       "      <th>155</th>\n",
       "      <td>backflip</td>\n",
       "      <td>1</td>\n",
       "    </tr>\n",
       "  </tbody>\n",
       "</table>\n",
       "</div>"
      ],
      "text/plain": [
       "          word  count\n",
       "146       very      4\n",
       "147      curly      2\n",
       "148       then      1\n",
       "149       well      1\n",
       "150   ornately      1\n",
       "151      about      1\n",
       "152      dimly      1\n",
       "153       back      1\n",
       "154  extremely      1\n",
       "155   backflip      1"
      ]
     },
     "metadata": {},
     "output_type": "display_data"
    },
    {
     "name": "stdout",
     "output_type": "stream",
     "text": [
      "annotation word counts\n"
     ]
    },
    {
     "data": {
      "text/html": [
       "<div>\n",
       "<style scoped>\n",
       "    .dataframe tbody tr th:only-of-type {\n",
       "        vertical-align: middle;\n",
       "    }\n",
       "\n",
       "    .dataframe tbody tr th {\n",
       "        vertical-align: top;\n",
       "    }\n",
       "\n",
       "    .dataframe thead th {\n",
       "        text-align: right;\n",
       "    }\n",
       "</style>\n",
       "<table border=\"1\" class=\"dataframe\">\n",
       "  <thead>\n",
       "    <tr style=\"text-align: right;\">\n",
       "      <th></th>\n",
       "      <th>word</th>\n",
       "      <th>count</th>\n",
       "    </tr>\n",
       "  </thead>\n",
       "  <tbody>\n",
       "    <tr>\n",
       "      <th>809</th>\n",
       "      <td>how</td>\n",
       "      <td>49</td>\n",
       "    </tr>\n",
       "    <tr>\n",
       "      <th>810</th>\n",
       "      <td>back</td>\n",
       "      <td>16</td>\n",
       "    </tr>\n",
       "    <tr>\n",
       "      <th>811</th>\n",
       "      <td>else</td>\n",
       "      <td>14</td>\n",
       "    </tr>\n",
       "    <tr>\n",
       "      <th>812</th>\n",
       "      <td>very</td>\n",
       "      <td>11</td>\n",
       "    </tr>\n",
       "    <tr>\n",
       "      <th>813</th>\n",
       "      <td>well</td>\n",
       "      <td>8</td>\n",
       "    </tr>\n",
       "    <tr>\n",
       "      <th>814</th>\n",
       "      <td>curly</td>\n",
       "      <td>5</td>\n",
       "    </tr>\n",
       "    <tr>\n",
       "      <th>817</th>\n",
       "      <td>bong</td>\n",
       "      <td>4</td>\n",
       "    </tr>\n",
       "    <tr>\n",
       "      <th>818</th>\n",
       "      <td>chalk</td>\n",
       "      <td>4</td>\n",
       "    </tr>\n",
       "    <tr>\n",
       "      <th>819</th>\n",
       "      <td>around</td>\n",
       "      <td>4</td>\n",
       "    </tr>\n",
       "    <tr>\n",
       "      <th>816</th>\n",
       "      <td>just</td>\n",
       "      <td>4</td>\n",
       "    </tr>\n",
       "  </tbody>\n",
       "</table>\n",
       "</div>"
      ],
      "text/plain": [
       "       word  count\n",
       "809     how     49\n",
       "810    back     16\n",
       "811    else     14\n",
       "812    very     11\n",
       "813    well      8\n",
       "814   curly      5\n",
       "817    bong      4\n",
       "818   chalk      4\n",
       "819  around      4\n",
       "816    just      4"
      ]
     },
     "metadata": {},
     "output_type": "display_data"
    },
    {
     "name": "stdout",
     "output_type": "stream",
     "text": [
      "POS tag AUX\n",
      "label word counts\n"
     ]
    },
    {
     "data": {
      "text/html": [
       "<div>\n",
       "<style scoped>\n",
       "    .dataframe tbody tr th:only-of-type {\n",
       "        vertical-align: middle;\n",
       "    }\n",
       "\n",
       "    .dataframe tbody tr th {\n",
       "        vertical-align: top;\n",
       "    }\n",
       "\n",
       "    .dataframe thead th {\n",
       "        text-align: right;\n",
       "    }\n",
       "</style>\n",
       "<table border=\"1\" class=\"dataframe\">\n",
       "  <thead>\n",
       "    <tr style=\"text-align: right;\">\n",
       "      <th></th>\n",
       "      <th>word</th>\n",
       "      <th>count</th>\n",
       "    </tr>\n",
       "  </thead>\n",
       "  <tbody>\n",
       "    <tr>\n",
       "      <th>156</th>\n",
       "      <td>do</td>\n",
       "      <td>1</td>\n",
       "    </tr>\n",
       "  </tbody>\n",
       "</table>\n",
       "</div>"
      ],
      "text/plain": [
       "    word  count\n",
       "156   do      1"
      ]
     },
     "metadata": {},
     "output_type": "display_data"
    },
    {
     "name": "stdout",
     "output_type": "stream",
     "text": [
      "annotation word counts\n"
     ]
    },
    {
     "data": {
      "text/html": [
       "<div>\n",
       "<style scoped>\n",
       "    .dataframe tbody tr th:only-of-type {\n",
       "        vertical-align: middle;\n",
       "    }\n",
       "\n",
       "    .dataframe tbody tr th {\n",
       "        vertical-align: top;\n",
       "    }\n",
       "\n",
       "    .dataframe thead th {\n",
       "        text-align: right;\n",
       "    }\n",
       "</style>\n",
       "<table border=\"1\" class=\"dataframe\">\n",
       "  <thead>\n",
       "    <tr style=\"text-align: right;\">\n",
       "      <th></th>\n",
       "      <th>word</th>\n",
       "      <th>count</th>\n",
       "    </tr>\n",
       "  </thead>\n",
       "  <tbody>\n",
       "    <tr>\n",
       "      <th>893</th>\n",
       "      <td>is</td>\n",
       "      <td>26</td>\n",
       "    </tr>\n",
       "    <tr>\n",
       "      <th>894</th>\n",
       "      <td>'s</td>\n",
       "      <td>21</td>\n",
       "    </tr>\n",
       "    <tr>\n",
       "      <th>895</th>\n",
       "      <td>being</td>\n",
       "      <td>9</td>\n",
       "    </tr>\n",
       "    <tr>\n",
       "      <th>896</th>\n",
       "      <td>are</td>\n",
       "      <td>7</td>\n",
       "    </tr>\n",
       "    <tr>\n",
       "      <th>897</th>\n",
       "      <td>do</td>\n",
       "      <td>7</td>\n",
       "    </tr>\n",
       "    <tr>\n",
       "      <th>898</th>\n",
       "      <td>was</td>\n",
       "      <td>5</td>\n",
       "    </tr>\n",
       "    <tr>\n",
       "      <th>899</th>\n",
       "      <td>have</td>\n",
       "      <td>5</td>\n",
       "    </tr>\n",
       "    <tr>\n",
       "      <th>900</th>\n",
       "      <td>has</td>\n",
       "      <td>4</td>\n",
       "    </tr>\n",
       "    <tr>\n",
       "      <th>901</th>\n",
       "      <td>be</td>\n",
       "      <td>3</td>\n",
       "    </tr>\n",
       "    <tr>\n",
       "      <th>902</th>\n",
       "      <td>did</td>\n",
       "      <td>3</td>\n",
       "    </tr>\n",
       "  </tbody>\n",
       "</table>\n",
       "</div>"
      ],
      "text/plain": [
       "      word  count\n",
       "893     is     26\n",
       "894     's     21\n",
       "895  being      9\n",
       "896    are      7\n",
       "897     do      7\n",
       "898    was      5\n",
       "899   have      5\n",
       "900    has      4\n",
       "901     be      3\n",
       "902    did      3"
      ]
     },
     "metadata": {},
     "output_type": "display_data"
    },
    {
     "name": "stdout",
     "output_type": "stream",
     "text": [
      "POS tag CCONJ\n",
      "label word counts\n"
     ]
    },
    {
     "data": {
      "text/html": [
       "<div>\n",
       "<style scoped>\n",
       "    .dataframe tbody tr th:only-of-type {\n",
       "        vertical-align: middle;\n",
       "    }\n",
       "\n",
       "    .dataframe tbody tr th {\n",
       "        vertical-align: top;\n",
       "    }\n",
       "\n",
       "    .dataframe thead th {\n",
       "        text-align: right;\n",
       "    }\n",
       "</style>\n",
       "<table border=\"1\" class=\"dataframe\">\n",
       "  <thead>\n",
       "    <tr style=\"text-align: right;\">\n",
       "      <th></th>\n",
       "      <th>word</th>\n",
       "      <th>count</th>\n",
       "    </tr>\n",
       "  </thead>\n",
       "  <tbody>\n",
       "    <tr>\n",
       "      <th>157</th>\n",
       "      <td>and</td>\n",
       "      <td>6</td>\n",
       "    </tr>\n",
       "  </tbody>\n",
       "</table>\n",
       "</div>"
      ],
      "text/plain": [
       "    word  count\n",
       "157  and      6"
      ]
     },
     "metadata": {},
     "output_type": "display_data"
    },
    {
     "name": "stdout",
     "output_type": "stream",
     "text": [
      "annotation word counts\n"
     ]
    },
    {
     "data": {
      "text/html": [
       "<div>\n",
       "<style scoped>\n",
       "    .dataframe tbody tr th:only-of-type {\n",
       "        vertical-align: middle;\n",
       "    }\n",
       "\n",
       "    .dataframe tbody tr th {\n",
       "        vertical-align: top;\n",
       "    }\n",
       "\n",
       "    .dataframe thead th {\n",
       "        text-align: right;\n",
       "    }\n",
       "</style>\n",
       "<table border=\"1\" class=\"dataframe\">\n",
       "  <thead>\n",
       "    <tr style=\"text-align: right;\">\n",
       "      <th></th>\n",
       "      <th>word</th>\n",
       "      <th>count</th>\n",
       "    </tr>\n",
       "  </thead>\n",
       "  <tbody>\n",
       "    <tr>\n",
       "      <th>907</th>\n",
       "      <td>and</td>\n",
       "      <td>226</td>\n",
       "    </tr>\n",
       "    <tr>\n",
       "      <th>908</th>\n",
       "      <td>both</td>\n",
       "      <td>3</td>\n",
       "    </tr>\n",
       "    <tr>\n",
       "      <th>909</th>\n",
       "      <td>or</td>\n",
       "      <td>2</td>\n",
       "    </tr>\n",
       "    <tr>\n",
       "      <th>910</th>\n",
       "      <td>&amp;</td>\n",
       "      <td>1</td>\n",
       "    </tr>\n",
       "  </tbody>\n",
       "</table>\n",
       "</div>"
      ],
      "text/plain": [
       "     word  count\n",
       "907   and    226\n",
       "908  both      3\n",
       "909    or      2\n",
       "910     &      1"
      ]
     },
     "metadata": {},
     "output_type": "display_data"
    },
    {
     "name": "stdout",
     "output_type": "stream",
     "text": [
      "POS tag DET\n",
      "label word counts\n"
     ]
    },
    {
     "data": {
      "text/html": [
       "<div>\n",
       "<style scoped>\n",
       "    .dataframe tbody tr th:only-of-type {\n",
       "        vertical-align: middle;\n",
       "    }\n",
       "\n",
       "    .dataframe tbody tr th {\n",
       "        vertical-align: top;\n",
       "    }\n",
       "\n",
       "    .dataframe thead th {\n",
       "        text-align: right;\n",
       "    }\n",
       "</style>\n",
       "<table border=\"1\" class=\"dataframe\">\n",
       "  <thead>\n",
       "    <tr style=\"text-align: right;\">\n",
       "      <th></th>\n",
       "      <th>word</th>\n",
       "      <th>count</th>\n",
       "    </tr>\n",
       "  </thead>\n",
       "  <tbody>\n",
       "    <tr>\n",
       "      <th>158</th>\n",
       "      <td>a</td>\n",
       "      <td>948</td>\n",
       "    </tr>\n",
       "    <tr>\n",
       "      <th>159</th>\n",
       "      <td>the</td>\n",
       "      <td>187</td>\n",
       "    </tr>\n",
       "    <tr>\n",
       "      <th>160</th>\n",
       "      <td>his</td>\n",
       "      <td>63</td>\n",
       "    </tr>\n",
       "    <tr>\n",
       "      <th>161</th>\n",
       "      <td>an</td>\n",
       "      <td>44</td>\n",
       "    </tr>\n",
       "    <tr>\n",
       "      <th>162</th>\n",
       "      <td>her</td>\n",
       "      <td>39</td>\n",
       "    </tr>\n",
       "    <tr>\n",
       "      <th>163</th>\n",
       "      <td>their</td>\n",
       "      <td>25</td>\n",
       "    </tr>\n",
       "    <tr>\n",
       "      <th>164</th>\n",
       "      <td>another</td>\n",
       "      <td>24</td>\n",
       "    </tr>\n",
       "    <tr>\n",
       "      <th>165</th>\n",
       "      <td>some</td>\n",
       "      <td>11</td>\n",
       "    </tr>\n",
       "    <tr>\n",
       "      <th>166</th>\n",
       "      <td>both</td>\n",
       "      <td>4</td>\n",
       "    </tr>\n",
       "    <tr>\n",
       "      <th>167</th>\n",
       "      <td>each</td>\n",
       "      <td>3</td>\n",
       "    </tr>\n",
       "  </tbody>\n",
       "</table>\n",
       "</div>"
      ],
      "text/plain": [
       "        word  count\n",
       "158        a    948\n",
       "159      the    187\n",
       "160      his     63\n",
       "161       an     44\n",
       "162      her     39\n",
       "163    their     25\n",
       "164  another     24\n",
       "165     some     11\n",
       "166     both      4\n",
       "167     each      3"
      ]
     },
     "metadata": {},
     "output_type": "display_data"
    },
    {
     "name": "stdout",
     "output_type": "stream",
     "text": [
      "annotation word counts\n"
     ]
    },
    {
     "data": {
      "text/html": [
       "<div>\n",
       "<style scoped>\n",
       "    .dataframe tbody tr th:only-of-type {\n",
       "        vertical-align: middle;\n",
       "    }\n",
       "\n",
       "    .dataframe tbody tr th {\n",
       "        vertical-align: top;\n",
       "    }\n",
       "\n",
       "    .dataframe thead th {\n",
       "        text-align: right;\n",
       "    }\n",
       "</style>\n",
       "<table border=\"1\" class=\"dataframe\">\n",
       "  <thead>\n",
       "    <tr style=\"text-align: right;\">\n",
       "      <th></th>\n",
       "      <th>word</th>\n",
       "      <th>count</th>\n",
       "    </tr>\n",
       "  </thead>\n",
       "  <tbody>\n",
       "    <tr>\n",
       "      <th>911</th>\n",
       "      <td>a</td>\n",
       "      <td>16712</td>\n",
       "    </tr>\n",
       "    <tr>\n",
       "      <th>912</th>\n",
       "      <td>the</td>\n",
       "      <td>5708</td>\n",
       "    </tr>\n",
       "    <tr>\n",
       "      <th>913</th>\n",
       "      <td>an</td>\n",
       "      <td>1211</td>\n",
       "    </tr>\n",
       "    <tr>\n",
       "      <th>914</th>\n",
       "      <td>his</td>\n",
       "      <td>1086</td>\n",
       "    </tr>\n",
       "    <tr>\n",
       "      <th>915</th>\n",
       "      <td>her</td>\n",
       "      <td>791</td>\n",
       "    </tr>\n",
       "    <tr>\n",
       "      <th>916</th>\n",
       "      <td>some</td>\n",
       "      <td>256</td>\n",
       "    </tr>\n",
       "    <tr>\n",
       "      <th>917</th>\n",
       "      <td>their</td>\n",
       "      <td>252</td>\n",
       "    </tr>\n",
       "    <tr>\n",
       "      <th>918</th>\n",
       "      <td>another</td>\n",
       "      <td>203</td>\n",
       "    </tr>\n",
       "    <tr>\n",
       "      <th>919</th>\n",
       "      <td>this</td>\n",
       "      <td>49</td>\n",
       "    </tr>\n",
       "    <tr>\n",
       "      <th>920</th>\n",
       "      <td>that</td>\n",
       "      <td>38</td>\n",
       "    </tr>\n",
       "  </tbody>\n",
       "</table>\n",
       "</div>"
      ],
      "text/plain": [
       "        word  count\n",
       "911        a  16712\n",
       "912      the   5708\n",
       "913       an   1211\n",
       "914      his   1086\n",
       "915      her    791\n",
       "916     some    256\n",
       "917    their    252\n",
       "918  another    203\n",
       "919     this     49\n",
       "920     that     38"
      ]
     },
     "metadata": {},
     "output_type": "display_data"
    },
    {
     "name": "stdout",
     "output_type": "stream",
     "text": [
      "POS tag NOUN\n",
      "label word counts\n"
     ]
    },
    {
     "data": {
      "text/html": [
       "<div>\n",
       "<style scoped>\n",
       "    .dataframe tbody tr th:only-of-type {\n",
       "        vertical-align: middle;\n",
       "    }\n",
       "\n",
       "    .dataframe tbody tr th {\n",
       "        vertical-align: top;\n",
       "    }\n",
       "\n",
       "    .dataframe thead th {\n",
       "        text-align: right;\n",
       "    }\n",
       "</style>\n",
       "<table border=\"1\" class=\"dataframe\">\n",
       "  <thead>\n",
       "    <tr style=\"text-align: right;\">\n",
       "      <th></th>\n",
       "      <th>word</th>\n",
       "      <th>count</th>\n",
       "    </tr>\n",
       "  </thead>\n",
       "  <tbody>\n",
       "    <tr>\n",
       "      <th>171</th>\n",
       "      <td>man</td>\n",
       "      <td>134</td>\n",
       "    </tr>\n",
       "    <tr>\n",
       "      <th>172</th>\n",
       "      <td>person</td>\n",
       "      <td>65</td>\n",
       "    </tr>\n",
       "    <tr>\n",
       "      <th>173</th>\n",
       "      <td>woman</td>\n",
       "      <td>64</td>\n",
       "    </tr>\n",
       "    <tr>\n",
       "      <th>174</th>\n",
       "      <td>boy</td>\n",
       "      <td>46</td>\n",
       "    </tr>\n",
       "    <tr>\n",
       "      <th>175</th>\n",
       "      <td>people</td>\n",
       "      <td>45</td>\n",
       "    </tr>\n",
       "    <tr>\n",
       "      <th>176</th>\n",
       "      <td>girl</td>\n",
       "      <td>33</td>\n",
       "    </tr>\n",
       "    <tr>\n",
       "      <th>177</th>\n",
       "      <td>group</td>\n",
       "      <td>28</td>\n",
       "    </tr>\n",
       "    <tr>\n",
       "      <th>178</th>\n",
       "      <td>ball</td>\n",
       "      <td>19</td>\n",
       "    </tr>\n",
       "    <tr>\n",
       "      <th>179</th>\n",
       "      <td>music</td>\n",
       "      <td>18</td>\n",
       "    </tr>\n",
       "    <tr>\n",
       "      <th>180</th>\n",
       "      <td>room</td>\n",
       "      <td>17</td>\n",
       "    </tr>\n",
       "  </tbody>\n",
       "</table>\n",
       "</div>"
      ],
      "text/plain": [
       "       word  count\n",
       "171     man    134\n",
       "172  person     65\n",
       "173   woman     64\n",
       "174     boy     46\n",
       "175  people     45\n",
       "176    girl     33\n",
       "177   group     28\n",
       "178    ball     19\n",
       "179   music     18\n",
       "180    room     17"
      ]
     },
     "metadata": {},
     "output_type": "display_data"
    },
    {
     "name": "stdout",
     "output_type": "stream",
     "text": [
      "annotation word counts\n"
     ]
    },
    {
     "data": {
      "text/html": [
       "<div>\n",
       "<style scoped>\n",
       "    .dataframe tbody tr th:only-of-type {\n",
       "        vertical-align: middle;\n",
       "    }\n",
       "\n",
       "    .dataframe tbody tr th {\n",
       "        vertical-align: top;\n",
       "    }\n",
       "\n",
       "    .dataframe thead th {\n",
       "        text-align: right;\n",
       "    }\n",
       "</style>\n",
       "<table border=\"1\" class=\"dataframe\">\n",
       "  <thead>\n",
       "    <tr style=\"text-align: right;\">\n",
       "      <th></th>\n",
       "      <th>word</th>\n",
       "      <th>count</th>\n",
       "    </tr>\n",
       "  </thead>\n",
       "  <tbody>\n",
       "    <tr>\n",
       "      <th>940</th>\n",
       "      <td>man</td>\n",
       "      <td>1779</td>\n",
       "    </tr>\n",
       "    <tr>\n",
       "      <th>941</th>\n",
       "      <td>person</td>\n",
       "      <td>1287</td>\n",
       "    </tr>\n",
       "    <tr>\n",
       "      <th>942</th>\n",
       "      <td>woman</td>\n",
       "      <td>898</td>\n",
       "    </tr>\n",
       "    <tr>\n",
       "      <th>943</th>\n",
       "      <td>people</td>\n",
       "      <td>623</td>\n",
       "    </tr>\n",
       "    <tr>\n",
       "      <th>944</th>\n",
       "      <td>girl</td>\n",
       "      <td>595</td>\n",
       "    </tr>\n",
       "    <tr>\n",
       "      <th>945</th>\n",
       "      <td>boy</td>\n",
       "      <td>582</td>\n",
       "    </tr>\n",
       "    <tr>\n",
       "      <th>946</th>\n",
       "      <td>child</td>\n",
       "      <td>508</td>\n",
       "    </tr>\n",
       "    <tr>\n",
       "      <th>947</th>\n",
       "      <td>guy</td>\n",
       "      <td>508</td>\n",
       "    </tr>\n",
       "    <tr>\n",
       "      <th>948</th>\n",
       "      <td>group</td>\n",
       "      <td>414</td>\n",
       "    </tr>\n",
       "    <tr>\n",
       "      <th>949</th>\n",
       "      <td>lady</td>\n",
       "      <td>330</td>\n",
       "    </tr>\n",
       "  </tbody>\n",
       "</table>\n",
       "</div>"
      ],
      "text/plain": [
       "       word  count\n",
       "940     man   1779\n",
       "941  person   1287\n",
       "942   woman    898\n",
       "943  people    623\n",
       "944    girl    595\n",
       "945     boy    582\n",
       "946   child    508\n",
       "947     guy    508\n",
       "948   group    414\n",
       "949    lady    330"
      ]
     },
     "metadata": {},
     "output_type": "display_data"
    },
    {
     "name": "stdout",
     "output_type": "stream",
     "text": [
      "POS tag NUM\n",
      "label word counts\n"
     ]
    },
    {
     "data": {
      "text/html": [
       "<div>\n",
       "<style scoped>\n",
       "    .dataframe tbody tr th:only-of-type {\n",
       "        vertical-align: middle;\n",
       "    }\n",
       "\n",
       "    .dataframe tbody tr th {\n",
       "        vertical-align: top;\n",
       "    }\n",
       "\n",
       "    .dataframe thead th {\n",
       "        text-align: right;\n",
       "    }\n",
       "</style>\n",
       "<table border=\"1\" class=\"dataframe\">\n",
       "  <thead>\n",
       "    <tr style=\"text-align: right;\">\n",
       "      <th></th>\n",
       "      <th>word</th>\n",
       "      <th>count</th>\n",
       "    </tr>\n",
       "  </thead>\n",
       "  <tbody>\n",
       "    <tr>\n",
       "      <th>1013</th>\n",
       "      <td>two</td>\n",
       "      <td>50</td>\n",
       "    </tr>\n",
       "    <tr>\n",
       "      <th>1014</th>\n",
       "      <td>three</td>\n",
       "      <td>10</td>\n",
       "    </tr>\n",
       "    <tr>\n",
       "      <th>1015</th>\n",
       "      <td>one</td>\n",
       "      <td>5</td>\n",
       "    </tr>\n",
       "    <tr>\n",
       "      <th>1016</th>\n",
       "      <td>four</td>\n",
       "      <td>2</td>\n",
       "    </tr>\n",
       "    <tr>\n",
       "      <th>1017</th>\n",
       "      <td>nine</td>\n",
       "      <td>1</td>\n",
       "    </tr>\n",
       "    <tr>\n",
       "      <th>1018</th>\n",
       "      <td>45</td>\n",
       "      <td>1</td>\n",
       "    </tr>\n",
       "  </tbody>\n",
       "</table>\n",
       "</div>"
      ],
      "text/plain": [
       "       word  count\n",
       "1013    two     50\n",
       "1014  three     10\n",
       "1015    one      5\n",
       "1016   four      2\n",
       "1017   nine      1\n",
       "1018     45      1"
      ]
     },
     "metadata": {},
     "output_type": "display_data"
    },
    {
     "name": "stdout",
     "output_type": "stream",
     "text": [
      "annotation word counts\n"
     ]
    },
    {
     "data": {
      "text/html": [
       "<div>\n",
       "<style scoped>\n",
       "    .dataframe tbody tr th:only-of-type {\n",
       "        vertical-align: middle;\n",
       "    }\n",
       "\n",
       "    .dataframe tbody tr th {\n",
       "        vertical-align: top;\n",
       "    }\n",
       "\n",
       "    .dataframe thead th {\n",
       "        text-align: right;\n",
       "    }\n",
       "</style>\n",
       "<table border=\"1\" class=\"dataframe\">\n",
       "  <thead>\n",
       "    <tr style=\"text-align: right;\">\n",
       "      <th></th>\n",
       "      <th>word</th>\n",
       "      <th>count</th>\n",
       "    </tr>\n",
       "  </thead>\n",
       "  <tbody>\n",
       "    <tr>\n",
       "      <th>5361</th>\n",
       "      <td>two</td>\n",
       "      <td>349</td>\n",
       "    </tr>\n",
       "    <tr>\n",
       "      <th>5362</th>\n",
       "      <td>one</td>\n",
       "      <td>81</td>\n",
       "    </tr>\n",
       "    <tr>\n",
       "      <th>5363</th>\n",
       "      <td>2</td>\n",
       "      <td>62</td>\n",
       "    </tr>\n",
       "    <tr>\n",
       "      <th>5364</th>\n",
       "      <td>three</td>\n",
       "      <td>27</td>\n",
       "    </tr>\n",
       "    <tr>\n",
       "      <th>5365</th>\n",
       "      <td>four</td>\n",
       "      <td>14</td>\n",
       "    </tr>\n",
       "    <tr>\n",
       "      <th>5366</th>\n",
       "      <td>3</td>\n",
       "      <td>13</td>\n",
       "    </tr>\n",
       "    <tr>\n",
       "      <th>5367</th>\n",
       "      <td>4</td>\n",
       "      <td>6</td>\n",
       "    </tr>\n",
       "    <tr>\n",
       "      <th>5368</th>\n",
       "      <td>2000</td>\n",
       "      <td>4</td>\n",
       "    </tr>\n",
       "    <tr>\n",
       "      <th>5369</th>\n",
       "      <td>5</td>\n",
       "      <td>4</td>\n",
       "    </tr>\n",
       "    <tr>\n",
       "      <th>5370</th>\n",
       "      <td>1</td>\n",
       "      <td>4</td>\n",
       "    </tr>\n",
       "  </tbody>\n",
       "</table>\n",
       "</div>"
      ],
      "text/plain": [
       "       word  count\n",
       "5361    two    349\n",
       "5362    one     81\n",
       "5363      2     62\n",
       "5364  three     27\n",
       "5365   four     14\n",
       "5366      3     13\n",
       "5367      4      6\n",
       "5368   2000      4\n",
       "5369      5      4\n",
       "5370      1      4"
      ]
     },
     "metadata": {},
     "output_type": "display_data"
    },
    {
     "name": "stdout",
     "output_type": "stream",
     "text": [
      "POS tag PART\n",
      "label word counts\n"
     ]
    },
    {
     "data": {
      "text/html": [
       "<div>\n",
       "<style scoped>\n",
       "    .dataframe tbody tr th:only-of-type {\n",
       "        vertical-align: middle;\n",
       "    }\n",
       "\n",
       "    .dataframe tbody tr th {\n",
       "        vertical-align: top;\n",
       "    }\n",
       "\n",
       "    .dataframe thead th {\n",
       "        text-align: right;\n",
       "    }\n",
       "</style>\n",
       "<table border=\"1\" class=\"dataframe\">\n",
       "  <thead>\n",
       "    <tr style=\"text-align: right;\">\n",
       "      <th></th>\n",
       "      <th>word</th>\n",
       "      <th>count</th>\n",
       "    </tr>\n",
       "  </thead>\n",
       "  <tbody>\n",
       "    <tr>\n",
       "      <th>1019</th>\n",
       "      <td>'s</td>\n",
       "      <td>9</td>\n",
       "    </tr>\n",
       "  </tbody>\n",
       "</table>\n",
       "</div>"
      ],
      "text/plain": [
       "     word  count\n",
       "1019   's      9"
      ]
     },
     "metadata": {},
     "output_type": "display_data"
    },
    {
     "name": "stdout",
     "output_type": "stream",
     "text": [
      "annotation word counts\n"
     ]
    },
    {
     "data": {
      "text/html": [
       "<div>\n",
       "<style scoped>\n",
       "    .dataframe tbody tr th:only-of-type {\n",
       "        vertical-align: middle;\n",
       "    }\n",
       "\n",
       "    .dataframe tbody tr th {\n",
       "        vertical-align: top;\n",
       "    }\n",
       "\n",
       "    .dataframe thead th {\n",
       "        text-align: right;\n",
       "    }\n",
       "</style>\n",
       "<table border=\"1\" class=\"dataframe\">\n",
       "  <thead>\n",
       "    <tr style=\"text-align: right;\">\n",
       "      <th></th>\n",
       "      <th>word</th>\n",
       "      <th>count</th>\n",
       "    </tr>\n",
       "  </thead>\n",
       "  <tbody>\n",
       "    <tr>\n",
       "      <th>5384</th>\n",
       "      <td>to</td>\n",
       "      <td>92</td>\n",
       "    </tr>\n",
       "    <tr>\n",
       "      <th>5385</th>\n",
       "      <td>'s</td>\n",
       "      <td>87</td>\n",
       "    </tr>\n",
       "    <tr>\n",
       "      <th>5386</th>\n",
       "      <td>not</td>\n",
       "      <td>4</td>\n",
       "    </tr>\n",
       "    <tr>\n",
       "      <th>5387</th>\n",
       "      <td>n't</td>\n",
       "      <td>1</td>\n",
       "    </tr>\n",
       "    <tr>\n",
       "      <th>5388</th>\n",
       "      <td>'</td>\n",
       "      <td>1</td>\n",
       "    </tr>\n",
       "  </tbody>\n",
       "</table>\n",
       "</div>"
      ],
      "text/plain": [
       "     word  count\n",
       "5384   to     92\n",
       "5385   's     87\n",
       "5386  not      4\n",
       "5387  n't      1\n",
       "5388    '      1"
      ]
     },
     "metadata": {},
     "output_type": "display_data"
    },
    {
     "name": "stdout",
     "output_type": "stream",
     "text": [
      "POS tag PRON\n",
      "label word counts\n"
     ]
    },
    {
     "data": {
      "text/html": [
       "<div>\n",
       "<style scoped>\n",
       "    .dataframe tbody tr th:only-of-type {\n",
       "        vertical-align: middle;\n",
       "    }\n",
       "\n",
       "    .dataframe tbody tr th {\n",
       "        vertical-align: top;\n",
       "    }\n",
       "\n",
       "    .dataframe thead th {\n",
       "        text-align: right;\n",
       "    }\n",
       "</style>\n",
       "<table border=\"1\" class=\"dataframe\">\n",
       "  <thead>\n",
       "    <tr style=\"text-align: right;\">\n",
       "      <th></th>\n",
       "      <th>word</th>\n",
       "      <th>count</th>\n",
       "    </tr>\n",
       "  </thead>\n",
       "  <tbody>\n",
       "    <tr>\n",
       "      <th>1020</th>\n",
       "      <td>it</td>\n",
       "      <td>46</td>\n",
       "    </tr>\n",
       "    <tr>\n",
       "      <th>1021</th>\n",
       "      <td>he</td>\n",
       "      <td>20</td>\n",
       "    </tr>\n",
       "    <tr>\n",
       "      <th>1022</th>\n",
       "      <td>someone</td>\n",
       "      <td>19</td>\n",
       "    </tr>\n",
       "    <tr>\n",
       "      <th>1023</th>\n",
       "      <td>them</td>\n",
       "      <td>18</td>\n",
       "    </tr>\n",
       "    <tr>\n",
       "      <th>1024</th>\n",
       "      <td>she</td>\n",
       "      <td>10</td>\n",
       "    </tr>\n",
       "    <tr>\n",
       "      <th>1025</th>\n",
       "      <td>they</td>\n",
       "      <td>7</td>\n",
       "    </tr>\n",
       "    <tr>\n",
       "      <th>1026</th>\n",
       "      <td>himself</td>\n",
       "      <td>6</td>\n",
       "    </tr>\n",
       "    <tr>\n",
       "      <th>1027</th>\n",
       "      <td>something</td>\n",
       "      <td>6</td>\n",
       "    </tr>\n",
       "    <tr>\n",
       "      <th>1028</th>\n",
       "      <td>her</td>\n",
       "      <td>5</td>\n",
       "    </tr>\n",
       "    <tr>\n",
       "      <th>1029</th>\n",
       "      <td>him</td>\n",
       "      <td>4</td>\n",
       "    </tr>\n",
       "  </tbody>\n",
       "</table>\n",
       "</div>"
      ],
      "text/plain": [
       "           word  count\n",
       "1020         it     46\n",
       "1021         he     20\n",
       "1022    someone     19\n",
       "1023       them     18\n",
       "1024        she     10\n",
       "1025       they      7\n",
       "1026    himself      6\n",
       "1027  something      6\n",
       "1028        her      5\n",
       "1029        him      4"
      ]
     },
     "metadata": {},
     "output_type": "display_data"
    },
    {
     "name": "stdout",
     "output_type": "stream",
     "text": [
      "annotation word counts\n"
     ]
    },
    {
     "data": {
      "text/html": [
       "<div>\n",
       "<style scoped>\n",
       "    .dataframe tbody tr th:only-of-type {\n",
       "        vertical-align: middle;\n",
       "    }\n",
       "\n",
       "    .dataframe tbody tr th {\n",
       "        vertical-align: top;\n",
       "    }\n",
       "\n",
       "    .dataframe thead th {\n",
       "        text-align: right;\n",
       "    }\n",
       "</style>\n",
       "<table border=\"1\" class=\"dataframe\">\n",
       "  <thead>\n",
       "    <tr style=\"text-align: right;\">\n",
       "      <th></th>\n",
       "      <th>word</th>\n",
       "      <th>count</th>\n",
       "    </tr>\n",
       "  </thead>\n",
       "  <tbody>\n",
       "    <tr>\n",
       "      <th>5389</th>\n",
       "      <td>someone</td>\n",
       "      <td>371</td>\n",
       "    </tr>\n",
       "    <tr>\n",
       "      <th>5390</th>\n",
       "      <td>it</td>\n",
       "      <td>234</td>\n",
       "    </tr>\n",
       "    <tr>\n",
       "      <th>5391</th>\n",
       "      <td>he</td>\n",
       "      <td>183</td>\n",
       "    </tr>\n",
       "    <tr>\n",
       "      <th>5392</th>\n",
       "      <td>she</td>\n",
       "      <td>102</td>\n",
       "    </tr>\n",
       "    <tr>\n",
       "      <th>5393</th>\n",
       "      <td>them</td>\n",
       "      <td>97</td>\n",
       "    </tr>\n",
       "    <tr>\n",
       "      <th>5394</th>\n",
       "      <td>something</td>\n",
       "      <td>94</td>\n",
       "    </tr>\n",
       "    <tr>\n",
       "      <th>5395</th>\n",
       "      <td>himself</td>\n",
       "      <td>71</td>\n",
       "    </tr>\n",
       "    <tr>\n",
       "      <th>5396</th>\n",
       "      <td>him</td>\n",
       "      <td>48</td>\n",
       "    </tr>\n",
       "    <tr>\n",
       "      <th>5397</th>\n",
       "      <td>her</td>\n",
       "      <td>44</td>\n",
       "    </tr>\n",
       "    <tr>\n",
       "      <th>5398</th>\n",
       "      <td>they</td>\n",
       "      <td>43</td>\n",
       "    </tr>\n",
       "  </tbody>\n",
       "</table>\n",
       "</div>"
      ],
      "text/plain": [
       "           word  count\n",
       "5389    someone    371\n",
       "5390         it    234\n",
       "5391         he    183\n",
       "5392        she    102\n",
       "5393       them     97\n",
       "5394  something     94\n",
       "5395    himself     71\n",
       "5396        him     48\n",
       "5397        her     44\n",
       "5398       they     43"
      ]
     },
     "metadata": {},
     "output_type": "display_data"
    },
    {
     "name": "stdout",
     "output_type": "stream",
     "text": [
      "POS tag PROPN\n",
      "label word counts\n"
     ]
    },
    {
     "data": {
      "text/html": [
       "<div>\n",
       "<style scoped>\n",
       "    .dataframe tbody tr th:only-of-type {\n",
       "        vertical-align: middle;\n",
       "    }\n",
       "\n",
       "    .dataframe tbody tr th {\n",
       "        vertical-align: top;\n",
       "    }\n",
       "\n",
       "    .dataframe thead th {\n",
       "        text-align: right;\n",
       "    }\n",
       "</style>\n",
       "<table border=\"1\" class=\"dataframe\">\n",
       "  <thead>\n",
       "    <tr style=\"text-align: right;\">\n",
       "      <th></th>\n",
       "      <th>word</th>\n",
       "      <th>count</th>\n",
       "    </tr>\n",
       "  </thead>\n",
       "  <tbody>\n",
       "    <tr>\n",
       "      <th>1036</th>\n",
       "      <td>young</td>\n",
       "      <td>1</td>\n",
       "    </tr>\n",
       "    <tr>\n",
       "      <th>1037</th>\n",
       "      <td>triangular</td>\n",
       "      <td>1</td>\n",
       "    </tr>\n",
       "    <tr>\n",
       "      <th>1066</th>\n",
       "      <td>bill</td>\n",
       "      <td>1</td>\n",
       "    </tr>\n",
       "    <tr>\n",
       "      <th>1065</th>\n",
       "      <td>spanish</td>\n",
       "      <td>1</td>\n",
       "    </tr>\n",
       "    <tr>\n",
       "      <th>1064</th>\n",
       "      <td>english</td>\n",
       "      <td>1</td>\n",
       "    </tr>\n",
       "    <tr>\n",
       "      <th>1063</th>\n",
       "      <td>teenage</td>\n",
       "      <td>1</td>\n",
       "    </tr>\n",
       "    <tr>\n",
       "      <th>1062</th>\n",
       "      <td>teams</td>\n",
       "      <td>1</td>\n",
       "    </tr>\n",
       "    <tr>\n",
       "      <th>1061</th>\n",
       "      <td>a</td>\n",
       "      <td>1</td>\n",
       "    </tr>\n",
       "    <tr>\n",
       "      <th>1060</th>\n",
       "      <td>diagram</td>\n",
       "      <td>1</td>\n",
       "    </tr>\n",
       "    <tr>\n",
       "      <th>1059</th>\n",
       "      <td>para</td>\n",
       "      <td>1</td>\n",
       "    </tr>\n",
       "  </tbody>\n",
       "</table>\n",
       "</div>"
      ],
      "text/plain": [
       "            word  count\n",
       "1036       young      1\n",
       "1037  triangular      1\n",
       "1066        bill      1\n",
       "1065     spanish      1\n",
       "1064     english      1\n",
       "1063     teenage      1\n",
       "1062       teams      1\n",
       "1061           a      1\n",
       "1060     diagram      1\n",
       "1059        para      1"
      ]
     },
     "metadata": {},
     "output_type": "display_data"
    },
    {
     "name": "stdout",
     "output_type": "stream",
     "text": [
      "annotation word counts\n"
     ]
    },
    {
     "data": {
      "text/html": [
       "<div>\n",
       "<style scoped>\n",
       "    .dataframe tbody tr th:only-of-type {\n",
       "        vertical-align: middle;\n",
       "    }\n",
       "\n",
       "    .dataframe tbody tr th {\n",
       "        vertical-align: top;\n",
       "    }\n",
       "\n",
       "    .dataframe thead th {\n",
       "        text-align: right;\n",
       "    }\n",
       "</style>\n",
       "<table border=\"1\" class=\"dataframe\">\n",
       "  <thead>\n",
       "    <tr style=\"text-align: right;\">\n",
       "      <th></th>\n",
       "      <th>word</th>\n",
       "      <th>count</th>\n",
       "    </tr>\n",
       "  </thead>\n",
       "  <tbody>\n",
       "    <tr>\n",
       "      <th>5424</th>\n",
       "      <td>male</td>\n",
       "      <td>61</td>\n",
       "    </tr>\n",
       "    <tr>\n",
       "      <th>5425</th>\n",
       "      <td>kid</td>\n",
       "      <td>58</td>\n",
       "    </tr>\n",
       "    <tr>\n",
       "      <th>5426</th>\n",
       "      <td>guy</td>\n",
       "      <td>46</td>\n",
       "    </tr>\n",
       "    <tr>\n",
       "      <th>5427</th>\n",
       "      <td>man</td>\n",
       "      <td>45</td>\n",
       "    </tr>\n",
       "    <tr>\n",
       "      <th>5428</th>\n",
       "      <td>lady</td>\n",
       "      <td>38</td>\n",
       "    </tr>\n",
       "    <tr>\n",
       "      <th>5429</th>\n",
       "      <td>girl</td>\n",
       "      <td>27</td>\n",
       "    </tr>\n",
       "    <tr>\n",
       "      <th>5430</th>\n",
       "      <td>female</td>\n",
       "      <td>26</td>\n",
       "    </tr>\n",
       "    <tr>\n",
       "      <th>5431</th>\n",
       "      <td>worker</td>\n",
       "      <td>24</td>\n",
       "    </tr>\n",
       "    <tr>\n",
       "      <th>5432</th>\n",
       "      <td>boy</td>\n",
       "      <td>23</td>\n",
       "    </tr>\n",
       "    <tr>\n",
       "      <th>5433</th>\n",
       "      <td>adults</td>\n",
       "      <td>22</td>\n",
       "    </tr>\n",
       "  </tbody>\n",
       "</table>\n",
       "</div>"
      ],
      "text/plain": [
       "        word  count\n",
       "5424    male     61\n",
       "5425     kid     58\n",
       "5426     guy     46\n",
       "5427     man     45\n",
       "5428    lady     38\n",
       "5429    girl     27\n",
       "5430  female     26\n",
       "5431  worker     24\n",
       "5432     boy     23\n",
       "5433  adults     22"
      ]
     },
     "metadata": {},
     "output_type": "display_data"
    },
    {
     "name": "stdout",
     "output_type": "stream",
     "text": [
      "POS tag PUNCT\n",
      "label word counts\n"
     ]
    },
    {
     "data": {
      "text/html": [
       "<div>\n",
       "<style scoped>\n",
       "    .dataframe tbody tr th:only-of-type {\n",
       "        vertical-align: middle;\n",
       "    }\n",
       "\n",
       "    .dataframe tbody tr th {\n",
       "        vertical-align: top;\n",
       "    }\n",
       "\n",
       "    .dataframe thead th {\n",
       "        text-align: right;\n",
       "    }\n",
       "</style>\n",
       "<table border=\"1\" class=\"dataframe\">\n",
       "  <thead>\n",
       "    <tr style=\"text-align: right;\">\n",
       "      <th></th>\n",
       "      <th>word</th>\n",
       "      <th>count</th>\n",
       "    </tr>\n",
       "  </thead>\n",
       "  <tbody>\n",
       "    <tr>\n",
       "      <th>1068</th>\n",
       "      <td>-</td>\n",
       "      <td>9</td>\n",
       "    </tr>\n",
       "  </tbody>\n",
       "</table>\n",
       "</div>"
      ],
      "text/plain": [
       "     word  count\n",
       "1068    -      9"
      ]
     },
     "metadata": {},
     "output_type": "display_data"
    },
    {
     "name": "stdout",
     "output_type": "stream",
     "text": [
      "annotation word counts\n"
     ]
    },
    {
     "data": {
      "text/html": [
       "<div>\n",
       "<style scoped>\n",
       "    .dataframe tbody tr th:only-of-type {\n",
       "        vertical-align: middle;\n",
       "    }\n",
       "\n",
       "    .dataframe tbody tr th {\n",
       "        vertical-align: top;\n",
       "    }\n",
       "\n",
       "    .dataframe thead th {\n",
       "        text-align: right;\n",
       "    }\n",
       "</style>\n",
       "<table border=\"1\" class=\"dataframe\">\n",
       "  <thead>\n",
       "    <tr style=\"text-align: right;\">\n",
       "      <th></th>\n",
       "      <th>word</th>\n",
       "      <th>count</th>\n",
       "    </tr>\n",
       "  </thead>\n",
       "  <tbody>\n",
       "    <tr>\n",
       "      <th>6564</th>\n",
       "      <td>-</td>\n",
       "      <td>98</td>\n",
       "    </tr>\n",
       "    <tr>\n",
       "      <th>6565</th>\n",
       "      <td>,</td>\n",
       "      <td>15</td>\n",
       "    </tr>\n",
       "    <tr>\n",
       "      <th>6566</th>\n",
       "      <td>'</td>\n",
       "      <td>3</td>\n",
       "    </tr>\n",
       "    <tr>\n",
       "      <th>6567</th>\n",
       "      <td>.</td>\n",
       "      <td>1</td>\n",
       "    </tr>\n",
       "    <tr>\n",
       "      <th>6568</th>\n",
       "      <td>}</td>\n",
       "      <td>1</td>\n",
       "    </tr>\n",
       "    <tr>\n",
       "      <th>6569</th>\n",
       "      <td>/</td>\n",
       "      <td>1</td>\n",
       "    </tr>\n",
       "  </tbody>\n",
       "</table>\n",
       "</div>"
      ],
      "text/plain": [
       "     word  count\n",
       "6564    -     98\n",
       "6565    ,     15\n",
       "6566    '      3\n",
       "6567    .      1\n",
       "6568    }      1\n",
       "6569    /      1"
      ]
     },
     "metadata": {},
     "output_type": "display_data"
    },
    {
     "name": "stdout",
     "output_type": "stream",
     "text": [
      "POS tag SCONJ\n",
      "label word counts\n"
     ]
    },
    {
     "data": {
      "text/html": [
       "<div>\n",
       "<style scoped>\n",
       "    .dataframe tbody tr th:only-of-type {\n",
       "        vertical-align: middle;\n",
       "    }\n",
       "\n",
       "    .dataframe tbody tr th {\n",
       "        vertical-align: top;\n",
       "    }\n",
       "\n",
       "    .dataframe thead th {\n",
       "        text-align: right;\n",
       "    }\n",
       "</style>\n",
       "<table border=\"1\" class=\"dataframe\">\n",
       "  <thead>\n",
       "    <tr style=\"text-align: right;\">\n",
       "      <th></th>\n",
       "      <th>word</th>\n",
       "      <th>count</th>\n",
       "    </tr>\n",
       "  </thead>\n",
       "  <tbody>\n",
       "    <tr>\n",
       "      <th>1069</th>\n",
       "      <td>like</td>\n",
       "      <td>1</td>\n",
       "    </tr>\n",
       "  </tbody>\n",
       "</table>\n",
       "</div>"
      ],
      "text/plain": [
       "      word  count\n",
       "1069  like      1"
      ]
     },
     "metadata": {},
     "output_type": "display_data"
    },
    {
     "name": "stdout",
     "output_type": "stream",
     "text": [
      "annotation word counts\n"
     ]
    },
    {
     "data": {
      "text/html": [
       "<div>\n",
       "<style scoped>\n",
       "    .dataframe tbody tr th:only-of-type {\n",
       "        vertical-align: middle;\n",
       "    }\n",
       "\n",
       "    .dataframe tbody tr th {\n",
       "        vertical-align: top;\n",
       "    }\n",
       "\n",
       "    .dataframe thead th {\n",
       "        text-align: right;\n",
       "    }\n",
       "</style>\n",
       "<table border=\"1\" class=\"dataframe\">\n",
       "  <thead>\n",
       "    <tr style=\"text-align: right;\">\n",
       "      <th></th>\n",
       "      <th>word</th>\n",
       "      <th>count</th>\n",
       "    </tr>\n",
       "  </thead>\n",
       "  <tbody>\n",
       "    <tr>\n",
       "      <th>6570</th>\n",
       "      <td>while</td>\n",
       "      <td>15</td>\n",
       "    </tr>\n",
       "    <tr>\n",
       "      <th>6571</th>\n",
       "      <td>like</td>\n",
       "      <td>10</td>\n",
       "    </tr>\n",
       "    <tr>\n",
       "      <th>6572</th>\n",
       "      <td>out</td>\n",
       "      <td>3</td>\n",
       "    </tr>\n",
       "    <tr>\n",
       "      <th>6573</th>\n",
       "      <td>than</td>\n",
       "      <td>1</td>\n",
       "    </tr>\n",
       "    <tr>\n",
       "      <th>6574</th>\n",
       "      <td>that</td>\n",
       "      <td>1</td>\n",
       "    </tr>\n",
       "    <tr>\n",
       "      <th>6575</th>\n",
       "      <td>as</td>\n",
       "      <td>1</td>\n",
       "    </tr>\n",
       "    <tr>\n",
       "      <th>6576</th>\n",
       "      <td>near</td>\n",
       "      <td>1</td>\n",
       "    </tr>\n",
       "  </tbody>\n",
       "</table>\n",
       "</div>"
      ],
      "text/plain": [
       "       word  count\n",
       "6570  while     15\n",
       "6571   like     10\n",
       "6572    out      3\n",
       "6573   than      1\n",
       "6574   that      1\n",
       "6575     as      1\n",
       "6576   near      1"
      ]
     },
     "metadata": {},
     "output_type": "display_data"
    },
    {
     "name": "stdout",
     "output_type": "stream",
     "text": [
      "POS tag SPACE\n",
      "label word counts\n"
     ]
    },
    {
     "data": {
      "text/html": [
       "<div>\n",
       "<style scoped>\n",
       "    .dataframe tbody tr th:only-of-type {\n",
       "        vertical-align: middle;\n",
       "    }\n",
       "\n",
       "    .dataframe tbody tr th {\n",
       "        vertical-align: top;\n",
       "    }\n",
       "\n",
       "    .dataframe thead th {\n",
       "        text-align: right;\n",
       "    }\n",
       "</style>\n",
       "<table border=\"1\" class=\"dataframe\">\n",
       "  <thead>\n",
       "    <tr style=\"text-align: right;\">\n",
       "      <th></th>\n",
       "      <th>word</th>\n",
       "      <th>count</th>\n",
       "    </tr>\n",
       "  </thead>\n",
       "  <tbody>\n",
       "    <tr>\n",
       "      <th>1070</th>\n",
       "      <td></td>\n",
       "      <td>1</td>\n",
       "    </tr>\n",
       "  </tbody>\n",
       "</table>\n",
       "</div>"
      ],
      "text/plain": [
       "     word  count\n",
       "1070           1"
      ]
     },
     "metadata": {},
     "output_type": "display_data"
    },
    {
     "name": "stdout",
     "output_type": "stream",
     "text": [
      "annotation word counts\n"
     ]
    },
    {
     "data": {
      "text/html": [
       "<div>\n",
       "<style scoped>\n",
       "    .dataframe tbody tr th:only-of-type {\n",
       "        vertical-align: middle;\n",
       "    }\n",
       "\n",
       "    .dataframe tbody tr th {\n",
       "        vertical-align: top;\n",
       "    }\n",
       "\n",
       "    .dataframe thead th {\n",
       "        text-align: right;\n",
       "    }\n",
       "</style>\n",
       "<table border=\"1\" class=\"dataframe\">\n",
       "  <thead>\n",
       "    <tr style=\"text-align: right;\">\n",
       "      <th></th>\n",
       "      <th>word</th>\n",
       "      <th>count</th>\n",
       "    </tr>\n",
       "  </thead>\n",
       "  <tbody>\n",
       "    <tr>\n",
       "      <th>6577</th>\n",
       "      <td></td>\n",
       "      <td>1</td>\n",
       "    </tr>\n",
       "  </tbody>\n",
       "</table>\n",
       "</div>"
      ],
      "text/plain": [
       "     word  count\n",
       "6577           1"
      ]
     },
     "metadata": {},
     "output_type": "display_data"
    },
    {
     "name": "stdout",
     "output_type": "stream",
     "text": [
      "POS tag SYM\n",
      "label word counts\n"
     ]
    },
    {
     "data": {
      "text/html": [
       "<div>\n",
       "<style scoped>\n",
       "    .dataframe tbody tr th:only-of-type {\n",
       "        vertical-align: middle;\n",
       "    }\n",
       "\n",
       "    .dataframe tbody tr th {\n",
       "        vertical-align: top;\n",
       "    }\n",
       "\n",
       "    .dataframe thead th {\n",
       "        text-align: right;\n",
       "    }\n",
       "</style>\n",
       "<table border=\"1\" class=\"dataframe\">\n",
       "  <thead>\n",
       "    <tr style=\"text-align: right;\">\n",
       "      <th></th>\n",
       "      <th>word</th>\n",
       "      <th>count</th>\n",
       "    </tr>\n",
       "  </thead>\n",
       "  <tbody>\n",
       "    <tr>\n",
       "      <th>1071</th>\n",
       "      <td>/</td>\n",
       "      <td>1</td>\n",
       "    </tr>\n",
       "  </tbody>\n",
       "</table>\n",
       "</div>"
      ],
      "text/plain": [
       "     word  count\n",
       "1071    /      1"
      ]
     },
     "metadata": {},
     "output_type": "display_data"
    },
    {
     "name": "stdout",
     "output_type": "stream",
     "text": [
      "annotation word counts\n"
     ]
    },
    {
     "data": {
      "text/html": [
       "<div>\n",
       "<style scoped>\n",
       "    .dataframe tbody tr th:only-of-type {\n",
       "        vertical-align: middle;\n",
       "    }\n",
       "\n",
       "    .dataframe tbody tr th {\n",
       "        vertical-align: top;\n",
       "    }\n",
       "\n",
       "    .dataframe thead th {\n",
       "        text-align: right;\n",
       "    }\n",
       "</style>\n",
       "<table border=\"1\" class=\"dataframe\">\n",
       "  <thead>\n",
       "    <tr style=\"text-align: right;\">\n",
       "      <th></th>\n",
       "      <th>word</th>\n",
       "      <th>count</th>\n",
       "    </tr>\n",
       "  </thead>\n",
       "  <tbody>\n",
       "    <tr>\n",
       "      <th>6578</th>\n",
       "      <td>/</td>\n",
       "      <td>2</td>\n",
       "    </tr>\n",
       "  </tbody>\n",
       "</table>\n",
       "</div>"
      ],
      "text/plain": [
       "     word  count\n",
       "6578    /      2"
      ]
     },
     "metadata": {},
     "output_type": "display_data"
    },
    {
     "name": "stdout",
     "output_type": "stream",
     "text": [
      "POS tag VERB\n",
      "label word counts\n"
     ]
    },
    {
     "data": {
      "text/html": [
       "<div>\n",
       "<style scoped>\n",
       "    .dataframe tbody tr th:only-of-type {\n",
       "        vertical-align: middle;\n",
       "    }\n",
       "\n",
       "    .dataframe tbody tr th {\n",
       "        vertical-align: top;\n",
       "    }\n",
       "\n",
       "    .dataframe thead th {\n",
       "        text-align: right;\n",
       "    }\n",
       "</style>\n",
       "<table border=\"1\" class=\"dataframe\">\n",
       "  <thead>\n",
       "    <tr style=\"text-align: right;\">\n",
       "      <th></th>\n",
       "      <th>word</th>\n",
       "      <th>count</th>\n",
       "    </tr>\n",
       "  </thead>\n",
       "  <tbody>\n",
       "    <tr>\n",
       "      <th>1072</th>\n",
       "      <td>lit</td>\n",
       "      <td>3</td>\n",
       "    </tr>\n",
       "    <tr>\n",
       "      <th>1097</th>\n",
       "      <td>flowered</td>\n",
       "      <td>1</td>\n",
       "    </tr>\n",
       "    <tr>\n",
       "      <th>1099</th>\n",
       "      <td>sowing</td>\n",
       "      <td>1</td>\n",
       "    </tr>\n",
       "    <tr>\n",
       "      <th>1100</th>\n",
       "      <td>ear</td>\n",
       "      <td>1</td>\n",
       "    </tr>\n",
       "    <tr>\n",
       "      <th>1101</th>\n",
       "      <td>riding</td>\n",
       "      <td>1</td>\n",
       "    </tr>\n",
       "    <tr>\n",
       "      <th>1102</th>\n",
       "      <td>charges</td>\n",
       "      <td>1</td>\n",
       "    </tr>\n",
       "    <tr>\n",
       "      <th>1103</th>\n",
       "      <td>cut</td>\n",
       "      <td>1</td>\n",
       "    </tr>\n",
       "    <tr>\n",
       "      <th>1104</th>\n",
       "      <td>motorized</td>\n",
       "      <td>1</td>\n",
       "    </tr>\n",
       "    <tr>\n",
       "      <th>1105</th>\n",
       "      <td>colored</td>\n",
       "      <td>1</td>\n",
       "    </tr>\n",
       "    <tr>\n",
       "      <th>1106</th>\n",
       "      <td>building</td>\n",
       "      <td>1</td>\n",
       "    </tr>\n",
       "  </tbody>\n",
       "</table>\n",
       "</div>"
      ],
      "text/plain": [
       "           word  count\n",
       "1072        lit      3\n",
       "1097   flowered      1\n",
       "1099     sowing      1\n",
       "1100        ear      1\n",
       "1101     riding      1\n",
       "1102    charges      1\n",
       "1103        cut      1\n",
       "1104  motorized      1\n",
       "1105    colored      1\n",
       "1106   building      1"
      ]
     },
     "metadata": {},
     "output_type": "display_data"
    },
    {
     "name": "stdout",
     "output_type": "stream",
     "text": [
      "annotation word counts\n"
     ]
    },
    {
     "data": {
      "text/html": [
       "<div>\n",
       "<style scoped>\n",
       "    .dataframe tbody tr th:only-of-type {\n",
       "        vertical-align: middle;\n",
       "    }\n",
       "\n",
       "    .dataframe tbody tr th {\n",
       "        vertical-align: top;\n",
       "    }\n",
       "\n",
       "    .dataframe thead th {\n",
       "        text-align: right;\n",
       "    }\n",
       "</style>\n",
       "<table border=\"1\" class=\"dataframe\">\n",
       "  <thead>\n",
       "    <tr style=\"text-align: right;\">\n",
       "      <th></th>\n",
       "      <th>word</th>\n",
       "      <th>count</th>\n",
       "    </tr>\n",
       "  </thead>\n",
       "  <tbody>\n",
       "    <tr>\n",
       "      <th>6579</th>\n",
       "      <td>wearing</td>\n",
       "      <td>58</td>\n",
       "    </tr>\n",
       "    <tr>\n",
       "      <th>6580</th>\n",
       "      <td>dancing</td>\n",
       "      <td>23</td>\n",
       "    </tr>\n",
       "    <tr>\n",
       "      <th>6581</th>\n",
       "      <td>playing</td>\n",
       "      <td>20</td>\n",
       "    </tr>\n",
       "    <tr>\n",
       "      <th>6582</th>\n",
       "      <td>sitting</td>\n",
       "      <td>19</td>\n",
       "    </tr>\n",
       "    <tr>\n",
       "      <th>6583</th>\n",
       "      <td>moving</td>\n",
       "      <td>17</td>\n",
       "    </tr>\n",
       "    <tr>\n",
       "      <th>6584</th>\n",
       "      <td>make</td>\n",
       "      <td>15</td>\n",
       "    </tr>\n",
       "    <tr>\n",
       "      <th>6585</th>\n",
       "      <td>doing</td>\n",
       "      <td>15</td>\n",
       "    </tr>\n",
       "    <tr>\n",
       "      <th>6586</th>\n",
       "      <td>boy</td>\n",
       "      <td>14</td>\n",
       "    </tr>\n",
       "    <tr>\n",
       "      <th>6587</th>\n",
       "      <td>cleaning</td>\n",
       "      <td>13</td>\n",
       "    </tr>\n",
       "    <tr>\n",
       "      <th>6588</th>\n",
       "      <td>holding</td>\n",
       "      <td>13</td>\n",
       "    </tr>\n",
       "  </tbody>\n",
       "</table>\n",
       "</div>"
      ],
      "text/plain": [
       "          word  count\n",
       "6579   wearing     58\n",
       "6580   dancing     23\n",
       "6581   playing     20\n",
       "6582   sitting     19\n",
       "6583    moving     17\n",
       "6584      make     15\n",
       "6585     doing     15\n",
       "6586       boy     14\n",
       "6587  cleaning     13\n",
       "6588   holding     13"
      ]
     },
     "metadata": {},
     "output_type": "display_data"
    },
    {
     "name": "stdout",
     "output_type": "stream",
     "text": [
      "POS tag X\n",
      "label word counts\n"
     ]
    },
    {
     "data": {
      "text/html": [
       "<div>\n",
       "<style scoped>\n",
       "    .dataframe tbody tr th:only-of-type {\n",
       "        vertical-align: middle;\n",
       "    }\n",
       "\n",
       "    .dataframe tbody tr th {\n",
       "        vertical-align: top;\n",
       "    }\n",
       "\n",
       "    .dataframe thead th {\n",
       "        text-align: right;\n",
       "    }\n",
       "</style>\n",
       "<table border=\"1\" class=\"dataframe\">\n",
       "  <thead>\n",
       "    <tr style=\"text-align: right;\">\n",
       "      <th></th>\n",
       "      <th>word</th>\n",
       "      <th>count</th>\n",
       "    </tr>\n",
       "  </thead>\n",
       "  <tbody>\n",
       "    <tr>\n",
       "      <th>1121</th>\n",
       "      <td>blacksmith</td>\n",
       "      <td>1</td>\n",
       "    </tr>\n",
       "  </tbody>\n",
       "</table>\n",
       "</div>"
      ],
      "text/plain": [
       "            word  count\n",
       "1121  blacksmith      1"
      ]
     },
     "metadata": {},
     "output_type": "display_data"
    },
    {
     "name": "stdout",
     "output_type": "stream",
     "text": [
      "annotation word counts\n"
     ]
    },
    {
     "data": {
      "text/html": [
       "<div>\n",
       "<style scoped>\n",
       "    .dataframe tbody tr th:only-of-type {\n",
       "        vertical-align: middle;\n",
       "    }\n",
       "\n",
       "    .dataframe tbody tr th {\n",
       "        vertical-align: top;\n",
       "    }\n",
       "\n",
       "    .dataframe thead th {\n",
       "        text-align: right;\n",
       "    }\n",
       "</style>\n",
       "<table border=\"1\" class=\"dataframe\">\n",
       "  <thead>\n",
       "    <tr style=\"text-align: right;\">\n",
       "      <th></th>\n",
       "      <th>word</th>\n",
       "      <th>count</th>\n",
       "    </tr>\n",
       "  </thead>\n",
       "  <tbody>\n",
       "    <tr>\n",
       "      <th>7232</th>\n",
       "      <td>2</td>\n",
       "      <td>1</td>\n",
       "    </tr>\n",
       "    <tr>\n",
       "      <th>7233</th>\n",
       "      <td>f</td>\n",
       "      <td>1</td>\n",
       "    </tr>\n",
       "    <tr>\n",
       "      <th>7234</th>\n",
       "      <td>zag</td>\n",
       "      <td>1</td>\n",
       "    </tr>\n",
       "    <tr>\n",
       "      <th>7235</th>\n",
       "      <td>implement</td>\n",
       "      <td>1</td>\n",
       "    </tr>\n",
       "  </tbody>\n",
       "</table>\n",
       "</div>"
      ],
      "text/plain": [
       "           word  count\n",
       "7232          2      1\n",
       "7233          f      1\n",
       "7234        zag      1\n",
       "7235  implement      1"
      ]
     },
     "metadata": {},
     "output_type": "display_data"
    },
    {
     "name": "stdout",
     "output_type": "stream",
     "text": [
      "POS tag INTJ\n",
      "label word counts\n"
     ]
    },
    {
     "data": {
      "text/html": [
       "<div>\n",
       "<style scoped>\n",
       "    .dataframe tbody tr th:only-of-type {\n",
       "        vertical-align: middle;\n",
       "    }\n",
       "\n",
       "    .dataframe tbody tr th {\n",
       "        vertical-align: top;\n",
       "    }\n",
       "\n",
       "    .dataframe thead th {\n",
       "        text-align: right;\n",
       "    }\n",
       "</style>\n",
       "<table border=\"1\" class=\"dataframe\">\n",
       "  <thead>\n",
       "    <tr style=\"text-align: right;\">\n",
       "      <th></th>\n",
       "      <th>word</th>\n",
       "      <th>count</th>\n",
       "    </tr>\n",
       "  </thead>\n",
       "  <tbody>\n",
       "  </tbody>\n",
       "</table>\n",
       "</div>"
      ],
      "text/plain": [
       "Empty DataFrame\n",
       "Columns: [word, count]\n",
       "Index: []"
      ]
     },
     "metadata": {},
     "output_type": "display_data"
    },
    {
     "name": "stdout",
     "output_type": "stream",
     "text": [
      "annotation word counts\n"
     ]
    },
    {
     "data": {
      "text/html": [
       "<div>\n",
       "<style scoped>\n",
       "    .dataframe tbody tr th:only-of-type {\n",
       "        vertical-align: middle;\n",
       "    }\n",
       "\n",
       "    .dataframe tbody tr th {\n",
       "        vertical-align: top;\n",
       "    }\n",
       "\n",
       "    .dataframe thead th {\n",
       "        text-align: right;\n",
       "    }\n",
       "</style>\n",
       "<table border=\"1\" class=\"dataframe\">\n",
       "  <thead>\n",
       "    <tr style=\"text-align: right;\">\n",
       "      <th></th>\n",
       "      <th>word</th>\n",
       "      <th>count</th>\n",
       "    </tr>\n",
       "  </thead>\n",
       "  <tbody>\n",
       "    <tr>\n",
       "      <th>936</th>\n",
       "      <td>boy</td>\n",
       "      <td>14</td>\n",
       "    </tr>\n",
       "    <tr>\n",
       "      <th>937</th>\n",
       "      <td>man</td>\n",
       "      <td>2</td>\n",
       "    </tr>\n",
       "    <tr>\n",
       "      <th>938</th>\n",
       "      <td>dj</td>\n",
       "      <td>1</td>\n",
       "    </tr>\n",
       "    <tr>\n",
       "      <th>939</th>\n",
       "      <td>right</td>\n",
       "      <td>1</td>\n",
       "    </tr>\n",
       "  </tbody>\n",
       "</table>\n",
       "</div>"
      ],
      "text/plain": [
       "      word  count\n",
       "936    boy     14\n",
       "937    man      2\n",
       "938     dj      1\n",
       "939  right      1"
      ]
     },
     "metadata": {},
     "output_type": "display_data"
    }
   ],
   "source": [
    "for POS_tag_i in combined_POS_counts.loc[:, 'POS'].unique():\n",
    "    print(f'POS tag {POS_tag_i}')\n",
    "    label_POS_word_counts_i = label_POS_word_counts[label_POS_word_counts.loc[:, 'POS']==POS_tag_i].sort_values('count', inplace=False, ascending=False).loc[:, ['word', 'count']]\n",
    "    annotation_POS_word_counts_i = annotation_POS_word_counts[annotation_POS_word_counts.loc[:, 'POS']==POS_tag_i].sort_values('count', inplace=False, ascending=False).loc[:, ['word', 'count']]\n",
    "    print('label word counts')\n",
    "    display(label_POS_word_counts_i.head(10))\n",
    "    print('annotation word counts')\n",
    "    display(annotation_POS_word_counts_i.head(10))"
   ]
  },
  {
   "cell_type": "markdown",
   "metadata": {},
   "source": [
    "### POS tag sequences\n",
    "Let's look at the relative frequency of different tag sequences in the labels and annotations."
   ]
  },
  {
   "cell_type": "code",
   "execution_count": 42,
   "metadata": {
    "scrolled": true
   },
   "outputs": [],
   "source": [
    "from spacy.tokens.span import Span\n",
    "def get_POS_sequence(subtree):\n",
    "    return '_'.join([x.pos_ for x in subtree])\n",
    "label_POS_sequences = [(x['label_subtree'], get_POS_sequence(x['label_subtree'])) for x in annotated_data if type(x['label_subtree']) is Span]\n",
    "annotation_POS_sequences = [(z, get_POS_sequence(z)) for x in annotated_data for y in x['annotation_subtrees'] for z in y if type(z) is Span]\n",
    "label_POS_sequences = pd.DataFrame(label_POS_sequences, columns=['word', 'POS_sequence'])\n",
    "annotation_POS_sequences = pd.DataFrame(annotation_POS_sequences, columns=['word', 'POS_sequence'])\n",
    "# fix words\n",
    "label_POS_sequences = label_POS_sequences.assign(**{'word' : label_POS_sequences.loc[:, 'word'].apply(lambda x: x.text.lower())})\n",
    "annotation_POS_sequences = annotation_POS_sequences.assign(**{'word' : annotation_POS_sequences.loc[:, 'word'].apply(lambda x: x.text.lower())})\n",
    "# label_POS_sequences = label_POS_sequences[label_POS_sequences.loc[:, 'POS_sequence']!='']\n",
    "# annotation_POS_sequences = annotation_POS_sequences[annotation_POS_sequences.loc[:, 'POS_sequence']!='']\n",
    "## get aggregate counts\n",
    "label_POS_sequence_counts = label_POS_sequences.loc[:, 'POS_sequence'].value_counts()\n",
    "annotation_POS_sequence_counts = annotation_POS_sequences.loc[:, 'POS_sequence'].value_counts()\n",
    "# normalize\n",
    "label_POS_sequence_counts = label_POS_sequence_counts / label_POS_sequence_counts.sum()\n",
    "annotation_POS_sequence_counts = annotation_POS_sequence_counts / annotation_POS_sequence_counts.sum()"
   ]
  },
  {
   "cell_type": "code",
   "execution_count": 43,
   "metadata": {
    "scrolled": true
   },
   "outputs": [
    {
     "data": {
      "text/html": [
       "<div>\n",
       "<style scoped>\n",
       "    .dataframe tbody tr th:only-of-type {\n",
       "        vertical-align: middle;\n",
       "    }\n",
       "\n",
       "    .dataframe tbody tr th {\n",
       "        vertical-align: top;\n",
       "    }\n",
       "\n",
       "    .dataframe thead th {\n",
       "        text-align: right;\n",
       "    }\n",
       "</style>\n",
       "<table border=\"1\" class=\"dataframe\">\n",
       "  <thead>\n",
       "    <tr style=\"text-align: right;\">\n",
       "      <th></th>\n",
       "      <th>POS_sequence</th>\n",
       "      <th>count</th>\n",
       "      <th>data_type</th>\n",
       "    </tr>\n",
       "  </thead>\n",
       "  <tbody>\n",
       "    <tr>\n",
       "      <th>0</th>\n",
       "      <td>DET_NOUN</td>\n",
       "      <td>0.481897</td>\n",
       "      <td>label</td>\n",
       "    </tr>\n",
       "    <tr>\n",
       "      <th>1</th>\n",
       "      <td>NOUN</td>\n",
       "      <td>0.132585</td>\n",
       "      <td>label</td>\n",
       "    </tr>\n",
       "    <tr>\n",
       "      <th>2</th>\n",
       "      <td>DET_ADJ_NOUN</td>\n",
       "      <td>0.087710</td>\n",
       "      <td>label</td>\n",
       "    </tr>\n",
       "    <tr>\n",
       "      <th>3</th>\n",
       "      <td>PRON</td>\n",
       "      <td>0.078021</td>\n",
       "      <td>label</td>\n",
       "    </tr>\n",
       "    <tr>\n",
       "      <th>4</th>\n",
       "      <td>DET_NOUN_NOUN</td>\n",
       "      <td>0.059153</td>\n",
       "      <td>label</td>\n",
       "    </tr>\n",
       "    <tr>\n",
       "      <th>...</th>\n",
       "      <td>...</td>\n",
       "      <td>...</td>\n",
       "      <td>...</td>\n",
       "    </tr>\n",
       "    <tr>\n",
       "      <th>620</th>\n",
       "      <td>ADV_PRON_VERB_VERB_DET_NOUN</td>\n",
       "      <td>0.000023</td>\n",
       "      <td>annotation</td>\n",
       "    </tr>\n",
       "    <tr>\n",
       "      <th>621</th>\n",
       "      <td>DET_NOUN_PRON_VERB</td>\n",
       "      <td>0.000023</td>\n",
       "      <td>annotation</td>\n",
       "    </tr>\n",
       "    <tr>\n",
       "      <th>622</th>\n",
       "      <td>NOUN_PUNCT_PROPN</td>\n",
       "      <td>0.000023</td>\n",
       "      <td>annotation</td>\n",
       "    </tr>\n",
       "    <tr>\n",
       "      <th>623</th>\n",
       "      <td>NOUN_ADV_VERB_ADV</td>\n",
       "      <td>0.000023</td>\n",
       "      <td>annotation</td>\n",
       "    </tr>\n",
       "    <tr>\n",
       "      <th>624</th>\n",
       "      <td>DET_ADJ_NOUN_ADP_NOUN_PART_VERB</td>\n",
       "      <td>0.000023</td>\n",
       "      <td>annotation</td>\n",
       "    </tr>\n",
       "  </tbody>\n",
       "</table>\n",
       "<p>717 rows × 3 columns</p>\n",
       "</div>"
      ],
      "text/plain": [
       "                        POS_sequence     count   data_type\n",
       "0                           DET_NOUN  0.481897       label\n",
       "1                               NOUN  0.132585       label\n",
       "2                       DET_ADJ_NOUN  0.087710       label\n",
       "3                               PRON  0.078021       label\n",
       "4                      DET_NOUN_NOUN  0.059153       label\n",
       "..                               ...       ...         ...\n",
       "620      ADV_PRON_VERB_VERB_DET_NOUN  0.000023  annotation\n",
       "621               DET_NOUN_PRON_VERB  0.000023  annotation\n",
       "622                 NOUN_PUNCT_PROPN  0.000023  annotation\n",
       "623                NOUN_ADV_VERB_ADV  0.000023  annotation\n",
       "624  DET_ADJ_NOUN_ADP_NOUN_PART_VERB  0.000023  annotation\n",
       "\n",
       "[717 rows x 3 columns]"
      ]
     },
     "metadata": {},
     "output_type": "display_data"
    }
   ],
   "source": [
    "## combine for plotting \n",
    "combined_POS_sequence_counts = pd.concat([\n",
    "    label_POS_sequence_counts.reset_index(name='count').rename(columns={'index' : 'POS_sequence'}).assign(**{'data_type' : 'label'}),\n",
    "    annotation_POS_sequence_counts.reset_index(name='count').rename(columns={'index' : 'POS_sequence'}).assign(**{'data_type' : 'annotation'}),\n",
    "], axis=0)\n",
    "display(combined_POS_sequence_counts)\n",
    "top_k = 20\n",
    "top_k_POS_sequences = combined_POS_sequence_counts.groupby('POS_sequence').apply(lambda x: x.loc[:, 'count'].mean()).sort_values(inplace=False, ascending=False).index[:top_k]"
   ]
  },
  {
   "cell_type": "code",
   "execution_count": 44,
   "metadata": {
    "scrolled": true
   },
   "outputs": [
    {
     "data": {
      "image/png": "[encoded data removed]",
      "text/plain": [
       "<Figure size 576x576 with 1 Axes>"
      ]
     },
     "metadata": {
      "needs_background": "light"
     },
     "output_type": "display_data"
    }
   ],
   "source": [
    "## plot counts\n",
    "import matplotlib\n",
    "%matplotlib inline\n",
    "import matplotlib.pyplot as plt\n",
    "import seaborn as sns\n",
    "plt.figure(figsize=(8,8))\n",
    "sns.barplot(x='count',y='POS_sequence', hue='data_type',\n",
    "    data=combined_POS_sequence_counts[combined_POS_sequence_counts.loc[:, 'POS_sequence'].isin(top_k_POS_sequences)])\n",
    "plt.xscale('log')\n",
    "plt.legend(loc='lower right')\n",
    "plt.title('POS sequence distribution')\n",
    "plt.xlabel('% frequency')\n",
    "plt.ylabel('POS sequence')\n",
    "plt.xscale('log')\n",
    "plt.show()"
   ]
  },
  {
   "cell_type": "markdown",
   "metadata": {},
   "source": [
    "Fewer pronouns for annotations than for labels. Similar levels of adjectives."
   ]
  },
  {
   "cell_type": "code",
   "execution_count": 45,
   "metadata": {
    "scrolled": true
   },
   "outputs": [
    {
     "name": "stdout",
     "output_type": "stream",
     "text": [
      "testing POS sequence DET_NOUN\n",
      "label word counts\n",
      "a man         0.108995\n",
      "a person      0.059259\n",
      "a woman       0.049735\n",
      "a group       0.023280\n",
      "a boy         0.020106\n",
      "a girl        0.016931\n",
      "a piece       0.012698\n",
      "a table       0.010582\n",
      "a child       0.009524\n",
      "the camera    0.008466\n",
      "Name: word, dtype: float64\n",
      "annotation word counts\n",
      "a man       0.052672\n",
      "a person    0.048593\n",
      "a woman     0.026106\n",
      "a guy       0.019223\n",
      "a child     0.015348\n",
      "a girl      0.014481\n",
      "a boy       0.014430\n",
      "a group     0.013461\n",
      "a lady      0.012237\n",
      "a kid       0.011626\n",
      "Name: word, dtype: float64\n",
      "testing POS sequence NOUN\n",
      "label word counts\n",
      "people      0.119231\n",
      "front       0.065385\n",
      "music       0.034615\n",
      "man         0.019231\n",
      "men         0.019231\n",
      "kids        0.019231\n",
      "others      0.015385\n",
      "children    0.015385\n",
      "dirt        0.015385\n",
      "wood        0.011538\n",
      "Name: word, dtype: float64\n",
      "annotation word counts\n",
      "people      0.037779\n",
      "man         0.019934\n",
      "kids        0.018035\n",
      "music       0.013574\n",
      "woman       0.013099\n",
      "men         0.012150\n",
      "children    0.011675\n",
      "food        0.009587\n",
      "front       0.009018\n",
      "friends     0.008258\n",
      "Name: word, dtype: float64\n",
      "testing POS sequence DET_ADJ_NOUN\n",
      "label word counts\n",
      "a young man       0.069767\n",
      "a young boy       0.046512\n",
      "a little girl     0.029070\n",
      "a large group     0.023256\n",
      "a young girl      0.023256\n",
      "a little boy      0.023256\n",
      "a large crowd     0.017442\n",
      "a little baby     0.011628\n",
      "a curling iron    0.011628\n",
      "a small boy       0.011628\n",
      "Name: word, dtype: float64\n",
      "annotation word counts\n",
      "a young man             0.041791\n",
      "a young boy             0.023383\n",
      "a little girl           0.017910\n",
      "a young girl            0.014925\n",
      "a young woman           0.014428\n",
      "a little boy            0.010945\n",
      "a young child           0.010448\n",
      "a musical instrument    0.008955\n",
      "a young lady            0.008458\n",
      "an older man            0.007960\n",
      "Name: word, dtype: float64\n",
      "testing POS sequence PRON\n",
      "label word counts\n",
      "it           0.300654\n",
      "he           0.130719\n",
      "someone      0.124183\n",
      "them         0.117647\n",
      "she          0.065359\n",
      "they         0.045752\n",
      "himself      0.039216\n",
      "something    0.039216\n",
      "her          0.032680\n",
      "him          0.026144\n",
      "Name: word, dtype: float64\n",
      "annotation word counts\n",
      "someone      0.269015\n",
      "it           0.148118\n",
      "he           0.123299\n",
      "she          0.071257\n",
      "them         0.063251\n",
      "himself      0.051241\n",
      "something    0.049640\n",
      "somebody     0.032026\n",
      "him          0.032026\n",
      "they         0.026421\n",
      "Name: word, dtype: float64\n",
      "testing POS sequence DET_NOUN_NOUN\n",
      "label word counts\n",
      "a living room          0.025862\n",
      "a garbage truck        0.017241\n",
      "his living room        0.017241\n",
      "a rubix cube           0.008621\n",
      "a dance performance    0.008621\n",
      "a window washer        0.008621\n",
      "the sheet music        0.008621\n",
      "a dining table         0.008621\n",
      "the space shuttle      0.008621\n",
      "a girl blow            0.008621\n",
      "Name: word, dtype: float64\n",
      "annotation word counts\n",
      "a sewing machine      0.008883\n",
      "a baby girl           0.006345\n",
      "a living room         0.006345\n",
      "a soccer ball         0.006345\n",
      "a board game          0.006345\n",
      "a basketball court    0.005711\n",
      "the living room       0.005711\n",
      "a swimming pool       0.005711\n",
      "a glass bowl          0.005711\n",
      "a shopping cart       0.005076\n",
      "Name: word, dtype: float64\n",
      "testing POS sequence ADJ_NOUN\n",
      "label word counts\n",
      "several people       0.063830\n",
      "young women          0.021277\n",
      "intricate notches    0.021277\n",
      "several notes        0.021277\n",
      "different things     0.021277\n",
      "white rocks          0.021277\n",
      "little mittens       0.021277\n",
      "hard liquor          0.021277\n",
      "takinga bath         0.021277\n",
      "loud music           0.021277\n",
      "Name: word, dtype: float64\n",
      "annotation word counts\n",
      "other people       0.021033\n",
      "young men          0.019120\n",
      "young people       0.009560\n",
      "facial hair        0.008604\n",
      "little girl        0.008604\n",
      "sharp objects      0.006692\n",
      "little kids        0.005736\n",
      "young man          0.005736\n",
      "protective gear    0.005736\n",
      "heavy weights      0.005736\n",
      "Name: word, dtype: float64\n",
      "testing POS sequence NUM_NOUN\n",
      "label word counts\n",
      "two boys         0.133333\n",
      "two people       0.133333\n",
      "two girls        0.066667\n",
      "two teams        0.066667\n",
      "two men          0.066667\n",
      "two teenagers    0.044444\n",
      "two guys         0.044444\n",
      "two women        0.044444\n",
      "three people     0.044444\n",
      "three men        0.022222\n",
      "Name: word, dtype: float64\n",
      "annotation word counts\n",
      "two people      0.078886\n",
      "two boys        0.074246\n",
      "two kids        0.062645\n",
      "two men         0.053364\n",
      "two girls       0.044084\n",
      "two guys        0.044084\n",
      "two friends     0.037123\n",
      "two children    0.037123\n",
      "two teams       0.027842\n",
      "one side        0.013921\n",
      "Name: word, dtype: float64\n",
      "testing POS sequence NOUN_NOUN\n",
      "label word counts\n",
      "bread dough          0.032258\n",
      "restaurant worker    0.032258\n",
      "sign language        0.032258\n",
      "balloon animals      0.032258\n",
      "air drums            0.032258\n",
      "liquor bottles       0.032258\n",
      "hop scotch           0.032258\n",
      "water balloons       0.032258\n",
      "spray paint          0.032258\n",
      "wrapping paper       0.032258\n",
      "Name: word, dtype: float64\n",
      "annotation word counts\n",
      "living room         0.011156\n",
      "family members      0.010142\n",
      "computer parts      0.009128\n",
      "hockey players      0.009128\n",
      "football players    0.008114\n",
      "water balloons      0.008114\n",
      "spray paint         0.007099\n",
      "playing cards       0.007099\n",
      "sign language       0.007099\n",
      "bubble gum          0.006085\n",
      "Name: word, dtype: float64\n",
      "testing POS sequence DET_ADJ_NOUN_NOUN\n",
      "label word counts\n",
      "a dead lift exercise             0.05\n",
      "an empty plastic bottle          0.05\n",
      "his messy computer desk          0.05\n",
      "a big snow ball                  0.05\n",
      "a crowded dining area            0.05\n",
      "an indoor basketball court       0.05\n",
      "an electrical fan component      0.05\n",
      "an automatic teller machine      0.05\n",
      "a hot curling iron               0.05\n",
      "a competitive wrestling match    0.05\n",
      "Name: word, dtype: float64\n",
      "annotation word counts\n",
      "an olympic swimming pool         0.023529\n",
      "a large swimming pool            0.023529\n",
      "a local news channel             0.011765\n",
      "a silver face cover              0.011765\n",
      "a round exercise ball            0.011765\n",
      "a female body builder            0.011765\n",
      "a large wood board               0.011765\n",
      "a martial arts teacher           0.011765\n",
      "an olympic size pool             0.011765\n",
      "a professional window cleaner    0.011765\n",
      "Name: word, dtype: float64\n",
      "testing POS sequence DET_ADJ_ADJ_NOUN\n",
      "label word counts\n",
      "a large dumb bell            0.071429\n",
      "a young black boy            0.071429\n",
      "a red hot piece              0.071429\n",
      "a middle aged woman          0.071429\n",
      "a young female stylist       0.071429\n",
      "a large professional pool    0.071429\n",
      "the other martial artists    0.071429\n",
      "a large purple ball          0.071429\n",
      "a long wooden log            0.071429\n",
      "a yellow reflective vest     0.071429\n",
      "Name: word, dtype: float64\n",
      "annotation word counts\n",
      "a middle aged man            0.10\n",
      "a dark haired man            0.04\n",
      "a dark haired woman          0.02\n",
      "a delicious looking fruit    0.02\n",
      "a great snowy atmosphere     0.02\n",
      "a bright colored jacket      0.02\n",
      "a talented young mang        0.02\n",
      "a middle aged woman          0.02\n",
      "a healthy looking man        0.02\n",
      "a muscular young man         0.02\n",
      "Name: word, dtype: float64\n"
     ]
    }
   ],
   "source": [
    "## most frequent words for different sequences\n",
    "top_k = 10\n",
    "for POS_sequence_i in label_POS_sequence_counts.index[:top_k]:\n",
    "    print(f'testing POS sequence {POS_sequence_i}')\n",
    "    label_POS_sequences_i = label_POS_sequences[label_POS_sequences.loc[:, 'POS_sequence']==POS_sequence_i]\n",
    "    annotation_POS_sequences_i = annotation_POS_sequences[annotation_POS_sequences.loc[:, 'POS_sequence']==POS_sequence_i]\n",
    "    ## get counts\n",
    "    label_word_counts_i = label_POS_sequences_i.loc[:, 'word'].value_counts()\n",
    "    annotation_word_counts_i = annotation_POS_sequences_i.loc[:, 'word'].value_counts()\n",
    "    # normalize\n",
    "    label_word_counts_i = label_word_counts_i / label_word_counts_i.sum()\n",
    "    annotation_word_counts_i = annotation_word_counts_i / annotation_word_counts_i.sum()\n",
    "    print(f'label word counts\\n{label_word_counts_i.head(10)}')\n",
    "    print(f'annotation word counts\\n{annotation_word_counts_i.head(10)}')"
   ]
  },
  {
   "cell_type": "markdown",
   "metadata": {},
   "source": [
    "- `PRON`: Annotations tend to use more specific pronoun phrases like `someone` or `something` rather than `it`, `he`, `she`.\n",
    "- `DET_NOUN`: annotations are less gender-biased? Use `person` almost as much as `man`."
   ]
  },
  {
   "cell_type": "markdown",
   "metadata": {},
   "source": [
    "### Syntactic context\n",
    "Do certain syntactic contexts (e.g. prepositions) tend to attract more or fewer unique NPs than others?"
   ]
  },
  {
   "cell_type": "code",
   "execution_count": 3,
   "metadata": {},
   "outputs": [
    {
     "name": "stdout",
     "output_type": "stream",
     "text": [
      "bad sentence <A little boy walks a very small do that takes off running.> with label <a very small do>\n",
      "bad sentence <Ninja kid totally showing that piece of fruit who's boss!.> with label <who>\n",
      "bad sentence <A young boy stacking in the cards in building block formation.> with label <building block formation>\n",
      "bad sentence <Two young kids are at the kitchen table playing a game of scrabble.> with label <scrabble>\n"
     ]
    }
   ],
   "source": [
    "## get full parse trees\n",
    "import spacy\n",
    "nlp_pipeline = spacy.load('en_core_web_sm')\n",
    "mask_token = '_____'\n",
    "modifier_deps = ['det']\n",
    "NP_tags = ['NOUN', 'PRON']\n",
    "for data_i in annotated_data:\n",
    "    start_idx = data_i['masked_caption'].index(mask_token)\n",
    "    label_i = data_i['label']\n",
    "    end_idx = start_idx + len(label_i)\n",
    "    parse_tree = nlp_pipeline(data_i['caption'])\n",
    "    label_parse_data = []\n",
    "    for token_i in parse_tree:\n",
    "        # get the information for the first NOUN in the NP that doesn't point to another noun in label\n",
    "        is_head_noun = False\n",
    "        if(token_i.idx >= start_idx and \n",
    "           (token_i.pos_ in NP_tags) and \n",
    "           (token_i.head.idx < start_idx or token_i.head.idx > end_idx)):\n",
    "            dep_i = token_i.dep_\n",
    "            head_i = token_i.head\n",
    "            # edge case: if dependency is just a modifier (\"a\"/\"the\") then get the modifier's head\n",
    "            # edge case: if head is still inside label, keep looking for head; e.g. \"I saw the little cute puppy\" => \"puppy\" should eventually point to \"saw\"\n",
    "#             while(head_i)\n",
    "            if(dep_i in modifier_deps):\n",
    "                dep_i = token_i.head.dep_\n",
    "                head_i = token_i.head.head\n",
    "            label_parse_data = [dep_i, head_i]\n",
    "            break\n",
    "    if(len(label_parse_data) == 0):\n",
    "        print(f'bad sentence <{parse_tree}> with label <{data_i[\"label\"]}>')\n",
    "    data_i['parse_tree'] = parse_tree\n",
    "    data_i['label_dep'] = label_parse_data"
   ]
  },
  {
   "cell_type": "code",
   "execution_count": 4,
   "metadata": {
    "scrolled": true
   },
   "outputs": [
    {
     "name": "stdout",
     "output_type": "stream",
     "text": [
      "pobj         379\n",
      "dobj         280\n",
      "nsubj        263\n",
      "compound      19\n",
      "nsubjpass     17\n",
      "conj          15\n",
      "oprd           2\n",
      "nmod           2\n",
      "amod           2\n",
      "advcl          2\n",
      "npadvmod       1\n",
      "expl           1\n",
      "dative         1\n",
      "attr           1\n",
      "mark           1\n",
      "nummod         1\n",
      "dtype: int64\n",
      "sample data for dep = pobj\n",
      "caption = <A couple of people on stage playing music while in _____ of other people.>; label = <front>\n",
      "caption = <A stainless steel bowl of _____ is twisted in time to music, a hand reaches for a bite of fruit which a face eats and the face's body appears holding the bowl of fruit.>; label = <cut up fruit>\n",
      "caption = <Two girls are standing on _____ competing in a fencing dual.>; label = <a mat>\n",
      "caption = <A group of performers beat on _____ on stage.>; label = <their drums>\n",
      "caption = <An old man is outside hammering nails into _____.>; label = <a stone block>\n",
      "sample data for dep = dobj\n",
      "caption = <In a gym with someone spotting him, a man is lifting _____ performing squats in a squat rack.>; label = <weights>\n",
      "caption = <A man stands on a jetski and rides _____ along the water then waves his hand in the air and speeds up.>; label = <it>\n",
      "caption = <Several people engage in a competition to stomp _____ on a patio.>; label = <something>\n",
      "caption = <_____ laying down massages another with her feet while the other asks her to continue.>; label = <A woman>\n",
      "caption = <A young man pretends to play the guitar and hums and nods _____.>; label = <his head>\n",
      "sample data for dep = nsubj\n",
      "caption = <_____ are dancing in the same fashion in unison with one another.>; label = <Two boys>\n",
      "caption = <_____ drops weight that he just clean and jerked.>; label = <A man>\n",
      "caption = <_____ is braiding the hair on the side of her head.>; label = <A girl>\n",
      "caption = <_____ with a bunch of money is counting one dollar bills.>; label = <A man>\n",
      "caption = <A guy is getting _____ waxed while others watch.>; label = <his chest hairs>\n",
      "sample data for dep = compound\n",
      "caption = <_____ sword fight with wooden sticks and swords.>; label = <Two little boys>\n",
      "caption = <The man and his partner arehaving _____ dancing in the ballroom.>; label = <a great time>\n",
      "caption = <_____ creating a popular show tune by whistling into a microphone on stage.>; label = <A man>\n",
      "caption = <A small orchestra in _____ playing, a violin and keyboard.>; label = <a church>\n",
      "caption = <A diver finds and examins an under _____ crevice.>; label = <water>\n",
      "sample data for dep = nsubjpass\n",
      "caption = <_____ is held upright by crowd, claps, swings arm, leans forward to hold extended hands and regains balance.>; label = <Dancer>\n",
      "caption = <_____ is seen in a stadium practicing soccer drills.>; label = <A man>\n",
      "caption = <_____ of bent steel is being formed with a metal sledge hammer on the end of a  steel table.>; label = <A red hot piece>\n",
      "caption = <_____ are each wrapping Christmas presents on a coffee table.>; label = <Two little boys>\n",
      "caption = <_____ is being used to even out the ends of a metalic table.>; label = <A tool>\n"
     ]
    }
   ],
   "source": [
    "import pandas as pd\n",
    "parsed_annotated_data = list(filter(lambda x: len(x['label_dep']) > 0, annotated_data))\n",
    "label_dep_counts = pd.Series([x['label_dep'][0] for x in parsed_annotated_data]).value_counts()\n",
    "print(label_dep_counts)\n",
    "## get examples of top-k\n",
    "top_k = 5\n",
    "sample_size = 5\n",
    "for dep_i in label_dep_counts.index[:top_k]:\n",
    "    print(f'sample data for dep = {dep_i}')\n",
    "    sample_data_i = list(filter(lambda x: x['label_dep'][0]==dep_i, parsed_annotated_data))[:sample_size]\n",
    "    sample_data_i = list(map(lambda x: (x['masked_caption'], x['label']), sample_data_i))\n",
    "    for sample_data_j in sample_data_i:\n",
    "        print(f'caption = <{sample_data_j[0]}>; label = <{sample_data_j[1]}>')"
   ]
  },
  {
   "cell_type": "markdown",
   "metadata": {},
   "source": [
    "The `ROOT` dependency should only apply if the NP is the root of the sentence, which shouldn't happen except if there is a mis-parse."
   ]
  },
  {
   "cell_type": "code",
   "execution_count": 6,
   "metadata": {},
   "outputs": [
    {
     "name": "stdout",
     "output_type": "stream",
     "text": [
      "{'video_id': 'TAD6AKGDSr8', 'video_start_time': 13, 'video_end_time': 23, 'caption': 'The man in a gree sweater checks and trims the toenails of a small animal.', 'masked_caption': 'The man in _____ checks and trims the toenails of a small animal.', 'label': 'a gree sweater', 'additional_answers': [['a sweater', 'a black sweater', 'a warm sweater'], ['a sweater'], ['a sweater', 'a knit shirt'], ['a sweater'], ['chair'], ['a sweater'], ['the video', 'the clip'], ['a black sweater'], [\"the vet's office\", 'black pants']], 'parse_tree': The man in a gree sweater checks and trims the toenails of a small animal., 'label_dep': ['amod', checks]}\n"
     ]
    }
   ],
   "source": [
    "test_dep = 'amod'\n",
    "test_dep_data = list(filter(lambda x: x['label_dep'][0]==test_dep, parsed_annotated_data))\n",
    "print(test_dep_data[1])"
   ]
  },
  {
   "cell_type": "code",
   "execution_count": 8,
   "metadata": {},
   "outputs": [
    {
     "name": "stderr",
     "output_type": "stream",
     "text": [
      "/home/ianbstew/miniconda3/envs/py3/lib/python3.8/site-packages/numpy/core/fromnumeric.py:3372: RuntimeWarning: Mean of empty slice.\n",
      "  return _methods._mean(a, axis=axis, dtype=dtype,\n",
      "/home/ianbstew/miniconda3/envs/py3/lib/python3.8/site-packages/numpy/core/_methods.py:170: RuntimeWarning: invalid value encountered in double_scalars\n",
      "  ret = ret.dtype.type(ret / rcount)\n"
     ]
    }
   ],
   "source": [
    "import sys\n",
    "if('..' not in sys.path):\n",
    "    sys.path.append('..')\n",
    "from lqam.core.metrics import normalize_answer\n",
    "import numpy as np\n",
    "mean_annotations_per_annotator = list(map(lambda x: \n",
    "                                          np.mean(\n",
    "    list(map(lambda y: len(list(map(normalize_answer, y))), x['additional_answers']))\n",
    "                                          ), \n",
    "                                          parsed_annotated_data))\n",
    "mean_annotations_per_annotator = np.array(mean_annotations_per_annotator)"
   ]
  },
  {
   "cell_type": "code",
   "execution_count": 9,
   "metadata": {},
   "outputs": [
    {
     "data": {
      "image/png": "[encoded data removed]",
      "text/plain": [
       "<Figure size 432x288 with 1 Axes>"
      ]
     },
     "metadata": {
      "needs_background": "light"
     },
     "output_type": "display_data"
    }
   ],
   "source": [
    "## combine with dep info\n",
    "dep_annotation_data = pd.DataFrame(\n",
    "    [\n",
    "        mean_annotations_per_annotator,\n",
    "        list(map(lambda x: x['label_dep'][0], parsed_annotated_data))\n",
    "    ],\n",
    "    index=['unique_annotations', 'dep']\n",
    ").transpose()\n",
    "## plot everything\n",
    "import seaborn as sns\n",
    "import matplotlib\n",
    "%matplotlib inline\n",
    "import matplotlib.pyplot as plt\n",
    "sns.barplot(data=dep_annotation_data, y='dep', x='unique_annotations', orient='h', order=label_dep_counts.index)\n",
    "plt.show()"
   ]
  },
  {
   "cell_type": "markdown",
   "metadata": {},
   "source": [
    "Labels that appear after prepositions (`pobj`) and as direct objects (`dobj`) attract slightly fewer unique annotations than labels that appear as the subjects (`nsubj`) and in compound phrases (`compound`)."
   ]
  },
  {
   "cell_type": "markdown",
   "metadata": {},
   "source": [
    "### Assess gender bias\n",
    "Looking at the top N words in different categories, we see that there may be cases where \"male\" words may be more frequent than \"female\" words.\n",
    "\n",
    "Let's try to quantify this more."
   ]
  },
  {
   "cell_type": "code",
   "execution_count": 15,
   "metadata": {
    "scrolled": true
   },
   "outputs": [
    {
     "name": "stdout",
     "output_type": "stream",
     "text": [
      "woman\n"
     ]
    }
   ],
   "source": [
    "from nltk.stem.wordnet import WordNetLemmatizer\n",
    "from nltk.tokenize import WordPunctTokenizer\n",
    "## stem all words\n",
    "def tokenize_lemmatize(text, tokenizer, lemmatizer):\n",
    "    return list(map(lambda x: lemmatizer.lemmatize(x), tokenizer.tokenize(text)))\n",
    "def lemmatize_annotations(data, tokenizer, lemmatizer):\n",
    "    data['label_lemmas'] = tokenize_lemmatize(data['label_norm'], tokenizer, lemmatizer)\n",
    "    data['annotation_lemmas'] = list(map(lambda x: list(map(lambda y: tokenize_lemmatize(y, tokenizer, lemmatizer), x)), data['annotations_norm']))\n",
    "    ## flatten\n",
    "    data['flat_annotation_lemmas'] = [z for x in data['annotation_lemmas'] for y in x for z in y]\n",
    "    return data\n",
    "lemmatizer = WordNetLemmatizer()\n",
    "word_tokenizer = WordPunctTokenizer()\n",
    "test_word = 'women'\n",
    "print(lemmatizer.lemmatize(test_word))\n",
    "annotated_data = list(map(lambda x: lemmatize_annotations(x, word_tokenizer, lemmatizer), annotated_data))"
   ]
  },
  {
   "cell_type": "code",
   "execution_count": 28,
   "metadata": {},
   "outputs": [],
   "source": [
    "vocab = set()\n",
    "vocab.update([y for x in annotated_data for y in x['label_lemmas']])\n",
    "vocab.update([y for x in annotated_data for y in x['flat_annotation_lemmas']])"
   ]
  },
  {
   "cell_type": "code",
   "execution_count": 64,
   "metadata": {},
   "outputs": [
    {
     "name": "stdout",
     "output_type": "stream",
     "text": [
      "``boy'', ``brother'', ``father'', ``guy'', ``he'', ``him'', ``himself'', ``his'', ``male'', ``man'', ``men'', ``son''\n",
      "``daughter'', ``female'', ``girl'', ``her'', ``herself'', ``lady'', ``mother'', ``she'', ``sister'', ``woman''\n",
      "``adult'', ``baby'', ``child'', ``human'', ``kid'', ``parent'', ``people'', ``person'', ``sibling''\n"
     ]
    }
   ],
   "source": [
    "male_words = {'male', 'man', 'men', 'boy', 'guy', 'his', 'himself', 'he', 'him', 'brother', 'father', 'son'}\n",
    "female_words = {'woman', 'girl', 'lady', 'her', 'hers', 'herself', 'she', 'female', 'sister', 'mother', 'daughter'}\n",
    "neutral_words = {'person', 'people', 'baby', 'child', 'children', 'kid', 'adult', 'human', 'parent', 'sibling'}\n",
    "# remove words if not in vocab\n",
    "male_words = male_words & vocab\n",
    "female_words = female_words & vocab\n",
    "neutral_words = neutral_words & vocab\n",
    "print(', '.join(map(lambda x: f\"``{x}''\", sorted(male_words))))\n",
    "print(', '.join(map(lambda x: f\"``{x}''\", sorted(female_words))))\n",
    "print(', '.join(map(lambda x: f\"``{x}''\", sorted(neutral_words))))"
   ]
  },
  {
   "cell_type": "code",
   "execution_count": 63,
   "metadata": {},
   "outputs": [
    {
     "data": {
      "text/plain": [
       "'woman'"
      ]
     },
     "execution_count": 63,
     "metadata": {},
     "output_type": "execute_result"
    }
   ],
   "source": [
    "lemmatizer.lemmatize('women')"
   ]
  },
  {
   "cell_type": "code",
   "execution_count": 56,
   "metadata": {},
   "outputs": [],
   "source": [
    "## get male/female word counts\n",
    "import pandas as pd\n",
    "def get_word_counts(words, filter_words=None):\n",
    "    if(filter_words is not None):\n",
    "        words = list(filter(lambda x: x in filter_words, words))\n",
    "    word_counts = pd.Series(words).value_counts()\n",
    "    return word_counts"
   ]
  },
  {
   "cell_type": "code",
   "execution_count": 57,
   "metadata": {},
   "outputs": [],
   "source": [
    "label_total_word_counts = pd.Series(get_word_counts([y for x in annotated_data for y in x['label_lemmas']]))\n",
    "annotation_total_word_counts = pd.Series(get_word_counts([y for x in annotated_data for y in x['flat_annotation_lemmas']]))\n",
    "N_label_total_words = label_total_word_counts.sum()\n",
    "N_annotation_total_words = annotation_total_word_counts.sum()"
   ]
  },
  {
   "cell_type": "code",
   "execution_count": 65,
   "metadata": {
    "scrolled": true
   },
   "outputs": [
    {
     "name": "stdout",
     "output_type": "stream",
     "text": [
      "**** testing word set male ****\n",
      "label word pct = 0.109\n",
      "annotation word pct = 0.091\n",
      "**** testing word set female ****\n",
      "label word pct = 0.062\n",
      "annotation word pct = 0.059\n",
      "**** testing word set neutral ****\n",
      "label word pct = 0.060\n",
      "annotation word pct = 0.066\n"
     ]
    },
    {
     "name": "stderr",
     "output_type": "stream",
     "text": [
      "<ipython-input-65-a7ffe89d7cad>:5: FutureWarning: \n",
      "Passing list-likes to .loc or [] with any missing label will raise\n",
      "KeyError in the future, you can use .reindex() as an alternative.\n",
      "\n",
      "See the documentation here:\n",
      "https://pandas.pydata.org/pandas-docs/stable/user_guide/indexing.html#deprecate-loc-reindex-listlike\n",
      "  label_word_pct = label_total_word_counts.loc[word_set_i].sum() / N_label_total_words\n"
     ]
    }
   ],
   "source": [
    "word_sets = [male_words, female_words, neutral_words]\n",
    "word_set_names = ['male', 'female', 'neutral']\n",
    "for word_set_name_i, word_set_i in zip(word_set_names, word_sets):\n",
    "    print(f'**** testing word set {word_set_name_i} ****')\n",
    "    label_word_pct = label_total_word_counts.loc[word_set_i].sum() / N_label_total_words\n",
    "    annotation_word_pct = annotation_total_word_counts.loc[word_set_i].sum() / N_annotation_total_words\n",
    "    print(f'label word pct = {\"{:1.3f}\".format(label_word_pct)}')\n",
    "    print(f'annotation word pct = {\"{:1.3f}\".format(annotation_word_pct)}')"
   ]
  }
 ],
 "metadata": {
  "kernelspec": {
   "display_name": "Python [conda env:py3] *",
   "language": "python",
   "name": "conda-env-py3-py"
  },
  "language_info": {
   "codemirror_mode": {
    "name": "ipython",
    "version": 3
   },
   "file_extension": ".py",
   "mimetype": "text/x-python",
   "name": "python",
   "nbconvert_exporter": "python",
   "pygments_lexer": "ipython3",
   "version": "3.8.5"
  }
 },
 "nbformat": 4,
 "nbformat_minor": 5
}
