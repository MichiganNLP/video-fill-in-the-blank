{
 "cells": [
  {
   "cell_type": "markdown",
   "metadata": {},
   "source": [
    "# VaTeX Agreement\n",
    "\n",
    "Here we compute the inter-annotator agreement (leave-one-out) for the VaTeX Captioning dataset (for the English captions)."
   ]
  },
  {
   "cell_type": "code",
   "execution_count": 1,
   "metadata": {},
   "outputs": [],
   "source": [
    "import json\n",
    "\n",
    "from lqam.methods.metrics import F1ScoreMany\n",
    "from lqam.util.file_utils import cached_path\n",
    "\n",
    "def compute_agreement(path: str) -> float:\n",
    "    with open(cached_path(path)) as file:\n",
    "        instances = json.load(file)\n",
    "\n",
    "    metric = F1ScoreMany()\n",
    "\n",
    "    for instance in instances:\n",
    "        captions = instance[\"enCap\"]\n",
    "        metric(captions, [\"[PLACEHOLDER]\"] * len(captions),\n",
    "               [[captions[:i] + captions[i + 1:]] for i in range(len(captions))])\n",
    "\n",
    "    return metric.compute().item()"
   ]
  },
  {
   "cell_type": "code",
   "execution_count": 2,
   "metadata": {
    "pycharm": {
     "name": "#%%\n"
    }
   },
   "outputs": [
    {
     "data": {
      "text/plain": [
       "0.4730280935764313"
      ]
     },
     "execution_count": 2,
     "metadata": {},
     "output_type": "execute_result"
    }
   ],
   "source": [
    "compute_agreement(\"https://eric-xw.github.io/vatex-website/data/vatex_validation_v1.0.json\")"
   ]
  },
  {
   "cell_type": "code",
   "execution_count": 3,
   "metadata": {},
   "outputs": [
    {
     "data": {
      "text/plain": [
       "0.4752269387245178"
      ]
     },
     "execution_count": 3,
     "metadata": {},
     "output_type": "execute_result"
    }
   ],
   "source": [
    "compute_agreement(\"https://eric-xw.github.io/vatex-website/data/vatex_public_test_english_v1.1.json\")"
   ]
  }
 ],
 "metadata": {
  "kernelspec": {
   "display_name": "Python 3 (ipykernel)",
   "language": "python",
   "name": "python3"
  },
  "language_info": {
   "codemirror_mode": {
    "name": "ipython",
    "version": 3
   },
   "file_extension": ".py",
   "mimetype": "text/x-python",
   "name": "python",
   "nbconvert_exporter": "python",
   "pygments_lexer": "ipython3",
   "version": "3.8.12"
  }
 },
 "nbformat": 4,
 "nbformat_minor": 4
}