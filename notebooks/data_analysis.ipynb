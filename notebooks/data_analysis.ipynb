{
 "cells": [
  {
   "cell_type": "markdown",
   "id": "separated-senator",
   "metadata": {},
   "source": [
    "# Data Analysis"
   ]
  },
  {
   "cell_type": "markdown",
   "source": [
    "## Setup"
   ],
   "metadata": {
    "collapsed": false,
    "pycharm": {
     "name": "#%% md\n"
    }
   }
  },
  {
   "cell_type": "code",
   "execution_count": 1,
   "outputs": [],
   "source": [
    "from __future__ import annotations\n",
    "\n",
    "import matplotlib.pyplot as plt\n",
    "import pandas as pd\n",
    "import seaborn as sns\n",
    "from IPython.core.display_functions import display\n",
    "from tqdm.auto import tqdm\n",
    "\n",
    "sns.set_theme()\n",
    "sns.set_style(\"whitegrid\")\n",
    "sns.set_context(\"paper\", font_scale=1.5, rc={\"lines.linewidth\": 2.5, \"lines.markersize\": 8})\n",
    "\n",
    "%matplotlib inline"
   ],
   "metadata": {
    "collapsed": false,
    "pycharm": {
     "name": "#%%\n"
    }
   }
  },
  {
   "cell_type": "markdown",
   "source": [
    "## Load the data"
   ],
   "metadata": {
    "collapsed": false,
    "pycharm": {
     "name": "#%% md\n"
    }
   }
  },
  {
   "cell_type": "code",
   "execution_count": 2,
   "id": "sensitive-pickup",
   "metadata": {
    "scrolled": true
   },
   "outputs": [
    {
     "data": {
      "text/plain": "1985"
     },
     "execution_count": 2,
     "metadata": {},
     "output_type": "execute_result"
    }
   ],
   "source": [
    "import json\n",
    "\n",
    "from lqam.methods.dataset import URL_DATA_TEST, URL_DATA_VAL\n",
    "from lqam.util.file_utils import cached_path\n",
    "\n",
    "with open(cached_path(URL_DATA_VAL)) as file:\n",
    "    val_instances = json.load(file)\n",
    "\n",
    "with open(cached_path(URL_DATA_TEST)) as file:\n",
    "    test_instances = json.load(file)\n",
    "\n",
    "instances = val_instances + test_instances\n",
    "\n",
    "len(instances)"
   ]
  },
  {
   "cell_type": "markdown",
   "source": [
    "Example instance:"
   ],
   "metadata": {
    "collapsed": false,
    "pycharm": {
     "name": "#%% md\n"
    }
   }
  },
  {
   "cell_type": "code",
   "execution_count": 3,
   "outputs": [
    {
     "data": {
      "text/plain": "{'video_id': 'cfBtVPEwqIo',\n 'video_start_time': 5,\n 'video_end_time': 15,\n 'caption': 'In a gym with someone spotting him, a man is lifting weights performing squats in a squat rack.',\n 'masked_caption': 'In a gym with someone spotting him, a man is lifting _____ performing squats in a squat rack.',\n 'label': 'weights',\n 'additional_answers': [['a weight', 'some weights', 'a squat bar'],\n  ['weight', 'a bar'],\n  ['weights', 'a barbell'],\n  ['weights', 'a heavy load'],\n  ['weights', 'a barbell'],\n  ['weights', 'iron', 'equipment'],\n  ['weights', 'a barbell', 'a weight'],\n  ['weights', '405 lb']]}"
     },
     "execution_count": 3,
     "metadata": {},
     "output_type": "execute_result"
    }
   ],
   "source": [
    "instances[0]"
   ],
   "metadata": {
    "collapsed": false,
    "pycharm": {
     "name": "#%%\n"
    }
   }
  },
  {
   "cell_type": "code",
   "execution_count": 4,
   "outputs": [],
   "source": [
    "for instance in instances:\n",
    "    instance[\"id\"] = f\"{instance['video_id']}_{instance['video_start_time']}_{instance['video_end_time']}\""
   ],
   "metadata": {
    "collapsed": false,
    "pycharm": {
     "name": "#%%\n"
    }
   }
  },
  {
   "cell_type": "code",
   "execution_count": 5,
   "outputs": [
    {
     "data": {
      "text/plain": "1960"
     },
     "execution_count": 5,
     "metadata": {},
     "output_type": "execute_result"
    }
   ],
   "source": [
    "valid_instances = [instance for instance in instances if instance[\"additional_answers\"]]\n",
    "len(valid_instances)"
   ],
   "metadata": {
    "collapsed": false,
    "pycharm": {
     "name": "#%%\n"
    }
   }
  },
  {
   "cell_type": "markdown",
   "source": [
    "## Normalize the answers"
   ],
   "metadata": {
    "collapsed": false,
    "pycharm": {
     "name": "#%% md\n"
    }
   }
  },
  {
   "cell_type": "code",
   "execution_count": 6,
   "id": "plastic-motor",
   "metadata": {},
   "outputs": [],
   "source": [
    "from lqam.core.metrics import normalize_answer\n",
    "\n",
    "for instance in instances:\n",
    "    instance[\"label_norm\"] = normalize_answer(instance[\"label\"])\n",
    "    instance[\"annotations_norm\"] = [[normalize_answer(answer) for answer in worker_answers]\n",
    "                                    for worker_answers in instance[\"additional_answers\"]]"
   ]
  },
  {
   "cell_type": "markdown",
   "source": [
    "## Parse the data"
   ],
   "metadata": {
    "collapsed": false,
    "pycharm": {
     "name": "#%% md\n"
    }
   }
  },
  {
   "cell_type": "code",
   "execution_count": 7,
   "outputs": [
    {
     "data": {
      "text/plain": "  0%|          | 0/1985 [00:00<?, ?it/s]",
      "application/vnd.jupyter.widget-view+json": {
       "version_major": 2,
       "version_minor": 0,
       "model_id": "2d188ddfef9a4406a7d372f3a3a49ce5"
      }
     },
     "metadata": {},
     "output_type": "display_data"
    }
   ],
   "source": [
    "import itertools\n",
    "\n",
    "from lqam.annotations.metrics import SPACY_MODEL\n",
    "\n",
    "doc_gen = SPACY_MODEL.pipe(text\n",
    "                           for instance in instances\n",
    "                           for text in itertools.chain([instance[\"caption\"]],\n",
    "                                                       (instance[\"masked_caption\"].replace(\"_____\", answer)\n",
    "                                                        for worker_answers in instance[\"additional_answers\"]\n",
    "                                                        for answer in worker_answers)))\n",
    "\n",
    "for instance in tqdm(instances):\n",
    "    instance[\"parse_tree\"] = next(doc_gen)\n",
    "\n",
    "    start_idx = instance[\"masked_caption\"].index(\"_____\")\n",
    "    instance[\"label_subtree\"] = instance[\"parse_tree\"].char_span(start_idx=start_idx,\n",
    "                                                                 end_idx=start_idx + len(instance[\"label\"]),\n",
    "                                                                 alignment_mode=\"expand\")\n",
    "\n",
    "    instance[\"annotation_subtrees\"] = [[doc.char_span(start_idx=start_idx, end_idx=start_idx + len(answer),\n",
    "                                                      alignment_mode=\"expand\")\n",
    "                                        for answer, doc in zip(worker_answers, doc_gen)]\n",
    "                                       for worker_answers in instance[\"additional_answers\"]]"
   ],
   "metadata": {
    "collapsed": false,
    "pycharm": {
     "name": "#%%\n"
    }
   }
  },
  {
   "cell_type": "markdown",
   "source": [
    "## Cases of \"another person\""
   ],
   "metadata": {
    "collapsed": false
   }
  },
  {
   "cell_type": "code",
   "execution_count": 8,
   "outputs": [
    {
     "name": "stdout",
     "output_type": "stream",
     "text": [
      "A woman plays a flute while _____ is playing a harp instrument.\n",
      "another woman\n",
      "A man and _____ express happiness as they ride a sleigh down a hill.\n",
      "a boy\n",
      "On a road, a girl is pushing _____ sitting on a three-wheel wheelbarrow.\n",
      "another girl\n",
      "A man is seen doing sit-ups while his legs are held down by _____.\n",
      "another person\n",
      "A person is seen performing a back massage on _____.\n",
      "an individual\n",
      "A potter dits at his wheel as _____ slows and lift a pot off it and hands it to a woman sitting opposite him, as both pose for the camera.\n",
      "it\n",
      "A man has his name called by _____ on a microphone and stands to receive a bouqet of flowers.\n",
      "someone\n",
      "A person on a golf course hitting the ball into the hole in front of _____.\n",
      "them\n",
      "Music plays while a young woman shows her teeth, kisses _____ and shows picture collages.\n",
      "another young woman\n",
      "A small child bangs against a xylophone being held by _____.\n",
      "a woman\n",
      "A man is talking and _____ is stacking cards.\n",
      "a boy\n",
      "A teenage boy tosses a football at _____ who catches it then begins to throw it back.\n",
      "another teenage boy\n",
      "A woman talks to _____ then turns and jumps into the pool.\n",
      "the cameraman\n",
      "A man is changing a car tire while _____ is trying to put the old tire in the boot.\n",
      "another man\n",
      "A person is sitting on a chair and _____ is massaging the head.\n",
      "another person\n",
      "A man is holding up _____ who is doing a handstand and when he lets go, she falls over, then gets up and hi-fives him.\n",
      "a woman\n",
      "A woman is standing on top of a ladder as _____ talks to her.\n",
      "another person\n",
      "A person is poking a metal rod inside of _____.\n",
      "another persons belly button\n",
      "Two men golfing on a green chat as _____ takes a shot using his golf club.\n",
      "one\n",
      "A man is sitting down and getting his hair cut while _____ is talking about it.\n",
      "a woman\n",
      "A boy is trying to comb his hair while _____ dries it.\n",
      "a girl blow\n",
      "A woman is getting her nose pierced by _____ standing beside her.\n",
      "someone\n",
      "A boy throws something in the pool at _____ and then tips over in his kayak.\n",
      "his dad\n",
      "A man is standing on a stage and talking while _____ hold posters next to him.\n",
      "two women\n",
      "A person is sitting down while _____ is giving him a foot wash with a container of water and cloth.\n",
      "another person\n",
      "There are is two couples, _____ and a woman kissing.\n",
      "a man\n",
      "The boy is sleeping while _____ throws a pillow at him.\n",
      "someone\n",
      "A woman reading and trying to explain to _____ what their doing.\n",
      "another person\n",
      "A man and _____ are shown doing exercises in a gym, using a metal bracketed floor plate and a soft round ball while music is playing.\n",
      "a woman\n",
      "A man is sitting down eating some food as a woman serves him more food, and _____ talks to him.\n",
      "another woman\n",
      "A young woman and _____ use sign language to communicate via Skype.\n",
      "an older woman\n",
      "Two guys are looking through a microscope apparently while looking at _____.\n",
      "Bill Cosby\n",
      "One guy is going around head butting _____.\n",
      "two other guys\n",
      "A baby is listening to _____ and then shaking his head no.\n",
      "an adult\n",
      "Outside, a man hugs _____ and looks into the sky.\n",
      "another man\n",
      "A girl is having her calf wrapped by _____ while other girls look on.\n",
      "another woman\n"
     ]
    }
   ],
   "source": [
    "for instance in instances:\n",
    "    if \"another person\" in {answer for worker_answers in instance[\"additional_answers\"] for answer in worker_answers}:\n",
    "        print(instance[\"masked_caption\"])\n",
    "        print(instance[\"label\"])"
   ],
   "metadata": {
    "collapsed": false,
    "pycharm": {
     "name": "#%%\n"
    }
   }
  },
  {
   "cell_type": "markdown",
   "source": [
    "## Distribution of the original answers vs. the annotated ones\n",
    "Let's look at the top-K original answers and the top-K annotated answers."
   ],
   "metadata": {
    "collapsed": false
   }
  },
  {
   "cell_type": "code",
   "execution_count": 9,
   "outputs": [
    {
     "data": {
      "text/plain": "Answer\nman          113\nperson        56\nwoman         50\nit            46\npeople        31\ngroup         22\nhe            20\nsomeone       19\nboy           19\nthem          18\ngirl          17\nfront         17\nyoung man     13\ncamera        13\ntable         12\npiece         12\nbaby          11\nball          11\nchild         11\nmusic         10\nName: Count, dtype: int64"
     },
     "execution_count": 9,
     "metadata": {},
     "output_type": "execute_result"
    }
   ],
   "source": [
    "original_answer_counts = pd.Series((instance[\"label_norm\"] for instance in instances), name=\"Count\").value_counts()\n",
    "original_answer_counts.index.name = \"Answer\"\n",
    "original_answer_counts.head(20)"
   ],
   "metadata": {
    "collapsed": false,
    "pycharm": {
     "name": "#%%\n"
    }
   }
  },
  {
   "cell_type": "code",
   "execution_count": 10,
   "outputs": [
    {
     "data": {
      "text/plain": "Answer\nperson       409\nman          310\nguy          230\nsomeone      226\nwoman        173\ngirl         156\npeople       152\nboy          142\nkid          132\nmale         129\nlady         128\nchild        126\nroom          89\ngroup         87\nfemale        83\nkids          79\nit            76\nhuman         73\ngentleman     71\nadult         62\nName: Count, dtype: int64"
     },
     "execution_count": 10,
     "metadata": {},
     "output_type": "execute_result"
    }
   ],
   "source": [
    "annotated_answer_counts = pd.Series((answer\n",
    "                                     for instance in instances\n",
    "                                     for answer in {answer\n",
    "                                                    for worker_answers in instance[\"annotations_norm\"]\n",
    "                                                    for answer in worker_answers}), name=\"Count\").value_counts()\n",
    "annotated_answer_counts.index.name = \"Answer\"\n",
    "annotated_answer_counts.head(20)"
   ],
   "metadata": {
    "collapsed": false,
    "pycharm": {
     "name": "#%%\n"
    }
   }
  },
  {
   "cell_type": "markdown",
   "source": [
    "### Combine counts in a LaTeX table"
   ],
   "metadata": {
    "collapsed": false
   }
  },
  {
   "cell_type": "code",
   "execution_count": 11,
   "outputs": [
    {
     "name": "stdout",
     "output_type": "stream",
     "text": [
      "\\begin{tabular}{lrlr}\n",
      "\\toprule\n",
      "Answer & Count & Answer & Count \\\\\n",
      "\\midrule\n",
      "man & 113 & person & 409 \\\\\n",
      "person & 56 & man & 310 \\\\\n",
      "woman & 50 & guy & 230 \\\\\n",
      "it & 46 & someone & 226 \\\\\n",
      "people & 31 & woman & 173 \\\\\n",
      "group & 22 & girl & 156 \\\\\n",
      "he & 20 & people & 152 \\\\\n",
      "someone & 19 & boy & 142 \\\\\n",
      "boy & 19 & kid & 132 \\\\\n",
      "them & 18 & male & 129 \\\\\n",
      "\\bottomrule\n",
      "\\end{tabular}\n",
      "\n"
     ]
    }
   ],
   "source": [
    "combined_answer_counts = pd.concat([\n",
    "    original_answer_counts.reset_index().head(10),\n",
    "    annotated_answer_counts.reset_index().head(10),\n",
    "], axis=1)\n",
    "print(combined_answer_counts.style.hide().to_latex(hrules=True))"
   ],
   "metadata": {
    "collapsed": false,
    "pycharm": {
     "name": "#%%\n"
    }
   }
  },
  {
   "cell_type": "markdown",
   "source": [
    "### Plot the combined answer counts"
   ],
   "metadata": {
    "collapsed": false,
    "pycharm": {
     "name": "#%% md\n"
    }
   }
  },
  {
   "cell_type": "code",
   "execution_count": 12,
   "id": "cleared-visibility",
   "metadata": {},
   "outputs": [
    {
     "data": {
      "text/plain": "        Frequency in the original answers  Frequency in the annotations  \\\nAnswer                                                                    \nman                              5.692695                      1.197235   \nperson                           2.821159                      1.579577   \nwoman                            2.518892                      0.668134   \nit                               2.317380                      0.293516   \npeople                           1.561713                      0.587031   \n\n        Joint frequency  \nAnswer                   \nman            3.444965  \nperson         2.200368  \nwoman          1.593513  \nit             1.305448  \npeople         1.074372  ",
      "text/html": "<div>\n<style scoped>\n    .dataframe tbody tr th:only-of-type {\n        vertical-align: middle;\n    }\n\n    .dataframe tbody tr th {\n        vertical-align: top;\n    }\n\n    .dataframe thead th {\n        text-align: right;\n    }\n</style>\n<table border=\"1\" class=\"dataframe\">\n  <thead>\n    <tr style=\"text-align: right;\">\n      <th></th>\n      <th>Frequency in the original answers</th>\n      <th>Frequency in the annotations</th>\n      <th>Joint frequency</th>\n    </tr>\n    <tr>\n      <th>Answer</th>\n      <th></th>\n      <th></th>\n      <th></th>\n    </tr>\n  </thead>\n  <tbody>\n    <tr>\n      <th>man</th>\n      <td>5.692695</td>\n      <td>1.197235</td>\n      <td>3.444965</td>\n    </tr>\n    <tr>\n      <th>person</th>\n      <td>2.821159</td>\n      <td>1.579577</td>\n      <td>2.200368</td>\n    </tr>\n    <tr>\n      <th>woman</th>\n      <td>2.518892</td>\n      <td>0.668134</td>\n      <td>1.593513</td>\n    </tr>\n    <tr>\n      <th>it</th>\n      <td>2.317380</td>\n      <td>0.293516</td>\n      <td>1.305448</td>\n    </tr>\n    <tr>\n      <th>people</th>\n      <td>1.561713</td>\n      <td>0.587031</td>\n      <td>1.074372</td>\n    </tr>\n  </tbody>\n</table>\n</div>"
     },
     "execution_count": 12,
     "metadata": {},
     "output_type": "execute_result"
    }
   ],
   "source": [
    "combined_answer_frequencies_df = pd.concat([\n",
    "    original_answer_counts / original_answer_counts.sum() * 100,\n",
    "    annotated_answer_counts / annotated_answer_counts.sum() * 100,\n",
    "], axis=1, keys=[\"Frequency in the original answers\", \"Frequency in the annotations\"]).fillna(0.)\n",
    "\n",
    "combined_answer_frequencies_df[\"Joint frequency\"] = combined_answer_frequencies_df.mean(axis=1)\n",
    "combined_answer_frequencies_df = combined_answer_frequencies_df.sort_values(\"Joint frequency\", ascending=False)\n",
    "\n",
    "top_answers = set(combined_answer_frequencies_df.head(20).index)\n",
    "\n",
    "combined_answer_frequencies_df.head()"
   ]
  },
  {
   "cell_type": "code",
   "execution_count": 13,
   "id": "young-costs",
   "metadata": {
    "scrolled": true
   },
   "outputs": [
    {
     "data": {
      "text/plain": "<Figure size 576x720 with 1 Axes>",
      "image/png": "[encoded data removed]"
     },
     "metadata": {
      "needs_background": "light"
     },
     "output_type": "display_data"
    }
   ],
   "source": [
    "answer_flat_frequencies_df = combined_answer_frequencies_df.rename(\n",
    "    columns={\"Frequency in the original answers\": \"Original answers\",\n",
    "             \"Frequency in the annotations\": \"Annotations\"}\n",
    ").melt(\n",
    "    value_vars=[\"Original answers\", \"Annotations\"], value_name=\"%\",\n",
    "    var_name=\"Source\", ignore_index=False)\n",
    "\n",
    "top_answer_flat_frequencies_df = answer_flat_frequencies_df[answer_flat_frequencies_df.index.isin(top_answers)]\n",
    "\n",
    "plt.figure(figsize=(8, 10))\n",
    "with sns.axes_style():\n",
    "    sns.set_context(\"paper\", font_scale=2, rc={\"lines.linewidth\": 3, \"lines.markersize\": 10})\n",
    "\n",
    "    ax = sns.barplot(data=top_answer_flat_frequencies_df, x=\"%\", y=top_answer_flat_frequencies_df.index,\n",
    "                     hue=\"Source\")\n",
    "    for container in ax.containers:\n",
    "        ax.bar_label(container, fmt=\"%.1f\", fontsize=14)\n",
    "\n",
    "plt.gcf().savefig(\"label_annotation_top_NP_pcts.pdf\", bbox_inches=\"tight\")"
   ]
  },
  {
   "cell_type": "markdown",
   "source": [
    "### Plot both distributions"
   ],
   "metadata": {
    "collapsed": false,
    "pycharm": {
     "name": "#%% md\n"
    }
   }
  },
  {
   "cell_type": "code",
   "execution_count": 14,
   "id": "respiratory-republic",
   "metadata": {},
   "outputs": [],
   "source": [
    "def plot_answer_distribution(answer_counts: pd.Series, plot_name: str) -> None:\n",
    "    series = answer_counts.head(10).sort_values(ascending=False)\n",
    "    sns.barplot(x=series, y=series.index, color=\"b\").set_title(f\"Top counts for the {plot_name}\")"
   ]
  },
  {
   "cell_type": "code",
   "execution_count": 15,
   "id": "collected-nirvana",
   "metadata": {},
   "outputs": [
    {
     "data": {
      "text/plain": "<Figure size 432x288 with 1 Axes>",
      "image/png": "[encoded data removed]"
     },
     "metadata": {
      "needs_background": "light"
     },
     "output_type": "display_data"
    }
   ],
   "source": [
    "plot_answer_distribution(original_answer_counts, \"original answers\")"
   ]
  },
  {
   "cell_type": "code",
   "execution_count": 16,
   "outputs": [
    {
     "data": {
      "text/plain": "<Figure size 432x288 with 1 Axes>",
      "image/png": "[encoded data removed]"
     },
     "metadata": {
      "needs_background": "light"
     },
     "output_type": "display_data"
    }
   ],
   "source": [
    "plot_answer_distribution(annotated_answer_counts, \"annotations\")"
   ],
   "metadata": {
    "collapsed": false,
    "pycharm": {
     "name": "#%%\n"
    }
   }
  },
  {
   "cell_type": "markdown",
   "id": "alleged-legislature",
   "metadata": {},
   "source": [
    "## Agreement between the original answers and the annotations\n",
    "Which original phrases have lower/ higher agreement with the annotations?"
   ]
  },
  {
   "cell_type": "code",
   "execution_count": 17,
   "id": "common-diversity",
   "metadata": {},
   "outputs": [],
   "source": [
    "from collections import Iterable\n",
    "from lqam.core.metrics import compute_token_level_f1_many, tokenize_answer_to_compute_metrics  # noqa\n",
    "\n",
    "\n",
    "def compute_original_answer_f1_score(label_: str, annotations_: Iterable[Iterable[str]]) -> float:\n",
    "    original_answer_tokens_ = tokenize_answer_to_compute_metrics(normalize_answer(label_))\n",
    "    annotation_tokens = (tokenize_answer_to_compute_metrics(normalize_answer(answer))\n",
    "                         for annotation in annotations_\n",
    "                         for answer in annotation)\n",
    "    return compute_token_level_f1_many(original_answer_tokens_, annotation_tokens)"
   ]
  },
  {
   "cell_type": "markdown",
   "source": [],
   "metadata": {
    "collapsed": false,
    "pycharm": {
     "name": "#%% md\n"
    }
   }
  },
  {
   "cell_type": "code",
   "execution_count": 18,
   "id": "educated-profession",
   "metadata": {},
   "outputs": [
    {
     "data": {
      "text/plain": "count    1960.000000\nmean        0.840221\nstd         0.298881\nmin         0.000000\n25%         0.666667\n50%         1.000000\n75%         1.000000\nmax         1.000000\nName: F1, dtype: float64"
     },
     "execution_count": 18,
     "metadata": {},
     "output_type": "execute_result"
    },
    {
     "data": {
      "text/plain": "<Figure size 360x360 with 1 Axes>",
      "image/png": "[encoded data removed]"
     },
     "metadata": {
      "needs_background": "light"
     },
     "output_type": "display_data"
    }
   ],
   "source": [
    "f1_scores_by_id = {instance[\"id\"]: compute_original_answer_f1_score(instance[\"label_norm\"],\n",
    "                                                                    instance[\"annotations_norm\"])\n",
    "                   for instance in valid_instances}\n",
    "f1_scores = pd.Series(f1_scores_by_id, index=f1_scores_by_id.keys(), name=\"F1\")\n",
    "sns.displot(f1_scores).set(yscale=\"log\")\n",
    "f1_scores.describe()"
   ]
  },
  {
   "cell_type": "markdown",
   "source": [
    "How many original answers have a 100% F1 with respect to the annotations?"
   ],
   "metadata": {
    "collapsed": false,
    "pycharm": {
     "name": "#%% md\n"
    }
   }
  },
  {
   "cell_type": "code",
   "execution_count": 19,
   "id": "crude-organizer",
   "metadata": {},
   "outputs": [
    {
     "data": {
      "text/plain": "0.7107142857142857"
     },
     "execution_count": 19,
     "metadata": {},
     "output_type": "execute_result"
    }
   ],
   "source": [
    "(f1_scores == 1).mean()"
   ]
  },
  {
   "cell_type": "markdown",
   "source": [
    "### What are the top/bottom original answers (unique) in F1 score?"
   ],
   "metadata": {
    "collapsed": false,
    "pycharm": {
     "name": "#%% md\n"
    }
   }
  },
  {
   "cell_type": "markdown",
   "source": [
    "Original answers with the highest F1 score:"
   ],
   "metadata": {
    "collapsed": false,
    "pycharm": {
     "name": "#%% md\n"
    }
   }
  },
  {
   "cell_type": "code",
   "execution_count": 20,
   "id": "sixth-disposal",
   "metadata": {
    "scrolled": true
   },
   "outputs": [
    {
     "data": {
      "text/plain": "Answer\nhis shoes          1.0\nslow motion        1.0\nskillet            1.0\nhis ear            1.0\nhis family         1.0\nhis feet           1.0\nhis fingers        1.0\nskies              1.0\nski resort         1.0\nhis foot           1.0\nhis goggles        1.0\nhis house          1.0\nhis inhaler        1.0\nhis knees          1.0\nhis leg            1.0\nhis living room    1.0\nsit ups            1.0\nhis mouth          1.0\nhis neck           1.0\nhis dog            1.0\ndtype: float64"
     },
     "execution_count": 20,
     "metadata": {},
     "output_type": "execute_result"
    }
   ],
   "source": [
    "valid_instances_original_answers = pd.Series((instance[\"label_norm\"] for instance in valid_instances), name=\"Answer\",\n",
    "                                             index=[instance[\"id\"] for instance in valid_instances])\n",
    "original_answer_score_df = pd.concat([valid_instances_original_answers, f1_scores], axis=1)\n",
    "original_answer_score_aggregate = original_answer_score_df.groupby(\"Answer\").apply(lambda x: x.F1.mean()).sort_values(\n",
    "    ascending=False)\n",
    "original_answer_score_aggregate.head(20)"
   ]
  },
  {
   "cell_type": "markdown",
   "source": [
    "Original answers with lowest F1 score:"
   ],
   "metadata": {
    "collapsed": false,
    "pycharm": {
     "name": "#%% md\n"
    }
   }
  },
  {
   "cell_type": "code",
   "execution_count": 21,
   "outputs": [
    {
     "data": {
      "text/plain": "Answer\n45 degree angle             0.0\nbangers                     0.0\nback ground                 0.0\nbongpipe                    0.0\naxed device                 0.0\nbrunette                    0.0\nbuilding block formation    0.0\nbulldozer                   0.0\nbuns                        0.0\ncabinet shelf               0.0\nwooden spoon                0.0\ncamo paint                  0.0\ncement plaster              0.0\nchar                        0.0\nchoir                       0.0\nchoppy waters               0.0\ncircle                      0.0\nclarinet                    0.0\ncolored oring               0.0\ncomment                     0.0\ndtype: float64"
     },
     "execution_count": 21,
     "metadata": {},
     "output_type": "execute_result"
    }
   ],
   "source": [
    "original_answer_score_aggregate.sort_values(ascending=True).head(20)"
   ],
   "metadata": {
    "collapsed": false,
    "pycharm": {
     "name": "#%%\n"
    }
   }
  },
  {
   "cell_type": "markdown",
   "id": "korean-style",
   "metadata": {},
   "source": [
    "The words with higher agreement tend to be simple and concrete nouns (`motorcycle`, `bat`).\n",
    "\n",
    "The words with lower agreement tend to be highly specific (`45 degree angle`, `taekwondo`) or vague (`twos`, `time`)."
   ]
  },
  {
   "cell_type": "markdown",
   "id": "peaceful-mission",
   "metadata": {},
   "source": [
    "## Tokens per answer\n",
    "How many tokens on average does each answer contain?\n",
    "\n",
    "We'll look at this for both the original answers and the annotations."
   ]
  },
  {
   "cell_type": "code",
   "execution_count": 22,
   "id": "compressed-flour",
   "metadata": {
    "scrolled": true
   },
   "outputs": [
    {
     "name": "stdout",
     "output_type": "stream",
     "text": [
      "Original answers have 1.47 +/- 0.68 tokens.\n",
      "Annotated answers have 1.36 +/- 0.68 tokens.\n"
     ]
    },
    {
     "data": {
      "text/plain": "<seaborn.axisgrid.FacetGrid at 0x7f32afae4e80>"
     },
     "execution_count": 22,
     "metadata": {},
     "output_type": "execute_result"
    },
    {
     "data": {
      "text/plain": "<Figure size 554.485x360 with 1 Axes>",
      "image/png": "[encoded data removed]"
     },
     "metadata": {
      "needs_background": "light"
     },
     "output_type": "display_data"
    }
   ],
   "source": [
    "from nltk.tokenize import WordPunctTokenizer\n",
    "\n",
    "tokenizer = WordPunctTokenizer()\n",
    "\n",
    "original_answers_df = pd.DataFrame(valid_instances_original_answers)\n",
    "original_answers_df[\"Tokens\"] = original_answers_df.Answer.apply(lambda answer: len(tokenizer.tokenize(answer)))\n",
    "\n",
    "flat_annotations = [answer\n",
    "                    for instance in valid_instances\n",
    "                    for worker_answers in instance[\"annotations_norm\"]\n",
    "                    for answer in worker_answers\n",
    "                    if answer]\n",
    "annotations_df = pd.DataFrame({\"Answer\": flat_annotations})\n",
    "annotations_df[\"Tokens\"] = annotations_df.Answer.apply(lambda answer: len(tokenizer.tokenize(answer)))\n",
    "\n",
    "original_answer_token_counts = original_answers_df[\"Tokens\"]\n",
    "annotation_answers_token_counts = annotations_df[\"Tokens\"]\n",
    "\n",
    "print(\n",
    "    f\"Original answers have {original_answer_token_counts.mean():.2f} +/- {original_answer_token_counts.std():.2f} tokens.\")\n",
    "print(\n",
    "    f\"Annotated answers have {annotation_answers_token_counts.mean():.2f} +/- {annotation_answers_token_counts.std():.2f} tokens.\")\n",
    "\n",
    "answers_df = pd.concat([\n",
    "    original_answers_df.assign(Source=\"Original answers\"),\n",
    "    annotations_df.assign(Source=\"Annotations\")\n",
    "]).reset_index(drop=True)\n",
    "\n",
    "sns.displot(answers_df, x=\"Tokens\", hue=\"Source\", discrete=True, stat=\"percent\", common_norm=False).set(yscale=\"log\")"
   ]
  },
  {
   "cell_type": "markdown",
   "id": "honey-horizontal",
   "metadata": {},
   "source": [
    "### What are the longest answers in each set?"
   ]
  },
  {
   "cell_type": "markdown",
   "source": [
    "Longest original answers:"
   ],
   "metadata": {
    "collapsed": false,
    "pycharm": {
     "name": "#%% md\n"
    }
   }
  },
  {
   "cell_type": "code",
   "execution_count": 23,
   "id": "automated-election",
   "metadata": {
    "scrolled": true
   },
   "outputs": [
    {
     "data": {
      "text/plain": "                                                   Answer  Tokens\nt-COcCPV-T4_20_30            black and white knitting kit       5\n_Ex5WBnrN34_77_87             blue top and black trousers       5\nBy1lQRot9eo_35_45           innocent cute little baby boy       5\n9d-ZXcIbYpk_94_104         loud and annoying music blares       5\n_kQxazaUhMk_1_11     beautiful looking oil based painting       5\nc8N9aqGstfg_132_142          jumbo chocolate chip cookies       4\n31uPgVZtekA_149_159         ornately costumed dance squad       4\ns8cxQ0a-KrE_152_162              strung out teenage girls       4\nT_HXAfZDKdE_0_10                  his messy computer desk       4\nI7_PuNpdjXU_6_16                      cows back end shows       4\njMo78oeASw0_2_12              his rock climbing equipment       4\nJeNGL6M9Bok_13_23                 large multiple dig site       4\n5a-rZC5N7_Q_12_22              her very colorful leggings       4\ncb_0g6IUo-Y_51_61           orange high visubility jacket       4\nA7OEqtzdgXk_0_10                    track and field event       4\nf6PfnccDmsk_0_10                    very well built woman       4\nA9_HJgc-Fy4_12_22                  about nine game pieces       4\n_AaDsob5lcE_0_10             another persons belly button       4\nDC6QxHYLNYU_53_63                 lettuce and blue cheese       4\nPKf2A3ve3F0_0_10             complex stretching yoga pose       4",
      "text/html": "<div>\n<style scoped>\n    .dataframe tbody tr th:only-of-type {\n        vertical-align: middle;\n    }\n\n    .dataframe tbody tr th {\n        vertical-align: top;\n    }\n\n    .dataframe thead th {\n        text-align: right;\n    }\n</style>\n<table border=\"1\" class=\"dataframe\">\n  <thead>\n    <tr style=\"text-align: right;\">\n      <th></th>\n      <th>Answer</th>\n      <th>Tokens</th>\n    </tr>\n  </thead>\n  <tbody>\n    <tr>\n      <th>t-COcCPV-T4_20_30</th>\n      <td>black and white knitting kit</td>\n      <td>5</td>\n    </tr>\n    <tr>\n      <th>_Ex5WBnrN34_77_87</th>\n      <td>blue top and black trousers</td>\n      <td>5</td>\n    </tr>\n    <tr>\n      <th>By1lQRot9eo_35_45</th>\n      <td>innocent cute little baby boy</td>\n      <td>5</td>\n    </tr>\n    <tr>\n      <th>9d-ZXcIbYpk_94_104</th>\n      <td>loud and annoying music blares</td>\n      <td>5</td>\n    </tr>\n    <tr>\n      <th>_kQxazaUhMk_1_11</th>\n      <td>beautiful looking oil based painting</td>\n      <td>5</td>\n    </tr>\n    <tr>\n      <th>c8N9aqGstfg_132_142</th>\n      <td>jumbo chocolate chip cookies</td>\n      <td>4</td>\n    </tr>\n    <tr>\n      <th>31uPgVZtekA_149_159</th>\n      <td>ornately costumed dance squad</td>\n      <td>4</td>\n    </tr>\n    <tr>\n      <th>s8cxQ0a-KrE_152_162</th>\n      <td>strung out teenage girls</td>\n      <td>4</td>\n    </tr>\n    <tr>\n      <th>T_HXAfZDKdE_0_10</th>\n      <td>his messy computer desk</td>\n      <td>4</td>\n    </tr>\n    <tr>\n      <th>I7_PuNpdjXU_6_16</th>\n      <td>cows back end shows</td>\n      <td>4</td>\n    </tr>\n    <tr>\n      <th>jMo78oeASw0_2_12</th>\n      <td>his rock climbing equipment</td>\n      <td>4</td>\n    </tr>\n    <tr>\n      <th>JeNGL6M9Bok_13_23</th>\n      <td>large multiple dig site</td>\n      <td>4</td>\n    </tr>\n    <tr>\n      <th>5a-rZC5N7_Q_12_22</th>\n      <td>her very colorful leggings</td>\n      <td>4</td>\n    </tr>\n    <tr>\n      <th>cb_0g6IUo-Y_51_61</th>\n      <td>orange high visubility jacket</td>\n      <td>4</td>\n    </tr>\n    <tr>\n      <th>A7OEqtzdgXk_0_10</th>\n      <td>track and field event</td>\n      <td>4</td>\n    </tr>\n    <tr>\n      <th>f6PfnccDmsk_0_10</th>\n      <td>very well built woman</td>\n      <td>4</td>\n    </tr>\n    <tr>\n      <th>A9_HJgc-Fy4_12_22</th>\n      <td>about nine game pieces</td>\n      <td>4</td>\n    </tr>\n    <tr>\n      <th>_AaDsob5lcE_0_10</th>\n      <td>another persons belly button</td>\n      <td>4</td>\n    </tr>\n    <tr>\n      <th>DC6QxHYLNYU_53_63</th>\n      <td>lettuce and blue cheese</td>\n      <td>4</td>\n    </tr>\n    <tr>\n      <th>PKf2A3ve3F0_0_10</th>\n      <td>complex stretching yoga pose</td>\n      <td>4</td>\n    </tr>\n  </tbody>\n</table>\n</div>"
     },
     "execution_count": 23,
     "metadata": {},
     "output_type": "execute_result"
    }
   ],
   "source": [
    "original_answers_sorted_df = original_answers_df.sort_values(\"Tokens\", ascending=False)\n",
    "original_answers_sorted_df = original_answers_sorted_df[~original_answers_sorted_df.index.duplicated()]\n",
    "original_answers_sorted_df.head(20)"
   ]
  },
  {
   "cell_type": "markdown",
   "source": [
    "Longest annotated answers:"
   ],
   "metadata": {
    "collapsed": false,
    "pycharm": {
     "name": "#%% md\n"
    }
   }
  },
  {
   "cell_type": "code",
   "execution_count": 24,
   "outputs": [
    {
     "data": {
      "text/plain": "                                                  Answer  Tokens\n36943            man who looks like to be in his mid 30s      10\n19523    how she always has handful of dog food to start      10\n21336  2 teams one in yellow jerseys and one white je...      10\n18364        poor animal who needs its wool to stay warm       9\n30254            man who looks like hes in his early 20s       9\n15099                  2 people total and 1 in full view       8\n6628                 boy in black and boy in blue tshirt       8\n13188     cowboy wearing blue jeans and blue jean jacket       8\n7111     male wearing shoes and black pants with stripes       8\n7165              2 young kids with shorts and no shirts       8\n33977                 how to hit golf ball close to hole       8\n26886                   young man in black shirt and hat       7\n16156       shirtless man with black bottom bathing suit       7\n33990                    how to land just short of green       7\n24149  conversation about how professionalism and eth...       7\n29707                      how much he is using to clean       7\n7144                 while sitting and using fork to eat       7\n5784               2 males wearing blue shirt and shorts       7\n28114                       ball that is in front of him       7\n8842                  man in white shirt and black pants       7",
      "text/html": "<div>\n<style scoped>\n    .dataframe tbody tr th:only-of-type {\n        vertical-align: middle;\n    }\n\n    .dataframe tbody tr th {\n        vertical-align: top;\n    }\n\n    .dataframe thead th {\n        text-align: right;\n    }\n</style>\n<table border=\"1\" class=\"dataframe\">\n  <thead>\n    <tr style=\"text-align: right;\">\n      <th></th>\n      <th>Answer</th>\n      <th>Tokens</th>\n    </tr>\n  </thead>\n  <tbody>\n    <tr>\n      <th>36943</th>\n      <td>man who looks like to be in his mid 30s</td>\n      <td>10</td>\n    </tr>\n    <tr>\n      <th>19523</th>\n      <td>how she always has handful of dog food to start</td>\n      <td>10</td>\n    </tr>\n    <tr>\n      <th>21336</th>\n      <td>2 teams one in yellow jerseys and one white je...</td>\n      <td>10</td>\n    </tr>\n    <tr>\n      <th>18364</th>\n      <td>poor animal who needs its wool to stay warm</td>\n      <td>9</td>\n    </tr>\n    <tr>\n      <th>30254</th>\n      <td>man who looks like hes in his early 20s</td>\n      <td>9</td>\n    </tr>\n    <tr>\n      <th>15099</th>\n      <td>2 people total and 1 in full view</td>\n      <td>8</td>\n    </tr>\n    <tr>\n      <th>6628</th>\n      <td>boy in black and boy in blue tshirt</td>\n      <td>8</td>\n    </tr>\n    <tr>\n      <th>13188</th>\n      <td>cowboy wearing blue jeans and blue jean jacket</td>\n      <td>8</td>\n    </tr>\n    <tr>\n      <th>7111</th>\n      <td>male wearing shoes and black pants with stripes</td>\n      <td>8</td>\n    </tr>\n    <tr>\n      <th>7165</th>\n      <td>2 young kids with shorts and no shirts</td>\n      <td>8</td>\n    </tr>\n    <tr>\n      <th>33977</th>\n      <td>how to hit golf ball close to hole</td>\n      <td>8</td>\n    </tr>\n    <tr>\n      <th>26886</th>\n      <td>young man in black shirt and hat</td>\n      <td>7</td>\n    </tr>\n    <tr>\n      <th>16156</th>\n      <td>shirtless man with black bottom bathing suit</td>\n      <td>7</td>\n    </tr>\n    <tr>\n      <th>33990</th>\n      <td>how to land just short of green</td>\n      <td>7</td>\n    </tr>\n    <tr>\n      <th>24149</th>\n      <td>conversation about how professionalism and eth...</td>\n      <td>7</td>\n    </tr>\n    <tr>\n      <th>29707</th>\n      <td>how much he is using to clean</td>\n      <td>7</td>\n    </tr>\n    <tr>\n      <th>7144</th>\n      <td>while sitting and using fork to eat</td>\n      <td>7</td>\n    </tr>\n    <tr>\n      <th>5784</th>\n      <td>2 males wearing blue shirt and shorts</td>\n      <td>7</td>\n    </tr>\n    <tr>\n      <th>28114</th>\n      <td>ball that is in front of him</td>\n      <td>7</td>\n    </tr>\n    <tr>\n      <th>8842</th>\n      <td>man in white shirt and black pants</td>\n      <td>7</td>\n    </tr>\n  </tbody>\n</table>\n</div>"
     },
     "execution_count": 24,
     "metadata": {},
     "output_type": "execute_result"
    }
   ],
   "source": [
    "annotations_sorted_df = annotations_df.sort_values(\"Tokens\", ascending=False)\n",
    "annotations_sorted_df = annotations_sorted_df[~annotations_sorted_df.index.duplicated()]\n",
    "annotations_sorted_df.head(20)"
   ],
   "metadata": {
    "collapsed": false,
    "pycharm": {
     "name": "#%%\n"
    }
   }
  },
  {
   "cell_type": "markdown",
   "id": "finished-attribute",
   "metadata": {},
   "source": [
    "The longest original answers tend to have multiple adjectives (`an innocent cute little baby boy`) and possessive markers (`his toy train set`).\n",
    "\n",
    "The longest annotated answers tend to have coordination (`boy in black and boy in blue tshirt`) and long, unnecessary subclauses (`poor animal who needs it's wool to stay warm`)."
   ]
  },
  {
   "cell_type": "markdown",
   "id": "fuzzy-connecticut",
   "metadata": {},
   "source": [
    "### Chars per token\n",
    "How long is each token? We expect that the tokens in the original answers will be slightly longer than the tokens for the annotations."
   ]
  },
  {
   "cell_type": "code",
   "execution_count": 25,
   "id": "bound-mailman",
   "metadata": {},
   "outputs": [
    {
     "data": {
      "text/plain": "<seaborn.axisgrid.FacetGrid at 0x7f32af97e5b0>"
     },
     "execution_count": 25,
     "metadata": {},
     "output_type": "execute_result"
    },
    {
     "data": {
      "text/plain": "<Figure size 554.485x360 with 1 Axes>",
      "image/png": "[encoded data removed]"
     },
     "metadata": {
      "needs_background": "light"
     },
     "output_type": "display_data"
    }
   ],
   "source": [
    "original_answer_token_chars = pd.Series((len(token)\n",
    "                                         for answer in original_answers_df.Answer\n",
    "                                         for token in tokenizer.tokenize(answer)), name=\"Chars per token\")\n",
    "annotation_answer_token_chars = pd.Series((len(token)\n",
    "                                           for answer in annotations_df.Answer\n",
    "                                           for token in tokenizer.tokenize(answer)), name=\"Chars per token\")\n",
    "\n",
    "answer_token_chars_df = pd.concat([\n",
    "    pd.DataFrame(original_answer_token_chars).assign(Source=\"Original answers\"),\n",
    "    pd.DataFrame(annotation_answer_token_chars).assign(Source=\"Annotations\")\n",
    "]).reset_index(drop=True)\n",
    "\n",
    "sns.displot(answer_token_chars_df, x=\"Chars per token\", hue=\"Source\", discrete=True, stat=\"percent\",\n",
    "            common_norm=False).set(yscale=\"log\")"
   ]
  },
  {
   "cell_type": "code",
   "execution_count": 26,
   "id": "directed-jewelry",
   "metadata": {},
   "outputs": [
    {
     "name": "stdout",
     "output_type": "stream",
     "text": [
      "Original answer tokens have mean char len 5.09 +/- 1.89\n",
      "Annotations have mean char len 5.26 +/- 2.01\n"
     ]
    }
   ],
   "source": [
    "print(\n",
    "    f\"Original answer tokens have mean char len {original_answer_token_chars.mean():1.2f} +/- {original_answer_token_chars.std():1.2f}\")\n",
    "print(\n",
    "    f\"Annotations have mean char len {annotation_answer_token_chars.mean():1.2f} +/- {annotation_answer_token_chars.std():1.2f}\")"
   ]
  },
  {
   "cell_type": "markdown",
   "id": "suspected-ebony",
   "metadata": {},
   "source": [
    "The annotations are slightly longer than the labels, due to the longer tail of extra-long tokens (annotator creativity?)."
   ]
  },
  {
   "cell_type": "markdown",
   "id": "human-protection",
   "metadata": {},
   "source": [
    "## Unique answers per question\n",
    "How many unique answers does each question get?"
   ]
  },
  {
   "cell_type": "code",
   "execution_count": 27,
   "id": "referenced-concert",
   "metadata": {},
   "outputs": [
    {
     "data": {
      "text/plain": "<Figure size 360x360 with 1 Axes>",
      "image/png": "[encoded data removed]"
     },
     "metadata": {
      "needs_background": "light"
     },
     "output_type": "display_data"
    }
   ],
   "source": [
    "num_unique_answers_by_question = {instance[\"id\"]: len({answer.lower()\n",
    "                                                       for worker_answers in instance[\"annotations_norm\"]\n",
    "                                                       for answer in worker_answers})\n",
    "                                  for instance in valid_instances}\n",
    "num_unique_answers_per_question = pd.Series(num_unique_answers_by_question, index=num_unique_answers_by_question.keys(),\n",
    "                                            name=\"Unique answers\")\n",
    "sns.displot(num_unique_answers_per_question, discrete=True).set(title=\"Unique answers per question\")\n",
    "plt.gcf().savefig(\"unique_answers_per_question.pdf\", bbox_inches=\"tight\")"
   ]
  },
  {
   "cell_type": "code",
   "execution_count": 28,
   "outputs": [
    {
     "data": {
      "text/plain": "<Figure size 360x360 with 1 Axes>",
      "image/png": "[encoded data removed]"
     },
     "metadata": {
      "needs_background": "light"
     },
     "output_type": "display_data"
    }
   ],
   "source": [
    "num_unique_answers_per_question_per_annotator = pd.Series(\n",
    "    (sum(len({y.lower() for y in x}) for x in instance[\"annotations_norm\"]) / len(instance[\"annotations_norm\"])\n",
    "     for instance in valid_instances), name=\"Unique answers per annotator\")\n",
    "sns.displot(num_unique_answers_per_question_per_annotator).set(title=\"Unique answers per annotator per question\")\n",
    "plt.gcf().savefig(\"unique_answers_per_annotator_per_question.pdf\", bbox_inches=\"tight\")"
   ],
   "metadata": {
    "collapsed": false,
    "pycharm": {
     "name": "#%%\n"
    }
   }
  },
  {
   "cell_type": "code",
   "execution_count": 29,
   "outputs": [
    {
     "name": "stdout",
     "output_type": "stream",
     "text": [
      "The questions have an average of 13.21 +/- 4.07 unique answers.\n",
      "The annotators have an average of 2.63 +/- 0.49 unique answers per question.\n"
     ]
    }
   ],
   "source": [
    "print(f\"The questions have an average of {num_unique_answers_per_question.mean():.2f}\"\n",
    "      f\" +/- {num_unique_answers_per_question.std():.2f} unique answers.\")\n",
    "print(f\"The annotators have an average of {num_unique_answers_per_question_per_annotator.mean():.2f}\"\n",
    "      f\" +/- {num_unique_answers_per_question_per_annotator.std():.2f} unique answers per question.\")"
   ],
   "metadata": {
    "collapsed": false,
    "pycharm": {
     "name": "#%%\n"
    }
   }
  },
  {
   "cell_type": "markdown",
   "id": "missing-sheep",
   "metadata": {},
   "source": [
    "Most questions have around 13 unique labels total and 2.6 unique labels per annotator.\n",
    "\n",
    "Is there a relationship between number of unique answers of a question, and it's agreement with the original phrase?"
   ]
  },
  {
   "cell_type": "code",
   "execution_count": 30,
   "outputs": [
    {
     "data": {
      "text/plain": "<seaborn.axisgrid.FacetGrid at 0x7f32af8a6cd0>"
     },
     "execution_count": 30,
     "metadata": {},
     "output_type": "execute_result"
    },
    {
     "data": {
      "text/plain": "<Figure size 360x360 with 1 Axes>",
      "image/png": "[encoded data removed]"
     },
     "metadata": {
      "needs_background": "light"
     },
     "output_type": "display_data"
    }
   ],
   "source": [
    "sns.relplot(data=pd.DataFrame(num_unique_answers_per_question).join(f1_scores), x=\"Unique answers\", y=\"F1\", kind=\"line\")"
   ],
   "metadata": {
    "collapsed": false,
    "pycharm": {
     "name": "#%%\n"
    }
   }
  },
  {
   "cell_type": "markdown",
   "source": [
    "### Inter-annotator agreement and the unique number of answers"
   ],
   "metadata": {
    "collapsed": false,
    "pycharm": {
     "name": "#%% md\n"
    }
   }
  },
  {
   "cell_type": "markdown",
   "source": [
    "Does the number of unique answers affect the inter-annotator agreement (leave-one-worker-out performance)?"
   ],
   "metadata": {
    "collapsed": false,
    "pycharm": {
     "name": "#%% md\n"
    }
   }
  },
  {
   "cell_type": "code",
   "execution_count": 31,
   "outputs": [],
   "source": [
    "from collections import defaultdict\n",
    "\n",
    "from lqam.methods.metrics import F1ScoreMany\n",
    "\n",
    "f1_score_by_instance = defaultdict(lambda: F1ScoreMany())\n",
    "\n",
    "for instance in valid_instances:\n",
    "    original_answer = instance[\"label_norm\"]\n",
    "    additional_answers = instance[\"annotations_norm\"]\n",
    "    for i in range(len(additional_answers)):\n",
    "        first_worker_answer = additional_answers[i][0]\n",
    "        rest = additional_answers[:i] + additional_answers[i + 1:]\n",
    "        f1_score_by_instance[instance[\"id\"]]([first_worker_answer], [original_answer], [rest])\n",
    "\n",
    "f1_scores_inter = pd.Series((v.compute().item() for v in f1_score_by_instance.values()),\n",
    "                            index=f1_score_by_instance.keys(), name=\"F1\")"
   ],
   "metadata": {
    "collapsed": false,
    "pycharm": {
     "name": "#%%\n"
    }
   }
  },
  {
   "cell_type": "code",
   "execution_count": 32,
   "outputs": [
    {
     "data": {
      "text/plain": "0.8283176495598591"
     },
     "execution_count": 32,
     "metadata": {},
     "output_type": "execute_result"
    }
   ],
   "source": [
    "f1_scores_inter.mean()"
   ],
   "metadata": {
    "collapsed": false,
    "pycharm": {
     "name": "#%%\n"
    }
   }
  },
  {
   "cell_type": "code",
   "execution_count": 33,
   "outputs": [
    {
     "data": {
      "text/plain": "<seaborn.axisgrid.FacetGrid at 0x7f32af62eac0>"
     },
     "execution_count": 33,
     "metadata": {},
     "output_type": "execute_result"
    },
    {
     "data": {
      "text/plain": "<Figure size 360x360 with 1 Axes>",
      "image/png": "[encoded data removed]"
     },
     "metadata": {
      "needs_background": "light"
     },
     "output_type": "display_data"
    }
   ],
   "source": [
    "sns.relplot(data=pd.DataFrame(num_unique_answers_per_question).join(f1_scores_inter), x=\"Unique answers\", y=\"F1\",\n",
    "            kind=\"line\")"
   ],
   "metadata": {
    "collapsed": false,
    "pycharm": {
     "name": "#%%\n"
    }
   }
  },
  {
   "cell_type": "markdown",
   "source": [],
   "metadata": {
    "collapsed": false,
    "pycharm": {
     "name": "#%% md\n"
    }
   }
  },
  {
   "cell_type": "code",
   "execution_count": 34,
   "outputs": [
    {
     "data": {
      "text/plain": "<Figure size 360x360 with 1 Axes>",
      "image/png": "[encoded data removed]"
     },
     "metadata": {
      "needs_background": "light"
     },
     "output_type": "display_data"
    }
   ],
   "source": [
    "annotator_count = pd.Series((len(instance[\"annotations_norm\"]) for instance in valid_instances),\n",
    "                            index=(instance[\"id\"] for instance in valid_instances), name=\"Annotators\")\n",
    "sns.relplot(data=pd.DataFrame(annotator_count).join(f1_scores_inter), x=\"Annotators\", y=\"F1\",\n",
    "            kind=\"line\").set(xticks=range(1, 10))\n",
    "plt.gcf().savefig(\"human_performance_by_annotator_count.pdf\", bbox_inches=\"tight\")"
   ],
   "metadata": {
    "collapsed": false,
    "pycharm": {
     "name": "#%%\n"
    }
   }
  },
  {
   "cell_type": "markdown",
   "source": [
    "### Questions with the highest number of unique answers per annotator"
   ],
   "metadata": {
    "collapsed": false,
    "pycharm": {
     "name": "#%% md\n"
    }
   }
  },
  {
   "cell_type": "markdown",
   "id": "progressive-switch",
   "metadata": {},
   "source": [
    "Which questions have the highest number of unique answers per annotator?"
   ]
  },
  {
   "cell_type": "code",
   "execution_count": 35,
   "id": "mineral-variety",
   "metadata": {
    "scrolled": true
   },
   "outputs": [
    {
     "data": {
      "text/plain": "                                                                                                                                      prompt  \\\n1545                                                                        _____ attempts to throw a snowball but it falls out of his hand.   \n1546                                          _____ stands in front of a stone wall then jumps towards it and rebounds off it with his legs.   \n1037                                                                      _____ have a pillow fight and then argue about only using pillows.   \n1322                                                                                     _____ demonstrates how to unlock and open a window.   \n936                                                                              _____ kicks soccer balls into a net while on a grass field.   \n590                                                       _____ peels a potato with an extra large peeler than can also be used on zucchini.   \n428                                                                             A group of _____ in pink tutus dancing in a circle on stage.   \n261   A man is walking by _____ that is completely full then comes back and smashes the computer monitor sitting on top with a baseball bat.   \n577                                                                                    _____ plays an instrument while wearing a pink shirt.   \n606                                                                           _____ is styling a person's hair using a blow dryer and brush.   \n\n     unique_label_count unique_labels  \n1545           5.333333            31  \n1546           4.555556            25  \n1037           4.444444            25  \n1322              4.375            24  \n936            4.333333            20  \n590               4.125            16  \n428            4.111111            14  \n261            4.111111            26  \n577            4.111111            19  \n606            4.111111            17  ",
      "text/html": "<div>\n<style scoped>\n    .dataframe tbody tr th:only-of-type {\n        vertical-align: middle;\n    }\n\n    .dataframe tbody tr th {\n        vertical-align: top;\n    }\n\n    .dataframe thead th {\n        text-align: right;\n    }\n</style>\n<table border=\"1\" class=\"dataframe\">\n  <thead>\n    <tr style=\"text-align: right;\">\n      <th></th>\n      <th>prompt</th>\n      <th>unique_label_count</th>\n      <th>unique_labels</th>\n    </tr>\n  </thead>\n  <tbody>\n    <tr>\n      <th>1545</th>\n      <td>_____ attempts to throw a snowball but it falls out of his hand.</td>\n      <td>5.333333</td>\n      <td>31</td>\n    </tr>\n    <tr>\n      <th>1546</th>\n      <td>_____ stands in front of a stone wall then jumps towards it and rebounds off it with his legs.</td>\n      <td>4.555556</td>\n      <td>25</td>\n    </tr>\n    <tr>\n      <th>1037</th>\n      <td>_____ have a pillow fight and then argue about only using pillows.</td>\n      <td>4.444444</td>\n      <td>25</td>\n    </tr>\n    <tr>\n      <th>1322</th>\n      <td>_____ demonstrates how to unlock and open a window.</td>\n      <td>4.375</td>\n      <td>24</td>\n    </tr>\n    <tr>\n      <th>936</th>\n      <td>_____ kicks soccer balls into a net while on a grass field.</td>\n      <td>4.333333</td>\n      <td>20</td>\n    </tr>\n    <tr>\n      <th>590</th>\n      <td>_____ peels a potato with an extra large peeler than can also be used on zucchini.</td>\n      <td>4.125</td>\n      <td>16</td>\n    </tr>\n    <tr>\n      <th>428</th>\n      <td>A group of _____ in pink tutus dancing in a circle on stage.</td>\n      <td>4.111111</td>\n      <td>14</td>\n    </tr>\n    <tr>\n      <th>261</th>\n      <td>A man is walking by _____ that is completely full then comes back and smashes the computer monitor sitting on top with a baseball bat.</td>\n      <td>4.111111</td>\n      <td>26</td>\n    </tr>\n    <tr>\n      <th>577</th>\n      <td>_____ plays an instrument while wearing a pink shirt.</td>\n      <td>4.111111</td>\n      <td>19</td>\n    </tr>\n    <tr>\n      <th>606</th>\n      <td>_____ is styling a person's hair using a blow dryer and brush.</td>\n      <td>4.111111</td>\n      <td>17</td>\n    </tr>\n  </tbody>\n</table>\n</div>"
     },
     "metadata": {},
     "output_type": "display_data"
    }
   ],
   "source": [
    "unique_answers_per_question_per_annotator_df = pd.DataFrame([\n",
    "    (instance[\"masked_caption\"] for instance in valid_instances),\n",
    "    num_unique_answers_per_question_per_annotator,\n",
    "    num_unique_answers_per_question,\n",
    "], index=[\"prompt\", \"unique_label_count\", \"unique_labels\"]).transpose()\n",
    "unique_answers_per_question_per_annotator_df = unique_answers_per_question_per_annotator_df.sort_values(\n",
    "    \"unique_label_count\", ascending=False)\n",
    "\n",
    "with pd.option_context(\"display.max_colwidth\", 200):\n",
    "    display(unique_answers_per_question_per_annotator_df.head(10))"
   ]
  },
  {
   "cell_type": "markdown",
   "source": [
    "Questions with the lowest number of unique answers per annotator:"
   ],
   "metadata": {
    "collapsed": false,
    "pycharm": {
     "name": "#%% md\n"
    }
   }
  },
  {
   "cell_type": "code",
   "execution_count": 36,
   "outputs": [
    {
     "data": {
      "text/plain": "                                                                                                 prompt  \\\n721                               A young boy who seems to be timing _____ how fast he can eat a snack.   \n706            Packages of paper are being wrapped in paper plastic and stacked on _____ of each other.   \n1007  A group of people are riding donkeys, some people are riding and _____ are just standing by them.   \n1014                                             A shirtless person lifts a barbell and _____ at a gym.   \n847                              A person is showing how _____ open a beer with a screw driver indoors.   \n989                                A pair of bikers drive around _____ sphere as the crowd cheers them.   \n1686                                           A child is _____ and does not seem to be happy about it.   \n1169                                                          A woman with _____ her face with a towel.   \n1225                            A woman is exercising with dumb bells and another woman whispers _____.   \n142                                                      A baby is listening to a lady's song as _____.   \n\n     unique_label_count unique_labels  \n721            1.285714             6  \n706                1.25             5  \n1007               1.25             3  \n1014               1.25             3  \n847                 1.0             4  \n989                 1.0             1  \n1686                1.0             1  \n1169                1.0             1  \n1225                1.0             3  \n142                 1.0             1  ",
      "text/html": "<div>\n<style scoped>\n    .dataframe tbody tr th:only-of-type {\n        vertical-align: middle;\n    }\n\n    .dataframe tbody tr th {\n        vertical-align: top;\n    }\n\n    .dataframe thead th {\n        text-align: right;\n    }\n</style>\n<table border=\"1\" class=\"dataframe\">\n  <thead>\n    <tr style=\"text-align: right;\">\n      <th></th>\n      <th>prompt</th>\n      <th>unique_label_count</th>\n      <th>unique_labels</th>\n    </tr>\n  </thead>\n  <tbody>\n    <tr>\n      <th>721</th>\n      <td>A young boy who seems to be timing _____ how fast he can eat a snack.</td>\n      <td>1.285714</td>\n      <td>6</td>\n    </tr>\n    <tr>\n      <th>706</th>\n      <td>Packages of paper are being wrapped in paper plastic and stacked on _____ of each other.</td>\n      <td>1.25</td>\n      <td>5</td>\n    </tr>\n    <tr>\n      <th>1007</th>\n      <td>A group of people are riding donkeys, some people are riding and _____ are just standing by them.</td>\n      <td>1.25</td>\n      <td>3</td>\n    </tr>\n    <tr>\n      <th>1014</th>\n      <td>A shirtless person lifts a barbell and _____ at a gym.</td>\n      <td>1.25</td>\n      <td>3</td>\n    </tr>\n    <tr>\n      <th>847</th>\n      <td>A person is showing how _____ open a beer with a screw driver indoors.</td>\n      <td>1.0</td>\n      <td>4</td>\n    </tr>\n    <tr>\n      <th>989</th>\n      <td>A pair of bikers drive around _____ sphere as the crowd cheers them.</td>\n      <td>1.0</td>\n      <td>1</td>\n    </tr>\n    <tr>\n      <th>1686</th>\n      <td>A child is _____ and does not seem to be happy about it.</td>\n      <td>1.0</td>\n      <td>1</td>\n    </tr>\n    <tr>\n      <th>1169</th>\n      <td>A woman with _____ her face with a towel.</td>\n      <td>1.0</td>\n      <td>1</td>\n    </tr>\n    <tr>\n      <th>1225</th>\n      <td>A woman is exercising with dumb bells and another woman whispers _____.</td>\n      <td>1.0</td>\n      <td>3</td>\n    </tr>\n    <tr>\n      <th>142</th>\n      <td>A baby is listening to a lady's song as _____.</td>\n      <td>1.0</td>\n      <td>1</td>\n    </tr>\n  </tbody>\n</table>\n</div>"
     },
     "metadata": {},
     "output_type": "display_data"
    }
   ],
   "source": [
    "with pd.option_context(\"display.max_colwidth\", 200):\n",
    "    display(unique_answers_per_question_per_annotator_df.tail(10))"
   ],
   "metadata": {
    "collapsed": false,
    "pycharm": {
     "name": "#%%\n"
    }
   }
  },
  {
   "cell_type": "markdown",
   "id": "recreational-database",
   "metadata": {},
   "source": [
    "Questions with a higher number of unique answers seem to inspire creative answers (`____ kicks soccer balls into a net` => different paraphrases for `player`) and address multiple possible aspects of an event due to ambiguity (`____ are each wrapping` => different configurations of children).\n",
    "\n",
    "Questions with a lower number of unique answers seem to have very specific scenarios without room for paraphrasing or ambiguity (`___ at gym` => can only add `weights` as logical caption)."
   ]
  },
  {
   "cell_type": "markdown",
   "id": "surrounded-brick",
   "metadata": {},
   "source": [
    "## Assessing visual cues\n",
    "Some nouns and adjectives have more obvious visual cues than others, ex. \"green\" has clear visual component whereas \"kind\" is more subjective.\n",
    "\n",
    "Let's look for these visual cues in the original answers and annotations using some word lists:\n",
    "- color\n",
    "- size\n",
    "- number"
   ]
  },
  {
   "cell_type": "code",
   "execution_count": 37,
   "id": "social-ordinance",
   "metadata": {},
   "outputs": [],
   "source": [
    "# TODO: expand word sets using word embeddings (nearest neighbors + filtering)\n",
    "color_words = {\"red\", \"blue\", \"green\", \"yellow\", \"purple\", \"orange\", \"black\",\n",
    "               \"white\", \"gray\", \"grey\", \"colorful\", \"painted\"}\n",
    "size_words = {\"large\", \"huge\", \"giant\", \"small\", \"little\", \"tiny\"}\n",
    "number_words = {\"one\", \"two\", \"three\", \"four\", \"five\", \"six\", \"seven\", \"eight\",\n",
    "                \"nine\", \"ten\", \"several\", \"few\", \"many\"}\n",
    "combined_visual_words = color_words | size_words | number_words\n",
    "\n",
    "visual_word_sets = [color_words, size_words, number_words, combined_visual_words]\n",
    "visual_word_set_names = [\"color\", \"size\", \"number\", \"combined\"]"
   ]
  },
  {
   "cell_type": "code",
   "execution_count": 38,
   "id": "worse-champion",
   "metadata": {},
   "outputs": [],
   "source": [
    "from lqam.core.metrics import tokenize_answer_to_compute_metrics\n",
    "\n",
    "original_answer_tokens = [tokenize_answer_to_compute_metrics(instance[\"label_norm\"]) for instance in instances]\n",
    "annotations_tokens = [[tokenize_answer_to_compute_metrics(answer) for answer in worker_answers]\n",
    "                      for instance in valid_instances\n",
    "                      for worker_answers in instance[\"annotations_norm\"]]"
   ]
  },
  {
   "cell_type": "code",
   "execution_count": 39,
   "id": "handmade-johns",
   "metadata": {
    "scrolled": true
   },
   "outputs": [
    {
     "data": {
      "text/plain": "<Figure size 360x360 with 1 Axes>",
      "image/png": "[encoded data removed]"
     },
     "metadata": {
      "needs_background": "light"
     },
     "output_type": "display_data"
    },
    {
     "data": {
      "text/plain": "<Figure size 360x360 with 1 Axes>",
      "image/png": "[encoded data removed]"
     },
     "metadata": {
      "needs_background": "light"
     },
     "output_type": "display_data"
    },
    {
     "name": "stdout",
     "output_type": "stream",
     "text": [
      "proportion of <color> word matches for labels:\n",
      "   word_count  label_word_match_pct  annotation_word_match_pct\n",
      "0           0              0.981864                   0.987300\n",
      "1           1              0.017128                   0.012211\n",
      "2           2              0.001008                   0.000489\n",
      "percent of labels with >= 1 matches: \n",
      "label_word_match_pct         0.018136\n",
      "annotation_word_match_pct    0.012700\n",
      "dtype: float64\n"
     ]
    },
    {
     "data": {
      "text/plain": "<Figure size 360x360 with 1 Axes>",
      "image/png": "[encoded data removed]"
     },
     "metadata": {
      "needs_background": "light"
     },
     "output_type": "display_data"
    },
    {
     "data": {
      "text/plain": "<Figure size 360x360 with 1 Axes>",
      "image/png": "[encoded data removed]"
     },
     "metadata": {
      "needs_background": "light"
     },
     "output_type": "display_data"
    },
    {
     "name": "stdout",
     "output_type": "stream",
     "text": [
      "proportion of <size> word matches for labels:\n",
      "   word_count  label_word_match_pct  annotation_word_match_pct\n",
      "0           0              0.971285                   0.990547\n",
      "1           1              0.028715                   0.009453\n",
      "percent of labels with >= 1 matches: \n",
      "label_word_match_pct         0.028715\n",
      "annotation_word_match_pct    0.009453\n",
      "dtype: float64\n"
     ]
    },
    {
     "data": {
      "text/plain": "<Figure size 360x360 with 1 Axes>",
      "image/png": "[encoded data removed]"
     },
     "metadata": {
      "needs_background": "light"
     },
     "output_type": "display_data"
    },
    {
     "data": {
      "text/plain": "<Figure size 360x360 with 1 Axes>",
      "image/png": "[encoded data removed]"
     },
     "metadata": {
      "needs_background": "light"
     },
     "output_type": "display_data"
    },
    {
     "name": "stdout",
     "output_type": "stream",
     "text": [
      "proportion of <number> word matches for labels:\n",
      "   word_count  label_word_match_pct  annotation_word_match_pct\n",
      "0           0              0.961713                   0.987834\n",
      "1           1              0.038287                   0.012166\n",
      "percent of labels with >= 1 matches: \n",
      "label_word_match_pct         0.038287\n",
      "annotation_word_match_pct    0.012166\n",
      "dtype: float64\n"
     ]
    },
    {
     "data": {
      "text/plain": "<Figure size 360x360 with 1 Axes>",
      "image/png": "[encoded data removed]"
     },
     "metadata": {
      "needs_background": "light"
     },
     "output_type": "display_data"
    },
    {
     "data": {
      "text/plain": "<Figure size 360x360 with 1 Axes>",
      "image/png": "[encoded data removed]"
     },
     "metadata": {
      "needs_background": "light"
     },
     "output_type": "display_data"
    },
    {
     "name": "stdout",
     "output_type": "stream",
     "text": [
      "proportion of <combined> word matches for labels:\n",
      "   word_count  label_word_match_pct  annotation_word_match_pct\n",
      "0           0              0.917884                   0.966103\n",
      "1           1              0.078086                   0.033007\n",
      "2           2              0.004030                   0.000867\n",
      "3           3              0.000000                   0.000022\n",
      "percent of labels with >= 1 matches: \n",
      "label_word_match_pct         0.082116\n",
      "annotation_word_match_pct    0.033897\n",
      "dtype: float64\n"
     ]
    }
   ],
   "source": [
    "for visual_word_set, visual_word_set_name in zip(visual_word_sets, visual_word_set_names):\n",
    "    original_answer_matches = [set(answer) & visual_word_set for answer in original_answer_tokens]\n",
    "    annotation_matches = [set(answer) & visual_word_set for worker_answers in annotations_tokens for answer in\n",
    "                          worker_answers]\n",
    "\n",
    "    num_original_answer_matches = pd.Series((len(match) for match in original_answer_matches),\n",
    "                                            name=f\"Original answer {visual_word_set_name} matches\")\n",
    "    num_annotation_matches = pd.Series((len(match) for match in annotation_matches),\n",
    "                                       name=f\"Annotation {visual_word_set_name} matches\")\n",
    "\n",
    "    sns.displot(num_original_answer_matches).set(yscale=\"log\")\n",
    "    plt.show()\n",
    "\n",
    "    sns.displot(num_annotation_matches).set(yscale=\"log\")\n",
    "    plt.show()\n",
    "\n",
    "    # compute proportion of visual words per question\n",
    "    pct_original_answer_matches = pd.Series(num_original_answer_matches).value_counts() / len(\n",
    "        num_original_answer_matches)\n",
    "    pct_annotation_matches = pd.Series(num_annotation_matches).value_counts() / len(num_annotation_matches)\n",
    "    pct_word_matches = pd.concat([pct_original_answer_matches, pct_annotation_matches], axis=1).reset_index().fillna(0.)\n",
    "    pct_word_matches.columns = [\"word_count\", \"label_word_match_pct\", \"annotation_word_match_pct\"]\n",
    "\n",
    "    print(f\"proportion of <{visual_word_set_name}> word matches for labels:\\n{pct_word_matches}\")\n",
    "\n",
    "    above_1_pct_word_matches = pct_word_matches[pct_word_matches.loc[:, \"word_count\"] >= 1].iloc[:, 1:].sum(axis=0)\n",
    "    print(f\"percent of labels with >= 1 matches: \\n{above_1_pct_word_matches}\")"
   ]
  },
  {
   "cell_type": "markdown",
   "id": "uniform-ownership",
   "metadata": {},
   "source": [
    "Overall, the annotations tend to have about the rate of color words as the labels, but the annotations also have fewer size and number words than the labels."
   ]
  },
  {
   "cell_type": "markdown",
   "id": "skilled-blink",
   "metadata": {},
   "source": [
    "What are some example questions where the label contains a visual word but the annotations do not?"
   ]
  },
  {
   "cell_type": "code",
   "execution_count": 40,
   "id": "occupied-police",
   "metadata": {
    "scrolled": true
   },
   "outputs": [
    {
     "name": "stdout",
     "output_type": "stream",
     "text": [
      "*~*~*~* testing word set color *~*~*~*\n",
      "caption=<A red hot piece of bent steel is being formed with a metal sledge hammer on the end of a  steel table.>\n",
      "label=<A red hot piece> has matches <{'red'}>\n",
      "annotations do not have matches: <[['A horseshoe', 'A shoe', 'An arch', 'A U-shape', 'An object'], ['A piece', 'A horseshoe'], ['a rod', 'a segment'], ['hot iron'], ['A large are', 'A big area'], ['A piece', 'A long piece', 'A hot piece'], ['A piece', 'A rod', 'A chunk'], ['A piece', 'A part'], ['A piece', 'A heated piece']]>\n",
      "---------\n",
      "*~*~*~* testing word set size *~*~*~*\n",
      "caption=<A little baby is sitting still while making baby noises.>\n",
      "label=<A little baby> has matches <{'little'}>\n",
      "annotations do not have matches: <[['A baby', 'A child', 'A kid'], ['Jaxson', 'A baby', 'The child', 'An infant'], ['a shirtless baby', 'a baby boy', 'a bald baby', 'baby with no shirt', 'baby with red diaper'], ['The baby', 'The child'], ['A baby', 'The boy'], ['baby', 'infant'], ['a baby', 'an infant'], ['A baby', 'A baby boy'], ['A baby', 'A toddler', 'A child', 'A kid', 'A youngster']]>\n",
      "---------\n",
      "*~*~*~* testing word set number *~*~*~*\n",
      "caption=<A female stands in a bar with a table with three wine glasses on it and she shows how to open a bottle of wine.>\n",
      "label=<three wine glasses> has matches <{'three'}>\n",
      "annotations do not have matches: <[['wine glasses', 'glasses', 'cups', 'napkins', 'utensils', 'a tablecloth'], ['dishes', 'plates'], ['glasses', 'wine glasses', 'dishes', 'plates', 'silverwear'], ['glasses', 'a table cloth'], ['wine glasass', 'large glasses', 'glasses for wine', 'drinking glasses', 'empty glasses'], ['wine glasses', 'a table cloth', 'dinnerware', 'glasses', 'silverware'], ['glasses', 'cups', 'goblets', 'linens'], ['glasses', 'chairs'], ['wine', 'alcohol']]>\n",
      "---------\n",
      "*~*~*~* testing word set combined *~*~*~*\n",
      "caption=<A gir lis trying to stitching up the black and white knitting kit with a knitting needle.>\n",
      "label=<the black and white knitting kit> has matches <{'white', 'black'}>\n",
      "annotations do not have matches: <[['string', 'lace work'], ['the neckerchief', 'the scarf'], ['a scarf', 'a line on a scarf'], ['yarn', 'cloth'], ['a piece of clothing', 'some cloth'], ['a scarf', 'fancy yarn'], ['a scarf', 'her scarf'], ['crochet', 'string', 'thread'], ['a scarf', 'some fabric']]>\n",
      "---------\n"
     ]
    }
   ],
   "source": [
    "valid_original_answer_tokens = [tokenize_answer_to_compute_metrics(instance[\"label_norm\"]) for instance in\n",
    "                                valid_instances]\n",
    "valid_annotations_tokens = [[tokenize_answer_to_compute_metrics(answer)\n",
    "                             for worker_answers in instance[\"annotations_norm\"]\n",
    "                             for answer in worker_answers]\n",
    "                            for instance in valid_instances]\n",
    "\n",
    "valid_annotations_tokens = [[token for answer in instance_answers for token in answer]\n",
    "                            for instance_answers in valid_annotations_tokens]\n",
    "\n",
    "for visual_word_set, visual_word_set_name in zip(visual_word_sets, visual_word_set_names):\n",
    "    print(f\"*~*~*~* testing word set {visual_word_set_name} *~*~*~*\")\n",
    "\n",
    "    original_answer_matches = [set(answer) & visual_word_set for answer in valid_original_answer_tokens]\n",
    "    annotation_matches = [set(answer) & visual_word_set for answer in valid_annotations_tokens]\n",
    "\n",
    "    for i, (instance, instance_original_answer_match, instance_annotation_answers_match) in enumerate(\n",
    "            zip(valid_instances,\n",
    "                original_answer_matches,\n",
    "                annotation_matches)):\n",
    "        if instance_original_answer_match and not instance_annotation_answers_match:\n",
    "            print(f\"caption=<{instance['caption']}>\")\n",
    "            print(f\"label=<{instance['label']}> has matches <{instance_original_answer_match}>\")\n",
    "            print(f\"annotations do not have matches: <{instance['additional_answers']}>\")\n",
    "            print(\"---------\")\n",
    "\n",
    "            if i >= 10:\n",
    "                break"
   ]
  },
  {
   "cell_type": "markdown",
   "id": "collaborative-asian",
   "metadata": {},
   "source": [
    "- Color: the mismatches are due to highly specific captions, no necessary information being conveyed by the color.\n",
    "- Size: the mismatches are due to annotators focusing more on paraphrases for the noun (`little baby`: `child`, `infant`) and different aspects of the scene (`large group`: `group`, `skill`).\n",
    "- Number: the mismatches are due to annotators focusing more on paraphrases for the noun (`two large barbells`: `equipment`, `weights`) and different aspects of the scene (`three wine glasses`: `dishes`, `glasses`)."
   ]
  },
  {
   "cell_type": "markdown",
   "id": "restricted-kingston",
   "metadata": {},
   "source": [
    "## Syntactic complexity\n",
    "\n",
    "Let's look at the relative complexity of the NPs provided by the annotations."
   ]
  },
  {
   "cell_type": "markdown",
   "id": "instant-reproduction",
   "metadata": {},
   "source": [
    "How many labels have extra descriptive information?"
   ]
  },
  {
   "cell_type": "code",
   "execution_count": 41,
   "id": "controlled-zealand",
   "metadata": {},
   "outputs": [],
   "source": [
    "import spacy.tokens\n",
    "\n",
    "def has_descriptor(span: spacy.tokens.Span) -> bool:\n",
    "    return any(t.pos_ == \"ADJ\" for t in span.root.children if t in span)  # noqa\n",
    "\n",
    "\n",
    "assert has_descriptor(instances[0][\"annotation_subtrees\"][3][1])  # true \"a heavy load\"\n",
    "assert not has_descriptor(instances[0][\"annotation_subtrees\"][1][1])  # false \"a bar\""
   ]
  },
  {
   "cell_type": "code",
   "execution_count": 42,
   "outputs": [],
   "source": [
    "original_answers_with_descriptors = [instance\n",
    "                                     for instance in instances\n",
    "                                     if instance[\"label_subtree\"] is not None\n",
    "                                     and has_descriptor(instance[\"label_subtree\"])]\n",
    "annotation_with_descriptors = [[[span\n",
    "                                 for span in worker_spans\n",
    "                                 if span is not None and has_descriptor(span)]\n",
    "                                for worker_spans in instance[\"annotation_subtrees\"]]\n",
    "                               for instance in instances]"
   ],
   "metadata": {
    "collapsed": false,
    "pycharm": {
     "name": "#%%\n"
    }
   }
  },
  {
   "cell_type": "markdown",
   "id": "present-drive",
   "metadata": {},
   "source": [
    "What are some example original answers and annotations with adjectives?"
   ]
  },
  {
   "cell_type": "markdown",
   "source": [
    "Sample original answers with descriptor information:"
   ],
   "metadata": {
    "collapsed": false,
    "pycharm": {
     "name": "#%% md\n"
    }
   }
  },
  {
   "cell_type": "code",
   "execution_count": 43,
   "id": "colored-causing",
   "metadata": {
    "scrolled": true
   },
   "outputs": [
    {
     "name": "stdout",
     "output_type": "stream",
     "text": [
      "the far wall\n",
      "a grassy area\n",
      "A little girl\n",
      "a large purple ball\n",
      "a snowy hill\n",
      "a heavy weight\n",
      "an oversized coat\n",
      "a snowy hill\n",
      "jumbo chocolate chip cookies\n",
      "A young man\n"
     ]
    }
   ],
   "source": [
    "import random\n",
    "\n",
    "for instance in random.sample(original_answers_with_descriptors, k=10):\n",
    "    print(instance[\"label_subtree\"])"
   ]
  },
  {
   "cell_type": "markdown",
   "source": [
    "Sample annotations with descriptor information:"
   ],
   "metadata": {
    "collapsed": false,
    "pycharm": {
     "name": "#%% md\n"
    }
   }
  },
  {
   "cell_type": "code",
   "execution_count": 44,
   "outputs": [
    {
     "name": "stdout",
     "output_type": "stream",
     "text": [
      "black hat\n",
      "many ways\n",
      "a white piece\n",
      "a high chair\n",
      "black hair\n",
      "other players\n",
      "fake animals\n",
      "A flat piece\n",
      "a teenage boy\n",
      "One year old girl\n"
     ]
    }
   ],
   "source": [
    "flatten_annotation_with_descriptors = [span\n",
    "                                       for instance_spans in annotation_with_descriptors\n",
    "                                       for worker_spans in instance_spans\n",
    "                                       for span in worker_spans]\n",
    "for span in random.sample(flatten_annotation_with_descriptors, k=10):\n",
    "    print(span)"
   ],
   "metadata": {
    "collapsed": false,
    "pycharm": {
     "name": "#%%\n"
    }
   }
  },
  {
   "cell_type": "markdown",
   "id": "opened-nevada",
   "metadata": {},
   "source": [
    "The labels and annotations seem to use mostly visual adjectives (`large`, `white`, `black`) as well as some subjective ones (`gentle`, `young`, `chilly`)."
   ]
  },
  {
   "cell_type": "markdown",
   "id": "invisible-absence",
   "metadata": {},
   "source": [
    "Do labels and annotations tend to use the same adjectives?"
   ]
  },
  {
   "cell_type": "markdown",
   "source": [
    "Top descriptor adjectives for the original answers:"
   ],
   "metadata": {
    "collapsed": false,
    "pycharm": {
     "name": "#%% md\n"
    }
   }
  },
  {
   "cell_type": "code",
   "execution_count": 45,
   "id": "absolute-significance",
   "metadata": {
    "scrolled": true
   },
   "outputs": [
    {
     "data": {
      "text/plain": "young        45\nlarge        24\nlittle       19\nsmall        14\nwhite         8\nblack         8\nolder         7\nblue          6\nseveral       6\ndifferent     6\nother         6\nyellow        5\nlong          5\nvarious       5\nteenage       5\nbig           4\nwooden        4\nhigh          4\nindoor        3\nsnowy         3\ndtype: int64"
     },
     "execution_count": 45,
     "metadata": {},
     "output_type": "execute_result"
    }
   ],
   "source": [
    "pd.Series(t.text.lower()\n",
    "          for instance in original_answers_with_descriptors\n",
    "          for t in instance[\"label_subtree\"]\n",
    "          if t.pos_ == \"ADJ\").value_counts().head(20)"
   ]
  },
  {
   "cell_type": "markdown",
   "source": [
    "Top descriptor adjectives for the annotations:"
   ],
   "metadata": {
    "collapsed": false,
    "pycharm": {
     "name": "#%% md\n"
    }
   }
  },
  {
   "cell_type": "code",
   "execution_count": 46,
   "outputs": [
    {
     "data": {
      "text/plain": "young        486\nlittle       156\nsmall        142\nwhite        116\nblack        113\nlarge        104\nother         99\nolder         68\nred           59\nlong          56\nblue          53\nsharp         47\nold           44\nmusical       44\ndifferent     44\nplastic       42\nyellow        37\nheavy         35\nbig           34\nwooden        33\ndtype: int64"
     },
     "execution_count": 46,
     "metadata": {},
     "output_type": "execute_result"
    }
   ],
   "source": [
    "pd.Series(t.text.lower()\n",
    "          for instance_spans in annotation_with_descriptors\n",
    "          for worker_spans in instance_spans\n",
    "          for span in worker_spans\n",
    "          for t in span if t.pos_ == \"ADJ\").value_counts().head(20)"
   ],
   "metadata": {
    "collapsed": false,
    "pycharm": {
     "name": "#%%\n"
    }
   }
  },
  {
   "cell_type": "markdown",
   "id": "congressional-employment",
   "metadata": {},
   "source": [
    "- Descriptor adjectives for label phrases include age, size, number words.\n",
    "- Descriptor adjectives for annotation phrases include situation-specific (`female`, `musical`) words."
   ]
  },
  {
   "cell_type": "markdown",
   "id": "modular-literature",
   "metadata": {},
   "source": [
    "Do annotations tend to use more adjectives than original labels?"
   ]
  },
  {
   "cell_type": "code",
   "execution_count": 47,
   "id": "adjustable-overview",
   "metadata": {
    "scrolled": true
   },
   "outputs": [
    {
     "name": "stdout",
     "output_type": "stream",
     "text": [
      "The original answers have 14.912% descriptor use.\n"
     ]
    }
   ],
   "source": [
    "label_descriptor_use_rate = len(original_answers_with_descriptors) / len(instances)\n",
    "total_annotation_descriptors_combined = sum(len(worker_answers)\n",
    "                                            for instance in instances\n",
    "                                            for worker_answers in instance[\"additional_answers\"])\n",
    "print(f\"The original answers have {label_descriptor_use_rate * 100:.3f}% descriptor use.\")"
   ]
  },
  {
   "cell_type": "code",
   "execution_count": 48,
   "outputs": [
    {
     "name": "stdout",
     "output_type": "stream",
     "text": [
      "The annotations have 8.490% descriptor use.\n"
     ]
    }
   ],
   "source": [
    "annotation_descriptors_combined = sum(len(worker_spans)\n",
    "                                      for instance_spans in annotation_with_descriptors\n",
    "                                      for worker_spans in instance_spans)\n",
    "annotation_descriptor_use_rate = annotation_descriptors_combined / total_annotation_descriptors_combined\n",
    "print(f\"The annotations have {annotation_descriptor_use_rate * 100:.3f}% descriptor use.\")"
   ],
   "metadata": {
    "collapsed": false,
    "pycharm": {
     "name": "#%%\n"
    }
   }
  },
  {
   "cell_type": "markdown",
   "source": [
    "Is this significant?"
   ],
   "metadata": {
    "collapsed": false,
    "pycharm": {
     "name": "#%% md\n"
    }
   }
  },
  {
   "cell_type": "code",
   "execution_count": 49,
   "outputs": [
    {
     "name": "stdout",
     "output_type": "stream",
     "text": [
      "Rate of descriptor use is different with stat=97.282 (p=6.011E-23).\n"
     ]
    }
   ],
   "source": [
    "from scipy.stats import chi2_contingency\n",
    "\n",
    "contingency_table = [\n",
    "    [len(original_answers_with_descriptors), len(instances) - len(original_answers_with_descriptors)],  # true label\n",
    "    [annotation_descriptors_combined,\n",
    "     total_annotation_descriptors_combined - annotation_descriptors_combined],  # annotation label\n",
    "]\n",
    "chi2, p_val, dof, expected = chi2_contingency(contingency_table)\n",
    "print(f\"Rate of descriptor use is different with stat={chi2:.3f} (p={p_val:.3E}).\")"
   ],
   "metadata": {
    "collapsed": false,
    "pycharm": {
     "name": "#%%\n"
    }
   }
  },
  {
   "cell_type": "markdown",
   "id": "british-defense",
   "metadata": {},
   "source": [
    "OK! The labels tend to use descriptors at a significantly higher rate than the annotations."
   ]
  },
  {
   "cell_type": "markdown",
   "id": "brutal-uzbekistan",
   "metadata": {},
   "source": [
    "### POS distribution\n",
    "Let's look at the overall POS distribution in the labels and annotations."
   ]
  },
  {
   "cell_type": "code",
   "execution_count": 50,
   "id": "dominican-circular",
   "metadata": {},
   "outputs": [
    {
     "data": {
      "text/plain": "<Figure size 626.485x432 with 1 Axes>",
      "image/png": "[encoded data removed]"
     },
     "metadata": {
      "needs_background": "light"
     },
     "output_type": "display_data"
    }
   ],
   "source": [
    "pos_df = pd.concat([\n",
    "    pd.DataFrame(pd.Series((t.pos_\n",
    "                            for instance in instances\n",
    "                            for t in instance[\"label_subtree\"] or []), name=\"POS\")).assign(Source=\"Original answers\"),\n",
    "    pd.DataFrame(pd.Series((t.pos_\n",
    "                            for instance in instances\n",
    "                            for worker_spans in instance[\"annotation_subtrees\"]\n",
    "                            for span in worker_spans\n",
    "                            for t in span or []), name=\"POS\")).assign(Source=\"Annotations\"),\n",
    "]).reset_index(drop=True)\n",
    "\n",
    "sns.displot(pos_df, y=\"POS\", hue=\"Source\", discrete=True, stat=\"percent\", common_norm=False, height=6).set(xscale=\"log\")\n",
    "plt.gcf().savefig(\"POS_tags_per_label_type.pdf\", bbox_inches=\"tight\")"
   ]
  },
  {
   "cell_type": "markdown",
   "id": "intended-insider",
   "metadata": {},
   "source": [
    "What are the top words in each category?"
   ]
  },
  {
   "cell_type": "code",
   "execution_count": 51,
   "id": "close-burke",
   "metadata": {},
   "outputs": [],
   "source": [
    "original_answer_pos_word_df = pd.DataFrame(((t.text.lower(), t.pos_)\n",
    "                                            for instance in instances\n",
    "                                            if instance[\"label_subtree\"]\n",
    "                                            for t in instance[\"label_subtree\"]), columns=[\"Word\", \"POS\"])\n",
    "annotation_pos_word_df = pd.DataFrame(((t.text.lower(), t.pos_)\n",
    "                                       for instance in instances\n",
    "                                       for worker_spans in instance[\"annotation_subtrees\"]\n",
    "                                       for span in worker_spans\n",
    "                                       if span is not None\n",
    "                                       for t in span), columns=[\"Word\", \"POS\"])"
   ]
  },
  {
   "cell_type": "code",
   "execution_count": 52,
   "id": "imposed-modem",
   "metadata": {},
   "outputs": [
    {
     "name": "stdout",
     "output_type": "stream",
     "text": [
      "POS tag NOUN\n",
      "Original answer word counts:\n"
     ]
    },
    {
     "data": {
      "text/plain": "man       136\nwoman      66\nperson     65\nboy        46\npeople     45\ngirl       33\ngroup      28\nball       19\nmusic      18\nfront      17\nName: Word, dtype: int64"
     },
     "metadata": {},
     "output_type": "display_data"
    },
    {
     "name": "stdout",
     "output_type": "stream",
     "text": [
      "Annotation word counts:\n"
     ]
    },
    {
     "data": {
      "text/plain": "man       1893\nperson    1321\nwoman      939\ngirl       651\npeople     640\nboy        636\nguy        568\nchild      540\ngroup      438\nkid        383\nName: Word, dtype: int64"
     },
     "metadata": {},
     "output_type": "display_data"
    },
    {
     "name": "stdout",
     "output_type": "stream",
     "text": [
      "POS tag NUM\n",
      "Original answer word counts:\n"
     ]
    },
    {
     "data": {
      "text/plain": "two      50\nthree    10\none       6\nfour      2\nnine      1\n45        1\nName: Word, dtype: int64"
     },
     "metadata": {},
     "output_type": "display_data"
    },
    {
     "name": "stdout",
     "output_type": "stream",
     "text": [
      "Annotation word counts:\n"
     ]
    },
    {
     "data": {
      "text/plain": "two      364\none       85\n2         73\nthree     27\n3         14\nfour      14\n4          7\n1          5\n2000       4\n5          4\nName: Word, dtype: int64"
     },
     "metadata": {},
     "output_type": "display_data"
    },
    {
     "name": "stdout",
     "output_type": "stream",
     "text": [
      "POS tag VERB\n",
      "Original answer word counts:\n"
     ]
    },
    {
     "data": {
      "text/plain": "curling      3\nlit          3\nplaying      2\nhanging      2\ndye          1\nfilling      1\nboxed        1\nshows        1\niron         1\ncrouching    1\nName: Word, dtype: int64"
     },
     "metadata": {},
     "output_type": "display_data"
    },
    {
     "name": "stdout",
     "output_type": "stream",
     "text": [
      "Annotation word counts:\n"
     ]
    },
    {
     "data": {
      "text/plain": "wearing     67\nplaying     24\nsitting     19\ndancing     19\nmoving      17\ndoing       16\ncurling     15\nholding     15\ncovered     13\nstanding    13\nName: Word, dtype: int64"
     },
     "metadata": {},
     "output_type": "display_data"
    },
    {
     "name": "stdout",
     "output_type": "stream",
     "text": [
      "POS tag ADP\n",
      "Original answer word counts:\n"
     ]
    },
    {
     "data": {
      "text/plain": "up          3\nout         1\nlike        1\naboutthe    1\nName: Word, dtype: int64"
     },
     "metadata": {},
     "output_type": "display_data"
    },
    {
     "name": "stdout",
     "output_type": "stream",
     "text": [
      "Annotation word counts:\n"
     ]
    },
    {
     "data": {
      "text/plain": "of      682\nin      194\nwith    102\non       74\nfor      20\nup       19\nto       17\nout      16\nfrom     14\nlike     10\nName: Word, dtype: int64"
     },
     "metadata": {},
     "output_type": "display_data"
    },
    {
     "name": "stdout",
     "output_type": "stream",
     "text": [
      "POS tag PRON\n",
      "Original answer word counts:\n"
     ]
    },
    {
     "data": {
      "text/plain": "his        64\nit         46\nher        46\ntheir      25\nhe         20\nsomeone    19\nthem       18\nshe        10\nthey        7\nhimself     6\nName: Word, dtype: int64"
     },
     "metadata": {},
     "output_type": "display_data"
    },
    {
     "name": "stdout",
     "output_type": "stream",
     "text": [
      "Annotation word counts:\n"
     ]
    },
    {
     "data": {
      "text/plain": "his          1156\nher           876\nsomeone       386\ntheir         270\nit            235\nhe            194\nshe           106\nthem          101\nsomething      93\nhimself        79\nName: Word, dtype: int64"
     },
     "metadata": {},
     "output_type": "display_data"
    },
    {
     "name": "stdout",
     "output_type": "stream",
     "text": [
      "POS tag DET\n",
      "Original answer word counts:\n"
     ]
    },
    {
     "data": {
      "text/plain": "a          964\nthe        186\nan          45\nanother     23\nsome        11\nboth         4\neach         3\nthis         1\nName: Word, dtype: int64"
     },
     "metadata": {},
     "output_type": "display_data"
    },
    {
     "name": "stdout",
     "output_type": "stream",
     "text": [
      "Annotation word counts:\n"
     ]
    },
    {
     "data": {
      "text/plain": "a          17555\nthe         6004\nan          1283\nsome         272\nanother      211\nthis          46\nboth          18\nno            17\nall           16\neach          12\nName: Word, dtype: int64"
     },
     "metadata": {},
     "output_type": "display_data"
    },
    {
     "name": "stdout",
     "output_type": "stream",
     "text": [
      "POS tag ADJ\n",
      "Original answer word counts:\n"
     ]
    },
    {
     "data": {
      "text/plain": "young        47\nlarge        24\nlittle       19\nsmall        14\nwhite         8\nblack         8\nblue          7\nolder         7\nseveral       6\ndifferent     6\nName: Word, dtype: int64"
     },
     "metadata": {},
     "output_type": "display_data"
    },
    {
     "name": "stdout",
     "output_type": "stream",
     "text": [
      "Annotation word counts:\n"
     ]
    },
    {
     "data": {
      "text/plain": "young     494\nlittle    158\nblack     147\nsmall     143\nwhite     141\nother     107\nlarge     106\nblue       84\nred        70\nolder      68\nName: Word, dtype: int64"
     },
     "metadata": {},
     "output_type": "display_data"
    },
    {
     "name": "stdout",
     "output_type": "stream",
     "text": [
      "POS tag PROPN\n",
      "Original answer word counts:\n"
     ]
    },
    {
     "data": {
      "text/plain": "christmas    1\nmel          1\nninja        1\nmutant       1\nteenage      1\ncosby        1\nbill         1\nperosn       1\nframe        1\na            1\nName: Word, dtype: int64"
     },
     "metadata": {},
     "output_type": "display_data"
    },
    {
     "name": "stdout",
     "output_type": "stream",
     "text": [
      "Annotation word counts:\n"
     ]
    },
    {
     "data": {
      "text/plain": "boy          29\nfemale       21\nman          19\nlady         19\nmale         18\nspanish      13\nchristmas    11\nenglish      11\nguy           8\neaster        8\nName: Word, dtype: int64"
     },
     "metadata": {},
     "output_type": "display_data"
    },
    {
     "name": "stdout",
     "output_type": "stream",
     "text": [
      "POS tag PUNCT\n",
      "Original answer word counts:\n"
     ]
    },
    {
     "data": {
      "text/plain": "-    11\nName: Word, dtype: int64"
     },
     "metadata": {},
     "output_type": "display_data"
    },
    {
     "name": "stdout",
     "output_type": "stream",
     "text": [
      "Annotation word counts:\n"
     ]
    },
    {
     "data": {
      "text/plain": "..    138\n-     103\n,      37\n'       5\n.       2\n<       1\n}       1\nName: Word, dtype: int64"
     },
     "metadata": {},
     "output_type": "display_data"
    },
    {
     "name": "stdout",
     "output_type": "stream",
     "text": [
      "POS tag PART\n",
      "Original answer word counts:\n"
     ]
    },
    {
     "data": {
      "text/plain": "'s    9\nName: Word, dtype: int64"
     },
     "metadata": {},
     "output_type": "display_data"
    },
    {
     "name": "stdout",
     "output_type": "stream",
     "text": [
      "Annotation word counts:\n"
     ]
    },
    {
     "data": {
      "text/plain": "to     115\n's     115\nnot      4\nn't      1\n'        1\nName: Word, dtype: int64"
     },
     "metadata": {},
     "output_type": "display_data"
    },
    {
     "name": "stdout",
     "output_type": "stream",
     "text": [
      "POS tag CCONJ\n",
      "Original answer word counts:\n"
     ]
    },
    {
     "data": {
      "text/plain": "and    6\nName: Word, dtype: int64"
     },
     "metadata": {},
     "output_type": "display_data"
    },
    {
     "name": "stdout",
     "output_type": "stream",
     "text": [
      "Annotation word counts:\n"
     ]
    },
    {
     "data": {
      "text/plain": "and    263\nor       3\n&        2\nn        1\n'        1\nName: Word, dtype: int64"
     },
     "metadata": {},
     "output_type": "display_data"
    },
    {
     "name": "stdout",
     "output_type": "stream",
     "text": [
      "POS tag ADV\n",
      "Original answer word counts:\n"
     ]
    },
    {
     "data": {
      "text/plain": "very         4\nextremely    1\nabout        1\nornately     1\nwell         1\nover         1\nindoors      1\ndimly        1\nthen         1\nName: Word, dtype: int64"
     },
     "metadata": {},
     "output_type": "display_data"
    },
    {
     "name": "stdout",
     "output_type": "stream",
     "text": [
      "Annotation word counts:\n"
     ]
    },
    {
     "data": {
      "text/plain": "else       18\nvery       12\nwell        8\non          6\njust        5\naround      4\nback        4\ndown        4\nupside      3\noutside     3\nName: Word, dtype: int64"
     },
     "metadata": {},
     "output_type": "display_data"
    },
    {
     "name": "stdout",
     "output_type": "stream",
     "text": [
      "POS tag SPACE\n",
      "Original answer word counts:\n"
     ]
    },
    {
     "data": {
      "text/plain": "     1\nName: Word, dtype: int64"
     },
     "metadata": {},
     "output_type": "display_data"
    },
    {
     "name": "stdout",
     "output_type": "stream",
     "text": [
      "Annotation word counts:\n"
     ]
    },
    {
     "data": {
      "text/plain": "     2\nName: Word, dtype: int64"
     },
     "metadata": {},
     "output_type": "display_data"
    },
    {
     "name": "stdout",
     "output_type": "stream",
     "text": [
      "POS tag SYM\n",
      "Original answer word counts:\n"
     ]
    },
    {
     "data": {
      "text/plain": "/    1\nName: Word, dtype: int64"
     },
     "metadata": {},
     "output_type": "display_data"
    },
    {
     "name": "stdout",
     "output_type": "stream",
     "text": [
      "Annotation word counts:\n"
     ]
    },
    {
     "data": {
      "text/plain": "/    3\nName: Word, dtype: int64"
     },
     "metadata": {},
     "output_type": "display_data"
    },
    {
     "name": "stdout",
     "output_type": "stream",
     "text": [
      "POS tag SCONJ\n",
      "Original answer word counts:\n"
     ]
    },
    {
     "data": {
      "text/plain": "Series([], Name: Word, dtype: int64)"
     },
     "metadata": {},
     "output_type": "display_data"
    },
    {
     "name": "stdout",
     "output_type": "stream",
     "text": [
      "Annotation word counts:\n"
     ]
    },
    {
     "data": {
      "text/plain": "how      54\nwhile    18\nwhere     4\nwhy       3\nlike      2\nbut       1\nwhen      1\nwith      1\nName: Word, dtype: int64"
     },
     "metadata": {},
     "output_type": "display_data"
    },
    {
     "name": "stdout",
     "output_type": "stream",
     "text": [
      "POS tag AUX\n",
      "Original answer word counts:\n"
     ]
    },
    {
     "data": {
      "text/plain": "Series([], Name: Word, dtype: int64)"
     },
     "metadata": {},
     "output_type": "display_data"
    },
    {
     "name": "stdout",
     "output_type": "stream",
     "text": [
      "Annotation word counts:\n"
     ]
    },
    {
     "data": {
      "text/plain": "is       30\nbeing     8\nare       6\nbe        4\nwas       4\ncan       4\n's        4\ndid       3\nhas       3\ndo        2\nName: Word, dtype: int64"
     },
     "metadata": {},
     "output_type": "display_data"
    },
    {
     "name": "stdout",
     "output_type": "stream",
     "text": [
      "POS tag X\n",
      "Original answer word counts:\n"
     ]
    },
    {
     "data": {
      "text/plain": "Series([], Name: Word, dtype: int64)"
     },
     "metadata": {},
     "output_type": "display_data"
    },
    {
     "name": "stdout",
     "output_type": "stream",
     "text": [
      "Annotation word counts:\n"
     ]
    },
    {
     "data": {
      "text/plain": "]           2\nshim        1\n,           1\nperosn      1\ncompose     1\ndadnce      1\nyounge      1\nla          1\nmacarena    1\noragami     1\nName: Word, dtype: int64"
     },
     "metadata": {},
     "output_type": "display_data"
    },
    {
     "name": "stdout",
     "output_type": "stream",
     "text": [
      "POS tag INTJ\n",
      "Original answer word counts:\n"
     ]
    },
    {
     "data": {
      "text/plain": "Series([], Name: Word, dtype: int64)"
     },
     "metadata": {},
     "output_type": "display_data"
    },
    {
     "name": "stdout",
     "output_type": "stream",
     "text": [
      "Annotation word counts:\n"
     ]
    },
    {
     "data": {
      "text/plain": "em    1\nName: Word, dtype: int64"
     },
     "metadata": {},
     "output_type": "display_data"
    }
   ],
   "source": [
    "for pos in pos_df.POS.unique():\n",
    "    print(f\"POS tag {pos}\")\n",
    "    print(\"Original answer word counts:\")\n",
    "    display(original_answer_pos_word_df[original_answer_pos_word_df[\"POS\"] == pos][\"Word\"].value_counts().head(10))\n",
    "    print(\"Annotation word counts:\")\n",
    "    display(annotation_pos_word_df[annotation_pos_word_df[\"POS\"] == pos][\"Word\"].value_counts().head(10))"
   ]
  },
  {
   "cell_type": "markdown",
   "id": "backed-aspect",
   "metadata": {},
   "source": [
    "### POS tag sequences\n",
    "Let's look at the relative frequency of different tag sequences in the original answers and annotations."
   ]
  },
  {
   "cell_type": "code",
   "execution_count": 53,
   "id": "established-mayor",
   "metadata": {
    "scrolled": true
   },
   "outputs": [
    {
     "data": {
      "text/plain": "<Figure size 698.485x504 with 1 Axes>",
      "image/png": "[encoded data removed]"
     },
     "metadata": {
      "needs_background": "light"
     },
     "output_type": "display_data"
    }
   ],
   "source": [
    "def get_pos_sequence(span: spacy.tokens.Span) -> str:\n",
    "    return \"_\".join(x.pos_ for x in span)\n",
    "\n",
    "\n",
    "pos_sequence_df = pd.concat([\n",
    "    pd.DataFrame(((instance[\"label_subtree\"].text.lower(), get_pos_sequence(instance[\"label_subtree\"]))\n",
    "                  for instance in instances\n",
    "                  if instance[\"label_subtree\"] is not None),\n",
    "                 columns=[\"Word\", \"POS Sequence\"]).assign(Source=\"Original answers\"),\n",
    "    pd.DataFrame(((span.text.lower(), get_pos_sequence(span))\n",
    "                  for instance in instances\n",
    "                  for worker_spans in instance[\"annotation_subtrees\"]\n",
    "                  for span in worker_spans\n",
    "                  if span is not None), columns=[\"Word\", \"POS Sequence\"]).assign(Source=\"Annotations\"),\n",
    "]).reset_index(drop=True)\n",
    "\n",
    "pos_sequence_df[\"Count\"] = pos_sequence_df.groupby(\"POS Sequence\")[\"POS Sequence\"].transform(\"count\")\n",
    "pos_sequence_df = pos_sequence_df.sort_values(\"Count\", ascending=False)\n",
    "\n",
    "top_pos_list = pos_sequence_df.groupby(\"POS Sequence\").count().sort_values(\"Word\", ascending=False).index[:20]\n",
    "pos_sequence_top_df = pos_sequence_df[pos_sequence_df[\"POS Sequence\"].isin(top_pos_list)]\n",
    "\n",
    "sns.displot(pos_sequence_top_df, y=\"POS Sequence\", hue=\"Source\", discrete=True, stat=\"percent\",\n",
    "            height=7, common_norm=False).set(xscale=\"log\")\n",
    "plt.gcf().savefig(\"POS_tag_sequence_per_label_type.pdf\", bbox_inches=\"tight\")"
   ]
  },
  {
   "cell_type": "markdown",
   "id": "systematic-harris",
   "metadata": {},
   "source": [
    "Fewer pronouns for annotations than for labels. Similar levels of adjectives."
   ]
  },
  {
   "cell_type": "markdown",
   "source": [
    "The most frequent words for the different sequences are:"
   ],
   "metadata": {
    "collapsed": false,
    "pycharm": {
     "name": "#%% md\n"
    }
   }
  },
  {
   "cell_type": "code",
   "execution_count": 54,
   "id": "herbal-migration",
   "metadata": {
    "scrolled": true
   },
   "outputs": [
    {
     "name": "stdout",
     "output_type": "stream",
     "text": [
      "Testing the POS sequence DET_NOUN.\n",
      "Original answer word counts:\n",
      "a man         0.125000\n",
      "a person      0.066667\n",
      "a woman       0.058333\n",
      "a group       0.026190\n",
      "a boy         0.022619\n",
      "a girl        0.019048\n",
      "a piece       0.014286\n",
      "a table       0.011905\n",
      "a child       0.011905\n",
      "the camera    0.009524\n",
      "Name: Word, dtype: float64\n",
      "Annotation word counts:\n",
      "a man       0.056135\n",
      "a person    0.050818\n",
      "a woman     0.027468\n",
      "a guy       0.021318\n",
      "a child     0.016366\n",
      "a girl      0.015845\n",
      "a boy       0.015793\n",
      "a group     0.014385\n",
      "a kid       0.014281\n",
      "a lady      0.013864\n",
      "Name: Word, dtype: float64\n",
      "Testing the POS sequence NOUN.\n",
      "Original answer word counts:\n",
      "people      0.119231\n",
      "front       0.065385\n",
      "music       0.034615\n",
      "dirt        0.019231\n",
      "men         0.019231\n",
      "kids        0.019231\n",
      "man         0.019231\n",
      "others      0.015385\n",
      "children    0.015385\n",
      "baskets     0.011538\n",
      "Name: Word, dtype: float64\n",
      "Annotation word counts:\n",
      "people      0.034783\n",
      "man         0.018743\n",
      "kids        0.018394\n",
      "music       0.013338\n",
      "woman       0.012466\n",
      "children    0.011507\n",
      "men         0.011071\n",
      "food        0.008805\n",
      "front       0.008456\n",
      "friends     0.008195\n",
      "Name: Word, dtype: float64\n",
      "Testing the POS sequence DET_ADJ_NOUN.\n",
      "Original answer word counts:\n",
      "a young man      0.075581\n",
      "a young boy      0.046512\n",
      "a little girl    0.029070\n",
      "a young girl     0.023256\n",
      "a little boy     0.023256\n",
      "a large group    0.023256\n",
      "a large crowd    0.017442\n",
      "a young child    0.017442\n",
      "a little baby    0.011628\n",
      "a teenage boy    0.011628\n",
      "Name: Word, dtype: float64\n",
      "Annotation word counts:\n",
      "a young man             0.041812\n",
      "a young boy             0.024390\n",
      "a little girl           0.019910\n",
      "a young girl            0.016426\n",
      "a young woman           0.014435\n",
      "a little boy            0.012942\n",
      "a young child           0.011448\n",
      "a young lady            0.009457\n",
      "a musical instrument    0.008960\n",
      "a small child           0.008462\n",
      "Name: Word, dtype: float64\n",
      "Testing the POS sequence PRON_NOUN.\n",
      "Original answer word counts:\n",
      "her hair         0.043478\n",
      "his head         0.043478\n",
      "their hands      0.026087\n",
      "his hands        0.026087\n",
      "his back         0.026087\n",
      "her hands        0.026087\n",
      "their feet       0.017391\n",
      "their opinion    0.017391\n",
      "her arms         0.017391\n",
      "her hand         0.017391\n",
      "Name: Word, dtype: float64\n",
      "Annotation word counts:\n",
      "his head       0.024936\n",
      "her hair       0.021374\n",
      "his body       0.020356\n",
      "his hands      0.018830\n",
      "her hands      0.017303\n",
      "her hand       0.015776\n",
      "his fingers    0.014758\n",
      "his friend     0.014758\n",
      "his hand       0.013740\n",
      "his house      0.013232\n",
      "Name: Word, dtype: float64\n",
      "Testing the POS sequence DET_NOUN_NOUN.\n",
      "Original answer word counts:\n",
      "a living room          0.025862\n",
      "a garbage truck        0.017241\n",
      "a shopping cart        0.008621\n",
      "the trash can          0.008621\n",
      "a procedure table      0.008621\n",
      "an exercise ball       0.008621\n",
      "a rock song            0.008621\n",
      "a pinball game         0.008621\n",
      "a dance performance    0.008621\n",
      "a healthcare worker    0.008621\n",
      "Name: Word, dtype: float64\n",
      "Annotation word counts:\n",
      "a sewing machine      0.008055\n",
      "the living room       0.006329\n",
      "a living room         0.005754\n",
      "a baby girl           0.005754\n",
      "a board game          0.005754\n",
      "a soccer ball         0.005754\n",
      "a garbage truck       0.005178\n",
      "a swimming pool       0.005178\n",
      "a glass bowl          0.005178\n",
      "a basketball court    0.005178\n",
      "Name: Word, dtype: float64\n",
      "Testing the POS sequence PRON.\n",
      "Original answer word counts:\n",
      "it           0.302632\n",
      "he           0.131579\n",
      "someone      0.125000\n",
      "them         0.118421\n",
      "she          0.065789\n",
      "they         0.046053\n",
      "himself      0.039474\n",
      "something    0.032895\n",
      "her          0.032895\n",
      "him          0.026316\n",
      "Name: Word, dtype: float64\n",
      "Annotation word counts:\n",
      "someone      0.265322\n",
      "it           0.140419\n",
      "he           0.122576\n",
      "she          0.070597\n",
      "them         0.062839\n",
      "himself      0.053530\n",
      "something    0.047324\n",
      "somebody     0.031808\n",
      "him          0.031808\n",
      "her          0.027153\n",
      "Name: Word, dtype: float64\n",
      "Testing the POS sequence NOUN_NOUN.\n",
      "Original answer word counts:\n",
      "computer fans         0.029412\n",
      "sit ups               0.029412\n",
      "lab coat              0.029412\n",
      "para sailing          0.029412\n",
      "golfing techniques    0.029412\n",
      "wrapping paper        0.029412\n",
      "rock climbing         0.029412\n",
      "liquor bottles        0.029412\n",
      "boiling oil           0.029412\n",
      "camo paint            0.029412\n",
      "Name: Word, dtype: float64\n",
      "Annotation word counts:\n",
      "playing cards       0.010269\n",
      "living room         0.008689\n",
      "family members      0.008689\n",
      "hockey players      0.008689\n",
      "computer parts      0.007109\n",
      "water balloons      0.007109\n",
      "belly dancing       0.006319\n",
      "pull ups            0.006319\n",
      "football players    0.006319\n",
      "sign language       0.005529\n",
      "Name: Word, dtype: float64\n",
      "Testing the POS sequence ADJ_NOUN.\n",
      "Original answer word counts:\n",
      "several people     0.063830\n",
      "funny faces        0.021277\n",
      "several layers     0.021277\n",
      "young girl         0.021277\n",
      "little mittens     0.021277\n",
      "several notes      0.021277\n",
      "loud music         0.021277\n",
      "blue jeans         0.021277\n",
      "concrete blocks    0.021277\n",
      "pink yarn          0.021277\n",
      "Name: Word, dtype: float64\n",
      "Annotation word counts:\n",
      "other people     0.020390\n",
      "young men        0.017730\n",
      "young people     0.009752\n",
      "little girl      0.008865\n",
      "facial hair      0.007979\n",
      "slow motion      0.006206\n",
      "sharp objects    0.006206\n",
      "heavy weights    0.006206\n",
      "little kids      0.005319\n",
      "young man        0.005319\n",
      "Name: Word, dtype: float64\n",
      "Testing the POS sequence NUM_NOUN.\n",
      "Original answer word counts:\n",
      "two people       0.133333\n",
      "two boys         0.133333\n",
      "two teams        0.066667\n",
      "two men          0.066667\n",
      "two girls        0.066667\n",
      "two women        0.044444\n",
      "two guys         0.044444\n",
      "three people     0.044444\n",
      "two teenagers    0.044444\n",
      "three men        0.022222\n",
      "Name: Word, dtype: float64\n",
      "Annotation word counts:\n",
      "two people      0.082222\n",
      "two boys        0.071111\n",
      "two kids        0.062222\n",
      "two men         0.051111\n",
      "two girls       0.044444\n",
      "two guys        0.042222\n",
      "two children    0.035556\n",
      "two friends     0.035556\n",
      "two teams       0.028889\n",
      "one side        0.013333\n",
      "Name: Word, dtype: float64\n",
      "Testing the POS sequence PROPN.\n",
      "Original answer word counts:\n",
      "monopoly    0.25\n",
      "mel         0.25\n",
      "english     0.25\n",
      "spanish     0.25\n",
      "Name: Word, dtype: float64\n",
      "Annotation word counts:\n",
      "boy         0.052273\n",
      "lady        0.031818\n",
      "man         0.031818\n",
      "spanish     0.027273\n",
      "english     0.025000\n",
      "scrabble    0.015909\n",
      "guy         0.013636\n",
      "men         0.011364\n",
      "music       0.009091\n",
      "teen        0.009091\n",
      "Name: Word, dtype: float64\n"
     ]
    }
   ],
   "source": [
    "for pos_sequence in top_pos_list[:10]:\n",
    "    print(f\"Testing the POS sequence {pos_sequence}.\")\n",
    "\n",
    "    pos_sequence_filtered_df = pos_sequence_df[pos_sequence_df[\"POS Sequence\"] == pos_sequence]\n",
    "\n",
    "    original_answer_word_counts = pos_sequence_filtered_df[\n",
    "        pos_sequence_filtered_df.Source == \"Original answers\"].Word.value_counts()\n",
    "    original_answer_word_counts /= original_answer_word_counts.sum()\n",
    "    print(f\"Original answer word counts:\\n{original_answer_word_counts.head(10)}\")\n",
    "\n",
    "    annotation_word_counts = pos_sequence_filtered_df[\n",
    "        pos_sequence_filtered_df.Source == \"Annotations\"].Word.value_counts()\n",
    "    annotation_word_counts /= annotation_word_counts.sum()\n",
    "    print(f\"Annotation word counts:\\n{annotation_word_counts.head(10)}\")"
   ]
  },
  {
   "cell_type": "markdown",
   "id": "available-debut",
   "metadata": {},
   "source": [
    "- `PRON`: Annotations tend to use more specific pronoun phrases like `someone` or `something` rather than `it`, `he`, `she`.\n",
    "- `DET_NOUN`: annotations are less gender-biased? Use `person` almost as much as `man`."
   ]
  },
  {
   "cell_type": "markdown",
   "id": "cutting-drama",
   "metadata": {},
   "source": [
    "### Syntactic context\n",
    "Do certain syntactic contexts (e.g. prepositions) tend to attract more or fewer unique answers than others?"
   ]
  },
  {
   "cell_type": "code",
   "execution_count": 55,
   "outputs": [
    {
     "data": {
      "text/plain": "<Figure size 504x504 with 1 Axes>",
      "image/png": "[encoded data removed]"
     },
     "metadata": {
      "needs_background": "light"
     },
     "output_type": "display_data"
    }
   ],
   "source": [
    "dep_df = pd.DataFrame({\"Dependency Type\": (instance[\"label_subtree\"].root.dep_\n",
    "                                           for instance in instances)})\n",
    "\n",
    "dep_df[\"Count\"] = dep_df.groupby(\"Dependency Type\")[\"Dependency Type\"].transform(\"count\")\n",
    "dep_df = dep_df.sort_values(\"Count\", ascending=False)\n",
    "\n",
    "sns.displot(dep_df, y=\"Dependency Type\", discrete=True, stat=\"percent\", height=7).set(xscale=\"log\")\n",
    "plt.gcf().savefig(\"dependency_category_counts.pdf\", bbox_inches=\"tight\")"
   ],
   "metadata": {
    "collapsed": false,
    "pycharm": {
     "name": "#%%\n"
    }
   }
  },
  {
   "cell_type": "markdown",
   "source": [
    "Examples among the top:"
   ],
   "metadata": {
    "collapsed": false,
    "pycharm": {
     "name": "#%% md\n"
    }
   }
  },
  {
   "cell_type": "code",
   "execution_count": 56,
   "id": "addressed-extent",
   "metadata": {
    "scrolled": true
   },
   "outputs": [
    {
     "name": "stdout",
     "output_type": "stream",
     "text": [
      "sample data for dep = pobj\n",
      "Caption: 'A couple of people on stage playing music while in _____ of other people.'. Original answer: <front>\n",
      "Caption: 'A stainless steel bowl of _____ is twisted in time to music, a hand reaches for a bite of fruit which a face eats and the face's body appears holding the bowl of fruit.'. Original answer: <cut up fruit>\n",
      "Caption: 'Two girls are standing on _____ competing in a fencing dual.'. Original answer: <a mat>\n",
      "Caption: 'A group of performers beat on _____ on stage.'. Original answer: <their drums>\n",
      "Caption: 'An old man is outside hammering nails into _____.'. Original answer: <a stone block>\n",
      "\n",
      "sample data for dep = nsubj\n",
      "Caption: '_____ are dancing in the same fashion in unison with one another.'. Original answer: <Two boys>\n",
      "Caption: '_____ laying down massages another with her feet while the other asks her to continue.'. Original answer: <A woman>\n",
      "Caption: '_____ drops weight that he just clean and jerked.'. Original answer: <A man>\n",
      "Caption: '_____ is braiding the hair on the side of her head.'. Original answer: <A girl>\n",
      "Caption: '_____ with a bunch of money is counting one dollar bills.'. Original answer: <A man>\n",
      "\n",
      "sample data for dep = dobj\n",
      "Caption: 'In a gym with someone spotting him, a man is lifting _____ performing squats in a squat rack.'. Original answer: <weights>\n",
      "Caption: 'A man stands on a jetski and rides _____ along the water then waves his hand in the air and speeds up.'. Original answer: <it>\n",
      "Caption: 'Several people engage in a competition to stomp _____ on a patio.'. Original answer: <something>\n",
      "Caption: 'A young man pretends to play the guitar and hums and nods _____.'. Original answer: <his head>\n",
      "Caption: 'Small children are picking up easter eggs and placing _____ into a basket.'. Original answer: <them>\n",
      "\n",
      "sample data for dep = ROOT\n",
      "Caption: '_____ that describes and shows how to swim under water.'. Original answer: <A video>\n",
      "Caption: '_____ making funny expressions in a video with different visual effects.'. Original answer: <Two girls>\n",
      "Caption: '_____ of an ad where a man plays street fighter in a portable console.'. Original answer: <A timelapse>\n",
      "Caption: '_____ in a break in a USA fencing match.'. Original answer: <Two men>\n",
      "Caption: '_____ using all of his oxygen in attempts to blow up a red balloon.'. Original answer: <A man>\n",
      "\n",
      "sample data for dep = conj\n",
      "Caption: 'A man and _____ express happiness as they ride a sleigh down a hill.'. Original answer: <a boy>\n",
      "Caption: 'A man speaks and there is a wooden box on a table with a handle and _____.'. Original answer: <about nine game pieces>\n",
      "Caption: 'A man is drinking beer and _____, one after the other in a bar room.'. Original answer: <hard liquor>\n",
      "Caption: 'Four men and _____ are dancing in front of others.'. Original answer: <a women>\n",
      "Caption: 'A boy looking at manuals and _____.'. Original answer: <batman comic books>\n",
      "\n"
     ]
    }
   ],
   "source": [
    "for dep in dep_df[\"Dependency Type\"].value_counts().index[:5]:\n",
    "    print(f\"sample data for dep = {dep}\")\n",
    "\n",
    "    i = 0\n",
    "    for instance in instances:\n",
    "        if instance[\"label_subtree\"].root.dep_ == dep:\n",
    "            print(f\"Caption: '{instance['masked_caption']}'. Original answer: <{instance['label']}>\")\n",
    "            i += 1\n",
    "            if i == 5:\n",
    "                break\n",
    "    print()"
   ]
  },
  {
   "cell_type": "markdown",
   "source": [
    "### Dependency and the number of annotations per annotators"
   ],
   "metadata": {
    "collapsed": false,
    "pycharm": {
     "name": "#%% md\n"
    }
   }
  },
  {
   "cell_type": "code",
   "execution_count": 57,
   "outputs": [
    {
     "data": {
      "text/plain": "<Figure size 504x504 with 1 Axes>",
      "image/png": "[encoded data removed]"
     },
     "metadata": {
      "needs_background": "light"
     },
     "output_type": "display_data"
    }
   ],
   "source": [
    "unique_answers_per_annotator_gen = (sum(len(worker_answers)\n",
    "                                        for worker_answers in instance[\"annotations_norm\"]) / len(\n",
    "    instance[\"annotations_norm\"])\n",
    "                                    for instance in valid_instances)\n",
    "mean_annotations_per_annotator_df = pd.DataFrame({\"Unique answers per annotator\": unique_answers_per_annotator_gen,\n",
    "                                                  \"Dependency Type\": (instance[\"label_subtree\"].root.dep_\n",
    "                                                                      for instance in valid_instances)},\n",
    "                                                 index=[instance[\"id\"] for instance in valid_instances])\n",
    "\n",
    "sns.catplot(data=mean_annotations_per_annotator_df, x=\"Unique answers per annotator\", y=\"Dependency Type\", color=\"blue\",\n",
    "            order=dep_df.groupby(\"Dependency Type\").size().sort_values(ascending=False).index, kind=\"box\", height=7)\n",
    "plt.gcf().savefig(\"caption_annotation_counts_by_dependency_type.pdf\", bbox_inches=\"tight\")"
   ],
   "metadata": {
    "collapsed": false,
    "pycharm": {
     "name": "#%%\n"
    }
   }
  },
  {
   "cell_type": "markdown",
   "id": "three-writing",
   "metadata": {},
   "source": [
    "Labels that appear after prepositions (`pobj`) and as direct objects (`dobj`) attract slightly fewer unique annotations than labels that appear as the subjects (`nsubj`) and in compound phrases (`compound`)."
   ]
  },
  {
   "cell_type": "markdown",
   "source": [
    "What's the agreement based on the dependency type?"
   ],
   "metadata": {
    "collapsed": false,
    "pycharm": {
     "name": "#%% md\n"
    }
   }
  },
  {
   "cell_type": "code",
   "execution_count": 58,
   "outputs": [
    {
     "data": {
      "text/plain": "<seaborn.axisgrid.FacetGrid at 0x7f32ad10f490>"
     },
     "execution_count": 58,
     "metadata": {},
     "output_type": "execute_result"
    },
    {
     "data": {
      "text/plain": "<Figure size 504x504 with 1 Axes>",
      "image/png": "[encoded data removed]"
     },
     "metadata": {
      "needs_background": "light"
     },
     "output_type": "display_data"
    }
   ],
   "source": [
    "sns.catplot(data=mean_annotations_per_annotator_df.join(f1_scores_inter), x=\"F1\", y=\"Dependency Type\", color=\"blue\",\n",
    "            order=dep_df.groupby(\"Dependency Type\").size().sort_values(ascending=False).index, kind=\"bar\", height=7)"
   ],
   "metadata": {
    "collapsed": false,
    "pycharm": {
     "name": "#%%\n"
    }
   }
  },
  {
   "cell_type": "markdown",
   "id": "rotary-louisville",
   "metadata": {},
   "source": [
    "## Assess gender bias\n",
    "Looking at the top-N words in different categories, we see that there may be cases where \"male\" words may be more frequent than \"female\" words.\n",
    "\n",
    "Let's try to quantify this more."
   ]
  },
  {
   "cell_type": "code",
   "execution_count": 59,
   "id": "hydraulic-valuation",
   "metadata": {
    "scrolled": true
   },
   "outputs": [
    {
     "name": "stderr",
     "output_type": "stream",
     "text": [
      "[nltk_data] Downloading package omw-1.4 to\n",
      "[nltk_data]     /usr/local/share/nltk_data...\n",
      "[nltk_data]   Package omw-1.4 is already up-to-date!\n"
     ]
    }
   ],
   "source": [
    "import nltk\n",
    "from nltk import WordNetLemmatizer\n",
    "\n",
    "nltk.download(\"omw-1.4\")\n",
    "\n",
    "lemmatizer = WordNetLemmatizer()\n",
    "word_tokenizer = WordPunctTokenizer()\n",
    "\n",
    "for instance in instances:\n",
    "    instance[\"label_lemmas\"] = [lemmatizer.lemmatize(t) for t in tokenizer.tokenize(instance[\"label_norm\"])]\n",
    "    instance[\"flat_annotation_lemmas\"] = [lemmatizer.lemmatize(t)\n",
    "                                          for worker_answers in instance[\"annotations_norm\"]\n",
    "                                          for answer in worker_answers\n",
    "                                          for t in tokenizer.tokenize(answer)]"
   ]
  },
  {
   "cell_type": "code",
   "execution_count": 60,
   "id": "solar-brick",
   "metadata": {},
   "outputs": [],
   "source": [
    "male_words = {\"male\", \"man\", \"men\", \"boy\", \"guy\", \"his\", \"himself\", \"he\", \"him\", \"brother\", \"father\", \"son\"}\n",
    "female_words = {\"woman\", \"girl\", \"lady\", \"her\", \"hers\", \"herself\", \"she\", \"female\", \"sister\", \"mother\", \"daughter\"}\n",
    "neutral_words = {\"person\", \"people\", \"baby\", \"child\", \"children\", \"kid\", \"adult\", \"human\", \"parent\", \"sibling\"}"
   ]
  },
  {
   "cell_type": "markdown",
   "source": [
    "### Get male/female word counts"
   ],
   "metadata": {
    "collapsed": false,
    "pycharm": {
     "name": "#%% md\n"
    }
   }
  },
  {
   "cell_type": "code",
   "execution_count": 61,
   "id": "together-nicholas",
   "metadata": {},
   "outputs": [],
   "source": [
    "original_answer_total_word_counts = pd.Series(\n",
    "    word for instance in instances for word in instance[\"label_lemmas\"]).value_counts()\n",
    "annotation_total_word_counts = pd.Series(\n",
    "    word for instance in instances for word in instance[\"flat_annotation_lemmas\"]).value_counts()\n",
    "n_original_answer_total_words = original_answer_total_word_counts.sum()\n",
    "n_annotation_total_words = annotation_total_word_counts.sum()"
   ]
  },
  {
   "cell_type": "code",
   "execution_count": 62,
   "id": "modern-journalism",
   "metadata": {
    "scrolled": true
   },
   "outputs": [
    {
     "name": "stdout",
     "output_type": "stream",
     "text": [
      "Word set male:\n",
      "Original answer word = 0.109%\n",
      "Annotation word = 0.092%\n",
      "\n",
      "Word set female:\n",
      "Original answer word = 0.062%\n",
      "Annotation word = 0.059%\n",
      "\n",
      "Word set neutral:\n",
      "Original answer word = 0.060%\n",
      "Annotation word = 0.067%\n",
      "\n"
     ]
    }
   ],
   "source": [
    "original_answer_vocab = {y for x in instances for y in x[\"label_lemmas\"]}\n",
    "annotation_vocab = {y for x in instances for y in x[\"flat_annotation_lemmas\"]}\n",
    "\n",
    "for word_set_name, word_set in zip([\"male\", \"female\", \"neutral\"], [male_words, female_words, neutral_words]):\n",
    "    print(f\"Word set {word_set_name}:\")\n",
    "    original_answer_word_pct = original_answer_total_word_counts.loc[\n",
    "                                   list(word_set & original_answer_vocab)].sum() / n_original_answer_total_words\n",
    "    annotation_word_pct = annotation_total_word_counts.loc[\n",
    "                              list(word_set & annotation_vocab)].sum() / n_annotation_total_words\n",
    "    print(f\"Original answer word = {original_answer_word_pct:1.3f}%\")\n",
    "    print(f\"Annotation word = {annotation_word_pct:1.3f}%\")\n",
    "    print()"
   ]
  }
 ],
 "metadata": {
  "kernelspec": {
   "display_name": "Python 3",
   "language": "python",
   "name": "python3"
  },
  "language_info": {
   "codemirror_mode": {
    "name": "ipython",
    "version": 3
   },
   "file_extension": ".py",
   "mimetype": "text/x-python",
   "name": "python",
   "nbconvert_exporter": "python",
   "pygments_lexer": "ipython3",
   "version": "3.8.5"
  }
 },
 "nbformat": 4,
 "nbformat_minor": 5
}