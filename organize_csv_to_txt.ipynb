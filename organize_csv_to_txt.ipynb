{
 "cells": [
  {
   "cell_type": "code",
   "execution_count": 21,
   "metadata": {},
   "outputs": [],
   "source": [
    "import pandas as pd\n",
    "import numpy as np\n",
    "\n",
    "QuestionNumber = 5  # question per page"
   ]
  },
  {
   "cell_type": "markdown",
   "metadata": {},
   "source": [
    "## Functions"
   ]
  },
  {
   "cell_type": "code",
   "execution_count": 22,
   "metadata": {},
   "outputs": [],
   "source": [
    "def arrange_answers(answers):    # organize answers in one instance\n",
    "    arranged_answers =[[] for _ in range(QuestionNumber)]\n",
    "    comment = \"\"\n",
    "    for name in answers.keys():\n",
    "        if \"less-2-checkbox\" in name:\n",
    "            continue\n",
    "        answer = answers[name].strip().lower()    # remove sapce & convert to lower\n",
    "        for i in range(QuestionNumber):\n",
    "            if \"answer\"+str(i+1)+\"-\" in name:     # belong to question i\n",
    "                arranged_answers[i].append(answer)\n",
    "            if \"in-answer-box\"+str(i+1) in name:\n",
    "                arranged_answers[i].append(answer)\n",
    "            if name == \"comments\":\n",
    "                comment = answer\n",
    "    return [sorted(set(t), key=t.index) for t in  arranged_answers],comment # remove repeated answer # keep the answer order\n"
   ]
  },
  {
   "cell_type": "code",
   "execution_count": 25,
   "metadata": {},
   "outputs": [],
   "source": [
    "# organize answers\n",
    "batch_result = pd.read_csv(\"Batch_4282865_batch_results.csv\")\n",
    "hit_ques_stdans_video_time_answers_dict = dict()\n",
    "comments = []\n",
    "\n",
    "lasthitid = \"\"\n",
    "for ri, (index, row) in enumerate(batch_result.iterrows()):\n",
    "    chitid = row[\"HITId\"]\n",
    "    if chitid != lasthitid:\n",
    "        hit_ques_stdans_video_time_answers_dict[chitid] = [dict() for _ in range(5)]\n",
    "        returned_answers = row[\"Answer.taskAnswers\"]\n",
    "        canswers,comment = arrange_answers(eval(returned_answers)[0])\n",
    "        if comment != \"\":\n",
    "            comments.append(comment)\n",
    "        for ind in range(5):\n",
    "            hit_ques_stdans_video_time_answers_dict[chitid][ind][\"question\"] = row[\"Input.question\"+str(ind+1)]\n",
    "            hit_ques_stdans_video_time_answers_dict[chitid][ind][\"video\"] = \"https://www.youtube.com/watch?v=\"+ row[\"Input.video\"+str(ind+1)+\"_id\"]\n",
    "            hit_ques_stdans_video_time_answers_dict[chitid][ind][\"video_start_time\"] = row[\"Input.video\"+str(ind+1)+\"_start_time\"]\n",
    "            hit_ques_stdans_video_time_answers_dict[chitid][ind][\"video_end_time\"] = row[\"Input.video\"+str(ind+1)+\"_end_time\"]\n",
    "            hit_ques_stdans_video_time_answers_dict[chitid][ind][\"std_answer\"] = row[\"Input.label\"+str(ind+1)]\n",
    "            hit_ques_stdans_video_time_answers_dict[chitid][ind][\"answers\"] = [canswers[ind]]\n",
    "        lasthitid = chitid\n",
    "    else:\n",
    "        canswers,comment = arrange_answers(eval(row[\"Answer.taskAnswers\"])[0])\n",
    "        if comment != \"\":\n",
    "            comments.append(comment)\n",
    "        for ind in range(5):\n",
    "            hit_ques_stdans_video_time_answers_dict[chitid][ind][\"answers\"].append(canswers[ind])\n",
    "        "
   ]
  },
  {
   "cell_type": "code",
   "execution_count": 26,
   "metadata": {},
   "outputs": [],
   "source": [
    "# write to file\n",
    "with open(\"batch4(4282865)-val-1-20-results.txt\",\"w\") as f:\n",
    "    for hit in hit_ques_stdans_video_time_answers_dict.values():\n",
    "        for ques in hit:\n",
    "            f.write(\"{}\\n{}\\nvideo time: {} {}\\nstd_ans: {}\\n\\n\"\n",
    "                   .format(ques[\"question\"],ques[\"video\"],ques[\"video_start_time\"],\n",
    "                           ques[\"video_end_time\"],ques[\"std_answer\"]))\n",
    "            for ans in ques[\"answers\"]:\n",
    "                f.write(str(ans)+\"\\n\")\n",
    "            f.write(\"\\n>>>>>>>>>>>>>>>>>>>>>>>>>>>>>>>>>>>>>>>>>>>>>>>>>>>>>>>>>\\n\\n\")\n",
    "    f.write(\"Comments:\\n\")\n",
    "    for comment in comments:\n",
    "        f.write(comment)\n",
    "        f.write(\"\\n\")"
   ]
  }
 ],
 "metadata": {
  "kernelspec": {
   "display_name": "Python 3",
   "language": "python",
   "name": "python3"
  },
  "language_info": {
   "codemirror_mode": {
    "name": "ipython",
    "version": 3
   },
   "file_extension": ".py",
   "mimetype": "text/x-python",
   "name": "python",
   "nbconvert_exporter": "python",
   "pygments_lexer": "ipython3",
   "version": "3.6.4"
  }
 },
 "nbformat": 4,
 "nbformat_minor": 4
}
