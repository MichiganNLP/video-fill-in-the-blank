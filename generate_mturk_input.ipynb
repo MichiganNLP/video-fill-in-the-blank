{
 "cells": [
  {
   "cell_type": "code",
   "execution_count": 1,
   "metadata": {},
   "outputs": [],
   "source": [
    "import pandas as pd\n",
    "\n",
    "NeedCount = 10"
   ]
  },
  {
   "cell_type": "code",
   "execution_count": 2,
   "metadata": {},
   "outputs": [],
   "source": [
    "# read files\n",
    "with open(\"used_lines.txt\", \"r\") as f:\n",
    "    used_lines = eval(f.readline())\n",
    "    \n",
    "val_csv = pd.read_csv(\"val.csv\")"
   ]
  },
  {
   "cell_type": "code",
   "execution_count": 3,
   "metadata": {},
   "outputs": [],
   "source": [
    "need_count = NeedCount\n",
    "need_lines = []\n",
    "\n",
    "for ind in range(len(val_csv)):  # select samples\n",
    "    if need_count <= 0: break\n",
    "    elif ind not in used_lines:\n",
    "        need_lines.append(ind)\n",
    "        need_count -= 1\n",
    "\n",
    "need_line_groups = [need_lines[k*5:(k+1)*5] for k in range(len(need_lines)//5)]  # 5 samples per instance"
   ]
  },
  {
   "cell_type": "code",
   "execution_count": 4,
   "metadata": {},
   "outputs": [],
   "source": [
    "mturk_dict = {\"video1_id\":[],\"video2_id\":[],\"video3_id\":[],\"video4_id\":[],\"video5_id\":[],\n",
    "             \"question1\":[],\"question2\":[],\"question3\":[],\"question4\":[],\"question5\":[],\n",
    "             \"video1_start_time\":[],\"video2_start_time\":[],\"video3_start_time\":[],\"video4_start_time\":[],\"video5_start_time\":[],\n",
    "             \"video1_end_time\":[],\"video2_end_time\":[],\"video3_end_time\":[],\"video4_end_time\":[],\"video5_end_time\":[],\n",
    "             \"label1\":[],\"label2\":[],\"label3\":[],\"label4\":[],\"label5\":[]}"
   ]
  },
  {
   "cell_type": "code",
   "execution_count": 5,
   "metadata": {},
   "outputs": [],
   "source": [
    "for line_group in need_line_groups:\n",
    "    for i in range(5):\n",
    "        mturk_dict[\"video\"+str(i+1)+\"_id\"].append(val_csv.iloc[line_group[i]][\"videoID\"][:-14])\n",
    "        mturk_dict[\"video\"+str(i+1)+\"_start_time\"].append(int(val_csv.iloc[line_group[i]][\"videoID\"][-13:-7]))\n",
    "        mturk_dict[\"video\"+str(i+1)+\"_end_time\"].append(int(val_csv.iloc[line_group[i]][\"videoID\"][-6:]))\n",
    "        mturk_dict[\"question\"+str(i+1)].append(val_csv.iloc[line_group[i]][\"masked caption\"].\n",
    "                                               replace(\"<extra_id_0>\",\"[MASK]\"))\n",
    "        mturk_dict[\"label\"+str(i+1)].append(val_csv.iloc[line_group[i]][\"label\"])"
   ]
  },
  {
   "cell_type": "code",
   "execution_count": 6,
   "metadata": {},
   "outputs": [],
   "source": [
    "pd.DataFrame(mturk_dict).to_csv(\"VATEX-first-batch-val-1-10.csv\",index=False)"
   ]
  },
  {
   "cell_type": "code",
   "execution_count": 7,
   "metadata": {},
   "outputs": [],
   "source": [
    "# used_lines[\"val\"].extend(need_lines)\n",
    "# with open(\"used_lines.txt\",\"w\") as f:\n",
    "#     f.write(str(used_lines))"
   ]
  }
 ],
 "metadata": {
  "kernelspec": {
   "display_name": "Python 3",
   "language": "python",
   "name": "python3"
  },
  "language_info": {
   "codemirror_mode": {
    "name": "ipython",
    "version": 3
   },
   "file_extension": ".py",
   "mimetype": "text/x-python",
   "name": "python",
   "nbconvert_exporter": "python",
   "pygments_lexer": "ipython3",
   "version": "3.8.3"
  }
 },
 "nbformat": 4,
 "nbformat_minor": 4
}
